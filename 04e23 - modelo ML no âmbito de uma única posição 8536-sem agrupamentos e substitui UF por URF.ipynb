{
 "cells": [
  {
   "cell_type": "code",
   "execution_count": 1,
   "metadata": {},
   "outputs": [],
   "source": [
    "import pandas as pd\n",
    "import numpy as np"
   ]
  },
  {
   "cell_type": "code",
   "execution_count": 2,
   "metadata": {},
   "outputs": [],
   "source": [
    "# fazendo a leitura da base enriquecida, trabalhada na etapa anterior\n",
    "df = pd.read_csv(\"base_enriquecida_codigos\")"
   ]
  },
  {
   "cell_type": "code",
   "execution_count": 3,
   "metadata": {},
   "outputs": [
    {
     "data": {
      "text/html": [
       "<div>\n",
       "<style scoped>\n",
       "    .dataframe tbody tr th:only-of-type {\n",
       "        vertical-align: middle;\n",
       "    }\n",
       "\n",
       "    .dataframe tbody tr th {\n",
       "        vertical-align: top;\n",
       "    }\n",
       "\n",
       "    .dataframe thead th {\n",
       "        text-align: right;\n",
       "    }\n",
       "</style>\n",
       "<table border=\"1\" class=\"dataframe\">\n",
       "  <thead>\n",
       "    <tr style=\"text-align: right;\">\n",
       "      <th></th>\n",
       "      <th>ANO-MES</th>\n",
       "      <th>CO_NCM</th>\n",
       "      <th>CO_UNID</th>\n",
       "      <th>CO_PAIS</th>\n",
       "      <th>SG_UF_NCM</th>\n",
       "      <th>CO_VIA</th>\n",
       "      <th>CO_URF</th>\n",
       "      <th>QT_ESTAT</th>\n",
       "      <th>KG_LIQUIDO</th>\n",
       "      <th>VL_FOB</th>\n",
       "      <th>câmbio_mês_atual</th>\n",
       "      <th>câmbio_mês_anterior</th>\n",
       "    </tr>\n",
       "  </thead>\n",
       "  <tbody>\n",
       "    <tr>\n",
       "      <th>0</th>\n",
       "      <td>2019-12</td>\n",
       "      <td>85044021</td>\n",
       "      <td>11</td>\n",
       "      <td>249</td>\n",
       "      <td>SP</td>\n",
       "      <td>4</td>\n",
       "      <td>817700</td>\n",
       "      <td>53</td>\n",
       "      <td>44</td>\n",
       "      <td>8263</td>\n",
       "      <td>4.108924</td>\n",
       "      <td>4.154725</td>\n",
       "    </tr>\n",
       "    <tr>\n",
       "      <th>1</th>\n",
       "      <td>2019-12</td>\n",
       "      <td>85183000</td>\n",
       "      <td>11</td>\n",
       "      <td>160</td>\n",
       "      <td>GO</td>\n",
       "      <td>4</td>\n",
       "      <td>817600</td>\n",
       "      <td>23734</td>\n",
       "      <td>1621</td>\n",
       "      <td>6987</td>\n",
       "      <td>4.108924</td>\n",
       "      <td>4.154725</td>\n",
       "    </tr>\n",
       "    <tr>\n",
       "      <th>2</th>\n",
       "      <td>2019-12</td>\n",
       "      <td>39263000</td>\n",
       "      <td>10</td>\n",
       "      <td>23</td>\n",
       "      <td>SP</td>\n",
       "      <td>1</td>\n",
       "      <td>817800</td>\n",
       "      <td>3951</td>\n",
       "      <td>3951</td>\n",
       "      <td>88311</td>\n",
       "      <td>4.108924</td>\n",
       "      <td>4.154725</td>\n",
       "    </tr>\n",
       "    <tr>\n",
       "      <th>3</th>\n",
       "      <td>2019-12</td>\n",
       "      <td>38249929</td>\n",
       "      <td>10</td>\n",
       "      <td>493</td>\n",
       "      <td>SP</td>\n",
       "      <td>1</td>\n",
       "      <td>817800</td>\n",
       "      <td>19540</td>\n",
       "      <td>19540</td>\n",
       "      <td>65812</td>\n",
       "      <td>4.108924</td>\n",
       "      <td>4.154725</td>\n",
       "    </tr>\n",
       "    <tr>\n",
       "      <th>4</th>\n",
       "      <td>2019-12</td>\n",
       "      <td>34021300</td>\n",
       "      <td>10</td>\n",
       "      <td>493</td>\n",
       "      <td>BA</td>\n",
       "      <td>1</td>\n",
       "      <td>517800</td>\n",
       "      <td>34400</td>\n",
       "      <td>34400</td>\n",
       "      <td>119356</td>\n",
       "      <td>4.108924</td>\n",
       "      <td>4.154725</td>\n",
       "    </tr>\n",
       "    <tr>\n",
       "      <th>...</th>\n",
       "      <td>...</td>\n",
       "      <td>...</td>\n",
       "      <td>...</td>\n",
       "      <td>...</td>\n",
       "      <td>...</td>\n",
       "      <td>...</td>\n",
       "      <td>...</td>\n",
       "      <td>...</td>\n",
       "      <td>...</td>\n",
       "      <td>...</td>\n",
       "      <td>...</td>\n",
       "      <td>...</td>\n",
       "    </tr>\n",
       "    <tr>\n",
       "      <th>1764428</th>\n",
       "      <td>2019-08</td>\n",
       "      <td>85365090</td>\n",
       "      <td>11</td>\n",
       "      <td>271</td>\n",
       "      <td>SP</td>\n",
       "      <td>4</td>\n",
       "      <td>817600</td>\n",
       "      <td>11</td>\n",
       "      <td>157</td>\n",
       "      <td>4412</td>\n",
       "      <td>4.019382</td>\n",
       "      <td>3.778713</td>\n",
       "    </tr>\n",
       "    <tr>\n",
       "      <th>1764429</th>\n",
       "      <td>2019-08</td>\n",
       "      <td>30043918</td>\n",
       "      <td>10</td>\n",
       "      <td>767</td>\n",
       "      <td>SP</td>\n",
       "      <td>4</td>\n",
       "      <td>817600</td>\n",
       "      <td>225</td>\n",
       "      <td>225</td>\n",
       "      <td>1216801</td>\n",
       "      <td>4.019382</td>\n",
       "      <td>3.778713</td>\n",
       "    </tr>\n",
       "    <tr>\n",
       "      <th>1764430</th>\n",
       "      <td>2019-08</td>\n",
       "      <td>90189099</td>\n",
       "      <td>11</td>\n",
       "      <td>87</td>\n",
       "      <td>SP</td>\n",
       "      <td>1</td>\n",
       "      <td>817800</td>\n",
       "      <td>5033</td>\n",
       "      <td>178</td>\n",
       "      <td>22889</td>\n",
       "      <td>4.019382</td>\n",
       "      <td>3.778713</td>\n",
       "    </tr>\n",
       "    <tr>\n",
       "      <th>1764431</th>\n",
       "      <td>2019-08</td>\n",
       "      <td>84123900</td>\n",
       "      <td>11</td>\n",
       "      <td>764</td>\n",
       "      <td>PA</td>\n",
       "      <td>4</td>\n",
       "      <td>817600</td>\n",
       "      <td>1</td>\n",
       "      <td>83</td>\n",
       "      <td>7641</td>\n",
       "      <td>4.019382</td>\n",
       "      <td>3.778713</td>\n",
       "    </tr>\n",
       "    <tr>\n",
       "      <th>1764432</th>\n",
       "      <td>2019-08</td>\n",
       "      <td>85269200</td>\n",
       "      <td>11</td>\n",
       "      <td>776</td>\n",
       "      <td>SP</td>\n",
       "      <td>4</td>\n",
       "      <td>817600</td>\n",
       "      <td>2</td>\n",
       "      <td>0</td>\n",
       "      <td>119</td>\n",
       "      <td>4.019382</td>\n",
       "      <td>3.778713</td>\n",
       "    </tr>\n",
       "  </tbody>\n",
       "</table>\n",
       "<p>1764433 rows × 12 columns</p>\n",
       "</div>"
      ],
      "text/plain": [
       "         ANO-MES    CO_NCM  CO_UNID  CO_PAIS SG_UF_NCM  CO_VIA  CO_URF  \\\n",
       "0        2019-12  85044021       11      249        SP       4  817700   \n",
       "1        2019-12  85183000       11      160        GO       4  817600   \n",
       "2        2019-12  39263000       10       23        SP       1  817800   \n",
       "3        2019-12  38249929       10      493        SP       1  817800   \n",
       "4        2019-12  34021300       10      493        BA       1  517800   \n",
       "...          ...       ...      ...      ...       ...     ...     ...   \n",
       "1764428  2019-08  85365090       11      271        SP       4  817600   \n",
       "1764429  2019-08  30043918       10      767        SP       4  817600   \n",
       "1764430  2019-08  90189099       11       87        SP       1  817800   \n",
       "1764431  2019-08  84123900       11      764        PA       4  817600   \n",
       "1764432  2019-08  85269200       11      776        SP       4  817600   \n",
       "\n",
       "         QT_ESTAT  KG_LIQUIDO   VL_FOB  câmbio_mês_atual  câmbio_mês_anterior  \n",
       "0              53          44     8263          4.108924             4.154725  \n",
       "1           23734        1621     6987          4.108924             4.154725  \n",
       "2            3951        3951    88311          4.108924             4.154725  \n",
       "3           19540       19540    65812          4.108924             4.154725  \n",
       "4           34400       34400   119356          4.108924             4.154725  \n",
       "...           ...         ...      ...               ...                  ...  \n",
       "1764428        11         157     4412          4.019382             3.778713  \n",
       "1764429       225         225  1216801          4.019382             3.778713  \n",
       "1764430      5033         178    22889          4.019382             3.778713  \n",
       "1764431         1          83     7641          4.019382             3.778713  \n",
       "1764432         2           0      119          4.019382             3.778713  \n",
       "\n",
       "[1764433 rows x 12 columns]"
      ]
     },
     "execution_count": 3,
     "metadata": {},
     "output_type": "execute_result"
    }
   ],
   "source": [
    "df"
   ]
  },
  {
   "cell_type": "markdown",
   "metadata": {},
   "source": [
    "###### Checando posições NCM recorrentes"
   ]
  },
  {
   "cell_type": "markdown",
   "metadata": {},
   "source": [
    "Por meio do Jupyer Notebook \"03_análises_diversas_e_representações_gráficas - PARTE 01\", constata-se que a maior quantidade de mercadoria importada classifica-se na posição 8532. De todo modo, para fins de implementação do modelo, entende-se que é desejável não apenas um código que tenha sido importado em quantidade, mas, sobretudo, que tenha sido recorrente. Segue, portanto, consulta à posição da NCM em que os códigos NCM foram mais recorrentes."
   ]
  },
  {
   "cell_type": "code",
   "execution_count": 4,
   "metadata": {},
   "outputs": [],
   "source": [
    "# testa capítulos mais recorrentes\n",
    "df[\"POSIÇÃO_NCM\"] = df[\"CO_NCM\"].astype(str).str[:4]"
   ]
  },
  {
   "cell_type": "code",
   "execution_count": 5,
   "metadata": {},
   "outputs": [
    {
     "data": {
      "text/plain": [
       "8708    51461\n",
       "8536    43444\n",
       "8481    36563\n",
       "8483    35341\n",
       "7318    34623\n",
       "        ...  \n",
       "4404        1\n",
       "5069        1\n",
       "6012        1\n",
       "3019        1\n",
       "5079        1\n",
       "Name: POSIÇÃO_NCM, Length: 1263, dtype: int64"
      ]
     },
     "execution_count": 5,
     "metadata": {},
     "output_type": "execute_result"
    }
   ],
   "source": [
    "df[\"POSIÇÃO_NCM\"].value_counts()"
   ]
  },
  {
   "cell_type": "code",
   "execution_count": 6,
   "metadata": {},
   "outputs": [],
   "source": [
    "# já tendo sido analisada - em outro Jupyter Notebook - a posição 8708, segue análise da segunda posição mais recorrente, que é a 8536\n",
    "df1=df[df[\"POSIÇÃO_NCM\"]==\"8536\"]"
   ]
  },
  {
   "cell_type": "code",
   "execution_count": 7,
   "metadata": {},
   "outputs": [
    {
     "data": {
      "text/html": [
       "<div>\n",
       "<style scoped>\n",
       "    .dataframe tbody tr th:only-of-type {\n",
       "        vertical-align: middle;\n",
       "    }\n",
       "\n",
       "    .dataframe tbody tr th {\n",
       "        vertical-align: top;\n",
       "    }\n",
       "\n",
       "    .dataframe thead th {\n",
       "        text-align: right;\n",
       "    }\n",
       "</style>\n",
       "<table border=\"1\" class=\"dataframe\">\n",
       "  <thead>\n",
       "    <tr style=\"text-align: right;\">\n",
       "      <th></th>\n",
       "      <th>ANO-MES</th>\n",
       "      <th>CO_NCM</th>\n",
       "      <th>CO_UNID</th>\n",
       "      <th>CO_PAIS</th>\n",
       "      <th>SG_UF_NCM</th>\n",
       "      <th>CO_VIA</th>\n",
       "      <th>CO_URF</th>\n",
       "      <th>QT_ESTAT</th>\n",
       "      <th>KG_LIQUIDO</th>\n",
       "      <th>VL_FOB</th>\n",
       "      <th>câmbio_mês_atual</th>\n",
       "      <th>câmbio_mês_anterior</th>\n",
       "      <th>POSIÇÃO_NCM</th>\n",
       "    </tr>\n",
       "  </thead>\n",
       "  <tbody>\n",
       "    <tr>\n",
       "      <th>25</th>\n",
       "      <td>2019-01</td>\n",
       "      <td>85362000</td>\n",
       "      <td>11</td>\n",
       "      <td>160</td>\n",
       "      <td>SP</td>\n",
       "      <td>1</td>\n",
       "      <td>817800</td>\n",
       "      <td>2643776</td>\n",
       "      <td>414413</td>\n",
       "      <td>3654038</td>\n",
       "      <td>3.741055</td>\n",
       "      <td>3.884405</td>\n",
       "      <td>8536</td>\n",
       "    </tr>\n",
       "    <tr>\n",
       "      <th>121</th>\n",
       "      <td>2019-01</td>\n",
       "      <td>85365090</td>\n",
       "      <td>11</td>\n",
       "      <td>23</td>\n",
       "      <td>SP</td>\n",
       "      <td>4</td>\n",
       "      <td>817600</td>\n",
       "      <td>69172</td>\n",
       "      <td>4482</td>\n",
       "      <td>552919</td>\n",
       "      <td>3.741055</td>\n",
       "      <td>3.884405</td>\n",
       "      <td>8536</td>\n",
       "    </tr>\n",
       "    <tr>\n",
       "      <th>122</th>\n",
       "      <td>2019-01</td>\n",
       "      <td>85366990</td>\n",
       "      <td>11</td>\n",
       "      <td>493</td>\n",
       "      <td>SP</td>\n",
       "      <td>4</td>\n",
       "      <td>817600</td>\n",
       "      <td>215</td>\n",
       "      <td>35</td>\n",
       "      <td>3689</td>\n",
       "      <td>3.741055</td>\n",
       "      <td>3.884405</td>\n",
       "      <td>8536</td>\n",
       "    </tr>\n",
       "    <tr>\n",
       "      <th>197</th>\n",
       "      <td>2019-01</td>\n",
       "      <td>85366990</td>\n",
       "      <td>11</td>\n",
       "      <td>23</td>\n",
       "      <td>MG</td>\n",
       "      <td>4</td>\n",
       "      <td>617700</td>\n",
       "      <td>5</td>\n",
       "      <td>0</td>\n",
       "      <td>160</td>\n",
       "      <td>3.741055</td>\n",
       "      <td>3.884405</td>\n",
       "      <td>8536</td>\n",
       "    </tr>\n",
       "    <tr>\n",
       "      <th>291</th>\n",
       "      <td>2019-01</td>\n",
       "      <td>85369090</td>\n",
       "      <td>11</td>\n",
       "      <td>767</td>\n",
       "      <td>SE</td>\n",
       "      <td>1</td>\n",
       "      <td>517800</td>\n",
       "      <td>59000</td>\n",
       "      <td>1449</td>\n",
       "      <td>35731</td>\n",
       "      <td>3.741055</td>\n",
       "      <td>3.884405</td>\n",
       "      <td>8536</td>\n",
       "    </tr>\n",
       "    <tr>\n",
       "      <th>...</th>\n",
       "      <td>...</td>\n",
       "      <td>...</td>\n",
       "      <td>...</td>\n",
       "      <td>...</td>\n",
       "      <td>...</td>\n",
       "      <td>...</td>\n",
       "      <td>...</td>\n",
       "      <td>...</td>\n",
       "      <td>...</td>\n",
       "      <td>...</td>\n",
       "      <td>...</td>\n",
       "      <td>...</td>\n",
       "      <td>...</td>\n",
       "    </tr>\n",
       "    <tr>\n",
       "      <th>1764250</th>\n",
       "      <td>2019-08</td>\n",
       "      <td>85369010</td>\n",
       "      <td>11</td>\n",
       "      <td>249</td>\n",
       "      <td>RS</td>\n",
       "      <td>4</td>\n",
       "      <td>817600</td>\n",
       "      <td>10</td>\n",
       "      <td>0</td>\n",
       "      <td>394</td>\n",
       "      <td>4.019382</td>\n",
       "      <td>3.778713</td>\n",
       "      <td>8536</td>\n",
       "    </tr>\n",
       "    <tr>\n",
       "      <th>1764319</th>\n",
       "      <td>2019-08</td>\n",
       "      <td>85365090</td>\n",
       "      <td>11</td>\n",
       "      <td>858</td>\n",
       "      <td>SC</td>\n",
       "      <td>4</td>\n",
       "      <td>817600</td>\n",
       "      <td>10</td>\n",
       "      <td>2</td>\n",
       "      <td>467</td>\n",
       "      <td>4.019382</td>\n",
       "      <td>3.778713</td>\n",
       "      <td>8536</td>\n",
       "    </tr>\n",
       "    <tr>\n",
       "      <th>1764371</th>\n",
       "      <td>2019-08</td>\n",
       "      <td>85365030</td>\n",
       "      <td>11</td>\n",
       "      <td>196</td>\n",
       "      <td>SP</td>\n",
       "      <td>4</td>\n",
       "      <td>817700</td>\n",
       "      <td>15</td>\n",
       "      <td>0</td>\n",
       "      <td>113</td>\n",
       "      <td>4.019382</td>\n",
       "      <td>3.778713</td>\n",
       "      <td>8536</td>\n",
       "    </tr>\n",
       "    <tr>\n",
       "      <th>1764418</th>\n",
       "      <td>2019-08</td>\n",
       "      <td>85369010</td>\n",
       "      <td>11</td>\n",
       "      <td>776</td>\n",
       "      <td>MG</td>\n",
       "      <td>1</td>\n",
       "      <td>817800</td>\n",
       "      <td>10000</td>\n",
       "      <td>86</td>\n",
       "      <td>2803</td>\n",
       "      <td>4.019382</td>\n",
       "      <td>3.778713</td>\n",
       "      <td>8536</td>\n",
       "    </tr>\n",
       "    <tr>\n",
       "      <th>1764428</th>\n",
       "      <td>2019-08</td>\n",
       "      <td>85365090</td>\n",
       "      <td>11</td>\n",
       "      <td>271</td>\n",
       "      <td>SP</td>\n",
       "      <td>4</td>\n",
       "      <td>817600</td>\n",
       "      <td>11</td>\n",
       "      <td>157</td>\n",
       "      <td>4412</td>\n",
       "      <td>4.019382</td>\n",
       "      <td>3.778713</td>\n",
       "      <td>8536</td>\n",
       "    </tr>\n",
       "  </tbody>\n",
       "</table>\n",
       "<p>43444 rows × 13 columns</p>\n",
       "</div>"
      ],
      "text/plain": [
       "         ANO-MES    CO_NCM  CO_UNID  CO_PAIS SG_UF_NCM  CO_VIA  CO_URF  \\\n",
       "25       2019-01  85362000       11      160        SP       1  817800   \n",
       "121      2019-01  85365090       11       23        SP       4  817600   \n",
       "122      2019-01  85366990       11      493        SP       4  817600   \n",
       "197      2019-01  85366990       11       23        MG       4  617700   \n",
       "291      2019-01  85369090       11      767        SE       1  517800   \n",
       "...          ...       ...      ...      ...       ...     ...     ...   \n",
       "1764250  2019-08  85369010       11      249        RS       4  817600   \n",
       "1764319  2019-08  85365090       11      858        SC       4  817600   \n",
       "1764371  2019-08  85365030       11      196        SP       4  817700   \n",
       "1764418  2019-08  85369010       11      776        MG       1  817800   \n",
       "1764428  2019-08  85365090       11      271        SP       4  817600   \n",
       "\n",
       "         QT_ESTAT  KG_LIQUIDO   VL_FOB  câmbio_mês_atual  câmbio_mês_anterior  \\\n",
       "25        2643776      414413  3654038          3.741055             3.884405   \n",
       "121         69172        4482   552919          3.741055             3.884405   \n",
       "122           215          35     3689          3.741055             3.884405   \n",
       "197             5           0      160          3.741055             3.884405   \n",
       "291         59000        1449    35731          3.741055             3.884405   \n",
       "...           ...         ...      ...               ...                  ...   \n",
       "1764250        10           0      394          4.019382             3.778713   \n",
       "1764319        10           2      467          4.019382             3.778713   \n",
       "1764371        15           0      113          4.019382             3.778713   \n",
       "1764418     10000          86     2803          4.019382             3.778713   \n",
       "1764428        11         157     4412          4.019382             3.778713   \n",
       "\n",
       "        POSIÇÃO_NCM  \n",
       "25             8536  \n",
       "121            8536  \n",
       "122            8536  \n",
       "197            8536  \n",
       "291            8536  \n",
       "...             ...  \n",
       "1764250        8536  \n",
       "1764319        8536  \n",
       "1764371        8536  \n",
       "1764418        8536  \n",
       "1764428        8536  \n",
       "\n",
       "[43444 rows x 13 columns]"
      ]
     },
     "execution_count": 7,
     "metadata": {},
     "output_type": "execute_result"
    }
   ],
   "source": [
    "df1"
   ]
  },
  {
   "cell_type": "code",
   "execution_count": 8,
   "metadata": {},
   "outputs": [
    {
     "name": "stderr",
     "output_type": "stream",
     "text": [
      "D:\\ANACONDA\\lib\\site-packages\\pandas\\core\\frame.py:4163: SettingWithCopyWarning: \n",
      "A value is trying to be set on a copy of a slice from a DataFrame\n",
      "\n",
      "See the caveats in the documentation: https://pandas.pydata.org/pandas-docs/stable/user_guide/indexing.html#returning-a-view-versus-a-copy\n",
      "  return super().drop(\n"
     ]
    }
   ],
   "source": [
    "df1.drop(columns=\"POSIÇÃO_NCM\", inplace=True)"
   ]
  },
  {
   "cell_type": "code",
   "execution_count": 9,
   "metadata": {},
   "outputs": [
    {
     "data": {
      "text/html": [
       "<div>\n",
       "<style scoped>\n",
       "    .dataframe tbody tr th:only-of-type {\n",
       "        vertical-align: middle;\n",
       "    }\n",
       "\n",
       "    .dataframe tbody tr th {\n",
       "        vertical-align: top;\n",
       "    }\n",
       "\n",
       "    .dataframe thead th {\n",
       "        text-align: right;\n",
       "    }\n",
       "</style>\n",
       "<table border=\"1\" class=\"dataframe\">\n",
       "  <thead>\n",
       "    <tr style=\"text-align: right;\">\n",
       "      <th></th>\n",
       "      <th>ANO-MES</th>\n",
       "      <th>CO_NCM</th>\n",
       "      <th>CO_UNID</th>\n",
       "      <th>CO_PAIS</th>\n",
       "      <th>SG_UF_NCM</th>\n",
       "      <th>CO_VIA</th>\n",
       "      <th>CO_URF</th>\n",
       "      <th>QT_ESTAT</th>\n",
       "      <th>KG_LIQUIDO</th>\n",
       "      <th>VL_FOB</th>\n",
       "      <th>câmbio_mês_atual</th>\n",
       "      <th>câmbio_mês_anterior</th>\n",
       "    </tr>\n",
       "  </thead>\n",
       "  <tbody>\n",
       "    <tr>\n",
       "      <th>25</th>\n",
       "      <td>2019-01</td>\n",
       "      <td>85362000</td>\n",
       "      <td>11</td>\n",
       "      <td>160</td>\n",
       "      <td>SP</td>\n",
       "      <td>1</td>\n",
       "      <td>817800</td>\n",
       "      <td>2643776</td>\n",
       "      <td>414413</td>\n",
       "      <td>3654038</td>\n",
       "      <td>3.741055</td>\n",
       "      <td>3.884405</td>\n",
       "    </tr>\n",
       "    <tr>\n",
       "      <th>121</th>\n",
       "      <td>2019-01</td>\n",
       "      <td>85365090</td>\n",
       "      <td>11</td>\n",
       "      <td>23</td>\n",
       "      <td>SP</td>\n",
       "      <td>4</td>\n",
       "      <td>817600</td>\n",
       "      <td>69172</td>\n",
       "      <td>4482</td>\n",
       "      <td>552919</td>\n",
       "      <td>3.741055</td>\n",
       "      <td>3.884405</td>\n",
       "    </tr>\n",
       "    <tr>\n",
       "      <th>122</th>\n",
       "      <td>2019-01</td>\n",
       "      <td>85366990</td>\n",
       "      <td>11</td>\n",
       "      <td>493</td>\n",
       "      <td>SP</td>\n",
       "      <td>4</td>\n",
       "      <td>817600</td>\n",
       "      <td>215</td>\n",
       "      <td>35</td>\n",
       "      <td>3689</td>\n",
       "      <td>3.741055</td>\n",
       "      <td>3.884405</td>\n",
       "    </tr>\n",
       "    <tr>\n",
       "      <th>197</th>\n",
       "      <td>2019-01</td>\n",
       "      <td>85366990</td>\n",
       "      <td>11</td>\n",
       "      <td>23</td>\n",
       "      <td>MG</td>\n",
       "      <td>4</td>\n",
       "      <td>617700</td>\n",
       "      <td>5</td>\n",
       "      <td>0</td>\n",
       "      <td>160</td>\n",
       "      <td>3.741055</td>\n",
       "      <td>3.884405</td>\n",
       "    </tr>\n",
       "    <tr>\n",
       "      <th>291</th>\n",
       "      <td>2019-01</td>\n",
       "      <td>85369090</td>\n",
       "      <td>11</td>\n",
       "      <td>767</td>\n",
       "      <td>SE</td>\n",
       "      <td>1</td>\n",
       "      <td>517800</td>\n",
       "      <td>59000</td>\n",
       "      <td>1449</td>\n",
       "      <td>35731</td>\n",
       "      <td>3.741055</td>\n",
       "      <td>3.884405</td>\n",
       "    </tr>\n",
       "    <tr>\n",
       "      <th>...</th>\n",
       "      <td>...</td>\n",
       "      <td>...</td>\n",
       "      <td>...</td>\n",
       "      <td>...</td>\n",
       "      <td>...</td>\n",
       "      <td>...</td>\n",
       "      <td>...</td>\n",
       "      <td>...</td>\n",
       "      <td>...</td>\n",
       "      <td>...</td>\n",
       "      <td>...</td>\n",
       "      <td>...</td>\n",
       "    </tr>\n",
       "    <tr>\n",
       "      <th>1764250</th>\n",
       "      <td>2019-08</td>\n",
       "      <td>85369010</td>\n",
       "      <td>11</td>\n",
       "      <td>249</td>\n",
       "      <td>RS</td>\n",
       "      <td>4</td>\n",
       "      <td>817600</td>\n",
       "      <td>10</td>\n",
       "      <td>0</td>\n",
       "      <td>394</td>\n",
       "      <td>4.019382</td>\n",
       "      <td>3.778713</td>\n",
       "    </tr>\n",
       "    <tr>\n",
       "      <th>1764319</th>\n",
       "      <td>2019-08</td>\n",
       "      <td>85365090</td>\n",
       "      <td>11</td>\n",
       "      <td>858</td>\n",
       "      <td>SC</td>\n",
       "      <td>4</td>\n",
       "      <td>817600</td>\n",
       "      <td>10</td>\n",
       "      <td>2</td>\n",
       "      <td>467</td>\n",
       "      <td>4.019382</td>\n",
       "      <td>3.778713</td>\n",
       "    </tr>\n",
       "    <tr>\n",
       "      <th>1764371</th>\n",
       "      <td>2019-08</td>\n",
       "      <td>85365030</td>\n",
       "      <td>11</td>\n",
       "      <td>196</td>\n",
       "      <td>SP</td>\n",
       "      <td>4</td>\n",
       "      <td>817700</td>\n",
       "      <td>15</td>\n",
       "      <td>0</td>\n",
       "      <td>113</td>\n",
       "      <td>4.019382</td>\n",
       "      <td>3.778713</td>\n",
       "    </tr>\n",
       "    <tr>\n",
       "      <th>1764418</th>\n",
       "      <td>2019-08</td>\n",
       "      <td>85369010</td>\n",
       "      <td>11</td>\n",
       "      <td>776</td>\n",
       "      <td>MG</td>\n",
       "      <td>1</td>\n",
       "      <td>817800</td>\n",
       "      <td>10000</td>\n",
       "      <td>86</td>\n",
       "      <td>2803</td>\n",
       "      <td>4.019382</td>\n",
       "      <td>3.778713</td>\n",
       "    </tr>\n",
       "    <tr>\n",
       "      <th>1764428</th>\n",
       "      <td>2019-08</td>\n",
       "      <td>85365090</td>\n",
       "      <td>11</td>\n",
       "      <td>271</td>\n",
       "      <td>SP</td>\n",
       "      <td>4</td>\n",
       "      <td>817600</td>\n",
       "      <td>11</td>\n",
       "      <td>157</td>\n",
       "      <td>4412</td>\n",
       "      <td>4.019382</td>\n",
       "      <td>3.778713</td>\n",
       "    </tr>\n",
       "  </tbody>\n",
       "</table>\n",
       "<p>43444 rows × 12 columns</p>\n",
       "</div>"
      ],
      "text/plain": [
       "         ANO-MES    CO_NCM  CO_UNID  CO_PAIS SG_UF_NCM  CO_VIA  CO_URF  \\\n",
       "25       2019-01  85362000       11      160        SP       1  817800   \n",
       "121      2019-01  85365090       11       23        SP       4  817600   \n",
       "122      2019-01  85366990       11      493        SP       4  817600   \n",
       "197      2019-01  85366990       11       23        MG       4  617700   \n",
       "291      2019-01  85369090       11      767        SE       1  517800   \n",
       "...          ...       ...      ...      ...       ...     ...     ...   \n",
       "1764250  2019-08  85369010       11      249        RS       4  817600   \n",
       "1764319  2019-08  85365090       11      858        SC       4  817600   \n",
       "1764371  2019-08  85365030       11      196        SP       4  817700   \n",
       "1764418  2019-08  85369010       11      776        MG       1  817800   \n",
       "1764428  2019-08  85365090       11      271        SP       4  817600   \n",
       "\n",
       "         QT_ESTAT  KG_LIQUIDO   VL_FOB  câmbio_mês_atual  câmbio_mês_anterior  \n",
       "25        2643776      414413  3654038          3.741055             3.884405  \n",
       "121         69172        4482   552919          3.741055             3.884405  \n",
       "122           215          35     3689          3.741055             3.884405  \n",
       "197             5           0      160          3.741055             3.884405  \n",
       "291         59000        1449    35731          3.741055             3.884405  \n",
       "...           ...         ...      ...               ...                  ...  \n",
       "1764250        10           0      394          4.019382             3.778713  \n",
       "1764319        10           2      467          4.019382             3.778713  \n",
       "1764371        15           0      113          4.019382             3.778713  \n",
       "1764418     10000          86     2803          4.019382             3.778713  \n",
       "1764428        11         157     4412          4.019382             3.778713  \n",
       "\n",
       "[43444 rows x 12 columns]"
      ]
     },
     "execution_count": 9,
     "metadata": {},
     "output_type": "execute_result"
    }
   ],
   "source": [
    "df1"
   ]
  },
  {
   "cell_type": "markdown",
   "metadata": {},
   "source": [
    "###### Na sequência, as colunas de features categóricas darão origem às variáveis dummie, para, posteriormente, calcular a correlação das colunas restantes com a variável alvo ( VL_FOB/QT_ESTAT)"
   ]
  },
  {
   "cell_type": "code",
   "execution_count": 10,
   "metadata": {},
   "outputs": [
    {
     "data": {
      "text/html": [
       "<div>\n",
       "<style scoped>\n",
       "    .dataframe tbody tr th:only-of-type {\n",
       "        vertical-align: middle;\n",
       "    }\n",
       "\n",
       "    .dataframe tbody tr th {\n",
       "        vertical-align: top;\n",
       "    }\n",
       "\n",
       "    .dataframe thead th {\n",
       "        text-align: right;\n",
       "    }\n",
       "</style>\n",
       "<table border=\"1\" class=\"dataframe\">\n",
       "  <thead>\n",
       "    <tr style=\"text-align: right;\">\n",
       "      <th></th>\n",
       "      <th>ANO-MES</th>\n",
       "      <th>CO_NCM</th>\n",
       "      <th>CO_UNID</th>\n",
       "      <th>CO_PAIS</th>\n",
       "      <th>SG_UF_NCM</th>\n",
       "      <th>CO_VIA</th>\n",
       "      <th>CO_URF</th>\n",
       "      <th>QT_ESTAT</th>\n",
       "      <th>KG_LIQUIDO</th>\n",
       "      <th>VL_FOB</th>\n",
       "      <th>câmbio_mês_atual</th>\n",
       "      <th>câmbio_mês_anterior</th>\n",
       "    </tr>\n",
       "  </thead>\n",
       "  <tbody>\n",
       "    <tr>\n",
       "      <th>25</th>\n",
       "      <td>2019-01</td>\n",
       "      <td>85362000</td>\n",
       "      <td>11</td>\n",
       "      <td>160</td>\n",
       "      <td>SP</td>\n",
       "      <td>1</td>\n",
       "      <td>817800</td>\n",
       "      <td>2643776</td>\n",
       "      <td>414413</td>\n",
       "      <td>3654038</td>\n",
       "      <td>3.741055</td>\n",
       "      <td>3.884405</td>\n",
       "    </tr>\n",
       "    <tr>\n",
       "      <th>121</th>\n",
       "      <td>2019-01</td>\n",
       "      <td>85365090</td>\n",
       "      <td>11</td>\n",
       "      <td>23</td>\n",
       "      <td>SP</td>\n",
       "      <td>4</td>\n",
       "      <td>817600</td>\n",
       "      <td>69172</td>\n",
       "      <td>4482</td>\n",
       "      <td>552919</td>\n",
       "      <td>3.741055</td>\n",
       "      <td>3.884405</td>\n",
       "    </tr>\n",
       "    <tr>\n",
       "      <th>122</th>\n",
       "      <td>2019-01</td>\n",
       "      <td>85366990</td>\n",
       "      <td>11</td>\n",
       "      <td>493</td>\n",
       "      <td>SP</td>\n",
       "      <td>4</td>\n",
       "      <td>817600</td>\n",
       "      <td>215</td>\n",
       "      <td>35</td>\n",
       "      <td>3689</td>\n",
       "      <td>3.741055</td>\n",
       "      <td>3.884405</td>\n",
       "    </tr>\n",
       "    <tr>\n",
       "      <th>197</th>\n",
       "      <td>2019-01</td>\n",
       "      <td>85366990</td>\n",
       "      <td>11</td>\n",
       "      <td>23</td>\n",
       "      <td>MG</td>\n",
       "      <td>4</td>\n",
       "      <td>617700</td>\n",
       "      <td>5</td>\n",
       "      <td>0</td>\n",
       "      <td>160</td>\n",
       "      <td>3.741055</td>\n",
       "      <td>3.884405</td>\n",
       "    </tr>\n",
       "    <tr>\n",
       "      <th>291</th>\n",
       "      <td>2019-01</td>\n",
       "      <td>85369090</td>\n",
       "      <td>11</td>\n",
       "      <td>767</td>\n",
       "      <td>SE</td>\n",
       "      <td>1</td>\n",
       "      <td>517800</td>\n",
       "      <td>59000</td>\n",
       "      <td>1449</td>\n",
       "      <td>35731</td>\n",
       "      <td>3.741055</td>\n",
       "      <td>3.884405</td>\n",
       "    </tr>\n",
       "    <tr>\n",
       "      <th>...</th>\n",
       "      <td>...</td>\n",
       "      <td>...</td>\n",
       "      <td>...</td>\n",
       "      <td>...</td>\n",
       "      <td>...</td>\n",
       "      <td>...</td>\n",
       "      <td>...</td>\n",
       "      <td>...</td>\n",
       "      <td>...</td>\n",
       "      <td>...</td>\n",
       "      <td>...</td>\n",
       "      <td>...</td>\n",
       "    </tr>\n",
       "    <tr>\n",
       "      <th>1764250</th>\n",
       "      <td>2019-08</td>\n",
       "      <td>85369010</td>\n",
       "      <td>11</td>\n",
       "      <td>249</td>\n",
       "      <td>RS</td>\n",
       "      <td>4</td>\n",
       "      <td>817600</td>\n",
       "      <td>10</td>\n",
       "      <td>0</td>\n",
       "      <td>394</td>\n",
       "      <td>4.019382</td>\n",
       "      <td>3.778713</td>\n",
       "    </tr>\n",
       "    <tr>\n",
       "      <th>1764319</th>\n",
       "      <td>2019-08</td>\n",
       "      <td>85365090</td>\n",
       "      <td>11</td>\n",
       "      <td>858</td>\n",
       "      <td>SC</td>\n",
       "      <td>4</td>\n",
       "      <td>817600</td>\n",
       "      <td>10</td>\n",
       "      <td>2</td>\n",
       "      <td>467</td>\n",
       "      <td>4.019382</td>\n",
       "      <td>3.778713</td>\n",
       "    </tr>\n",
       "    <tr>\n",
       "      <th>1764371</th>\n",
       "      <td>2019-08</td>\n",
       "      <td>85365030</td>\n",
       "      <td>11</td>\n",
       "      <td>196</td>\n",
       "      <td>SP</td>\n",
       "      <td>4</td>\n",
       "      <td>817700</td>\n",
       "      <td>15</td>\n",
       "      <td>0</td>\n",
       "      <td>113</td>\n",
       "      <td>4.019382</td>\n",
       "      <td>3.778713</td>\n",
       "    </tr>\n",
       "    <tr>\n",
       "      <th>1764418</th>\n",
       "      <td>2019-08</td>\n",
       "      <td>85369010</td>\n",
       "      <td>11</td>\n",
       "      <td>776</td>\n",
       "      <td>MG</td>\n",
       "      <td>1</td>\n",
       "      <td>817800</td>\n",
       "      <td>10000</td>\n",
       "      <td>86</td>\n",
       "      <td>2803</td>\n",
       "      <td>4.019382</td>\n",
       "      <td>3.778713</td>\n",
       "    </tr>\n",
       "    <tr>\n",
       "      <th>1764428</th>\n",
       "      <td>2019-08</td>\n",
       "      <td>85365090</td>\n",
       "      <td>11</td>\n",
       "      <td>271</td>\n",
       "      <td>SP</td>\n",
       "      <td>4</td>\n",
       "      <td>817600</td>\n",
       "      <td>11</td>\n",
       "      <td>157</td>\n",
       "      <td>4412</td>\n",
       "      <td>4.019382</td>\n",
       "      <td>3.778713</td>\n",
       "    </tr>\n",
       "  </tbody>\n",
       "</table>\n",
       "<p>43444 rows × 12 columns</p>\n",
       "</div>"
      ],
      "text/plain": [
       "         ANO-MES    CO_NCM  CO_UNID  CO_PAIS SG_UF_NCM  CO_VIA  CO_URF  \\\n",
       "25       2019-01  85362000       11      160        SP       1  817800   \n",
       "121      2019-01  85365090       11       23        SP       4  817600   \n",
       "122      2019-01  85366990       11      493        SP       4  817600   \n",
       "197      2019-01  85366990       11       23        MG       4  617700   \n",
       "291      2019-01  85369090       11      767        SE       1  517800   \n",
       "...          ...       ...      ...      ...       ...     ...     ...   \n",
       "1764250  2019-08  85369010       11      249        RS       4  817600   \n",
       "1764319  2019-08  85365090       11      858        SC       4  817600   \n",
       "1764371  2019-08  85365030       11      196        SP       4  817700   \n",
       "1764418  2019-08  85369010       11      776        MG       1  817800   \n",
       "1764428  2019-08  85365090       11      271        SP       4  817600   \n",
       "\n",
       "         QT_ESTAT  KG_LIQUIDO   VL_FOB  câmbio_mês_atual  câmbio_mês_anterior  \n",
       "25        2643776      414413  3654038          3.741055             3.884405  \n",
       "121         69172        4482   552919          3.741055             3.884405  \n",
       "122           215          35     3689          3.741055             3.884405  \n",
       "197             5           0      160          3.741055             3.884405  \n",
       "291         59000        1449    35731          3.741055             3.884405  \n",
       "...           ...         ...      ...               ...                  ...  \n",
       "1764250        10           0      394          4.019382             3.778713  \n",
       "1764319        10           2      467          4.019382             3.778713  \n",
       "1764371        15           0      113          4.019382             3.778713  \n",
       "1764418     10000          86     2803          4.019382             3.778713  \n",
       "1764428        11         157     4412          4.019382             3.778713  \n",
       "\n",
       "[43444 rows x 12 columns]"
      ]
     },
     "execution_count": 10,
     "metadata": {},
     "output_type": "execute_result"
    }
   ],
   "source": [
    "df1"
   ]
  },
  {
   "cell_type": "code",
   "execution_count": 11,
   "metadata": {},
   "outputs": [
    {
     "name": "stderr",
     "output_type": "stream",
     "text": [
      "<ipython-input-11-0725dfbab52f>:1: SettingWithCopyWarning: \n",
      "A value is trying to be set on a copy of a slice from a DataFrame.\n",
      "Try using .loc[row_indexer,col_indexer] = value instead\n",
      "\n",
      "See the caveats in the documentation: https://pandas.pydata.org/pandas-docs/stable/user_guide/indexing.html#returning-a-view-versus-a-copy\n",
      "  df1[\"VL_FOB/QT_ESTAT\"]=df1[\"VL_FOB\"]/df1[\"QT_ESTAT\"]\n"
     ]
    }
   ],
   "source": [
    "df1[\"VL_FOB/QT_ESTAT\"]=df1[\"VL_FOB\"]/df1[\"QT_ESTAT\"]"
   ]
  },
  {
   "cell_type": "code",
   "execution_count": 12,
   "metadata": {},
   "outputs": [
    {
     "data": {
      "text/plain": [
       "Index(['ANO-MES', 'CO_NCM', 'CO_UNID', 'CO_PAIS', 'SG_UF_NCM', 'CO_VIA',\n",
       "       'CO_URF', 'QT_ESTAT', 'KG_LIQUIDO', 'VL_FOB', 'câmbio_mês_atual',\n",
       "       'câmbio_mês_anterior', 'VL_FOB/QT_ESTAT'],\n",
       "      dtype='object')"
      ]
     },
     "execution_count": 12,
     "metadata": {},
     "output_type": "execute_result"
    }
   ],
   "source": [
    "df1.columns"
   ]
  },
  {
   "cell_type": "code",
   "execution_count": 13,
   "metadata": {},
   "outputs": [
    {
     "data": {
      "text/html": [
       "<div>\n",
       "<style scoped>\n",
       "    .dataframe tbody tr th:only-of-type {\n",
       "        vertical-align: middle;\n",
       "    }\n",
       "\n",
       "    .dataframe tbody tr th {\n",
       "        vertical-align: top;\n",
       "    }\n",
       "\n",
       "    .dataframe thead th {\n",
       "        text-align: right;\n",
       "    }\n",
       "</style>\n",
       "<table border=\"1\" class=\"dataframe\">\n",
       "  <thead>\n",
       "    <tr style=\"text-align: right;\">\n",
       "      <th></th>\n",
       "      <th>ANO-MES</th>\n",
       "      <th>CO_NCM</th>\n",
       "      <th>CO_UNID</th>\n",
       "      <th>CO_PAIS</th>\n",
       "      <th>SG_UF_NCM</th>\n",
       "      <th>CO_VIA</th>\n",
       "      <th>CO_URF</th>\n",
       "      <th>QT_ESTAT</th>\n",
       "      <th>KG_LIQUIDO</th>\n",
       "      <th>VL_FOB</th>\n",
       "      <th>...</th>\n",
       "      <th>Mês_2019-03</th>\n",
       "      <th>Mês_2019-04</th>\n",
       "      <th>Mês_2019-05</th>\n",
       "      <th>Mês_2019-06</th>\n",
       "      <th>Mês_2019-07</th>\n",
       "      <th>Mês_2019-08</th>\n",
       "      <th>Mês_2019-09</th>\n",
       "      <th>Mês_2019-10</th>\n",
       "      <th>Mês_2019-11</th>\n",
       "      <th>Mês_2019-12</th>\n",
       "    </tr>\n",
       "  </thead>\n",
       "  <tbody>\n",
       "    <tr>\n",
       "      <th>25</th>\n",
       "      <td>2019-01</td>\n",
       "      <td>85362000</td>\n",
       "      <td>11</td>\n",
       "      <td>160</td>\n",
       "      <td>SP</td>\n",
       "      <td>1</td>\n",
       "      <td>817800</td>\n",
       "      <td>2643776</td>\n",
       "      <td>414413</td>\n",
       "      <td>3654038</td>\n",
       "      <td>...</td>\n",
       "      <td>0</td>\n",
       "      <td>0</td>\n",
       "      <td>0</td>\n",
       "      <td>0</td>\n",
       "      <td>0</td>\n",
       "      <td>0</td>\n",
       "      <td>0</td>\n",
       "      <td>0</td>\n",
       "      <td>0</td>\n",
       "      <td>0</td>\n",
       "    </tr>\n",
       "    <tr>\n",
       "      <th>121</th>\n",
       "      <td>2019-01</td>\n",
       "      <td>85365090</td>\n",
       "      <td>11</td>\n",
       "      <td>23</td>\n",
       "      <td>SP</td>\n",
       "      <td>4</td>\n",
       "      <td>817600</td>\n",
       "      <td>69172</td>\n",
       "      <td>4482</td>\n",
       "      <td>552919</td>\n",
       "      <td>...</td>\n",
       "      <td>0</td>\n",
       "      <td>0</td>\n",
       "      <td>0</td>\n",
       "      <td>0</td>\n",
       "      <td>0</td>\n",
       "      <td>0</td>\n",
       "      <td>0</td>\n",
       "      <td>0</td>\n",
       "      <td>0</td>\n",
       "      <td>0</td>\n",
       "    </tr>\n",
       "    <tr>\n",
       "      <th>122</th>\n",
       "      <td>2019-01</td>\n",
       "      <td>85366990</td>\n",
       "      <td>11</td>\n",
       "      <td>493</td>\n",
       "      <td>SP</td>\n",
       "      <td>4</td>\n",
       "      <td>817600</td>\n",
       "      <td>215</td>\n",
       "      <td>35</td>\n",
       "      <td>3689</td>\n",
       "      <td>...</td>\n",
       "      <td>0</td>\n",
       "      <td>0</td>\n",
       "      <td>0</td>\n",
       "      <td>0</td>\n",
       "      <td>0</td>\n",
       "      <td>0</td>\n",
       "      <td>0</td>\n",
       "      <td>0</td>\n",
       "      <td>0</td>\n",
       "      <td>0</td>\n",
       "    </tr>\n",
       "  </tbody>\n",
       "</table>\n",
       "<p>3 rows × 25 columns</p>\n",
       "</div>"
      ],
      "text/plain": [
       "     ANO-MES    CO_NCM  CO_UNID  CO_PAIS SG_UF_NCM  CO_VIA  CO_URF  QT_ESTAT  \\\n",
       "25   2019-01  85362000       11      160        SP       1  817800   2643776   \n",
       "121  2019-01  85365090       11       23        SP       4  817600     69172   \n",
       "122  2019-01  85366990       11      493        SP       4  817600       215   \n",
       "\n",
       "     KG_LIQUIDO   VL_FOB  ...  Mês_2019-03  Mês_2019-04  Mês_2019-05  \\\n",
       "25       414413  3654038  ...            0            0            0   \n",
       "121        4482   552919  ...            0            0            0   \n",
       "122          35     3689  ...            0            0            0   \n",
       "\n",
       "     Mês_2019-06  Mês_2019-07  Mês_2019-08  Mês_2019-09  Mês_2019-10  \\\n",
       "25             0            0            0            0            0   \n",
       "121            0            0            0            0            0   \n",
       "122            0            0            0            0            0   \n",
       "\n",
       "     Mês_2019-11  Mês_2019-12  \n",
       "25             0            0  \n",
       "121            0            0  \n",
       "122            0            0  \n",
       "\n",
       "[3 rows x 25 columns]"
      ]
     },
     "execution_count": 13,
     "metadata": {},
     "output_type": "execute_result"
    }
   ],
   "source": [
    "df_encoded = pd.concat([df1, pd.get_dummies(df1[\"ANO-MES\"],prefix=\"Mês\")], axis=1)\n",
    "df_encoded.head(3)"
   ]
  },
  {
   "cell_type": "code",
   "execution_count": 14,
   "metadata": {},
   "outputs": [
    {
     "data": {
      "text/html": [
       "<div>\n",
       "<style scoped>\n",
       "    .dataframe tbody tr th:only-of-type {\n",
       "        vertical-align: middle;\n",
       "    }\n",
       "\n",
       "    .dataframe tbody tr th {\n",
       "        vertical-align: top;\n",
       "    }\n",
       "\n",
       "    .dataframe thead th {\n",
       "        text-align: right;\n",
       "    }\n",
       "</style>\n",
       "<table border=\"1\" class=\"dataframe\">\n",
       "  <thead>\n",
       "    <tr style=\"text-align: right;\">\n",
       "      <th></th>\n",
       "      <th>ANO-MES</th>\n",
       "      <th>CO_NCM</th>\n",
       "      <th>CO_UNID</th>\n",
       "      <th>CO_PAIS</th>\n",
       "      <th>SG_UF_NCM</th>\n",
       "      <th>CO_VIA</th>\n",
       "      <th>CO_URF</th>\n",
       "      <th>QT_ESTAT</th>\n",
       "      <th>KG_LIQUIDO</th>\n",
       "      <th>VL_FOB</th>\n",
       "      <th>...</th>\n",
       "      <th>NCM_85366910</th>\n",
       "      <th>NCM_85366990</th>\n",
       "      <th>NCM_85367000</th>\n",
       "      <th>NCM_85369010</th>\n",
       "      <th>NCM_85369020</th>\n",
       "      <th>NCM_85369030</th>\n",
       "      <th>NCM_85369040</th>\n",
       "      <th>NCM_85369050</th>\n",
       "      <th>NCM_85369060</th>\n",
       "      <th>NCM_85369090</th>\n",
       "    </tr>\n",
       "  </thead>\n",
       "  <tbody>\n",
       "    <tr>\n",
       "      <th>25</th>\n",
       "      <td>2019-01</td>\n",
       "      <td>85362000</td>\n",
       "      <td>11</td>\n",
       "      <td>160</td>\n",
       "      <td>SP</td>\n",
       "      <td>1</td>\n",
       "      <td>817800</td>\n",
       "      <td>2643776</td>\n",
       "      <td>414413</td>\n",
       "      <td>3654038</td>\n",
       "      <td>...</td>\n",
       "      <td>0</td>\n",
       "      <td>0</td>\n",
       "      <td>0</td>\n",
       "      <td>0</td>\n",
       "      <td>0</td>\n",
       "      <td>0</td>\n",
       "      <td>0</td>\n",
       "      <td>0</td>\n",
       "      <td>0</td>\n",
       "      <td>0</td>\n",
       "    </tr>\n",
       "    <tr>\n",
       "      <th>121</th>\n",
       "      <td>2019-01</td>\n",
       "      <td>85365090</td>\n",
       "      <td>11</td>\n",
       "      <td>23</td>\n",
       "      <td>SP</td>\n",
       "      <td>4</td>\n",
       "      <td>817600</td>\n",
       "      <td>69172</td>\n",
       "      <td>4482</td>\n",
       "      <td>552919</td>\n",
       "      <td>...</td>\n",
       "      <td>0</td>\n",
       "      <td>0</td>\n",
       "      <td>0</td>\n",
       "      <td>0</td>\n",
       "      <td>0</td>\n",
       "      <td>0</td>\n",
       "      <td>0</td>\n",
       "      <td>0</td>\n",
       "      <td>0</td>\n",
       "      <td>0</td>\n",
       "    </tr>\n",
       "    <tr>\n",
       "      <th>122</th>\n",
       "      <td>2019-01</td>\n",
       "      <td>85366990</td>\n",
       "      <td>11</td>\n",
       "      <td>493</td>\n",
       "      <td>SP</td>\n",
       "      <td>4</td>\n",
       "      <td>817600</td>\n",
       "      <td>215</td>\n",
       "      <td>35</td>\n",
       "      <td>3689</td>\n",
       "      <td>...</td>\n",
       "      <td>0</td>\n",
       "      <td>1</td>\n",
       "      <td>0</td>\n",
       "      <td>0</td>\n",
       "      <td>0</td>\n",
       "      <td>0</td>\n",
       "      <td>0</td>\n",
       "      <td>0</td>\n",
       "      <td>0</td>\n",
       "      <td>0</td>\n",
       "    </tr>\n",
       "  </tbody>\n",
       "</table>\n",
       "<p>3 rows × 46 columns</p>\n",
       "</div>"
      ],
      "text/plain": [
       "     ANO-MES    CO_NCM  CO_UNID  CO_PAIS SG_UF_NCM  CO_VIA  CO_URF  QT_ESTAT  \\\n",
       "25   2019-01  85362000       11      160        SP       1  817800   2643776   \n",
       "121  2019-01  85365090       11       23        SP       4  817600     69172   \n",
       "122  2019-01  85366990       11      493        SP       4  817600       215   \n",
       "\n",
       "     KG_LIQUIDO   VL_FOB  ...  NCM_85366910  NCM_85366990  NCM_85367000  \\\n",
       "25       414413  3654038  ...             0             0             0   \n",
       "121        4482   552919  ...             0             0             0   \n",
       "122          35     3689  ...             0             1             0   \n",
       "\n",
       "     NCM_85369010  NCM_85369020  NCM_85369030  NCM_85369040  NCM_85369050  \\\n",
       "25              0             0             0             0             0   \n",
       "121             0             0             0             0             0   \n",
       "122             0             0             0             0             0   \n",
       "\n",
       "     NCM_85369060  NCM_85369090  \n",
       "25              0             0  \n",
       "121             0             0  \n",
       "122             0             0  \n",
       "\n",
       "[3 rows x 46 columns]"
      ]
     },
     "execution_count": 14,
     "metadata": {},
     "output_type": "execute_result"
    }
   ],
   "source": [
    "df_encoded = pd.concat([df_encoded, pd.get_dummies(df_encoded[\"CO_NCM\"],prefix=\"NCM\")], axis=1)\n",
    "df_encoded.head(3)"
   ]
  },
  {
   "cell_type": "code",
   "execution_count": 15,
   "metadata": {},
   "outputs": [
    {
     "data": {
      "text/html": [
       "<div>\n",
       "<style scoped>\n",
       "    .dataframe tbody tr th:only-of-type {\n",
       "        vertical-align: middle;\n",
       "    }\n",
       "\n",
       "    .dataframe tbody tr th {\n",
       "        vertical-align: top;\n",
       "    }\n",
       "\n",
       "    .dataframe thead th {\n",
       "        text-align: right;\n",
       "    }\n",
       "</style>\n",
       "<table border=\"1\" class=\"dataframe\">\n",
       "  <thead>\n",
       "    <tr style=\"text-align: right;\">\n",
       "      <th></th>\n",
       "      <th>ANO-MES</th>\n",
       "      <th>CO_NCM</th>\n",
       "      <th>CO_UNID</th>\n",
       "      <th>CO_PAIS</th>\n",
       "      <th>SG_UF_NCM</th>\n",
       "      <th>CO_VIA</th>\n",
       "      <th>CO_URF</th>\n",
       "      <th>QT_ESTAT</th>\n",
       "      <th>KG_LIQUIDO</th>\n",
       "      <th>VL_FOB</th>\n",
       "      <th>...</th>\n",
       "      <th>NCM_85366990</th>\n",
       "      <th>NCM_85367000</th>\n",
       "      <th>NCM_85369010</th>\n",
       "      <th>NCM_85369020</th>\n",
       "      <th>NCM_85369030</th>\n",
       "      <th>NCM_85369040</th>\n",
       "      <th>NCM_85369050</th>\n",
       "      <th>NCM_85369060</th>\n",
       "      <th>NCM_85369090</th>\n",
       "      <th>Un.Med.Est._11</th>\n",
       "    </tr>\n",
       "  </thead>\n",
       "  <tbody>\n",
       "    <tr>\n",
       "      <th>25</th>\n",
       "      <td>2019-01</td>\n",
       "      <td>85362000</td>\n",
       "      <td>11</td>\n",
       "      <td>160</td>\n",
       "      <td>SP</td>\n",
       "      <td>1</td>\n",
       "      <td>817800</td>\n",
       "      <td>2643776</td>\n",
       "      <td>414413</td>\n",
       "      <td>3654038</td>\n",
       "      <td>...</td>\n",
       "      <td>0</td>\n",
       "      <td>0</td>\n",
       "      <td>0</td>\n",
       "      <td>0</td>\n",
       "      <td>0</td>\n",
       "      <td>0</td>\n",
       "      <td>0</td>\n",
       "      <td>0</td>\n",
       "      <td>0</td>\n",
       "      <td>1</td>\n",
       "    </tr>\n",
       "    <tr>\n",
       "      <th>121</th>\n",
       "      <td>2019-01</td>\n",
       "      <td>85365090</td>\n",
       "      <td>11</td>\n",
       "      <td>23</td>\n",
       "      <td>SP</td>\n",
       "      <td>4</td>\n",
       "      <td>817600</td>\n",
       "      <td>69172</td>\n",
       "      <td>4482</td>\n",
       "      <td>552919</td>\n",
       "      <td>...</td>\n",
       "      <td>0</td>\n",
       "      <td>0</td>\n",
       "      <td>0</td>\n",
       "      <td>0</td>\n",
       "      <td>0</td>\n",
       "      <td>0</td>\n",
       "      <td>0</td>\n",
       "      <td>0</td>\n",
       "      <td>0</td>\n",
       "      <td>1</td>\n",
       "    </tr>\n",
       "    <tr>\n",
       "      <th>122</th>\n",
       "      <td>2019-01</td>\n",
       "      <td>85366990</td>\n",
       "      <td>11</td>\n",
       "      <td>493</td>\n",
       "      <td>SP</td>\n",
       "      <td>4</td>\n",
       "      <td>817600</td>\n",
       "      <td>215</td>\n",
       "      <td>35</td>\n",
       "      <td>3689</td>\n",
       "      <td>...</td>\n",
       "      <td>1</td>\n",
       "      <td>0</td>\n",
       "      <td>0</td>\n",
       "      <td>0</td>\n",
       "      <td>0</td>\n",
       "      <td>0</td>\n",
       "      <td>0</td>\n",
       "      <td>0</td>\n",
       "      <td>0</td>\n",
       "      <td>1</td>\n",
       "    </tr>\n",
       "  </tbody>\n",
       "</table>\n",
       "<p>3 rows × 47 columns</p>\n",
       "</div>"
      ],
      "text/plain": [
       "     ANO-MES    CO_NCM  CO_UNID  CO_PAIS SG_UF_NCM  CO_VIA  CO_URF  QT_ESTAT  \\\n",
       "25   2019-01  85362000       11      160        SP       1  817800   2643776   \n",
       "121  2019-01  85365090       11       23        SP       4  817600     69172   \n",
       "122  2019-01  85366990       11      493        SP       4  817600       215   \n",
       "\n",
       "     KG_LIQUIDO   VL_FOB  ...  NCM_85366990  NCM_85367000  NCM_85369010  \\\n",
       "25       414413  3654038  ...             0             0             0   \n",
       "121        4482   552919  ...             0             0             0   \n",
       "122          35     3689  ...             1             0             0   \n",
       "\n",
       "     NCM_85369020  NCM_85369030  NCM_85369040  NCM_85369050  NCM_85369060  \\\n",
       "25              0             0             0             0             0   \n",
       "121             0             0             0             0             0   \n",
       "122             0             0             0             0             0   \n",
       "\n",
       "     NCM_85369090  Un.Med.Est._11  \n",
       "25              0               1  \n",
       "121             0               1  \n",
       "122             0               1  \n",
       "\n",
       "[3 rows x 47 columns]"
      ]
     },
     "execution_count": 15,
     "metadata": {},
     "output_type": "execute_result"
    }
   ],
   "source": [
    "df_encoded = pd.concat([df_encoded, pd.get_dummies(df_encoded[\"CO_UNID\"],prefix=\"Un.Med.Est.\")], axis=1)\n",
    "df_encoded.head(3)"
   ]
  },
  {
   "cell_type": "code",
   "execution_count": 16,
   "metadata": {},
   "outputs": [
    {
     "data": {
      "text/html": [
       "<div>\n",
       "<style scoped>\n",
       "    .dataframe tbody tr th:only-of-type {\n",
       "        vertical-align: middle;\n",
       "    }\n",
       "\n",
       "    .dataframe tbody tr th {\n",
       "        vertical-align: top;\n",
       "    }\n",
       "\n",
       "    .dataframe thead th {\n",
       "        text-align: right;\n",
       "    }\n",
       "</style>\n",
       "<table border=\"1\" class=\"dataframe\">\n",
       "  <thead>\n",
       "    <tr style=\"text-align: right;\">\n",
       "      <th></th>\n",
       "      <th>ANO-MES</th>\n",
       "      <th>CO_NCM</th>\n",
       "      <th>CO_UNID</th>\n",
       "      <th>CO_PAIS</th>\n",
       "      <th>SG_UF_NCM</th>\n",
       "      <th>CO_VIA</th>\n",
       "      <th>CO_URF</th>\n",
       "      <th>QT_ESTAT</th>\n",
       "      <th>KG_LIQUIDO</th>\n",
       "      <th>VL_FOB</th>\n",
       "      <th>...</th>\n",
       "      <th>Pais_767</th>\n",
       "      <th>Pais_776</th>\n",
       "      <th>Pais_791</th>\n",
       "      <th>Pais_820</th>\n",
       "      <th>Pais_827</th>\n",
       "      <th>Pais_831</th>\n",
       "      <th>Pais_845</th>\n",
       "      <th>Pais_858</th>\n",
       "      <th>Pais_863</th>\n",
       "      <th>Pais_888</th>\n",
       "    </tr>\n",
       "  </thead>\n",
       "  <tbody>\n",
       "    <tr>\n",
       "      <th>25</th>\n",
       "      <td>2019-01</td>\n",
       "      <td>85362000</td>\n",
       "      <td>11</td>\n",
       "      <td>160</td>\n",
       "      <td>SP</td>\n",
       "      <td>1</td>\n",
       "      <td>817800</td>\n",
       "      <td>2643776</td>\n",
       "      <td>414413</td>\n",
       "      <td>3654038</td>\n",
       "      <td>...</td>\n",
       "      <td>0</td>\n",
       "      <td>0</td>\n",
       "      <td>0</td>\n",
       "      <td>0</td>\n",
       "      <td>0</td>\n",
       "      <td>0</td>\n",
       "      <td>0</td>\n",
       "      <td>0</td>\n",
       "      <td>0</td>\n",
       "      <td>0</td>\n",
       "    </tr>\n",
       "    <tr>\n",
       "      <th>121</th>\n",
       "      <td>2019-01</td>\n",
       "      <td>85365090</td>\n",
       "      <td>11</td>\n",
       "      <td>23</td>\n",
       "      <td>SP</td>\n",
       "      <td>4</td>\n",
       "      <td>817600</td>\n",
       "      <td>69172</td>\n",
       "      <td>4482</td>\n",
       "      <td>552919</td>\n",
       "      <td>...</td>\n",
       "      <td>0</td>\n",
       "      <td>0</td>\n",
       "      <td>0</td>\n",
       "      <td>0</td>\n",
       "      <td>0</td>\n",
       "      <td>0</td>\n",
       "      <td>0</td>\n",
       "      <td>0</td>\n",
       "      <td>0</td>\n",
       "      <td>0</td>\n",
       "    </tr>\n",
       "    <tr>\n",
       "      <th>122</th>\n",
       "      <td>2019-01</td>\n",
       "      <td>85366990</td>\n",
       "      <td>11</td>\n",
       "      <td>493</td>\n",
       "      <td>SP</td>\n",
       "      <td>4</td>\n",
       "      <td>817600</td>\n",
       "      <td>215</td>\n",
       "      <td>35</td>\n",
       "      <td>3689</td>\n",
       "      <td>...</td>\n",
       "      <td>0</td>\n",
       "      <td>0</td>\n",
       "      <td>0</td>\n",
       "      <td>0</td>\n",
       "      <td>0</td>\n",
       "      <td>0</td>\n",
       "      <td>0</td>\n",
       "      <td>0</td>\n",
       "      <td>0</td>\n",
       "      <td>0</td>\n",
       "    </tr>\n",
       "  </tbody>\n",
       "</table>\n",
       "<p>3 rows × 161 columns</p>\n",
       "</div>"
      ],
      "text/plain": [
       "     ANO-MES    CO_NCM  CO_UNID  CO_PAIS SG_UF_NCM  CO_VIA  CO_URF  QT_ESTAT  \\\n",
       "25   2019-01  85362000       11      160        SP       1  817800   2643776   \n",
       "121  2019-01  85365090       11       23        SP       4  817600     69172   \n",
       "122  2019-01  85366990       11      493        SP       4  817600       215   \n",
       "\n",
       "     KG_LIQUIDO   VL_FOB  ...  Pais_767  Pais_776  Pais_791  Pais_820  \\\n",
       "25       414413  3654038  ...         0         0         0         0   \n",
       "121        4482   552919  ...         0         0         0         0   \n",
       "122          35     3689  ...         0         0         0         0   \n",
       "\n",
       "     Pais_827  Pais_831  Pais_845  Pais_858  Pais_863  Pais_888  \n",
       "25          0         0         0         0         0         0  \n",
       "121         0         0         0         0         0         0  \n",
       "122         0         0         0         0         0         0  \n",
       "\n",
       "[3 rows x 161 columns]"
      ]
     },
     "execution_count": 16,
     "metadata": {},
     "output_type": "execute_result"
    }
   ],
   "source": [
    "df_encoded = pd.concat([df_encoded, pd.get_dummies(df_encoded[\"CO_PAIS\"],prefix=\"Pais\")], axis=1)\n",
    "df_encoded.head(3)"
   ]
  },
  {
   "cell_type": "code",
   "execution_count": 17,
   "metadata": {},
   "outputs": [
    {
     "data": {
      "text/html": [
       "<div>\n",
       "<style scoped>\n",
       "    .dataframe tbody tr th:only-of-type {\n",
       "        vertical-align: middle;\n",
       "    }\n",
       "\n",
       "    .dataframe tbody tr th {\n",
       "        vertical-align: top;\n",
       "    }\n",
       "\n",
       "    .dataframe thead th {\n",
       "        text-align: right;\n",
       "    }\n",
       "</style>\n",
       "<table border=\"1\" class=\"dataframe\">\n",
       "  <thead>\n",
       "    <tr style=\"text-align: right;\">\n",
       "      <th></th>\n",
       "      <th>ANO-MES</th>\n",
       "      <th>CO_NCM</th>\n",
       "      <th>CO_UNID</th>\n",
       "      <th>CO_PAIS</th>\n",
       "      <th>SG_UF_NCM</th>\n",
       "      <th>CO_VIA</th>\n",
       "      <th>CO_URF</th>\n",
       "      <th>QT_ESTAT</th>\n",
       "      <th>KG_LIQUIDO</th>\n",
       "      <th>VL_FOB</th>\n",
       "      <th>...</th>\n",
       "      <th>UF_927900</th>\n",
       "      <th>UF_1010252</th>\n",
       "      <th>UF_1010852</th>\n",
       "      <th>UF_1017500</th>\n",
       "      <th>UF_1017503</th>\n",
       "      <th>UF_1017700</th>\n",
       "      <th>UF_1017701</th>\n",
       "      <th>UF_1017800</th>\n",
       "      <th>UF_1017801</th>\n",
       "      <th>UF_1017900</th>\n",
       "    </tr>\n",
       "  </thead>\n",
       "  <tbody>\n",
       "    <tr>\n",
       "      <th>25</th>\n",
       "      <td>2019-01</td>\n",
       "      <td>85362000</td>\n",
       "      <td>11</td>\n",
       "      <td>160</td>\n",
       "      <td>SP</td>\n",
       "      <td>1</td>\n",
       "      <td>817800</td>\n",
       "      <td>2643776</td>\n",
       "      <td>414413</td>\n",
       "      <td>3654038</td>\n",
       "      <td>...</td>\n",
       "      <td>0</td>\n",
       "      <td>0</td>\n",
       "      <td>0</td>\n",
       "      <td>0</td>\n",
       "      <td>0</td>\n",
       "      <td>0</td>\n",
       "      <td>0</td>\n",
       "      <td>0</td>\n",
       "      <td>0</td>\n",
       "      <td>0</td>\n",
       "    </tr>\n",
       "    <tr>\n",
       "      <th>121</th>\n",
       "      <td>2019-01</td>\n",
       "      <td>85365090</td>\n",
       "      <td>11</td>\n",
       "      <td>23</td>\n",
       "      <td>SP</td>\n",
       "      <td>4</td>\n",
       "      <td>817600</td>\n",
       "      <td>69172</td>\n",
       "      <td>4482</td>\n",
       "      <td>552919</td>\n",
       "      <td>...</td>\n",
       "      <td>0</td>\n",
       "      <td>0</td>\n",
       "      <td>0</td>\n",
       "      <td>0</td>\n",
       "      <td>0</td>\n",
       "      <td>0</td>\n",
       "      <td>0</td>\n",
       "      <td>0</td>\n",
       "      <td>0</td>\n",
       "      <td>0</td>\n",
       "    </tr>\n",
       "    <tr>\n",
       "      <th>122</th>\n",
       "      <td>2019-01</td>\n",
       "      <td>85366990</td>\n",
       "      <td>11</td>\n",
       "      <td>493</td>\n",
       "      <td>SP</td>\n",
       "      <td>4</td>\n",
       "      <td>817600</td>\n",
       "      <td>215</td>\n",
       "      <td>35</td>\n",
       "      <td>3689</td>\n",
       "      <td>...</td>\n",
       "      <td>0</td>\n",
       "      <td>0</td>\n",
       "      <td>0</td>\n",
       "      <td>0</td>\n",
       "      <td>0</td>\n",
       "      <td>0</td>\n",
       "      <td>0</td>\n",
       "      <td>0</td>\n",
       "      <td>0</td>\n",
       "      <td>0</td>\n",
       "    </tr>\n",
       "  </tbody>\n",
       "</table>\n",
       "<p>3 rows × 212 columns</p>\n",
       "</div>"
      ],
      "text/plain": [
       "     ANO-MES    CO_NCM  CO_UNID  CO_PAIS SG_UF_NCM  CO_VIA  CO_URF  QT_ESTAT  \\\n",
       "25   2019-01  85362000       11      160        SP       1  817800   2643776   \n",
       "121  2019-01  85365090       11       23        SP       4  817600     69172   \n",
       "122  2019-01  85366990       11      493        SP       4  817600       215   \n",
       "\n",
       "     KG_LIQUIDO   VL_FOB  ...  UF_927900  UF_1010252  UF_1010852  UF_1017500  \\\n",
       "25       414413  3654038  ...          0           0           0           0   \n",
       "121        4482   552919  ...          0           0           0           0   \n",
       "122          35     3689  ...          0           0           0           0   \n",
       "\n",
       "     UF_1017503  UF_1017700  UF_1017701  UF_1017800  UF_1017801  UF_1017900  \n",
       "25            0           0           0           0           0           0  \n",
       "121           0           0           0           0           0           0  \n",
       "122           0           0           0           0           0           0  \n",
       "\n",
       "[3 rows x 212 columns]"
      ]
     },
     "execution_count": 17,
     "metadata": {},
     "output_type": "execute_result"
    }
   ],
   "source": [
    "df_encoded = pd.concat([df_encoded, pd.get_dummies(df_encoded[\"CO_URF\"],prefix=\"UF\")], axis=1)\n",
    "df_encoded.head(3)"
   ]
  },
  {
   "cell_type": "code",
   "execution_count": 18,
   "metadata": {},
   "outputs": [
    {
     "data": {
      "text/html": [
       "<div>\n",
       "<style scoped>\n",
       "    .dataframe tbody tr th:only-of-type {\n",
       "        vertical-align: middle;\n",
       "    }\n",
       "\n",
       "    .dataframe tbody tr th {\n",
       "        vertical-align: top;\n",
       "    }\n",
       "\n",
       "    .dataframe thead th {\n",
       "        text-align: right;\n",
       "    }\n",
       "</style>\n",
       "<table border=\"1\" class=\"dataframe\">\n",
       "  <thead>\n",
       "    <tr style=\"text-align: right;\">\n",
       "      <th></th>\n",
       "      <th>ANO-MES</th>\n",
       "      <th>CO_NCM</th>\n",
       "      <th>CO_UNID</th>\n",
       "      <th>CO_PAIS</th>\n",
       "      <th>SG_UF_NCM</th>\n",
       "      <th>CO_VIA</th>\n",
       "      <th>CO_URF</th>\n",
       "      <th>QT_ESTAT</th>\n",
       "      <th>KG_LIQUIDO</th>\n",
       "      <th>VL_FOB</th>\n",
       "      <th>...</th>\n",
       "      <th>UF_1017800</th>\n",
       "      <th>UF_1017801</th>\n",
       "      <th>UF_1017900</th>\n",
       "      <th>Modal_0</th>\n",
       "      <th>Modal_1</th>\n",
       "      <th>Modal_4</th>\n",
       "      <th>Modal_5</th>\n",
       "      <th>Modal_7</th>\n",
       "      <th>Modal_9</th>\n",
       "      <th>Modal_10</th>\n",
       "    </tr>\n",
       "  </thead>\n",
       "  <tbody>\n",
       "    <tr>\n",
       "      <th>25</th>\n",
       "      <td>2019-01</td>\n",
       "      <td>85362000</td>\n",
       "      <td>11</td>\n",
       "      <td>160</td>\n",
       "      <td>SP</td>\n",
       "      <td>1</td>\n",
       "      <td>817800</td>\n",
       "      <td>2643776</td>\n",
       "      <td>414413</td>\n",
       "      <td>3654038</td>\n",
       "      <td>...</td>\n",
       "      <td>0</td>\n",
       "      <td>0</td>\n",
       "      <td>0</td>\n",
       "      <td>0</td>\n",
       "      <td>1</td>\n",
       "      <td>0</td>\n",
       "      <td>0</td>\n",
       "      <td>0</td>\n",
       "      <td>0</td>\n",
       "      <td>0</td>\n",
       "    </tr>\n",
       "    <tr>\n",
       "      <th>121</th>\n",
       "      <td>2019-01</td>\n",
       "      <td>85365090</td>\n",
       "      <td>11</td>\n",
       "      <td>23</td>\n",
       "      <td>SP</td>\n",
       "      <td>4</td>\n",
       "      <td>817600</td>\n",
       "      <td>69172</td>\n",
       "      <td>4482</td>\n",
       "      <td>552919</td>\n",
       "      <td>...</td>\n",
       "      <td>0</td>\n",
       "      <td>0</td>\n",
       "      <td>0</td>\n",
       "      <td>0</td>\n",
       "      <td>0</td>\n",
       "      <td>1</td>\n",
       "      <td>0</td>\n",
       "      <td>0</td>\n",
       "      <td>0</td>\n",
       "      <td>0</td>\n",
       "    </tr>\n",
       "    <tr>\n",
       "      <th>122</th>\n",
       "      <td>2019-01</td>\n",
       "      <td>85366990</td>\n",
       "      <td>11</td>\n",
       "      <td>493</td>\n",
       "      <td>SP</td>\n",
       "      <td>4</td>\n",
       "      <td>817600</td>\n",
       "      <td>215</td>\n",
       "      <td>35</td>\n",
       "      <td>3689</td>\n",
       "      <td>...</td>\n",
       "      <td>0</td>\n",
       "      <td>0</td>\n",
       "      <td>0</td>\n",
       "      <td>0</td>\n",
       "      <td>0</td>\n",
       "      <td>1</td>\n",
       "      <td>0</td>\n",
       "      <td>0</td>\n",
       "      <td>0</td>\n",
       "      <td>0</td>\n",
       "    </tr>\n",
       "  </tbody>\n",
       "</table>\n",
       "<p>3 rows × 219 columns</p>\n",
       "</div>"
      ],
      "text/plain": [
       "     ANO-MES    CO_NCM  CO_UNID  CO_PAIS SG_UF_NCM  CO_VIA  CO_URF  QT_ESTAT  \\\n",
       "25   2019-01  85362000       11      160        SP       1  817800   2643776   \n",
       "121  2019-01  85365090       11       23        SP       4  817600     69172   \n",
       "122  2019-01  85366990       11      493        SP       4  817600       215   \n",
       "\n",
       "     KG_LIQUIDO   VL_FOB  ...  UF_1017800  UF_1017801  UF_1017900  Modal_0  \\\n",
       "25       414413  3654038  ...           0           0           0        0   \n",
       "121        4482   552919  ...           0           0           0        0   \n",
       "122          35     3689  ...           0           0           0        0   \n",
       "\n",
       "     Modal_1  Modal_4  Modal_5  Modal_7  Modal_9  Modal_10  \n",
       "25         1        0        0        0        0         0  \n",
       "121        0        1        0        0        0         0  \n",
       "122        0        1        0        0        0         0  \n",
       "\n",
       "[3 rows x 219 columns]"
      ]
     },
     "execution_count": 18,
     "metadata": {},
     "output_type": "execute_result"
    }
   ],
   "source": [
    "df_encoded = pd.concat([df_encoded, pd.get_dummies(df_encoded[\"CO_VIA\"],prefix=\"Modal\")], axis=1)\n",
    "df_encoded.head(3)"
   ]
  },
  {
   "cell_type": "code",
   "execution_count": 19,
   "metadata": {},
   "outputs": [],
   "source": [
    "# Exclusão das colunas das variáveis categóricas (que deram origem às variáveis dummie)\n",
    "df_encoded = df_encoded.drop(columns=['ANO-MES', 'CO_NCM', 'CO_UNID', 'CO_PAIS', 'SG_UF_NCM', 'CO_VIA',\n",
    "       'CO_URF', 'KG_LIQUIDO', 'VL_FOB'])"
   ]
  },
  {
   "cell_type": "code",
   "execution_count": 20,
   "metadata": {},
   "outputs": [
    {
     "data": {
      "text/plain": [
       "Index(['QT_ESTAT', 'câmbio_mês_atual', 'câmbio_mês_anterior',\n",
       "       'VL_FOB/QT_ESTAT', 'Mês_2019-01', 'Mês_2019-02', 'Mês_2019-03',\n",
       "       'Mês_2019-04', 'Mês_2019-05', 'Mês_2019-06',\n",
       "       ...\n",
       "       'UF_1017800', 'UF_1017801', 'UF_1017900', 'Modal_0', 'Modal_1',\n",
       "       'Modal_4', 'Modal_5', 'Modal_7', 'Modal_9', 'Modal_10'],\n",
       "      dtype='object', length=210)"
      ]
     },
     "execution_count": 20,
     "metadata": {},
     "output_type": "execute_result"
    }
   ],
   "source": [
    "df_encoded.columns"
   ]
  },
  {
   "cell_type": "code",
   "execution_count": 21,
   "metadata": {},
   "outputs": [
    {
     "name": "stdout",
     "output_type": "stream",
     "text": [
      "<class 'pandas.core.frame.DataFrame'>\n",
      "Int64Index: 43444 entries, 25 to 1764428\n",
      "Columns: 210 entries, QT_ESTAT to Modal_10\n",
      "dtypes: float64(3), int64(1), uint8(206)\n",
      "memory usage: 10.2 MB\n"
     ]
    }
   ],
   "source": [
    "df_encoded.info()"
   ]
  },
  {
   "cell_type": "code",
   "execution_count": 22,
   "metadata": {},
   "outputs": [
    {
     "data": {
      "text/plain": [
       "VL_FOB/QT_ESTAT    1.000000\n",
       "Pais_628           0.058523\n",
       "Pais_149           0.052824\n",
       "NCM_85364900       0.050266\n",
       "NCM_85365020       0.045688\n",
       "UF_717700          0.041568\n",
       "Pais_249           0.034206\n",
       "UF_217801          0.033681\n",
       "UF_717600          0.033394\n",
       "Pais_160           0.031779\n",
       "Pais_275           0.029562\n",
       "NCM_85369040       0.028280\n",
       "Modal_1            0.025335\n",
       "NCM_85361000       0.025070\n",
       "NCM_85362000       0.023879\n",
       "UF_417901          0.023094\n",
       "Modal_0            0.022876\n",
       "NCM_85367000       0.021765\n",
       "Pais_538           0.021409\n",
       "UF_0               0.021329\n",
       "UF_817800          0.021179\n",
       "UF_117600          0.020205\n",
       "Modal_4            0.020154\n",
       "UF_727600          0.020010\n",
       "Pais_161           0.018864\n",
       "NCM_85363090       0.018830\n",
       "Pais_271           0.017542\n",
       "UF_317901          0.016275\n",
       "NCM_85364100       0.016240\n",
       "UF_317900          0.015903\n",
       "Pais_383           0.015683\n",
       "UF_917800          0.015550\n",
       "UF_227600          0.015521\n",
       "NCM_85369010       0.014782\n",
       "UF_517801          0.014455\n",
       "Pais_493           0.014400\n",
       "Pais_399           0.014353\n",
       "UF_717800          0.013938\n",
       "NCM_85369020       0.013881\n",
       "NCM_85365010       0.013561\n",
       "UF_1017801         0.012895\n",
       "Pais_764           0.012496\n",
       "Mês_2019-06        0.012084\n",
       "Pais_776           0.011925\n",
       "UF_817700          0.011811\n",
       "UF_927700          0.011602\n",
       "UF_1017700         0.011473\n",
       "Pais_791           0.011409\n",
       "NCM_85366100       0.011341\n",
       "Pais_603           0.011013\n",
       "Name: VL_FOB/QT_ESTAT, dtype: float64"
      ]
     },
     "execution_count": 22,
     "metadata": {},
     "output_type": "execute_result"
    }
   ],
   "source": [
    "# Identificação das variáveis que mais se relacionam com a variável alvo (\"VL_FOB/QT_ESTAT\")\n",
    "correlacoes = df_encoded.corr().abs()[\"VL_FOB/QT_ESTAT\"].sort_values(ascending=False)\n",
    "correlacoes.head(50)"
   ]
  },
  {
   "cell_type": "code",
   "execution_count": 23,
   "metadata": {},
   "outputs": [
    {
     "data": {
      "text/plain": [
       "Index(['VL_FOB/QT_ESTAT', 'Pais_628', 'Pais_149', 'NCM_85364900',\n",
       "       'NCM_85365020', 'UF_717700', 'Pais_249', 'UF_217801', 'UF_717600',\n",
       "       'Pais_160', 'Pais_275', 'NCM_85369040', 'Modal_1', 'NCM_85361000',\n",
       "       'NCM_85362000', 'UF_417901', 'Modal_0', 'NCM_85367000', 'Pais_538',\n",
       "       'UF_0', 'UF_817800', 'UF_117600', 'Modal_4', 'UF_727600'],\n",
       "      dtype='object')"
      ]
     },
     "execution_count": 23,
     "metadata": {},
     "output_type": "execute_result"
    }
   ],
   "source": [
    "# Identificando as features com as maiores correlações (maior ou igual a 0,01) para serem mantidas e excluídas as demais\n",
    "(correlacoes[correlacoes >= 0.02]).index"
   ]
  },
  {
   "cell_type": "code",
   "execution_count": 24,
   "metadata": {},
   "outputs": [],
   "source": [
    "# Selecionando as features com as maiores correlações (maior ou igual a 0,01) para serem mantidas e excluídas as demais\n",
    "df2 = df_encoded[(correlacoes[correlacoes >= 0.02]).index]"
   ]
  },
  {
   "cell_type": "code",
   "execution_count": 25,
   "metadata": {},
   "outputs": [],
   "source": [
    "#Checar se existe correlação entre as features selecionadas\n",
    "import matplotlib.pyplot as plt\n",
    "import seaborn as sns\n",
    "%matplotlib inline"
   ]
  },
  {
   "cell_type": "code",
   "execution_count": 26,
   "metadata": {
    "scrolled": true
   },
   "outputs": [
    {
     "data": {
      "text/plain": [
       "<AxesSubplot:>"
      ]
     },
     "execution_count": 26,
     "metadata": {},
     "output_type": "execute_result"
    },
    {
     "data": {
      "image/png": "[encoded data removed]",
      "text/plain": [
       "<Figure size 432x288 with 2 Axes>"
      ]
     },
     "metadata": {
      "needs_background": "light"
     },
     "output_type": "display_data"
    }
   ],
   "source": [
    "sns.heatmap(df2.corr(),cmap=\"coolwarm\", annot=False )"
   ]
  },
  {
   "cell_type": "code",
   "execution_count": 27,
   "metadata": {},
   "outputs": [],
   "source": [
    "#Considerando que as Modal 1 e Modal 4 estão fortemente relacionadas, irei retirar uma delas antes da elaboração do modelo\n",
    "df2=df2.drop(columns=\"Modal_1\")"
   ]
  },
  {
   "cell_type": "markdown",
   "metadata": {},
   "source": [
    "# Dividindo o dataset em \"base de teste\" e \"base de treinamento\""
   ]
  },
  {
   "cell_type": "code",
   "execution_count": 28,
   "metadata": {},
   "outputs": [
    {
     "data": {
      "text/plain": [
       "Index(['VL_FOB/QT_ESTAT', 'Pais_628', 'Pais_149', 'NCM_85364900',\n",
       "       'NCM_85365020', 'UF_717700', 'Pais_249', 'UF_217801', 'UF_717600',\n",
       "       'Pais_160', 'Pais_275', 'NCM_85369040', 'NCM_85361000', 'NCM_85362000',\n",
       "       'UF_417901', 'Modal_0', 'NCM_85367000', 'Pais_538', 'UF_0', 'UF_817800',\n",
       "       'UF_117600', 'Modal_4', 'UF_727600'],\n",
       "      dtype='object')"
      ]
     },
     "execution_count": 28,
     "metadata": {},
     "output_type": "execute_result"
    }
   ],
   "source": [
    "df2.columns"
   ]
  },
  {
   "cell_type": "code",
   "execution_count": 29,
   "metadata": {},
   "outputs": [],
   "source": [
    "x = df2[['Pais_628', 'Pais_149', 'NCM_85364900',\n",
    "       'NCM_85365020', 'UF_717700', 'Pais_249', 'UF_217801', 'UF_717600',\n",
    "       'Pais_160', 'Pais_275', 'NCM_85369040', 'NCM_85361000', 'NCM_85362000',\n",
    "       'UF_417901', 'Modal_0', 'NCM_85367000', 'Pais_538', 'UF_0', 'UF_817800',\n",
    "       'UF_117600', 'Modal_4', 'UF_727600']]\n",
    "y = df2['VL_FOB/QT_ESTAT']"
   ]
  },
  {
   "cell_type": "code",
   "execution_count": 30,
   "metadata": {},
   "outputs": [],
   "source": [
    "from sklearn.model_selection import train_test_split"
   ]
  },
  {
   "cell_type": "code",
   "execution_count": 31,
   "metadata": {},
   "outputs": [],
   "source": [
    "x_train, x_test, y_train, y_test = train_test_split(x, y, test_size=0.1, random_state=16)"
   ]
  },
  {
   "cell_type": "markdown",
   "metadata": {},
   "source": [
    "# Treinando o modelo LinearRegression"
   ]
  },
  {
   "cell_type": "code",
   "execution_count": 32,
   "metadata": {},
   "outputs": [],
   "source": [
    "from sklearn.linear_model import LinearRegression"
   ]
  },
  {
   "cell_type": "code",
   "execution_count": 33,
   "metadata": {},
   "outputs": [],
   "source": [
    "lm = LinearRegression()"
   ]
  },
  {
   "cell_type": "code",
   "execution_count": 34,
   "metadata": {},
   "outputs": [
    {
     "data": {
      "text/plain": [
       "LinearRegression()"
      ]
     },
     "execution_count": 34,
     "metadata": {},
     "output_type": "execute_result"
    }
   ],
   "source": [
    "lm.fit(x_train,y_train)"
   ]
  },
  {
   "cell_type": "code",
   "execution_count": 35,
   "metadata": {},
   "outputs": [
    {
     "name": "stdout",
     "output_type": "stream",
     "text": [
      "35.4065037352664\n"
     ]
    }
   ],
   "source": [
    "# impressão do intercepto\n",
    "print(lm.intercept_)"
   ]
  },
  {
   "cell_type": "code",
   "execution_count": 36,
   "metadata": {},
   "outputs": [
    {
     "data": {
      "text/html": [
       "<div>\n",
       "<style scoped>\n",
       "    .dataframe tbody tr th:only-of-type {\n",
       "        vertical-align: middle;\n",
       "    }\n",
       "\n",
       "    .dataframe tbody tr th {\n",
       "        vertical-align: top;\n",
       "    }\n",
       "\n",
       "    .dataframe thead th {\n",
       "        text-align: right;\n",
       "    }\n",
       "</style>\n",
       "<table border=\"1\" class=\"dataframe\">\n",
       "  <thead>\n",
       "    <tr style=\"text-align: right;\">\n",
       "      <th></th>\n",
       "      <th>Coeficiente</th>\n",
       "    </tr>\n",
       "  </thead>\n",
       "  <tbody>\n",
       "    <tr>\n",
       "      <th>Pais_628</th>\n",
       "      <td>447.808654</td>\n",
       "    </tr>\n",
       "    <tr>\n",
       "      <th>Pais_149</th>\n",
       "      <td>537.914270</td>\n",
       "    </tr>\n",
       "    <tr>\n",
       "      <th>NCM_85364900</th>\n",
       "      <td>198.856042</td>\n",
       "    </tr>\n",
       "    <tr>\n",
       "      <th>NCM_85365020</th>\n",
       "      <td>1655.427062</td>\n",
       "    </tr>\n",
       "    <tr>\n",
       "      <th>UF_717700</th>\n",
       "      <td>167.924821</td>\n",
       "    </tr>\n",
       "    <tr>\n",
       "      <th>Pais_249</th>\n",
       "      <td>117.880014</td>\n",
       "    </tr>\n",
       "    <tr>\n",
       "      <th>UF_217801</th>\n",
       "      <td>945.322901</td>\n",
       "    </tr>\n",
       "    <tr>\n",
       "      <th>UF_717600</th>\n",
       "      <td>249.675388</td>\n",
       "    </tr>\n",
       "    <tr>\n",
       "      <th>Pais_160</th>\n",
       "      <td>-67.751859</td>\n",
       "    </tr>\n",
       "    <tr>\n",
       "      <th>Pais_275</th>\n",
       "      <td>172.501213</td>\n",
       "    </tr>\n",
       "    <tr>\n",
       "      <th>NCM_85369040</th>\n",
       "      <td>-65.512320</td>\n",
       "    </tr>\n",
       "    <tr>\n",
       "      <th>NCM_85361000</th>\n",
       "      <td>-74.383786</td>\n",
       "    </tr>\n",
       "    <tr>\n",
       "      <th>NCM_85362000</th>\n",
       "      <td>143.495632</td>\n",
       "    </tr>\n",
       "    <tr>\n",
       "      <th>UF_417901</th>\n",
       "      <td>286.942657</td>\n",
       "    </tr>\n",
       "    <tr>\n",
       "      <th>Modal_0</th>\n",
       "      <td>136.545621</td>\n",
       "    </tr>\n",
       "    <tr>\n",
       "      <th>NCM_85367000</th>\n",
       "      <td>214.840787</td>\n",
       "    </tr>\n",
       "    <tr>\n",
       "      <th>Pais_538</th>\n",
       "      <td>341.925303</td>\n",
       "    </tr>\n",
       "    <tr>\n",
       "      <th>UF_0</th>\n",
       "      <td>54.569578</td>\n",
       "    </tr>\n",
       "    <tr>\n",
       "      <th>UF_817800</th>\n",
       "      <td>-1.236501</td>\n",
       "    </tr>\n",
       "    <tr>\n",
       "      <th>UF_117600</th>\n",
       "      <td>525.726158</td>\n",
       "    </tr>\n",
       "    <tr>\n",
       "      <th>Modal_4</th>\n",
       "      <td>21.688258</td>\n",
       "    </tr>\n",
       "    <tr>\n",
       "      <th>UF_727600</th>\n",
       "      <td>263.851020</td>\n",
       "    </tr>\n",
       "  </tbody>\n",
       "</table>\n",
       "</div>"
      ],
      "text/plain": [
       "              Coeficiente\n",
       "Pais_628       447.808654\n",
       "Pais_149       537.914270\n",
       "NCM_85364900   198.856042\n",
       "NCM_85365020  1655.427062\n",
       "UF_717700      167.924821\n",
       "Pais_249       117.880014\n",
       "UF_217801      945.322901\n",
       "UF_717600      249.675388\n",
       "Pais_160       -67.751859\n",
       "Pais_275       172.501213\n",
       "NCM_85369040   -65.512320\n",
       "NCM_85361000   -74.383786\n",
       "NCM_85362000   143.495632\n",
       "UF_417901      286.942657\n",
       "Modal_0        136.545621\n",
       "NCM_85367000   214.840787\n",
       "Pais_538       341.925303\n",
       "UF_0            54.569578\n",
       "UF_817800       -1.236501\n",
       "UF_117600      525.726158\n",
       "Modal_4         21.688258\n",
       "UF_727600      263.851020"
      ]
     },
     "execution_count": 36,
     "metadata": {},
     "output_type": "execute_result"
    }
   ],
   "source": [
    "# impressão dos coeficientes\n",
    "coeff_df = pd.DataFrame(lm.coef_,x.columns,columns=['Coeficiente'])\n",
    "coeff_df"
   ]
  },
  {
   "cell_type": "code",
   "execution_count": 37,
   "metadata": {},
   "outputs": [],
   "source": [
    "# realizando as predições\n",
    "predicoesLR = lm.predict(x_test)"
   ]
  },
  {
   "cell_type": "markdown",
   "metadata": {},
   "source": [
    "# Treinando o modelo Random Forest Regressor"
   ]
  },
  {
   "cell_type": "code",
   "execution_count": 38,
   "metadata": {},
   "outputs": [
    {
     "data": {
      "text/plain": [
       "RandomForestRegressor()"
      ]
     },
     "execution_count": 38,
     "metadata": {},
     "output_type": "execute_result"
    }
   ],
   "source": [
    "from sklearn.ensemble import RandomForestRegressor\n",
    "rfr = RandomForestRegressor(n_estimators=100)\n",
    "rfr.fit(x_train, y_train)"
   ]
  },
  {
   "cell_type": "code",
   "execution_count": 39,
   "metadata": {},
   "outputs": [],
   "source": [
    "predicoesRFR = rfr.predict(x_test)"
   ]
  },
  {
   "cell_type": "markdown",
   "metadata": {},
   "source": [
    "# Treinando o modelo Gradient Boosting Regressor"
   ]
  },
  {
   "cell_type": "code",
   "execution_count": 40,
   "metadata": {},
   "outputs": [],
   "source": [
    "from sklearn.ensemble import GradientBoostingRegressor"
   ]
  },
  {
   "cell_type": "code",
   "execution_count": 41,
   "metadata": {},
   "outputs": [
    {
     "data": {
      "text/plain": [
       "GradientBoostingRegressor()"
      ]
     },
     "execution_count": 41,
     "metadata": {},
     "output_type": "execute_result"
    }
   ],
   "source": [
    "gbr = GradientBoostingRegressor()\n",
    "gbr.fit(x_train, y_train)"
   ]
  },
  {
   "cell_type": "code",
   "execution_count": 42,
   "metadata": {},
   "outputs": [],
   "source": [
    "predicoesGBR = gbr.predict(x_test)"
   ]
  },
  {
   "cell_type": "markdown",
   "metadata": {},
   "source": [
    "# Avaliando os modelos"
   ]
  },
  {
   "cell_type": "markdown",
   "metadata": {},
   "source": [
    "#### Root mean squared error - RMSE"
   ]
  },
  {
   "cell_type": "code",
   "execution_count": 43,
   "metadata": {},
   "outputs": [],
   "source": [
    "from math import sqrt\n",
    "from sklearn.metrics import mean_squared_error"
   ]
  },
  {
   "cell_type": "code",
   "execution_count": 44,
   "metadata": {},
   "outputs": [],
   "source": [
    "def rmse(y_true, y_pred):\n",
    "    return sqrt(mean_squared_error(y_true, y_pred))"
   ]
  },
  {
   "cell_type": "code",
   "execution_count": 45,
   "metadata": {},
   "outputs": [
    {
     "data": {
      "text/plain": [
       "595.2097357523867"
      ]
     },
     "execution_count": 45,
     "metadata": {},
     "output_type": "execute_result"
    }
   ],
   "source": [
    "RMSE_LR = rmse(y_test,predicoesLR)\n",
    "RMSE_LR"
   ]
  },
  {
   "cell_type": "code",
   "execution_count": 46,
   "metadata": {},
   "outputs": [
    {
     "data": {
      "text/plain": [
       "622.4634072702115"
      ]
     },
     "execution_count": 46,
     "metadata": {},
     "output_type": "execute_result"
    }
   ],
   "source": [
    "RMSE_RFR = rmse(y_test,predicoesRFR)\n",
    "RMSE_RFR"
   ]
  },
  {
   "cell_type": "code",
   "execution_count": 47,
   "metadata": {
    "scrolled": true
   },
   "outputs": [
    {
     "data": {
      "text/plain": [
       "601.6618201307526"
      ]
     },
     "execution_count": 47,
     "metadata": {},
     "output_type": "execute_result"
    }
   ],
   "source": [
    "RMSE_GBR = rmse(y_test,predicoesGBR)\n",
    "RMSE_GBR"
   ]
  },
  {
   "cell_type": "markdown",
   "metadata": {},
   "source": [
    "#### Mean absolute error - MAE"
   ]
  },
  {
   "cell_type": "code",
   "execution_count": 48,
   "metadata": {},
   "outputs": [],
   "source": [
    "from sklearn.metrics import mean_absolute_error"
   ]
  },
  {
   "cell_type": "code",
   "execution_count": 49,
   "metadata": {},
   "outputs": [
    {
     "data": {
      "text/plain": [
       "150.44844735105906"
      ]
     },
     "execution_count": 49,
     "metadata": {},
     "output_type": "execute_result"
    }
   ],
   "source": [
    "MAE_LR=mean_absolute_error(y_test, predicoesLR)\n",
    "MAE_LR"
   ]
  },
  {
   "cell_type": "code",
   "execution_count": 50,
   "metadata": {},
   "outputs": [
    {
     "data": {
      "text/plain": [
       "136.75193716063356"
      ]
     },
     "execution_count": 50,
     "metadata": {},
     "output_type": "execute_result"
    }
   ],
   "source": [
    "MAE_RFR=mean_absolute_error(y_test, predicoesRFR)\n",
    "MAE_RFR"
   ]
  },
  {
   "cell_type": "code",
   "execution_count": 51,
   "metadata": {},
   "outputs": [
    {
     "data": {
      "text/plain": [
       "138.60345982266153"
      ]
     },
     "execution_count": 51,
     "metadata": {},
     "output_type": "execute_result"
    }
   ],
   "source": [
    "MAE_GBR=mean_absolute_error(y_test, predicoesGBR)\n",
    "MAE_GBR"
   ]
  },
  {
   "cell_type": "markdown",
   "metadata": {},
   "source": [
    "#### Mean squared error - MSE"
   ]
  },
  {
   "cell_type": "code",
   "execution_count": 52,
   "metadata": {},
   "outputs": [],
   "source": [
    "from sklearn.metrics import mean_absolute_error"
   ]
  },
  {
   "cell_type": "code",
   "execution_count": 53,
   "metadata": {},
   "outputs": [
    {
     "data": {
      "text/plain": [
       "354274.62953442597"
      ]
     },
     "execution_count": 53,
     "metadata": {},
     "output_type": "execute_result"
    }
   ],
   "source": [
    "MSE_LR=mean_squared_error(y_test, predicoesLR)\n",
    "MSE_LR"
   ]
  },
  {
   "cell_type": "code",
   "execution_count": 54,
   "metadata": {},
   "outputs": [
    {
     "data": {
      "text/plain": [
       "387460.6933904412"
      ]
     },
     "execution_count": 54,
     "metadata": {},
     "output_type": "execute_result"
    }
   ],
   "source": [
    "MSE_RFR=mean_squared_error(y_test, predicoesRFR)\n",
    "MSE_RFR"
   ]
  },
  {
   "cell_type": "code",
   "execution_count": 55,
   "metadata": {},
   "outputs": [
    {
     "data": {
      "text/plain": [
       "361996.9458030501"
      ]
     },
     "execution_count": 55,
     "metadata": {},
     "output_type": "execute_result"
    }
   ],
   "source": [
    "MSE_GBR=mean_squared_error(y_test, predicoesGBR)\n",
    "MSE_GBR"
   ]
  },
  {
   "cell_type": "markdown",
   "metadata": {},
   "source": [
    "#### Coeficente de determinação - R²"
   ]
  },
  {
   "cell_type": "code",
   "execution_count": 57,
   "metadata": {},
   "outputs": [],
   "source": [
    "from sklearn.metrics import r2_score"
   ]
  },
  {
   "cell_type": "code",
   "execution_count": 58,
   "metadata": {},
   "outputs": [
    {
     "data": {
      "text/plain": [
       "-0.010436372880378686"
      ]
     },
     "execution_count": 58,
     "metadata": {},
     "output_type": "execute_result"
    }
   ],
   "source": [
    "R2_LR=r2_score(y_test, predicoesLR)\n",
    "R2_LR"
   ]
  },
  {
   "cell_type": "code",
   "execution_count": 59,
   "metadata": {},
   "outputs": [
    {
     "data": {
      "text/plain": [
       "-0.10508725442082545"
      ]
     },
     "execution_count": 59,
     "metadata": {},
     "output_type": "execute_result"
    }
   ],
   "source": [
    "R2_RFR=r2_score(y_test, predicoesRFR)\n",
    "R2_RFR"
   ]
  },
  {
   "cell_type": "code",
   "execution_count": 60,
   "metadata": {
    "scrolled": true
   },
   "outputs": [
    {
     "data": {
      "text/plain": [
       "-0.03246140258955643"
      ]
     },
     "execution_count": 60,
     "metadata": {},
     "output_type": "execute_result"
    }
   ],
   "source": [
    "R2_GBR=r2_score(y_test, predicoesGBR)\n",
    "R2_GBR"
   ]
  }
 ],
 "metadata": {
  "kernelspec": {
   "display_name": "Python 3",
   "language": "python",
   "name": "python3"
  },
  "language_info": {
   "codemirror_mode": {
    "name": "ipython",
    "version": 3
   },
   "file_extension": ".py",
   "mimetype": "text/x-python",
   "name": "python",
   "nbconvert_exporter": "python",
   "pygments_lexer": "ipython3",
   "version": "3.8.5"
  }
 },
 "nbformat": 4,
 "nbformat_minor": 4
}
