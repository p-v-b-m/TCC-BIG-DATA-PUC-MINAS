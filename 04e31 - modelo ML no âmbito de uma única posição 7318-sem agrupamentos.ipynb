{
 "cells": [
  {
   "cell_type": "code",
   "execution_count": 2,
   "metadata": {},
   "outputs": [],
   "source": [
    "import pandas as pd\n",
    "import numpy as np"
   ]
  },
  {
   "cell_type": "code",
   "execution_count": 3,
   "metadata": {},
   "outputs": [],
   "source": [
    "# fazendo a leitura da base enriquecida, trabalhada na etapa anterior\n",
    "df = pd.read_csv(\"base_enriquecida_codigos\")"
   ]
  },
  {
   "cell_type": "code",
   "execution_count": 4,
   "metadata": {},
   "outputs": [
    {
     "data": {
      "text/html": [
       "<div>\n",
       "<style scoped>\n",
       "    .dataframe tbody tr th:only-of-type {\n",
       "        vertical-align: middle;\n",
       "    }\n",
       "\n",
       "    .dataframe tbody tr th {\n",
       "        vertical-align: top;\n",
       "    }\n",
       "\n",
       "    .dataframe thead th {\n",
       "        text-align: right;\n",
       "    }\n",
       "</style>\n",
       "<table border=\"1\" class=\"dataframe\">\n",
       "  <thead>\n",
       "    <tr style=\"text-align: right;\">\n",
       "      <th></th>\n",
       "      <th>ANO-MES</th>\n",
       "      <th>CO_NCM</th>\n",
       "      <th>CO_UNID</th>\n",
       "      <th>CO_PAIS</th>\n",
       "      <th>SG_UF_NCM</th>\n",
       "      <th>CO_VIA</th>\n",
       "      <th>CO_URF</th>\n",
       "      <th>QT_ESTAT</th>\n",
       "      <th>KG_LIQUIDO</th>\n",
       "      <th>VL_FOB</th>\n",
       "      <th>câmbio_mês_atual</th>\n",
       "      <th>câmbio_mês_anterior</th>\n",
       "    </tr>\n",
       "  </thead>\n",
       "  <tbody>\n",
       "    <tr>\n",
       "      <th>0</th>\n",
       "      <td>2019-12</td>\n",
       "      <td>85044021</td>\n",
       "      <td>11</td>\n",
       "      <td>249</td>\n",
       "      <td>SP</td>\n",
       "      <td>4</td>\n",
       "      <td>817700</td>\n",
       "      <td>53</td>\n",
       "      <td>44</td>\n",
       "      <td>8263</td>\n",
       "      <td>4.108924</td>\n",
       "      <td>4.154725</td>\n",
       "    </tr>\n",
       "    <tr>\n",
       "      <th>1</th>\n",
       "      <td>2019-12</td>\n",
       "      <td>85183000</td>\n",
       "      <td>11</td>\n",
       "      <td>160</td>\n",
       "      <td>GO</td>\n",
       "      <td>4</td>\n",
       "      <td>817600</td>\n",
       "      <td>23734</td>\n",
       "      <td>1621</td>\n",
       "      <td>6987</td>\n",
       "      <td>4.108924</td>\n",
       "      <td>4.154725</td>\n",
       "    </tr>\n",
       "    <tr>\n",
       "      <th>2</th>\n",
       "      <td>2019-12</td>\n",
       "      <td>39263000</td>\n",
       "      <td>10</td>\n",
       "      <td>23</td>\n",
       "      <td>SP</td>\n",
       "      <td>1</td>\n",
       "      <td>817800</td>\n",
       "      <td>3951</td>\n",
       "      <td>3951</td>\n",
       "      <td>88311</td>\n",
       "      <td>4.108924</td>\n",
       "      <td>4.154725</td>\n",
       "    </tr>\n",
       "    <tr>\n",
       "      <th>3</th>\n",
       "      <td>2019-12</td>\n",
       "      <td>38249929</td>\n",
       "      <td>10</td>\n",
       "      <td>493</td>\n",
       "      <td>SP</td>\n",
       "      <td>1</td>\n",
       "      <td>817800</td>\n",
       "      <td>19540</td>\n",
       "      <td>19540</td>\n",
       "      <td>65812</td>\n",
       "      <td>4.108924</td>\n",
       "      <td>4.154725</td>\n",
       "    </tr>\n",
       "    <tr>\n",
       "      <th>4</th>\n",
       "      <td>2019-12</td>\n",
       "      <td>34021300</td>\n",
       "      <td>10</td>\n",
       "      <td>493</td>\n",
       "      <td>BA</td>\n",
       "      <td>1</td>\n",
       "      <td>517800</td>\n",
       "      <td>34400</td>\n",
       "      <td>34400</td>\n",
       "      <td>119356</td>\n",
       "      <td>4.108924</td>\n",
       "      <td>4.154725</td>\n",
       "    </tr>\n",
       "    <tr>\n",
       "      <th>...</th>\n",
       "      <td>...</td>\n",
       "      <td>...</td>\n",
       "      <td>...</td>\n",
       "      <td>...</td>\n",
       "      <td>...</td>\n",
       "      <td>...</td>\n",
       "      <td>...</td>\n",
       "      <td>...</td>\n",
       "      <td>...</td>\n",
       "      <td>...</td>\n",
       "      <td>...</td>\n",
       "      <td>...</td>\n",
       "    </tr>\n",
       "    <tr>\n",
       "      <th>1764428</th>\n",
       "      <td>2019-08</td>\n",
       "      <td>85365090</td>\n",
       "      <td>11</td>\n",
       "      <td>271</td>\n",
       "      <td>SP</td>\n",
       "      <td>4</td>\n",
       "      <td>817600</td>\n",
       "      <td>11</td>\n",
       "      <td>157</td>\n",
       "      <td>4412</td>\n",
       "      <td>4.019382</td>\n",
       "      <td>3.778713</td>\n",
       "    </tr>\n",
       "    <tr>\n",
       "      <th>1764429</th>\n",
       "      <td>2019-08</td>\n",
       "      <td>30043918</td>\n",
       "      <td>10</td>\n",
       "      <td>767</td>\n",
       "      <td>SP</td>\n",
       "      <td>4</td>\n",
       "      <td>817600</td>\n",
       "      <td>225</td>\n",
       "      <td>225</td>\n",
       "      <td>1216801</td>\n",
       "      <td>4.019382</td>\n",
       "      <td>3.778713</td>\n",
       "    </tr>\n",
       "    <tr>\n",
       "      <th>1764430</th>\n",
       "      <td>2019-08</td>\n",
       "      <td>90189099</td>\n",
       "      <td>11</td>\n",
       "      <td>87</td>\n",
       "      <td>SP</td>\n",
       "      <td>1</td>\n",
       "      <td>817800</td>\n",
       "      <td>5033</td>\n",
       "      <td>178</td>\n",
       "      <td>22889</td>\n",
       "      <td>4.019382</td>\n",
       "      <td>3.778713</td>\n",
       "    </tr>\n",
       "    <tr>\n",
       "      <th>1764431</th>\n",
       "      <td>2019-08</td>\n",
       "      <td>84123900</td>\n",
       "      <td>11</td>\n",
       "      <td>764</td>\n",
       "      <td>PA</td>\n",
       "      <td>4</td>\n",
       "      <td>817600</td>\n",
       "      <td>1</td>\n",
       "      <td>83</td>\n",
       "      <td>7641</td>\n",
       "      <td>4.019382</td>\n",
       "      <td>3.778713</td>\n",
       "    </tr>\n",
       "    <tr>\n",
       "      <th>1764432</th>\n",
       "      <td>2019-08</td>\n",
       "      <td>85269200</td>\n",
       "      <td>11</td>\n",
       "      <td>776</td>\n",
       "      <td>SP</td>\n",
       "      <td>4</td>\n",
       "      <td>817600</td>\n",
       "      <td>2</td>\n",
       "      <td>0</td>\n",
       "      <td>119</td>\n",
       "      <td>4.019382</td>\n",
       "      <td>3.778713</td>\n",
       "    </tr>\n",
       "  </tbody>\n",
       "</table>\n",
       "<p>1764433 rows × 12 columns</p>\n",
       "</div>"
      ],
      "text/plain": [
       "         ANO-MES    CO_NCM  CO_UNID  CO_PAIS SG_UF_NCM  CO_VIA  CO_URF  \\\n",
       "0        2019-12  85044021       11      249        SP       4  817700   \n",
       "1        2019-12  85183000       11      160        GO       4  817600   \n",
       "2        2019-12  39263000       10       23        SP       1  817800   \n",
       "3        2019-12  38249929       10      493        SP       1  817800   \n",
       "4        2019-12  34021300       10      493        BA       1  517800   \n",
       "...          ...       ...      ...      ...       ...     ...     ...   \n",
       "1764428  2019-08  85365090       11      271        SP       4  817600   \n",
       "1764429  2019-08  30043918       10      767        SP       4  817600   \n",
       "1764430  2019-08  90189099       11       87        SP       1  817800   \n",
       "1764431  2019-08  84123900       11      764        PA       4  817600   \n",
       "1764432  2019-08  85269200       11      776        SP       4  817600   \n",
       "\n",
       "         QT_ESTAT  KG_LIQUIDO   VL_FOB  câmbio_mês_atual  câmbio_mês_anterior  \n",
       "0              53          44     8263          4.108924             4.154725  \n",
       "1           23734        1621     6987          4.108924             4.154725  \n",
       "2            3951        3951    88311          4.108924             4.154725  \n",
       "3           19540       19540    65812          4.108924             4.154725  \n",
       "4           34400       34400   119356          4.108924             4.154725  \n",
       "...           ...         ...      ...               ...                  ...  \n",
       "1764428        11         157     4412          4.019382             3.778713  \n",
       "1764429       225         225  1216801          4.019382             3.778713  \n",
       "1764430      5033         178    22889          4.019382             3.778713  \n",
       "1764431         1          83     7641          4.019382             3.778713  \n",
       "1764432         2           0      119          4.019382             3.778713  \n",
       "\n",
       "[1764433 rows x 12 columns]"
      ]
     },
     "execution_count": 4,
     "metadata": {},
     "output_type": "execute_result"
    }
   ],
   "source": [
    "df"
   ]
  },
  {
   "cell_type": "markdown",
   "metadata": {},
   "source": [
    "###### Checando posições NCM recorrentes"
   ]
  },
  {
   "cell_type": "markdown",
   "metadata": {},
   "source": [
    "Por meio do Jupyer Notebook \"03_análises_diversas_e_representações_gráficas - PARTE 01\", constata-se que a maior quantidade de mercadoria importada classifica-se na posição 8532. De todo modo, para fins de implementação do modelo, entende-se que é desejável não apenas um código que tenha sido importado em quantidade, mas, sobretudo, que tenha sido recorrente. Segue, portanto, consulta à posição da NCM em que os códigos NCM foram mais recorrentes."
   ]
  },
  {
   "cell_type": "code",
   "execution_count": 5,
   "metadata": {},
   "outputs": [],
   "source": [
    "# testa capítulos mais recorrentes\n",
    "df[\"POSIÇÃO_NCM\"] = df[\"CO_NCM\"].astype(str).str[:4]"
   ]
  },
  {
   "cell_type": "code",
   "execution_count": 6,
   "metadata": {},
   "outputs": [
    {
     "data": {
      "text/plain": [
       "8708    51461\n",
       "8536    43444\n",
       "8481    36563\n",
       "8483    35341\n",
       "7318    34623\n",
       "        ...  \n",
       "2069        1\n",
       "3054        1\n",
       "3063        1\n",
       "5069        1\n",
       "2618        1\n",
       "Name: POSIÇÃO_NCM, Length: 1263, dtype: int64"
      ]
     },
     "execution_count": 6,
     "metadata": {},
     "output_type": "execute_result"
    }
   ],
   "source": [
    "df[\"POSIÇÃO_NCM\"].value_counts()"
   ]
  },
  {
   "cell_type": "code",
   "execution_count": 7,
   "metadata": {},
   "outputs": [],
   "source": [
    "# o presente Jupyter Notebook visa a dar continuidade a testes realizandos no âmbito da posição 7318.\n",
    "df1=df[df[\"POSIÇÃO_NCM\"]==\"7318\"]"
   ]
  },
  {
   "cell_type": "code",
   "execution_count": 8,
   "metadata": {},
   "outputs": [
    {
     "data": {
      "text/html": [
       "<div>\n",
       "<style scoped>\n",
       "    .dataframe tbody tr th:only-of-type {\n",
       "        vertical-align: middle;\n",
       "    }\n",
       "\n",
       "    .dataframe tbody tr th {\n",
       "        vertical-align: top;\n",
       "    }\n",
       "\n",
       "    .dataframe thead th {\n",
       "        text-align: right;\n",
       "    }\n",
       "</style>\n",
       "<table border=\"1\" class=\"dataframe\">\n",
       "  <thead>\n",
       "    <tr style=\"text-align: right;\">\n",
       "      <th></th>\n",
       "      <th>ANO-MES</th>\n",
       "      <th>CO_NCM</th>\n",
       "      <th>CO_UNID</th>\n",
       "      <th>CO_PAIS</th>\n",
       "      <th>SG_UF_NCM</th>\n",
       "      <th>CO_VIA</th>\n",
       "      <th>CO_URF</th>\n",
       "      <th>QT_ESTAT</th>\n",
       "      <th>KG_LIQUIDO</th>\n",
       "      <th>VL_FOB</th>\n",
       "      <th>câmbio_mês_atual</th>\n",
       "      <th>câmbio_mês_anterior</th>\n",
       "      <th>POSIÇÃO_NCM</th>\n",
       "    </tr>\n",
       "  </thead>\n",
       "  <tbody>\n",
       "    <tr>\n",
       "      <th>8</th>\n",
       "      <td>2019-12</td>\n",
       "      <td>73181500</td>\n",
       "      <td>10</td>\n",
       "      <td>23</td>\n",
       "      <td>SP</td>\n",
       "      <td>4</td>\n",
       "      <td>817700</td>\n",
       "      <td>1851</td>\n",
       "      <td>1851</td>\n",
       "      <td>70952</td>\n",
       "      <td>4.108924</td>\n",
       "      <td>4.154725</td>\n",
       "      <td>7318</td>\n",
       "    </tr>\n",
       "    <tr>\n",
       "      <th>13</th>\n",
       "      <td>2019-12</td>\n",
       "      <td>73181600</td>\n",
       "      <td>10</td>\n",
       "      <td>23</td>\n",
       "      <td>SP</td>\n",
       "      <td>1</td>\n",
       "      <td>817800</td>\n",
       "      <td>24296</td>\n",
       "      <td>24296</td>\n",
       "      <td>182720</td>\n",
       "      <td>4.108924</td>\n",
       "      <td>4.154725</td>\n",
       "      <td>7318</td>\n",
       "    </tr>\n",
       "    <tr>\n",
       "      <th>14</th>\n",
       "      <td>2019-12</td>\n",
       "      <td>73181600</td>\n",
       "      <td>10</td>\n",
       "      <td>249</td>\n",
       "      <td>SP</td>\n",
       "      <td>1</td>\n",
       "      <td>817800</td>\n",
       "      <td>27934</td>\n",
       "      <td>27934</td>\n",
       "      <td>349017</td>\n",
       "      <td>4.108924</td>\n",
       "      <td>4.154725</td>\n",
       "      <td>7318</td>\n",
       "    </tr>\n",
       "    <tr>\n",
       "      <th>21</th>\n",
       "      <td>2019-01</td>\n",
       "      <td>73182400</td>\n",
       "      <td>10</td>\n",
       "      <td>249</td>\n",
       "      <td>SC</td>\n",
       "      <td>1</td>\n",
       "      <td>927800</td>\n",
       "      <td>47</td>\n",
       "      <td>47</td>\n",
       "      <td>1767</td>\n",
       "      <td>3.741055</td>\n",
       "      <td>3.884405</td>\n",
       "      <td>7318</td>\n",
       "    </tr>\n",
       "    <tr>\n",
       "      <th>34</th>\n",
       "      <td>2019-01</td>\n",
       "      <td>73181600</td>\n",
       "      <td>10</td>\n",
       "      <td>386</td>\n",
       "      <td>SP</td>\n",
       "      <td>1</td>\n",
       "      <td>817800</td>\n",
       "      <td>8730</td>\n",
       "      <td>8730</td>\n",
       "      <td>76390</td>\n",
       "      <td>3.741055</td>\n",
       "      <td>3.884405</td>\n",
       "      <td>7318</td>\n",
       "    </tr>\n",
       "    <tr>\n",
       "      <th>...</th>\n",
       "      <td>...</td>\n",
       "      <td>...</td>\n",
       "      <td>...</td>\n",
       "      <td>...</td>\n",
       "      <td>...</td>\n",
       "      <td>...</td>\n",
       "      <td>...</td>\n",
       "      <td>...</td>\n",
       "      <td>...</td>\n",
       "      <td>...</td>\n",
       "      <td>...</td>\n",
       "      <td>...</td>\n",
       "      <td>...</td>\n",
       "    </tr>\n",
       "    <tr>\n",
       "      <th>1763962</th>\n",
       "      <td>2019-08</td>\n",
       "      <td>73181500</td>\n",
       "      <td>10</td>\n",
       "      <td>275</td>\n",
       "      <td>MG</td>\n",
       "      <td>4</td>\n",
       "      <td>617700</td>\n",
       "      <td>37</td>\n",
       "      <td>37</td>\n",
       "      <td>3452</td>\n",
       "      <td>4.019382</td>\n",
       "      <td>3.778713</td>\n",
       "      <td>7318</td>\n",
       "    </tr>\n",
       "    <tr>\n",
       "      <th>1763977</th>\n",
       "      <td>2019-08</td>\n",
       "      <td>73182400</td>\n",
       "      <td>10</td>\n",
       "      <td>249</td>\n",
       "      <td>PR</td>\n",
       "      <td>4</td>\n",
       "      <td>817600</td>\n",
       "      <td>1</td>\n",
       "      <td>1</td>\n",
       "      <td>48</td>\n",
       "      <td>4.019382</td>\n",
       "      <td>3.778713</td>\n",
       "      <td>7318</td>\n",
       "    </tr>\n",
       "    <tr>\n",
       "      <th>1764040</th>\n",
       "      <td>2019-08</td>\n",
       "      <td>73181500</td>\n",
       "      <td>10</td>\n",
       "      <td>249</td>\n",
       "      <td>SC</td>\n",
       "      <td>1</td>\n",
       "      <td>817800</td>\n",
       "      <td>2</td>\n",
       "      <td>2</td>\n",
       "      <td>46</td>\n",
       "      <td>4.019382</td>\n",
       "      <td>3.778713</td>\n",
       "      <td>7318</td>\n",
       "    </tr>\n",
       "    <tr>\n",
       "      <th>1764114</th>\n",
       "      <td>2019-08</td>\n",
       "      <td>73181100</td>\n",
       "      <td>10</td>\n",
       "      <td>245</td>\n",
       "      <td>CE</td>\n",
       "      <td>4</td>\n",
       "      <td>317901</td>\n",
       "      <td>3</td>\n",
       "      <td>3</td>\n",
       "      <td>1</td>\n",
       "      <td>4.019382</td>\n",
       "      <td>3.778713</td>\n",
       "      <td>7318</td>\n",
       "    </tr>\n",
       "    <tr>\n",
       "      <th>1764331</th>\n",
       "      <td>2019-08</td>\n",
       "      <td>73182300</td>\n",
       "      <td>10</td>\n",
       "      <td>805</td>\n",
       "      <td>SP</td>\n",
       "      <td>1</td>\n",
       "      <td>817800</td>\n",
       "      <td>4</td>\n",
       "      <td>4</td>\n",
       "      <td>106</td>\n",
       "      <td>4.019382</td>\n",
       "      <td>3.778713</td>\n",
       "      <td>7318</td>\n",
       "    </tr>\n",
       "  </tbody>\n",
       "</table>\n",
       "<p>34623 rows × 13 columns</p>\n",
       "</div>"
      ],
      "text/plain": [
       "         ANO-MES    CO_NCM  CO_UNID  CO_PAIS SG_UF_NCM  CO_VIA  CO_URF  \\\n",
       "8        2019-12  73181500       10       23        SP       4  817700   \n",
       "13       2019-12  73181600       10       23        SP       1  817800   \n",
       "14       2019-12  73181600       10      249        SP       1  817800   \n",
       "21       2019-01  73182400       10      249        SC       1  927800   \n",
       "34       2019-01  73181600       10      386        SP       1  817800   \n",
       "...          ...       ...      ...      ...       ...     ...     ...   \n",
       "1763962  2019-08  73181500       10      275        MG       4  617700   \n",
       "1763977  2019-08  73182400       10      249        PR       4  817600   \n",
       "1764040  2019-08  73181500       10      249        SC       1  817800   \n",
       "1764114  2019-08  73181100       10      245        CE       4  317901   \n",
       "1764331  2019-08  73182300       10      805        SP       1  817800   \n",
       "\n",
       "         QT_ESTAT  KG_LIQUIDO  VL_FOB  câmbio_mês_atual  câmbio_mês_anterior  \\\n",
       "8            1851        1851   70952          4.108924             4.154725   \n",
       "13          24296       24296  182720          4.108924             4.154725   \n",
       "14          27934       27934  349017          4.108924             4.154725   \n",
       "21             47          47    1767          3.741055             3.884405   \n",
       "34           8730        8730   76390          3.741055             3.884405   \n",
       "...           ...         ...     ...               ...                  ...   \n",
       "1763962        37          37    3452          4.019382             3.778713   \n",
       "1763977         1           1      48          4.019382             3.778713   \n",
       "1764040         2           2      46          4.019382             3.778713   \n",
       "1764114         3           3       1          4.019382             3.778713   \n",
       "1764331         4           4     106          4.019382             3.778713   \n",
       "\n",
       "        POSIÇÃO_NCM  \n",
       "8              7318  \n",
       "13             7318  \n",
       "14             7318  \n",
       "21             7318  \n",
       "34             7318  \n",
       "...             ...  \n",
       "1763962        7318  \n",
       "1763977        7318  \n",
       "1764040        7318  \n",
       "1764114        7318  \n",
       "1764331        7318  \n",
       "\n",
       "[34623 rows x 13 columns]"
      ]
     },
     "execution_count": 8,
     "metadata": {},
     "output_type": "execute_result"
    }
   ],
   "source": [
    "df1"
   ]
  },
  {
   "cell_type": "code",
   "execution_count": 9,
   "metadata": {},
   "outputs": [
    {
     "name": "stderr",
     "output_type": "stream",
     "text": [
      "D:\\ANACONDA\\lib\\site-packages\\pandas\\core\\frame.py:4163: SettingWithCopyWarning: \n",
      "A value is trying to be set on a copy of a slice from a DataFrame\n",
      "\n",
      "See the caveats in the documentation: https://pandas.pydata.org/pandas-docs/stable/user_guide/indexing.html#returning-a-view-versus-a-copy\n",
      "  return super().drop(\n"
     ]
    }
   ],
   "source": [
    "df1.drop(columns=\"POSIÇÃO_NCM\", inplace=True)"
   ]
  },
  {
   "cell_type": "code",
   "execution_count": 10,
   "metadata": {},
   "outputs": [
    {
     "data": {
      "text/html": [
       "<div>\n",
       "<style scoped>\n",
       "    .dataframe tbody tr th:only-of-type {\n",
       "        vertical-align: middle;\n",
       "    }\n",
       "\n",
       "    .dataframe tbody tr th {\n",
       "        vertical-align: top;\n",
       "    }\n",
       "\n",
       "    .dataframe thead th {\n",
       "        text-align: right;\n",
       "    }\n",
       "</style>\n",
       "<table border=\"1\" class=\"dataframe\">\n",
       "  <thead>\n",
       "    <tr style=\"text-align: right;\">\n",
       "      <th></th>\n",
       "      <th>ANO-MES</th>\n",
       "      <th>CO_NCM</th>\n",
       "      <th>CO_UNID</th>\n",
       "      <th>CO_PAIS</th>\n",
       "      <th>SG_UF_NCM</th>\n",
       "      <th>CO_VIA</th>\n",
       "      <th>CO_URF</th>\n",
       "      <th>QT_ESTAT</th>\n",
       "      <th>KG_LIQUIDO</th>\n",
       "      <th>VL_FOB</th>\n",
       "      <th>câmbio_mês_atual</th>\n",
       "      <th>câmbio_mês_anterior</th>\n",
       "    </tr>\n",
       "  </thead>\n",
       "  <tbody>\n",
       "    <tr>\n",
       "      <th>8</th>\n",
       "      <td>2019-12</td>\n",
       "      <td>73181500</td>\n",
       "      <td>10</td>\n",
       "      <td>23</td>\n",
       "      <td>SP</td>\n",
       "      <td>4</td>\n",
       "      <td>817700</td>\n",
       "      <td>1851</td>\n",
       "      <td>1851</td>\n",
       "      <td>70952</td>\n",
       "      <td>4.108924</td>\n",
       "      <td>4.154725</td>\n",
       "    </tr>\n",
       "    <tr>\n",
       "      <th>13</th>\n",
       "      <td>2019-12</td>\n",
       "      <td>73181600</td>\n",
       "      <td>10</td>\n",
       "      <td>23</td>\n",
       "      <td>SP</td>\n",
       "      <td>1</td>\n",
       "      <td>817800</td>\n",
       "      <td>24296</td>\n",
       "      <td>24296</td>\n",
       "      <td>182720</td>\n",
       "      <td>4.108924</td>\n",
       "      <td>4.154725</td>\n",
       "    </tr>\n",
       "    <tr>\n",
       "      <th>14</th>\n",
       "      <td>2019-12</td>\n",
       "      <td>73181600</td>\n",
       "      <td>10</td>\n",
       "      <td>249</td>\n",
       "      <td>SP</td>\n",
       "      <td>1</td>\n",
       "      <td>817800</td>\n",
       "      <td>27934</td>\n",
       "      <td>27934</td>\n",
       "      <td>349017</td>\n",
       "      <td>4.108924</td>\n",
       "      <td>4.154725</td>\n",
       "    </tr>\n",
       "    <tr>\n",
       "      <th>21</th>\n",
       "      <td>2019-01</td>\n",
       "      <td>73182400</td>\n",
       "      <td>10</td>\n",
       "      <td>249</td>\n",
       "      <td>SC</td>\n",
       "      <td>1</td>\n",
       "      <td>927800</td>\n",
       "      <td>47</td>\n",
       "      <td>47</td>\n",
       "      <td>1767</td>\n",
       "      <td>3.741055</td>\n",
       "      <td>3.884405</td>\n",
       "    </tr>\n",
       "    <tr>\n",
       "      <th>34</th>\n",
       "      <td>2019-01</td>\n",
       "      <td>73181600</td>\n",
       "      <td>10</td>\n",
       "      <td>386</td>\n",
       "      <td>SP</td>\n",
       "      <td>1</td>\n",
       "      <td>817800</td>\n",
       "      <td>8730</td>\n",
       "      <td>8730</td>\n",
       "      <td>76390</td>\n",
       "      <td>3.741055</td>\n",
       "      <td>3.884405</td>\n",
       "    </tr>\n",
       "    <tr>\n",
       "      <th>...</th>\n",
       "      <td>...</td>\n",
       "      <td>...</td>\n",
       "      <td>...</td>\n",
       "      <td>...</td>\n",
       "      <td>...</td>\n",
       "      <td>...</td>\n",
       "      <td>...</td>\n",
       "      <td>...</td>\n",
       "      <td>...</td>\n",
       "      <td>...</td>\n",
       "      <td>...</td>\n",
       "      <td>...</td>\n",
       "    </tr>\n",
       "    <tr>\n",
       "      <th>1763962</th>\n",
       "      <td>2019-08</td>\n",
       "      <td>73181500</td>\n",
       "      <td>10</td>\n",
       "      <td>275</td>\n",
       "      <td>MG</td>\n",
       "      <td>4</td>\n",
       "      <td>617700</td>\n",
       "      <td>37</td>\n",
       "      <td>37</td>\n",
       "      <td>3452</td>\n",
       "      <td>4.019382</td>\n",
       "      <td>3.778713</td>\n",
       "    </tr>\n",
       "    <tr>\n",
       "      <th>1763977</th>\n",
       "      <td>2019-08</td>\n",
       "      <td>73182400</td>\n",
       "      <td>10</td>\n",
       "      <td>249</td>\n",
       "      <td>PR</td>\n",
       "      <td>4</td>\n",
       "      <td>817600</td>\n",
       "      <td>1</td>\n",
       "      <td>1</td>\n",
       "      <td>48</td>\n",
       "      <td>4.019382</td>\n",
       "      <td>3.778713</td>\n",
       "    </tr>\n",
       "    <tr>\n",
       "      <th>1764040</th>\n",
       "      <td>2019-08</td>\n",
       "      <td>73181500</td>\n",
       "      <td>10</td>\n",
       "      <td>249</td>\n",
       "      <td>SC</td>\n",
       "      <td>1</td>\n",
       "      <td>817800</td>\n",
       "      <td>2</td>\n",
       "      <td>2</td>\n",
       "      <td>46</td>\n",
       "      <td>4.019382</td>\n",
       "      <td>3.778713</td>\n",
       "    </tr>\n",
       "    <tr>\n",
       "      <th>1764114</th>\n",
       "      <td>2019-08</td>\n",
       "      <td>73181100</td>\n",
       "      <td>10</td>\n",
       "      <td>245</td>\n",
       "      <td>CE</td>\n",
       "      <td>4</td>\n",
       "      <td>317901</td>\n",
       "      <td>3</td>\n",
       "      <td>3</td>\n",
       "      <td>1</td>\n",
       "      <td>4.019382</td>\n",
       "      <td>3.778713</td>\n",
       "    </tr>\n",
       "    <tr>\n",
       "      <th>1764331</th>\n",
       "      <td>2019-08</td>\n",
       "      <td>73182300</td>\n",
       "      <td>10</td>\n",
       "      <td>805</td>\n",
       "      <td>SP</td>\n",
       "      <td>1</td>\n",
       "      <td>817800</td>\n",
       "      <td>4</td>\n",
       "      <td>4</td>\n",
       "      <td>106</td>\n",
       "      <td>4.019382</td>\n",
       "      <td>3.778713</td>\n",
       "    </tr>\n",
       "  </tbody>\n",
       "</table>\n",
       "<p>34623 rows × 12 columns</p>\n",
       "</div>"
      ],
      "text/plain": [
       "         ANO-MES    CO_NCM  CO_UNID  CO_PAIS SG_UF_NCM  CO_VIA  CO_URF  \\\n",
       "8        2019-12  73181500       10       23        SP       4  817700   \n",
       "13       2019-12  73181600       10       23        SP       1  817800   \n",
       "14       2019-12  73181600       10      249        SP       1  817800   \n",
       "21       2019-01  73182400       10      249        SC       1  927800   \n",
       "34       2019-01  73181600       10      386        SP       1  817800   \n",
       "...          ...       ...      ...      ...       ...     ...     ...   \n",
       "1763962  2019-08  73181500       10      275        MG       4  617700   \n",
       "1763977  2019-08  73182400       10      249        PR       4  817600   \n",
       "1764040  2019-08  73181500       10      249        SC       1  817800   \n",
       "1764114  2019-08  73181100       10      245        CE       4  317901   \n",
       "1764331  2019-08  73182300       10      805        SP       1  817800   \n",
       "\n",
       "         QT_ESTAT  KG_LIQUIDO  VL_FOB  câmbio_mês_atual  câmbio_mês_anterior  \n",
       "8            1851        1851   70952          4.108924             4.154725  \n",
       "13          24296       24296  182720          4.108924             4.154725  \n",
       "14          27934       27934  349017          4.108924             4.154725  \n",
       "21             47          47    1767          3.741055             3.884405  \n",
       "34           8730        8730   76390          3.741055             3.884405  \n",
       "...           ...         ...     ...               ...                  ...  \n",
       "1763962        37          37    3452          4.019382             3.778713  \n",
       "1763977         1           1      48          4.019382             3.778713  \n",
       "1764040         2           2      46          4.019382             3.778713  \n",
       "1764114         3           3       1          4.019382             3.778713  \n",
       "1764331         4           4     106          4.019382             3.778713  \n",
       "\n",
       "[34623 rows x 12 columns]"
      ]
     },
     "execution_count": 10,
     "metadata": {},
     "output_type": "execute_result"
    }
   ],
   "source": [
    "df1"
   ]
  },
  {
   "cell_type": "markdown",
   "metadata": {},
   "source": [
    "###### Não será levada em conta - inicialmente - a feature CO_URF, uma vez que essa está associada à SG_UF_NCM (que será \"dummizada\"). Posteriormente, pode-se substituir uma pela outra para ver se o modelo melhora."
   ]
  },
  {
   "cell_type": "markdown",
   "metadata": {},
   "source": [
    "###### Na sequência, as colunas de features categóricas darão origem às variáveis dummie, para, posteriormente, calcular a correlação das colunas restantes com a variável alvo ( VL_FOB/QT_ESTAT)"
   ]
  },
  {
   "cell_type": "code",
   "execution_count": 11,
   "metadata": {},
   "outputs": [
    {
     "data": {
      "text/html": [
       "<div>\n",
       "<style scoped>\n",
       "    .dataframe tbody tr th:only-of-type {\n",
       "        vertical-align: middle;\n",
       "    }\n",
       "\n",
       "    .dataframe tbody tr th {\n",
       "        vertical-align: top;\n",
       "    }\n",
       "\n",
       "    .dataframe thead th {\n",
       "        text-align: right;\n",
       "    }\n",
       "</style>\n",
       "<table border=\"1\" class=\"dataframe\">\n",
       "  <thead>\n",
       "    <tr style=\"text-align: right;\">\n",
       "      <th></th>\n",
       "      <th>ANO-MES</th>\n",
       "      <th>CO_NCM</th>\n",
       "      <th>CO_UNID</th>\n",
       "      <th>CO_PAIS</th>\n",
       "      <th>SG_UF_NCM</th>\n",
       "      <th>CO_VIA</th>\n",
       "      <th>CO_URF</th>\n",
       "      <th>QT_ESTAT</th>\n",
       "      <th>KG_LIQUIDO</th>\n",
       "      <th>VL_FOB</th>\n",
       "      <th>câmbio_mês_atual</th>\n",
       "      <th>câmbio_mês_anterior</th>\n",
       "    </tr>\n",
       "  </thead>\n",
       "  <tbody>\n",
       "    <tr>\n",
       "      <th>8</th>\n",
       "      <td>2019-12</td>\n",
       "      <td>73181500</td>\n",
       "      <td>10</td>\n",
       "      <td>23</td>\n",
       "      <td>SP</td>\n",
       "      <td>4</td>\n",
       "      <td>817700</td>\n",
       "      <td>1851</td>\n",
       "      <td>1851</td>\n",
       "      <td>70952</td>\n",
       "      <td>4.108924</td>\n",
       "      <td>4.154725</td>\n",
       "    </tr>\n",
       "    <tr>\n",
       "      <th>13</th>\n",
       "      <td>2019-12</td>\n",
       "      <td>73181600</td>\n",
       "      <td>10</td>\n",
       "      <td>23</td>\n",
       "      <td>SP</td>\n",
       "      <td>1</td>\n",
       "      <td>817800</td>\n",
       "      <td>24296</td>\n",
       "      <td>24296</td>\n",
       "      <td>182720</td>\n",
       "      <td>4.108924</td>\n",
       "      <td>4.154725</td>\n",
       "    </tr>\n",
       "    <tr>\n",
       "      <th>14</th>\n",
       "      <td>2019-12</td>\n",
       "      <td>73181600</td>\n",
       "      <td>10</td>\n",
       "      <td>249</td>\n",
       "      <td>SP</td>\n",
       "      <td>1</td>\n",
       "      <td>817800</td>\n",
       "      <td>27934</td>\n",
       "      <td>27934</td>\n",
       "      <td>349017</td>\n",
       "      <td>4.108924</td>\n",
       "      <td>4.154725</td>\n",
       "    </tr>\n",
       "    <tr>\n",
       "      <th>21</th>\n",
       "      <td>2019-01</td>\n",
       "      <td>73182400</td>\n",
       "      <td>10</td>\n",
       "      <td>249</td>\n",
       "      <td>SC</td>\n",
       "      <td>1</td>\n",
       "      <td>927800</td>\n",
       "      <td>47</td>\n",
       "      <td>47</td>\n",
       "      <td>1767</td>\n",
       "      <td>3.741055</td>\n",
       "      <td>3.884405</td>\n",
       "    </tr>\n",
       "    <tr>\n",
       "      <th>34</th>\n",
       "      <td>2019-01</td>\n",
       "      <td>73181600</td>\n",
       "      <td>10</td>\n",
       "      <td>386</td>\n",
       "      <td>SP</td>\n",
       "      <td>1</td>\n",
       "      <td>817800</td>\n",
       "      <td>8730</td>\n",
       "      <td>8730</td>\n",
       "      <td>76390</td>\n",
       "      <td>3.741055</td>\n",
       "      <td>3.884405</td>\n",
       "    </tr>\n",
       "    <tr>\n",
       "      <th>...</th>\n",
       "      <td>...</td>\n",
       "      <td>...</td>\n",
       "      <td>...</td>\n",
       "      <td>...</td>\n",
       "      <td>...</td>\n",
       "      <td>...</td>\n",
       "      <td>...</td>\n",
       "      <td>...</td>\n",
       "      <td>...</td>\n",
       "      <td>...</td>\n",
       "      <td>...</td>\n",
       "      <td>...</td>\n",
       "    </tr>\n",
       "    <tr>\n",
       "      <th>1763962</th>\n",
       "      <td>2019-08</td>\n",
       "      <td>73181500</td>\n",
       "      <td>10</td>\n",
       "      <td>275</td>\n",
       "      <td>MG</td>\n",
       "      <td>4</td>\n",
       "      <td>617700</td>\n",
       "      <td>37</td>\n",
       "      <td>37</td>\n",
       "      <td>3452</td>\n",
       "      <td>4.019382</td>\n",
       "      <td>3.778713</td>\n",
       "    </tr>\n",
       "    <tr>\n",
       "      <th>1763977</th>\n",
       "      <td>2019-08</td>\n",
       "      <td>73182400</td>\n",
       "      <td>10</td>\n",
       "      <td>249</td>\n",
       "      <td>PR</td>\n",
       "      <td>4</td>\n",
       "      <td>817600</td>\n",
       "      <td>1</td>\n",
       "      <td>1</td>\n",
       "      <td>48</td>\n",
       "      <td>4.019382</td>\n",
       "      <td>3.778713</td>\n",
       "    </tr>\n",
       "    <tr>\n",
       "      <th>1764040</th>\n",
       "      <td>2019-08</td>\n",
       "      <td>73181500</td>\n",
       "      <td>10</td>\n",
       "      <td>249</td>\n",
       "      <td>SC</td>\n",
       "      <td>1</td>\n",
       "      <td>817800</td>\n",
       "      <td>2</td>\n",
       "      <td>2</td>\n",
       "      <td>46</td>\n",
       "      <td>4.019382</td>\n",
       "      <td>3.778713</td>\n",
       "    </tr>\n",
       "    <tr>\n",
       "      <th>1764114</th>\n",
       "      <td>2019-08</td>\n",
       "      <td>73181100</td>\n",
       "      <td>10</td>\n",
       "      <td>245</td>\n",
       "      <td>CE</td>\n",
       "      <td>4</td>\n",
       "      <td>317901</td>\n",
       "      <td>3</td>\n",
       "      <td>3</td>\n",
       "      <td>1</td>\n",
       "      <td>4.019382</td>\n",
       "      <td>3.778713</td>\n",
       "    </tr>\n",
       "    <tr>\n",
       "      <th>1764331</th>\n",
       "      <td>2019-08</td>\n",
       "      <td>73182300</td>\n",
       "      <td>10</td>\n",
       "      <td>805</td>\n",
       "      <td>SP</td>\n",
       "      <td>1</td>\n",
       "      <td>817800</td>\n",
       "      <td>4</td>\n",
       "      <td>4</td>\n",
       "      <td>106</td>\n",
       "      <td>4.019382</td>\n",
       "      <td>3.778713</td>\n",
       "    </tr>\n",
       "  </tbody>\n",
       "</table>\n",
       "<p>34623 rows × 12 columns</p>\n",
       "</div>"
      ],
      "text/plain": [
       "         ANO-MES    CO_NCM  CO_UNID  CO_PAIS SG_UF_NCM  CO_VIA  CO_URF  \\\n",
       "8        2019-12  73181500       10       23        SP       4  817700   \n",
       "13       2019-12  73181600       10       23        SP       1  817800   \n",
       "14       2019-12  73181600       10      249        SP       1  817800   \n",
       "21       2019-01  73182400       10      249        SC       1  927800   \n",
       "34       2019-01  73181600       10      386        SP       1  817800   \n",
       "...          ...       ...      ...      ...       ...     ...     ...   \n",
       "1763962  2019-08  73181500       10      275        MG       4  617700   \n",
       "1763977  2019-08  73182400       10      249        PR       4  817600   \n",
       "1764040  2019-08  73181500       10      249        SC       1  817800   \n",
       "1764114  2019-08  73181100       10      245        CE       4  317901   \n",
       "1764331  2019-08  73182300       10      805        SP       1  817800   \n",
       "\n",
       "         QT_ESTAT  KG_LIQUIDO  VL_FOB  câmbio_mês_atual  câmbio_mês_anterior  \n",
       "8            1851        1851   70952          4.108924             4.154725  \n",
       "13          24296       24296  182720          4.108924             4.154725  \n",
       "14          27934       27934  349017          4.108924             4.154725  \n",
       "21             47          47    1767          3.741055             3.884405  \n",
       "34           8730        8730   76390          3.741055             3.884405  \n",
       "...           ...         ...     ...               ...                  ...  \n",
       "1763962        37          37    3452          4.019382             3.778713  \n",
       "1763977         1           1      48          4.019382             3.778713  \n",
       "1764040         2           2      46          4.019382             3.778713  \n",
       "1764114         3           3       1          4.019382             3.778713  \n",
       "1764331         4           4     106          4.019382             3.778713  \n",
       "\n",
       "[34623 rows x 12 columns]"
      ]
     },
     "execution_count": 11,
     "metadata": {},
     "output_type": "execute_result"
    }
   ],
   "source": [
    "df1"
   ]
  },
  {
   "cell_type": "code",
   "execution_count": 12,
   "metadata": {},
   "outputs": [
    {
     "name": "stderr",
     "output_type": "stream",
     "text": [
      "<ipython-input-12-0725dfbab52f>:1: SettingWithCopyWarning: \n",
      "A value is trying to be set on a copy of a slice from a DataFrame.\n",
      "Try using .loc[row_indexer,col_indexer] = value instead\n",
      "\n",
      "See the caveats in the documentation: https://pandas.pydata.org/pandas-docs/stable/user_guide/indexing.html#returning-a-view-versus-a-copy\n",
      "  df1[\"VL_FOB/QT_ESTAT\"]=df1[\"VL_FOB\"]/df1[\"QT_ESTAT\"]\n"
     ]
    }
   ],
   "source": [
    "df1[\"VL_FOB/QT_ESTAT\"]=df1[\"VL_FOB\"]/df1[\"QT_ESTAT\"]"
   ]
  },
  {
   "cell_type": "code",
   "execution_count": 13,
   "metadata": {},
   "outputs": [
    {
     "data": {
      "text/plain": [
       "Index(['ANO-MES', 'CO_NCM', 'CO_UNID', 'CO_PAIS', 'SG_UF_NCM', 'CO_VIA',\n",
       "       'CO_URF', 'QT_ESTAT', 'KG_LIQUIDO', 'VL_FOB', 'câmbio_mês_atual',\n",
       "       'câmbio_mês_anterior', 'VL_FOB/QT_ESTAT'],\n",
       "      dtype='object')"
      ]
     },
     "execution_count": 13,
     "metadata": {},
     "output_type": "execute_result"
    }
   ],
   "source": [
    "df1.columns"
   ]
  },
  {
   "cell_type": "code",
   "execution_count": 14,
   "metadata": {},
   "outputs": [
    {
     "data": {
      "text/html": [
       "<div>\n",
       "<style scoped>\n",
       "    .dataframe tbody tr th:only-of-type {\n",
       "        vertical-align: middle;\n",
       "    }\n",
       "\n",
       "    .dataframe tbody tr th {\n",
       "        vertical-align: top;\n",
       "    }\n",
       "\n",
       "    .dataframe thead th {\n",
       "        text-align: right;\n",
       "    }\n",
       "</style>\n",
       "<table border=\"1\" class=\"dataframe\">\n",
       "  <thead>\n",
       "    <tr style=\"text-align: right;\">\n",
       "      <th></th>\n",
       "      <th>ANO-MES</th>\n",
       "      <th>CO_NCM</th>\n",
       "      <th>CO_UNID</th>\n",
       "      <th>CO_PAIS</th>\n",
       "      <th>SG_UF_NCM</th>\n",
       "      <th>CO_VIA</th>\n",
       "      <th>CO_URF</th>\n",
       "      <th>QT_ESTAT</th>\n",
       "      <th>KG_LIQUIDO</th>\n",
       "      <th>VL_FOB</th>\n",
       "      <th>...</th>\n",
       "      <th>Mês_2019-03</th>\n",
       "      <th>Mês_2019-04</th>\n",
       "      <th>Mês_2019-05</th>\n",
       "      <th>Mês_2019-06</th>\n",
       "      <th>Mês_2019-07</th>\n",
       "      <th>Mês_2019-08</th>\n",
       "      <th>Mês_2019-09</th>\n",
       "      <th>Mês_2019-10</th>\n",
       "      <th>Mês_2019-11</th>\n",
       "      <th>Mês_2019-12</th>\n",
       "    </tr>\n",
       "  </thead>\n",
       "  <tbody>\n",
       "    <tr>\n",
       "      <th>8</th>\n",
       "      <td>2019-12</td>\n",
       "      <td>73181500</td>\n",
       "      <td>10</td>\n",
       "      <td>23</td>\n",
       "      <td>SP</td>\n",
       "      <td>4</td>\n",
       "      <td>817700</td>\n",
       "      <td>1851</td>\n",
       "      <td>1851</td>\n",
       "      <td>70952</td>\n",
       "      <td>...</td>\n",
       "      <td>0</td>\n",
       "      <td>0</td>\n",
       "      <td>0</td>\n",
       "      <td>0</td>\n",
       "      <td>0</td>\n",
       "      <td>0</td>\n",
       "      <td>0</td>\n",
       "      <td>0</td>\n",
       "      <td>0</td>\n",
       "      <td>1</td>\n",
       "    </tr>\n",
       "    <tr>\n",
       "      <th>13</th>\n",
       "      <td>2019-12</td>\n",
       "      <td>73181600</td>\n",
       "      <td>10</td>\n",
       "      <td>23</td>\n",
       "      <td>SP</td>\n",
       "      <td>1</td>\n",
       "      <td>817800</td>\n",
       "      <td>24296</td>\n",
       "      <td>24296</td>\n",
       "      <td>182720</td>\n",
       "      <td>...</td>\n",
       "      <td>0</td>\n",
       "      <td>0</td>\n",
       "      <td>0</td>\n",
       "      <td>0</td>\n",
       "      <td>0</td>\n",
       "      <td>0</td>\n",
       "      <td>0</td>\n",
       "      <td>0</td>\n",
       "      <td>0</td>\n",
       "      <td>1</td>\n",
       "    </tr>\n",
       "    <tr>\n",
       "      <th>14</th>\n",
       "      <td>2019-12</td>\n",
       "      <td>73181600</td>\n",
       "      <td>10</td>\n",
       "      <td>249</td>\n",
       "      <td>SP</td>\n",
       "      <td>1</td>\n",
       "      <td>817800</td>\n",
       "      <td>27934</td>\n",
       "      <td>27934</td>\n",
       "      <td>349017</td>\n",
       "      <td>...</td>\n",
       "      <td>0</td>\n",
       "      <td>0</td>\n",
       "      <td>0</td>\n",
       "      <td>0</td>\n",
       "      <td>0</td>\n",
       "      <td>0</td>\n",
       "      <td>0</td>\n",
       "      <td>0</td>\n",
       "      <td>0</td>\n",
       "      <td>1</td>\n",
       "    </tr>\n",
       "  </tbody>\n",
       "</table>\n",
       "<p>3 rows × 25 columns</p>\n",
       "</div>"
      ],
      "text/plain": [
       "    ANO-MES    CO_NCM  CO_UNID  CO_PAIS SG_UF_NCM  CO_VIA  CO_URF  QT_ESTAT  \\\n",
       "8   2019-12  73181500       10       23        SP       4  817700      1851   \n",
       "13  2019-12  73181600       10       23        SP       1  817800     24296   \n",
       "14  2019-12  73181600       10      249        SP       1  817800     27934   \n",
       "\n",
       "    KG_LIQUIDO  VL_FOB  ...  Mês_2019-03  Mês_2019-04  Mês_2019-05  \\\n",
       "8         1851   70952  ...            0            0            0   \n",
       "13       24296  182720  ...            0            0            0   \n",
       "14       27934  349017  ...            0            0            0   \n",
       "\n",
       "    Mês_2019-06  Mês_2019-07  Mês_2019-08  Mês_2019-09  Mês_2019-10  \\\n",
       "8             0            0            0            0            0   \n",
       "13            0            0            0            0            0   \n",
       "14            0            0            0            0            0   \n",
       "\n",
       "    Mês_2019-11  Mês_2019-12  \n",
       "8             0            1  \n",
       "13            0            1  \n",
       "14            0            1  \n",
       "\n",
       "[3 rows x 25 columns]"
      ]
     },
     "execution_count": 14,
     "metadata": {},
     "output_type": "execute_result"
    }
   ],
   "source": [
    "df_encoded = pd.concat([df1, pd.get_dummies(df1[\"ANO-MES\"],prefix=\"Mês\")], axis=1)\n",
    "df_encoded.head(3)"
   ]
  },
  {
   "cell_type": "code",
   "execution_count": 15,
   "metadata": {},
   "outputs": [
    {
     "data": {
      "text/html": [
       "<div>\n",
       "<style scoped>\n",
       "    .dataframe tbody tr th:only-of-type {\n",
       "        vertical-align: middle;\n",
       "    }\n",
       "\n",
       "    .dataframe tbody tr th {\n",
       "        vertical-align: top;\n",
       "    }\n",
       "\n",
       "    .dataframe thead th {\n",
       "        text-align: right;\n",
       "    }\n",
       "</style>\n",
       "<table border=\"1\" class=\"dataframe\">\n",
       "  <thead>\n",
       "    <tr style=\"text-align: right;\">\n",
       "      <th></th>\n",
       "      <th>ANO-MES</th>\n",
       "      <th>CO_NCM</th>\n",
       "      <th>CO_UNID</th>\n",
       "      <th>CO_PAIS</th>\n",
       "      <th>SG_UF_NCM</th>\n",
       "      <th>CO_VIA</th>\n",
       "      <th>CO_URF</th>\n",
       "      <th>QT_ESTAT</th>\n",
       "      <th>KG_LIQUIDO</th>\n",
       "      <th>VL_FOB</th>\n",
       "      <th>...</th>\n",
       "      <th>NCM_73181300</th>\n",
       "      <th>NCM_73181400</th>\n",
       "      <th>NCM_73181500</th>\n",
       "      <th>NCM_73181600</th>\n",
       "      <th>NCM_73181900</th>\n",
       "      <th>NCM_73182100</th>\n",
       "      <th>NCM_73182200</th>\n",
       "      <th>NCM_73182300</th>\n",
       "      <th>NCM_73182400</th>\n",
       "      <th>NCM_73182900</th>\n",
       "    </tr>\n",
       "  </thead>\n",
       "  <tbody>\n",
       "    <tr>\n",
       "      <th>8</th>\n",
       "      <td>2019-12</td>\n",
       "      <td>73181500</td>\n",
       "      <td>10</td>\n",
       "      <td>23</td>\n",
       "      <td>SP</td>\n",
       "      <td>4</td>\n",
       "      <td>817700</td>\n",
       "      <td>1851</td>\n",
       "      <td>1851</td>\n",
       "      <td>70952</td>\n",
       "      <td>...</td>\n",
       "      <td>0</td>\n",
       "      <td>0</td>\n",
       "      <td>1</td>\n",
       "      <td>0</td>\n",
       "      <td>0</td>\n",
       "      <td>0</td>\n",
       "      <td>0</td>\n",
       "      <td>0</td>\n",
       "      <td>0</td>\n",
       "      <td>0</td>\n",
       "    </tr>\n",
       "    <tr>\n",
       "      <th>13</th>\n",
       "      <td>2019-12</td>\n",
       "      <td>73181600</td>\n",
       "      <td>10</td>\n",
       "      <td>23</td>\n",
       "      <td>SP</td>\n",
       "      <td>1</td>\n",
       "      <td>817800</td>\n",
       "      <td>24296</td>\n",
       "      <td>24296</td>\n",
       "      <td>182720</td>\n",
       "      <td>...</td>\n",
       "      <td>0</td>\n",
       "      <td>0</td>\n",
       "      <td>0</td>\n",
       "      <td>1</td>\n",
       "      <td>0</td>\n",
       "      <td>0</td>\n",
       "      <td>0</td>\n",
       "      <td>0</td>\n",
       "      <td>0</td>\n",
       "      <td>0</td>\n",
       "    </tr>\n",
       "    <tr>\n",
       "      <th>14</th>\n",
       "      <td>2019-12</td>\n",
       "      <td>73181600</td>\n",
       "      <td>10</td>\n",
       "      <td>249</td>\n",
       "      <td>SP</td>\n",
       "      <td>1</td>\n",
       "      <td>817800</td>\n",
       "      <td>27934</td>\n",
       "      <td>27934</td>\n",
       "      <td>349017</td>\n",
       "      <td>...</td>\n",
       "      <td>0</td>\n",
       "      <td>0</td>\n",
       "      <td>0</td>\n",
       "      <td>1</td>\n",
       "      <td>0</td>\n",
       "      <td>0</td>\n",
       "      <td>0</td>\n",
       "      <td>0</td>\n",
       "      <td>0</td>\n",
       "      <td>0</td>\n",
       "    </tr>\n",
       "  </tbody>\n",
       "</table>\n",
       "<p>3 rows × 37 columns</p>\n",
       "</div>"
      ],
      "text/plain": [
       "    ANO-MES    CO_NCM  CO_UNID  CO_PAIS SG_UF_NCM  CO_VIA  CO_URF  QT_ESTAT  \\\n",
       "8   2019-12  73181500       10       23        SP       4  817700      1851   \n",
       "13  2019-12  73181600       10       23        SP       1  817800     24296   \n",
       "14  2019-12  73181600       10      249        SP       1  817800     27934   \n",
       "\n",
       "    KG_LIQUIDO  VL_FOB  ...  NCM_73181300  NCM_73181400  NCM_73181500  \\\n",
       "8         1851   70952  ...             0             0             1   \n",
       "13       24296  182720  ...             0             0             0   \n",
       "14       27934  349017  ...             0             0             0   \n",
       "\n",
       "    NCM_73181600  NCM_73181900  NCM_73182100  NCM_73182200  NCM_73182300  \\\n",
       "8              0             0             0             0             0   \n",
       "13             1             0             0             0             0   \n",
       "14             1             0             0             0             0   \n",
       "\n",
       "    NCM_73182400  NCM_73182900  \n",
       "8              0             0  \n",
       "13             0             0  \n",
       "14             0             0  \n",
       "\n",
       "[3 rows x 37 columns]"
      ]
     },
     "execution_count": 15,
     "metadata": {},
     "output_type": "execute_result"
    }
   ],
   "source": [
    "df_encoded = pd.concat([df_encoded, pd.get_dummies(df_encoded[\"CO_NCM\"],prefix=\"NCM\")], axis=1)\n",
    "df_encoded.head(3)"
   ]
  },
  {
   "cell_type": "code",
   "execution_count": 16,
   "metadata": {},
   "outputs": [
    {
     "data": {
      "text/html": [
       "<div>\n",
       "<style scoped>\n",
       "    .dataframe tbody tr th:only-of-type {\n",
       "        vertical-align: middle;\n",
       "    }\n",
       "\n",
       "    .dataframe tbody tr th {\n",
       "        vertical-align: top;\n",
       "    }\n",
       "\n",
       "    .dataframe thead th {\n",
       "        text-align: right;\n",
       "    }\n",
       "</style>\n",
       "<table border=\"1\" class=\"dataframe\">\n",
       "  <thead>\n",
       "    <tr style=\"text-align: right;\">\n",
       "      <th></th>\n",
       "      <th>ANO-MES</th>\n",
       "      <th>CO_NCM</th>\n",
       "      <th>CO_UNID</th>\n",
       "      <th>CO_PAIS</th>\n",
       "      <th>SG_UF_NCM</th>\n",
       "      <th>CO_VIA</th>\n",
       "      <th>CO_URF</th>\n",
       "      <th>QT_ESTAT</th>\n",
       "      <th>KG_LIQUIDO</th>\n",
       "      <th>VL_FOB</th>\n",
       "      <th>...</th>\n",
       "      <th>NCM_73181400</th>\n",
       "      <th>NCM_73181500</th>\n",
       "      <th>NCM_73181600</th>\n",
       "      <th>NCM_73181900</th>\n",
       "      <th>NCM_73182100</th>\n",
       "      <th>NCM_73182200</th>\n",
       "      <th>NCM_73182300</th>\n",
       "      <th>NCM_73182400</th>\n",
       "      <th>NCM_73182900</th>\n",
       "      <th>Un.Med.Est._10</th>\n",
       "    </tr>\n",
       "  </thead>\n",
       "  <tbody>\n",
       "    <tr>\n",
       "      <th>8</th>\n",
       "      <td>2019-12</td>\n",
       "      <td>73181500</td>\n",
       "      <td>10</td>\n",
       "      <td>23</td>\n",
       "      <td>SP</td>\n",
       "      <td>4</td>\n",
       "      <td>817700</td>\n",
       "      <td>1851</td>\n",
       "      <td>1851</td>\n",
       "      <td>70952</td>\n",
       "      <td>...</td>\n",
       "      <td>0</td>\n",
       "      <td>1</td>\n",
       "      <td>0</td>\n",
       "      <td>0</td>\n",
       "      <td>0</td>\n",
       "      <td>0</td>\n",
       "      <td>0</td>\n",
       "      <td>0</td>\n",
       "      <td>0</td>\n",
       "      <td>1</td>\n",
       "    </tr>\n",
       "    <tr>\n",
       "      <th>13</th>\n",
       "      <td>2019-12</td>\n",
       "      <td>73181600</td>\n",
       "      <td>10</td>\n",
       "      <td>23</td>\n",
       "      <td>SP</td>\n",
       "      <td>1</td>\n",
       "      <td>817800</td>\n",
       "      <td>24296</td>\n",
       "      <td>24296</td>\n",
       "      <td>182720</td>\n",
       "      <td>...</td>\n",
       "      <td>0</td>\n",
       "      <td>0</td>\n",
       "      <td>1</td>\n",
       "      <td>0</td>\n",
       "      <td>0</td>\n",
       "      <td>0</td>\n",
       "      <td>0</td>\n",
       "      <td>0</td>\n",
       "      <td>0</td>\n",
       "      <td>1</td>\n",
       "    </tr>\n",
       "    <tr>\n",
       "      <th>14</th>\n",
       "      <td>2019-12</td>\n",
       "      <td>73181600</td>\n",
       "      <td>10</td>\n",
       "      <td>249</td>\n",
       "      <td>SP</td>\n",
       "      <td>1</td>\n",
       "      <td>817800</td>\n",
       "      <td>27934</td>\n",
       "      <td>27934</td>\n",
       "      <td>349017</td>\n",
       "      <td>...</td>\n",
       "      <td>0</td>\n",
       "      <td>0</td>\n",
       "      <td>1</td>\n",
       "      <td>0</td>\n",
       "      <td>0</td>\n",
       "      <td>0</td>\n",
       "      <td>0</td>\n",
       "      <td>0</td>\n",
       "      <td>0</td>\n",
       "      <td>1</td>\n",
       "    </tr>\n",
       "  </tbody>\n",
       "</table>\n",
       "<p>3 rows × 38 columns</p>\n",
       "</div>"
      ],
      "text/plain": [
       "    ANO-MES    CO_NCM  CO_UNID  CO_PAIS SG_UF_NCM  CO_VIA  CO_URF  QT_ESTAT  \\\n",
       "8   2019-12  73181500       10       23        SP       4  817700      1851   \n",
       "13  2019-12  73181600       10       23        SP       1  817800     24296   \n",
       "14  2019-12  73181600       10      249        SP       1  817800     27934   \n",
       "\n",
       "    KG_LIQUIDO  VL_FOB  ...  NCM_73181400  NCM_73181500  NCM_73181600  \\\n",
       "8         1851   70952  ...             0             1             0   \n",
       "13       24296  182720  ...             0             0             1   \n",
       "14       27934  349017  ...             0             0             1   \n",
       "\n",
       "    NCM_73181900  NCM_73182100  NCM_73182200  NCM_73182300  NCM_73182400  \\\n",
       "8              0             0             0             0             0   \n",
       "13             0             0             0             0             0   \n",
       "14             0             0             0             0             0   \n",
       "\n",
       "    NCM_73182900  Un.Med.Est._10  \n",
       "8              0               1  \n",
       "13             0               1  \n",
       "14             0               1  \n",
       "\n",
       "[3 rows x 38 columns]"
      ]
     },
     "execution_count": 16,
     "metadata": {},
     "output_type": "execute_result"
    }
   ],
   "source": [
    "df_encoded = pd.concat([df_encoded, pd.get_dummies(df_encoded[\"CO_UNID\"],prefix=\"Un.Med.Est.\")], axis=1)\n",
    "df_encoded.head(3)"
   ]
  },
  {
   "cell_type": "code",
   "execution_count": 17,
   "metadata": {},
   "outputs": [
    {
     "data": {
      "text/html": [
       "<div>\n",
       "<style scoped>\n",
       "    .dataframe tbody tr th:only-of-type {\n",
       "        vertical-align: middle;\n",
       "    }\n",
       "\n",
       "    .dataframe tbody tr th {\n",
       "        vertical-align: top;\n",
       "    }\n",
       "\n",
       "    .dataframe thead th {\n",
       "        text-align: right;\n",
       "    }\n",
       "</style>\n",
       "<table border=\"1\" class=\"dataframe\">\n",
       "  <thead>\n",
       "    <tr style=\"text-align: right;\">\n",
       "      <th></th>\n",
       "      <th>ANO-MES</th>\n",
       "      <th>CO_NCM</th>\n",
       "      <th>CO_UNID</th>\n",
       "      <th>CO_PAIS</th>\n",
       "      <th>SG_UF_NCM</th>\n",
       "      <th>CO_VIA</th>\n",
       "      <th>CO_URF</th>\n",
       "      <th>QT_ESTAT</th>\n",
       "      <th>KG_LIQUIDO</th>\n",
       "      <th>VL_FOB</th>\n",
       "      <th>...</th>\n",
       "      <th>Pais_788</th>\n",
       "      <th>Pais_791</th>\n",
       "      <th>Pais_805</th>\n",
       "      <th>Pais_815</th>\n",
       "      <th>Pais_820</th>\n",
       "      <th>Pais_827</th>\n",
       "      <th>Pais_831</th>\n",
       "      <th>Pais_850</th>\n",
       "      <th>Pais_858</th>\n",
       "      <th>Pais_890</th>\n",
       "    </tr>\n",
       "  </thead>\n",
       "  <tbody>\n",
       "    <tr>\n",
       "      <th>8</th>\n",
       "      <td>2019-12</td>\n",
       "      <td>73181500</td>\n",
       "      <td>10</td>\n",
       "      <td>23</td>\n",
       "      <td>SP</td>\n",
       "      <td>4</td>\n",
       "      <td>817700</td>\n",
       "      <td>1851</td>\n",
       "      <td>1851</td>\n",
       "      <td>70952</td>\n",
       "      <td>...</td>\n",
       "      <td>0</td>\n",
       "      <td>0</td>\n",
       "      <td>0</td>\n",
       "      <td>0</td>\n",
       "      <td>0</td>\n",
       "      <td>0</td>\n",
       "      <td>0</td>\n",
       "      <td>0</td>\n",
       "      <td>0</td>\n",
       "      <td>0</td>\n",
       "    </tr>\n",
       "    <tr>\n",
       "      <th>13</th>\n",
       "      <td>2019-12</td>\n",
       "      <td>73181600</td>\n",
       "      <td>10</td>\n",
       "      <td>23</td>\n",
       "      <td>SP</td>\n",
       "      <td>1</td>\n",
       "      <td>817800</td>\n",
       "      <td>24296</td>\n",
       "      <td>24296</td>\n",
       "      <td>182720</td>\n",
       "      <td>...</td>\n",
       "      <td>0</td>\n",
       "      <td>0</td>\n",
       "      <td>0</td>\n",
       "      <td>0</td>\n",
       "      <td>0</td>\n",
       "      <td>0</td>\n",
       "      <td>0</td>\n",
       "      <td>0</td>\n",
       "      <td>0</td>\n",
       "      <td>0</td>\n",
       "    </tr>\n",
       "    <tr>\n",
       "      <th>14</th>\n",
       "      <td>2019-12</td>\n",
       "      <td>73181600</td>\n",
       "      <td>10</td>\n",
       "      <td>249</td>\n",
       "      <td>SP</td>\n",
       "      <td>1</td>\n",
       "      <td>817800</td>\n",
       "      <td>27934</td>\n",
       "      <td>27934</td>\n",
       "      <td>349017</td>\n",
       "      <td>...</td>\n",
       "      <td>0</td>\n",
       "      <td>0</td>\n",
       "      <td>0</td>\n",
       "      <td>0</td>\n",
       "      <td>0</td>\n",
       "      <td>0</td>\n",
       "      <td>0</td>\n",
       "      <td>0</td>\n",
       "      <td>0</td>\n",
       "      <td>0</td>\n",
       "    </tr>\n",
       "  </tbody>\n",
       "</table>\n",
       "<p>3 rows × 149 columns</p>\n",
       "</div>"
      ],
      "text/plain": [
       "    ANO-MES    CO_NCM  CO_UNID  CO_PAIS SG_UF_NCM  CO_VIA  CO_URF  QT_ESTAT  \\\n",
       "8   2019-12  73181500       10       23        SP       4  817700      1851   \n",
       "13  2019-12  73181600       10       23        SP       1  817800     24296   \n",
       "14  2019-12  73181600       10      249        SP       1  817800     27934   \n",
       "\n",
       "    KG_LIQUIDO  VL_FOB  ...  Pais_788  Pais_791  Pais_805  Pais_815  Pais_820  \\\n",
       "8         1851   70952  ...         0         0         0         0         0   \n",
       "13       24296  182720  ...         0         0         0         0         0   \n",
       "14       27934  349017  ...         0         0         0         0         0   \n",
       "\n",
       "    Pais_827  Pais_831  Pais_850  Pais_858  Pais_890  \n",
       "8          0         0         0         0         0  \n",
       "13         0         0         0         0         0  \n",
       "14         0         0         0         0         0  \n",
       "\n",
       "[3 rows x 149 columns]"
      ]
     },
     "execution_count": 17,
     "metadata": {},
     "output_type": "execute_result"
    }
   ],
   "source": [
    "df_encoded = pd.concat([df_encoded, pd.get_dummies(df_encoded[\"CO_PAIS\"],prefix=\"Pais\")], axis=1)\n",
    "df_encoded.head(3)"
   ]
  },
  {
   "cell_type": "code",
   "execution_count": 18,
   "metadata": {},
   "outputs": [
    {
     "data": {
      "text/html": [
       "<div>\n",
       "<style scoped>\n",
       "    .dataframe tbody tr th:only-of-type {\n",
       "        vertical-align: middle;\n",
       "    }\n",
       "\n",
       "    .dataframe tbody tr th {\n",
       "        vertical-align: top;\n",
       "    }\n",
       "\n",
       "    .dataframe thead th {\n",
       "        text-align: right;\n",
       "    }\n",
       "</style>\n",
       "<table border=\"1\" class=\"dataframe\">\n",
       "  <thead>\n",
       "    <tr style=\"text-align: right;\">\n",
       "      <th></th>\n",
       "      <th>ANO-MES</th>\n",
       "      <th>CO_NCM</th>\n",
       "      <th>CO_UNID</th>\n",
       "      <th>CO_PAIS</th>\n",
       "      <th>SG_UF_NCM</th>\n",
       "      <th>CO_VIA</th>\n",
       "      <th>CO_URF</th>\n",
       "      <th>QT_ESTAT</th>\n",
       "      <th>KG_LIQUIDO</th>\n",
       "      <th>VL_FOB</th>\n",
       "      <th>...</th>\n",
       "      <th>UF_PR</th>\n",
       "      <th>UF_RJ</th>\n",
       "      <th>UF_RN</th>\n",
       "      <th>UF_RO</th>\n",
       "      <th>UF_RR</th>\n",
       "      <th>UF_RS</th>\n",
       "      <th>UF_SC</th>\n",
       "      <th>UF_SE</th>\n",
       "      <th>UF_SP</th>\n",
       "      <th>UF_TO</th>\n",
       "    </tr>\n",
       "  </thead>\n",
       "  <tbody>\n",
       "    <tr>\n",
       "      <th>8</th>\n",
       "      <td>2019-12</td>\n",
       "      <td>73181500</td>\n",
       "      <td>10</td>\n",
       "      <td>23</td>\n",
       "      <td>SP</td>\n",
       "      <td>4</td>\n",
       "      <td>817700</td>\n",
       "      <td>1851</td>\n",
       "      <td>1851</td>\n",
       "      <td>70952</td>\n",
       "      <td>...</td>\n",
       "      <td>0</td>\n",
       "      <td>0</td>\n",
       "      <td>0</td>\n",
       "      <td>0</td>\n",
       "      <td>0</td>\n",
       "      <td>0</td>\n",
       "      <td>0</td>\n",
       "      <td>0</td>\n",
       "      <td>1</td>\n",
       "      <td>0</td>\n",
       "    </tr>\n",
       "    <tr>\n",
       "      <th>13</th>\n",
       "      <td>2019-12</td>\n",
       "      <td>73181600</td>\n",
       "      <td>10</td>\n",
       "      <td>23</td>\n",
       "      <td>SP</td>\n",
       "      <td>1</td>\n",
       "      <td>817800</td>\n",
       "      <td>24296</td>\n",
       "      <td>24296</td>\n",
       "      <td>182720</td>\n",
       "      <td>...</td>\n",
       "      <td>0</td>\n",
       "      <td>0</td>\n",
       "      <td>0</td>\n",
       "      <td>0</td>\n",
       "      <td>0</td>\n",
       "      <td>0</td>\n",
       "      <td>0</td>\n",
       "      <td>0</td>\n",
       "      <td>1</td>\n",
       "      <td>0</td>\n",
       "    </tr>\n",
       "    <tr>\n",
       "      <th>14</th>\n",
       "      <td>2019-12</td>\n",
       "      <td>73181600</td>\n",
       "      <td>10</td>\n",
       "      <td>249</td>\n",
       "      <td>SP</td>\n",
       "      <td>1</td>\n",
       "      <td>817800</td>\n",
       "      <td>27934</td>\n",
       "      <td>27934</td>\n",
       "      <td>349017</td>\n",
       "      <td>...</td>\n",
       "      <td>0</td>\n",
       "      <td>0</td>\n",
       "      <td>0</td>\n",
       "      <td>0</td>\n",
       "      <td>0</td>\n",
       "      <td>0</td>\n",
       "      <td>0</td>\n",
       "      <td>0</td>\n",
       "      <td>1</td>\n",
       "      <td>0</td>\n",
       "    </tr>\n",
       "  </tbody>\n",
       "</table>\n",
       "<p>3 rows × 176 columns</p>\n",
       "</div>"
      ],
      "text/plain": [
       "    ANO-MES    CO_NCM  CO_UNID  CO_PAIS SG_UF_NCM  CO_VIA  CO_URF  QT_ESTAT  \\\n",
       "8   2019-12  73181500       10       23        SP       4  817700      1851   \n",
       "13  2019-12  73181600       10       23        SP       1  817800     24296   \n",
       "14  2019-12  73181600       10      249        SP       1  817800     27934   \n",
       "\n",
       "    KG_LIQUIDO  VL_FOB  ...  UF_PR  UF_RJ  UF_RN  UF_RO  UF_RR  UF_RS  UF_SC  \\\n",
       "8         1851   70952  ...      0      0      0      0      0      0      0   \n",
       "13       24296  182720  ...      0      0      0      0      0      0      0   \n",
       "14       27934  349017  ...      0      0      0      0      0      0      0   \n",
       "\n",
       "    UF_SE  UF_SP  UF_TO  \n",
       "8       0      1      0  \n",
       "13      0      1      0  \n",
       "14      0      1      0  \n",
       "\n",
       "[3 rows x 176 columns]"
      ]
     },
     "execution_count": 18,
     "metadata": {},
     "output_type": "execute_result"
    }
   ],
   "source": [
    "df_encoded = pd.concat([df_encoded, pd.get_dummies(df_encoded[\"SG_UF_NCM\"],prefix=\"UF\")], axis=1)\n",
    "df_encoded.head(3)"
   ]
  },
  {
   "cell_type": "code",
   "execution_count": 19,
   "metadata": {},
   "outputs": [
    {
     "data": {
      "text/html": [
       "<div>\n",
       "<style scoped>\n",
       "    .dataframe tbody tr th:only-of-type {\n",
       "        vertical-align: middle;\n",
       "    }\n",
       "\n",
       "    .dataframe tbody tr th {\n",
       "        vertical-align: top;\n",
       "    }\n",
       "\n",
       "    .dataframe thead th {\n",
       "        text-align: right;\n",
       "    }\n",
       "</style>\n",
       "<table border=\"1\" class=\"dataframe\">\n",
       "  <thead>\n",
       "    <tr style=\"text-align: right;\">\n",
       "      <th></th>\n",
       "      <th>ANO-MES</th>\n",
       "      <th>CO_NCM</th>\n",
       "      <th>CO_UNID</th>\n",
       "      <th>CO_PAIS</th>\n",
       "      <th>SG_UF_NCM</th>\n",
       "      <th>CO_VIA</th>\n",
       "      <th>CO_URF</th>\n",
       "      <th>QT_ESTAT</th>\n",
       "      <th>KG_LIQUIDO</th>\n",
       "      <th>VL_FOB</th>\n",
       "      <th>...</th>\n",
       "      <th>UF_SE</th>\n",
       "      <th>UF_SP</th>\n",
       "      <th>UF_TO</th>\n",
       "      <th>Modal_0</th>\n",
       "      <th>Modal_1</th>\n",
       "      <th>Modal_4</th>\n",
       "      <th>Modal_5</th>\n",
       "      <th>Modal_7</th>\n",
       "      <th>Modal_9</th>\n",
       "      <th>Modal_10</th>\n",
       "    </tr>\n",
       "  </thead>\n",
       "  <tbody>\n",
       "    <tr>\n",
       "      <th>8</th>\n",
       "      <td>2019-12</td>\n",
       "      <td>73181500</td>\n",
       "      <td>10</td>\n",
       "      <td>23</td>\n",
       "      <td>SP</td>\n",
       "      <td>4</td>\n",
       "      <td>817700</td>\n",
       "      <td>1851</td>\n",
       "      <td>1851</td>\n",
       "      <td>70952</td>\n",
       "      <td>...</td>\n",
       "      <td>0</td>\n",
       "      <td>1</td>\n",
       "      <td>0</td>\n",
       "      <td>0</td>\n",
       "      <td>0</td>\n",
       "      <td>1</td>\n",
       "      <td>0</td>\n",
       "      <td>0</td>\n",
       "      <td>0</td>\n",
       "      <td>0</td>\n",
       "    </tr>\n",
       "    <tr>\n",
       "      <th>13</th>\n",
       "      <td>2019-12</td>\n",
       "      <td>73181600</td>\n",
       "      <td>10</td>\n",
       "      <td>23</td>\n",
       "      <td>SP</td>\n",
       "      <td>1</td>\n",
       "      <td>817800</td>\n",
       "      <td>24296</td>\n",
       "      <td>24296</td>\n",
       "      <td>182720</td>\n",
       "      <td>...</td>\n",
       "      <td>0</td>\n",
       "      <td>1</td>\n",
       "      <td>0</td>\n",
       "      <td>0</td>\n",
       "      <td>1</td>\n",
       "      <td>0</td>\n",
       "      <td>0</td>\n",
       "      <td>0</td>\n",
       "      <td>0</td>\n",
       "      <td>0</td>\n",
       "    </tr>\n",
       "    <tr>\n",
       "      <th>14</th>\n",
       "      <td>2019-12</td>\n",
       "      <td>73181600</td>\n",
       "      <td>10</td>\n",
       "      <td>249</td>\n",
       "      <td>SP</td>\n",
       "      <td>1</td>\n",
       "      <td>817800</td>\n",
       "      <td>27934</td>\n",
       "      <td>27934</td>\n",
       "      <td>349017</td>\n",
       "      <td>...</td>\n",
       "      <td>0</td>\n",
       "      <td>1</td>\n",
       "      <td>0</td>\n",
       "      <td>0</td>\n",
       "      <td>1</td>\n",
       "      <td>0</td>\n",
       "      <td>0</td>\n",
       "      <td>0</td>\n",
       "      <td>0</td>\n",
       "      <td>0</td>\n",
       "    </tr>\n",
       "  </tbody>\n",
       "</table>\n",
       "<p>3 rows × 183 columns</p>\n",
       "</div>"
      ],
      "text/plain": [
       "    ANO-MES    CO_NCM  CO_UNID  CO_PAIS SG_UF_NCM  CO_VIA  CO_URF  QT_ESTAT  \\\n",
       "8   2019-12  73181500       10       23        SP       4  817700      1851   \n",
       "13  2019-12  73181600       10       23        SP       1  817800     24296   \n",
       "14  2019-12  73181600       10      249        SP       1  817800     27934   \n",
       "\n",
       "    KG_LIQUIDO  VL_FOB  ...  UF_SE  UF_SP  UF_TO  Modal_0  Modal_1  Modal_4  \\\n",
       "8         1851   70952  ...      0      1      0        0        0        1   \n",
       "13       24296  182720  ...      0      1      0        0        1        0   \n",
       "14       27934  349017  ...      0      1      0        0        1        0   \n",
       "\n",
       "    Modal_5  Modal_7  Modal_9  Modal_10  \n",
       "8         0        0        0         0  \n",
       "13        0        0        0         0  \n",
       "14        0        0        0         0  \n",
       "\n",
       "[3 rows x 183 columns]"
      ]
     },
     "execution_count": 19,
     "metadata": {},
     "output_type": "execute_result"
    }
   ],
   "source": [
    "df_encoded = pd.concat([df_encoded, pd.get_dummies(df_encoded[\"CO_VIA\"],prefix=\"Modal\")], axis=1)\n",
    "df_encoded.head(3)"
   ]
  },
  {
   "cell_type": "code",
   "execution_count": 20,
   "metadata": {},
   "outputs": [],
   "source": [
    "# Exclusão das colunas das variáveis categóricas (que deram origem às variáveis dummie)\n",
    "df_encoded = df_encoded.drop(columns=['ANO-MES', 'CO_NCM', 'CO_UNID', 'CO_PAIS', 'SG_UF_NCM', 'CO_VIA',\n",
    "       'CO_URF', 'KG_LIQUIDO', 'VL_FOB'])"
   ]
  },
  {
   "cell_type": "code",
   "execution_count": 21,
   "metadata": {},
   "outputs": [
    {
     "data": {
      "text/plain": [
       "Index(['QT_ESTAT', 'câmbio_mês_atual', 'câmbio_mês_anterior',\n",
       "       'VL_FOB/QT_ESTAT', 'Mês_2019-01', 'Mês_2019-02', 'Mês_2019-03',\n",
       "       'Mês_2019-04', 'Mês_2019-05', 'Mês_2019-06',\n",
       "       ...\n",
       "       'UF_SE', 'UF_SP', 'UF_TO', 'Modal_0', 'Modal_1', 'Modal_4', 'Modal_5',\n",
       "       'Modal_7', 'Modal_9', 'Modal_10'],\n",
       "      dtype='object', length=174)"
      ]
     },
     "execution_count": 21,
     "metadata": {},
     "output_type": "execute_result"
    }
   ],
   "source": [
    "df_encoded.columns"
   ]
  },
  {
   "cell_type": "code",
   "execution_count": 22,
   "metadata": {},
   "outputs": [
    {
     "name": "stdout",
     "output_type": "stream",
     "text": [
      "<class 'pandas.core.frame.DataFrame'>\n",
      "Int64Index: 34623 entries, 8 to 1764331\n",
      "Columns: 174 entries, QT_ESTAT to Modal_10\n",
      "dtypes: float64(3), int64(1), uint8(170)\n",
      "memory usage: 6.9 MB\n"
     ]
    }
   ],
   "source": [
    "df_encoded.info()"
   ]
  },
  {
   "cell_type": "code",
   "execution_count": 23,
   "metadata": {},
   "outputs": [
    {
     "data": {
      "text/plain": [
       "VL_FOB/QT_ESTAT    1.000000\n",
       "Modal_1            0.176811\n",
       "Modal_4            0.172540\n",
       "Pais_200           0.100144\n",
       "Pais_820           0.092689\n",
       "Pais_249           0.078622\n",
       "Pais_275           0.075753\n",
       "UF_RJ              0.061235\n",
       "Pais_160           0.060483\n",
       "UF_CE              0.060434\n",
       "Modal_0            0.047996\n",
       "UF_DF              0.043101\n",
       "Pais_767           0.041084\n",
       "UF_RS              0.041073\n",
       "Pais_474           0.036705\n",
       "NCM_73181400       0.034554\n",
       "NCM_73182900       0.033370\n",
       "Pais_161           0.032915\n",
       "QT_ESTAT           0.032475\n",
       "Pais_190           0.031134\n",
       "Pais_628           0.030865\n",
       "UF_SC              0.030029\n",
       "Pais_361           0.028063\n",
       "NCM_73182200       0.026453\n",
       "UF_BA              0.025559\n",
       "Pais_776           0.024198\n",
       "NCM_73182300       0.024105\n",
       "Pais_827           0.023090\n",
       "NCM_73181600       0.021274\n",
       "UF_PR              0.020791\n",
       "Pais_383           0.020265\n",
       "Pais_101           0.020264\n",
       "Pais_741           0.020158\n",
       "Pais_365           0.019974\n",
       "NCM_73181500       0.019647\n",
       "Pais_232           0.019166\n",
       "Pais_245           0.018881\n",
       "Pais_87            0.018501\n",
       "Pais_603           0.017907\n",
       "NCM_73181200       0.017156\n",
       "Pais_858           0.016921\n",
       "Pais_791           0.014716\n",
       "Pais_670           0.014408\n",
       "UF_MA              0.012535\n",
       "UF_GO              0.012349\n",
       "Modal_7            0.012013\n",
       "UF_MT              0.012005\n",
       "UF_MG              0.011391\n",
       "UF_RO              0.011387\n",
       "UF_AM              0.011182\n",
       "Name: VL_FOB/QT_ESTAT, dtype: float64"
      ]
     },
     "execution_count": 23,
     "metadata": {},
     "output_type": "execute_result"
    }
   ],
   "source": [
    "# Identificação das variáveis que mais se relacionam com a variável alvo (\"VL_FOB/QT_ESTAT\")\n",
    "correlacoes = df_encoded.corr().abs()[\"VL_FOB/QT_ESTAT\"].sort_values(ascending=False)\n",
    "correlacoes.head(50)"
   ]
  },
  {
   "cell_type": "code",
   "execution_count": 29,
   "metadata": {},
   "outputs": [
    {
     "data": {
      "text/plain": [
       "Index(['VL_FOB/QT_ESTAT', 'Modal_1', 'Modal_4', 'Pais_200', 'Pais_820',\n",
       "       'Pais_249', 'Pais_275', 'UF_RJ', 'Pais_160', 'UF_CE', 'Modal_0',\n",
       "       'UF_DF', 'Pais_767', 'UF_RS', 'Pais_474', 'NCM_73181400',\n",
       "       'NCM_73182900', 'Pais_161', 'QT_ESTAT', 'Pais_190', 'Pais_628',\n",
       "       'UF_SC'],\n",
       "      dtype='object')"
      ]
     },
     "execution_count": 29,
     "metadata": {},
     "output_type": "execute_result"
    }
   ],
   "source": [
    "# Identificando as features com as maiores correlações (maior ou igual a 0,01) para serem mantidas e excluídas as demais\n",
    "(correlacoes[correlacoes >= 0.03]).index"
   ]
  },
  {
   "cell_type": "code",
   "execution_count": 30,
   "metadata": {},
   "outputs": [],
   "source": [
    "# Selecionando as features com as maiores correlações (maior ou igual a 0,01) para serem mantidas e excluídas as demais\n",
    "df2 = df_encoded[(correlacoes[correlacoes >= 0.03]).index]"
   ]
  },
  {
   "cell_type": "code",
   "execution_count": 31,
   "metadata": {},
   "outputs": [],
   "source": [
    "#Checar se existe correlação entre as features selecionadas\n",
    "import matplotlib.pyplot as plt\n",
    "import seaborn as sns\n",
    "%matplotlib inline"
   ]
  },
  {
   "cell_type": "code",
   "execution_count": 32,
   "metadata": {
    "scrolled": true
   },
   "outputs": [
    {
     "data": {
      "text/plain": [
       "<AxesSubplot:>"
      ]
     },
     "execution_count": 32,
     "metadata": {},
     "output_type": "execute_result"
    },
    {
     "data": {
      "image/png": "[encoded data removed]",
      "text/plain": [
       "<Figure size 432x288 with 2 Axes>"
      ]
     },
     "metadata": {
      "needs_background": "light"
     },
     "output_type": "display_data"
    }
   ],
   "source": [
    "sns.heatmap(df2.corr(),cmap=\"coolwarm\", annot=False )"
   ]
  },
  {
   "cell_type": "code",
   "execution_count": 33,
   "metadata": {},
   "outputs": [],
   "source": [
    "#Considerando que as Modal 1 e Modal 4 estão fortemente relacionadas, irei retirar uma delas antes da elaboração do modelo\n",
    "df2=df2.drop(columns=\"Modal_1\")"
   ]
  },
  {
   "cell_type": "markdown",
   "metadata": {},
   "source": [
    "# Dividindo o dataset em \"base de teste\" e \"base de treinamento\""
   ]
  },
  {
   "cell_type": "code",
   "execution_count": 34,
   "metadata": {},
   "outputs": [
    {
     "data": {
      "text/plain": [
       "Index(['VL_FOB/QT_ESTAT', 'Modal_4', 'Pais_200', 'Pais_820', 'Pais_249',\n",
       "       'Pais_275', 'UF_RJ', 'Pais_160', 'UF_CE', 'Modal_0', 'UF_DF',\n",
       "       'Pais_767', 'UF_RS', 'Pais_474', 'NCM_73181400', 'NCM_73182900',\n",
       "       'Pais_161', 'QT_ESTAT', 'Pais_190', 'Pais_628', 'UF_SC'],\n",
       "      dtype='object')"
      ]
     },
     "execution_count": 34,
     "metadata": {},
     "output_type": "execute_result"
    }
   ],
   "source": [
    "df2.columns"
   ]
  },
  {
   "cell_type": "code",
   "execution_count": 35,
   "metadata": {},
   "outputs": [],
   "source": [
    "x = df2[['Modal_4', 'Pais_200', 'Pais_820', 'Pais_249',\n",
    "       'Pais_275', 'UF_RJ', 'Pais_160', 'UF_CE', 'Modal_0', 'UF_DF',\n",
    "       'Pais_767', 'UF_RS', 'Pais_474', 'NCM_73181400', 'NCM_73182900',\n",
    "       'Pais_161', 'QT_ESTAT', 'Pais_190', 'Pais_628', 'UF_SC']]\n",
    "y = df2['VL_FOB/QT_ESTAT']"
   ]
  },
  {
   "cell_type": "code",
   "execution_count": 36,
   "metadata": {},
   "outputs": [],
   "source": [
    "from sklearn.model_selection import train_test_split"
   ]
  },
  {
   "cell_type": "code",
   "execution_count": 37,
   "metadata": {},
   "outputs": [],
   "source": [
    "x_train, x_test, y_train, y_test = train_test_split(x, y, test_size=0.1, random_state=16)"
   ]
  },
  {
   "cell_type": "markdown",
   "metadata": {},
   "source": [
    "# Treinando o modelo LinearRegression"
   ]
  },
  {
   "cell_type": "code",
   "execution_count": 38,
   "metadata": {},
   "outputs": [],
   "source": [
    "from sklearn.linear_model import LinearRegression"
   ]
  },
  {
   "cell_type": "code",
   "execution_count": 39,
   "metadata": {},
   "outputs": [],
   "source": [
    "lm = LinearRegression()"
   ]
  },
  {
   "cell_type": "code",
   "execution_count": 40,
   "metadata": {},
   "outputs": [
    {
     "data": {
      "text/plain": [
       "LinearRegression()"
      ]
     },
     "execution_count": 40,
     "metadata": {},
     "output_type": "execute_result"
    }
   ],
   "source": [
    "lm.fit(x_train,y_train)"
   ]
  },
  {
   "cell_type": "code",
   "execution_count": 41,
   "metadata": {},
   "outputs": [
    {
     "name": "stdout",
     "output_type": "stream",
     "text": [
      "10.482860273264947\n"
     ]
    }
   ],
   "source": [
    "# impressão do intercepto\n",
    "print(lm.intercept_)"
   ]
  },
  {
   "cell_type": "code",
   "execution_count": 42,
   "metadata": {},
   "outputs": [
    {
     "data": {
      "text/html": [
       "<div>\n",
       "<style scoped>\n",
       "    .dataframe tbody tr th:only-of-type {\n",
       "        vertical-align: middle;\n",
       "    }\n",
       "\n",
       "    .dataframe tbody tr th {\n",
       "        vertical-align: top;\n",
       "    }\n",
       "\n",
       "    .dataframe thead th {\n",
       "        text-align: right;\n",
       "    }\n",
       "</style>\n",
       "<table border=\"1\" class=\"dataframe\">\n",
       "  <thead>\n",
       "    <tr style=\"text-align: right;\">\n",
       "      <th></th>\n",
       "      <th>Coeficiente</th>\n",
       "    </tr>\n",
       "  </thead>\n",
       "  <tbody>\n",
       "    <tr>\n",
       "      <th>Modal_4</th>\n",
       "      <td>146.119569</td>\n",
       "    </tr>\n",
       "    <tr>\n",
       "      <th>Pais_200</th>\n",
       "      <td>4897.730900</td>\n",
       "    </tr>\n",
       "    <tr>\n",
       "      <th>Pais_820</th>\n",
       "      <td>2442.329178</td>\n",
       "    </tr>\n",
       "    <tr>\n",
       "      <th>Pais_249</th>\n",
       "      <td>102.904351</td>\n",
       "    </tr>\n",
       "    <tr>\n",
       "      <th>Pais_275</th>\n",
       "      <td>183.587091</td>\n",
       "    </tr>\n",
       "    <tr>\n",
       "      <th>UF_RJ</th>\n",
       "      <td>87.939289</td>\n",
       "    </tr>\n",
       "    <tr>\n",
       "      <th>Pais_160</th>\n",
       "      <td>-47.351608</td>\n",
       "    </tr>\n",
       "    <tr>\n",
       "      <th>UF_CE</th>\n",
       "      <td>225.444328</td>\n",
       "    </tr>\n",
       "    <tr>\n",
       "      <th>Modal_0</th>\n",
       "      <td>275.470212</td>\n",
       "    </tr>\n",
       "    <tr>\n",
       "      <th>UF_DF</th>\n",
       "      <td>371.382372</td>\n",
       "    </tr>\n",
       "    <tr>\n",
       "      <th>Pais_767</th>\n",
       "      <td>133.095587</td>\n",
       "    </tr>\n",
       "    <tr>\n",
       "      <th>UF_RS</th>\n",
       "      <td>-36.675284</td>\n",
       "    </tr>\n",
       "    <tr>\n",
       "      <th>Pais_474</th>\n",
       "      <td>2866.953239</td>\n",
       "    </tr>\n",
       "    <tr>\n",
       "      <th>NCM_73181400</th>\n",
       "      <td>-32.003144</td>\n",
       "    </tr>\n",
       "    <tr>\n",
       "      <th>NCM_73182900</th>\n",
       "      <td>39.337840</td>\n",
       "    </tr>\n",
       "    <tr>\n",
       "      <th>Pais_161</th>\n",
       "      <td>-32.607599</td>\n",
       "    </tr>\n",
       "    <tr>\n",
       "      <th>QT_ESTAT</th>\n",
       "      <td>0.000004</td>\n",
       "    </tr>\n",
       "    <tr>\n",
       "      <th>Pais_190</th>\n",
       "      <td>-44.517849</td>\n",
       "    </tr>\n",
       "    <tr>\n",
       "      <th>Pais_628</th>\n",
       "      <td>83.243781</td>\n",
       "    </tr>\n",
       "    <tr>\n",
       "      <th>UF_SC</th>\n",
       "      <td>-1.817776</td>\n",
       "    </tr>\n",
       "  </tbody>\n",
       "</table>\n",
       "</div>"
      ],
      "text/plain": [
       "              Coeficiente\n",
       "Modal_4        146.119569\n",
       "Pais_200      4897.730900\n",
       "Pais_820      2442.329178\n",
       "Pais_249       102.904351\n",
       "Pais_275       183.587091\n",
       "UF_RJ           87.939289\n",
       "Pais_160       -47.351608\n",
       "UF_CE          225.444328\n",
       "Modal_0        275.470212\n",
       "UF_DF          371.382372\n",
       "Pais_767       133.095587\n",
       "UF_RS          -36.675284\n",
       "Pais_474      2866.953239\n",
       "NCM_73181400   -32.003144\n",
       "NCM_73182900    39.337840\n",
       "Pais_161       -32.607599\n",
       "QT_ESTAT         0.000004\n",
       "Pais_190       -44.517849\n",
       "Pais_628        83.243781\n",
       "UF_SC           -1.817776"
      ]
     },
     "execution_count": 42,
     "metadata": {},
     "output_type": "execute_result"
    }
   ],
   "source": [
    "# impressão dos coeficientes\n",
    "coeff_df = pd.DataFrame(lm.coef_,x.columns,columns=['Coeficiente'])\n",
    "coeff_df"
   ]
  },
  {
   "cell_type": "code",
   "execution_count": 43,
   "metadata": {},
   "outputs": [],
   "source": [
    "# realizando as predições\n",
    "predicoesLR = lm.predict(x_test)"
   ]
  },
  {
   "cell_type": "markdown",
   "metadata": {},
   "source": [
    "# Treinando o modelo Random Forest Regressor"
   ]
  },
  {
   "cell_type": "code",
   "execution_count": 44,
   "metadata": {},
   "outputs": [
    {
     "data": {
      "text/plain": [
       "RandomForestRegressor()"
      ]
     },
     "execution_count": 44,
     "metadata": {},
     "output_type": "execute_result"
    }
   ],
   "source": [
    "from sklearn.ensemble import RandomForestRegressor\n",
    "rfr = RandomForestRegressor(n_estimators=100)\n",
    "rfr.fit(x_train, y_train)"
   ]
  },
  {
   "cell_type": "code",
   "execution_count": 45,
   "metadata": {},
   "outputs": [],
   "source": [
    "predicoesRFR = rfr.predict(x_test)"
   ]
  },
  {
   "cell_type": "markdown",
   "metadata": {},
   "source": [
    "# Treinando o modelo Gradient Boosting Regressor"
   ]
  },
  {
   "cell_type": "code",
   "execution_count": 46,
   "metadata": {},
   "outputs": [],
   "source": [
    "from sklearn.ensemble import GradientBoostingRegressor"
   ]
  },
  {
   "cell_type": "code",
   "execution_count": 47,
   "metadata": {},
   "outputs": [
    {
     "data": {
      "text/plain": [
       "GradientBoostingRegressor()"
      ]
     },
     "execution_count": 47,
     "metadata": {},
     "output_type": "execute_result"
    }
   ],
   "source": [
    "gbr = GradientBoostingRegressor()\n",
    "gbr.fit(x_train, y_train)"
   ]
  },
  {
   "cell_type": "code",
   "execution_count": 48,
   "metadata": {},
   "outputs": [],
   "source": [
    "predicoesGBR = gbr.predict(x_test)"
   ]
  },
  {
   "cell_type": "markdown",
   "metadata": {},
   "source": [
    "# Avaliando os modelos"
   ]
  },
  {
   "cell_type": "markdown",
   "metadata": {},
   "source": [
    "#### Root mean squared error - RMSE"
   ]
  },
  {
   "cell_type": "code",
   "execution_count": 49,
   "metadata": {},
   "outputs": [],
   "source": [
    "from math import sqrt\n",
    "from sklearn.metrics import mean_squared_error"
   ]
  },
  {
   "cell_type": "code",
   "execution_count": 50,
   "metadata": {},
   "outputs": [],
   "source": [
    "def rmse(y_true, y_pred):\n",
    "    return sqrt(mean_squared_error(y_true, y_pred))"
   ]
  },
  {
   "cell_type": "code",
   "execution_count": 51,
   "metadata": {},
   "outputs": [
    {
     "data": {
      "text/plain": [
       "352.30317024312325"
      ]
     },
     "execution_count": 51,
     "metadata": {},
     "output_type": "execute_result"
    }
   ],
   "source": [
    "RMSE_LR = rmse(y_test,predicoesLR)\n",
    "RMSE_LR"
   ]
  },
  {
   "cell_type": "code",
   "execution_count": 52,
   "metadata": {},
   "outputs": [
    {
     "data": {
      "text/plain": [
       "356.772023702843"
      ]
     },
     "execution_count": 52,
     "metadata": {},
     "output_type": "execute_result"
    }
   ],
   "source": [
    "RMSE_RFR = rmse(y_test,predicoesRFR)\n",
    "RMSE_RFR"
   ]
  },
  {
   "cell_type": "code",
   "execution_count": 53,
   "metadata": {
    "scrolled": true
   },
   "outputs": [
    {
     "data": {
      "text/plain": [
       "345.5853036358217"
      ]
     },
     "execution_count": 53,
     "metadata": {},
     "output_type": "execute_result"
    }
   ],
   "source": [
    "RMSE_GBR = rmse(y_test,predicoesGBR)\n",
    "RMSE_GBR"
   ]
  },
  {
   "cell_type": "markdown",
   "metadata": {},
   "source": [
    "#### Mean absolute error - MAE"
   ]
  },
  {
   "cell_type": "code",
   "execution_count": 54,
   "metadata": {},
   "outputs": [],
   "source": [
    "from sklearn.metrics import mean_absolute_error"
   ]
  },
  {
   "cell_type": "code",
   "execution_count": 55,
   "metadata": {},
   "outputs": [
    {
     "data": {
      "text/plain": [
       "132.8804479943423"
      ]
     },
     "execution_count": 55,
     "metadata": {},
     "output_type": "execute_result"
    }
   ],
   "source": [
    "MAE_LR=mean_absolute_error(y_test, predicoesLR)\n",
    "MAE_LR"
   ]
  },
  {
   "cell_type": "code",
   "execution_count": 56,
   "metadata": {},
   "outputs": [
    {
     "data": {
      "text/plain": [
       "115.35147928684552"
      ]
     },
     "execution_count": 56,
     "metadata": {},
     "output_type": "execute_result"
    }
   ],
   "source": [
    "MAE_RFR=mean_absolute_error(y_test, predicoesRFR)\n",
    "MAE_RFR"
   ]
  },
  {
   "cell_type": "code",
   "execution_count": 57,
   "metadata": {},
   "outputs": [
    {
     "data": {
      "text/plain": [
       "118.3614477509537"
      ]
     },
     "execution_count": 57,
     "metadata": {},
     "output_type": "execute_result"
    }
   ],
   "source": [
    "MAE_GBR=mean_absolute_error(y_test, predicoesGBR)\n",
    "MAE_GBR"
   ]
  },
  {
   "cell_type": "markdown",
   "metadata": {},
   "source": [
    "#### Mean squared error - MSE"
   ]
  },
  {
   "cell_type": "code",
   "execution_count": 58,
   "metadata": {},
   "outputs": [],
   "source": [
    "from sklearn.metrics import mean_absolute_error"
   ]
  },
  {
   "cell_type": "code",
   "execution_count": 59,
   "metadata": {},
   "outputs": [
    {
     "data": {
      "text/plain": [
       "124117.5237633551"
      ]
     },
     "execution_count": 59,
     "metadata": {},
     "output_type": "execute_result"
    }
   ],
   "source": [
    "MSE_LR=mean_squared_error(y_test, predicoesLR)\n",
    "MSE_LR"
   ]
  },
  {
   "cell_type": "code",
   "execution_count": 60,
   "metadata": {},
   "outputs": [
    {
     "data": {
      "text/plain": [
       "127286.27689702195"
      ]
     },
     "execution_count": 60,
     "metadata": {},
     "output_type": "execute_result"
    }
   ],
   "source": [
    "MSE_RFR=mean_squared_error(y_test, predicoesRFR)\n",
    "MSE_RFR"
   ]
  },
  {
   "cell_type": "code",
   "execution_count": 61,
   "metadata": {},
   "outputs": [
    {
     "data": {
      "text/plain": [
       "119429.20208906305"
      ]
     },
     "execution_count": 61,
     "metadata": {},
     "output_type": "execute_result"
    }
   ],
   "source": [
    "MSE_GBR=mean_squared_error(y_test, predicoesGBR)\n",
    "MSE_GBR"
   ]
  },
  {
   "cell_type": "markdown",
   "metadata": {},
   "source": [
    "#### Coeficente de determinação - R²"
   ]
  },
  {
   "cell_type": "code",
   "execution_count": 62,
   "metadata": {},
   "outputs": [],
   "source": [
    "from sklearn.metrics import r2_score"
   ]
  },
  {
   "cell_type": "code",
   "execution_count": 63,
   "metadata": {},
   "outputs": [
    {
     "data": {
      "text/plain": [
       "0.07064909218757631"
      ]
     },
     "execution_count": 63,
     "metadata": {},
     "output_type": "execute_result"
    }
   ],
   "source": [
    "R2_LR=r2_score(y_test, predicoesLR)\n",
    "R2_LR"
   ]
  },
  {
   "cell_type": "code",
   "execution_count": 64,
   "metadata": {},
   "outputs": [
    {
     "data": {
      "text/plain": [
       "0.04692251827508409"
      ]
     },
     "execution_count": 64,
     "metadata": {},
     "output_type": "execute_result"
    }
   ],
   "source": [
    "R2_RFR=r2_score(y_test, predicoesRFR)\n",
    "R2_RFR"
   ]
  },
  {
   "cell_type": "code",
   "execution_count": 65,
   "metadata": {
    "scrolled": true
   },
   "outputs": [
    {
     "data": {
      "text/plain": [
       "0.10575369202174079"
      ]
     },
     "execution_count": 65,
     "metadata": {},
     "output_type": "execute_result"
    }
   ],
   "source": [
    "R2_GBR=r2_score(y_test, predicoesGBR)\n",
    "R2_GBR"
   ]
  }
 ],
 "metadata": {
  "kernelspec": {
   "display_name": "Python 3",
   "language": "python",
   "name": "python3"
  },
  "language_info": {
   "codemirror_mode": {
    "name": "ipython",
    "version": 3
   },
   "file_extension": ".py",
   "mimetype": "text/x-python",
   "name": "python",
   "nbconvert_exporter": "python",
   "pygments_lexer": "ipython3",
   "version": "3.8.5"
  }
 },
 "nbformat": 4,
 "nbformat_minor": 4
}
