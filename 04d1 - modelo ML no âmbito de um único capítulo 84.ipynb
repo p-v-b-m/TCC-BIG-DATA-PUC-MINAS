{
 "cells": [
  {
   "cell_type": "code",
   "execution_count": 10,
   "metadata": {},
   "outputs": [],
   "source": [
    "import pandas as pd\n",
    "import numpy as np"
   ]
  },
  {
   "cell_type": "code",
   "execution_count": 11,
   "metadata": {},
   "outputs": [],
   "source": [
    "# fazendo a leitura da base enriquecida, trabalhada na etapa anterior\n",
    "df = pd.read_csv(\"base_enriquecida_codigos\")"
   ]
  },
  {
   "cell_type": "code",
   "execution_count": 12,
   "metadata": {},
   "outputs": [
    {
     "data": {
      "text/html": [
       "<div>\n",
       "<style scoped>\n",
       "    .dataframe tbody tr th:only-of-type {\n",
       "        vertical-align: middle;\n",
       "    }\n",
       "\n",
       "    .dataframe tbody tr th {\n",
       "        vertical-align: top;\n",
       "    }\n",
       "\n",
       "    .dataframe thead th {\n",
       "        text-align: right;\n",
       "    }\n",
       "</style>\n",
       "<table border=\"1\" class=\"dataframe\">\n",
       "  <thead>\n",
       "    <tr style=\"text-align: right;\">\n",
       "      <th></th>\n",
       "      <th>ANO-MES</th>\n",
       "      <th>CO_NCM</th>\n",
       "      <th>CO_UNID</th>\n",
       "      <th>CO_PAIS</th>\n",
       "      <th>SG_UF_NCM</th>\n",
       "      <th>CO_VIA</th>\n",
       "      <th>CO_URF</th>\n",
       "      <th>QT_ESTAT</th>\n",
       "      <th>KG_LIQUIDO</th>\n",
       "      <th>VL_FOB</th>\n",
       "      <th>câmbio_mês_atual</th>\n",
       "      <th>câmbio_mês_anterior</th>\n",
       "    </tr>\n",
       "  </thead>\n",
       "  <tbody>\n",
       "    <tr>\n",
       "      <th>0</th>\n",
       "      <td>2019-12</td>\n",
       "      <td>85044021</td>\n",
       "      <td>11</td>\n",
       "      <td>249</td>\n",
       "      <td>SP</td>\n",
       "      <td>4</td>\n",
       "      <td>817700</td>\n",
       "      <td>53</td>\n",
       "      <td>44</td>\n",
       "      <td>8263</td>\n",
       "      <td>4.108924</td>\n",
       "      <td>4.154725</td>\n",
       "    </tr>\n",
       "    <tr>\n",
       "      <th>1</th>\n",
       "      <td>2019-12</td>\n",
       "      <td>85183000</td>\n",
       "      <td>11</td>\n",
       "      <td>160</td>\n",
       "      <td>GO</td>\n",
       "      <td>4</td>\n",
       "      <td>817600</td>\n",
       "      <td>23734</td>\n",
       "      <td>1621</td>\n",
       "      <td>6987</td>\n",
       "      <td>4.108924</td>\n",
       "      <td>4.154725</td>\n",
       "    </tr>\n",
       "    <tr>\n",
       "      <th>2</th>\n",
       "      <td>2019-12</td>\n",
       "      <td>39263000</td>\n",
       "      <td>10</td>\n",
       "      <td>23</td>\n",
       "      <td>SP</td>\n",
       "      <td>1</td>\n",
       "      <td>817800</td>\n",
       "      <td>3951</td>\n",
       "      <td>3951</td>\n",
       "      <td>88311</td>\n",
       "      <td>4.108924</td>\n",
       "      <td>4.154725</td>\n",
       "    </tr>\n",
       "    <tr>\n",
       "      <th>3</th>\n",
       "      <td>2019-12</td>\n",
       "      <td>38249929</td>\n",
       "      <td>10</td>\n",
       "      <td>493</td>\n",
       "      <td>SP</td>\n",
       "      <td>1</td>\n",
       "      <td>817800</td>\n",
       "      <td>19540</td>\n",
       "      <td>19540</td>\n",
       "      <td>65812</td>\n",
       "      <td>4.108924</td>\n",
       "      <td>4.154725</td>\n",
       "    </tr>\n",
       "    <tr>\n",
       "      <th>4</th>\n",
       "      <td>2019-12</td>\n",
       "      <td>34021300</td>\n",
       "      <td>10</td>\n",
       "      <td>493</td>\n",
       "      <td>BA</td>\n",
       "      <td>1</td>\n",
       "      <td>517800</td>\n",
       "      <td>34400</td>\n",
       "      <td>34400</td>\n",
       "      <td>119356</td>\n",
       "      <td>4.108924</td>\n",
       "      <td>4.154725</td>\n",
       "    </tr>\n",
       "    <tr>\n",
       "      <th>...</th>\n",
       "      <td>...</td>\n",
       "      <td>...</td>\n",
       "      <td>...</td>\n",
       "      <td>...</td>\n",
       "      <td>...</td>\n",
       "      <td>...</td>\n",
       "      <td>...</td>\n",
       "      <td>...</td>\n",
       "      <td>...</td>\n",
       "      <td>...</td>\n",
       "      <td>...</td>\n",
       "      <td>...</td>\n",
       "    </tr>\n",
       "    <tr>\n",
       "      <th>1764428</th>\n",
       "      <td>2019-08</td>\n",
       "      <td>85365090</td>\n",
       "      <td>11</td>\n",
       "      <td>271</td>\n",
       "      <td>SP</td>\n",
       "      <td>4</td>\n",
       "      <td>817600</td>\n",
       "      <td>11</td>\n",
       "      <td>157</td>\n",
       "      <td>4412</td>\n",
       "      <td>4.019382</td>\n",
       "      <td>3.778713</td>\n",
       "    </tr>\n",
       "    <tr>\n",
       "      <th>1764429</th>\n",
       "      <td>2019-08</td>\n",
       "      <td>30043918</td>\n",
       "      <td>10</td>\n",
       "      <td>767</td>\n",
       "      <td>SP</td>\n",
       "      <td>4</td>\n",
       "      <td>817600</td>\n",
       "      <td>225</td>\n",
       "      <td>225</td>\n",
       "      <td>1216801</td>\n",
       "      <td>4.019382</td>\n",
       "      <td>3.778713</td>\n",
       "    </tr>\n",
       "    <tr>\n",
       "      <th>1764430</th>\n",
       "      <td>2019-08</td>\n",
       "      <td>90189099</td>\n",
       "      <td>11</td>\n",
       "      <td>87</td>\n",
       "      <td>SP</td>\n",
       "      <td>1</td>\n",
       "      <td>817800</td>\n",
       "      <td>5033</td>\n",
       "      <td>178</td>\n",
       "      <td>22889</td>\n",
       "      <td>4.019382</td>\n",
       "      <td>3.778713</td>\n",
       "    </tr>\n",
       "    <tr>\n",
       "      <th>1764431</th>\n",
       "      <td>2019-08</td>\n",
       "      <td>84123900</td>\n",
       "      <td>11</td>\n",
       "      <td>764</td>\n",
       "      <td>PA</td>\n",
       "      <td>4</td>\n",
       "      <td>817600</td>\n",
       "      <td>1</td>\n",
       "      <td>83</td>\n",
       "      <td>7641</td>\n",
       "      <td>4.019382</td>\n",
       "      <td>3.778713</td>\n",
       "    </tr>\n",
       "    <tr>\n",
       "      <th>1764432</th>\n",
       "      <td>2019-08</td>\n",
       "      <td>85269200</td>\n",
       "      <td>11</td>\n",
       "      <td>776</td>\n",
       "      <td>SP</td>\n",
       "      <td>4</td>\n",
       "      <td>817600</td>\n",
       "      <td>2</td>\n",
       "      <td>0</td>\n",
       "      <td>119</td>\n",
       "      <td>4.019382</td>\n",
       "      <td>3.778713</td>\n",
       "    </tr>\n",
       "  </tbody>\n",
       "</table>\n",
       "<p>1764433 rows × 12 columns</p>\n",
       "</div>"
      ],
      "text/plain": [
       "         ANO-MES    CO_NCM  CO_UNID  CO_PAIS SG_UF_NCM  CO_VIA  CO_URF  \\\n",
       "0        2019-12  85044021       11      249        SP       4  817700   \n",
       "1        2019-12  85183000       11      160        GO       4  817600   \n",
       "2        2019-12  39263000       10       23        SP       1  817800   \n",
       "3        2019-12  38249929       10      493        SP       1  817800   \n",
       "4        2019-12  34021300       10      493        BA       1  517800   \n",
       "...          ...       ...      ...      ...       ...     ...     ...   \n",
       "1764428  2019-08  85365090       11      271        SP       4  817600   \n",
       "1764429  2019-08  30043918       10      767        SP       4  817600   \n",
       "1764430  2019-08  90189099       11       87        SP       1  817800   \n",
       "1764431  2019-08  84123900       11      764        PA       4  817600   \n",
       "1764432  2019-08  85269200       11      776        SP       4  817600   \n",
       "\n",
       "         QT_ESTAT  KG_LIQUIDO   VL_FOB  câmbio_mês_atual  câmbio_mês_anterior  \n",
       "0              53          44     8263          4.108924             4.154725  \n",
       "1           23734        1621     6987          4.108924             4.154725  \n",
       "2            3951        3951    88311          4.108924             4.154725  \n",
       "3           19540       19540    65812          4.108924             4.154725  \n",
       "4           34400       34400   119356          4.108924             4.154725  \n",
       "...           ...         ...      ...               ...                  ...  \n",
       "1764428        11         157     4412          4.019382             3.778713  \n",
       "1764429       225         225  1216801          4.019382             3.778713  \n",
       "1764430      5033         178    22889          4.019382             3.778713  \n",
       "1764431         1          83     7641          4.019382             3.778713  \n",
       "1764432         2           0      119          4.019382             3.778713  \n",
       "\n",
       "[1764433 rows x 12 columns]"
      ]
     },
     "execution_count": 12,
     "metadata": {},
     "output_type": "execute_result"
    }
   ],
   "source": [
    "df"
   ]
  },
  {
   "cell_type": "markdown",
   "metadata": {},
   "source": [
    "###### Checando capítulos NCM recorrentes"
   ]
  },
  {
   "cell_type": "markdown",
   "metadata": {},
   "source": [
    "Por meio do Jupyer Notebook \"03_análises_diversas_e_representações_gráficas - PARTE 01\", constata-se que a maior quantidade de mercadoria importada classifica-se no capítulo 85. De todo modo, para fins de implementação do modelo, entende-se que é desejável não apenas um código que tenha sido importado em quantidade, mas, sobretudo, que tenha sido recorrente. Segue, portanto, consulta ao capítulo da NCM em que os códigos NCM foram mais recorrentes."
   ]
  },
  {
   "cell_type": "code",
   "execution_count": 13,
   "metadata": {},
   "outputs": [],
   "source": [
    "# testa capítulos mais recorrentes\n",
    "df[\"CAPÍTULO_NCM\"] = df[\"CO_NCM\"].astype(str).str[:2]"
   ]
  },
  {
   "cell_type": "code",
   "execution_count": 14,
   "metadata": {},
   "outputs": [
    {
     "data": {
      "text/plain": [
       "84    366185\n",
       "85    347989\n",
       "90    121571\n",
       "39    104402\n",
       "73     92280\n",
       "       ...  \n",
       "78       323\n",
       "97       289\n",
       "36       201\n",
       "43       152\n",
       "14       114\n",
       "Name: CAPÍTULO_NCM, Length: 87, dtype: int64"
      ]
     },
     "execution_count": 14,
     "metadata": {},
     "output_type": "execute_result"
    }
   ],
   "source": [
    "df[\"CAPÍTULO_NCM\"].value_counts()"
   ]
  },
  {
   "cell_type": "code",
   "execution_count": 15,
   "metadata": {},
   "outputs": [
    {
     "data": {
      "text/plain": [
       "11    243030\n",
       "10    123155\n",
       "Name: CO_UNID, dtype: int64"
      ]
     },
     "execution_count": 15,
     "metadata": {},
     "output_type": "execute_result"
    }
   ],
   "source": [
    "df[df[\"CAPÍTULO_NCM\"]==\"84\"][\"CO_UNID\"].value_counts()"
   ]
  },
  {
   "cell_type": "code",
   "execution_count": 16,
   "metadata": {},
   "outputs": [],
   "source": [
    "# uma vez constatado que o capítulo 84 é o mais recorrente, tentaremos reproduzir o modelo no âmbito desse capítulo.\n",
    "df1=df[df[\"CAPÍTULO_NCM\"]==\"84\"]"
   ]
  },
  {
   "cell_type": "code",
   "execution_count": 17,
   "metadata": {},
   "outputs": [
    {
     "data": {
      "text/html": [
       "<div>\n",
       "<style scoped>\n",
       "    .dataframe tbody tr th:only-of-type {\n",
       "        vertical-align: middle;\n",
       "    }\n",
       "\n",
       "    .dataframe tbody tr th {\n",
       "        vertical-align: top;\n",
       "    }\n",
       "\n",
       "    .dataframe thead th {\n",
       "        text-align: right;\n",
       "    }\n",
       "</style>\n",
       "<table border=\"1\" class=\"dataframe\">\n",
       "  <thead>\n",
       "    <tr style=\"text-align: right;\">\n",
       "      <th></th>\n",
       "      <th>ANO-MES</th>\n",
       "      <th>CO_NCM</th>\n",
       "      <th>CO_UNID</th>\n",
       "      <th>CO_PAIS</th>\n",
       "      <th>SG_UF_NCM</th>\n",
       "      <th>CO_VIA</th>\n",
       "      <th>CO_URF</th>\n",
       "      <th>QT_ESTAT</th>\n",
       "      <th>KG_LIQUIDO</th>\n",
       "      <th>VL_FOB</th>\n",
       "      <th>câmbio_mês_atual</th>\n",
       "      <th>câmbio_mês_anterior</th>\n",
       "      <th>CAPÍTULO_NCM</th>\n",
       "    </tr>\n",
       "  </thead>\n",
       "  <tbody>\n",
       "    <tr>\n",
       "      <th>9</th>\n",
       "      <td>2019-12</td>\n",
       "      <td>84719012</td>\n",
       "      <td>11</td>\n",
       "      <td>858</td>\n",
       "      <td>SP</td>\n",
       "      <td>4</td>\n",
       "      <td>817600</td>\n",
       "      <td>1</td>\n",
       "      <td>0</td>\n",
       "      <td>670</td>\n",
       "      <td>4.108924</td>\n",
       "      <td>4.154725</td>\n",
       "      <td>84</td>\n",
       "    </tr>\n",
       "    <tr>\n",
       "      <th>10</th>\n",
       "      <td>2019-12</td>\n",
       "      <td>84798210</td>\n",
       "      <td>11</td>\n",
       "      <td>249</td>\n",
       "      <td>SP</td>\n",
       "      <td>4</td>\n",
       "      <td>817600</td>\n",
       "      <td>15</td>\n",
       "      <td>240</td>\n",
       "      <td>29403</td>\n",
       "      <td>4.108924</td>\n",
       "      <td>4.154725</td>\n",
       "      <td>84</td>\n",
       "    </tr>\n",
       "    <tr>\n",
       "      <th>12</th>\n",
       "      <td>2019-12</td>\n",
       "      <td>84439923</td>\n",
       "      <td>10</td>\n",
       "      <td>858</td>\n",
       "      <td>SP</td>\n",
       "      <td>4</td>\n",
       "      <td>817600</td>\n",
       "      <td>413</td>\n",
       "      <td>413</td>\n",
       "      <td>92535</td>\n",
       "      <td>4.108924</td>\n",
       "      <td>4.154725</td>\n",
       "      <td>84</td>\n",
       "    </tr>\n",
       "    <tr>\n",
       "      <th>33</th>\n",
       "      <td>2019-01</td>\n",
       "      <td>84833090</td>\n",
       "      <td>11</td>\n",
       "      <td>249</td>\n",
       "      <td>SP</td>\n",
       "      <td>4</td>\n",
       "      <td>817700</td>\n",
       "      <td>1410</td>\n",
       "      <td>416</td>\n",
       "      <td>164046</td>\n",
       "      <td>3.741055</td>\n",
       "      <td>3.884405</td>\n",
       "      <td>84</td>\n",
       "    </tr>\n",
       "    <tr>\n",
       "      <th>41</th>\n",
       "      <td>2019-01</td>\n",
       "      <td>84349000</td>\n",
       "      <td>10</td>\n",
       "      <td>386</td>\n",
       "      <td>RS</td>\n",
       "      <td>4</td>\n",
       "      <td>1017801</td>\n",
       "      <td>271</td>\n",
       "      <td>271</td>\n",
       "      <td>50073</td>\n",
       "      <td>3.741055</td>\n",
       "      <td>3.884405</td>\n",
       "      <td>84</td>\n",
       "    </tr>\n",
       "    <tr>\n",
       "      <th>...</th>\n",
       "      <td>...</td>\n",
       "      <td>...</td>\n",
       "      <td>...</td>\n",
       "      <td>...</td>\n",
       "      <td>...</td>\n",
       "      <td>...</td>\n",
       "      <td>...</td>\n",
       "      <td>...</td>\n",
       "      <td>...</td>\n",
       "      <td>...</td>\n",
       "      <td>...</td>\n",
       "      <td>...</td>\n",
       "      <td>...</td>\n",
       "    </tr>\n",
       "    <tr>\n",
       "      <th>1764414</th>\n",
       "      <td>2019-08</td>\n",
       "      <td>84209100</td>\n",
       "      <td>11</td>\n",
       "      <td>776</td>\n",
       "      <td>SP</td>\n",
       "      <td>1</td>\n",
       "      <td>817800</td>\n",
       "      <td>2</td>\n",
       "      <td>1</td>\n",
       "      <td>76</td>\n",
       "      <td>4.019382</td>\n",
       "      <td>3.778713</td>\n",
       "      <td>84</td>\n",
       "    </tr>\n",
       "    <tr>\n",
       "      <th>1764419</th>\n",
       "      <td>2019-08</td>\n",
       "      <td>84133010</td>\n",
       "      <td>11</td>\n",
       "      <td>247</td>\n",
       "      <td>PR</td>\n",
       "      <td>1</td>\n",
       "      <td>917800</td>\n",
       "      <td>3456</td>\n",
       "      <td>3356</td>\n",
       "      <td>89925</td>\n",
       "      <td>4.019382</td>\n",
       "      <td>3.778713</td>\n",
       "      <td>84</td>\n",
       "    </tr>\n",
       "    <tr>\n",
       "      <th>1764423</th>\n",
       "      <td>2019-08</td>\n",
       "      <td>84339090</td>\n",
       "      <td>10</td>\n",
       "      <td>63</td>\n",
       "      <td>RS</td>\n",
       "      <td>7</td>\n",
       "      <td>1017500</td>\n",
       "      <td>25285</td>\n",
       "      <td>25285</td>\n",
       "      <td>54569</td>\n",
       "      <td>4.019382</td>\n",
       "      <td>3.778713</td>\n",
       "      <td>84</td>\n",
       "    </tr>\n",
       "    <tr>\n",
       "      <th>1764427</th>\n",
       "      <td>2019-08</td>\n",
       "      <td>84243010</td>\n",
       "      <td>11</td>\n",
       "      <td>249</td>\n",
       "      <td>SP</td>\n",
       "      <td>4</td>\n",
       "      <td>817600</td>\n",
       "      <td>22</td>\n",
       "      <td>56</td>\n",
       "      <td>24875</td>\n",
       "      <td>4.019382</td>\n",
       "      <td>3.778713</td>\n",
       "      <td>84</td>\n",
       "    </tr>\n",
       "    <tr>\n",
       "      <th>1764431</th>\n",
       "      <td>2019-08</td>\n",
       "      <td>84123900</td>\n",
       "      <td>11</td>\n",
       "      <td>764</td>\n",
       "      <td>PA</td>\n",
       "      <td>4</td>\n",
       "      <td>817600</td>\n",
       "      <td>1</td>\n",
       "      <td>83</td>\n",
       "      <td>7641</td>\n",
       "      <td>4.019382</td>\n",
       "      <td>3.778713</td>\n",
       "      <td>84</td>\n",
       "    </tr>\n",
       "  </tbody>\n",
       "</table>\n",
       "<p>366185 rows × 13 columns</p>\n",
       "</div>"
      ],
      "text/plain": [
       "         ANO-MES    CO_NCM  CO_UNID  CO_PAIS SG_UF_NCM  CO_VIA   CO_URF  \\\n",
       "9        2019-12  84719012       11      858        SP       4   817600   \n",
       "10       2019-12  84798210       11      249        SP       4   817600   \n",
       "12       2019-12  84439923       10      858        SP       4   817600   \n",
       "33       2019-01  84833090       11      249        SP       4   817700   \n",
       "41       2019-01  84349000       10      386        RS       4  1017801   \n",
       "...          ...       ...      ...      ...       ...     ...      ...   \n",
       "1764414  2019-08  84209100       11      776        SP       1   817800   \n",
       "1764419  2019-08  84133010       11      247        PR       1   917800   \n",
       "1764423  2019-08  84339090       10       63        RS       7  1017500   \n",
       "1764427  2019-08  84243010       11      249        SP       4   817600   \n",
       "1764431  2019-08  84123900       11      764        PA       4   817600   \n",
       "\n",
       "         QT_ESTAT  KG_LIQUIDO  VL_FOB  câmbio_mês_atual  câmbio_mês_anterior  \\\n",
       "9               1           0     670          4.108924             4.154725   \n",
       "10             15         240   29403          4.108924             4.154725   \n",
       "12            413         413   92535          4.108924             4.154725   \n",
       "33           1410         416  164046          3.741055             3.884405   \n",
       "41            271         271   50073          3.741055             3.884405   \n",
       "...           ...         ...     ...               ...                  ...   \n",
       "1764414         2           1      76          4.019382             3.778713   \n",
       "1764419      3456        3356   89925          4.019382             3.778713   \n",
       "1764423     25285       25285   54569          4.019382             3.778713   \n",
       "1764427        22          56   24875          4.019382             3.778713   \n",
       "1764431         1          83    7641          4.019382             3.778713   \n",
       "\n",
       "        CAPÍTULO_NCM  \n",
       "9                 84  \n",
       "10                84  \n",
       "12                84  \n",
       "33                84  \n",
       "41                84  \n",
       "...              ...  \n",
       "1764414           84  \n",
       "1764419           84  \n",
       "1764423           84  \n",
       "1764427           84  \n",
       "1764431           84  \n",
       "\n",
       "[366185 rows x 13 columns]"
      ]
     },
     "execution_count": 17,
     "metadata": {},
     "output_type": "execute_result"
    }
   ],
   "source": [
    "df1"
   ]
  },
  {
   "cell_type": "code",
   "execution_count": 18,
   "metadata": {},
   "outputs": [
    {
     "data": {
      "text/plain": [
       "11    243030\n",
       "10    123155\n",
       "Name: CO_UNID, dtype: int64"
      ]
     },
     "execution_count": 18,
     "metadata": {},
     "output_type": "execute_result"
    }
   ],
   "source": [
    "df1[\"CO_UNID\"].value_counts()"
   ]
  },
  {
   "cell_type": "code",
   "execution_count": 19,
   "metadata": {},
   "outputs": [
    {
     "name": "stderr",
     "output_type": "stream",
     "text": [
      "D:\\ANACONDA\\lib\\site-packages\\pandas\\core\\frame.py:4163: SettingWithCopyWarning: \n",
      "A value is trying to be set on a copy of a slice from a DataFrame\n",
      "\n",
      "See the caveats in the documentation: https://pandas.pydata.org/pandas-docs/stable/user_guide/indexing.html#returning-a-view-versus-a-copy\n",
      "  return super().drop(\n"
     ]
    }
   ],
   "source": [
    "df1.drop(columns=\"CAPÍTULO_NCM\", inplace=True)"
   ]
  },
  {
   "cell_type": "code",
   "execution_count": 20,
   "metadata": {},
   "outputs": [
    {
     "data": {
      "text/html": [
       "<div>\n",
       "<style scoped>\n",
       "    .dataframe tbody tr th:only-of-type {\n",
       "        vertical-align: middle;\n",
       "    }\n",
       "\n",
       "    .dataframe tbody tr th {\n",
       "        vertical-align: top;\n",
       "    }\n",
       "\n",
       "    .dataframe thead th {\n",
       "        text-align: right;\n",
       "    }\n",
       "</style>\n",
       "<table border=\"1\" class=\"dataframe\">\n",
       "  <thead>\n",
       "    <tr style=\"text-align: right;\">\n",
       "      <th></th>\n",
       "      <th>ANO-MES</th>\n",
       "      <th>CO_NCM</th>\n",
       "      <th>CO_UNID</th>\n",
       "      <th>CO_PAIS</th>\n",
       "      <th>SG_UF_NCM</th>\n",
       "      <th>CO_VIA</th>\n",
       "      <th>CO_URF</th>\n",
       "      <th>QT_ESTAT</th>\n",
       "      <th>KG_LIQUIDO</th>\n",
       "      <th>VL_FOB</th>\n",
       "      <th>câmbio_mês_atual</th>\n",
       "      <th>câmbio_mês_anterior</th>\n",
       "    </tr>\n",
       "  </thead>\n",
       "  <tbody>\n",
       "    <tr>\n",
       "      <th>9</th>\n",
       "      <td>2019-12</td>\n",
       "      <td>84719012</td>\n",
       "      <td>11</td>\n",
       "      <td>858</td>\n",
       "      <td>SP</td>\n",
       "      <td>4</td>\n",
       "      <td>817600</td>\n",
       "      <td>1</td>\n",
       "      <td>0</td>\n",
       "      <td>670</td>\n",
       "      <td>4.108924</td>\n",
       "      <td>4.154725</td>\n",
       "    </tr>\n",
       "    <tr>\n",
       "      <th>10</th>\n",
       "      <td>2019-12</td>\n",
       "      <td>84798210</td>\n",
       "      <td>11</td>\n",
       "      <td>249</td>\n",
       "      <td>SP</td>\n",
       "      <td>4</td>\n",
       "      <td>817600</td>\n",
       "      <td>15</td>\n",
       "      <td>240</td>\n",
       "      <td>29403</td>\n",
       "      <td>4.108924</td>\n",
       "      <td>4.154725</td>\n",
       "    </tr>\n",
       "    <tr>\n",
       "      <th>12</th>\n",
       "      <td>2019-12</td>\n",
       "      <td>84439923</td>\n",
       "      <td>10</td>\n",
       "      <td>858</td>\n",
       "      <td>SP</td>\n",
       "      <td>4</td>\n",
       "      <td>817600</td>\n",
       "      <td>413</td>\n",
       "      <td>413</td>\n",
       "      <td>92535</td>\n",
       "      <td>4.108924</td>\n",
       "      <td>4.154725</td>\n",
       "    </tr>\n",
       "    <tr>\n",
       "      <th>33</th>\n",
       "      <td>2019-01</td>\n",
       "      <td>84833090</td>\n",
       "      <td>11</td>\n",
       "      <td>249</td>\n",
       "      <td>SP</td>\n",
       "      <td>4</td>\n",
       "      <td>817700</td>\n",
       "      <td>1410</td>\n",
       "      <td>416</td>\n",
       "      <td>164046</td>\n",
       "      <td>3.741055</td>\n",
       "      <td>3.884405</td>\n",
       "    </tr>\n",
       "    <tr>\n",
       "      <th>41</th>\n",
       "      <td>2019-01</td>\n",
       "      <td>84349000</td>\n",
       "      <td>10</td>\n",
       "      <td>386</td>\n",
       "      <td>RS</td>\n",
       "      <td>4</td>\n",
       "      <td>1017801</td>\n",
       "      <td>271</td>\n",
       "      <td>271</td>\n",
       "      <td>50073</td>\n",
       "      <td>3.741055</td>\n",
       "      <td>3.884405</td>\n",
       "    </tr>\n",
       "    <tr>\n",
       "      <th>...</th>\n",
       "      <td>...</td>\n",
       "      <td>...</td>\n",
       "      <td>...</td>\n",
       "      <td>...</td>\n",
       "      <td>...</td>\n",
       "      <td>...</td>\n",
       "      <td>...</td>\n",
       "      <td>...</td>\n",
       "      <td>...</td>\n",
       "      <td>...</td>\n",
       "      <td>...</td>\n",
       "      <td>...</td>\n",
       "    </tr>\n",
       "    <tr>\n",
       "      <th>1764414</th>\n",
       "      <td>2019-08</td>\n",
       "      <td>84209100</td>\n",
       "      <td>11</td>\n",
       "      <td>776</td>\n",
       "      <td>SP</td>\n",
       "      <td>1</td>\n",
       "      <td>817800</td>\n",
       "      <td>2</td>\n",
       "      <td>1</td>\n",
       "      <td>76</td>\n",
       "      <td>4.019382</td>\n",
       "      <td>3.778713</td>\n",
       "    </tr>\n",
       "    <tr>\n",
       "      <th>1764419</th>\n",
       "      <td>2019-08</td>\n",
       "      <td>84133010</td>\n",
       "      <td>11</td>\n",
       "      <td>247</td>\n",
       "      <td>PR</td>\n",
       "      <td>1</td>\n",
       "      <td>917800</td>\n",
       "      <td>3456</td>\n",
       "      <td>3356</td>\n",
       "      <td>89925</td>\n",
       "      <td>4.019382</td>\n",
       "      <td>3.778713</td>\n",
       "    </tr>\n",
       "    <tr>\n",
       "      <th>1764423</th>\n",
       "      <td>2019-08</td>\n",
       "      <td>84339090</td>\n",
       "      <td>10</td>\n",
       "      <td>63</td>\n",
       "      <td>RS</td>\n",
       "      <td>7</td>\n",
       "      <td>1017500</td>\n",
       "      <td>25285</td>\n",
       "      <td>25285</td>\n",
       "      <td>54569</td>\n",
       "      <td>4.019382</td>\n",
       "      <td>3.778713</td>\n",
       "    </tr>\n",
       "    <tr>\n",
       "      <th>1764427</th>\n",
       "      <td>2019-08</td>\n",
       "      <td>84243010</td>\n",
       "      <td>11</td>\n",
       "      <td>249</td>\n",
       "      <td>SP</td>\n",
       "      <td>4</td>\n",
       "      <td>817600</td>\n",
       "      <td>22</td>\n",
       "      <td>56</td>\n",
       "      <td>24875</td>\n",
       "      <td>4.019382</td>\n",
       "      <td>3.778713</td>\n",
       "    </tr>\n",
       "    <tr>\n",
       "      <th>1764431</th>\n",
       "      <td>2019-08</td>\n",
       "      <td>84123900</td>\n",
       "      <td>11</td>\n",
       "      <td>764</td>\n",
       "      <td>PA</td>\n",
       "      <td>4</td>\n",
       "      <td>817600</td>\n",
       "      <td>1</td>\n",
       "      <td>83</td>\n",
       "      <td>7641</td>\n",
       "      <td>4.019382</td>\n",
       "      <td>3.778713</td>\n",
       "    </tr>\n",
       "  </tbody>\n",
       "</table>\n",
       "<p>366185 rows × 12 columns</p>\n",
       "</div>"
      ],
      "text/plain": [
       "         ANO-MES    CO_NCM  CO_UNID  CO_PAIS SG_UF_NCM  CO_VIA   CO_URF  \\\n",
       "9        2019-12  84719012       11      858        SP       4   817600   \n",
       "10       2019-12  84798210       11      249        SP       4   817600   \n",
       "12       2019-12  84439923       10      858        SP       4   817600   \n",
       "33       2019-01  84833090       11      249        SP       4   817700   \n",
       "41       2019-01  84349000       10      386        RS       4  1017801   \n",
       "...          ...       ...      ...      ...       ...     ...      ...   \n",
       "1764414  2019-08  84209100       11      776        SP       1   817800   \n",
       "1764419  2019-08  84133010       11      247        PR       1   917800   \n",
       "1764423  2019-08  84339090       10       63        RS       7  1017500   \n",
       "1764427  2019-08  84243010       11      249        SP       4   817600   \n",
       "1764431  2019-08  84123900       11      764        PA       4   817600   \n",
       "\n",
       "         QT_ESTAT  KG_LIQUIDO  VL_FOB  câmbio_mês_atual  câmbio_mês_anterior  \n",
       "9               1           0     670          4.108924             4.154725  \n",
       "10             15         240   29403          4.108924             4.154725  \n",
       "12            413         413   92535          4.108924             4.154725  \n",
       "33           1410         416  164046          3.741055             3.884405  \n",
       "41            271         271   50073          3.741055             3.884405  \n",
       "...           ...         ...     ...               ...                  ...  \n",
       "1764414         2           1      76          4.019382             3.778713  \n",
       "1764419      3456        3356   89925          4.019382             3.778713  \n",
       "1764423     25285       25285   54569          4.019382             3.778713  \n",
       "1764427        22          56   24875          4.019382             3.778713  \n",
       "1764431         1          83    7641          4.019382             3.778713  \n",
       "\n",
       "[366185 rows x 12 columns]"
      ]
     },
     "execution_count": 20,
     "metadata": {},
     "output_type": "execute_result"
    }
   ],
   "source": [
    "df1"
   ]
  },
  {
   "cell_type": "code",
   "execution_count": 21,
   "metadata": {},
   "outputs": [
    {
     "data": {
      "text/html": [
       "<div>\n",
       "<style scoped>\n",
       "    .dataframe tbody tr th:only-of-type {\n",
       "        vertical-align: middle;\n",
       "    }\n",
       "\n",
       "    .dataframe tbody tr th {\n",
       "        vertical-align: top;\n",
       "    }\n",
       "\n",
       "    .dataframe thead th {\n",
       "        text-align: right;\n",
       "    }\n",
       "</style>\n",
       "<table border=\"1\" class=\"dataframe\">\n",
       "  <thead>\n",
       "    <tr style=\"text-align: right;\">\n",
       "      <th></th>\n",
       "      <th>CO_NCM</th>\n",
       "      <th>contagem</th>\n",
       "    </tr>\n",
       "  </thead>\n",
       "  <tbody>\n",
       "    <tr>\n",
       "      <th>1014</th>\n",
       "      <td>84818099</td>\n",
       "      <td>4736</td>\n",
       "    </tr>\n",
       "    <tr>\n",
       "      <th>260</th>\n",
       "      <td>84219999</td>\n",
       "      <td>4629</td>\n",
       "    </tr>\n",
       "    <tr>\n",
       "      <th>1046</th>\n",
       "      <td>84834090</td>\n",
       "      <td>4588</td>\n",
       "    </tr>\n",
       "    <tr>\n",
       "      <th>119</th>\n",
       "      <td>84139190</td>\n",
       "      <td>4290</td>\n",
       "    </tr>\n",
       "    <tr>\n",
       "      <th>1052</th>\n",
       "      <td>84839000</td>\n",
       "      <td>4281</td>\n",
       "    </tr>\n",
       "    <tr>\n",
       "      <th>...</th>\n",
       "      <td>...</td>\n",
       "      <td>...</td>\n",
       "    </tr>\n",
       "    <tr>\n",
       "      <th>374</th>\n",
       "      <td>84306911</td>\n",
       "      <td>1</td>\n",
       "    </tr>\n",
       "    <tr>\n",
       "      <th>931</th>\n",
       "      <td>84751000</td>\n",
       "      <td>1</td>\n",
       "    </tr>\n",
       "    <tr>\n",
       "      <th>361</th>\n",
       "      <td>84303110</td>\n",
       "      <td>1</td>\n",
       "    </tr>\n",
       "    <tr>\n",
       "      <th>948</th>\n",
       "      <td>84773010</td>\n",
       "      <td>1</td>\n",
       "    </tr>\n",
       "    <tr>\n",
       "      <th>0</th>\n",
       "      <td>84011000</td>\n",
       "      <td>1</td>\n",
       "    </tr>\n",
       "  </tbody>\n",
       "</table>\n",
       "<p>1063 rows × 2 columns</p>\n",
       "</div>"
      ],
      "text/plain": [
       "        CO_NCM  contagem\n",
       "1014  84818099      4736\n",
       "260   84219999      4629\n",
       "1046  84834090      4588\n",
       "119   84139190      4290\n",
       "1052  84839000      4281\n",
       "...        ...       ...\n",
       "374   84306911         1\n",
       "931   84751000         1\n",
       "361   84303110         1\n",
       "948   84773010         1\n",
       "0     84011000         1\n",
       "\n",
       "[1063 rows x 2 columns]"
      ]
     },
     "execution_count": 21,
     "metadata": {},
     "output_type": "execute_result"
    }
   ],
   "source": [
    "# checando quais os códigos NCM mais recorrentes\n",
    "g1=df1.groupby(['CO_NCM']).size().reset_index().rename(columns={0:'contagem'})\n",
    "g1.sort_values(by=[\"contagem\"],ascending=False)"
   ]
  },
  {
   "cell_type": "code",
   "execution_count": 22,
   "metadata": {},
   "outputs": [],
   "source": [
    "g1[\"% CO_NCM\"] = g1[\"contagem\"]/(g1[\"contagem\"].sum())"
   ]
  },
  {
   "cell_type": "code",
   "execution_count": 23,
   "metadata": {},
   "outputs": [],
   "source": [
    "g2=g1.sort_values(by=[\"contagem\"],ascending=False)"
   ]
  },
  {
   "cell_type": "code",
   "execution_count": 24,
   "metadata": {},
   "outputs": [],
   "source": [
    "g2[\"% CO_NCM ACUMUL\"]=g2[\"% CO_NCM\"].cumsum()"
   ]
  },
  {
   "cell_type": "code",
   "execution_count": 25,
   "metadata": {},
   "outputs": [
    {
     "name": "stdout",
     "output_type": "stream",
     "text": [
      "<class 'pandas.core.frame.DataFrame'>\n",
      "Int64Index: 1063 entries, 1014 to 0\n",
      "Data columns (total 4 columns):\n",
      " #   Column           Non-Null Count  Dtype  \n",
      "---  ------           --------------  -----  \n",
      " 0   CO_NCM           1063 non-null   int64  \n",
      " 1   contagem         1063 non-null   int64  \n",
      " 2   % CO_NCM         1063 non-null   float64\n",
      " 3   % CO_NCM ACUMUL  1063 non-null   float64\n",
      "dtypes: float64(2), int64(2)\n",
      "memory usage: 41.5 KB\n"
     ]
    }
   ],
   "source": [
    "g2.info()"
   ]
  },
  {
   "cell_type": "code",
   "execution_count": 26,
   "metadata": {},
   "outputs": [
    {
     "data": {
      "text/html": [
       "<div>\n",
       "<style scoped>\n",
       "    .dataframe tbody tr th:only-of-type {\n",
       "        vertical-align: middle;\n",
       "    }\n",
       "\n",
       "    .dataframe tbody tr th {\n",
       "        vertical-align: top;\n",
       "    }\n",
       "\n",
       "    .dataframe thead th {\n",
       "        text-align: right;\n",
       "    }\n",
       "</style>\n",
       "<table border=\"1\" class=\"dataframe\">\n",
       "  <thead>\n",
       "    <tr style=\"text-align: right;\">\n",
       "      <th></th>\n",
       "      <th>CO_NCM</th>\n",
       "      <th>contagem</th>\n",
       "      <th>% CO_NCM</th>\n",
       "      <th>% CO_NCM ACUMUL</th>\n",
       "    </tr>\n",
       "  </thead>\n",
       "  <tbody>\n",
       "    <tr>\n",
       "      <th>1014</th>\n",
       "      <td>84818099</td>\n",
       "      <td>4736</td>\n",
       "      <td>0.012933</td>\n",
       "      <td>0.012933</td>\n",
       "    </tr>\n",
       "    <tr>\n",
       "      <th>260</th>\n",
       "      <td>84219999</td>\n",
       "      <td>4629</td>\n",
       "      <td>0.012641</td>\n",
       "      <td>0.025575</td>\n",
       "    </tr>\n",
       "    <tr>\n",
       "      <th>1046</th>\n",
       "      <td>84834090</td>\n",
       "      <td>4588</td>\n",
       "      <td>0.012529</td>\n",
       "      <td>0.038104</td>\n",
       "    </tr>\n",
       "    <tr>\n",
       "      <th>119</th>\n",
       "      <td>84139190</td>\n",
       "      <td>4290</td>\n",
       "      <td>0.011715</td>\n",
       "      <td>0.049819</td>\n",
       "    </tr>\n",
       "    <tr>\n",
       "      <th>1052</th>\n",
       "      <td>84839000</td>\n",
       "      <td>4281</td>\n",
       "      <td>0.011691</td>\n",
       "      <td>0.061510</td>\n",
       "    </tr>\n",
       "    <tr>\n",
       "      <th>...</th>\n",
       "      <td>...</td>\n",
       "      <td>...</td>\n",
       "      <td>...</td>\n",
       "      <td>...</td>\n",
       "    </tr>\n",
       "    <tr>\n",
       "      <th>161</th>\n",
       "      <td>84158110</td>\n",
       "      <td>101</td>\n",
       "      <td>0.000276</td>\n",
       "      <td>0.948906</td>\n",
       "    </tr>\n",
       "    <tr>\n",
       "      <th>798</th>\n",
       "      <td>84659400</td>\n",
       "      <td>100</td>\n",
       "      <td>0.000273</td>\n",
       "      <td>0.949179</td>\n",
       "    </tr>\n",
       "    <tr>\n",
       "      <th>29</th>\n",
       "      <td>84072190</td>\n",
       "      <td>100</td>\n",
       "      <td>0.000273</td>\n",
       "      <td>0.949452</td>\n",
       "    </tr>\n",
       "    <tr>\n",
       "      <th>727</th>\n",
       "      <td>84596900</td>\n",
       "      <td>100</td>\n",
       "      <td>0.000273</td>\n",
       "      <td>0.949725</td>\n",
       "    </tr>\n",
       "    <tr>\n",
       "      <th>679</th>\n",
       "      <td>84542010</td>\n",
       "      <td>100</td>\n",
       "      <td>0.000273</td>\n",
       "      <td>0.949998</td>\n",
       "    </tr>\n",
       "  </tbody>\n",
       "</table>\n",
       "<p>465 rows × 4 columns</p>\n",
       "</div>"
      ],
      "text/plain": [
       "        CO_NCM  contagem  % CO_NCM  % CO_NCM ACUMUL\n",
       "1014  84818099      4736  0.012933         0.012933\n",
       "260   84219999      4629  0.012641         0.025575\n",
       "1046  84834090      4588  0.012529         0.038104\n",
       "119   84139190      4290  0.011715         0.049819\n",
       "1052  84839000      4281  0.011691         0.061510\n",
       "...        ...       ...       ...              ...\n",
       "161   84158110       101  0.000276         0.948906\n",
       "798   84659400       100  0.000273         0.949179\n",
       "29    84072190       100  0.000273         0.949452\n",
       "727   84596900       100  0.000273         0.949725\n",
       "679   84542010       100  0.000273         0.949998\n",
       "\n",
       "[465 rows x 4 columns]"
      ]
     },
     "execution_count": 26,
     "metadata": {},
     "output_type": "execute_result"
    }
   ],
   "source": [
    "# tentando identificar um percentual que viabilize a implementação do modelo (considerando a necessidade de \"dummizar\" a variável CO_NCM, a ideia é reduzir o número de categorias)\n",
    "g3=g2[g2[\"% CO_NCM ACUMUL\"]<=0.95]\n",
    "g3\n",
    "# repare que 95% das ocorrências se restingem a 465 códigos NCM dentre os 1063."
   ]
  },
  {
   "cell_type": "code",
   "execution_count": 27,
   "metadata": {},
   "outputs": [
    {
     "data": {
      "text/html": [
       "<div>\n",
       "<style scoped>\n",
       "    .dataframe tbody tr th:only-of-type {\n",
       "        vertical-align: middle;\n",
       "    }\n",
       "\n",
       "    .dataframe tbody tr th {\n",
       "        vertical-align: top;\n",
       "    }\n",
       "\n",
       "    .dataframe thead th {\n",
       "        text-align: right;\n",
       "    }\n",
       "</style>\n",
       "<table border=\"1\" class=\"dataframe\">\n",
       "  <thead>\n",
       "    <tr style=\"text-align: right;\">\n",
       "      <th></th>\n",
       "      <th>CO_NCM</th>\n",
       "      <th>contagem</th>\n",
       "      <th>% CO_NCM</th>\n",
       "      <th>% CO_NCM ACUMUL</th>\n",
       "    </tr>\n",
       "  </thead>\n",
       "  <tbody>\n",
       "    <tr>\n",
       "      <th>435</th>\n",
       "      <td>84378010</td>\n",
       "      <td>100</td>\n",
       "      <td>0.000273</td>\n",
       "      <td>0.950271</td>\n",
       "    </tr>\n",
       "    <tr>\n",
       "      <th>796</th>\n",
       "      <td>84659310</td>\n",
       "      <td>99</td>\n",
       "      <td>0.000270</td>\n",
       "      <td>0.950541</td>\n",
       "    </tr>\n",
       "    <tr>\n",
       "      <th>691</th>\n",
       "      <td>84553090</td>\n",
       "      <td>98</td>\n",
       "      <td>0.000268</td>\n",
       "      <td>0.950809</td>\n",
       "    </tr>\n",
       "    <tr>\n",
       "      <th>939</th>\n",
       "      <td>84769000</td>\n",
       "      <td>98</td>\n",
       "      <td>0.000268</td>\n",
       "      <td>0.951077</td>\n",
       "    </tr>\n",
       "    <tr>\n",
       "      <th>924</th>\n",
       "      <td>84742090</td>\n",
       "      <td>98</td>\n",
       "      <td>0.000268</td>\n",
       "      <td>0.951344</td>\n",
       "    </tr>\n",
       "    <tr>\n",
       "      <th>...</th>\n",
       "      <td>...</td>\n",
       "      <td>...</td>\n",
       "      <td>...</td>\n",
       "      <td>...</td>\n",
       "    </tr>\n",
       "    <tr>\n",
       "      <th>374</th>\n",
       "      <td>84306911</td>\n",
       "      <td>1</td>\n",
       "      <td>0.000003</td>\n",
       "      <td>0.999989</td>\n",
       "    </tr>\n",
       "    <tr>\n",
       "      <th>931</th>\n",
       "      <td>84751000</td>\n",
       "      <td>1</td>\n",
       "      <td>0.000003</td>\n",
       "      <td>0.999992</td>\n",
       "    </tr>\n",
       "    <tr>\n",
       "      <th>361</th>\n",
       "      <td>84303110</td>\n",
       "      <td>1</td>\n",
       "      <td>0.000003</td>\n",
       "      <td>0.999995</td>\n",
       "    </tr>\n",
       "    <tr>\n",
       "      <th>948</th>\n",
       "      <td>84773010</td>\n",
       "      <td>1</td>\n",
       "      <td>0.000003</td>\n",
       "      <td>0.999997</td>\n",
       "    </tr>\n",
       "    <tr>\n",
       "      <th>0</th>\n",
       "      <td>84011000</td>\n",
       "      <td>1</td>\n",
       "      <td>0.000003</td>\n",
       "      <td>1.000000</td>\n",
       "    </tr>\n",
       "  </tbody>\n",
       "</table>\n",
       "<p>598 rows × 4 columns</p>\n",
       "</div>"
      ],
      "text/plain": [
       "       CO_NCM  contagem  % CO_NCM  % CO_NCM ACUMUL\n",
       "435  84378010       100  0.000273         0.950271\n",
       "796  84659310        99  0.000270         0.950541\n",
       "691  84553090        98  0.000268         0.950809\n",
       "939  84769000        98  0.000268         0.951077\n",
       "924  84742090        98  0.000268         0.951344\n",
       "..        ...       ...       ...              ...\n",
       "374  84306911         1  0.000003         0.999989\n",
       "931  84751000         1  0.000003         0.999992\n",
       "361  84303110         1  0.000003         0.999995\n",
       "948  84773010         1  0.000003         0.999997\n",
       "0    84011000         1  0.000003         1.000000\n",
       "\n",
       "[598 rows x 4 columns]"
      ]
     },
     "execution_count": 27,
     "metadata": {},
     "output_type": "execute_result"
    }
   ],
   "source": [
    "# os 5% que extrapolam o acumulado 95% serão agrupados em uma única categoria, portanto, segue a identificação desses valores:\n",
    "g4=g2[g2[\"% CO_NCM ACUMUL\"]>0.95]\n",
    "g4"
   ]
  },
  {
   "cell_type": "code",
   "execution_count": 28,
   "metadata": {},
   "outputs": [],
   "source": [
    "# obtendo os 5% códigos NCM menos recorrentes, para agrupar como \"outros\" no df1 original\n",
    "idx=g4[\"CO_NCM\"]"
   ]
  },
  {
   "cell_type": "code",
   "execution_count": 29,
   "metadata": {},
   "outputs": [
    {
     "data": {
      "text/plain": [
       "9          False\n",
       "10         False\n",
       "12         False\n",
       "33         False\n",
       "41         False\n",
       "           ...  \n",
       "1764414    False\n",
       "1764419    False\n",
       "1764423    False\n",
       "1764427    False\n",
       "1764431    False\n",
       "Name: CO_NCM, Length: 366185, dtype: bool"
      ]
     },
     "execution_count": 29,
     "metadata": {},
     "output_type": "execute_result"
    }
   ],
   "source": [
    "mask=df1['CO_NCM'].isin(idx)\n",
    "mask"
   ]
  },
  {
   "cell_type": "code",
   "execution_count": 30,
   "metadata": {},
   "outputs": [
    {
     "name": "stderr",
     "output_type": "stream",
     "text": [
      "<ipython-input-30-e6965bd59fa8>:1: SettingWithCopyWarning: \n",
      "A value is trying to be set on a copy of a slice from a DataFrame.\n",
      "Try using .loc[row_indexer,col_indexer] = value instead\n",
      "\n",
      "See the caveats in the documentation: https://pandas.pydata.org/pandas-docs/stable/user_guide/indexing.html#returning-a-view-versus-a-copy\n",
      "  df1[\"CO_NCM_final\"]=df1[\"CO_NCM\"]\n"
     ]
    }
   ],
   "source": [
    "df1[\"CO_NCM_final\"]=df1[\"CO_NCM\"]"
   ]
  },
  {
   "cell_type": "code",
   "execution_count": 31,
   "metadata": {},
   "outputs": [
    {
     "name": "stderr",
     "output_type": "stream",
     "text": [
      "D:\\ANACONDA\\lib\\site-packages\\pandas\\core\\indexing.py:1765: SettingWithCopyWarning: \n",
      "A value is trying to be set on a copy of a slice from a DataFrame.\n",
      "Try using .loc[row_indexer,col_indexer] = value instead\n",
      "\n",
      "See the caveats in the documentation: https://pandas.pydata.org/pandas-docs/stable/user_guide/indexing.html#returning-a-view-versus-a-copy\n",
      "  isetter(loc, value)\n"
     ]
    }
   ],
   "source": [
    "# substituir os 5% NCM menos recorrentes pelo código 99999999 (alterou-se a coluna auxiliar CO_NCM_final para preservar a original CO_NCM)\n",
    "df1.loc[mask, \"CO_NCM_final\"] = 99999999"
   ]
  },
  {
   "cell_type": "code",
   "execution_count": 32,
   "metadata": {},
   "outputs": [
    {
     "data": {
      "text/html": [
       "<div>\n",
       "<style scoped>\n",
       "    .dataframe tbody tr th:only-of-type {\n",
       "        vertical-align: middle;\n",
       "    }\n",
       "\n",
       "    .dataframe tbody tr th {\n",
       "        vertical-align: top;\n",
       "    }\n",
       "\n",
       "    .dataframe thead th {\n",
       "        text-align: right;\n",
       "    }\n",
       "</style>\n",
       "<table border=\"1\" class=\"dataframe\">\n",
       "  <thead>\n",
       "    <tr style=\"text-align: right;\">\n",
       "      <th></th>\n",
       "      <th>ANO-MES</th>\n",
       "      <th>CO_NCM</th>\n",
       "      <th>CO_UNID</th>\n",
       "      <th>CO_PAIS</th>\n",
       "      <th>SG_UF_NCM</th>\n",
       "      <th>CO_VIA</th>\n",
       "      <th>CO_URF</th>\n",
       "      <th>QT_ESTAT</th>\n",
       "      <th>KG_LIQUIDO</th>\n",
       "      <th>VL_FOB</th>\n",
       "      <th>câmbio_mês_atual</th>\n",
       "      <th>câmbio_mês_anterior</th>\n",
       "      <th>CO_NCM_final</th>\n",
       "    </tr>\n",
       "  </thead>\n",
       "  <tbody>\n",
       "    <tr>\n",
       "      <th>9</th>\n",
       "      <td>2019-12</td>\n",
       "      <td>84719012</td>\n",
       "      <td>11</td>\n",
       "      <td>858</td>\n",
       "      <td>SP</td>\n",
       "      <td>4</td>\n",
       "      <td>817600</td>\n",
       "      <td>1</td>\n",
       "      <td>0</td>\n",
       "      <td>670</td>\n",
       "      <td>4.108924</td>\n",
       "      <td>4.154725</td>\n",
       "      <td>84719012</td>\n",
       "    </tr>\n",
       "    <tr>\n",
       "      <th>10</th>\n",
       "      <td>2019-12</td>\n",
       "      <td>84798210</td>\n",
       "      <td>11</td>\n",
       "      <td>249</td>\n",
       "      <td>SP</td>\n",
       "      <td>4</td>\n",
       "      <td>817600</td>\n",
       "      <td>15</td>\n",
       "      <td>240</td>\n",
       "      <td>29403</td>\n",
       "      <td>4.108924</td>\n",
       "      <td>4.154725</td>\n",
       "      <td>84798210</td>\n",
       "    </tr>\n",
       "    <tr>\n",
       "      <th>12</th>\n",
       "      <td>2019-12</td>\n",
       "      <td>84439923</td>\n",
       "      <td>10</td>\n",
       "      <td>858</td>\n",
       "      <td>SP</td>\n",
       "      <td>4</td>\n",
       "      <td>817600</td>\n",
       "      <td>413</td>\n",
       "      <td>413</td>\n",
       "      <td>92535</td>\n",
       "      <td>4.108924</td>\n",
       "      <td>4.154725</td>\n",
       "      <td>84439923</td>\n",
       "    </tr>\n",
       "    <tr>\n",
       "      <th>33</th>\n",
       "      <td>2019-01</td>\n",
       "      <td>84833090</td>\n",
       "      <td>11</td>\n",
       "      <td>249</td>\n",
       "      <td>SP</td>\n",
       "      <td>4</td>\n",
       "      <td>817700</td>\n",
       "      <td>1410</td>\n",
       "      <td>416</td>\n",
       "      <td>164046</td>\n",
       "      <td>3.741055</td>\n",
       "      <td>3.884405</td>\n",
       "      <td>84833090</td>\n",
       "    </tr>\n",
       "    <tr>\n",
       "      <th>41</th>\n",
       "      <td>2019-01</td>\n",
       "      <td>84349000</td>\n",
       "      <td>10</td>\n",
       "      <td>386</td>\n",
       "      <td>RS</td>\n",
       "      <td>4</td>\n",
       "      <td>1017801</td>\n",
       "      <td>271</td>\n",
       "      <td>271</td>\n",
       "      <td>50073</td>\n",
       "      <td>3.741055</td>\n",
       "      <td>3.884405</td>\n",
       "      <td>84349000</td>\n",
       "    </tr>\n",
       "    <tr>\n",
       "      <th>...</th>\n",
       "      <td>...</td>\n",
       "      <td>...</td>\n",
       "      <td>...</td>\n",
       "      <td>...</td>\n",
       "      <td>...</td>\n",
       "      <td>...</td>\n",
       "      <td>...</td>\n",
       "      <td>...</td>\n",
       "      <td>...</td>\n",
       "      <td>...</td>\n",
       "      <td>...</td>\n",
       "      <td>...</td>\n",
       "      <td>...</td>\n",
       "    </tr>\n",
       "    <tr>\n",
       "      <th>1764414</th>\n",
       "      <td>2019-08</td>\n",
       "      <td>84209100</td>\n",
       "      <td>11</td>\n",
       "      <td>776</td>\n",
       "      <td>SP</td>\n",
       "      <td>1</td>\n",
       "      <td>817800</td>\n",
       "      <td>2</td>\n",
       "      <td>1</td>\n",
       "      <td>76</td>\n",
       "      <td>4.019382</td>\n",
       "      <td>3.778713</td>\n",
       "      <td>84209100</td>\n",
       "    </tr>\n",
       "    <tr>\n",
       "      <th>1764419</th>\n",
       "      <td>2019-08</td>\n",
       "      <td>84133010</td>\n",
       "      <td>11</td>\n",
       "      <td>247</td>\n",
       "      <td>PR</td>\n",
       "      <td>1</td>\n",
       "      <td>917800</td>\n",
       "      <td>3456</td>\n",
       "      <td>3356</td>\n",
       "      <td>89925</td>\n",
       "      <td>4.019382</td>\n",
       "      <td>3.778713</td>\n",
       "      <td>84133010</td>\n",
       "    </tr>\n",
       "    <tr>\n",
       "      <th>1764423</th>\n",
       "      <td>2019-08</td>\n",
       "      <td>84339090</td>\n",
       "      <td>10</td>\n",
       "      <td>63</td>\n",
       "      <td>RS</td>\n",
       "      <td>7</td>\n",
       "      <td>1017500</td>\n",
       "      <td>25285</td>\n",
       "      <td>25285</td>\n",
       "      <td>54569</td>\n",
       "      <td>4.019382</td>\n",
       "      <td>3.778713</td>\n",
       "      <td>84339090</td>\n",
       "    </tr>\n",
       "    <tr>\n",
       "      <th>1764427</th>\n",
       "      <td>2019-08</td>\n",
       "      <td>84243010</td>\n",
       "      <td>11</td>\n",
       "      <td>249</td>\n",
       "      <td>SP</td>\n",
       "      <td>4</td>\n",
       "      <td>817600</td>\n",
       "      <td>22</td>\n",
       "      <td>56</td>\n",
       "      <td>24875</td>\n",
       "      <td>4.019382</td>\n",
       "      <td>3.778713</td>\n",
       "      <td>84243010</td>\n",
       "    </tr>\n",
       "    <tr>\n",
       "      <th>1764431</th>\n",
       "      <td>2019-08</td>\n",
       "      <td>84123900</td>\n",
       "      <td>11</td>\n",
       "      <td>764</td>\n",
       "      <td>PA</td>\n",
       "      <td>4</td>\n",
       "      <td>817600</td>\n",
       "      <td>1</td>\n",
       "      <td>83</td>\n",
       "      <td>7641</td>\n",
       "      <td>4.019382</td>\n",
       "      <td>3.778713</td>\n",
       "      <td>84123900</td>\n",
       "    </tr>\n",
       "  </tbody>\n",
       "</table>\n",
       "<p>366185 rows × 13 columns</p>\n",
       "</div>"
      ],
      "text/plain": [
       "         ANO-MES    CO_NCM  CO_UNID  CO_PAIS SG_UF_NCM  CO_VIA   CO_URF  \\\n",
       "9        2019-12  84719012       11      858        SP       4   817600   \n",
       "10       2019-12  84798210       11      249        SP       4   817600   \n",
       "12       2019-12  84439923       10      858        SP       4   817600   \n",
       "33       2019-01  84833090       11      249        SP       4   817700   \n",
       "41       2019-01  84349000       10      386        RS       4  1017801   \n",
       "...          ...       ...      ...      ...       ...     ...      ...   \n",
       "1764414  2019-08  84209100       11      776        SP       1   817800   \n",
       "1764419  2019-08  84133010       11      247        PR       1   917800   \n",
       "1764423  2019-08  84339090       10       63        RS       7  1017500   \n",
       "1764427  2019-08  84243010       11      249        SP       4   817600   \n",
       "1764431  2019-08  84123900       11      764        PA       4   817600   \n",
       "\n",
       "         QT_ESTAT  KG_LIQUIDO  VL_FOB  câmbio_mês_atual  câmbio_mês_anterior  \\\n",
       "9               1           0     670          4.108924             4.154725   \n",
       "10             15         240   29403          4.108924             4.154725   \n",
       "12            413         413   92535          4.108924             4.154725   \n",
       "33           1410         416  164046          3.741055             3.884405   \n",
       "41            271         271   50073          3.741055             3.884405   \n",
       "...           ...         ...     ...               ...                  ...   \n",
       "1764414         2           1      76          4.019382             3.778713   \n",
       "1764419      3456        3356   89925          4.019382             3.778713   \n",
       "1764423     25285       25285   54569          4.019382             3.778713   \n",
       "1764427        22          56   24875          4.019382             3.778713   \n",
       "1764431         1          83    7641          4.019382             3.778713   \n",
       "\n",
       "         CO_NCM_final  \n",
       "9            84719012  \n",
       "10           84798210  \n",
       "12           84439923  \n",
       "33           84833090  \n",
       "41           84349000  \n",
       "...               ...  \n",
       "1764414      84209100  \n",
       "1764419      84133010  \n",
       "1764423      84339090  \n",
       "1764427      84243010  \n",
       "1764431      84123900  \n",
       "\n",
       "[366185 rows x 13 columns]"
      ]
     },
     "execution_count": 32,
     "metadata": {},
     "output_type": "execute_result"
    }
   ],
   "source": [
    "df1"
   ]
  },
  {
   "cell_type": "code",
   "execution_count": 33,
   "metadata": {
    "scrolled": true
   },
   "outputs": [
    {
     "data": {
      "text/plain": [
       "99999999    18310\n",
       "84818099     4736\n",
       "84219999     4629\n",
       "84834090     4588\n",
       "84139190     4290\n",
       "            ...  \n",
       "84158110      101\n",
       "84072190      100\n",
       "84542010      100\n",
       "84659400      100\n",
       "84596900      100\n",
       "Name: CO_NCM_final, Length: 466, dtype: int64"
      ]
     },
     "execution_count": 33,
     "metadata": {},
     "output_type": "execute_result"
    }
   ],
   "source": [
    "df1[\"CO_NCM_final\"].value_counts()"
   ]
  },
  {
   "cell_type": "markdown",
   "metadata": {},
   "source": [
    "###### Checando códigos UNID MED EST (CO_UNID) recorrentes"
   ]
  },
  {
   "cell_type": "code",
   "execution_count": 34,
   "metadata": {},
   "outputs": [
    {
     "data": {
      "text/html": [
       "<div>\n",
       "<style scoped>\n",
       "    .dataframe tbody tr th:only-of-type {\n",
       "        vertical-align: middle;\n",
       "    }\n",
       "\n",
       "    .dataframe tbody tr th {\n",
       "        vertical-align: top;\n",
       "    }\n",
       "\n",
       "    .dataframe thead th {\n",
       "        text-align: right;\n",
       "    }\n",
       "</style>\n",
       "<table border=\"1\" class=\"dataframe\">\n",
       "  <thead>\n",
       "    <tr style=\"text-align: right;\">\n",
       "      <th></th>\n",
       "      <th>CO_UNID</th>\n",
       "      <th>contagem</th>\n",
       "    </tr>\n",
       "  </thead>\n",
       "  <tbody>\n",
       "    <tr>\n",
       "      <th>1</th>\n",
       "      <td>11</td>\n",
       "      <td>243030</td>\n",
       "    </tr>\n",
       "    <tr>\n",
       "      <th>0</th>\n",
       "      <td>10</td>\n",
       "      <td>123155</td>\n",
       "    </tr>\n",
       "  </tbody>\n",
       "</table>\n",
       "</div>"
      ],
      "text/plain": [
       "   CO_UNID  contagem\n",
       "1       11    243030\n",
       "0       10    123155"
      ]
     },
     "execution_count": 34,
     "metadata": {},
     "output_type": "execute_result"
    }
   ],
   "source": [
    "g1=df1.groupby(['CO_UNID']).size().reset_index().rename(columns={0:'contagem'})\n",
    "g1.sort_values(by=[\"contagem\"],ascending=False)"
   ]
  },
  {
   "cell_type": "code",
   "execution_count": 35,
   "metadata": {},
   "outputs": [
    {
     "name": "stderr",
     "output_type": "stream",
     "text": [
      "<ipython-input-35-043d6a9cfec0>:1: SettingWithCopyWarning: \n",
      "A value is trying to be set on a copy of a slice from a DataFrame.\n",
      "Try using .loc[row_indexer,col_indexer] = value instead\n",
      "\n",
      "See the caveats in the documentation: https://pandas.pydata.org/pandas-docs/stable/user_guide/indexing.html#returning-a-view-versus-a-copy\n",
      "  df1[\"CO_UNID_final\"]=df1[\"CO_UNID\"]\n"
     ]
    }
   ],
   "source": [
    "df1[\"CO_UNID_final\"]=df1[\"CO_UNID\"]"
   ]
  },
  {
   "cell_type": "code",
   "execution_count": 36,
   "metadata": {},
   "outputs": [],
   "source": [
    "# no caso corrente não há CO_UNID minoritários para serem agrupados em categorial residual. Portanto, não se executará o código a seguir.\n",
    "#mask=df1['CO_UNID']!=11\n",
    "#mask"
   ]
  },
  {
   "cell_type": "code",
   "execution_count": 37,
   "metadata": {},
   "outputs": [],
   "source": [
    "#df1.loc[mask, \"CO_UNID_final\"] = 99"
   ]
  },
  {
   "cell_type": "code",
   "execution_count": 38,
   "metadata": {},
   "outputs": [
    {
     "data": {
      "text/plain": [
       "11    243030\n",
       "10    123155\n",
       "Name: CO_UNID_final, dtype: int64"
      ]
     },
     "execution_count": 38,
     "metadata": {},
     "output_type": "execute_result"
    }
   ],
   "source": [
    "df1[\"CO_UNID_final\"].value_counts()"
   ]
  },
  {
   "cell_type": "markdown",
   "metadata": {},
   "source": [
    "###### Checando países (CO_PAIS) recorrentes"
   ]
  },
  {
   "cell_type": "code",
   "execution_count": 39,
   "metadata": {},
   "outputs": [
    {
     "data": {
      "text/html": [
       "<div>\n",
       "<style scoped>\n",
       "    .dataframe tbody tr th:only-of-type {\n",
       "        vertical-align: middle;\n",
       "    }\n",
       "\n",
       "    .dataframe tbody tr th {\n",
       "        vertical-align: top;\n",
       "    }\n",
       "\n",
       "    .dataframe thead th {\n",
       "        text-align: right;\n",
       "    }\n",
       "</style>\n",
       "<table border=\"1\" class=\"dataframe\">\n",
       "  <thead>\n",
       "    <tr style=\"text-align: right;\">\n",
       "      <th></th>\n",
       "      <th>CO_PAIS</th>\n",
       "      <th>contagem</th>\n",
       "    </tr>\n",
       "  </thead>\n",
       "  <tbody>\n",
       "    <tr>\n",
       "      <th>32</th>\n",
       "      <td>160</td>\n",
       "      <td>60006</td>\n",
       "    </tr>\n",
       "    <tr>\n",
       "      <th>51</th>\n",
       "      <td>249</td>\n",
       "      <td>46361</td>\n",
       "    </tr>\n",
       "    <tr>\n",
       "      <th>2</th>\n",
       "      <td>23</td>\n",
       "      <td>35159</td>\n",
       "    </tr>\n",
       "    <tr>\n",
       "      <th>79</th>\n",
       "      <td>386</td>\n",
       "      <td>26112</td>\n",
       "    </tr>\n",
       "    <tr>\n",
       "      <th>82</th>\n",
       "      <td>399</td>\n",
       "      <td>21024</td>\n",
       "    </tr>\n",
       "    <tr>\n",
       "      <th>...</th>\n",
       "      <td>...</td>\n",
       "      <td>...</td>\n",
       "    </tr>\n",
       "    <tr>\n",
       "      <th>35</th>\n",
       "      <td>165</td>\n",
       "      <td>1</td>\n",
       "    </tr>\n",
       "    <tr>\n",
       "      <th>137</th>\n",
       "      <td>748</td>\n",
       "      <td>1</td>\n",
       "    </tr>\n",
       "    <tr>\n",
       "      <th>27</th>\n",
       "      <td>145</td>\n",
       "      <td>1</td>\n",
       "    </tr>\n",
       "    <tr>\n",
       "      <th>143</th>\n",
       "      <td>770</td>\n",
       "      <td>1</td>\n",
       "    </tr>\n",
       "    <tr>\n",
       "      <th>167</th>\n",
       "      <td>890</td>\n",
       "      <td>1</td>\n",
       "    </tr>\n",
       "  </tbody>\n",
       "</table>\n",
       "<p>168 rows × 2 columns</p>\n",
       "</div>"
      ],
      "text/plain": [
       "     CO_PAIS  contagem\n",
       "32       160     60006\n",
       "51       249     46361\n",
       "2         23     35159\n",
       "79       386     26112\n",
       "82       399     21024\n",
       "..       ...       ...\n",
       "35       165         1\n",
       "137      748         1\n",
       "27       145         1\n",
       "143      770         1\n",
       "167      890         1\n",
       "\n",
       "[168 rows x 2 columns]"
      ]
     },
     "execution_count": 39,
     "metadata": {},
     "output_type": "execute_result"
    }
   ],
   "source": [
    "g1=df1.groupby(['CO_PAIS']).size().reset_index().rename(columns={0:'contagem'})\n",
    "g1.sort_values(by=[\"contagem\"],ascending=False)"
   ]
  },
  {
   "cell_type": "code",
   "execution_count": 40,
   "metadata": {},
   "outputs": [],
   "source": [
    "g1[\"% CO_PAIS\"] = g1[\"contagem\"]/(g1[\"contagem\"].sum())"
   ]
  },
  {
   "cell_type": "code",
   "execution_count": 41,
   "metadata": {},
   "outputs": [],
   "source": [
    "g2=g1.sort_values(by=[\"contagem\"],ascending=False)"
   ]
  },
  {
   "cell_type": "code",
   "execution_count": 42,
   "metadata": {},
   "outputs": [],
   "source": [
    "g2[\"% CO_PAIS ACUMUL\"]=g2[\"% CO_PAIS\"].cumsum()"
   ]
  },
  {
   "cell_type": "code",
   "execution_count": 43,
   "metadata": {},
   "outputs": [
    {
     "data": {
      "text/html": [
       "<div>\n",
       "<style scoped>\n",
       "    .dataframe tbody tr th:only-of-type {\n",
       "        vertical-align: middle;\n",
       "    }\n",
       "\n",
       "    .dataframe tbody tr th {\n",
       "        vertical-align: top;\n",
       "    }\n",
       "\n",
       "    .dataframe thead th {\n",
       "        text-align: right;\n",
       "    }\n",
       "</style>\n",
       "<table border=\"1\" class=\"dataframe\">\n",
       "  <thead>\n",
       "    <tr style=\"text-align: right;\">\n",
       "      <th></th>\n",
       "      <th>CO_PAIS</th>\n",
       "      <th>contagem</th>\n",
       "      <th>% CO_PAIS</th>\n",
       "      <th>% CO_PAIS ACUMUL</th>\n",
       "    </tr>\n",
       "  </thead>\n",
       "  <tbody>\n",
       "    <tr>\n",
       "      <th>32</th>\n",
       "      <td>160</td>\n",
       "      <td>60006</td>\n",
       "      <td>0.163868</td>\n",
       "      <td>0.163868</td>\n",
       "    </tr>\n",
       "    <tr>\n",
       "      <th>51</th>\n",
       "      <td>249</td>\n",
       "      <td>46361</td>\n",
       "      <td>0.126605</td>\n",
       "      <td>0.290473</td>\n",
       "    </tr>\n",
       "    <tr>\n",
       "      <th>2</th>\n",
       "      <td>23</td>\n",
       "      <td>35159</td>\n",
       "      <td>0.096014</td>\n",
       "      <td>0.386488</td>\n",
       "    </tr>\n",
       "    <tr>\n",
       "      <th>79</th>\n",
       "      <td>386</td>\n",
       "      <td>26112</td>\n",
       "      <td>0.071308</td>\n",
       "      <td>0.457796</td>\n",
       "    </tr>\n",
       "    <tr>\n",
       "      <th>82</th>\n",
       "      <td>399</td>\n",
       "      <td>21024</td>\n",
       "      <td>0.057414</td>\n",
       "      <td>0.515210</td>\n",
       "    </tr>\n",
       "  </tbody>\n",
       "</table>\n",
       "</div>"
      ],
      "text/plain": [
       "    CO_PAIS  contagem  % CO_PAIS  % CO_PAIS ACUMUL\n",
       "32      160     60006   0.163868          0.163868\n",
       "51      249     46361   0.126605          0.290473\n",
       "2        23     35159   0.096014          0.386488\n",
       "79      386     26112   0.071308          0.457796\n",
       "82      399     21024   0.057414          0.515210"
      ]
     },
     "execution_count": 43,
     "metadata": {},
     "output_type": "execute_result"
    }
   ],
   "source": [
    "g2.head()"
   ]
  },
  {
   "cell_type": "code",
   "execution_count": 44,
   "metadata": {},
   "outputs": [
    {
     "name": "stdout",
     "output_type": "stream",
     "text": [
      "<class 'pandas.core.frame.DataFrame'>\n",
      "Int64Index: 32 entries, 32 to 136\n",
      "Data columns (total 4 columns):\n",
      " #   Column            Non-Null Count  Dtype  \n",
      "---  ------            --------------  -----  \n",
      " 0   CO_PAIS           32 non-null     int64  \n",
      " 1   contagem          32 non-null     int64  \n",
      " 2   % CO_PAIS         32 non-null     float64\n",
      " 3   % CO_PAIS ACUMUL  32 non-null     float64\n",
      "dtypes: float64(2), int64(2)\n",
      "memory usage: 1.2 KB\n"
     ]
    }
   ],
   "source": [
    "# tentando identificar um percentual que viabilize a implementação do modelo (considerando a necessidade de \"dummizar\" a variável CO_PAIS, a ideia é reduzir o número de categorias)\n",
    "g3=g2[g2[\"% CO_PAIS ACUMUL\"]<=0.95]\n",
    "g3.info()\n",
    "# repare que 95% das ocorrências se restingem a 32 países dentre os 168."
   ]
  },
  {
   "cell_type": "code",
   "execution_count": 45,
   "metadata": {},
   "outputs": [
    {
     "data": {
      "text/html": [
       "<div>\n",
       "<style scoped>\n",
       "    .dataframe tbody tr th:only-of-type {\n",
       "        vertical-align: middle;\n",
       "    }\n",
       "\n",
       "    .dataframe tbody tr th {\n",
       "        vertical-align: top;\n",
       "    }\n",
       "\n",
       "    .dataframe thead th {\n",
       "        text-align: right;\n",
       "    }\n",
       "</style>\n",
       "<table border=\"1\" class=\"dataframe\">\n",
       "  <thead>\n",
       "    <tr style=\"text-align: right;\">\n",
       "      <th></th>\n",
       "      <th>CO_PAIS</th>\n",
       "      <th>contagem</th>\n",
       "      <th>% CO_PAIS</th>\n",
       "      <th>% CO_PAIS ACUMUL</th>\n",
       "    </tr>\n",
       "  </thead>\n",
       "  <tbody>\n",
       "    <tr>\n",
       "      <th>126</th>\n",
       "      <td>670</td>\n",
       "      <td>1993</td>\n",
       "      <td>0.005443</td>\n",
       "      <td>0.951961</td>\n",
       "    </tr>\n",
       "    <tr>\n",
       "      <th>21</th>\n",
       "      <td>105</td>\n",
       "      <td>1987</td>\n",
       "      <td>0.005426</td>\n",
       "      <td>0.957388</td>\n",
       "    </tr>\n",
       "    <tr>\n",
       "      <th>120</th>\n",
       "      <td>607</td>\n",
       "      <td>1457</td>\n",
       "      <td>0.003979</td>\n",
       "      <td>0.961367</td>\n",
       "    </tr>\n",
       "    <tr>\n",
       "      <th>55</th>\n",
       "      <td>267</td>\n",
       "      <td>1393</td>\n",
       "      <td>0.003804</td>\n",
       "      <td>0.965171</td>\n",
       "    </tr>\n",
       "    <tr>\n",
       "      <th>76</th>\n",
       "      <td>375</td>\n",
       "      <td>1324</td>\n",
       "      <td>0.003616</td>\n",
       "      <td>0.968786</td>\n",
       "    </tr>\n",
       "    <tr>\n",
       "      <th>...</th>\n",
       "      <td>...</td>\n",
       "      <td>...</td>\n",
       "      <td>...</td>\n",
       "      <td>...</td>\n",
       "    </tr>\n",
       "    <tr>\n",
       "      <th>35</th>\n",
       "      <td>165</td>\n",
       "      <td>1</td>\n",
       "      <td>0.000003</td>\n",
       "      <td>0.999989</td>\n",
       "    </tr>\n",
       "    <tr>\n",
       "      <th>137</th>\n",
       "      <td>748</td>\n",
       "      <td>1</td>\n",
       "      <td>0.000003</td>\n",
       "      <td>0.999992</td>\n",
       "    </tr>\n",
       "    <tr>\n",
       "      <th>27</th>\n",
       "      <td>145</td>\n",
       "      <td>1</td>\n",
       "      <td>0.000003</td>\n",
       "      <td>0.999995</td>\n",
       "    </tr>\n",
       "    <tr>\n",
       "      <th>143</th>\n",
       "      <td>770</td>\n",
       "      <td>1</td>\n",
       "      <td>0.000003</td>\n",
       "      <td>0.999997</td>\n",
       "    </tr>\n",
       "    <tr>\n",
       "      <th>167</th>\n",
       "      <td>890</td>\n",
       "      <td>1</td>\n",
       "      <td>0.000003</td>\n",
       "      <td>1.000000</td>\n",
       "    </tr>\n",
       "  </tbody>\n",
       "</table>\n",
       "<p>136 rows × 4 columns</p>\n",
       "</div>"
      ],
      "text/plain": [
       "     CO_PAIS  contagem  % CO_PAIS  % CO_PAIS ACUMUL\n",
       "126      670      1993   0.005443          0.951961\n",
       "21       105      1987   0.005426          0.957388\n",
       "120      607      1457   0.003979          0.961367\n",
       "55       267      1393   0.003804          0.965171\n",
       "76       375      1324   0.003616          0.968786\n",
       "..       ...       ...        ...               ...\n",
       "35       165         1   0.000003          0.999989\n",
       "137      748         1   0.000003          0.999992\n",
       "27       145         1   0.000003          0.999995\n",
       "143      770         1   0.000003          0.999997\n",
       "167      890         1   0.000003          1.000000\n",
       "\n",
       "[136 rows x 4 columns]"
      ]
     },
     "execution_count": 45,
     "metadata": {},
     "output_type": "execute_result"
    }
   ],
   "source": [
    "# os 5% que extrapolam o acumulado 95% serão agrupados em uma única categoria, portanto, segue a identificação desses valores:\n",
    "g4=g2[g2[\"% CO_PAIS ACUMUL\"]>0.95]\n",
    "g4"
   ]
  },
  {
   "cell_type": "code",
   "execution_count": 46,
   "metadata": {},
   "outputs": [],
   "source": [
    "# obtendo os 5% países menos recorrentes, para agrupar como \"outros\" no df original\n",
    "idx=g4[\"CO_PAIS\"]"
   ]
  },
  {
   "cell_type": "code",
   "execution_count": 47,
   "metadata": {},
   "outputs": [
    {
     "data": {
      "text/plain": [
       "9          False\n",
       "10         False\n",
       "12         False\n",
       "33         False\n",
       "41         False\n",
       "           ...  \n",
       "1764414    False\n",
       "1764419    False\n",
       "1764423    False\n",
       "1764427    False\n",
       "1764431    False\n",
       "Name: CO_PAIS, Length: 366185, dtype: bool"
      ]
     },
     "execution_count": 47,
     "metadata": {},
     "output_type": "execute_result"
    }
   ],
   "source": [
    "mask=df1['CO_PAIS'].isin(idx)\n",
    "mask"
   ]
  },
  {
   "cell_type": "code",
   "execution_count": 48,
   "metadata": {},
   "outputs": [
    {
     "name": "stderr",
     "output_type": "stream",
     "text": [
      "<ipython-input-48-b9c243d6eb50>:1: SettingWithCopyWarning: \n",
      "A value is trying to be set on a copy of a slice from a DataFrame.\n",
      "Try using .loc[row_indexer,col_indexer] = value instead\n",
      "\n",
      "See the caveats in the documentation: https://pandas.pydata.org/pandas-docs/stable/user_guide/indexing.html#returning-a-view-versus-a-copy\n",
      "  df1[\"CO_PAIS_final\"]=df1[\"CO_PAIS\"]\n"
     ]
    }
   ],
   "source": [
    "df1[\"CO_PAIS_final\"]=df1[\"CO_PAIS\"]"
   ]
  },
  {
   "cell_type": "code",
   "execution_count": 49,
   "metadata": {},
   "outputs": [
    {
     "name": "stderr",
     "output_type": "stream",
     "text": [
      "D:\\ANACONDA\\lib\\site-packages\\pandas\\core\\indexing.py:1765: SettingWithCopyWarning: \n",
      "A value is trying to be set on a copy of a slice from a DataFrame.\n",
      "Try using .loc[row_indexer,col_indexer] = value instead\n",
      "\n",
      "See the caveats in the documentation: https://pandas.pydata.org/pandas-docs/stable/user_guide/indexing.html#returning-a-view-versus-a-copy\n",
      "  isetter(loc, value)\n"
     ]
    }
   ],
   "source": [
    "# substituir os 5% NCM menos recorrentes pelo código 99999999 (alterou-se a coluna auxiliar CO_PAIS_final para preservar a original CO_PAIS)\n",
    "df1.loc[mask, \"CO_PAIS_final\"] = 999"
   ]
  },
  {
   "cell_type": "code",
   "execution_count": 50,
   "metadata": {},
   "outputs": [
    {
     "data": {
      "text/html": [
       "<div>\n",
       "<style scoped>\n",
       "    .dataframe tbody tr th:only-of-type {\n",
       "        vertical-align: middle;\n",
       "    }\n",
       "\n",
       "    .dataframe tbody tr th {\n",
       "        vertical-align: top;\n",
       "    }\n",
       "\n",
       "    .dataframe thead th {\n",
       "        text-align: right;\n",
       "    }\n",
       "</style>\n",
       "<table border=\"1\" class=\"dataframe\">\n",
       "  <thead>\n",
       "    <tr style=\"text-align: right;\">\n",
       "      <th></th>\n",
       "      <th>ANO-MES</th>\n",
       "      <th>CO_NCM</th>\n",
       "      <th>CO_UNID</th>\n",
       "      <th>CO_PAIS</th>\n",
       "      <th>SG_UF_NCM</th>\n",
       "      <th>CO_VIA</th>\n",
       "      <th>CO_URF</th>\n",
       "      <th>QT_ESTAT</th>\n",
       "      <th>KG_LIQUIDO</th>\n",
       "      <th>VL_FOB</th>\n",
       "      <th>câmbio_mês_atual</th>\n",
       "      <th>câmbio_mês_anterior</th>\n",
       "      <th>CO_NCM_final</th>\n",
       "      <th>CO_UNID_final</th>\n",
       "      <th>CO_PAIS_final</th>\n",
       "    </tr>\n",
       "  </thead>\n",
       "  <tbody>\n",
       "    <tr>\n",
       "      <th>9</th>\n",
       "      <td>2019-12</td>\n",
       "      <td>84719012</td>\n",
       "      <td>11</td>\n",
       "      <td>858</td>\n",
       "      <td>SP</td>\n",
       "      <td>4</td>\n",
       "      <td>817600</td>\n",
       "      <td>1</td>\n",
       "      <td>0</td>\n",
       "      <td>670</td>\n",
       "      <td>4.108924</td>\n",
       "      <td>4.154725</td>\n",
       "      <td>84719012</td>\n",
       "      <td>11</td>\n",
       "      <td>858</td>\n",
       "    </tr>\n",
       "    <tr>\n",
       "      <th>10</th>\n",
       "      <td>2019-12</td>\n",
       "      <td>84798210</td>\n",
       "      <td>11</td>\n",
       "      <td>249</td>\n",
       "      <td>SP</td>\n",
       "      <td>4</td>\n",
       "      <td>817600</td>\n",
       "      <td>15</td>\n",
       "      <td>240</td>\n",
       "      <td>29403</td>\n",
       "      <td>4.108924</td>\n",
       "      <td>4.154725</td>\n",
       "      <td>84798210</td>\n",
       "      <td>11</td>\n",
       "      <td>249</td>\n",
       "    </tr>\n",
       "    <tr>\n",
       "      <th>12</th>\n",
       "      <td>2019-12</td>\n",
       "      <td>84439923</td>\n",
       "      <td>10</td>\n",
       "      <td>858</td>\n",
       "      <td>SP</td>\n",
       "      <td>4</td>\n",
       "      <td>817600</td>\n",
       "      <td>413</td>\n",
       "      <td>413</td>\n",
       "      <td>92535</td>\n",
       "      <td>4.108924</td>\n",
       "      <td>4.154725</td>\n",
       "      <td>84439923</td>\n",
       "      <td>10</td>\n",
       "      <td>858</td>\n",
       "    </tr>\n",
       "    <tr>\n",
       "      <th>33</th>\n",
       "      <td>2019-01</td>\n",
       "      <td>84833090</td>\n",
       "      <td>11</td>\n",
       "      <td>249</td>\n",
       "      <td>SP</td>\n",
       "      <td>4</td>\n",
       "      <td>817700</td>\n",
       "      <td>1410</td>\n",
       "      <td>416</td>\n",
       "      <td>164046</td>\n",
       "      <td>3.741055</td>\n",
       "      <td>3.884405</td>\n",
       "      <td>84833090</td>\n",
       "      <td>11</td>\n",
       "      <td>249</td>\n",
       "    </tr>\n",
       "    <tr>\n",
       "      <th>41</th>\n",
       "      <td>2019-01</td>\n",
       "      <td>84349000</td>\n",
       "      <td>10</td>\n",
       "      <td>386</td>\n",
       "      <td>RS</td>\n",
       "      <td>4</td>\n",
       "      <td>1017801</td>\n",
       "      <td>271</td>\n",
       "      <td>271</td>\n",
       "      <td>50073</td>\n",
       "      <td>3.741055</td>\n",
       "      <td>3.884405</td>\n",
       "      <td>84349000</td>\n",
       "      <td>10</td>\n",
       "      <td>386</td>\n",
       "    </tr>\n",
       "    <tr>\n",
       "      <th>...</th>\n",
       "      <td>...</td>\n",
       "      <td>...</td>\n",
       "      <td>...</td>\n",
       "      <td>...</td>\n",
       "      <td>...</td>\n",
       "      <td>...</td>\n",
       "      <td>...</td>\n",
       "      <td>...</td>\n",
       "      <td>...</td>\n",
       "      <td>...</td>\n",
       "      <td>...</td>\n",
       "      <td>...</td>\n",
       "      <td>...</td>\n",
       "      <td>...</td>\n",
       "      <td>...</td>\n",
       "    </tr>\n",
       "    <tr>\n",
       "      <th>1764414</th>\n",
       "      <td>2019-08</td>\n",
       "      <td>84209100</td>\n",
       "      <td>11</td>\n",
       "      <td>776</td>\n",
       "      <td>SP</td>\n",
       "      <td>1</td>\n",
       "      <td>817800</td>\n",
       "      <td>2</td>\n",
       "      <td>1</td>\n",
       "      <td>76</td>\n",
       "      <td>4.019382</td>\n",
       "      <td>3.778713</td>\n",
       "      <td>84209100</td>\n",
       "      <td>11</td>\n",
       "      <td>776</td>\n",
       "    </tr>\n",
       "    <tr>\n",
       "      <th>1764419</th>\n",
       "      <td>2019-08</td>\n",
       "      <td>84133010</td>\n",
       "      <td>11</td>\n",
       "      <td>247</td>\n",
       "      <td>PR</td>\n",
       "      <td>1</td>\n",
       "      <td>917800</td>\n",
       "      <td>3456</td>\n",
       "      <td>3356</td>\n",
       "      <td>89925</td>\n",
       "      <td>4.019382</td>\n",
       "      <td>3.778713</td>\n",
       "      <td>84133010</td>\n",
       "      <td>11</td>\n",
       "      <td>247</td>\n",
       "    </tr>\n",
       "    <tr>\n",
       "      <th>1764423</th>\n",
       "      <td>2019-08</td>\n",
       "      <td>84339090</td>\n",
       "      <td>10</td>\n",
       "      <td>63</td>\n",
       "      <td>RS</td>\n",
       "      <td>7</td>\n",
       "      <td>1017500</td>\n",
       "      <td>25285</td>\n",
       "      <td>25285</td>\n",
       "      <td>54569</td>\n",
       "      <td>4.019382</td>\n",
       "      <td>3.778713</td>\n",
       "      <td>84339090</td>\n",
       "      <td>10</td>\n",
       "      <td>63</td>\n",
       "    </tr>\n",
       "    <tr>\n",
       "      <th>1764427</th>\n",
       "      <td>2019-08</td>\n",
       "      <td>84243010</td>\n",
       "      <td>11</td>\n",
       "      <td>249</td>\n",
       "      <td>SP</td>\n",
       "      <td>4</td>\n",
       "      <td>817600</td>\n",
       "      <td>22</td>\n",
       "      <td>56</td>\n",
       "      <td>24875</td>\n",
       "      <td>4.019382</td>\n",
       "      <td>3.778713</td>\n",
       "      <td>84243010</td>\n",
       "      <td>11</td>\n",
       "      <td>249</td>\n",
       "    </tr>\n",
       "    <tr>\n",
       "      <th>1764431</th>\n",
       "      <td>2019-08</td>\n",
       "      <td>84123900</td>\n",
       "      <td>11</td>\n",
       "      <td>764</td>\n",
       "      <td>PA</td>\n",
       "      <td>4</td>\n",
       "      <td>817600</td>\n",
       "      <td>1</td>\n",
       "      <td>83</td>\n",
       "      <td>7641</td>\n",
       "      <td>4.019382</td>\n",
       "      <td>3.778713</td>\n",
       "      <td>84123900</td>\n",
       "      <td>11</td>\n",
       "      <td>764</td>\n",
       "    </tr>\n",
       "  </tbody>\n",
       "</table>\n",
       "<p>366185 rows × 15 columns</p>\n",
       "</div>"
      ],
      "text/plain": [
       "         ANO-MES    CO_NCM  CO_UNID  CO_PAIS SG_UF_NCM  CO_VIA   CO_URF  \\\n",
       "9        2019-12  84719012       11      858        SP       4   817600   \n",
       "10       2019-12  84798210       11      249        SP       4   817600   \n",
       "12       2019-12  84439923       10      858        SP       4   817600   \n",
       "33       2019-01  84833090       11      249        SP       4   817700   \n",
       "41       2019-01  84349000       10      386        RS       4  1017801   \n",
       "...          ...       ...      ...      ...       ...     ...      ...   \n",
       "1764414  2019-08  84209100       11      776        SP       1   817800   \n",
       "1764419  2019-08  84133010       11      247        PR       1   917800   \n",
       "1764423  2019-08  84339090       10       63        RS       7  1017500   \n",
       "1764427  2019-08  84243010       11      249        SP       4   817600   \n",
       "1764431  2019-08  84123900       11      764        PA       4   817600   \n",
       "\n",
       "         QT_ESTAT  KG_LIQUIDO  VL_FOB  câmbio_mês_atual  câmbio_mês_anterior  \\\n",
       "9               1           0     670          4.108924             4.154725   \n",
       "10             15         240   29403          4.108924             4.154725   \n",
       "12            413         413   92535          4.108924             4.154725   \n",
       "33           1410         416  164046          3.741055             3.884405   \n",
       "41            271         271   50073          3.741055             3.884405   \n",
       "...           ...         ...     ...               ...                  ...   \n",
       "1764414         2           1      76          4.019382             3.778713   \n",
       "1764419      3456        3356   89925          4.019382             3.778713   \n",
       "1764423     25285       25285   54569          4.019382             3.778713   \n",
       "1764427        22          56   24875          4.019382             3.778713   \n",
       "1764431         1          83    7641          4.019382             3.778713   \n",
       "\n",
       "         CO_NCM_final  CO_UNID_final  CO_PAIS_final  \n",
       "9            84719012             11            858  \n",
       "10           84798210             11            249  \n",
       "12           84439923             10            858  \n",
       "33           84833090             11            249  \n",
       "41           84349000             10            386  \n",
       "...               ...            ...            ...  \n",
       "1764414      84209100             11            776  \n",
       "1764419      84133010             11            247  \n",
       "1764423      84339090             10             63  \n",
       "1764427      84243010             11            249  \n",
       "1764431      84123900             11            764  \n",
       "\n",
       "[366185 rows x 15 columns]"
      ]
     },
     "execution_count": 50,
     "metadata": {},
     "output_type": "execute_result"
    }
   ],
   "source": [
    "df1"
   ]
  },
  {
   "cell_type": "code",
   "execution_count": 51,
   "metadata": {
    "scrolled": true
   },
   "outputs": [
    {
     "data": {
      "text/plain": [
       "160    60006\n",
       "249    46361\n",
       "23     35159\n",
       "386    26112\n",
       "399    21024\n",
       "999    19584\n",
       "275    12618\n",
       "161    11165\n",
       "628    10249\n",
       "190    10095\n",
       "764     9705\n",
       "493     8880\n",
       "361     7952\n",
       "245     7655\n",
       "767     6805\n",
       "72      6416\n",
       "776     5905\n",
       "791     5790\n",
       "573     5702\n",
       "149     5314\n",
       "232     5038\n",
       "603     4608\n",
       "271     4523\n",
       "63      4139\n",
       "827     3622\n",
       "87      3494\n",
       "355     3400\n",
       "351     2924\n",
       "455     2681\n",
       "858     2567\n",
       "247     2396\n",
       "365     2149\n",
       "741     2147\n",
       "Name: CO_PAIS_final, dtype: int64"
      ]
     },
     "execution_count": 51,
     "metadata": {},
     "output_type": "execute_result"
    }
   ],
   "source": [
    "df1[\"CO_PAIS_final\"].value_counts()"
   ]
  },
  {
   "cell_type": "markdown",
   "metadata": {},
   "source": [
    "###### Checando países (SG_UF_NCM) recorrentes"
   ]
  },
  {
   "cell_type": "code",
   "execution_count": 52,
   "metadata": {},
   "outputs": [
    {
     "data": {
      "text/html": [
       "<div>\n",
       "<style scoped>\n",
       "    .dataframe tbody tr th:only-of-type {\n",
       "        vertical-align: middle;\n",
       "    }\n",
       "\n",
       "    .dataframe tbody tr th {\n",
       "        vertical-align: top;\n",
       "    }\n",
       "\n",
       "    .dataframe thead th {\n",
       "        text-align: right;\n",
       "    }\n",
       "</style>\n",
       "<table border=\"1\" class=\"dataframe\">\n",
       "  <thead>\n",
       "    <tr style=\"text-align: right;\">\n",
       "      <th></th>\n",
       "      <th>SG_UF_NCM</th>\n",
       "      <th>contagem</th>\n",
       "    </tr>\n",
       "  </thead>\n",
       "  <tbody>\n",
       "    <tr>\n",
       "      <th>25</th>\n",
       "      <td>SP</td>\n",
       "      <td>137976</td>\n",
       "    </tr>\n",
       "    <tr>\n",
       "      <th>23</th>\n",
       "      <td>SC</td>\n",
       "      <td>38823</td>\n",
       "    </tr>\n",
       "    <tr>\n",
       "      <th>17</th>\n",
       "      <td>PR</td>\n",
       "      <td>36379</td>\n",
       "    </tr>\n",
       "    <tr>\n",
       "      <th>10</th>\n",
       "      <td>MG</td>\n",
       "      <td>29395</td>\n",
       "    </tr>\n",
       "    <tr>\n",
       "      <th>18</th>\n",
       "      <td>RJ</td>\n",
       "      <td>28341</td>\n",
       "    </tr>\n",
       "    <tr>\n",
       "      <th>22</th>\n",
       "      <td>RS</td>\n",
       "      <td>27205</td>\n",
       "    </tr>\n",
       "    <tr>\n",
       "      <th>2</th>\n",
       "      <td>AM</td>\n",
       "      <td>17843</td>\n",
       "    </tr>\n",
       "    <tr>\n",
       "      <th>4</th>\n",
       "      <td>BA</td>\n",
       "      <td>10004</td>\n",
       "    </tr>\n",
       "    <tr>\n",
       "      <th>7</th>\n",
       "      <td>ES</td>\n",
       "      <td>7208</td>\n",
       "    </tr>\n",
       "    <tr>\n",
       "      <th>8</th>\n",
       "      <td>GO</td>\n",
       "      <td>6229</td>\n",
       "    </tr>\n",
       "    <tr>\n",
       "      <th>13</th>\n",
       "      <td>PA</td>\n",
       "      <td>4267</td>\n",
       "    </tr>\n",
       "    <tr>\n",
       "      <th>15</th>\n",
       "      <td>PE</td>\n",
       "      <td>4229</td>\n",
       "    </tr>\n",
       "    <tr>\n",
       "      <th>5</th>\n",
       "      <td>CE</td>\n",
       "      <td>4182</td>\n",
       "    </tr>\n",
       "    <tr>\n",
       "      <th>20</th>\n",
       "      <td>RO</td>\n",
       "      <td>2950</td>\n",
       "    </tr>\n",
       "    <tr>\n",
       "      <th>1</th>\n",
       "      <td>AL</td>\n",
       "      <td>2518</td>\n",
       "    </tr>\n",
       "    <tr>\n",
       "      <th>11</th>\n",
       "      <td>MS</td>\n",
       "      <td>1742</td>\n",
       "    </tr>\n",
       "    <tr>\n",
       "      <th>12</th>\n",
       "      <td>MT</td>\n",
       "      <td>1476</td>\n",
       "    </tr>\n",
       "    <tr>\n",
       "      <th>6</th>\n",
       "      <td>DF</td>\n",
       "      <td>1305</td>\n",
       "    </tr>\n",
       "    <tr>\n",
       "      <th>19</th>\n",
       "      <td>RN</td>\n",
       "      <td>1152</td>\n",
       "    </tr>\n",
       "    <tr>\n",
       "      <th>14</th>\n",
       "      <td>PB</td>\n",
       "      <td>1019</td>\n",
       "    </tr>\n",
       "    <tr>\n",
       "      <th>9</th>\n",
       "      <td>MA</td>\n",
       "      <td>635</td>\n",
       "    </tr>\n",
       "    <tr>\n",
       "      <th>24</th>\n",
       "      <td>SE</td>\n",
       "      <td>617</td>\n",
       "    </tr>\n",
       "    <tr>\n",
       "      <th>16</th>\n",
       "      <td>PI</td>\n",
       "      <td>240</td>\n",
       "    </tr>\n",
       "    <tr>\n",
       "      <th>3</th>\n",
       "      <td>AP</td>\n",
       "      <td>188</td>\n",
       "    </tr>\n",
       "    <tr>\n",
       "      <th>26</th>\n",
       "      <td>TO</td>\n",
       "      <td>163</td>\n",
       "    </tr>\n",
       "    <tr>\n",
       "      <th>21</th>\n",
       "      <td>RR</td>\n",
       "      <td>85</td>\n",
       "    </tr>\n",
       "    <tr>\n",
       "      <th>0</th>\n",
       "      <td>AC</td>\n",
       "      <td>14</td>\n",
       "    </tr>\n",
       "  </tbody>\n",
       "</table>\n",
       "</div>"
      ],
      "text/plain": [
       "   SG_UF_NCM  contagem\n",
       "25        SP    137976\n",
       "23        SC     38823\n",
       "17        PR     36379\n",
       "10        MG     29395\n",
       "18        RJ     28341\n",
       "22        RS     27205\n",
       "2         AM     17843\n",
       "4         BA     10004\n",
       "7         ES      7208\n",
       "8         GO      6229\n",
       "13        PA      4267\n",
       "15        PE      4229\n",
       "5         CE      4182\n",
       "20        RO      2950\n",
       "1         AL      2518\n",
       "11        MS      1742\n",
       "12        MT      1476\n",
       "6         DF      1305\n",
       "19        RN      1152\n",
       "14        PB      1019\n",
       "9         MA       635\n",
       "24        SE       617\n",
       "16        PI       240\n",
       "3         AP       188\n",
       "26        TO       163\n",
       "21        RR        85\n",
       "0         AC        14"
      ]
     },
     "execution_count": 52,
     "metadata": {},
     "output_type": "execute_result"
    }
   ],
   "source": [
    "g1=df1.groupby(['SG_UF_NCM']).size().reset_index().rename(columns={0:'contagem'})\n",
    "g1.sort_values(by=[\"contagem\"],ascending=False)"
   ]
  },
  {
   "cell_type": "code",
   "execution_count": 53,
   "metadata": {},
   "outputs": [],
   "source": [
    "g1[\"% SG_UF_NCM\"] = g1[\"contagem\"]/(g1[\"contagem\"].sum())"
   ]
  },
  {
   "cell_type": "code",
   "execution_count": 54,
   "metadata": {},
   "outputs": [],
   "source": [
    "g2=g1.sort_values(by=[\"contagem\"],ascending=False)"
   ]
  },
  {
   "cell_type": "code",
   "execution_count": 55,
   "metadata": {},
   "outputs": [],
   "source": [
    "g2[\"% SG_UF_NCM ACUMUL\"]=g2[\"% SG_UF_NCM\"].cumsum()"
   ]
  },
  {
   "cell_type": "code",
   "execution_count": 56,
   "metadata": {
    "scrolled": true
   },
   "outputs": [
    {
     "data": {
      "text/html": [
       "<div>\n",
       "<style scoped>\n",
       "    .dataframe tbody tr th:only-of-type {\n",
       "        vertical-align: middle;\n",
       "    }\n",
       "\n",
       "    .dataframe tbody tr th {\n",
       "        vertical-align: top;\n",
       "    }\n",
       "\n",
       "    .dataframe thead th {\n",
       "        text-align: right;\n",
       "    }\n",
       "</style>\n",
       "<table border=\"1\" class=\"dataframe\">\n",
       "  <thead>\n",
       "    <tr style=\"text-align: right;\">\n",
       "      <th></th>\n",
       "      <th>SG_UF_NCM</th>\n",
       "      <th>contagem</th>\n",
       "      <th>% SG_UF_NCM</th>\n",
       "      <th>% SG_UF_NCM ACUMUL</th>\n",
       "    </tr>\n",
       "  </thead>\n",
       "  <tbody>\n",
       "    <tr>\n",
       "      <th>25</th>\n",
       "      <td>SP</td>\n",
       "      <td>137976</td>\n",
       "      <td>0.376793</td>\n",
       "      <td>0.376793</td>\n",
       "    </tr>\n",
       "    <tr>\n",
       "      <th>23</th>\n",
       "      <td>SC</td>\n",
       "      <td>38823</td>\n",
       "      <td>0.106020</td>\n",
       "      <td>0.482813</td>\n",
       "    </tr>\n",
       "    <tr>\n",
       "      <th>17</th>\n",
       "      <td>PR</td>\n",
       "      <td>36379</td>\n",
       "      <td>0.099346</td>\n",
       "      <td>0.582159</td>\n",
       "    </tr>\n",
       "    <tr>\n",
       "      <th>10</th>\n",
       "      <td>MG</td>\n",
       "      <td>29395</td>\n",
       "      <td>0.080274</td>\n",
       "      <td>0.662433</td>\n",
       "    </tr>\n",
       "    <tr>\n",
       "      <th>18</th>\n",
       "      <td>RJ</td>\n",
       "      <td>28341</td>\n",
       "      <td>0.077395</td>\n",
       "      <td>0.739828</td>\n",
       "    </tr>\n",
       "  </tbody>\n",
       "</table>\n",
       "</div>"
      ],
      "text/plain": [
       "   SG_UF_NCM  contagem  % SG_UF_NCM  % SG_UF_NCM ACUMUL\n",
       "25        SP    137976     0.376793            0.376793\n",
       "23        SC     38823     0.106020            0.482813\n",
       "17        PR     36379     0.099346            0.582159\n",
       "10        MG     29395     0.080274            0.662433\n",
       "18        RJ     28341     0.077395            0.739828"
      ]
     },
     "execution_count": 56,
     "metadata": {},
     "output_type": "execute_result"
    }
   ],
   "source": [
    "g2.head()"
   ]
  },
  {
   "cell_type": "code",
   "execution_count": 57,
   "metadata": {},
   "outputs": [
    {
     "data": {
      "text/html": [
       "<div>\n",
       "<style scoped>\n",
       "    .dataframe tbody tr th:only-of-type {\n",
       "        vertical-align: middle;\n",
       "    }\n",
       "\n",
       "    .dataframe tbody tr th {\n",
       "        vertical-align: top;\n",
       "    }\n",
       "\n",
       "    .dataframe thead th {\n",
       "        text-align: right;\n",
       "    }\n",
       "</style>\n",
       "<table border=\"1\" class=\"dataframe\">\n",
       "  <thead>\n",
       "    <tr style=\"text-align: right;\">\n",
       "      <th></th>\n",
       "      <th>SG_UF_NCM</th>\n",
       "      <th>contagem</th>\n",
       "      <th>% SG_UF_NCM</th>\n",
       "      <th>% SG_UF_NCM ACUMUL</th>\n",
       "    </tr>\n",
       "  </thead>\n",
       "  <tbody>\n",
       "    <tr>\n",
       "      <th>25</th>\n",
       "      <td>SP</td>\n",
       "      <td>137976</td>\n",
       "      <td>0.376793</td>\n",
       "      <td>0.376793</td>\n",
       "    </tr>\n",
       "    <tr>\n",
       "      <th>23</th>\n",
       "      <td>SC</td>\n",
       "      <td>38823</td>\n",
       "      <td>0.106020</td>\n",
       "      <td>0.482813</td>\n",
       "    </tr>\n",
       "    <tr>\n",
       "      <th>17</th>\n",
       "      <td>PR</td>\n",
       "      <td>36379</td>\n",
       "      <td>0.099346</td>\n",
       "      <td>0.582159</td>\n",
       "    </tr>\n",
       "    <tr>\n",
       "      <th>10</th>\n",
       "      <td>MG</td>\n",
       "      <td>29395</td>\n",
       "      <td>0.080274</td>\n",
       "      <td>0.662433</td>\n",
       "    </tr>\n",
       "    <tr>\n",
       "      <th>18</th>\n",
       "      <td>RJ</td>\n",
       "      <td>28341</td>\n",
       "      <td>0.077395</td>\n",
       "      <td>0.739828</td>\n",
       "    </tr>\n",
       "    <tr>\n",
       "      <th>22</th>\n",
       "      <td>RS</td>\n",
       "      <td>27205</td>\n",
       "      <td>0.074293</td>\n",
       "      <td>0.814121</td>\n",
       "    </tr>\n",
       "    <tr>\n",
       "      <th>2</th>\n",
       "      <td>AM</td>\n",
       "      <td>17843</td>\n",
       "      <td>0.048727</td>\n",
       "      <td>0.862848</td>\n",
       "    </tr>\n",
       "    <tr>\n",
       "      <th>4</th>\n",
       "      <td>BA</td>\n",
       "      <td>10004</td>\n",
       "      <td>0.027320</td>\n",
       "      <td>0.890168</td>\n",
       "    </tr>\n",
       "    <tr>\n",
       "      <th>7</th>\n",
       "      <td>ES</td>\n",
       "      <td>7208</td>\n",
       "      <td>0.019684</td>\n",
       "      <td>0.909852</td>\n",
       "    </tr>\n",
       "    <tr>\n",
       "      <th>8</th>\n",
       "      <td>GO</td>\n",
       "      <td>6229</td>\n",
       "      <td>0.017011</td>\n",
       "      <td>0.926862</td>\n",
       "    </tr>\n",
       "    <tr>\n",
       "      <th>13</th>\n",
       "      <td>PA</td>\n",
       "      <td>4267</td>\n",
       "      <td>0.011653</td>\n",
       "      <td>0.938515</td>\n",
       "    </tr>\n",
       "  </tbody>\n",
       "</table>\n",
       "</div>"
      ],
      "text/plain": [
       "   SG_UF_NCM  contagem  % SG_UF_NCM  % SG_UF_NCM ACUMUL\n",
       "25        SP    137976     0.376793            0.376793\n",
       "23        SC     38823     0.106020            0.482813\n",
       "17        PR     36379     0.099346            0.582159\n",
       "10        MG     29395     0.080274            0.662433\n",
       "18        RJ     28341     0.077395            0.739828\n",
       "22        RS     27205     0.074293            0.814121\n",
       "2         AM     17843     0.048727            0.862848\n",
       "4         BA     10004     0.027320            0.890168\n",
       "7         ES      7208     0.019684            0.909852\n",
       "8         GO      6229     0.017011            0.926862\n",
       "13        PA      4267     0.011653            0.938515"
      ]
     },
     "execution_count": 57,
     "metadata": {},
     "output_type": "execute_result"
    }
   ],
   "source": [
    "# tentando identificar um percentual que viabilize a implementação do modelo (considerando a necessidade de \"dummizar\" a variável CO_NCM, a ideia é reduzir o número de categorias)\n",
    "g3=g2[g2[\"% SG_UF_NCM ACUMUL\"]<=0.95]\n",
    "g3\n",
    "# repare que 95% das ocorrências se restingem a 11 UF dentre as 27."
   ]
  },
  {
   "cell_type": "code",
   "execution_count": 58,
   "metadata": {},
   "outputs": [
    {
     "data": {
      "text/html": [
       "<div>\n",
       "<style scoped>\n",
       "    .dataframe tbody tr th:only-of-type {\n",
       "        vertical-align: middle;\n",
       "    }\n",
       "\n",
       "    .dataframe tbody tr th {\n",
       "        vertical-align: top;\n",
       "    }\n",
       "\n",
       "    .dataframe thead th {\n",
       "        text-align: right;\n",
       "    }\n",
       "</style>\n",
       "<table border=\"1\" class=\"dataframe\">\n",
       "  <thead>\n",
       "    <tr style=\"text-align: right;\">\n",
       "      <th></th>\n",
       "      <th>SG_UF_NCM</th>\n",
       "      <th>contagem</th>\n",
       "      <th>% SG_UF_NCM</th>\n",
       "      <th>% SG_UF_NCM ACUMUL</th>\n",
       "    </tr>\n",
       "  </thead>\n",
       "  <tbody>\n",
       "    <tr>\n",
       "      <th>15</th>\n",
       "      <td>PE</td>\n",
       "      <td>4229</td>\n",
       "      <td>0.011549</td>\n",
       "      <td>0.950063</td>\n",
       "    </tr>\n",
       "    <tr>\n",
       "      <th>5</th>\n",
       "      <td>CE</td>\n",
       "      <td>4182</td>\n",
       "      <td>0.011420</td>\n",
       "      <td>0.961484</td>\n",
       "    </tr>\n",
       "    <tr>\n",
       "      <th>20</th>\n",
       "      <td>RO</td>\n",
       "      <td>2950</td>\n",
       "      <td>0.008056</td>\n",
       "      <td>0.969540</td>\n",
       "    </tr>\n",
       "    <tr>\n",
       "      <th>1</th>\n",
       "      <td>AL</td>\n",
       "      <td>2518</td>\n",
       "      <td>0.006876</td>\n",
       "      <td>0.976416</td>\n",
       "    </tr>\n",
       "    <tr>\n",
       "      <th>11</th>\n",
       "      <td>MS</td>\n",
       "      <td>1742</td>\n",
       "      <td>0.004757</td>\n",
       "      <td>0.981173</td>\n",
       "    </tr>\n",
       "    <tr>\n",
       "      <th>12</th>\n",
       "      <td>MT</td>\n",
       "      <td>1476</td>\n",
       "      <td>0.004031</td>\n",
       "      <td>0.985204</td>\n",
       "    </tr>\n",
       "    <tr>\n",
       "      <th>6</th>\n",
       "      <td>DF</td>\n",
       "      <td>1305</td>\n",
       "      <td>0.003564</td>\n",
       "      <td>0.988768</td>\n",
       "    </tr>\n",
       "    <tr>\n",
       "      <th>19</th>\n",
       "      <td>RN</td>\n",
       "      <td>1152</td>\n",
       "      <td>0.003146</td>\n",
       "      <td>0.991914</td>\n",
       "    </tr>\n",
       "    <tr>\n",
       "      <th>14</th>\n",
       "      <td>PB</td>\n",
       "      <td>1019</td>\n",
       "      <td>0.002783</td>\n",
       "      <td>0.994697</td>\n",
       "    </tr>\n",
       "    <tr>\n",
       "      <th>9</th>\n",
       "      <td>MA</td>\n",
       "      <td>635</td>\n",
       "      <td>0.001734</td>\n",
       "      <td>0.996431</td>\n",
       "    </tr>\n",
       "    <tr>\n",
       "      <th>24</th>\n",
       "      <td>SE</td>\n",
       "      <td>617</td>\n",
       "      <td>0.001685</td>\n",
       "      <td>0.998116</td>\n",
       "    </tr>\n",
       "    <tr>\n",
       "      <th>16</th>\n",
       "      <td>PI</td>\n",
       "      <td>240</td>\n",
       "      <td>0.000655</td>\n",
       "      <td>0.998771</td>\n",
       "    </tr>\n",
       "    <tr>\n",
       "      <th>3</th>\n",
       "      <td>AP</td>\n",
       "      <td>188</td>\n",
       "      <td>0.000513</td>\n",
       "      <td>0.999285</td>\n",
       "    </tr>\n",
       "    <tr>\n",
       "      <th>26</th>\n",
       "      <td>TO</td>\n",
       "      <td>163</td>\n",
       "      <td>0.000445</td>\n",
       "      <td>0.999730</td>\n",
       "    </tr>\n",
       "    <tr>\n",
       "      <th>21</th>\n",
       "      <td>RR</td>\n",
       "      <td>85</td>\n",
       "      <td>0.000232</td>\n",
       "      <td>0.999962</td>\n",
       "    </tr>\n",
       "    <tr>\n",
       "      <th>0</th>\n",
       "      <td>AC</td>\n",
       "      <td>14</td>\n",
       "      <td>0.000038</td>\n",
       "      <td>1.000000</td>\n",
       "    </tr>\n",
       "  </tbody>\n",
       "</table>\n",
       "</div>"
      ],
      "text/plain": [
       "   SG_UF_NCM  contagem  % SG_UF_NCM  % SG_UF_NCM ACUMUL\n",
       "15        PE      4229     0.011549            0.950063\n",
       "5         CE      4182     0.011420            0.961484\n",
       "20        RO      2950     0.008056            0.969540\n",
       "1         AL      2518     0.006876            0.976416\n",
       "11        MS      1742     0.004757            0.981173\n",
       "12        MT      1476     0.004031            0.985204\n",
       "6         DF      1305     0.003564            0.988768\n",
       "19        RN      1152     0.003146            0.991914\n",
       "14        PB      1019     0.002783            0.994697\n",
       "9         MA       635     0.001734            0.996431\n",
       "24        SE       617     0.001685            0.998116\n",
       "16        PI       240     0.000655            0.998771\n",
       "3         AP       188     0.000513            0.999285\n",
       "26        TO       163     0.000445            0.999730\n",
       "21        RR        85     0.000232            0.999962\n",
       "0         AC        14     0.000038            1.000000"
      ]
     },
     "execution_count": 58,
     "metadata": {},
     "output_type": "execute_result"
    }
   ],
   "source": [
    "# os 5% que extrapolam o acumulado 95% serão agrupados em uma única categoria, portanto, segue a identificação desses valores:\n",
    "g4=g2[g2[\"% SG_UF_NCM ACUMUL\"]>0.95]\n",
    "g4"
   ]
  },
  {
   "cell_type": "code",
   "execution_count": 59,
   "metadata": {},
   "outputs": [],
   "source": [
    "# obtendo os 5% UF menos recorrentes, para agrupar como \"outros\" no df original\n",
    "idx=g4[\"SG_UF_NCM\"]"
   ]
  },
  {
   "cell_type": "code",
   "execution_count": 60,
   "metadata": {},
   "outputs": [
    {
     "data": {
      "text/plain": [
       "9          False\n",
       "10         False\n",
       "12         False\n",
       "33         False\n",
       "41         False\n",
       "           ...  \n",
       "1764414    False\n",
       "1764419    False\n",
       "1764423    False\n",
       "1764427    False\n",
       "1764431    False\n",
       "Name: SG_UF_NCM, Length: 366185, dtype: bool"
      ]
     },
     "execution_count": 60,
     "metadata": {},
     "output_type": "execute_result"
    }
   ],
   "source": [
    "mask=df1['SG_UF_NCM'].isin(idx)\n",
    "mask"
   ]
  },
  {
   "cell_type": "code",
   "execution_count": 61,
   "metadata": {},
   "outputs": [
    {
     "name": "stderr",
     "output_type": "stream",
     "text": [
      "<ipython-input-61-dd95862fade3>:1: SettingWithCopyWarning: \n",
      "A value is trying to be set on a copy of a slice from a DataFrame.\n",
      "Try using .loc[row_indexer,col_indexer] = value instead\n",
      "\n",
      "See the caveats in the documentation: https://pandas.pydata.org/pandas-docs/stable/user_guide/indexing.html#returning-a-view-versus-a-copy\n",
      "  df1[\"SG_UF_NCM_final\"]=df1[\"SG_UF_NCM\"]\n"
     ]
    }
   ],
   "source": [
    "df1[\"SG_UF_NCM_final\"]=df1[\"SG_UF_NCM\"]"
   ]
  },
  {
   "cell_type": "code",
   "execution_count": 62,
   "metadata": {},
   "outputs": [
    {
     "name": "stderr",
     "output_type": "stream",
     "text": [
      "D:\\ANACONDA\\lib\\site-packages\\pandas\\core\\indexing.py:1765: SettingWithCopyWarning: \n",
      "A value is trying to be set on a copy of a slice from a DataFrame.\n",
      "Try using .loc[row_indexer,col_indexer] = value instead\n",
      "\n",
      "See the caveats in the documentation: https://pandas.pydata.org/pandas-docs/stable/user_guide/indexing.html#returning-a-view-versus-a-copy\n",
      "  isetter(loc, value)\n"
     ]
    }
   ],
   "source": [
    "# substituir os 5% NCM menos recorrentes pelo código 99 (alterou-se a coluna auxiliar SG_UF_NCM_final para preservar a original SG_UF_NCM)\n",
    "df1.loc[mask, \"SG_UF_NCM_final\"] = 99"
   ]
  },
  {
   "cell_type": "code",
   "execution_count": 63,
   "metadata": {},
   "outputs": [
    {
     "data": {
      "text/html": [
       "<div>\n",
       "<style scoped>\n",
       "    .dataframe tbody tr th:only-of-type {\n",
       "        vertical-align: middle;\n",
       "    }\n",
       "\n",
       "    .dataframe tbody tr th {\n",
       "        vertical-align: top;\n",
       "    }\n",
       "\n",
       "    .dataframe thead th {\n",
       "        text-align: right;\n",
       "    }\n",
       "</style>\n",
       "<table border=\"1\" class=\"dataframe\">\n",
       "  <thead>\n",
       "    <tr style=\"text-align: right;\">\n",
       "      <th></th>\n",
       "      <th>ANO-MES</th>\n",
       "      <th>CO_NCM</th>\n",
       "      <th>CO_UNID</th>\n",
       "      <th>CO_PAIS</th>\n",
       "      <th>SG_UF_NCM</th>\n",
       "      <th>CO_VIA</th>\n",
       "      <th>CO_URF</th>\n",
       "      <th>QT_ESTAT</th>\n",
       "      <th>KG_LIQUIDO</th>\n",
       "      <th>VL_FOB</th>\n",
       "      <th>câmbio_mês_atual</th>\n",
       "      <th>câmbio_mês_anterior</th>\n",
       "      <th>CO_NCM_final</th>\n",
       "      <th>CO_UNID_final</th>\n",
       "      <th>CO_PAIS_final</th>\n",
       "      <th>SG_UF_NCM_final</th>\n",
       "    </tr>\n",
       "  </thead>\n",
       "  <tbody>\n",
       "    <tr>\n",
       "      <th>9</th>\n",
       "      <td>2019-12</td>\n",
       "      <td>84719012</td>\n",
       "      <td>11</td>\n",
       "      <td>858</td>\n",
       "      <td>SP</td>\n",
       "      <td>4</td>\n",
       "      <td>817600</td>\n",
       "      <td>1</td>\n",
       "      <td>0</td>\n",
       "      <td>670</td>\n",
       "      <td>4.108924</td>\n",
       "      <td>4.154725</td>\n",
       "      <td>84719012</td>\n",
       "      <td>11</td>\n",
       "      <td>858</td>\n",
       "      <td>SP</td>\n",
       "    </tr>\n",
       "    <tr>\n",
       "      <th>10</th>\n",
       "      <td>2019-12</td>\n",
       "      <td>84798210</td>\n",
       "      <td>11</td>\n",
       "      <td>249</td>\n",
       "      <td>SP</td>\n",
       "      <td>4</td>\n",
       "      <td>817600</td>\n",
       "      <td>15</td>\n",
       "      <td>240</td>\n",
       "      <td>29403</td>\n",
       "      <td>4.108924</td>\n",
       "      <td>4.154725</td>\n",
       "      <td>84798210</td>\n",
       "      <td>11</td>\n",
       "      <td>249</td>\n",
       "      <td>SP</td>\n",
       "    </tr>\n",
       "    <tr>\n",
       "      <th>12</th>\n",
       "      <td>2019-12</td>\n",
       "      <td>84439923</td>\n",
       "      <td>10</td>\n",
       "      <td>858</td>\n",
       "      <td>SP</td>\n",
       "      <td>4</td>\n",
       "      <td>817600</td>\n",
       "      <td>413</td>\n",
       "      <td>413</td>\n",
       "      <td>92535</td>\n",
       "      <td>4.108924</td>\n",
       "      <td>4.154725</td>\n",
       "      <td>84439923</td>\n",
       "      <td>10</td>\n",
       "      <td>858</td>\n",
       "      <td>SP</td>\n",
       "    </tr>\n",
       "    <tr>\n",
       "      <th>33</th>\n",
       "      <td>2019-01</td>\n",
       "      <td>84833090</td>\n",
       "      <td>11</td>\n",
       "      <td>249</td>\n",
       "      <td>SP</td>\n",
       "      <td>4</td>\n",
       "      <td>817700</td>\n",
       "      <td>1410</td>\n",
       "      <td>416</td>\n",
       "      <td>164046</td>\n",
       "      <td>3.741055</td>\n",
       "      <td>3.884405</td>\n",
       "      <td>84833090</td>\n",
       "      <td>11</td>\n",
       "      <td>249</td>\n",
       "      <td>SP</td>\n",
       "    </tr>\n",
       "    <tr>\n",
       "      <th>41</th>\n",
       "      <td>2019-01</td>\n",
       "      <td>84349000</td>\n",
       "      <td>10</td>\n",
       "      <td>386</td>\n",
       "      <td>RS</td>\n",
       "      <td>4</td>\n",
       "      <td>1017801</td>\n",
       "      <td>271</td>\n",
       "      <td>271</td>\n",
       "      <td>50073</td>\n",
       "      <td>3.741055</td>\n",
       "      <td>3.884405</td>\n",
       "      <td>84349000</td>\n",
       "      <td>10</td>\n",
       "      <td>386</td>\n",
       "      <td>RS</td>\n",
       "    </tr>\n",
       "    <tr>\n",
       "      <th>...</th>\n",
       "      <td>...</td>\n",
       "      <td>...</td>\n",
       "      <td>...</td>\n",
       "      <td>...</td>\n",
       "      <td>...</td>\n",
       "      <td>...</td>\n",
       "      <td>...</td>\n",
       "      <td>...</td>\n",
       "      <td>...</td>\n",
       "      <td>...</td>\n",
       "      <td>...</td>\n",
       "      <td>...</td>\n",
       "      <td>...</td>\n",
       "      <td>...</td>\n",
       "      <td>...</td>\n",
       "      <td>...</td>\n",
       "    </tr>\n",
       "    <tr>\n",
       "      <th>1764414</th>\n",
       "      <td>2019-08</td>\n",
       "      <td>84209100</td>\n",
       "      <td>11</td>\n",
       "      <td>776</td>\n",
       "      <td>SP</td>\n",
       "      <td>1</td>\n",
       "      <td>817800</td>\n",
       "      <td>2</td>\n",
       "      <td>1</td>\n",
       "      <td>76</td>\n",
       "      <td>4.019382</td>\n",
       "      <td>3.778713</td>\n",
       "      <td>84209100</td>\n",
       "      <td>11</td>\n",
       "      <td>776</td>\n",
       "      <td>SP</td>\n",
       "    </tr>\n",
       "    <tr>\n",
       "      <th>1764419</th>\n",
       "      <td>2019-08</td>\n",
       "      <td>84133010</td>\n",
       "      <td>11</td>\n",
       "      <td>247</td>\n",
       "      <td>PR</td>\n",
       "      <td>1</td>\n",
       "      <td>917800</td>\n",
       "      <td>3456</td>\n",
       "      <td>3356</td>\n",
       "      <td>89925</td>\n",
       "      <td>4.019382</td>\n",
       "      <td>3.778713</td>\n",
       "      <td>84133010</td>\n",
       "      <td>11</td>\n",
       "      <td>247</td>\n",
       "      <td>PR</td>\n",
       "    </tr>\n",
       "    <tr>\n",
       "      <th>1764423</th>\n",
       "      <td>2019-08</td>\n",
       "      <td>84339090</td>\n",
       "      <td>10</td>\n",
       "      <td>63</td>\n",
       "      <td>RS</td>\n",
       "      <td>7</td>\n",
       "      <td>1017500</td>\n",
       "      <td>25285</td>\n",
       "      <td>25285</td>\n",
       "      <td>54569</td>\n",
       "      <td>4.019382</td>\n",
       "      <td>3.778713</td>\n",
       "      <td>84339090</td>\n",
       "      <td>10</td>\n",
       "      <td>63</td>\n",
       "      <td>RS</td>\n",
       "    </tr>\n",
       "    <tr>\n",
       "      <th>1764427</th>\n",
       "      <td>2019-08</td>\n",
       "      <td>84243010</td>\n",
       "      <td>11</td>\n",
       "      <td>249</td>\n",
       "      <td>SP</td>\n",
       "      <td>4</td>\n",
       "      <td>817600</td>\n",
       "      <td>22</td>\n",
       "      <td>56</td>\n",
       "      <td>24875</td>\n",
       "      <td>4.019382</td>\n",
       "      <td>3.778713</td>\n",
       "      <td>84243010</td>\n",
       "      <td>11</td>\n",
       "      <td>249</td>\n",
       "      <td>SP</td>\n",
       "    </tr>\n",
       "    <tr>\n",
       "      <th>1764431</th>\n",
       "      <td>2019-08</td>\n",
       "      <td>84123900</td>\n",
       "      <td>11</td>\n",
       "      <td>764</td>\n",
       "      <td>PA</td>\n",
       "      <td>4</td>\n",
       "      <td>817600</td>\n",
       "      <td>1</td>\n",
       "      <td>83</td>\n",
       "      <td>7641</td>\n",
       "      <td>4.019382</td>\n",
       "      <td>3.778713</td>\n",
       "      <td>84123900</td>\n",
       "      <td>11</td>\n",
       "      <td>764</td>\n",
       "      <td>PA</td>\n",
       "    </tr>\n",
       "  </tbody>\n",
       "</table>\n",
       "<p>366185 rows × 16 columns</p>\n",
       "</div>"
      ],
      "text/plain": [
       "         ANO-MES    CO_NCM  CO_UNID  CO_PAIS SG_UF_NCM  CO_VIA   CO_URF  \\\n",
       "9        2019-12  84719012       11      858        SP       4   817600   \n",
       "10       2019-12  84798210       11      249        SP       4   817600   \n",
       "12       2019-12  84439923       10      858        SP       4   817600   \n",
       "33       2019-01  84833090       11      249        SP       4   817700   \n",
       "41       2019-01  84349000       10      386        RS       4  1017801   \n",
       "...          ...       ...      ...      ...       ...     ...      ...   \n",
       "1764414  2019-08  84209100       11      776        SP       1   817800   \n",
       "1764419  2019-08  84133010       11      247        PR       1   917800   \n",
       "1764423  2019-08  84339090       10       63        RS       7  1017500   \n",
       "1764427  2019-08  84243010       11      249        SP       4   817600   \n",
       "1764431  2019-08  84123900       11      764        PA       4   817600   \n",
       "\n",
       "         QT_ESTAT  KG_LIQUIDO  VL_FOB  câmbio_mês_atual  câmbio_mês_anterior  \\\n",
       "9               1           0     670          4.108924             4.154725   \n",
       "10             15         240   29403          4.108924             4.154725   \n",
       "12            413         413   92535          4.108924             4.154725   \n",
       "33           1410         416  164046          3.741055             3.884405   \n",
       "41            271         271   50073          3.741055             3.884405   \n",
       "...           ...         ...     ...               ...                  ...   \n",
       "1764414         2           1      76          4.019382             3.778713   \n",
       "1764419      3456        3356   89925          4.019382             3.778713   \n",
       "1764423     25285       25285   54569          4.019382             3.778713   \n",
       "1764427        22          56   24875          4.019382             3.778713   \n",
       "1764431         1          83    7641          4.019382             3.778713   \n",
       "\n",
       "         CO_NCM_final  CO_UNID_final  CO_PAIS_final SG_UF_NCM_final  \n",
       "9            84719012             11            858              SP  \n",
       "10           84798210             11            249              SP  \n",
       "12           84439923             10            858              SP  \n",
       "33           84833090             11            249              SP  \n",
       "41           84349000             10            386              RS  \n",
       "...               ...            ...            ...             ...  \n",
       "1764414      84209100             11            776              SP  \n",
       "1764419      84133010             11            247              PR  \n",
       "1764423      84339090             10             63              RS  \n",
       "1764427      84243010             11            249              SP  \n",
       "1764431      84123900             11            764              PA  \n",
       "\n",
       "[366185 rows x 16 columns]"
      ]
     },
     "execution_count": 63,
     "metadata": {},
     "output_type": "execute_result"
    }
   ],
   "source": [
    "df1"
   ]
  },
  {
   "cell_type": "code",
   "execution_count": 64,
   "metadata": {
    "scrolled": true
   },
   "outputs": [
    {
     "data": {
      "text/plain": [
       "SP    137976\n",
       "SC     38823\n",
       "PR     36379\n",
       "MG     29395\n",
       "RJ     28341\n",
       "RS     27205\n",
       "99     22515\n",
       "AM     17843\n",
       "BA     10004\n",
       "ES      7208\n",
       "GO      6229\n",
       "PA      4267\n",
       "Name: SG_UF_NCM_final, dtype: int64"
      ]
     },
     "execution_count": 64,
     "metadata": {},
     "output_type": "execute_result"
    }
   ],
   "source": [
    "df1[\"SG_UF_NCM_final\"].value_counts()"
   ]
  },
  {
   "cell_type": "markdown",
   "metadata": {},
   "source": [
    "###### Checando modais (CO_VIA) recorrentes"
   ]
  },
  {
   "cell_type": "code",
   "execution_count": 65,
   "metadata": {},
   "outputs": [
    {
     "data": {
      "text/html": [
       "<div>\n",
       "<style scoped>\n",
       "    .dataframe tbody tr th:only-of-type {\n",
       "        vertical-align: middle;\n",
       "    }\n",
       "\n",
       "    .dataframe tbody tr th {\n",
       "        vertical-align: top;\n",
       "    }\n",
       "\n",
       "    .dataframe thead th {\n",
       "        text-align: right;\n",
       "    }\n",
       "</style>\n",
       "<table border=\"1\" class=\"dataframe\">\n",
       "  <thead>\n",
       "    <tr style=\"text-align: right;\">\n",
       "      <th></th>\n",
       "      <th>CO_VIA</th>\n",
       "      <th>contagem</th>\n",
       "    </tr>\n",
       "  </thead>\n",
       "  <tbody>\n",
       "    <tr>\n",
       "      <th>2</th>\n",
       "      <td>4</td>\n",
       "      <td>192765</td>\n",
       "    </tr>\n",
       "    <tr>\n",
       "      <th>1</th>\n",
       "      <td>1</td>\n",
       "      <td>164266</td>\n",
       "    </tr>\n",
       "    <tr>\n",
       "      <th>4</th>\n",
       "      <td>7</td>\n",
       "      <td>4854</td>\n",
       "    </tr>\n",
       "    <tr>\n",
       "      <th>0</th>\n",
       "      <td>0</td>\n",
       "      <td>3882</td>\n",
       "    </tr>\n",
       "    <tr>\n",
       "      <th>6</th>\n",
       "      <td>10</td>\n",
       "      <td>334</td>\n",
       "    </tr>\n",
       "    <tr>\n",
       "      <th>3</th>\n",
       "      <td>5</td>\n",
       "      <td>60</td>\n",
       "    </tr>\n",
       "    <tr>\n",
       "      <th>5</th>\n",
       "      <td>9</td>\n",
       "      <td>24</td>\n",
       "    </tr>\n",
       "  </tbody>\n",
       "</table>\n",
       "</div>"
      ],
      "text/plain": [
       "   CO_VIA  contagem\n",
       "2       4    192765\n",
       "1       1    164266\n",
       "4       7      4854\n",
       "0       0      3882\n",
       "6      10       334\n",
       "3       5        60\n",
       "5       9        24"
      ]
     },
     "execution_count": 65,
     "metadata": {},
     "output_type": "execute_result"
    }
   ],
   "source": [
    "g1=df1.groupby(['CO_VIA']).size().reset_index().rename(columns={0:'contagem'})\n",
    "g1.sort_values(by=[\"contagem\"],ascending=False)"
   ]
  },
  {
   "cell_type": "code",
   "execution_count": 66,
   "metadata": {},
   "outputs": [],
   "source": [
    "g1[\"% CO_VIA\"] = g1[\"contagem\"]/(g1[\"contagem\"].sum())"
   ]
  },
  {
   "cell_type": "code",
   "execution_count": 67,
   "metadata": {},
   "outputs": [],
   "source": [
    "g2=g1.sort_values(by=[\"contagem\"],ascending=False)"
   ]
  },
  {
   "cell_type": "code",
   "execution_count": 68,
   "metadata": {},
   "outputs": [],
   "source": [
    "g2[\"% CO_VIA ACUMUL\"]=g2[\"% CO_VIA\"].cumsum()"
   ]
  },
  {
   "cell_type": "code",
   "execution_count": 69,
   "metadata": {},
   "outputs": [
    {
     "data": {
      "text/html": [
       "<div>\n",
       "<style scoped>\n",
       "    .dataframe tbody tr th:only-of-type {\n",
       "        vertical-align: middle;\n",
       "    }\n",
       "\n",
       "    .dataframe tbody tr th {\n",
       "        vertical-align: top;\n",
       "    }\n",
       "\n",
       "    .dataframe thead th {\n",
       "        text-align: right;\n",
       "    }\n",
       "</style>\n",
       "<table border=\"1\" class=\"dataframe\">\n",
       "  <thead>\n",
       "    <tr style=\"text-align: right;\">\n",
       "      <th></th>\n",
       "      <th>CO_VIA</th>\n",
       "      <th>contagem</th>\n",
       "      <th>% CO_VIA</th>\n",
       "      <th>% CO_VIA ACUMUL</th>\n",
       "    </tr>\n",
       "  </thead>\n",
       "  <tbody>\n",
       "    <tr>\n",
       "      <th>2</th>\n",
       "      <td>4</td>\n",
       "      <td>192765</td>\n",
       "      <td>0.526414</td>\n",
       "      <td>0.526414</td>\n",
       "    </tr>\n",
       "    <tr>\n",
       "      <th>1</th>\n",
       "      <td>1</td>\n",
       "      <td>164266</td>\n",
       "      <td>0.448587</td>\n",
       "      <td>0.975002</td>\n",
       "    </tr>\n",
       "    <tr>\n",
       "      <th>4</th>\n",
       "      <td>7</td>\n",
       "      <td>4854</td>\n",
       "      <td>0.013256</td>\n",
       "      <td>0.988257</td>\n",
       "    </tr>\n",
       "    <tr>\n",
       "      <th>0</th>\n",
       "      <td>0</td>\n",
       "      <td>3882</td>\n",
       "      <td>0.010601</td>\n",
       "      <td>0.998859</td>\n",
       "    </tr>\n",
       "    <tr>\n",
       "      <th>6</th>\n",
       "      <td>10</td>\n",
       "      <td>334</td>\n",
       "      <td>0.000912</td>\n",
       "      <td>0.999771</td>\n",
       "    </tr>\n",
       "    <tr>\n",
       "      <th>3</th>\n",
       "      <td>5</td>\n",
       "      <td>60</td>\n",
       "      <td>0.000164</td>\n",
       "      <td>0.999934</td>\n",
       "    </tr>\n",
       "    <tr>\n",
       "      <th>5</th>\n",
       "      <td>9</td>\n",
       "      <td>24</td>\n",
       "      <td>0.000066</td>\n",
       "      <td>1.000000</td>\n",
       "    </tr>\n",
       "  </tbody>\n",
       "</table>\n",
       "</div>"
      ],
      "text/plain": [
       "   CO_VIA  contagem  % CO_VIA  % CO_VIA ACUMUL\n",
       "2       4    192765  0.526414         0.526414\n",
       "1       1    164266  0.448587         0.975002\n",
       "4       7      4854  0.013256         0.988257\n",
       "0       0      3882  0.010601         0.998859\n",
       "6      10       334  0.000912         0.999771\n",
       "3       5        60  0.000164         0.999934\n",
       "5       9        24  0.000066         1.000000"
      ]
     },
     "execution_count": 69,
     "metadata": {},
     "output_type": "execute_result"
    }
   ],
   "source": [
    "g2"
   ]
  },
  {
   "cell_type": "code",
   "execution_count": 70,
   "metadata": {},
   "outputs": [
    {
     "name": "stderr",
     "output_type": "stream",
     "text": [
      "<ipython-input-70-0653cde63ffb>:1: SettingWithCopyWarning: \n",
      "A value is trying to be set on a copy of a slice from a DataFrame.\n",
      "Try using .loc[row_indexer,col_indexer] = value instead\n",
      "\n",
      "See the caveats in the documentation: https://pandas.pydata.org/pandas-docs/stable/user_guide/indexing.html#returning-a-view-versus-a-copy\n",
      "  df1[\"CO_VIA_final\"]=df[\"CO_VIA\"]\n"
     ]
    }
   ],
   "source": [
    "df1[\"CO_VIA_final\"]=df[\"CO_VIA\"]"
   ]
  },
  {
   "cell_type": "code",
   "execution_count": 71,
   "metadata": {},
   "outputs": [
    {
     "data": {
      "text/plain": [
       "0          False\n",
       "1          False\n",
       "2          False\n",
       "3          False\n",
       "4          False\n",
       "           ...  \n",
       "1764428    False\n",
       "1764429    False\n",
       "1764430    False\n",
       "1764431    False\n",
       "1764432    False\n",
       "Name: CO_VIA, Length: 1764433, dtype: bool"
      ]
     },
     "execution_count": 71,
     "metadata": {},
     "output_type": "execute_result"
    }
   ],
   "source": [
    "mask=(df1['CO_VIA']!=1) & (df['CO_VIA']!=4) & (df['CO_VIA']!=7)\n",
    "mask"
   ]
  },
  {
   "cell_type": "code",
   "execution_count": 72,
   "metadata": {},
   "outputs": [
    {
     "name": "stderr",
     "output_type": "stream",
     "text": [
      "D:\\ANACONDA\\lib\\site-packages\\pandas\\core\\indexing.py:1765: SettingWithCopyWarning: \n",
      "A value is trying to be set on a copy of a slice from a DataFrame.\n",
      "Try using .loc[row_indexer,col_indexer] = value instead\n",
      "\n",
      "See the caveats in the documentation: https://pandas.pydata.org/pandas-docs/stable/user_guide/indexing.html#returning-a-view-versus-a-copy\n",
      "  isetter(loc, value)\n"
     ]
    }
   ],
   "source": [
    "df1.loc[mask, \"CO_VIA_final\"] = 99"
   ]
  },
  {
   "cell_type": "code",
   "execution_count": 73,
   "metadata": {},
   "outputs": [
    {
     "data": {
      "text/plain": [
       "4     192765\n",
       "1     164266\n",
       "7       4854\n",
       "99      4300\n",
       "Name: CO_VIA_final, dtype: int64"
      ]
     },
     "execution_count": 73,
     "metadata": {},
     "output_type": "execute_result"
    }
   ],
   "source": [
    "df1[\"CO_VIA_final\"].value_counts()"
   ]
  },
  {
   "cell_type": "markdown",
   "metadata": {},
   "source": [
    "###### Não será levada em conta - inicialmente - a feature CO_URF, uma vez que essa está associada à SG_UF_NCM (que será \"dummizada\"). Posteriormente, pode-se substituir uma pela outra para ver se o modelo melhora."
   ]
  },
  {
   "cell_type": "markdown",
   "metadata": {},
   "source": [
    "###### Na sequência, as colunas de features categóricas darão origem às variáveis dummie, para, posteriormente, calcular a correlação das colunas restantes com a variável alvo ( VL_FOB/QT_ESTAT)"
   ]
  },
  {
   "cell_type": "code",
   "execution_count": 74,
   "metadata": {},
   "outputs": [
    {
     "name": "stderr",
     "output_type": "stream",
     "text": [
      "<ipython-input-74-0725dfbab52f>:1: SettingWithCopyWarning: \n",
      "A value is trying to be set on a copy of a slice from a DataFrame.\n",
      "Try using .loc[row_indexer,col_indexer] = value instead\n",
      "\n",
      "See the caveats in the documentation: https://pandas.pydata.org/pandas-docs/stable/user_guide/indexing.html#returning-a-view-versus-a-copy\n",
      "  df1[\"VL_FOB/QT_ESTAT\"]=df1[\"VL_FOB\"]/df1[\"QT_ESTAT\"]\n"
     ]
    }
   ],
   "source": [
    "df1[\"VL_FOB/QT_ESTAT\"]=df1[\"VL_FOB\"]/df1[\"QT_ESTAT\"]"
   ]
  },
  {
   "cell_type": "code",
   "execution_count": 75,
   "metadata": {},
   "outputs": [
    {
     "data": {
      "text/plain": [
       "Index(['ANO-MES', 'CO_NCM', 'CO_UNID', 'CO_PAIS', 'SG_UF_NCM', 'CO_VIA',\n",
       "       'CO_URF', 'QT_ESTAT', 'KG_LIQUIDO', 'VL_FOB', 'câmbio_mês_atual',\n",
       "       'câmbio_mês_anterior', 'CO_NCM_final', 'CO_UNID_final', 'CO_PAIS_final',\n",
       "       'SG_UF_NCM_final', 'CO_VIA_final', 'VL_FOB/QT_ESTAT'],\n",
       "      dtype='object')"
      ]
     },
     "execution_count": 75,
     "metadata": {},
     "output_type": "execute_result"
    }
   ],
   "source": [
    "df1.columns"
   ]
  },
  {
   "cell_type": "code",
   "execution_count": 76,
   "metadata": {},
   "outputs": [
    {
     "data": {
      "text/html": [
       "<div>\n",
       "<style scoped>\n",
       "    .dataframe tbody tr th:only-of-type {\n",
       "        vertical-align: middle;\n",
       "    }\n",
       "\n",
       "    .dataframe tbody tr th {\n",
       "        vertical-align: top;\n",
       "    }\n",
       "\n",
       "    .dataframe thead th {\n",
       "        text-align: right;\n",
       "    }\n",
       "</style>\n",
       "<table border=\"1\" class=\"dataframe\">\n",
       "  <thead>\n",
       "    <tr style=\"text-align: right;\">\n",
       "      <th></th>\n",
       "      <th>ANO-MES</th>\n",
       "      <th>CO_NCM</th>\n",
       "      <th>CO_UNID</th>\n",
       "      <th>CO_PAIS</th>\n",
       "      <th>SG_UF_NCM</th>\n",
       "      <th>CO_VIA</th>\n",
       "      <th>CO_URF</th>\n",
       "      <th>QT_ESTAT</th>\n",
       "      <th>KG_LIQUIDO</th>\n",
       "      <th>VL_FOB</th>\n",
       "      <th>...</th>\n",
       "      <th>Mês_2019-03</th>\n",
       "      <th>Mês_2019-04</th>\n",
       "      <th>Mês_2019-05</th>\n",
       "      <th>Mês_2019-06</th>\n",
       "      <th>Mês_2019-07</th>\n",
       "      <th>Mês_2019-08</th>\n",
       "      <th>Mês_2019-09</th>\n",
       "      <th>Mês_2019-10</th>\n",
       "      <th>Mês_2019-11</th>\n",
       "      <th>Mês_2019-12</th>\n",
       "    </tr>\n",
       "  </thead>\n",
       "  <tbody>\n",
       "    <tr>\n",
       "      <th>9</th>\n",
       "      <td>2019-12</td>\n",
       "      <td>84719012</td>\n",
       "      <td>11</td>\n",
       "      <td>858</td>\n",
       "      <td>SP</td>\n",
       "      <td>4</td>\n",
       "      <td>817600</td>\n",
       "      <td>1</td>\n",
       "      <td>0</td>\n",
       "      <td>670</td>\n",
       "      <td>...</td>\n",
       "      <td>0</td>\n",
       "      <td>0</td>\n",
       "      <td>0</td>\n",
       "      <td>0</td>\n",
       "      <td>0</td>\n",
       "      <td>0</td>\n",
       "      <td>0</td>\n",
       "      <td>0</td>\n",
       "      <td>0</td>\n",
       "      <td>1</td>\n",
       "    </tr>\n",
       "    <tr>\n",
       "      <th>10</th>\n",
       "      <td>2019-12</td>\n",
       "      <td>84798210</td>\n",
       "      <td>11</td>\n",
       "      <td>249</td>\n",
       "      <td>SP</td>\n",
       "      <td>4</td>\n",
       "      <td>817600</td>\n",
       "      <td>15</td>\n",
       "      <td>240</td>\n",
       "      <td>29403</td>\n",
       "      <td>...</td>\n",
       "      <td>0</td>\n",
       "      <td>0</td>\n",
       "      <td>0</td>\n",
       "      <td>0</td>\n",
       "      <td>0</td>\n",
       "      <td>0</td>\n",
       "      <td>0</td>\n",
       "      <td>0</td>\n",
       "      <td>0</td>\n",
       "      <td>1</td>\n",
       "    </tr>\n",
       "    <tr>\n",
       "      <th>12</th>\n",
       "      <td>2019-12</td>\n",
       "      <td>84439923</td>\n",
       "      <td>10</td>\n",
       "      <td>858</td>\n",
       "      <td>SP</td>\n",
       "      <td>4</td>\n",
       "      <td>817600</td>\n",
       "      <td>413</td>\n",
       "      <td>413</td>\n",
       "      <td>92535</td>\n",
       "      <td>...</td>\n",
       "      <td>0</td>\n",
       "      <td>0</td>\n",
       "      <td>0</td>\n",
       "      <td>0</td>\n",
       "      <td>0</td>\n",
       "      <td>0</td>\n",
       "      <td>0</td>\n",
       "      <td>0</td>\n",
       "      <td>0</td>\n",
       "      <td>1</td>\n",
       "    </tr>\n",
       "  </tbody>\n",
       "</table>\n",
       "<p>3 rows × 30 columns</p>\n",
       "</div>"
      ],
      "text/plain": [
       "    ANO-MES    CO_NCM  CO_UNID  CO_PAIS SG_UF_NCM  CO_VIA  CO_URF  QT_ESTAT  \\\n",
       "9   2019-12  84719012       11      858        SP       4  817600         1   \n",
       "10  2019-12  84798210       11      249        SP       4  817600        15   \n",
       "12  2019-12  84439923       10      858        SP       4  817600       413   \n",
       "\n",
       "    KG_LIQUIDO  VL_FOB  ...  Mês_2019-03  Mês_2019-04  Mês_2019-05  \\\n",
       "9            0     670  ...            0            0            0   \n",
       "10         240   29403  ...            0            0            0   \n",
       "12         413   92535  ...            0            0            0   \n",
       "\n",
       "    Mês_2019-06  Mês_2019-07 Mês_2019-08  Mês_2019-09  Mês_2019-10  \\\n",
       "9             0            0           0            0            0   \n",
       "10            0            0           0            0            0   \n",
       "12            0            0           0            0            0   \n",
       "\n",
       "    Mês_2019-11  Mês_2019-12  \n",
       "9             0            1  \n",
       "10            0            1  \n",
       "12            0            1  \n",
       "\n",
       "[3 rows x 30 columns]"
      ]
     },
     "execution_count": 76,
     "metadata": {},
     "output_type": "execute_result"
    }
   ],
   "source": [
    "df_encoded = pd.concat([df1, pd.get_dummies(df1[\"ANO-MES\"],prefix=\"Mês\")], axis=1)\n",
    "df_encoded.head(3)"
   ]
  },
  {
   "cell_type": "code",
   "execution_count": 77,
   "metadata": {},
   "outputs": [
    {
     "data": {
      "text/html": [
       "<div>\n",
       "<style scoped>\n",
       "    .dataframe tbody tr th:only-of-type {\n",
       "        vertical-align: middle;\n",
       "    }\n",
       "\n",
       "    .dataframe tbody tr th {\n",
       "        vertical-align: top;\n",
       "    }\n",
       "\n",
       "    .dataframe thead th {\n",
       "        text-align: right;\n",
       "    }\n",
       "</style>\n",
       "<table border=\"1\" class=\"dataframe\">\n",
       "  <thead>\n",
       "    <tr style=\"text-align: right;\">\n",
       "      <th></th>\n",
       "      <th>ANO-MES</th>\n",
       "      <th>CO_NCM</th>\n",
       "      <th>CO_UNID</th>\n",
       "      <th>CO_PAIS</th>\n",
       "      <th>SG_UF_NCM</th>\n",
       "      <th>CO_VIA</th>\n",
       "      <th>CO_URF</th>\n",
       "      <th>QT_ESTAT</th>\n",
       "      <th>KG_LIQUIDO</th>\n",
       "      <th>VL_FOB</th>\n",
       "      <th>...</th>\n",
       "      <th>NCM_84836090</th>\n",
       "      <th>NCM_84839000</th>\n",
       "      <th>NCM_84841000</th>\n",
       "      <th>NCM_84842000</th>\n",
       "      <th>NCM_84849000</th>\n",
       "      <th>NCM_84864000</th>\n",
       "      <th>NCM_84869000</th>\n",
       "      <th>NCM_84871000</th>\n",
       "      <th>NCM_84879000</th>\n",
       "      <th>NCM_99999999</th>\n",
       "    </tr>\n",
       "  </thead>\n",
       "  <tbody>\n",
       "    <tr>\n",
       "      <th>9</th>\n",
       "      <td>2019-12</td>\n",
       "      <td>84719012</td>\n",
       "      <td>11</td>\n",
       "      <td>858</td>\n",
       "      <td>SP</td>\n",
       "      <td>4</td>\n",
       "      <td>817600</td>\n",
       "      <td>1</td>\n",
       "      <td>0</td>\n",
       "      <td>670</td>\n",
       "      <td>...</td>\n",
       "      <td>0</td>\n",
       "      <td>0</td>\n",
       "      <td>0</td>\n",
       "      <td>0</td>\n",
       "      <td>0</td>\n",
       "      <td>0</td>\n",
       "      <td>0</td>\n",
       "      <td>0</td>\n",
       "      <td>0</td>\n",
       "      <td>0</td>\n",
       "    </tr>\n",
       "    <tr>\n",
       "      <th>10</th>\n",
       "      <td>2019-12</td>\n",
       "      <td>84798210</td>\n",
       "      <td>11</td>\n",
       "      <td>249</td>\n",
       "      <td>SP</td>\n",
       "      <td>4</td>\n",
       "      <td>817600</td>\n",
       "      <td>15</td>\n",
       "      <td>240</td>\n",
       "      <td>29403</td>\n",
       "      <td>...</td>\n",
       "      <td>0</td>\n",
       "      <td>0</td>\n",
       "      <td>0</td>\n",
       "      <td>0</td>\n",
       "      <td>0</td>\n",
       "      <td>0</td>\n",
       "      <td>0</td>\n",
       "      <td>0</td>\n",
       "      <td>0</td>\n",
       "      <td>0</td>\n",
       "    </tr>\n",
       "    <tr>\n",
       "      <th>12</th>\n",
       "      <td>2019-12</td>\n",
       "      <td>84439923</td>\n",
       "      <td>10</td>\n",
       "      <td>858</td>\n",
       "      <td>SP</td>\n",
       "      <td>4</td>\n",
       "      <td>817600</td>\n",
       "      <td>413</td>\n",
       "      <td>413</td>\n",
       "      <td>92535</td>\n",
       "      <td>...</td>\n",
       "      <td>0</td>\n",
       "      <td>0</td>\n",
       "      <td>0</td>\n",
       "      <td>0</td>\n",
       "      <td>0</td>\n",
       "      <td>0</td>\n",
       "      <td>0</td>\n",
       "      <td>0</td>\n",
       "      <td>0</td>\n",
       "      <td>0</td>\n",
       "    </tr>\n",
       "  </tbody>\n",
       "</table>\n",
       "<p>3 rows × 496 columns</p>\n",
       "</div>"
      ],
      "text/plain": [
       "    ANO-MES    CO_NCM  CO_UNID  CO_PAIS SG_UF_NCM  CO_VIA  CO_URF  QT_ESTAT  \\\n",
       "9   2019-12  84719012       11      858        SP       4  817600         1   \n",
       "10  2019-12  84798210       11      249        SP       4  817600        15   \n",
       "12  2019-12  84439923       10      858        SP       4  817600       413   \n",
       "\n",
       "    KG_LIQUIDO  VL_FOB  ...  NCM_84836090  NCM_84839000  NCM_84841000  \\\n",
       "9            0     670  ...             0             0             0   \n",
       "10         240   29403  ...             0             0             0   \n",
       "12         413   92535  ...             0             0             0   \n",
       "\n",
       "    NCM_84842000  NCM_84849000 NCM_84864000  NCM_84869000  NCM_84871000  \\\n",
       "9              0             0            0             0             0   \n",
       "10             0             0            0             0             0   \n",
       "12             0             0            0             0             0   \n",
       "\n",
       "    NCM_84879000  NCM_99999999  \n",
       "9              0             0  \n",
       "10             0             0  \n",
       "12             0             0  \n",
       "\n",
       "[3 rows x 496 columns]"
      ]
     },
     "execution_count": 77,
     "metadata": {},
     "output_type": "execute_result"
    }
   ],
   "source": [
    "df_encoded = pd.concat([df_encoded, pd.get_dummies(df_encoded[\"CO_NCM_final\"],prefix=\"NCM\")], axis=1)\n",
    "df_encoded.head(3)"
   ]
  },
  {
   "cell_type": "code",
   "execution_count": 78,
   "metadata": {},
   "outputs": [
    {
     "data": {
      "text/html": [
       "<div>\n",
       "<style scoped>\n",
       "    .dataframe tbody tr th:only-of-type {\n",
       "        vertical-align: middle;\n",
       "    }\n",
       "\n",
       "    .dataframe tbody tr th {\n",
       "        vertical-align: top;\n",
       "    }\n",
       "\n",
       "    .dataframe thead th {\n",
       "        text-align: right;\n",
       "    }\n",
       "</style>\n",
       "<table border=\"1\" class=\"dataframe\">\n",
       "  <thead>\n",
       "    <tr style=\"text-align: right;\">\n",
       "      <th></th>\n",
       "      <th>ANO-MES</th>\n",
       "      <th>CO_NCM</th>\n",
       "      <th>CO_UNID</th>\n",
       "      <th>CO_PAIS</th>\n",
       "      <th>SG_UF_NCM</th>\n",
       "      <th>CO_VIA</th>\n",
       "      <th>CO_URF</th>\n",
       "      <th>QT_ESTAT</th>\n",
       "      <th>KG_LIQUIDO</th>\n",
       "      <th>VL_FOB</th>\n",
       "      <th>...</th>\n",
       "      <th>NCM_84841000</th>\n",
       "      <th>NCM_84842000</th>\n",
       "      <th>NCM_84849000</th>\n",
       "      <th>NCM_84864000</th>\n",
       "      <th>NCM_84869000</th>\n",
       "      <th>NCM_84871000</th>\n",
       "      <th>NCM_84879000</th>\n",
       "      <th>NCM_99999999</th>\n",
       "      <th>Un.Med.Est._10</th>\n",
       "      <th>Un.Med.Est._11</th>\n",
       "    </tr>\n",
       "  </thead>\n",
       "  <tbody>\n",
       "    <tr>\n",
       "      <th>9</th>\n",
       "      <td>2019-12</td>\n",
       "      <td>84719012</td>\n",
       "      <td>11</td>\n",
       "      <td>858</td>\n",
       "      <td>SP</td>\n",
       "      <td>4</td>\n",
       "      <td>817600</td>\n",
       "      <td>1</td>\n",
       "      <td>0</td>\n",
       "      <td>670</td>\n",
       "      <td>...</td>\n",
       "      <td>0</td>\n",
       "      <td>0</td>\n",
       "      <td>0</td>\n",
       "      <td>0</td>\n",
       "      <td>0</td>\n",
       "      <td>0</td>\n",
       "      <td>0</td>\n",
       "      <td>0</td>\n",
       "      <td>0</td>\n",
       "      <td>1</td>\n",
       "    </tr>\n",
       "    <tr>\n",
       "      <th>10</th>\n",
       "      <td>2019-12</td>\n",
       "      <td>84798210</td>\n",
       "      <td>11</td>\n",
       "      <td>249</td>\n",
       "      <td>SP</td>\n",
       "      <td>4</td>\n",
       "      <td>817600</td>\n",
       "      <td>15</td>\n",
       "      <td>240</td>\n",
       "      <td>29403</td>\n",
       "      <td>...</td>\n",
       "      <td>0</td>\n",
       "      <td>0</td>\n",
       "      <td>0</td>\n",
       "      <td>0</td>\n",
       "      <td>0</td>\n",
       "      <td>0</td>\n",
       "      <td>0</td>\n",
       "      <td>0</td>\n",
       "      <td>0</td>\n",
       "      <td>1</td>\n",
       "    </tr>\n",
       "    <tr>\n",
       "      <th>12</th>\n",
       "      <td>2019-12</td>\n",
       "      <td>84439923</td>\n",
       "      <td>10</td>\n",
       "      <td>858</td>\n",
       "      <td>SP</td>\n",
       "      <td>4</td>\n",
       "      <td>817600</td>\n",
       "      <td>413</td>\n",
       "      <td>413</td>\n",
       "      <td>92535</td>\n",
       "      <td>...</td>\n",
       "      <td>0</td>\n",
       "      <td>0</td>\n",
       "      <td>0</td>\n",
       "      <td>0</td>\n",
       "      <td>0</td>\n",
       "      <td>0</td>\n",
       "      <td>0</td>\n",
       "      <td>0</td>\n",
       "      <td>1</td>\n",
       "      <td>0</td>\n",
       "    </tr>\n",
       "  </tbody>\n",
       "</table>\n",
       "<p>3 rows × 498 columns</p>\n",
       "</div>"
      ],
      "text/plain": [
       "    ANO-MES    CO_NCM  CO_UNID  CO_PAIS SG_UF_NCM  CO_VIA  CO_URF  QT_ESTAT  \\\n",
       "9   2019-12  84719012       11      858        SP       4  817600         1   \n",
       "10  2019-12  84798210       11      249        SP       4  817600        15   \n",
       "12  2019-12  84439923       10      858        SP       4  817600       413   \n",
       "\n",
       "    KG_LIQUIDO  VL_FOB  ...  NCM_84841000  NCM_84842000  NCM_84849000  \\\n",
       "9            0     670  ...             0             0             0   \n",
       "10         240   29403  ...             0             0             0   \n",
       "12         413   92535  ...             0             0             0   \n",
       "\n",
       "    NCM_84864000  NCM_84869000 NCM_84871000  NCM_84879000  NCM_99999999  \\\n",
       "9              0             0            0             0             0   \n",
       "10             0             0            0             0             0   \n",
       "12             0             0            0             0             0   \n",
       "\n",
       "    Un.Med.Est._10  Un.Med.Est._11  \n",
       "9                0               1  \n",
       "10               0               1  \n",
       "12               1               0  \n",
       "\n",
       "[3 rows x 498 columns]"
      ]
     },
     "execution_count": 78,
     "metadata": {},
     "output_type": "execute_result"
    }
   ],
   "source": [
    "df_encoded = pd.concat([df_encoded, pd.get_dummies(df_encoded[\"CO_UNID_final\"],prefix=\"Un.Med.Est.\")], axis=1)\n",
    "df_encoded.head(3)"
   ]
  },
  {
   "cell_type": "code",
   "execution_count": 79,
   "metadata": {},
   "outputs": [
    {
     "data": {
      "text/html": [
       "<div>\n",
       "<style scoped>\n",
       "    .dataframe tbody tr th:only-of-type {\n",
       "        vertical-align: middle;\n",
       "    }\n",
       "\n",
       "    .dataframe tbody tr th {\n",
       "        vertical-align: top;\n",
       "    }\n",
       "\n",
       "    .dataframe thead th {\n",
       "        text-align: right;\n",
       "    }\n",
       "</style>\n",
       "<table border=\"1\" class=\"dataframe\">\n",
       "  <thead>\n",
       "    <tr style=\"text-align: right;\">\n",
       "      <th></th>\n",
       "      <th>ANO-MES</th>\n",
       "      <th>CO_NCM</th>\n",
       "      <th>CO_UNID</th>\n",
       "      <th>CO_PAIS</th>\n",
       "      <th>SG_UF_NCM</th>\n",
       "      <th>CO_VIA</th>\n",
       "      <th>CO_URF</th>\n",
       "      <th>QT_ESTAT</th>\n",
       "      <th>KG_LIQUIDO</th>\n",
       "      <th>VL_FOB</th>\n",
       "      <th>...</th>\n",
       "      <th>Pais_603</th>\n",
       "      <th>Pais_628</th>\n",
       "      <th>Pais_741</th>\n",
       "      <th>Pais_764</th>\n",
       "      <th>Pais_767</th>\n",
       "      <th>Pais_776</th>\n",
       "      <th>Pais_791</th>\n",
       "      <th>Pais_827</th>\n",
       "      <th>Pais_858</th>\n",
       "      <th>Pais_999</th>\n",
       "    </tr>\n",
       "  </thead>\n",
       "  <tbody>\n",
       "    <tr>\n",
       "      <th>9</th>\n",
       "      <td>2019-12</td>\n",
       "      <td>84719012</td>\n",
       "      <td>11</td>\n",
       "      <td>858</td>\n",
       "      <td>SP</td>\n",
       "      <td>4</td>\n",
       "      <td>817600</td>\n",
       "      <td>1</td>\n",
       "      <td>0</td>\n",
       "      <td>670</td>\n",
       "      <td>...</td>\n",
       "      <td>0</td>\n",
       "      <td>0</td>\n",
       "      <td>0</td>\n",
       "      <td>0</td>\n",
       "      <td>0</td>\n",
       "      <td>0</td>\n",
       "      <td>0</td>\n",
       "      <td>0</td>\n",
       "      <td>1</td>\n",
       "      <td>0</td>\n",
       "    </tr>\n",
       "    <tr>\n",
       "      <th>10</th>\n",
       "      <td>2019-12</td>\n",
       "      <td>84798210</td>\n",
       "      <td>11</td>\n",
       "      <td>249</td>\n",
       "      <td>SP</td>\n",
       "      <td>4</td>\n",
       "      <td>817600</td>\n",
       "      <td>15</td>\n",
       "      <td>240</td>\n",
       "      <td>29403</td>\n",
       "      <td>...</td>\n",
       "      <td>0</td>\n",
       "      <td>0</td>\n",
       "      <td>0</td>\n",
       "      <td>0</td>\n",
       "      <td>0</td>\n",
       "      <td>0</td>\n",
       "      <td>0</td>\n",
       "      <td>0</td>\n",
       "      <td>0</td>\n",
       "      <td>0</td>\n",
       "    </tr>\n",
       "    <tr>\n",
       "      <th>12</th>\n",
       "      <td>2019-12</td>\n",
       "      <td>84439923</td>\n",
       "      <td>10</td>\n",
       "      <td>858</td>\n",
       "      <td>SP</td>\n",
       "      <td>4</td>\n",
       "      <td>817600</td>\n",
       "      <td>413</td>\n",
       "      <td>413</td>\n",
       "      <td>92535</td>\n",
       "      <td>...</td>\n",
       "      <td>0</td>\n",
       "      <td>0</td>\n",
       "      <td>0</td>\n",
       "      <td>0</td>\n",
       "      <td>0</td>\n",
       "      <td>0</td>\n",
       "      <td>0</td>\n",
       "      <td>0</td>\n",
       "      <td>1</td>\n",
       "      <td>0</td>\n",
       "    </tr>\n",
       "  </tbody>\n",
       "</table>\n",
       "<p>3 rows × 531 columns</p>\n",
       "</div>"
      ],
      "text/plain": [
       "    ANO-MES    CO_NCM  CO_UNID  CO_PAIS SG_UF_NCM  CO_VIA  CO_URF  QT_ESTAT  \\\n",
       "9   2019-12  84719012       11      858        SP       4  817600         1   \n",
       "10  2019-12  84798210       11      249        SP       4  817600        15   \n",
       "12  2019-12  84439923       10      858        SP       4  817600       413   \n",
       "\n",
       "    KG_LIQUIDO  VL_FOB  ...  Pais_603  Pais_628  Pais_741  Pais_764  Pais_767  \\\n",
       "9            0     670  ...         0         0         0         0         0   \n",
       "10         240   29403  ...         0         0         0         0         0   \n",
       "12         413   92535  ...         0         0         0         0         0   \n",
       "\n",
       "   Pais_776  Pais_791  Pais_827  Pais_858  Pais_999  \n",
       "9         0         0         0         1         0  \n",
       "10        0         0         0         0         0  \n",
       "12        0         0         0         1         0  \n",
       "\n",
       "[3 rows x 531 columns]"
      ]
     },
     "execution_count": 79,
     "metadata": {},
     "output_type": "execute_result"
    }
   ],
   "source": [
    "df_encoded = pd.concat([df_encoded, pd.get_dummies(df_encoded[\"CO_PAIS_final\"],prefix=\"Pais\")], axis=1)\n",
    "df_encoded.head(3)"
   ]
  },
  {
   "cell_type": "code",
   "execution_count": 80,
   "metadata": {},
   "outputs": [
    {
     "data": {
      "text/html": [
       "<div>\n",
       "<style scoped>\n",
       "    .dataframe tbody tr th:only-of-type {\n",
       "        vertical-align: middle;\n",
       "    }\n",
       "\n",
       "    .dataframe tbody tr th {\n",
       "        vertical-align: top;\n",
       "    }\n",
       "\n",
       "    .dataframe thead th {\n",
       "        text-align: right;\n",
       "    }\n",
       "</style>\n",
       "<table border=\"1\" class=\"dataframe\">\n",
       "  <thead>\n",
       "    <tr style=\"text-align: right;\">\n",
       "      <th></th>\n",
       "      <th>ANO-MES</th>\n",
       "      <th>CO_NCM</th>\n",
       "      <th>CO_UNID</th>\n",
       "      <th>CO_PAIS</th>\n",
       "      <th>SG_UF_NCM</th>\n",
       "      <th>CO_VIA</th>\n",
       "      <th>CO_URF</th>\n",
       "      <th>QT_ESTAT</th>\n",
       "      <th>KG_LIQUIDO</th>\n",
       "      <th>VL_FOB</th>\n",
       "      <th>...</th>\n",
       "      <th>UF_BA</th>\n",
       "      <th>UF_ES</th>\n",
       "      <th>UF_GO</th>\n",
       "      <th>UF_MG</th>\n",
       "      <th>UF_PA</th>\n",
       "      <th>UF_PR</th>\n",
       "      <th>UF_RJ</th>\n",
       "      <th>UF_RS</th>\n",
       "      <th>UF_SC</th>\n",
       "      <th>UF_SP</th>\n",
       "    </tr>\n",
       "  </thead>\n",
       "  <tbody>\n",
       "    <tr>\n",
       "      <th>9</th>\n",
       "      <td>2019-12</td>\n",
       "      <td>84719012</td>\n",
       "      <td>11</td>\n",
       "      <td>858</td>\n",
       "      <td>SP</td>\n",
       "      <td>4</td>\n",
       "      <td>817600</td>\n",
       "      <td>1</td>\n",
       "      <td>0</td>\n",
       "      <td>670</td>\n",
       "      <td>...</td>\n",
       "      <td>0</td>\n",
       "      <td>0</td>\n",
       "      <td>0</td>\n",
       "      <td>0</td>\n",
       "      <td>0</td>\n",
       "      <td>0</td>\n",
       "      <td>0</td>\n",
       "      <td>0</td>\n",
       "      <td>0</td>\n",
       "      <td>1</td>\n",
       "    </tr>\n",
       "    <tr>\n",
       "      <th>10</th>\n",
       "      <td>2019-12</td>\n",
       "      <td>84798210</td>\n",
       "      <td>11</td>\n",
       "      <td>249</td>\n",
       "      <td>SP</td>\n",
       "      <td>4</td>\n",
       "      <td>817600</td>\n",
       "      <td>15</td>\n",
       "      <td>240</td>\n",
       "      <td>29403</td>\n",
       "      <td>...</td>\n",
       "      <td>0</td>\n",
       "      <td>0</td>\n",
       "      <td>0</td>\n",
       "      <td>0</td>\n",
       "      <td>0</td>\n",
       "      <td>0</td>\n",
       "      <td>0</td>\n",
       "      <td>0</td>\n",
       "      <td>0</td>\n",
       "      <td>1</td>\n",
       "    </tr>\n",
       "    <tr>\n",
       "      <th>12</th>\n",
       "      <td>2019-12</td>\n",
       "      <td>84439923</td>\n",
       "      <td>10</td>\n",
       "      <td>858</td>\n",
       "      <td>SP</td>\n",
       "      <td>4</td>\n",
       "      <td>817600</td>\n",
       "      <td>413</td>\n",
       "      <td>413</td>\n",
       "      <td>92535</td>\n",
       "      <td>...</td>\n",
       "      <td>0</td>\n",
       "      <td>0</td>\n",
       "      <td>0</td>\n",
       "      <td>0</td>\n",
       "      <td>0</td>\n",
       "      <td>0</td>\n",
       "      <td>0</td>\n",
       "      <td>0</td>\n",
       "      <td>0</td>\n",
       "      <td>1</td>\n",
       "    </tr>\n",
       "  </tbody>\n",
       "</table>\n",
       "<p>3 rows × 543 columns</p>\n",
       "</div>"
      ],
      "text/plain": [
       "    ANO-MES    CO_NCM  CO_UNID  CO_PAIS SG_UF_NCM  CO_VIA  CO_URF  QT_ESTAT  \\\n",
       "9   2019-12  84719012       11      858        SP       4  817600         1   \n",
       "10  2019-12  84798210       11      249        SP       4  817600        15   \n",
       "12  2019-12  84439923       10      858        SP       4  817600       413   \n",
       "\n",
       "    KG_LIQUIDO  VL_FOB  ...  UF_BA  UF_ES  UF_GO  UF_MG  UF_PA UF_PR  UF_RJ  \\\n",
       "9            0     670  ...      0      0      0      0      0     0      0   \n",
       "10         240   29403  ...      0      0      0      0      0     0      0   \n",
       "12         413   92535  ...      0      0      0      0      0     0      0   \n",
       "\n",
       "    UF_RS  UF_SC  UF_SP  \n",
       "9       0      0      1  \n",
       "10      0      0      1  \n",
       "12      0      0      1  \n",
       "\n",
       "[3 rows x 543 columns]"
      ]
     },
     "execution_count": 80,
     "metadata": {},
     "output_type": "execute_result"
    }
   ],
   "source": [
    "df_encoded = pd.concat([df_encoded, pd.get_dummies(df_encoded[\"SG_UF_NCM_final\"],prefix=\"UF\")], axis=1)\n",
    "df_encoded.head(3)"
   ]
  },
  {
   "cell_type": "code",
   "execution_count": 81,
   "metadata": {},
   "outputs": [
    {
     "data": {
      "text/html": [
       "<div>\n",
       "<style scoped>\n",
       "    .dataframe tbody tr th:only-of-type {\n",
       "        vertical-align: middle;\n",
       "    }\n",
       "\n",
       "    .dataframe tbody tr th {\n",
       "        vertical-align: top;\n",
       "    }\n",
       "\n",
       "    .dataframe thead th {\n",
       "        text-align: right;\n",
       "    }\n",
       "</style>\n",
       "<table border=\"1\" class=\"dataframe\">\n",
       "  <thead>\n",
       "    <tr style=\"text-align: right;\">\n",
       "      <th></th>\n",
       "      <th>ANO-MES</th>\n",
       "      <th>CO_NCM</th>\n",
       "      <th>CO_UNID</th>\n",
       "      <th>CO_PAIS</th>\n",
       "      <th>SG_UF_NCM</th>\n",
       "      <th>CO_VIA</th>\n",
       "      <th>CO_URF</th>\n",
       "      <th>QT_ESTAT</th>\n",
       "      <th>KG_LIQUIDO</th>\n",
       "      <th>VL_FOB</th>\n",
       "      <th>...</th>\n",
       "      <th>UF_PA</th>\n",
       "      <th>UF_PR</th>\n",
       "      <th>UF_RJ</th>\n",
       "      <th>UF_RS</th>\n",
       "      <th>UF_SC</th>\n",
       "      <th>UF_SP</th>\n",
       "      <th>Modal_1</th>\n",
       "      <th>Modal_4</th>\n",
       "      <th>Modal_7</th>\n",
       "      <th>Modal_99</th>\n",
       "    </tr>\n",
       "  </thead>\n",
       "  <tbody>\n",
       "    <tr>\n",
       "      <th>9</th>\n",
       "      <td>2019-12</td>\n",
       "      <td>84719012</td>\n",
       "      <td>11</td>\n",
       "      <td>858</td>\n",
       "      <td>SP</td>\n",
       "      <td>4</td>\n",
       "      <td>817600</td>\n",
       "      <td>1</td>\n",
       "      <td>0</td>\n",
       "      <td>670</td>\n",
       "      <td>...</td>\n",
       "      <td>0</td>\n",
       "      <td>0</td>\n",
       "      <td>0</td>\n",
       "      <td>0</td>\n",
       "      <td>0</td>\n",
       "      <td>1</td>\n",
       "      <td>0</td>\n",
       "      <td>1</td>\n",
       "      <td>0</td>\n",
       "      <td>0</td>\n",
       "    </tr>\n",
       "    <tr>\n",
       "      <th>10</th>\n",
       "      <td>2019-12</td>\n",
       "      <td>84798210</td>\n",
       "      <td>11</td>\n",
       "      <td>249</td>\n",
       "      <td>SP</td>\n",
       "      <td>4</td>\n",
       "      <td>817600</td>\n",
       "      <td>15</td>\n",
       "      <td>240</td>\n",
       "      <td>29403</td>\n",
       "      <td>...</td>\n",
       "      <td>0</td>\n",
       "      <td>0</td>\n",
       "      <td>0</td>\n",
       "      <td>0</td>\n",
       "      <td>0</td>\n",
       "      <td>1</td>\n",
       "      <td>0</td>\n",
       "      <td>1</td>\n",
       "      <td>0</td>\n",
       "      <td>0</td>\n",
       "    </tr>\n",
       "    <tr>\n",
       "      <th>12</th>\n",
       "      <td>2019-12</td>\n",
       "      <td>84439923</td>\n",
       "      <td>10</td>\n",
       "      <td>858</td>\n",
       "      <td>SP</td>\n",
       "      <td>4</td>\n",
       "      <td>817600</td>\n",
       "      <td>413</td>\n",
       "      <td>413</td>\n",
       "      <td>92535</td>\n",
       "      <td>...</td>\n",
       "      <td>0</td>\n",
       "      <td>0</td>\n",
       "      <td>0</td>\n",
       "      <td>0</td>\n",
       "      <td>0</td>\n",
       "      <td>1</td>\n",
       "      <td>0</td>\n",
       "      <td>1</td>\n",
       "      <td>0</td>\n",
       "      <td>0</td>\n",
       "    </tr>\n",
       "  </tbody>\n",
       "</table>\n",
       "<p>3 rows × 547 columns</p>\n",
       "</div>"
      ],
      "text/plain": [
       "    ANO-MES    CO_NCM  CO_UNID  CO_PAIS SG_UF_NCM  CO_VIA  CO_URF  QT_ESTAT  \\\n",
       "9   2019-12  84719012       11      858        SP       4  817600         1   \n",
       "10  2019-12  84798210       11      249        SP       4  817600        15   \n",
       "12  2019-12  84439923       10      858        SP       4  817600       413   \n",
       "\n",
       "    KG_LIQUIDO  VL_FOB  ...  UF_PA  UF_PR  UF_RJ  UF_RS  UF_SC UF_SP  Modal_1  \\\n",
       "9            0     670  ...      0      0      0      0      0     1        0   \n",
       "10         240   29403  ...      0      0      0      0      0     1        0   \n",
       "12         413   92535  ...      0      0      0      0      0     1        0   \n",
       "\n",
       "    Modal_4  Modal_7  Modal_99  \n",
       "9         1        0         0  \n",
       "10        1        0         0  \n",
       "12        1        0         0  \n",
       "\n",
       "[3 rows x 547 columns]"
      ]
     },
     "execution_count": 81,
     "metadata": {},
     "output_type": "execute_result"
    }
   ],
   "source": [
    "df_encoded = pd.concat([df_encoded, pd.get_dummies(df_encoded[\"CO_VIA_final\"],prefix=\"Modal\")], axis=1)\n",
    "df_encoded.head(3)"
   ]
  },
  {
   "cell_type": "code",
   "execution_count": 82,
   "metadata": {},
   "outputs": [],
   "source": [
    "# Exclusão das colunas das variáveis categóricas (que deram origem às variáveis dummie)\n",
    "df_encoded = df_encoded.drop(columns=['ANO-MES', 'CO_NCM', 'CO_UNID', 'CO_PAIS', 'SG_UF_NCM', 'CO_VIA',\n",
    "       'CO_URF', 'KG_LIQUIDO', 'VL_FOB', 'CO_NCM_final', 'CO_UNID_final', 'CO_PAIS_final',\n",
    "       'SG_UF_NCM_final', 'CO_VIA_final'])"
   ]
  },
  {
   "cell_type": "code",
   "execution_count": 83,
   "metadata": {},
   "outputs": [
    {
     "data": {
      "text/plain": [
       "Index(['QT_ESTAT', 'câmbio_mês_atual', 'câmbio_mês_anterior',\n",
       "       'VL_FOB/QT_ESTAT', 'Mês_2019-01', 'Mês_2019-02', 'Mês_2019-03',\n",
       "       'Mês_2019-04', 'Mês_2019-05', 'Mês_2019-06',\n",
       "       ...\n",
       "       'UF_PA', 'UF_PR', 'UF_RJ', 'UF_RS', 'UF_SC', 'UF_SP', 'Modal_1',\n",
       "       'Modal_4', 'Modal_7', 'Modal_99'],\n",
       "      dtype='object', length=533)"
      ]
     },
     "execution_count": 83,
     "metadata": {},
     "output_type": "execute_result"
    }
   ],
   "source": [
    "df_encoded.columns"
   ]
  },
  {
   "cell_type": "code",
   "execution_count": 84,
   "metadata": {},
   "outputs": [
    {
     "name": "stdout",
     "output_type": "stream",
     "text": [
      "<class 'pandas.core.frame.DataFrame'>\n",
      "Int64Index: 366185 entries, 9 to 1764431\n",
      "Columns: 533 entries, QT_ESTAT to Modal_99\n",
      "dtypes: float64(3), int64(1), uint8(529)\n",
      "memory usage: 208.7 MB\n"
     ]
    }
   ],
   "source": [
    "df_encoded.info()"
   ]
  },
  {
   "cell_type": "markdown",
   "metadata": {},
   "source": [
    "Devido a problemas de falta de memória para o cálculo da correlação das variáveis do df_encoded com a variável alvo df_encoded [\"VL_FOB/QT_ESTAT\"], optou-se por fracionar o df_encoded, dividindo-o em 4 partes, mantendo-se, em todas elas, a variável alvo VL_FOB/QT_ESTAT e, desse forma, tentar calcular a correlação em partes (o importante seria manter a variável alvo, pois o que se busca é identificar quais as variáveis do df_encoded mais se relacionam com a variável alvo e, dessa forma, adotá-las para a implementação do modelo de ML)"
   ]
  },
  {
   "cell_type": "code",
   "execution_count": 85,
   "metadata": {},
   "outputs": [],
   "source": [
    "df_encoded1de4=df_encoded.iloc[:,0:130]"
   ]
  },
  {
   "cell_type": "code",
   "execution_count": 86,
   "metadata": {},
   "outputs": [
    {
     "name": "stdout",
     "output_type": "stream",
     "text": [
      "<class 'pandas.core.frame.DataFrame'>\n",
      "Int64Index: 366185 entries, 9 to 1764431\n",
      "Columns: 130 entries, QT_ESTAT to NCM_84198190\n",
      "dtypes: float64(3), int64(1), uint8(126)\n",
      "memory usage: 68.0 MB\n"
     ]
    }
   ],
   "source": [
    "df_encoded1de4.info()"
   ]
  },
  {
   "cell_type": "code",
   "execution_count": 87,
   "metadata": {},
   "outputs": [],
   "source": [
    "df_encoded2de4=df_encoded.iloc[:,130:260]"
   ]
  },
  {
   "cell_type": "code",
   "execution_count": 88,
   "metadata": {},
   "outputs": [],
   "source": [
    "df_encoded2de4[\"VL_FOB/QT_ESTAT\"]=df_encoded[\"VL_FOB/QT_ESTAT\"]"
   ]
  },
  {
   "cell_type": "code",
   "execution_count": 89,
   "metadata": {},
   "outputs": [
    {
     "name": "stdout",
     "output_type": "stream",
     "text": [
      "<class 'pandas.core.frame.DataFrame'>\n",
      "Int64Index: 366185 entries, 9 to 1764431\n",
      "Columns: 131 entries, NCM_84198920 to VL_FOB/QT_ESTAT\n",
      "dtypes: float64(1), uint8(130)\n",
      "memory usage: 61.0 MB\n"
     ]
    }
   ],
   "source": [
    "df_encoded2de4.info()"
   ]
  },
  {
   "cell_type": "code",
   "execution_count": 90,
   "metadata": {},
   "outputs": [],
   "source": [
    "df_encoded3de4=df_encoded.iloc[:,260:390]"
   ]
  },
  {
   "cell_type": "code",
   "execution_count": 91,
   "metadata": {},
   "outputs": [],
   "source": [
    "df_encoded3de4[\"VL_FOB/QT_ESTAT\"]=df_encoded[\"VL_FOB/QT_ESTAT\"]"
   ]
  },
  {
   "cell_type": "code",
   "execution_count": 92,
   "metadata": {},
   "outputs": [
    {
     "name": "stdout",
     "output_type": "stream",
     "text": [
      "<class 'pandas.core.frame.DataFrame'>\n",
      "Int64Index: 366185 entries, 9 to 1764431\n",
      "Columns: 131 entries, NCM_84439950 to VL_FOB/QT_ESTAT\n",
      "dtypes: float64(1), uint8(130)\n",
      "memory usage: 61.0 MB\n"
     ]
    }
   ],
   "source": [
    "df_encoded3de4.info()"
   ]
  },
  {
   "cell_type": "code",
   "execution_count": 93,
   "metadata": {},
   "outputs": [],
   "source": [
    "df_encoded4de4=df_encoded.iloc[:,390:]"
   ]
  },
  {
   "cell_type": "code",
   "execution_count": 94,
   "metadata": {},
   "outputs": [],
   "source": [
    "df_encoded4de4[\"VL_FOB/QT_ESTAT\"]=df_encoded[\"VL_FOB/QT_ESTAT\"]"
   ]
  },
  {
   "cell_type": "code",
   "execution_count": 95,
   "metadata": {},
   "outputs": [
    {
     "name": "stdout",
     "output_type": "stream",
     "text": [
      "<class 'pandas.core.frame.DataFrame'>\n",
      "Int64Index: 366185 entries, 9 to 1764431\n",
      "Columns: 144 entries, NCM_84734070 to VL_FOB/QT_ESTAT\n",
      "dtypes: float64(1), uint8(143)\n",
      "memory usage: 65.5 MB\n"
     ]
    }
   ],
   "source": [
    "df_encoded4de4.info()"
   ]
  },
  {
   "cell_type": "code",
   "execution_count": 96,
   "metadata": {},
   "outputs": [],
   "source": [
    "# Identificação das variáveis que mais se relacionam com a variável alvo (\"VL_FOB/QT_ESTAT\")\n",
    "#correlacoes = df_encoded.corr().abs()[\"VL_FOB/QT_ESTAT\"].sort_values()\n",
    "#correlacoes"
   ]
  },
  {
   "cell_type": "code",
   "execution_count": 97,
   "metadata": {},
   "outputs": [
    {
     "data": {
      "text/plain": [
       "NCM_84137090       0.000025\n",
       "NCM_84148031       0.000057\n",
       "NCM_84148022       0.000060\n",
       "NCM_84186999       0.000069\n",
       "NCM_84148029       0.000076\n",
       "                     ...   \n",
       "NCM_84139190       0.001886\n",
       "Mês_2019-10        0.001899\n",
       "NCM_84081090       0.002229\n",
       "Mês_2019-08        0.004935\n",
       "VL_FOB/QT_ESTAT    1.000000\n",
       "Name: VL_FOB/QT_ESTAT, Length: 130, dtype: float64"
      ]
     },
     "execution_count": 97,
     "metadata": {},
     "output_type": "execute_result"
    }
   ],
   "source": [
    "# como o cálculo das correlações para todo o df_encoded (código imediatamente acima) deu erro, faremos por partes:\n",
    "correlacoes1de4 = df_encoded1de4.corr().abs()[\"VL_FOB/QT_ESTAT\"].sort_values()\n",
    "correlacoes1de4"
   ]
  },
  {
   "cell_type": "code",
   "execution_count": 98,
   "metadata": {},
   "outputs": [
    {
     "data": {
      "text/plain": [
       "NCM_84253990       0.000028\n",
       "NCM_84212200       0.000048\n",
       "NCM_84248229       0.000074\n",
       "NCM_84306990       0.000078\n",
       "NCM_84243090       0.000079\n",
       "                     ...   \n",
       "NCM_84223010       0.004473\n",
       "NCM_84223029       0.005554\n",
       "NCM_84198999       0.006651\n",
       "NCM_84224090       0.007213\n",
       "VL_FOB/QT_ESTAT    1.000000\n",
       "Name: VL_FOB/QT_ESTAT, Length: 131, dtype: float64"
      ]
     },
     "execution_count": 98,
     "metadata": {},
     "output_type": "execute_result"
    }
   ],
   "source": [
    "correlacoes2de4 = df_encoded2de4.corr().abs()[\"VL_FOB/QT_ESTAT\"].sort_values()\n",
    "correlacoes2de4"
   ]
  },
  {
   "cell_type": "code",
   "execution_count": 99,
   "metadata": {},
   "outputs": [
    {
     "data": {
      "text/plain": [
       "NCM_84569000       0.000067\n",
       "NCM_84717090       0.000134\n",
       "NCM_84615020       0.000166\n",
       "NCM_84596900       0.000180\n",
       "NCM_84592900       0.000182\n",
       "                     ...   \n",
       "NCM_84622100       0.004573\n",
       "NCM_84581199       0.004838\n",
       "NCM_84621090       0.005557\n",
       "NCM_84571000       0.008360\n",
       "VL_FOB/QT_ESTAT    1.000000\n",
       "Name: VL_FOB/QT_ESTAT, Length: 131, dtype: float64"
      ]
     },
     "execution_count": 99,
     "metadata": {},
     "output_type": "execute_result"
    }
   ],
   "source": [
    "correlacoes3de4 = df_encoded3de4.corr().abs()[\"VL_FOB/QT_ESTAT\"].sort_values()\n",
    "correlacoes3de4"
   ]
  },
  {
   "cell_type": "code",
   "execution_count": 100,
   "metadata": {},
   "outputs": [
    {
     "data": {
      "text/plain": [
       "Pais_72            0.000007\n",
       "UF_RS              0.000027\n",
       "UF_BA              0.000082\n",
       "NCM_84871000       0.000121\n",
       "NCM_84834010       0.000123\n",
       "                     ...   \n",
       "Un.Med.Est._11     0.012241\n",
       "Modal_4            0.014540\n",
       "Modal_99           0.030472\n",
       "NCM_99999999       0.035412\n",
       "VL_FOB/QT_ESTAT    1.000000\n",
       "Name: VL_FOB/QT_ESTAT, Length: 144, dtype: float64"
      ]
     },
     "execution_count": 100,
     "metadata": {},
     "output_type": "execute_result"
    }
   ],
   "source": [
    "correlacoes4de4 = df_encoded4de4.corr().abs()[\"VL_FOB/QT_ESTAT\"].sort_values()\n",
    "correlacoes4de4"
   ]
  },
  {
   "cell_type": "code",
   "execution_count": 101,
   "metadata": {},
   "outputs": [],
   "source": [
    "correlacoes = pd.concat([correlacoes1de4, correlacoes2de4, correlacoes3de4, correlacoes4de4])"
   ]
  },
  {
   "cell_type": "code",
   "execution_count": 102,
   "metadata": {},
   "outputs": [],
   "source": [
    "correlacoes.drop_duplicates(inplace=True)"
   ]
  },
  {
   "cell_type": "code",
   "execution_count": 103,
   "metadata": {},
   "outputs": [
    {
     "data": {
      "text/plain": [
       "VL_FOB/QT_ESTAT    1.000000\n",
       "NCM_99999999       0.035412\n",
       "Modal_99           0.030472\n",
       "Modal_4            0.014540\n",
       "Un.Med.Est._11     0.012241\n",
       "Un.Med.Est._10     0.012241\n",
       "NCM_84818093       0.010451\n",
       "UF_RJ              0.009399\n",
       "Pais_767           0.008680\n",
       "NCM_84818099       0.008613\n",
       "NCM_84571000       0.008360\n",
       "Modal_1            0.008245\n",
       "NCM_84224090       0.007213\n",
       "NCM_84198999       0.006651\n",
       "Pais_999           0.005866\n",
       "NCM_84771011       0.005852\n",
       "NCM_84778090       0.005560\n",
       "NCM_84621090       0.005557\n",
       "NCM_84223029       0.005554\n",
       "UF_SP              0.005135\n",
       "Name: VL_FOB/QT_ESTAT, dtype: float64"
      ]
     },
     "execution_count": 103,
     "metadata": {},
     "output_type": "execute_result"
    }
   ],
   "source": [
    "correlacoes.sort_values(ascending=False).head(20)"
   ]
  },
  {
   "cell_type": "code",
   "execution_count": 104,
   "metadata": {},
   "outputs": [
    {
     "name": "stdout",
     "output_type": "stream",
     "text": [
      "<class 'pandas.core.frame.DataFrame'>\n",
      "Int64Index: 366185 entries, 9 to 1764431\n",
      "Data columns (total 7 columns):\n",
      " #   Column           Non-Null Count   Dtype  \n",
      "---  ------           --------------   -----  \n",
      " 0   NCM_99999999     366185 non-null  uint8  \n",
      " 1   Modal_99         366185 non-null  uint8  \n",
      " 2   Modal_4          366185 non-null  uint8  \n",
      " 3   Un.Med.Est._11   366185 non-null  uint8  \n",
      " 4   Un.Med.Est._10   366185 non-null  uint8  \n",
      " 5   NCM_84818093     366185 non-null  uint8  \n",
      " 6   VL_FOB/QT_ESTAT  366185 non-null  float64\n",
      "dtypes: float64(1), uint8(6)\n",
      "memory usage: 17.7 MB\n"
     ]
    }
   ],
   "source": [
    "# Selecionando as features com as maiores correlações (maior ou igual a 0,005) para serem mantidas e excluídas as demais\n",
    "df2=df_encoded[[\"NCM_99999999\",\"Modal_99\",\"Modal_4\",\"Un.Med.Est._11\",\"Un.Med.Est._10\",\"NCM_84818093\",\"VL_FOB/QT_ESTAT\"]]\n",
    "df2.info()"
   ]
  },
  {
   "cell_type": "code",
   "execution_count": 105,
   "metadata": {},
   "outputs": [],
   "source": [
    "#Checar se existe correlação entre as features selecionadas\n",
    "import matplotlib.pyplot as plt\n",
    "import seaborn as sns\n",
    "%matplotlib inline"
   ]
  },
  {
   "cell_type": "code",
   "execution_count": 106,
   "metadata": {
    "scrolled": true
   },
   "outputs": [
    {
     "data": {
      "text/plain": [
       "<AxesSubplot:>"
      ]
     },
     "execution_count": 106,
     "metadata": {},
     "output_type": "execute_result"
    },
    {
     "data": {
      "image/png": "[encoded data removed]",
      "text/plain": [
       "<Figure size 432x288 with 2 Axes>"
      ]
     },
     "metadata": {
      "needs_background": "light"
     },
     "output_type": "display_data"
    }
   ],
   "source": [
    "sns.heatmap(df2.corr(),cmap=\"coolwarm\", annot=False )"
   ]
  },
  {
   "cell_type": "code",
   "execution_count": 107,
   "metadata": {},
   "outputs": [],
   "source": [
    "#Considerando que as Un.Med.Est._11 e Un.Med.Est._10 estão fortemente relacionadas, irei retirar uma delas antes da elaboração do modelo\n",
    "df2=df2.drop(columns=\"Un.Med.Est._11\")"
   ]
  },
  {
   "cell_type": "markdown",
   "metadata": {},
   "source": [
    "# Dividindo o dataset em \"base de teste\" e \"base de treinamento\""
   ]
  },
  {
   "cell_type": "code",
   "execution_count": 108,
   "metadata": {},
   "outputs": [
    {
     "data": {
      "text/plain": [
       "Index(['NCM_99999999', 'Modal_99', 'Modal_4', 'Un.Med.Est._10', 'NCM_84818093',\n",
       "       'VL_FOB/QT_ESTAT'],\n",
       "      dtype='object')"
      ]
     },
     "execution_count": 108,
     "metadata": {},
     "output_type": "execute_result"
    }
   ],
   "source": [
    "df2.columns"
   ]
  },
  {
   "cell_type": "code",
   "execution_count": 109,
   "metadata": {},
   "outputs": [],
   "source": [
    "x = df2[['NCM_99999999', 'Modal_99', 'Modal_4', 'Un.Med.Est._10', 'NCM_84818093']]\n",
    "y = df2['VL_FOB/QT_ESTAT']"
   ]
  },
  {
   "cell_type": "code",
   "execution_count": 110,
   "metadata": {},
   "outputs": [],
   "source": [
    "from sklearn.model_selection import train_test_split"
   ]
  },
  {
   "cell_type": "code",
   "execution_count": 111,
   "metadata": {},
   "outputs": [],
   "source": [
    "x_train, x_test, y_train, y_test = train_test_split(x, y, test_size=0.1, random_state=16)"
   ]
  },
  {
   "cell_type": "markdown",
   "metadata": {},
   "source": [
    "# Treinando o modelo LinearRegression"
   ]
  },
  {
   "cell_type": "code",
   "execution_count": 112,
   "metadata": {},
   "outputs": [],
   "source": [
    "from sklearn.linear_model import LinearRegression"
   ]
  },
  {
   "cell_type": "code",
   "execution_count": 113,
   "metadata": {},
   "outputs": [],
   "source": [
    "lm = LinearRegression()"
   ]
  },
  {
   "cell_type": "code",
   "execution_count": 114,
   "metadata": {},
   "outputs": [
    {
     "data": {
      "text/plain": [
       "LinearRegression()"
      ]
     },
     "execution_count": 114,
     "metadata": {},
     "output_type": "execute_result"
    }
   ],
   "source": [
    "lm.fit(x_train,y_train)"
   ]
  },
  {
   "cell_type": "code",
   "execution_count": 115,
   "metadata": {},
   "outputs": [
    {
     "name": "stdout",
     "output_type": "stream",
     "text": [
      "10993.081769894783\n"
     ]
    }
   ],
   "source": [
    "# impressão do intercepto\n",
    "print(lm.intercept_)"
   ]
  },
  {
   "cell_type": "code",
   "execution_count": 116,
   "metadata": {},
   "outputs": [
    {
     "data": {
      "text/html": [
       "<div>\n",
       "<style scoped>\n",
       "    .dataframe tbody tr th:only-of-type {\n",
       "        vertical-align: middle;\n",
       "    }\n",
       "\n",
       "    .dataframe tbody tr th {\n",
       "        vertical-align: top;\n",
       "    }\n",
       "\n",
       "    .dataframe thead th {\n",
       "        text-align: right;\n",
       "    }\n",
       "</style>\n",
       "<table border=\"1\" class=\"dataframe\">\n",
       "  <thead>\n",
       "    <tr style=\"text-align: right;\">\n",
       "      <th></th>\n",
       "      <th>Coeficiente</th>\n",
       "    </tr>\n",
       "  </thead>\n",
       "  <tbody>\n",
       "    <tr>\n",
       "      <th>NCM_99999999</th>\n",
       "      <td>94364.960194</td>\n",
       "    </tr>\n",
       "    <tr>\n",
       "      <th>Modal_99</th>\n",
       "      <td>166957.177043</td>\n",
       "    </tr>\n",
       "    <tr>\n",
       "      <th>Modal_4</th>\n",
       "      <td>-9019.772199</td>\n",
       "    </tr>\n",
       "    <tr>\n",
       "      <th>Un.Med.Est._10</th>\n",
       "      <td>-8339.708541</td>\n",
       "    </tr>\n",
       "    <tr>\n",
       "      <th>NCM_84818093</th>\n",
       "      <td>124933.924467</td>\n",
       "    </tr>\n",
       "  </tbody>\n",
       "</table>\n",
       "</div>"
      ],
      "text/plain": [
       "                  Coeficiente\n",
       "NCM_99999999     94364.960194\n",
       "Modal_99        166957.177043\n",
       "Modal_4          -9019.772199\n",
       "Un.Med.Est._10   -8339.708541\n",
       "NCM_84818093    124933.924467"
      ]
     },
     "execution_count": 116,
     "metadata": {},
     "output_type": "execute_result"
    }
   ],
   "source": [
    "# impressão dos coeficientes\n",
    "coeff_df = pd.DataFrame(lm.coef_,x.columns,columns=['Coeficiente'])\n",
    "coeff_df"
   ]
  },
  {
   "cell_type": "code",
   "execution_count": 117,
   "metadata": {},
   "outputs": [],
   "source": [
    "# realizando as predições\n",
    "predicoesLR = lm.predict(x_test)"
   ]
  },
  {
   "cell_type": "markdown",
   "metadata": {},
   "source": [
    "# Treinando o modelo Random Forest Regressor"
   ]
  },
  {
   "cell_type": "code",
   "execution_count": 118,
   "metadata": {},
   "outputs": [
    {
     "data": {
      "text/plain": [
       "RandomForestRegressor()"
      ]
     },
     "execution_count": 118,
     "metadata": {},
     "output_type": "execute_result"
    }
   ],
   "source": [
    "from sklearn.ensemble import RandomForestRegressor\n",
    "rfr = RandomForestRegressor(n_estimators=100)\n",
    "rfr.fit(x_train, y_train)"
   ]
  },
  {
   "cell_type": "code",
   "execution_count": 119,
   "metadata": {},
   "outputs": [],
   "source": [
    "predicoesRFR = rfr.predict(x_test)"
   ]
  },
  {
   "cell_type": "markdown",
   "metadata": {},
   "source": [
    "# Treinando o modelo Gradient Boosting Regressor"
   ]
  },
  {
   "cell_type": "code",
   "execution_count": 120,
   "metadata": {},
   "outputs": [],
   "source": [
    "from sklearn.ensemble import GradientBoostingRegressor"
   ]
  },
  {
   "cell_type": "code",
   "execution_count": 121,
   "metadata": {},
   "outputs": [
    {
     "data": {
      "text/plain": [
       "GradientBoostingRegressor()"
      ]
     },
     "execution_count": 121,
     "metadata": {},
     "output_type": "execute_result"
    }
   ],
   "source": [
    "gbr = GradientBoostingRegressor()\n",
    "gbr.fit(x_train, y_train)"
   ]
  },
  {
   "cell_type": "code",
   "execution_count": 122,
   "metadata": {},
   "outputs": [],
   "source": [
    "predicoesGBR = gbr.predict(x_test)"
   ]
  },
  {
   "cell_type": "markdown",
   "metadata": {},
   "source": [
    "# Avaliando os modelos"
   ]
  },
  {
   "cell_type": "markdown",
   "metadata": {},
   "source": [
    "#### Root mean squared error - RMSE"
   ]
  },
  {
   "cell_type": "code",
   "execution_count": 123,
   "metadata": {},
   "outputs": [],
   "source": [
    "from math import sqrt\n",
    "from sklearn.metrics import mean_squared_error"
   ]
  },
  {
   "cell_type": "code",
   "execution_count": 124,
   "metadata": {},
   "outputs": [],
   "source": [
    "def rmse(y_true, y_pred):\n",
    "    return sqrt(mean_squared_error(y_true, y_pred))"
   ]
  },
  {
   "cell_type": "code",
   "execution_count": 125,
   "metadata": {},
   "outputs": [
    {
     "data": {
      "text/plain": [
       "233531.48496854724"
      ]
     },
     "execution_count": 125,
     "metadata": {},
     "output_type": "execute_result"
    }
   ],
   "source": [
    "RMSE_LR = rmse(y_test,predicoesLR)\n",
    "RMSE_LR"
   ]
  },
  {
   "cell_type": "code",
   "execution_count": 126,
   "metadata": {},
   "outputs": [
    {
     "data": {
      "text/plain": [
       "213740.5720215622"
      ]
     },
     "execution_count": 126,
     "metadata": {},
     "output_type": "execute_result"
    }
   ],
   "source": [
    "RMSE_RFR = rmse(y_test,predicoesRFR)\n",
    "RMSE_RFR"
   ]
  },
  {
   "cell_type": "code",
   "execution_count": 127,
   "metadata": {
    "scrolled": true
   },
   "outputs": [
    {
     "data": {
      "text/plain": [
       "214567.5093442076"
      ]
     },
     "execution_count": 127,
     "metadata": {},
     "output_type": "execute_result"
    }
   ],
   "source": [
    "RMSE_GBR = rmse(y_test,predicoesGBR)\n",
    "RMSE_GBR"
   ]
  },
  {
   "cell_type": "markdown",
   "metadata": {},
   "source": [
    "#### Mean absolute error - MAE"
   ]
  },
  {
   "cell_type": "code",
   "execution_count": 128,
   "metadata": {},
   "outputs": [],
   "source": [
    "from sklearn.metrics import mean_absolute_error"
   ]
  },
  {
   "cell_type": "code",
   "execution_count": 129,
   "metadata": {},
   "outputs": [
    {
     "data": {
      "text/plain": [
       "18681.930976383963"
      ]
     },
     "execution_count": 129,
     "metadata": {},
     "output_type": "execute_result"
    }
   ],
   "source": [
    "MAE_LR=mean_absolute_error(y_test, predicoesLR)\n",
    "MAE_LR"
   ]
  },
  {
   "cell_type": "code",
   "execution_count": 130,
   "metadata": {},
   "outputs": [
    {
     "data": {
      "text/plain": [
       "15309.402498885944"
      ]
     },
     "execution_count": 130,
     "metadata": {},
     "output_type": "execute_result"
    }
   ],
   "source": [
    "MAE_RFR=mean_absolute_error(y_test, predicoesRFR)\n",
    "MAE_RFR"
   ]
  },
  {
   "cell_type": "code",
   "execution_count": 131,
   "metadata": {},
   "outputs": [
    {
     "data": {
      "text/plain": [
       "15395.210659061258"
      ]
     },
     "execution_count": 131,
     "metadata": {},
     "output_type": "execute_result"
    }
   ],
   "source": [
    "MAE_GBR=mean_absolute_error(y_test, predicoesGBR)\n",
    "MAE_GBR"
   ]
  },
  {
   "cell_type": "markdown",
   "metadata": {},
   "source": [
    "#### Mean squared error - MSE"
   ]
  },
  {
   "cell_type": "code",
   "execution_count": 132,
   "metadata": {},
   "outputs": [],
   "source": [
    "from sklearn.metrics import mean_absolute_error"
   ]
  },
  {
   "cell_type": "code",
   "execution_count": 133,
   "metadata": {},
   "outputs": [
    {
     "data": {
      "text/plain": [
       "54536954471.61481"
      ]
     },
     "execution_count": 133,
     "metadata": {},
     "output_type": "execute_result"
    }
   ],
   "source": [
    "MSE_LR=mean_squared_error(y_test, predicoesLR)\n",
    "MSE_LR"
   ]
  },
  {
   "cell_type": "code",
   "execution_count": 134,
   "metadata": {},
   "outputs": [
    {
     "data": {
      "text/plain": [
       "45685032128.104614"
      ]
     },
     "execution_count": 134,
     "metadata": {},
     "output_type": "execute_result"
    }
   ],
   "source": [
    "MSE_RFR=mean_squared_error(y_test, predicoesRFR)\n",
    "MSE_RFR"
   ]
  },
  {
   "cell_type": "code",
   "execution_count": 135,
   "metadata": {},
   "outputs": [
    {
     "data": {
      "text/plain": [
       "46039216066.17661"
      ]
     },
     "execution_count": 135,
     "metadata": {},
     "output_type": "execute_result"
    }
   ],
   "source": [
    "MSE_GBR=mean_squared_error(y_test, predicoesGBR)\n",
    "MSE_GBR"
   ]
  },
  {
   "cell_type": "markdown",
   "metadata": {},
   "source": [
    "#### Coeficente de determinação - R²"
   ]
  },
  {
   "cell_type": "code",
   "execution_count": 136,
   "metadata": {},
   "outputs": [],
   "source": [
    "from sklearn.metrics import r2_score"
   ]
  },
  {
   "cell_type": "code",
   "execution_count": 137,
   "metadata": {},
   "outputs": [
    {
     "data": {
      "text/plain": [
       "0.005649383489256921"
      ]
     },
     "execution_count": 137,
     "metadata": {},
     "output_type": "execute_result"
    }
   ],
   "source": [
    "R2_LR=r2_score(y_test, predicoesLR)\n",
    "R2_LR"
   ]
  },
  {
   "cell_type": "code",
   "execution_count": 138,
   "metadata": {},
   "outputs": [
    {
     "data": {
      "text/plain": [
       "0.16704296559981946"
      ]
     },
     "execution_count": 138,
     "metadata": {},
     "output_type": "execute_result"
    }
   ],
   "source": [
    "R2_RFR=r2_score(y_test, predicoesRFR)\n",
    "R2_RFR"
   ]
  },
  {
   "cell_type": "code",
   "execution_count": 139,
   "metadata": {
    "scrolled": true
   },
   "outputs": [
    {
     "data": {
      "text/plain": [
       "0.16058527061864125"
      ]
     },
     "execution_count": 139,
     "metadata": {},
     "output_type": "execute_result"
    }
   ],
   "source": [
    "R2_GBR=r2_score(y_test, predicoesGBR)\n",
    "R2_GBR"
   ]
  }
 ],
 "metadata": {
  "kernelspec": {
   "display_name": "Python 3",
   "language": "python",
   "name": "python3"
  },
  "language_info": {
   "codemirror_mode": {
    "name": "ipython",
    "version": 3
   },
   "file_extension": ".py",
   "mimetype": "text/x-python",
   "name": "python",
   "nbconvert_exporter": "python",
   "pygments_lexer": "ipython3",
   "version": "3.8.5"
  }
 },
 "nbformat": 4,
 "nbformat_minor": 4
}
