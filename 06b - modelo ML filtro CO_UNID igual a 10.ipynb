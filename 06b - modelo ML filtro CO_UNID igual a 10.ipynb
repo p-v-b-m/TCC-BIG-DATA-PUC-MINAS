{
 "cells": [
  {
   "cell_type": "code",
   "execution_count": 1,
   "metadata": {},
   "outputs": [],
   "source": [
    "import pandas as pd\n",
    "import numpy as np"
   ]
  },
  {
   "cell_type": "code",
   "execution_count": 2,
   "metadata": {},
   "outputs": [],
   "source": [
    "# fazendo a leitura da base enriquecida, trabalhada na etapa anterior\n",
    "df = pd.read_csv(\"base_enriquecida_codigos\")"
   ]
  },
  {
   "cell_type": "code",
   "execution_count": 3,
   "metadata": {},
   "outputs": [
    {
     "data": {
      "text/html": [
       "<div>\n",
       "<style scoped>\n",
       "    .dataframe tbody tr th:only-of-type {\n",
       "        vertical-align: middle;\n",
       "    }\n",
       "\n",
       "    .dataframe tbody tr th {\n",
       "        vertical-align: top;\n",
       "    }\n",
       "\n",
       "    .dataframe thead th {\n",
       "        text-align: right;\n",
       "    }\n",
       "</style>\n",
       "<table border=\"1\" class=\"dataframe\">\n",
       "  <thead>\n",
       "    <tr style=\"text-align: right;\">\n",
       "      <th></th>\n",
       "      <th>ANO-MES</th>\n",
       "      <th>CO_NCM</th>\n",
       "      <th>CO_UNID</th>\n",
       "      <th>CO_PAIS</th>\n",
       "      <th>SG_UF_NCM</th>\n",
       "      <th>CO_VIA</th>\n",
       "      <th>CO_URF</th>\n",
       "      <th>QT_ESTAT</th>\n",
       "      <th>KG_LIQUIDO</th>\n",
       "      <th>VL_FOB</th>\n",
       "      <th>câmbio_mês_atual</th>\n",
       "      <th>câmbio_mês_anterior</th>\n",
       "    </tr>\n",
       "  </thead>\n",
       "  <tbody>\n",
       "    <tr>\n",
       "      <th>0</th>\n",
       "      <td>2019-12</td>\n",
       "      <td>85044021</td>\n",
       "      <td>11</td>\n",
       "      <td>249</td>\n",
       "      <td>SP</td>\n",
       "      <td>4</td>\n",
       "      <td>817700</td>\n",
       "      <td>53</td>\n",
       "      <td>44</td>\n",
       "      <td>8263</td>\n",
       "      <td>4.108924</td>\n",
       "      <td>4.154725</td>\n",
       "    </tr>\n",
       "    <tr>\n",
       "      <th>1</th>\n",
       "      <td>2019-12</td>\n",
       "      <td>85183000</td>\n",
       "      <td>11</td>\n",
       "      <td>160</td>\n",
       "      <td>GO</td>\n",
       "      <td>4</td>\n",
       "      <td>817600</td>\n",
       "      <td>23734</td>\n",
       "      <td>1621</td>\n",
       "      <td>6987</td>\n",
       "      <td>4.108924</td>\n",
       "      <td>4.154725</td>\n",
       "    </tr>\n",
       "    <tr>\n",
       "      <th>2</th>\n",
       "      <td>2019-12</td>\n",
       "      <td>39263000</td>\n",
       "      <td>10</td>\n",
       "      <td>23</td>\n",
       "      <td>SP</td>\n",
       "      <td>1</td>\n",
       "      <td>817800</td>\n",
       "      <td>3951</td>\n",
       "      <td>3951</td>\n",
       "      <td>88311</td>\n",
       "      <td>4.108924</td>\n",
       "      <td>4.154725</td>\n",
       "    </tr>\n",
       "    <tr>\n",
       "      <th>3</th>\n",
       "      <td>2019-12</td>\n",
       "      <td>38249929</td>\n",
       "      <td>10</td>\n",
       "      <td>493</td>\n",
       "      <td>SP</td>\n",
       "      <td>1</td>\n",
       "      <td>817800</td>\n",
       "      <td>19540</td>\n",
       "      <td>19540</td>\n",
       "      <td>65812</td>\n",
       "      <td>4.108924</td>\n",
       "      <td>4.154725</td>\n",
       "    </tr>\n",
       "    <tr>\n",
       "      <th>4</th>\n",
       "      <td>2019-12</td>\n",
       "      <td>34021300</td>\n",
       "      <td>10</td>\n",
       "      <td>493</td>\n",
       "      <td>BA</td>\n",
       "      <td>1</td>\n",
       "      <td>517800</td>\n",
       "      <td>34400</td>\n",
       "      <td>34400</td>\n",
       "      <td>119356</td>\n",
       "      <td>4.108924</td>\n",
       "      <td>4.154725</td>\n",
       "    </tr>\n",
       "    <tr>\n",
       "      <th>...</th>\n",
       "      <td>...</td>\n",
       "      <td>...</td>\n",
       "      <td>...</td>\n",
       "      <td>...</td>\n",
       "      <td>...</td>\n",
       "      <td>...</td>\n",
       "      <td>...</td>\n",
       "      <td>...</td>\n",
       "      <td>...</td>\n",
       "      <td>...</td>\n",
       "      <td>...</td>\n",
       "      <td>...</td>\n",
       "    </tr>\n",
       "    <tr>\n",
       "      <th>1764428</th>\n",
       "      <td>2019-08</td>\n",
       "      <td>85365090</td>\n",
       "      <td>11</td>\n",
       "      <td>271</td>\n",
       "      <td>SP</td>\n",
       "      <td>4</td>\n",
       "      <td>817600</td>\n",
       "      <td>11</td>\n",
       "      <td>157</td>\n",
       "      <td>4412</td>\n",
       "      <td>4.019382</td>\n",
       "      <td>3.778713</td>\n",
       "    </tr>\n",
       "    <tr>\n",
       "      <th>1764429</th>\n",
       "      <td>2019-08</td>\n",
       "      <td>30043918</td>\n",
       "      <td>10</td>\n",
       "      <td>767</td>\n",
       "      <td>SP</td>\n",
       "      <td>4</td>\n",
       "      <td>817600</td>\n",
       "      <td>225</td>\n",
       "      <td>225</td>\n",
       "      <td>1216801</td>\n",
       "      <td>4.019382</td>\n",
       "      <td>3.778713</td>\n",
       "    </tr>\n",
       "    <tr>\n",
       "      <th>1764430</th>\n",
       "      <td>2019-08</td>\n",
       "      <td>90189099</td>\n",
       "      <td>11</td>\n",
       "      <td>87</td>\n",
       "      <td>SP</td>\n",
       "      <td>1</td>\n",
       "      <td>817800</td>\n",
       "      <td>5033</td>\n",
       "      <td>178</td>\n",
       "      <td>22889</td>\n",
       "      <td>4.019382</td>\n",
       "      <td>3.778713</td>\n",
       "    </tr>\n",
       "    <tr>\n",
       "      <th>1764431</th>\n",
       "      <td>2019-08</td>\n",
       "      <td>84123900</td>\n",
       "      <td>11</td>\n",
       "      <td>764</td>\n",
       "      <td>PA</td>\n",
       "      <td>4</td>\n",
       "      <td>817600</td>\n",
       "      <td>1</td>\n",
       "      <td>83</td>\n",
       "      <td>7641</td>\n",
       "      <td>4.019382</td>\n",
       "      <td>3.778713</td>\n",
       "    </tr>\n",
       "    <tr>\n",
       "      <th>1764432</th>\n",
       "      <td>2019-08</td>\n",
       "      <td>85269200</td>\n",
       "      <td>11</td>\n",
       "      <td>776</td>\n",
       "      <td>SP</td>\n",
       "      <td>4</td>\n",
       "      <td>817600</td>\n",
       "      <td>2</td>\n",
       "      <td>0</td>\n",
       "      <td>119</td>\n",
       "      <td>4.019382</td>\n",
       "      <td>3.778713</td>\n",
       "    </tr>\n",
       "  </tbody>\n",
       "</table>\n",
       "<p>1764433 rows × 12 columns</p>\n",
       "</div>"
      ],
      "text/plain": [
       "         ANO-MES    CO_NCM  CO_UNID  CO_PAIS SG_UF_NCM  CO_VIA  CO_URF  \\\n",
       "0        2019-12  85044021       11      249        SP       4  817700   \n",
       "1        2019-12  85183000       11      160        GO       4  817600   \n",
       "2        2019-12  39263000       10       23        SP       1  817800   \n",
       "3        2019-12  38249929       10      493        SP       1  817800   \n",
       "4        2019-12  34021300       10      493        BA       1  517800   \n",
       "...          ...       ...      ...      ...       ...     ...     ...   \n",
       "1764428  2019-08  85365090       11      271        SP       4  817600   \n",
       "1764429  2019-08  30043918       10      767        SP       4  817600   \n",
       "1764430  2019-08  90189099       11       87        SP       1  817800   \n",
       "1764431  2019-08  84123900       11      764        PA       4  817600   \n",
       "1764432  2019-08  85269200       11      776        SP       4  817600   \n",
       "\n",
       "         QT_ESTAT  KG_LIQUIDO   VL_FOB  câmbio_mês_atual  câmbio_mês_anterior  \n",
       "0              53          44     8263          4.108924             4.154725  \n",
       "1           23734        1621     6987          4.108924             4.154725  \n",
       "2            3951        3951    88311          4.108924             4.154725  \n",
       "3           19540       19540    65812          4.108924             4.154725  \n",
       "4           34400       34400   119356          4.108924             4.154725  \n",
       "...           ...         ...      ...               ...                  ...  \n",
       "1764428        11         157     4412          4.019382             3.778713  \n",
       "1764429       225         225  1216801          4.019382             3.778713  \n",
       "1764430      5033         178    22889          4.019382             3.778713  \n",
       "1764431         1          83     7641          4.019382             3.778713  \n",
       "1764432         2           0      119          4.019382             3.778713  \n",
       "\n",
       "[1764433 rows x 12 columns]"
      ]
     },
     "execution_count": 3,
     "metadata": {},
     "output_type": "execute_result"
    }
   ],
   "source": [
    "df"
   ]
  },
  {
   "cell_type": "code",
   "execution_count": 4,
   "metadata": {},
   "outputs": [],
   "source": [
    "# filtrando apenas os registros em que a medida estatística é \"quilograma\"\n",
    "df1=df[df[\"CO_UNID\"]==10]"
   ]
  },
  {
   "cell_type": "code",
   "execution_count": 5,
   "metadata": {
    "scrolled": true
   },
   "outputs": [
    {
     "data": {
      "text/html": [
       "<div>\n",
       "<style scoped>\n",
       "    .dataframe tbody tr th:only-of-type {\n",
       "        vertical-align: middle;\n",
       "    }\n",
       "\n",
       "    .dataframe tbody tr th {\n",
       "        vertical-align: top;\n",
       "    }\n",
       "\n",
       "    .dataframe thead th {\n",
       "        text-align: right;\n",
       "    }\n",
       "</style>\n",
       "<table border=\"1\" class=\"dataframe\">\n",
       "  <thead>\n",
       "    <tr style=\"text-align: right;\">\n",
       "      <th></th>\n",
       "      <th>ANO-MES</th>\n",
       "      <th>CO_NCM</th>\n",
       "      <th>CO_UNID</th>\n",
       "      <th>CO_PAIS</th>\n",
       "      <th>SG_UF_NCM</th>\n",
       "      <th>CO_VIA</th>\n",
       "      <th>CO_URF</th>\n",
       "      <th>QT_ESTAT</th>\n",
       "      <th>KG_LIQUIDO</th>\n",
       "      <th>VL_FOB</th>\n",
       "      <th>câmbio_mês_atual</th>\n",
       "      <th>câmbio_mês_anterior</th>\n",
       "    </tr>\n",
       "  </thead>\n",
       "  <tbody>\n",
       "    <tr>\n",
       "      <th>2</th>\n",
       "      <td>2019-12</td>\n",
       "      <td>39263000</td>\n",
       "      <td>10</td>\n",
       "      <td>23</td>\n",
       "      <td>SP</td>\n",
       "      <td>1</td>\n",
       "      <td>817800</td>\n",
       "      <td>3951</td>\n",
       "      <td>3951</td>\n",
       "      <td>88311</td>\n",
       "      <td>4.108924</td>\n",
       "      <td>4.154725</td>\n",
       "    </tr>\n",
       "    <tr>\n",
       "      <th>3</th>\n",
       "      <td>2019-12</td>\n",
       "      <td>38249929</td>\n",
       "      <td>10</td>\n",
       "      <td>493</td>\n",
       "      <td>SP</td>\n",
       "      <td>1</td>\n",
       "      <td>817800</td>\n",
       "      <td>19540</td>\n",
       "      <td>19540</td>\n",
       "      <td>65812</td>\n",
       "      <td>4.108924</td>\n",
       "      <td>4.154725</td>\n",
       "    </tr>\n",
       "    <tr>\n",
       "      <th>4</th>\n",
       "      <td>2019-12</td>\n",
       "      <td>34021300</td>\n",
       "      <td>10</td>\n",
       "      <td>493</td>\n",
       "      <td>BA</td>\n",
       "      <td>1</td>\n",
       "      <td>517800</td>\n",
       "      <td>34400</td>\n",
       "      <td>34400</td>\n",
       "      <td>119356</td>\n",
       "      <td>4.108924</td>\n",
       "      <td>4.154725</td>\n",
       "    </tr>\n",
       "    <tr>\n",
       "      <th>5</th>\n",
       "      <td>2019-12</td>\n",
       "      <td>85389090</td>\n",
       "      <td>10</td>\n",
       "      <td>386</td>\n",
       "      <td>SC</td>\n",
       "      <td>1</td>\n",
       "      <td>817800</td>\n",
       "      <td>101</td>\n",
       "      <td>101</td>\n",
       "      <td>879</td>\n",
       "      <td>4.108924</td>\n",
       "      <td>4.154725</td>\n",
       "    </tr>\n",
       "    <tr>\n",
       "      <th>7</th>\n",
       "      <td>2019-12</td>\n",
       "      <td>85030010</td>\n",
       "      <td>10</td>\n",
       "      <td>386</td>\n",
       "      <td>SP</td>\n",
       "      <td>4</td>\n",
       "      <td>817600</td>\n",
       "      <td>835</td>\n",
       "      <td>835</td>\n",
       "      <td>3567</td>\n",
       "      <td>4.108924</td>\n",
       "      <td>4.154725</td>\n",
       "    </tr>\n",
       "    <tr>\n",
       "      <th>...</th>\n",
       "      <td>...</td>\n",
       "      <td>...</td>\n",
       "      <td>...</td>\n",
       "      <td>...</td>\n",
       "      <td>...</td>\n",
       "      <td>...</td>\n",
       "      <td>...</td>\n",
       "      <td>...</td>\n",
       "      <td>...</td>\n",
       "      <td>...</td>\n",
       "      <td>...</td>\n",
       "      <td>...</td>\n",
       "    </tr>\n",
       "    <tr>\n",
       "      <th>1764423</th>\n",
       "      <td>2019-08</td>\n",
       "      <td>84339090</td>\n",
       "      <td>10</td>\n",
       "      <td>63</td>\n",
       "      <td>RS</td>\n",
       "      <td>7</td>\n",
       "      <td>1017500</td>\n",
       "      <td>25285</td>\n",
       "      <td>25285</td>\n",
       "      <td>54569</td>\n",
       "      <td>4.019382</td>\n",
       "      <td>3.778713</td>\n",
       "    </tr>\n",
       "    <tr>\n",
       "      <th>1764424</th>\n",
       "      <td>2019-08</td>\n",
       "      <td>29221999</td>\n",
       "      <td>10</td>\n",
       "      <td>767</td>\n",
       "      <td>SP</td>\n",
       "      <td>4</td>\n",
       "      <td>817700</td>\n",
       "      <td>1</td>\n",
       "      <td>1</td>\n",
       "      <td>476</td>\n",
       "      <td>4.019382</td>\n",
       "      <td>3.778713</td>\n",
       "    </tr>\n",
       "    <tr>\n",
       "      <th>1764425</th>\n",
       "      <td>2019-08</td>\n",
       "      <td>12122900</td>\n",
       "      <td>10</td>\n",
       "      <td>538</td>\n",
       "      <td>SP</td>\n",
       "      <td>1</td>\n",
       "      <td>817800</td>\n",
       "      <td>5000</td>\n",
       "      <td>5000</td>\n",
       "      <td>45153</td>\n",
       "      <td>4.019382</td>\n",
       "      <td>3.778713</td>\n",
       "    </tr>\n",
       "    <tr>\n",
       "      <th>1764426</th>\n",
       "      <td>2019-08</td>\n",
       "      <td>39079919</td>\n",
       "      <td>10</td>\n",
       "      <td>275</td>\n",
       "      <td>SP</td>\n",
       "      <td>1</td>\n",
       "      <td>817800</td>\n",
       "      <td>2560</td>\n",
       "      <td>2560</td>\n",
       "      <td>6943</td>\n",
       "      <td>4.019382</td>\n",
       "      <td>3.778713</td>\n",
       "    </tr>\n",
       "    <tr>\n",
       "      <th>1764429</th>\n",
       "      <td>2019-08</td>\n",
       "      <td>30043918</td>\n",
       "      <td>10</td>\n",
       "      <td>767</td>\n",
       "      <td>SP</td>\n",
       "      <td>4</td>\n",
       "      <td>817600</td>\n",
       "      <td>225</td>\n",
       "      <td>225</td>\n",
       "      <td>1216801</td>\n",
       "      <td>4.019382</td>\n",
       "      <td>3.778713</td>\n",
       "    </tr>\n",
       "  </tbody>\n",
       "</table>\n",
       "<p>978971 rows × 12 columns</p>\n",
       "</div>"
      ],
      "text/plain": [
       "         ANO-MES    CO_NCM  CO_UNID  CO_PAIS SG_UF_NCM  CO_VIA   CO_URF  \\\n",
       "2        2019-12  39263000       10       23        SP       1   817800   \n",
       "3        2019-12  38249929       10      493        SP       1   817800   \n",
       "4        2019-12  34021300       10      493        BA       1   517800   \n",
       "5        2019-12  85389090       10      386        SC       1   817800   \n",
       "7        2019-12  85030010       10      386        SP       4   817600   \n",
       "...          ...       ...      ...      ...       ...     ...      ...   \n",
       "1764423  2019-08  84339090       10       63        RS       7  1017500   \n",
       "1764424  2019-08  29221999       10      767        SP       4   817700   \n",
       "1764425  2019-08  12122900       10      538        SP       1   817800   \n",
       "1764426  2019-08  39079919       10      275        SP       1   817800   \n",
       "1764429  2019-08  30043918       10      767        SP       4   817600   \n",
       "\n",
       "         QT_ESTAT  KG_LIQUIDO   VL_FOB  câmbio_mês_atual  câmbio_mês_anterior  \n",
       "2            3951        3951    88311          4.108924             4.154725  \n",
       "3           19540       19540    65812          4.108924             4.154725  \n",
       "4           34400       34400   119356          4.108924             4.154725  \n",
       "5             101         101      879          4.108924             4.154725  \n",
       "7             835         835     3567          4.108924             4.154725  \n",
       "...           ...         ...      ...               ...                  ...  \n",
       "1764423     25285       25285    54569          4.019382             3.778713  \n",
       "1764424         1           1      476          4.019382             3.778713  \n",
       "1764425      5000        5000    45153          4.019382             3.778713  \n",
       "1764426      2560        2560     6943          4.019382             3.778713  \n",
       "1764429       225         225  1216801          4.019382             3.778713  \n",
       "\n",
       "[978971 rows x 12 columns]"
      ]
     },
     "execution_count": 5,
     "metadata": {},
     "output_type": "execute_result"
    }
   ],
   "source": [
    "df1"
   ]
  },
  {
   "cell_type": "markdown",
   "metadata": {},
   "source": [
    "###### Checando códigos NCM recorrentes"
   ]
  },
  {
   "cell_type": "code",
   "execution_count": 6,
   "metadata": {},
   "outputs": [
    {
     "data": {
      "text/html": [
       "<div>\n",
       "<style scoped>\n",
       "    .dataframe tbody tr th:only-of-type {\n",
       "        vertical-align: middle;\n",
       "    }\n",
       "\n",
       "    .dataframe tbody tr th {\n",
       "        vertical-align: top;\n",
       "    }\n",
       "\n",
       "    .dataframe thead th {\n",
       "        text-align: right;\n",
       "    }\n",
       "</style>\n",
       "<table border=\"1\" class=\"dataframe\">\n",
       "  <thead>\n",
       "    <tr style=\"text-align: right;\">\n",
       "      <th></th>\n",
       "      <th>CO_NCM</th>\n",
       "      <th>contagem</th>\n",
       "    </tr>\n",
       "  </thead>\n",
       "  <tbody>\n",
       "    <tr>\n",
       "      <th>3314</th>\n",
       "      <td>39269090</td>\n",
       "      <td>11504</td>\n",
       "    </tr>\n",
       "    <tr>\n",
       "      <th>4912</th>\n",
       "      <td>73181500</td>\n",
       "      <td>9334</td>\n",
       "    </tr>\n",
       "    <tr>\n",
       "      <th>4948</th>\n",
       "      <td>73269090</td>\n",
       "      <td>8381</td>\n",
       "    </tr>\n",
       "    <tr>\n",
       "      <th>3395</th>\n",
       "      <td>40169300</td>\n",
       "      <td>8064</td>\n",
       "    </tr>\n",
       "    <tr>\n",
       "      <th>5542</th>\n",
       "      <td>85444200</td>\n",
       "      <td>7518</td>\n",
       "    </tr>\n",
       "    <tr>\n",
       "      <th>...</th>\n",
       "      <td>...</td>\n",
       "      <td>...</td>\n",
       "    </tr>\n",
       "    <tr>\n",
       "      <th>3785</th>\n",
       "      <td>52101910</td>\n",
       "      <td>1</td>\n",
       "    </tr>\n",
       "    <tr>\n",
       "      <th>1244</th>\n",
       "      <td>29038190</td>\n",
       "      <td>1</td>\n",
       "    </tr>\n",
       "    <tr>\n",
       "      <th>1252</th>\n",
       "      <td>29039916</td>\n",
       "      <td>1</td>\n",
       "    </tr>\n",
       "    <tr>\n",
       "      <th>1253</th>\n",
       "      <td>29039919</td>\n",
       "      <td>1</td>\n",
       "    </tr>\n",
       "    <tr>\n",
       "      <th>2031</th>\n",
       "      <td>29335933</td>\n",
       "      <td>1</td>\n",
       "    </tr>\n",
       "  </tbody>\n",
       "</table>\n",
       "<p>5809 rows × 2 columns</p>\n",
       "</div>"
      ],
      "text/plain": [
       "        CO_NCM  contagem\n",
       "3314  39269090     11504\n",
       "4912  73181500      9334\n",
       "4948  73269090      8381\n",
       "3395  40169300      8064\n",
       "5542  85444200      7518\n",
       "...        ...       ...\n",
       "3785  52101910         1\n",
       "1244  29038190         1\n",
       "1252  29039916         1\n",
       "1253  29039919         1\n",
       "2031  29335933         1\n",
       "\n",
       "[5809 rows x 2 columns]"
      ]
     },
     "execution_count": 6,
     "metadata": {},
     "output_type": "execute_result"
    }
   ],
   "source": [
    "# checando quais os códigos NCM mais recorrentes, tendo em vista que não foi possível \"dummizar\" todos em teste anteriormente realizado\n",
    "g1=df1.groupby(['CO_NCM']).size().reset_index().rename(columns={0:'contagem'})\n",
    "g1.sort_values(by=[\"contagem\"],ascending=False)"
   ]
  },
  {
   "cell_type": "code",
   "execution_count": 7,
   "metadata": {},
   "outputs": [],
   "source": [
    "g1[\"% CO_NCM\"] = g1[\"contagem\"]/(g1[\"contagem\"].sum())"
   ]
  },
  {
   "cell_type": "code",
   "execution_count": 8,
   "metadata": {},
   "outputs": [],
   "source": [
    "g2=g1.sort_values(by=[\"contagem\"],ascending=False)"
   ]
  },
  {
   "cell_type": "code",
   "execution_count": 9,
   "metadata": {},
   "outputs": [],
   "source": [
    "g2[\"% CO_NCM ACUMUL\"]=g2[\"% CO_NCM\"].cumsum()"
   ]
  },
  {
   "cell_type": "code",
   "execution_count": 10,
   "metadata": {},
   "outputs": [
    {
     "data": {
      "text/html": [
       "<div>\n",
       "<style scoped>\n",
       "    .dataframe tbody tr th:only-of-type {\n",
       "        vertical-align: middle;\n",
       "    }\n",
       "\n",
       "    .dataframe tbody tr th {\n",
       "        vertical-align: top;\n",
       "    }\n",
       "\n",
       "    .dataframe thead th {\n",
       "        text-align: right;\n",
       "    }\n",
       "</style>\n",
       "<table border=\"1\" class=\"dataframe\">\n",
       "  <thead>\n",
       "    <tr style=\"text-align: right;\">\n",
       "      <th></th>\n",
       "      <th>CO_NCM</th>\n",
       "      <th>contagem</th>\n",
       "      <th>% CO_NCM</th>\n",
       "      <th>% CO_NCM ACUMUL</th>\n",
       "    </tr>\n",
       "  </thead>\n",
       "  <tbody>\n",
       "    <tr>\n",
       "      <th>3314</th>\n",
       "      <td>39269090</td>\n",
       "      <td>11504</td>\n",
       "      <td>0.011751</td>\n",
       "      <td>0.011751</td>\n",
       "    </tr>\n",
       "    <tr>\n",
       "      <th>4912</th>\n",
       "      <td>73181500</td>\n",
       "      <td>9334</td>\n",
       "      <td>0.009535</td>\n",
       "      <td>0.021286</td>\n",
       "    </tr>\n",
       "    <tr>\n",
       "      <th>4948</th>\n",
       "      <td>73269090</td>\n",
       "      <td>8381</td>\n",
       "      <td>0.008561</td>\n",
       "      <td>0.029847</td>\n",
       "    </tr>\n",
       "    <tr>\n",
       "      <th>3395</th>\n",
       "      <td>40169300</td>\n",
       "      <td>8064</td>\n",
       "      <td>0.008237</td>\n",
       "      <td>0.038084</td>\n",
       "    </tr>\n",
       "    <tr>\n",
       "      <th>5542</th>\n",
       "      <td>85444200</td>\n",
       "      <td>7518</td>\n",
       "      <td>0.007679</td>\n",
       "      <td>0.045763</td>\n",
       "    </tr>\n",
       "  </tbody>\n",
       "</table>\n",
       "</div>"
      ],
      "text/plain": [
       "        CO_NCM  contagem  % CO_NCM  % CO_NCM ACUMUL\n",
       "3314  39269090     11504  0.011751         0.011751\n",
       "4912  73181500      9334  0.009535         0.021286\n",
       "4948  73269090      8381  0.008561         0.029847\n",
       "3395  40169300      8064  0.008237         0.038084\n",
       "5542  85444200      7518  0.007679         0.045763"
      ]
     },
     "execution_count": 10,
     "metadata": {},
     "output_type": "execute_result"
    }
   ],
   "source": [
    "g2.head()"
   ]
  },
  {
   "cell_type": "code",
   "execution_count": 11,
   "metadata": {},
   "outputs": [
    {
     "data": {
      "text/html": [
       "<div>\n",
       "<style scoped>\n",
       "    .dataframe tbody tr th:only-of-type {\n",
       "        vertical-align: middle;\n",
       "    }\n",
       "\n",
       "    .dataframe tbody tr th {\n",
       "        vertical-align: top;\n",
       "    }\n",
       "\n",
       "    .dataframe thead th {\n",
       "        text-align: right;\n",
       "    }\n",
       "</style>\n",
       "<table border=\"1\" class=\"dataframe\">\n",
       "  <thead>\n",
       "    <tr style=\"text-align: right;\">\n",
       "      <th></th>\n",
       "      <th>CO_NCM</th>\n",
       "      <th>contagem</th>\n",
       "      <th>% CO_NCM</th>\n",
       "      <th>% CO_NCM ACUMUL</th>\n",
       "    </tr>\n",
       "  </thead>\n",
       "  <tbody>\n",
       "    <tr>\n",
       "      <th>3314</th>\n",
       "      <td>39269090</td>\n",
       "      <td>11504</td>\n",
       "      <td>0.011751</td>\n",
       "      <td>0.011751</td>\n",
       "    </tr>\n",
       "    <tr>\n",
       "      <th>4912</th>\n",
       "      <td>73181500</td>\n",
       "      <td>9334</td>\n",
       "      <td>0.009535</td>\n",
       "      <td>0.021286</td>\n",
       "    </tr>\n",
       "    <tr>\n",
       "      <th>4948</th>\n",
       "      <td>73269090</td>\n",
       "      <td>8381</td>\n",
       "      <td>0.008561</td>\n",
       "      <td>0.029847</td>\n",
       "    </tr>\n",
       "    <tr>\n",
       "      <th>3395</th>\n",
       "      <td>40169300</td>\n",
       "      <td>8064</td>\n",
       "      <td>0.008237</td>\n",
       "      <td>0.038084</td>\n",
       "    </tr>\n",
       "    <tr>\n",
       "      <th>5542</th>\n",
       "      <td>85444200</td>\n",
       "      <td>7518</td>\n",
       "      <td>0.007679</td>\n",
       "      <td>0.045763</td>\n",
       "    </tr>\n",
       "    <tr>\n",
       "      <th>...</th>\n",
       "      <td>...</td>\n",
       "      <td>...</td>\n",
       "      <td>...</td>\n",
       "      <td>...</td>\n",
       "    </tr>\n",
       "    <tr>\n",
       "      <th>2285</th>\n",
       "      <td>29419061</td>\n",
       "      <td>48</td>\n",
       "      <td>0.000049</td>\n",
       "      <td>0.949799</td>\n",
       "    </tr>\n",
       "    <tr>\n",
       "      <th>3904</th>\n",
       "      <td>54071029</td>\n",
       "      <td>48</td>\n",
       "      <td>0.000049</td>\n",
       "      <td>0.949848</td>\n",
       "    </tr>\n",
       "    <tr>\n",
       "      <th>4974</th>\n",
       "      <td>74092100</td>\n",
       "      <td>48</td>\n",
       "      <td>0.000049</td>\n",
       "      <td>0.949897</td>\n",
       "    </tr>\n",
       "    <tr>\n",
       "      <th>2655</th>\n",
       "      <td>33012917</td>\n",
       "      <td>48</td>\n",
       "      <td>0.000049</td>\n",
       "      <td>0.949946</td>\n",
       "    </tr>\n",
       "    <tr>\n",
       "      <th>3862</th>\n",
       "      <td>54023390</td>\n",
       "      <td>48</td>\n",
       "      <td>0.000049</td>\n",
       "      <td>0.949995</td>\n",
       "    </tr>\n",
       "  </tbody>\n",
       "</table>\n",
       "<p>2828 rows × 4 columns</p>\n",
       "</div>"
      ],
      "text/plain": [
       "        CO_NCM  contagem  % CO_NCM  % CO_NCM ACUMUL\n",
       "3314  39269090     11504  0.011751         0.011751\n",
       "4912  73181500      9334  0.009535         0.021286\n",
       "4948  73269090      8381  0.008561         0.029847\n",
       "3395  40169300      8064  0.008237         0.038084\n",
       "5542  85444200      7518  0.007679         0.045763\n",
       "...        ...       ...       ...              ...\n",
       "2285  29419061        48  0.000049         0.949799\n",
       "3904  54071029        48  0.000049         0.949848\n",
       "4974  74092100        48  0.000049         0.949897\n",
       "2655  33012917        48  0.000049         0.949946\n",
       "3862  54023390        48  0.000049         0.949995\n",
       "\n",
       "[2828 rows x 4 columns]"
      ]
     },
     "execution_count": 11,
     "metadata": {},
     "output_type": "execute_result"
    }
   ],
   "source": [
    "# tentando identificar um percentual que viabilize a implementação do modelo (considerando a necessidade de \"dummizar\" a variável CO_NCM, a ideia é reduzir o número de categorias)\n",
    "g3=g2[g2[\"% CO_NCM ACUMUL\"]<=0.95]\n",
    "g3\n",
    "# repare que 95% das ocorrências se restingem a 2828 códigos NCM dentre os 5809."
   ]
  },
  {
   "cell_type": "code",
   "execution_count": 12,
   "metadata": {},
   "outputs": [
    {
     "data": {
      "text/html": [
       "<div>\n",
       "<style scoped>\n",
       "    .dataframe tbody tr th:only-of-type {\n",
       "        vertical-align: middle;\n",
       "    }\n",
       "\n",
       "    .dataframe tbody tr th {\n",
       "        vertical-align: top;\n",
       "    }\n",
       "\n",
       "    .dataframe thead th {\n",
       "        text-align: right;\n",
       "    }\n",
       "</style>\n",
       "<table border=\"1\" class=\"dataframe\">\n",
       "  <thead>\n",
       "    <tr style=\"text-align: right;\">\n",
       "      <th></th>\n",
       "      <th>CO_NCM</th>\n",
       "      <th>contagem</th>\n",
       "      <th>% CO_NCM</th>\n",
       "      <th>% CO_NCM ACUMUL</th>\n",
       "    </tr>\n",
       "  </thead>\n",
       "  <tbody>\n",
       "    <tr>\n",
       "      <th>2498</th>\n",
       "      <td>30063019</td>\n",
       "      <td>48</td>\n",
       "      <td>0.000049</td>\n",
       "      <td>0.950044</td>\n",
       "    </tr>\n",
       "    <tr>\n",
       "      <th>276</th>\n",
       "      <td>9042100</td>\n",
       "      <td>48</td>\n",
       "      <td>0.000049</td>\n",
       "      <td>0.950094</td>\n",
       "    </tr>\n",
       "    <tr>\n",
       "      <th>1134</th>\n",
       "      <td>28417010</td>\n",
       "      <td>48</td>\n",
       "      <td>0.000049</td>\n",
       "      <td>0.950143</td>\n",
       "    </tr>\n",
       "    <tr>\n",
       "      <th>4680</th>\n",
       "      <td>72119010</td>\n",
       "      <td>48</td>\n",
       "      <td>0.000049</td>\n",
       "      <td>0.950192</td>\n",
       "    </tr>\n",
       "    <tr>\n",
       "      <th>5017</th>\n",
       "      <td>75022000</td>\n",
       "      <td>48</td>\n",
       "      <td>0.000049</td>\n",
       "      <td>0.950241</td>\n",
       "    </tr>\n",
       "    <tr>\n",
       "      <th>...</th>\n",
       "      <td>...</td>\n",
       "      <td>...</td>\n",
       "      <td>...</td>\n",
       "      <td>...</td>\n",
       "    </tr>\n",
       "    <tr>\n",
       "      <th>3785</th>\n",
       "      <td>52101910</td>\n",
       "      <td>1</td>\n",
       "      <td>0.000001</td>\n",
       "      <td>0.999996</td>\n",
       "    </tr>\n",
       "    <tr>\n",
       "      <th>1244</th>\n",
       "      <td>29038190</td>\n",
       "      <td>1</td>\n",
       "      <td>0.000001</td>\n",
       "      <td>0.999997</td>\n",
       "    </tr>\n",
       "    <tr>\n",
       "      <th>1252</th>\n",
       "      <td>29039916</td>\n",
       "      <td>1</td>\n",
       "      <td>0.000001</td>\n",
       "      <td>0.999998</td>\n",
       "    </tr>\n",
       "    <tr>\n",
       "      <th>1253</th>\n",
       "      <td>29039919</td>\n",
       "      <td>1</td>\n",
       "      <td>0.000001</td>\n",
       "      <td>0.999999</td>\n",
       "    </tr>\n",
       "    <tr>\n",
       "      <th>2031</th>\n",
       "      <td>29335933</td>\n",
       "      <td>1</td>\n",
       "      <td>0.000001</td>\n",
       "      <td>1.000000</td>\n",
       "    </tr>\n",
       "  </tbody>\n",
       "</table>\n",
       "<p>2981 rows × 4 columns</p>\n",
       "</div>"
      ],
      "text/plain": [
       "        CO_NCM  contagem  % CO_NCM  % CO_NCM ACUMUL\n",
       "2498  30063019        48  0.000049         0.950044\n",
       "276    9042100        48  0.000049         0.950094\n",
       "1134  28417010        48  0.000049         0.950143\n",
       "4680  72119010        48  0.000049         0.950192\n",
       "5017  75022000        48  0.000049         0.950241\n",
       "...        ...       ...       ...              ...\n",
       "3785  52101910         1  0.000001         0.999996\n",
       "1244  29038190         1  0.000001         0.999997\n",
       "1252  29039916         1  0.000001         0.999998\n",
       "1253  29039919         1  0.000001         0.999999\n",
       "2031  29335933         1  0.000001         1.000000\n",
       "\n",
       "[2981 rows x 4 columns]"
      ]
     },
     "execution_count": 12,
     "metadata": {},
     "output_type": "execute_result"
    }
   ],
   "source": [
    "# os 5% que extrapolam o acumulado 95% serão agrupados em uma única categoria, portanto, segue a identificação desses valores:\n",
    "g4=g2[g2[\"% CO_NCM ACUMUL\"]>0.95]\n",
    "g4"
   ]
  },
  {
   "cell_type": "code",
   "execution_count": 13,
   "metadata": {},
   "outputs": [],
   "source": [
    "# obtendo os 5% códigos NCM menos recorrentes, para agrupar como \"outros\" no df1 original\n",
    "idx=g4[\"CO_NCM\"]"
   ]
  },
  {
   "cell_type": "code",
   "execution_count": 14,
   "metadata": {},
   "outputs": [
    {
     "data": {
      "text/plain": [
       "2          False\n",
       "3          False\n",
       "4          False\n",
       "5          False\n",
       "7          False\n",
       "           ...  \n",
       "1764423    False\n",
       "1764424    False\n",
       "1764425    False\n",
       "1764426    False\n",
       "1764429     True\n",
       "Name: CO_NCM, Length: 978971, dtype: bool"
      ]
     },
     "execution_count": 14,
     "metadata": {},
     "output_type": "execute_result"
    }
   ],
   "source": [
    "mask=df1['CO_NCM'].isin(idx)\n",
    "mask"
   ]
  },
  {
   "cell_type": "code",
   "execution_count": 15,
   "metadata": {},
   "outputs": [
    {
     "name": "stderr",
     "output_type": "stream",
     "text": [
      "<ipython-input-15-e6965bd59fa8>:1: SettingWithCopyWarning: \n",
      "A value is trying to be set on a copy of a slice from a DataFrame.\n",
      "Try using .loc[row_indexer,col_indexer] = value instead\n",
      "\n",
      "See the caveats in the documentation: https://pandas.pydata.org/pandas-docs/stable/user_guide/indexing.html#returning-a-view-versus-a-copy\n",
      "  df1[\"CO_NCM_final\"]=df1[\"CO_NCM\"]\n"
     ]
    }
   ],
   "source": [
    "df1[\"CO_NCM_final\"]=df1[\"CO_NCM\"]"
   ]
  },
  {
   "cell_type": "code",
   "execution_count": 16,
   "metadata": {},
   "outputs": [
    {
     "name": "stderr",
     "output_type": "stream",
     "text": [
      "D:\\ANACONDA\\lib\\site-packages\\pandas\\core\\indexing.py:1765: SettingWithCopyWarning: \n",
      "A value is trying to be set on a copy of a slice from a DataFrame.\n",
      "Try using .loc[row_indexer,col_indexer] = value instead\n",
      "\n",
      "See the caveats in the documentation: https://pandas.pydata.org/pandas-docs/stable/user_guide/indexing.html#returning-a-view-versus-a-copy\n",
      "  isetter(loc, value)\n"
     ]
    }
   ],
   "source": [
    "# substituir os 5% NCM menos recorrentes pelo código 99999999 (alterou-se a coluna auxiliar CO_NCM_final para preservar a original CO_NCM)\n",
    "df1.loc[mask, \"CO_NCM_final\"] = 99999999"
   ]
  },
  {
   "cell_type": "code",
   "execution_count": 17,
   "metadata": {},
   "outputs": [
    {
     "data": {
      "text/html": [
       "<div>\n",
       "<style scoped>\n",
       "    .dataframe tbody tr th:only-of-type {\n",
       "        vertical-align: middle;\n",
       "    }\n",
       "\n",
       "    .dataframe tbody tr th {\n",
       "        vertical-align: top;\n",
       "    }\n",
       "\n",
       "    .dataframe thead th {\n",
       "        text-align: right;\n",
       "    }\n",
       "</style>\n",
       "<table border=\"1\" class=\"dataframe\">\n",
       "  <thead>\n",
       "    <tr style=\"text-align: right;\">\n",
       "      <th></th>\n",
       "      <th>ANO-MES</th>\n",
       "      <th>CO_NCM</th>\n",
       "      <th>CO_UNID</th>\n",
       "      <th>CO_PAIS</th>\n",
       "      <th>SG_UF_NCM</th>\n",
       "      <th>CO_VIA</th>\n",
       "      <th>CO_URF</th>\n",
       "      <th>QT_ESTAT</th>\n",
       "      <th>KG_LIQUIDO</th>\n",
       "      <th>VL_FOB</th>\n",
       "      <th>câmbio_mês_atual</th>\n",
       "      <th>câmbio_mês_anterior</th>\n",
       "      <th>CO_NCM_final</th>\n",
       "    </tr>\n",
       "  </thead>\n",
       "  <tbody>\n",
       "    <tr>\n",
       "      <th>2</th>\n",
       "      <td>2019-12</td>\n",
       "      <td>39263000</td>\n",
       "      <td>10</td>\n",
       "      <td>23</td>\n",
       "      <td>SP</td>\n",
       "      <td>1</td>\n",
       "      <td>817800</td>\n",
       "      <td>3951</td>\n",
       "      <td>3951</td>\n",
       "      <td>88311</td>\n",
       "      <td>4.108924</td>\n",
       "      <td>4.154725</td>\n",
       "      <td>39263000</td>\n",
       "    </tr>\n",
       "    <tr>\n",
       "      <th>3</th>\n",
       "      <td>2019-12</td>\n",
       "      <td>38249929</td>\n",
       "      <td>10</td>\n",
       "      <td>493</td>\n",
       "      <td>SP</td>\n",
       "      <td>1</td>\n",
       "      <td>817800</td>\n",
       "      <td>19540</td>\n",
       "      <td>19540</td>\n",
       "      <td>65812</td>\n",
       "      <td>4.108924</td>\n",
       "      <td>4.154725</td>\n",
       "      <td>38249929</td>\n",
       "    </tr>\n",
       "    <tr>\n",
       "      <th>4</th>\n",
       "      <td>2019-12</td>\n",
       "      <td>34021300</td>\n",
       "      <td>10</td>\n",
       "      <td>493</td>\n",
       "      <td>BA</td>\n",
       "      <td>1</td>\n",
       "      <td>517800</td>\n",
       "      <td>34400</td>\n",
       "      <td>34400</td>\n",
       "      <td>119356</td>\n",
       "      <td>4.108924</td>\n",
       "      <td>4.154725</td>\n",
       "      <td>34021300</td>\n",
       "    </tr>\n",
       "    <tr>\n",
       "      <th>5</th>\n",
       "      <td>2019-12</td>\n",
       "      <td>85389090</td>\n",
       "      <td>10</td>\n",
       "      <td>386</td>\n",
       "      <td>SC</td>\n",
       "      <td>1</td>\n",
       "      <td>817800</td>\n",
       "      <td>101</td>\n",
       "      <td>101</td>\n",
       "      <td>879</td>\n",
       "      <td>4.108924</td>\n",
       "      <td>4.154725</td>\n",
       "      <td>85389090</td>\n",
       "    </tr>\n",
       "    <tr>\n",
       "      <th>7</th>\n",
       "      <td>2019-12</td>\n",
       "      <td>85030010</td>\n",
       "      <td>10</td>\n",
       "      <td>386</td>\n",
       "      <td>SP</td>\n",
       "      <td>4</td>\n",
       "      <td>817600</td>\n",
       "      <td>835</td>\n",
       "      <td>835</td>\n",
       "      <td>3567</td>\n",
       "      <td>4.108924</td>\n",
       "      <td>4.154725</td>\n",
       "      <td>85030010</td>\n",
       "    </tr>\n",
       "    <tr>\n",
       "      <th>...</th>\n",
       "      <td>...</td>\n",
       "      <td>...</td>\n",
       "      <td>...</td>\n",
       "      <td>...</td>\n",
       "      <td>...</td>\n",
       "      <td>...</td>\n",
       "      <td>...</td>\n",
       "      <td>...</td>\n",
       "      <td>...</td>\n",
       "      <td>...</td>\n",
       "      <td>...</td>\n",
       "      <td>...</td>\n",
       "      <td>...</td>\n",
       "    </tr>\n",
       "    <tr>\n",
       "      <th>1764423</th>\n",
       "      <td>2019-08</td>\n",
       "      <td>84339090</td>\n",
       "      <td>10</td>\n",
       "      <td>63</td>\n",
       "      <td>RS</td>\n",
       "      <td>7</td>\n",
       "      <td>1017500</td>\n",
       "      <td>25285</td>\n",
       "      <td>25285</td>\n",
       "      <td>54569</td>\n",
       "      <td>4.019382</td>\n",
       "      <td>3.778713</td>\n",
       "      <td>84339090</td>\n",
       "    </tr>\n",
       "    <tr>\n",
       "      <th>1764424</th>\n",
       "      <td>2019-08</td>\n",
       "      <td>29221999</td>\n",
       "      <td>10</td>\n",
       "      <td>767</td>\n",
       "      <td>SP</td>\n",
       "      <td>4</td>\n",
       "      <td>817700</td>\n",
       "      <td>1</td>\n",
       "      <td>1</td>\n",
       "      <td>476</td>\n",
       "      <td>4.019382</td>\n",
       "      <td>3.778713</td>\n",
       "      <td>29221999</td>\n",
       "    </tr>\n",
       "    <tr>\n",
       "      <th>1764425</th>\n",
       "      <td>2019-08</td>\n",
       "      <td>12122900</td>\n",
       "      <td>10</td>\n",
       "      <td>538</td>\n",
       "      <td>SP</td>\n",
       "      <td>1</td>\n",
       "      <td>817800</td>\n",
       "      <td>5000</td>\n",
       "      <td>5000</td>\n",
       "      <td>45153</td>\n",
       "      <td>4.019382</td>\n",
       "      <td>3.778713</td>\n",
       "      <td>12122900</td>\n",
       "    </tr>\n",
       "    <tr>\n",
       "      <th>1764426</th>\n",
       "      <td>2019-08</td>\n",
       "      <td>39079919</td>\n",
       "      <td>10</td>\n",
       "      <td>275</td>\n",
       "      <td>SP</td>\n",
       "      <td>1</td>\n",
       "      <td>817800</td>\n",
       "      <td>2560</td>\n",
       "      <td>2560</td>\n",
       "      <td>6943</td>\n",
       "      <td>4.019382</td>\n",
       "      <td>3.778713</td>\n",
       "      <td>39079919</td>\n",
       "    </tr>\n",
       "    <tr>\n",
       "      <th>1764429</th>\n",
       "      <td>2019-08</td>\n",
       "      <td>30043918</td>\n",
       "      <td>10</td>\n",
       "      <td>767</td>\n",
       "      <td>SP</td>\n",
       "      <td>4</td>\n",
       "      <td>817600</td>\n",
       "      <td>225</td>\n",
       "      <td>225</td>\n",
       "      <td>1216801</td>\n",
       "      <td>4.019382</td>\n",
       "      <td>3.778713</td>\n",
       "      <td>99999999</td>\n",
       "    </tr>\n",
       "  </tbody>\n",
       "</table>\n",
       "<p>978971 rows × 13 columns</p>\n",
       "</div>"
      ],
      "text/plain": [
       "         ANO-MES    CO_NCM  CO_UNID  CO_PAIS SG_UF_NCM  CO_VIA   CO_URF  \\\n",
       "2        2019-12  39263000       10       23        SP       1   817800   \n",
       "3        2019-12  38249929       10      493        SP       1   817800   \n",
       "4        2019-12  34021300       10      493        BA       1   517800   \n",
       "5        2019-12  85389090       10      386        SC       1   817800   \n",
       "7        2019-12  85030010       10      386        SP       4   817600   \n",
       "...          ...       ...      ...      ...       ...     ...      ...   \n",
       "1764423  2019-08  84339090       10       63        RS       7  1017500   \n",
       "1764424  2019-08  29221999       10      767        SP       4   817700   \n",
       "1764425  2019-08  12122900       10      538        SP       1   817800   \n",
       "1764426  2019-08  39079919       10      275        SP       1   817800   \n",
       "1764429  2019-08  30043918       10      767        SP       4   817600   \n",
       "\n",
       "         QT_ESTAT  KG_LIQUIDO   VL_FOB  câmbio_mês_atual  câmbio_mês_anterior  \\\n",
       "2            3951        3951    88311          4.108924             4.154725   \n",
       "3           19540       19540    65812          4.108924             4.154725   \n",
       "4           34400       34400   119356          4.108924             4.154725   \n",
       "5             101         101      879          4.108924             4.154725   \n",
       "7             835         835     3567          4.108924             4.154725   \n",
       "...           ...         ...      ...               ...                  ...   \n",
       "1764423     25285       25285    54569          4.019382             3.778713   \n",
       "1764424         1           1      476          4.019382             3.778713   \n",
       "1764425      5000        5000    45153          4.019382             3.778713   \n",
       "1764426      2560        2560     6943          4.019382             3.778713   \n",
       "1764429       225         225  1216801          4.019382             3.778713   \n",
       "\n",
       "         CO_NCM_final  \n",
       "2            39263000  \n",
       "3            38249929  \n",
       "4            34021300  \n",
       "5            85389090  \n",
       "7            85030010  \n",
       "...               ...  \n",
       "1764423      84339090  \n",
       "1764424      29221999  \n",
       "1764425      12122900  \n",
       "1764426      39079919  \n",
       "1764429      99999999  \n",
       "\n",
       "[978971 rows x 13 columns]"
      ]
     },
     "execution_count": 17,
     "metadata": {},
     "output_type": "execute_result"
    }
   ],
   "source": [
    "df1"
   ]
  },
  {
   "cell_type": "code",
   "execution_count": 18,
   "metadata": {
    "scrolled": true
   },
   "outputs": [
    {
     "data": {
      "text/plain": [
       "99999999    48953\n",
       "39269090    11504\n",
       "73181500     9334\n",
       "73269090     8381\n",
       "40169300     8064\n",
       "            ...  \n",
       "49040000       48\n",
       "29419041       48\n",
       "29419061       48\n",
       "33012917       48\n",
       "54071029       48\n",
       "Name: CO_NCM_final, Length: 2829, dtype: int64"
      ]
     },
     "execution_count": 18,
     "metadata": {},
     "output_type": "execute_result"
    }
   ],
   "source": [
    "df1[\"CO_NCM_final\"].value_counts()"
   ]
  },
  {
   "cell_type": "markdown",
   "metadata": {},
   "source": [
    "###### Não há necessidade de trabalhar com a variável ref aos códigos UNID MED EST (CO_UNID) recorrentes, pois o df está restrito ao CO_UNID=10"
   ]
  },
  {
   "cell_type": "markdown",
   "metadata": {},
   "source": [
    "###### Checando países (CO_PAIS) recorrentes"
   ]
  },
  {
   "cell_type": "code",
   "execution_count": 19,
   "metadata": {},
   "outputs": [
    {
     "data": {
      "text/html": [
       "<div>\n",
       "<style scoped>\n",
       "    .dataframe tbody tr th:only-of-type {\n",
       "        vertical-align: middle;\n",
       "    }\n",
       "\n",
       "    .dataframe tbody tr th {\n",
       "        vertical-align: top;\n",
       "    }\n",
       "\n",
       "    .dataframe thead th {\n",
       "        text-align: right;\n",
       "    }\n",
       "</style>\n",
       "<table border=\"1\" class=\"dataframe\">\n",
       "  <thead>\n",
       "    <tr style=\"text-align: right;\">\n",
       "      <th></th>\n",
       "      <th>CO_PAIS</th>\n",
       "      <th>contagem</th>\n",
       "    </tr>\n",
       "  </thead>\n",
       "  <tbody>\n",
       "    <tr>\n",
       "      <th>39</th>\n",
       "      <td>160</td>\n",
       "      <td>181397</td>\n",
       "    </tr>\n",
       "    <tr>\n",
       "      <th>62</th>\n",
       "      <td>249</td>\n",
       "      <td>122542</td>\n",
       "    </tr>\n",
       "    <tr>\n",
       "      <th>3</th>\n",
       "      <td>23</td>\n",
       "      <td>89406</td>\n",
       "    </tr>\n",
       "    <tr>\n",
       "      <th>97</th>\n",
       "      <td>386</td>\n",
       "      <td>58879</td>\n",
       "    </tr>\n",
       "    <tr>\n",
       "      <th>69</th>\n",
       "      <td>275</td>\n",
       "      <td>39455</td>\n",
       "    </tr>\n",
       "    <tr>\n",
       "      <th>...</th>\n",
       "      <td>...</td>\n",
       "      <td>...</td>\n",
       "    </tr>\n",
       "    <tr>\n",
       "      <th>188</th>\n",
       "      <td>795</td>\n",
       "      <td>1</td>\n",
       "    </tr>\n",
       "    <tr>\n",
       "      <th>175</th>\n",
       "      <td>754</td>\n",
       "      <td>1</td>\n",
       "    </tr>\n",
       "    <tr>\n",
       "      <th>26</th>\n",
       "      <td>99</td>\n",
       "      <td>1</td>\n",
       "    </tr>\n",
       "    <tr>\n",
       "      <th>22</th>\n",
       "      <td>90</td>\n",
       "      <td>1</td>\n",
       "    </tr>\n",
       "    <tr>\n",
       "      <th>207</th>\n",
       "      <td>994</td>\n",
       "      <td>1</td>\n",
       "    </tr>\n",
       "  </tbody>\n",
       "</table>\n",
       "<p>208 rows × 2 columns</p>\n",
       "</div>"
      ],
      "text/plain": [
       "     CO_PAIS  contagem\n",
       "39       160    181397\n",
       "62       249    122542\n",
       "3         23     89406\n",
       "97       386     58879\n",
       "69       275     39455\n",
       "..       ...       ...\n",
       "188      795         1\n",
       "175      754         1\n",
       "26        99         1\n",
       "22        90         1\n",
       "207      994         1\n",
       "\n",
       "[208 rows x 2 columns]"
      ]
     },
     "execution_count": 19,
     "metadata": {},
     "output_type": "execute_result"
    }
   ],
   "source": [
    "g1=df1.groupby(['CO_PAIS']).size().reset_index().rename(columns={0:'contagem'})\n",
    "g1.sort_values(by=[\"contagem\"],ascending=False)"
   ]
  },
  {
   "cell_type": "code",
   "execution_count": 20,
   "metadata": {},
   "outputs": [],
   "source": [
    "g1[\"% CO_PAIS\"] = g1[\"contagem\"]/(g1[\"contagem\"].sum())"
   ]
  },
  {
   "cell_type": "code",
   "execution_count": 21,
   "metadata": {},
   "outputs": [],
   "source": [
    "g2=g1.sort_values(by=[\"contagem\"],ascending=False)"
   ]
  },
  {
   "cell_type": "code",
   "execution_count": 22,
   "metadata": {},
   "outputs": [],
   "source": [
    "g2[\"% CO_PAIS ACUMUL\"]=g2[\"% CO_PAIS\"].cumsum()"
   ]
  },
  {
   "cell_type": "code",
   "execution_count": 23,
   "metadata": {},
   "outputs": [
    {
     "data": {
      "text/html": [
       "<div>\n",
       "<style scoped>\n",
       "    .dataframe tbody tr th:only-of-type {\n",
       "        vertical-align: middle;\n",
       "    }\n",
       "\n",
       "    .dataframe tbody tr th {\n",
       "        vertical-align: top;\n",
       "    }\n",
       "\n",
       "    .dataframe thead th {\n",
       "        text-align: right;\n",
       "    }\n",
       "</style>\n",
       "<table border=\"1\" class=\"dataframe\">\n",
       "  <thead>\n",
       "    <tr style=\"text-align: right;\">\n",
       "      <th></th>\n",
       "      <th>CO_PAIS</th>\n",
       "      <th>contagem</th>\n",
       "      <th>% CO_PAIS</th>\n",
       "      <th>% CO_PAIS ACUMUL</th>\n",
       "    </tr>\n",
       "  </thead>\n",
       "  <tbody>\n",
       "    <tr>\n",
       "      <th>39</th>\n",
       "      <td>160</td>\n",
       "      <td>181397</td>\n",
       "      <td>0.185294</td>\n",
       "      <td>0.185294</td>\n",
       "    </tr>\n",
       "    <tr>\n",
       "      <th>62</th>\n",
       "      <td>249</td>\n",
       "      <td>122542</td>\n",
       "      <td>0.125174</td>\n",
       "      <td>0.310468</td>\n",
       "    </tr>\n",
       "    <tr>\n",
       "      <th>3</th>\n",
       "      <td>23</td>\n",
       "      <td>89406</td>\n",
       "      <td>0.091327</td>\n",
       "      <td>0.401794</td>\n",
       "    </tr>\n",
       "    <tr>\n",
       "      <th>97</th>\n",
       "      <td>386</td>\n",
       "      <td>58879</td>\n",
       "      <td>0.060144</td>\n",
       "      <td>0.461938</td>\n",
       "    </tr>\n",
       "    <tr>\n",
       "      <th>69</th>\n",
       "      <td>275</td>\n",
       "      <td>39455</td>\n",
       "      <td>0.040303</td>\n",
       "      <td>0.502241</td>\n",
       "    </tr>\n",
       "  </tbody>\n",
       "</table>\n",
       "</div>"
      ],
      "text/plain": [
       "    CO_PAIS  contagem  % CO_PAIS  % CO_PAIS ACUMUL\n",
       "39      160    181397   0.185294          0.185294\n",
       "62      249    122542   0.125174          0.310468\n",
       "3        23     89406   0.091327          0.401794\n",
       "97      386     58879   0.060144          0.461938\n",
       "69      275     39455   0.040303          0.502241"
      ]
     },
     "execution_count": 23,
     "metadata": {},
     "output_type": "execute_result"
    }
   ],
   "source": [
    "g2.head()"
   ]
  },
  {
   "cell_type": "code",
   "execution_count": 24,
   "metadata": {},
   "outputs": [
    {
     "name": "stdout",
     "output_type": "stream",
     "text": [
      "<class 'pandas.core.frame.DataFrame'>\n",
      "Int64Index: 38 entries, 39 to 61\n",
      "Data columns (total 4 columns):\n",
      " #   Column            Non-Null Count  Dtype  \n",
      "---  ------            --------------  -----  \n",
      " 0   CO_PAIS           38 non-null     int64  \n",
      " 1   contagem          38 non-null     int64  \n",
      " 2   % CO_PAIS         38 non-null     float64\n",
      " 3   % CO_PAIS ACUMUL  38 non-null     float64\n",
      "dtypes: float64(2), int64(2)\n",
      "memory usage: 1.5 KB\n"
     ]
    }
   ],
   "source": [
    "# tentando identificar um percentual que viabilize a implementação do modelo (considerando a necessidade de \"dummizar\" a variável CO_NCM, a ideia é reduzir o número de categorias)\n",
    "g3=g2[g2[\"% CO_PAIS ACUMUL\"]<=0.95]\n",
    "g3.info()\n",
    "# repare que 95% das ocorrências se restringem a 38 países dentre os 208."
   ]
  },
  {
   "cell_type": "code",
   "execution_count": 25,
   "metadata": {},
   "outputs": [
    {
     "data": {
      "text/html": [
       "<div>\n",
       "<style scoped>\n",
       "    .dataframe tbody tr th:only-of-type {\n",
       "        vertical-align: middle;\n",
       "    }\n",
       "\n",
       "    .dataframe tbody tr th {\n",
       "        vertical-align: top;\n",
       "    }\n",
       "\n",
       "    .dataframe thead th {\n",
       "        text-align: right;\n",
       "    }\n",
       "</style>\n",
       "<table border=\"1\" class=\"dataframe\">\n",
       "  <thead>\n",
       "    <tr style=\"text-align: right;\">\n",
       "      <th></th>\n",
       "      <th>CO_PAIS</th>\n",
       "      <th>contagem</th>\n",
       "      <th>% CO_PAIS</th>\n",
       "      <th>% CO_PAIS ACUMUL</th>\n",
       "    </tr>\n",
       "  </thead>\n",
       "  <tbody>\n",
       "    <tr>\n",
       "      <th>43</th>\n",
       "      <td>169</td>\n",
       "      <td>3474</td>\n",
       "      <td>0.003549</td>\n",
       "      <td>0.950439</td>\n",
       "    </tr>\n",
       "    <tr>\n",
       "      <th>147</th>\n",
       "      <td>586</td>\n",
       "      <td>3283</td>\n",
       "      <td>0.003354</td>\n",
       "      <td>0.953792</td>\n",
       "    </tr>\n",
       "    <tr>\n",
       "      <th>136</th>\n",
       "      <td>538</td>\n",
       "      <td>3258</td>\n",
       "      <td>0.003328</td>\n",
       "      <td>0.957120</td>\n",
       "    </tr>\n",
       "    <tr>\n",
       "      <th>94</th>\n",
       "      <td>375</td>\n",
       "      <td>3063</td>\n",
       "      <td>0.003129</td>\n",
       "      <td>0.960249</td>\n",
       "    </tr>\n",
       "    <tr>\n",
       "      <th>161</th>\n",
       "      <td>676</td>\n",
       "      <td>2887</td>\n",
       "      <td>0.002949</td>\n",
       "      <td>0.963198</td>\n",
       "    </tr>\n",
       "    <tr>\n",
       "      <th>...</th>\n",
       "      <td>...</td>\n",
       "      <td>...</td>\n",
       "      <td>...</td>\n",
       "      <td>...</td>\n",
       "    </tr>\n",
       "    <tr>\n",
       "      <th>188</th>\n",
       "      <td>795</td>\n",
       "      <td>1</td>\n",
       "      <td>0.000001</td>\n",
       "      <td>0.999996</td>\n",
       "    </tr>\n",
       "    <tr>\n",
       "      <th>175</th>\n",
       "      <td>754</td>\n",
       "      <td>1</td>\n",
       "      <td>0.000001</td>\n",
       "      <td>0.999997</td>\n",
       "    </tr>\n",
       "    <tr>\n",
       "      <th>26</th>\n",
       "      <td>99</td>\n",
       "      <td>1</td>\n",
       "      <td>0.000001</td>\n",
       "      <td>0.999998</td>\n",
       "    </tr>\n",
       "    <tr>\n",
       "      <th>22</th>\n",
       "      <td>90</td>\n",
       "      <td>1</td>\n",
       "      <td>0.000001</td>\n",
       "      <td>0.999999</td>\n",
       "    </tr>\n",
       "    <tr>\n",
       "      <th>207</th>\n",
       "      <td>994</td>\n",
       "      <td>1</td>\n",
       "      <td>0.000001</td>\n",
       "      <td>1.000000</td>\n",
       "    </tr>\n",
       "  </tbody>\n",
       "</table>\n",
       "<p>170 rows × 4 columns</p>\n",
       "</div>"
      ],
      "text/plain": [
       "     CO_PAIS  contagem  % CO_PAIS  % CO_PAIS ACUMUL\n",
       "43       169      3474   0.003549          0.950439\n",
       "147      586      3283   0.003354          0.953792\n",
       "136      538      3258   0.003328          0.957120\n",
       "94       375      3063   0.003129          0.960249\n",
       "161      676      2887   0.002949          0.963198\n",
       "..       ...       ...        ...               ...\n",
       "188      795         1   0.000001          0.999996\n",
       "175      754         1   0.000001          0.999997\n",
       "26        99         1   0.000001          0.999998\n",
       "22        90         1   0.000001          0.999999\n",
       "207      994         1   0.000001          1.000000\n",
       "\n",
       "[170 rows x 4 columns]"
      ]
     },
     "execution_count": 25,
     "metadata": {},
     "output_type": "execute_result"
    }
   ],
   "source": [
    "# os 5% que extrapolam o acumulado 95% serão agrupados em uma única categoria, portanto, segue a identificação desses valores:\n",
    "g4=g2[g2[\"% CO_PAIS ACUMUL\"]>0.95]\n",
    "g4"
   ]
  },
  {
   "cell_type": "code",
   "execution_count": 26,
   "metadata": {},
   "outputs": [],
   "source": [
    "# obtendo os 5% países menos recorrentes, para agrupar como \"outros\" no df original\n",
    "idx=g4[\"CO_PAIS\"]"
   ]
  },
  {
   "cell_type": "code",
   "execution_count": 27,
   "metadata": {},
   "outputs": [
    {
     "data": {
      "text/plain": [
       "2          False\n",
       "3          False\n",
       "4          False\n",
       "5          False\n",
       "7          False\n",
       "           ...  \n",
       "1764423    False\n",
       "1764424    False\n",
       "1764425     True\n",
       "1764426    False\n",
       "1764429    False\n",
       "Name: CO_PAIS, Length: 978971, dtype: bool"
      ]
     },
     "execution_count": 27,
     "metadata": {},
     "output_type": "execute_result"
    }
   ],
   "source": [
    "mask=df1['CO_PAIS'].isin(idx)\n",
    "mask"
   ]
  },
  {
   "cell_type": "code",
   "execution_count": 28,
   "metadata": {},
   "outputs": [
    {
     "name": "stderr",
     "output_type": "stream",
     "text": [
      "<ipython-input-28-b9c243d6eb50>:1: SettingWithCopyWarning: \n",
      "A value is trying to be set on a copy of a slice from a DataFrame.\n",
      "Try using .loc[row_indexer,col_indexer] = value instead\n",
      "\n",
      "See the caveats in the documentation: https://pandas.pydata.org/pandas-docs/stable/user_guide/indexing.html#returning-a-view-versus-a-copy\n",
      "  df1[\"CO_PAIS_final\"]=df1[\"CO_PAIS\"]\n"
     ]
    }
   ],
   "source": [
    "df1[\"CO_PAIS_final\"]=df1[\"CO_PAIS\"]"
   ]
  },
  {
   "cell_type": "code",
   "execution_count": 29,
   "metadata": {},
   "outputs": [
    {
     "name": "stderr",
     "output_type": "stream",
     "text": [
      "D:\\ANACONDA\\lib\\site-packages\\pandas\\core\\indexing.py:1765: SettingWithCopyWarning: \n",
      "A value is trying to be set on a copy of a slice from a DataFrame.\n",
      "Try using .loc[row_indexer,col_indexer] = value instead\n",
      "\n",
      "See the caveats in the documentation: https://pandas.pydata.org/pandas-docs/stable/user_guide/indexing.html#returning-a-view-versus-a-copy\n",
      "  isetter(loc, value)\n"
     ]
    }
   ],
   "source": [
    "# substituir os 5% NCM menos recorrentes pelo código 99999999 (alterou-se a coluna auxiliar CO_PAIS_final para preservar a original CO_PAIS)\n",
    "df1.loc[mask, \"CO_PAIS_final\"] = 999"
   ]
  },
  {
   "cell_type": "code",
   "execution_count": 30,
   "metadata": {},
   "outputs": [
    {
     "data": {
      "text/html": [
       "<div>\n",
       "<style scoped>\n",
       "    .dataframe tbody tr th:only-of-type {\n",
       "        vertical-align: middle;\n",
       "    }\n",
       "\n",
       "    .dataframe tbody tr th {\n",
       "        vertical-align: top;\n",
       "    }\n",
       "\n",
       "    .dataframe thead th {\n",
       "        text-align: right;\n",
       "    }\n",
       "</style>\n",
       "<table border=\"1\" class=\"dataframe\">\n",
       "  <thead>\n",
       "    <tr style=\"text-align: right;\">\n",
       "      <th></th>\n",
       "      <th>ANO-MES</th>\n",
       "      <th>CO_NCM</th>\n",
       "      <th>CO_UNID</th>\n",
       "      <th>CO_PAIS</th>\n",
       "      <th>SG_UF_NCM</th>\n",
       "      <th>CO_VIA</th>\n",
       "      <th>CO_URF</th>\n",
       "      <th>QT_ESTAT</th>\n",
       "      <th>KG_LIQUIDO</th>\n",
       "      <th>VL_FOB</th>\n",
       "      <th>câmbio_mês_atual</th>\n",
       "      <th>câmbio_mês_anterior</th>\n",
       "      <th>CO_NCM_final</th>\n",
       "      <th>CO_PAIS_final</th>\n",
       "    </tr>\n",
       "  </thead>\n",
       "  <tbody>\n",
       "    <tr>\n",
       "      <th>2</th>\n",
       "      <td>2019-12</td>\n",
       "      <td>39263000</td>\n",
       "      <td>10</td>\n",
       "      <td>23</td>\n",
       "      <td>SP</td>\n",
       "      <td>1</td>\n",
       "      <td>817800</td>\n",
       "      <td>3951</td>\n",
       "      <td>3951</td>\n",
       "      <td>88311</td>\n",
       "      <td>4.108924</td>\n",
       "      <td>4.154725</td>\n",
       "      <td>39263000</td>\n",
       "      <td>23</td>\n",
       "    </tr>\n",
       "    <tr>\n",
       "      <th>3</th>\n",
       "      <td>2019-12</td>\n",
       "      <td>38249929</td>\n",
       "      <td>10</td>\n",
       "      <td>493</td>\n",
       "      <td>SP</td>\n",
       "      <td>1</td>\n",
       "      <td>817800</td>\n",
       "      <td>19540</td>\n",
       "      <td>19540</td>\n",
       "      <td>65812</td>\n",
       "      <td>4.108924</td>\n",
       "      <td>4.154725</td>\n",
       "      <td>38249929</td>\n",
       "      <td>493</td>\n",
       "    </tr>\n",
       "    <tr>\n",
       "      <th>4</th>\n",
       "      <td>2019-12</td>\n",
       "      <td>34021300</td>\n",
       "      <td>10</td>\n",
       "      <td>493</td>\n",
       "      <td>BA</td>\n",
       "      <td>1</td>\n",
       "      <td>517800</td>\n",
       "      <td>34400</td>\n",
       "      <td>34400</td>\n",
       "      <td>119356</td>\n",
       "      <td>4.108924</td>\n",
       "      <td>4.154725</td>\n",
       "      <td>34021300</td>\n",
       "      <td>493</td>\n",
       "    </tr>\n",
       "    <tr>\n",
       "      <th>5</th>\n",
       "      <td>2019-12</td>\n",
       "      <td>85389090</td>\n",
       "      <td>10</td>\n",
       "      <td>386</td>\n",
       "      <td>SC</td>\n",
       "      <td>1</td>\n",
       "      <td>817800</td>\n",
       "      <td>101</td>\n",
       "      <td>101</td>\n",
       "      <td>879</td>\n",
       "      <td>4.108924</td>\n",
       "      <td>4.154725</td>\n",
       "      <td>85389090</td>\n",
       "      <td>386</td>\n",
       "    </tr>\n",
       "    <tr>\n",
       "      <th>7</th>\n",
       "      <td>2019-12</td>\n",
       "      <td>85030010</td>\n",
       "      <td>10</td>\n",
       "      <td>386</td>\n",
       "      <td>SP</td>\n",
       "      <td>4</td>\n",
       "      <td>817600</td>\n",
       "      <td>835</td>\n",
       "      <td>835</td>\n",
       "      <td>3567</td>\n",
       "      <td>4.108924</td>\n",
       "      <td>4.154725</td>\n",
       "      <td>85030010</td>\n",
       "      <td>386</td>\n",
       "    </tr>\n",
       "    <tr>\n",
       "      <th>...</th>\n",
       "      <td>...</td>\n",
       "      <td>...</td>\n",
       "      <td>...</td>\n",
       "      <td>...</td>\n",
       "      <td>...</td>\n",
       "      <td>...</td>\n",
       "      <td>...</td>\n",
       "      <td>...</td>\n",
       "      <td>...</td>\n",
       "      <td>...</td>\n",
       "      <td>...</td>\n",
       "      <td>...</td>\n",
       "      <td>...</td>\n",
       "      <td>...</td>\n",
       "    </tr>\n",
       "    <tr>\n",
       "      <th>1764423</th>\n",
       "      <td>2019-08</td>\n",
       "      <td>84339090</td>\n",
       "      <td>10</td>\n",
       "      <td>63</td>\n",
       "      <td>RS</td>\n",
       "      <td>7</td>\n",
       "      <td>1017500</td>\n",
       "      <td>25285</td>\n",
       "      <td>25285</td>\n",
       "      <td>54569</td>\n",
       "      <td>4.019382</td>\n",
       "      <td>3.778713</td>\n",
       "      <td>84339090</td>\n",
       "      <td>63</td>\n",
       "    </tr>\n",
       "    <tr>\n",
       "      <th>1764424</th>\n",
       "      <td>2019-08</td>\n",
       "      <td>29221999</td>\n",
       "      <td>10</td>\n",
       "      <td>767</td>\n",
       "      <td>SP</td>\n",
       "      <td>4</td>\n",
       "      <td>817700</td>\n",
       "      <td>1</td>\n",
       "      <td>1</td>\n",
       "      <td>476</td>\n",
       "      <td>4.019382</td>\n",
       "      <td>3.778713</td>\n",
       "      <td>29221999</td>\n",
       "      <td>767</td>\n",
       "    </tr>\n",
       "    <tr>\n",
       "      <th>1764425</th>\n",
       "      <td>2019-08</td>\n",
       "      <td>12122900</td>\n",
       "      <td>10</td>\n",
       "      <td>538</td>\n",
       "      <td>SP</td>\n",
       "      <td>1</td>\n",
       "      <td>817800</td>\n",
       "      <td>5000</td>\n",
       "      <td>5000</td>\n",
       "      <td>45153</td>\n",
       "      <td>4.019382</td>\n",
       "      <td>3.778713</td>\n",
       "      <td>12122900</td>\n",
       "      <td>999</td>\n",
       "    </tr>\n",
       "    <tr>\n",
       "      <th>1764426</th>\n",
       "      <td>2019-08</td>\n",
       "      <td>39079919</td>\n",
       "      <td>10</td>\n",
       "      <td>275</td>\n",
       "      <td>SP</td>\n",
       "      <td>1</td>\n",
       "      <td>817800</td>\n",
       "      <td>2560</td>\n",
       "      <td>2560</td>\n",
       "      <td>6943</td>\n",
       "      <td>4.019382</td>\n",
       "      <td>3.778713</td>\n",
       "      <td>39079919</td>\n",
       "      <td>275</td>\n",
       "    </tr>\n",
       "    <tr>\n",
       "      <th>1764429</th>\n",
       "      <td>2019-08</td>\n",
       "      <td>30043918</td>\n",
       "      <td>10</td>\n",
       "      <td>767</td>\n",
       "      <td>SP</td>\n",
       "      <td>4</td>\n",
       "      <td>817600</td>\n",
       "      <td>225</td>\n",
       "      <td>225</td>\n",
       "      <td>1216801</td>\n",
       "      <td>4.019382</td>\n",
       "      <td>3.778713</td>\n",
       "      <td>99999999</td>\n",
       "      <td>767</td>\n",
       "    </tr>\n",
       "  </tbody>\n",
       "</table>\n",
       "<p>978971 rows × 14 columns</p>\n",
       "</div>"
      ],
      "text/plain": [
       "         ANO-MES    CO_NCM  CO_UNID  CO_PAIS SG_UF_NCM  CO_VIA   CO_URF  \\\n",
       "2        2019-12  39263000       10       23        SP       1   817800   \n",
       "3        2019-12  38249929       10      493        SP       1   817800   \n",
       "4        2019-12  34021300       10      493        BA       1   517800   \n",
       "5        2019-12  85389090       10      386        SC       1   817800   \n",
       "7        2019-12  85030010       10      386        SP       4   817600   \n",
       "...          ...       ...      ...      ...       ...     ...      ...   \n",
       "1764423  2019-08  84339090       10       63        RS       7  1017500   \n",
       "1764424  2019-08  29221999       10      767        SP       4   817700   \n",
       "1764425  2019-08  12122900       10      538        SP       1   817800   \n",
       "1764426  2019-08  39079919       10      275        SP       1   817800   \n",
       "1764429  2019-08  30043918       10      767        SP       4   817600   \n",
       "\n",
       "         QT_ESTAT  KG_LIQUIDO   VL_FOB  câmbio_mês_atual  câmbio_mês_anterior  \\\n",
       "2            3951        3951    88311          4.108924             4.154725   \n",
       "3           19540       19540    65812          4.108924             4.154725   \n",
       "4           34400       34400   119356          4.108924             4.154725   \n",
       "5             101         101      879          4.108924             4.154725   \n",
       "7             835         835     3567          4.108924             4.154725   \n",
       "...           ...         ...      ...               ...                  ...   \n",
       "1764423     25285       25285    54569          4.019382             3.778713   \n",
       "1764424         1           1      476          4.019382             3.778713   \n",
       "1764425      5000        5000    45153          4.019382             3.778713   \n",
       "1764426      2560        2560     6943          4.019382             3.778713   \n",
       "1764429       225         225  1216801          4.019382             3.778713   \n",
       "\n",
       "         CO_NCM_final  CO_PAIS_final  \n",
       "2            39263000             23  \n",
       "3            38249929            493  \n",
       "4            34021300            493  \n",
       "5            85389090            386  \n",
       "7            85030010            386  \n",
       "...               ...            ...  \n",
       "1764423      84339090             63  \n",
       "1764424      29221999            767  \n",
       "1764425      12122900            999  \n",
       "1764426      39079919            275  \n",
       "1764429      99999999            767  \n",
       "\n",
       "[978971 rows x 14 columns]"
      ]
     },
     "execution_count": 30,
     "metadata": {},
     "output_type": "execute_result"
    }
   ],
   "source": [
    "df1"
   ]
  },
  {
   "cell_type": "code",
   "execution_count": 31,
   "metadata": {
    "scrolled": true
   },
   "outputs": [
    {
     "data": {
      "text/plain": [
       "160    181397\n",
       "249    122542\n",
       "23      89406\n",
       "386     58879\n",
       "999     51993\n",
       "275     39455\n",
       "399     38081\n",
       "245     31022\n",
       "361     30969\n",
       "628     26370\n",
       "190     25767\n",
       "161     22602\n",
       "493     19334\n",
       "63      19126\n",
       "767     16355\n",
       "764     16085\n",
       "573     15807\n",
       "87      13206\n",
       "149     12847\n",
       "72      12593\n",
       "351     10937\n",
       "776     10921\n",
       "791     10912\n",
       "603     10455\n",
       "827      9967\n",
       "232      8571\n",
       "607      8161\n",
       "271      7646\n",
       "365      7596\n",
       "858      6813\n",
       "455      6509\n",
       "355      6316\n",
       "158      5855\n",
       "383      4471\n",
       "741      4298\n",
       "845      4106\n",
       "670      4031\n",
       "105      3928\n",
       "247      3642\n",
       "Name: CO_PAIS_final, dtype: int64"
      ]
     },
     "execution_count": 31,
     "metadata": {},
     "output_type": "execute_result"
    }
   ],
   "source": [
    "df1[\"CO_PAIS_final\"].value_counts()"
   ]
  },
  {
   "cell_type": "markdown",
   "metadata": {},
   "source": [
    "###### Checando unidades federadas (SG_UF_NCM) recorrentes"
   ]
  },
  {
   "cell_type": "code",
   "execution_count": 32,
   "metadata": {},
   "outputs": [
    {
     "data": {
      "text/html": [
       "<div>\n",
       "<style scoped>\n",
       "    .dataframe tbody tr th:only-of-type {\n",
       "        vertical-align: middle;\n",
       "    }\n",
       "\n",
       "    .dataframe tbody tr th {\n",
       "        vertical-align: top;\n",
       "    }\n",
       "\n",
       "    .dataframe thead th {\n",
       "        text-align: right;\n",
       "    }\n",
       "</style>\n",
       "<table border=\"1\" class=\"dataframe\">\n",
       "  <thead>\n",
       "    <tr style=\"text-align: right;\">\n",
       "      <th></th>\n",
       "      <th>SG_UF_NCM</th>\n",
       "      <th>contagem</th>\n",
       "    </tr>\n",
       "  </thead>\n",
       "  <tbody>\n",
       "    <tr>\n",
       "      <th>25</th>\n",
       "      <td>SP</td>\n",
       "      <td>386469</td>\n",
       "    </tr>\n",
       "    <tr>\n",
       "      <th>23</th>\n",
       "      <td>SC</td>\n",
       "      <td>115400</td>\n",
       "    </tr>\n",
       "    <tr>\n",
       "      <th>17</th>\n",
       "      <td>PR</td>\n",
       "      <td>81479</td>\n",
       "    </tr>\n",
       "    <tr>\n",
       "      <th>18</th>\n",
       "      <td>RJ</td>\n",
       "      <td>72933</td>\n",
       "    </tr>\n",
       "    <tr>\n",
       "      <th>10</th>\n",
       "      <td>MG</td>\n",
       "      <td>68977</td>\n",
       "    </tr>\n",
       "    <tr>\n",
       "      <th>22</th>\n",
       "      <td>RS</td>\n",
       "      <td>63820</td>\n",
       "    </tr>\n",
       "    <tr>\n",
       "      <th>2</th>\n",
       "      <td>AM</td>\n",
       "      <td>42779</td>\n",
       "    </tr>\n",
       "    <tr>\n",
       "      <th>4</th>\n",
       "      <td>BA</td>\n",
       "      <td>25761</td>\n",
       "    </tr>\n",
       "    <tr>\n",
       "      <th>7</th>\n",
       "      <td>ES</td>\n",
       "      <td>20858</td>\n",
       "    </tr>\n",
       "    <tr>\n",
       "      <th>8</th>\n",
       "      <td>GO</td>\n",
       "      <td>17710</td>\n",
       "    </tr>\n",
       "    <tr>\n",
       "      <th>15</th>\n",
       "      <td>PE</td>\n",
       "      <td>16209</td>\n",
       "    </tr>\n",
       "    <tr>\n",
       "      <th>5</th>\n",
       "      <td>CE</td>\n",
       "      <td>13947</td>\n",
       "    </tr>\n",
       "    <tr>\n",
       "      <th>20</th>\n",
       "      <td>RO</td>\n",
       "      <td>11216</td>\n",
       "    </tr>\n",
       "    <tr>\n",
       "      <th>1</th>\n",
       "      <td>AL</td>\n",
       "      <td>9702</td>\n",
       "    </tr>\n",
       "    <tr>\n",
       "      <th>13</th>\n",
       "      <td>PA</td>\n",
       "      <td>7620</td>\n",
       "    </tr>\n",
       "    <tr>\n",
       "      <th>11</th>\n",
       "      <td>MS</td>\n",
       "      <td>5210</td>\n",
       "    </tr>\n",
       "    <tr>\n",
       "      <th>6</th>\n",
       "      <td>DF</td>\n",
       "      <td>3674</td>\n",
       "    </tr>\n",
       "    <tr>\n",
       "      <th>14</th>\n",
       "      <td>PB</td>\n",
       "      <td>3035</td>\n",
       "    </tr>\n",
       "    <tr>\n",
       "      <th>19</th>\n",
       "      <td>RN</td>\n",
       "      <td>2937</td>\n",
       "    </tr>\n",
       "    <tr>\n",
       "      <th>24</th>\n",
       "      <td>SE</td>\n",
       "      <td>2573</td>\n",
       "    </tr>\n",
       "    <tr>\n",
       "      <th>12</th>\n",
       "      <td>MT</td>\n",
       "      <td>2432</td>\n",
       "    </tr>\n",
       "    <tr>\n",
       "      <th>9</th>\n",
       "      <td>MA</td>\n",
       "      <td>1311</td>\n",
       "    </tr>\n",
       "    <tr>\n",
       "      <th>16</th>\n",
       "      <td>PI</td>\n",
       "      <td>970</td>\n",
       "    </tr>\n",
       "    <tr>\n",
       "      <th>3</th>\n",
       "      <td>AP</td>\n",
       "      <td>861</td>\n",
       "    </tr>\n",
       "    <tr>\n",
       "      <th>26</th>\n",
       "      <td>TO</td>\n",
       "      <td>849</td>\n",
       "    </tr>\n",
       "    <tr>\n",
       "      <th>21</th>\n",
       "      <td>RR</td>\n",
       "      <td>164</td>\n",
       "    </tr>\n",
       "    <tr>\n",
       "      <th>0</th>\n",
       "      <td>AC</td>\n",
       "      <td>75</td>\n",
       "    </tr>\n",
       "  </tbody>\n",
       "</table>\n",
       "</div>"
      ],
      "text/plain": [
       "   SG_UF_NCM  contagem\n",
       "25        SP    386469\n",
       "23        SC    115400\n",
       "17        PR     81479\n",
       "18        RJ     72933\n",
       "10        MG     68977\n",
       "22        RS     63820\n",
       "2         AM     42779\n",
       "4         BA     25761\n",
       "7         ES     20858\n",
       "8         GO     17710\n",
       "15        PE     16209\n",
       "5         CE     13947\n",
       "20        RO     11216\n",
       "1         AL      9702\n",
       "13        PA      7620\n",
       "11        MS      5210\n",
       "6         DF      3674\n",
       "14        PB      3035\n",
       "19        RN      2937\n",
       "24        SE      2573\n",
       "12        MT      2432\n",
       "9         MA      1311\n",
       "16        PI       970\n",
       "3         AP       861\n",
       "26        TO       849\n",
       "21        RR       164\n",
       "0         AC        75"
      ]
     },
     "execution_count": 32,
     "metadata": {},
     "output_type": "execute_result"
    }
   ],
   "source": [
    "g1=df1.groupby(['SG_UF_NCM']).size().reset_index().rename(columns={0:'contagem'})\n",
    "g1.sort_values(by=[\"contagem\"],ascending=False)"
   ]
  },
  {
   "cell_type": "code",
   "execution_count": 33,
   "metadata": {},
   "outputs": [],
   "source": [
    "g1[\"% SG_UF_NCM\"] = g1[\"contagem\"]/(g1[\"contagem\"].sum())"
   ]
  },
  {
   "cell_type": "code",
   "execution_count": 34,
   "metadata": {},
   "outputs": [],
   "source": [
    "g2=g1.sort_values(by=[\"contagem\"],ascending=False)"
   ]
  },
  {
   "cell_type": "code",
   "execution_count": 35,
   "metadata": {},
   "outputs": [],
   "source": [
    "g2[\"% SG_UF_NCM ACUMUL\"]=g2[\"% SG_UF_NCM\"].cumsum()"
   ]
  },
  {
   "cell_type": "code",
   "execution_count": 36,
   "metadata": {
    "scrolled": true
   },
   "outputs": [
    {
     "data": {
      "text/html": [
       "<div>\n",
       "<style scoped>\n",
       "    .dataframe tbody tr th:only-of-type {\n",
       "        vertical-align: middle;\n",
       "    }\n",
       "\n",
       "    .dataframe tbody tr th {\n",
       "        vertical-align: top;\n",
       "    }\n",
       "\n",
       "    .dataframe thead th {\n",
       "        text-align: right;\n",
       "    }\n",
       "</style>\n",
       "<table border=\"1\" class=\"dataframe\">\n",
       "  <thead>\n",
       "    <tr style=\"text-align: right;\">\n",
       "      <th></th>\n",
       "      <th>SG_UF_NCM</th>\n",
       "      <th>contagem</th>\n",
       "      <th>% SG_UF_NCM</th>\n",
       "      <th>% SG_UF_NCM ACUMUL</th>\n",
       "    </tr>\n",
       "  </thead>\n",
       "  <tbody>\n",
       "    <tr>\n",
       "      <th>25</th>\n",
       "      <td>SP</td>\n",
       "      <td>386469</td>\n",
       "      <td>0.394771</td>\n",
       "      <td>0.394771</td>\n",
       "    </tr>\n",
       "    <tr>\n",
       "      <th>23</th>\n",
       "      <td>SC</td>\n",
       "      <td>115400</td>\n",
       "      <td>0.117879</td>\n",
       "      <td>0.512650</td>\n",
       "    </tr>\n",
       "    <tr>\n",
       "      <th>17</th>\n",
       "      <td>PR</td>\n",
       "      <td>81479</td>\n",
       "      <td>0.083229</td>\n",
       "      <td>0.595879</td>\n",
       "    </tr>\n",
       "    <tr>\n",
       "      <th>18</th>\n",
       "      <td>RJ</td>\n",
       "      <td>72933</td>\n",
       "      <td>0.074500</td>\n",
       "      <td>0.670378</td>\n",
       "    </tr>\n",
       "    <tr>\n",
       "      <th>10</th>\n",
       "      <td>MG</td>\n",
       "      <td>68977</td>\n",
       "      <td>0.070459</td>\n",
       "      <td>0.740837</td>\n",
       "    </tr>\n",
       "  </tbody>\n",
       "</table>\n",
       "</div>"
      ],
      "text/plain": [
       "   SG_UF_NCM  contagem  % SG_UF_NCM  % SG_UF_NCM ACUMUL\n",
       "25        SP    386469     0.394771            0.394771\n",
       "23        SC    115400     0.117879            0.512650\n",
       "17        PR     81479     0.083229            0.595879\n",
       "18        RJ     72933     0.074500            0.670378\n",
       "10        MG     68977     0.070459            0.740837"
      ]
     },
     "execution_count": 36,
     "metadata": {},
     "output_type": "execute_result"
    }
   ],
   "source": [
    "g2.head()"
   ]
  },
  {
   "cell_type": "code",
   "execution_count": 37,
   "metadata": {},
   "outputs": [
    {
     "data": {
      "text/html": [
       "<div>\n",
       "<style scoped>\n",
       "    .dataframe tbody tr th:only-of-type {\n",
       "        vertical-align: middle;\n",
       "    }\n",
       "\n",
       "    .dataframe tbody tr th {\n",
       "        vertical-align: top;\n",
       "    }\n",
       "\n",
       "    .dataframe thead th {\n",
       "        text-align: right;\n",
       "    }\n",
       "</style>\n",
       "<table border=\"1\" class=\"dataframe\">\n",
       "  <thead>\n",
       "    <tr style=\"text-align: right;\">\n",
       "      <th></th>\n",
       "      <th>SG_UF_NCM</th>\n",
       "      <th>contagem</th>\n",
       "      <th>% SG_UF_NCM</th>\n",
       "      <th>% SG_UF_NCM ACUMUL</th>\n",
       "    </tr>\n",
       "  </thead>\n",
       "  <tbody>\n",
       "    <tr>\n",
       "      <th>25</th>\n",
       "      <td>SP</td>\n",
       "      <td>386469</td>\n",
       "      <td>0.394771</td>\n",
       "      <td>0.394771</td>\n",
       "    </tr>\n",
       "    <tr>\n",
       "      <th>23</th>\n",
       "      <td>SC</td>\n",
       "      <td>115400</td>\n",
       "      <td>0.117879</td>\n",
       "      <td>0.512650</td>\n",
       "    </tr>\n",
       "    <tr>\n",
       "      <th>17</th>\n",
       "      <td>PR</td>\n",
       "      <td>81479</td>\n",
       "      <td>0.083229</td>\n",
       "      <td>0.595879</td>\n",
       "    </tr>\n",
       "    <tr>\n",
       "      <th>18</th>\n",
       "      <td>RJ</td>\n",
       "      <td>72933</td>\n",
       "      <td>0.074500</td>\n",
       "      <td>0.670378</td>\n",
       "    </tr>\n",
       "    <tr>\n",
       "      <th>10</th>\n",
       "      <td>MG</td>\n",
       "      <td>68977</td>\n",
       "      <td>0.070459</td>\n",
       "      <td>0.740837</td>\n",
       "    </tr>\n",
       "    <tr>\n",
       "      <th>22</th>\n",
       "      <td>RS</td>\n",
       "      <td>63820</td>\n",
       "      <td>0.065191</td>\n",
       "      <td>0.806028</td>\n",
       "    </tr>\n",
       "    <tr>\n",
       "      <th>2</th>\n",
       "      <td>AM</td>\n",
       "      <td>42779</td>\n",
       "      <td>0.043698</td>\n",
       "      <td>0.849726</td>\n",
       "    </tr>\n",
       "    <tr>\n",
       "      <th>4</th>\n",
       "      <td>BA</td>\n",
       "      <td>25761</td>\n",
       "      <td>0.026314</td>\n",
       "      <td>0.876040</td>\n",
       "    </tr>\n",
       "    <tr>\n",
       "      <th>7</th>\n",
       "      <td>ES</td>\n",
       "      <td>20858</td>\n",
       "      <td>0.021306</td>\n",
       "      <td>0.897346</td>\n",
       "    </tr>\n",
       "    <tr>\n",
       "      <th>8</th>\n",
       "      <td>GO</td>\n",
       "      <td>17710</td>\n",
       "      <td>0.018090</td>\n",
       "      <td>0.915437</td>\n",
       "    </tr>\n",
       "    <tr>\n",
       "      <th>15</th>\n",
       "      <td>PE</td>\n",
       "      <td>16209</td>\n",
       "      <td>0.016557</td>\n",
       "      <td>0.931994</td>\n",
       "    </tr>\n",
       "    <tr>\n",
       "      <th>5</th>\n",
       "      <td>CE</td>\n",
       "      <td>13947</td>\n",
       "      <td>0.014247</td>\n",
       "      <td>0.946240</td>\n",
       "    </tr>\n",
       "  </tbody>\n",
       "</table>\n",
       "</div>"
      ],
      "text/plain": [
       "   SG_UF_NCM  contagem  % SG_UF_NCM  % SG_UF_NCM ACUMUL\n",
       "25        SP    386469     0.394771            0.394771\n",
       "23        SC    115400     0.117879            0.512650\n",
       "17        PR     81479     0.083229            0.595879\n",
       "18        RJ     72933     0.074500            0.670378\n",
       "10        MG     68977     0.070459            0.740837\n",
       "22        RS     63820     0.065191            0.806028\n",
       "2         AM     42779     0.043698            0.849726\n",
       "4         BA     25761     0.026314            0.876040\n",
       "7         ES     20858     0.021306            0.897346\n",
       "8         GO     17710     0.018090            0.915437\n",
       "15        PE     16209     0.016557            0.931994\n",
       "5         CE     13947     0.014247            0.946240"
      ]
     },
     "execution_count": 37,
     "metadata": {},
     "output_type": "execute_result"
    }
   ],
   "source": [
    "# tentando identificar um percentual que viabilize a implementação do modelo (considerando a necessidade de \"dummizar\" a variável SG_UF_NCM, a ideia é reduzir o número de categorias)\n",
    "g3=g2[g2[\"% SG_UF_NCM ACUMUL\"]<=0.95]\n",
    "g3\n",
    "# repare que 95% das ocorrências se restringem a 12 UF dentre as 27."
   ]
  },
  {
   "cell_type": "code",
   "execution_count": 38,
   "metadata": {},
   "outputs": [
    {
     "data": {
      "text/html": [
       "<div>\n",
       "<style scoped>\n",
       "    .dataframe tbody tr th:only-of-type {\n",
       "        vertical-align: middle;\n",
       "    }\n",
       "\n",
       "    .dataframe tbody tr th {\n",
       "        vertical-align: top;\n",
       "    }\n",
       "\n",
       "    .dataframe thead th {\n",
       "        text-align: right;\n",
       "    }\n",
       "</style>\n",
       "<table border=\"1\" class=\"dataframe\">\n",
       "  <thead>\n",
       "    <tr style=\"text-align: right;\">\n",
       "      <th></th>\n",
       "      <th>SG_UF_NCM</th>\n",
       "      <th>contagem</th>\n",
       "      <th>% SG_UF_NCM</th>\n",
       "      <th>% SG_UF_NCM ACUMUL</th>\n",
       "    </tr>\n",
       "  </thead>\n",
       "  <tbody>\n",
       "    <tr>\n",
       "      <th>20</th>\n",
       "      <td>RO</td>\n",
       "      <td>11216</td>\n",
       "      <td>0.011457</td>\n",
       "      <td>0.957697</td>\n",
       "    </tr>\n",
       "    <tr>\n",
       "      <th>1</th>\n",
       "      <td>AL</td>\n",
       "      <td>9702</td>\n",
       "      <td>0.009910</td>\n",
       "      <td>0.967608</td>\n",
       "    </tr>\n",
       "    <tr>\n",
       "      <th>13</th>\n",
       "      <td>PA</td>\n",
       "      <td>7620</td>\n",
       "      <td>0.007784</td>\n",
       "      <td>0.975392</td>\n",
       "    </tr>\n",
       "    <tr>\n",
       "      <th>11</th>\n",
       "      <td>MS</td>\n",
       "      <td>5210</td>\n",
       "      <td>0.005322</td>\n",
       "      <td>0.980713</td>\n",
       "    </tr>\n",
       "    <tr>\n",
       "      <th>6</th>\n",
       "      <td>DF</td>\n",
       "      <td>3674</td>\n",
       "      <td>0.003753</td>\n",
       "      <td>0.984466</td>\n",
       "    </tr>\n",
       "    <tr>\n",
       "      <th>14</th>\n",
       "      <td>PB</td>\n",
       "      <td>3035</td>\n",
       "      <td>0.003100</td>\n",
       "      <td>0.987567</td>\n",
       "    </tr>\n",
       "    <tr>\n",
       "      <th>19</th>\n",
       "      <td>RN</td>\n",
       "      <td>2937</td>\n",
       "      <td>0.003000</td>\n",
       "      <td>0.990567</td>\n",
       "    </tr>\n",
       "    <tr>\n",
       "      <th>24</th>\n",
       "      <td>SE</td>\n",
       "      <td>2573</td>\n",
       "      <td>0.002628</td>\n",
       "      <td>0.993195</td>\n",
       "    </tr>\n",
       "    <tr>\n",
       "      <th>12</th>\n",
       "      <td>MT</td>\n",
       "      <td>2432</td>\n",
       "      <td>0.002484</td>\n",
       "      <td>0.995679</td>\n",
       "    </tr>\n",
       "    <tr>\n",
       "      <th>9</th>\n",
       "      <td>MA</td>\n",
       "      <td>1311</td>\n",
       "      <td>0.001339</td>\n",
       "      <td>0.997018</td>\n",
       "    </tr>\n",
       "    <tr>\n",
       "      <th>16</th>\n",
       "      <td>PI</td>\n",
       "      <td>970</td>\n",
       "      <td>0.000991</td>\n",
       "      <td>0.998009</td>\n",
       "    </tr>\n",
       "    <tr>\n",
       "      <th>3</th>\n",
       "      <td>AP</td>\n",
       "      <td>861</td>\n",
       "      <td>0.000879</td>\n",
       "      <td>0.998889</td>\n",
       "    </tr>\n",
       "    <tr>\n",
       "      <th>26</th>\n",
       "      <td>TO</td>\n",
       "      <td>849</td>\n",
       "      <td>0.000867</td>\n",
       "      <td>0.999756</td>\n",
       "    </tr>\n",
       "    <tr>\n",
       "      <th>21</th>\n",
       "      <td>RR</td>\n",
       "      <td>164</td>\n",
       "      <td>0.000168</td>\n",
       "      <td>0.999923</td>\n",
       "    </tr>\n",
       "    <tr>\n",
       "      <th>0</th>\n",
       "      <td>AC</td>\n",
       "      <td>75</td>\n",
       "      <td>0.000077</td>\n",
       "      <td>1.000000</td>\n",
       "    </tr>\n",
       "  </tbody>\n",
       "</table>\n",
       "</div>"
      ],
      "text/plain": [
       "   SG_UF_NCM  contagem  % SG_UF_NCM  % SG_UF_NCM ACUMUL\n",
       "20        RO     11216     0.011457            0.957697\n",
       "1         AL      9702     0.009910            0.967608\n",
       "13        PA      7620     0.007784            0.975392\n",
       "11        MS      5210     0.005322            0.980713\n",
       "6         DF      3674     0.003753            0.984466\n",
       "14        PB      3035     0.003100            0.987567\n",
       "19        RN      2937     0.003000            0.990567\n",
       "24        SE      2573     0.002628            0.993195\n",
       "12        MT      2432     0.002484            0.995679\n",
       "9         MA      1311     0.001339            0.997018\n",
       "16        PI       970     0.000991            0.998009\n",
       "3         AP       861     0.000879            0.998889\n",
       "26        TO       849     0.000867            0.999756\n",
       "21        RR       164     0.000168            0.999923\n",
       "0         AC        75     0.000077            1.000000"
      ]
     },
     "execution_count": 38,
     "metadata": {},
     "output_type": "execute_result"
    }
   ],
   "source": [
    "# os 5% que extrapolam o acumulado 95% serão agrupados em uma única categoria, portanto, segue a identificação desses valores:\n",
    "g4=g2[g2[\"% SG_UF_NCM ACUMUL\"]>0.95]\n",
    "g4"
   ]
  },
  {
   "cell_type": "code",
   "execution_count": 39,
   "metadata": {},
   "outputs": [],
   "source": [
    "# obtendo os 5% UF menos recorrentes, para agrupar como \"outros\" no df original\n",
    "idx=g4[\"SG_UF_NCM\"]"
   ]
  },
  {
   "cell_type": "code",
   "execution_count": 40,
   "metadata": {},
   "outputs": [
    {
     "data": {
      "text/plain": [
       "2          False\n",
       "3          False\n",
       "4          False\n",
       "5          False\n",
       "7          False\n",
       "           ...  \n",
       "1764423    False\n",
       "1764424    False\n",
       "1764425    False\n",
       "1764426    False\n",
       "1764429    False\n",
       "Name: SG_UF_NCM, Length: 978971, dtype: bool"
      ]
     },
     "execution_count": 40,
     "metadata": {},
     "output_type": "execute_result"
    }
   ],
   "source": [
    "mask=df1['SG_UF_NCM'].isin(idx)\n",
    "mask"
   ]
  },
  {
   "cell_type": "code",
   "execution_count": 41,
   "metadata": {},
   "outputs": [
    {
     "name": "stderr",
     "output_type": "stream",
     "text": [
      "<ipython-input-41-dd95862fade3>:1: SettingWithCopyWarning: \n",
      "A value is trying to be set on a copy of a slice from a DataFrame.\n",
      "Try using .loc[row_indexer,col_indexer] = value instead\n",
      "\n",
      "See the caveats in the documentation: https://pandas.pydata.org/pandas-docs/stable/user_guide/indexing.html#returning-a-view-versus-a-copy\n",
      "  df1[\"SG_UF_NCM_final\"]=df1[\"SG_UF_NCM\"]\n"
     ]
    }
   ],
   "source": [
    "df1[\"SG_UF_NCM_final\"]=df1[\"SG_UF_NCM\"]"
   ]
  },
  {
   "cell_type": "code",
   "execution_count": 42,
   "metadata": {},
   "outputs": [
    {
     "name": "stderr",
     "output_type": "stream",
     "text": [
      "D:\\ANACONDA\\lib\\site-packages\\pandas\\core\\indexing.py:1765: SettingWithCopyWarning: \n",
      "A value is trying to be set on a copy of a slice from a DataFrame.\n",
      "Try using .loc[row_indexer,col_indexer] = value instead\n",
      "\n",
      "See the caveats in the documentation: https://pandas.pydata.org/pandas-docs/stable/user_guide/indexing.html#returning-a-view-versus-a-copy\n",
      "  isetter(loc, value)\n"
     ]
    }
   ],
   "source": [
    "# substituir os 5% NCM menos recorrentes pelo código 99 (alterou-se a coluna auxiliar SG_UF_NCM_final para preservar a original SG_UF_NCM)\n",
    "df1.loc[mask, \"SG_UF_NCM_final\"] = 99"
   ]
  },
  {
   "cell_type": "code",
   "execution_count": 43,
   "metadata": {},
   "outputs": [
    {
     "data": {
      "text/html": [
       "<div>\n",
       "<style scoped>\n",
       "    .dataframe tbody tr th:only-of-type {\n",
       "        vertical-align: middle;\n",
       "    }\n",
       "\n",
       "    .dataframe tbody tr th {\n",
       "        vertical-align: top;\n",
       "    }\n",
       "\n",
       "    .dataframe thead th {\n",
       "        text-align: right;\n",
       "    }\n",
       "</style>\n",
       "<table border=\"1\" class=\"dataframe\">\n",
       "  <thead>\n",
       "    <tr style=\"text-align: right;\">\n",
       "      <th></th>\n",
       "      <th>ANO-MES</th>\n",
       "      <th>CO_NCM</th>\n",
       "      <th>CO_UNID</th>\n",
       "      <th>CO_PAIS</th>\n",
       "      <th>SG_UF_NCM</th>\n",
       "      <th>CO_VIA</th>\n",
       "      <th>CO_URF</th>\n",
       "      <th>QT_ESTAT</th>\n",
       "      <th>KG_LIQUIDO</th>\n",
       "      <th>VL_FOB</th>\n",
       "      <th>câmbio_mês_atual</th>\n",
       "      <th>câmbio_mês_anterior</th>\n",
       "      <th>CO_NCM_final</th>\n",
       "      <th>CO_PAIS_final</th>\n",
       "      <th>SG_UF_NCM_final</th>\n",
       "    </tr>\n",
       "  </thead>\n",
       "  <tbody>\n",
       "    <tr>\n",
       "      <th>2</th>\n",
       "      <td>2019-12</td>\n",
       "      <td>39263000</td>\n",
       "      <td>10</td>\n",
       "      <td>23</td>\n",
       "      <td>SP</td>\n",
       "      <td>1</td>\n",
       "      <td>817800</td>\n",
       "      <td>3951</td>\n",
       "      <td>3951</td>\n",
       "      <td>88311</td>\n",
       "      <td>4.108924</td>\n",
       "      <td>4.154725</td>\n",
       "      <td>39263000</td>\n",
       "      <td>23</td>\n",
       "      <td>SP</td>\n",
       "    </tr>\n",
       "    <tr>\n",
       "      <th>3</th>\n",
       "      <td>2019-12</td>\n",
       "      <td>38249929</td>\n",
       "      <td>10</td>\n",
       "      <td>493</td>\n",
       "      <td>SP</td>\n",
       "      <td>1</td>\n",
       "      <td>817800</td>\n",
       "      <td>19540</td>\n",
       "      <td>19540</td>\n",
       "      <td>65812</td>\n",
       "      <td>4.108924</td>\n",
       "      <td>4.154725</td>\n",
       "      <td>38249929</td>\n",
       "      <td>493</td>\n",
       "      <td>SP</td>\n",
       "    </tr>\n",
       "    <tr>\n",
       "      <th>4</th>\n",
       "      <td>2019-12</td>\n",
       "      <td>34021300</td>\n",
       "      <td>10</td>\n",
       "      <td>493</td>\n",
       "      <td>BA</td>\n",
       "      <td>1</td>\n",
       "      <td>517800</td>\n",
       "      <td>34400</td>\n",
       "      <td>34400</td>\n",
       "      <td>119356</td>\n",
       "      <td>4.108924</td>\n",
       "      <td>4.154725</td>\n",
       "      <td>34021300</td>\n",
       "      <td>493</td>\n",
       "      <td>BA</td>\n",
       "    </tr>\n",
       "    <tr>\n",
       "      <th>5</th>\n",
       "      <td>2019-12</td>\n",
       "      <td>85389090</td>\n",
       "      <td>10</td>\n",
       "      <td>386</td>\n",
       "      <td>SC</td>\n",
       "      <td>1</td>\n",
       "      <td>817800</td>\n",
       "      <td>101</td>\n",
       "      <td>101</td>\n",
       "      <td>879</td>\n",
       "      <td>4.108924</td>\n",
       "      <td>4.154725</td>\n",
       "      <td>85389090</td>\n",
       "      <td>386</td>\n",
       "      <td>SC</td>\n",
       "    </tr>\n",
       "    <tr>\n",
       "      <th>7</th>\n",
       "      <td>2019-12</td>\n",
       "      <td>85030010</td>\n",
       "      <td>10</td>\n",
       "      <td>386</td>\n",
       "      <td>SP</td>\n",
       "      <td>4</td>\n",
       "      <td>817600</td>\n",
       "      <td>835</td>\n",
       "      <td>835</td>\n",
       "      <td>3567</td>\n",
       "      <td>4.108924</td>\n",
       "      <td>4.154725</td>\n",
       "      <td>85030010</td>\n",
       "      <td>386</td>\n",
       "      <td>SP</td>\n",
       "    </tr>\n",
       "    <tr>\n",
       "      <th>...</th>\n",
       "      <td>...</td>\n",
       "      <td>...</td>\n",
       "      <td>...</td>\n",
       "      <td>...</td>\n",
       "      <td>...</td>\n",
       "      <td>...</td>\n",
       "      <td>...</td>\n",
       "      <td>...</td>\n",
       "      <td>...</td>\n",
       "      <td>...</td>\n",
       "      <td>...</td>\n",
       "      <td>...</td>\n",
       "      <td>...</td>\n",
       "      <td>...</td>\n",
       "      <td>...</td>\n",
       "    </tr>\n",
       "    <tr>\n",
       "      <th>1764423</th>\n",
       "      <td>2019-08</td>\n",
       "      <td>84339090</td>\n",
       "      <td>10</td>\n",
       "      <td>63</td>\n",
       "      <td>RS</td>\n",
       "      <td>7</td>\n",
       "      <td>1017500</td>\n",
       "      <td>25285</td>\n",
       "      <td>25285</td>\n",
       "      <td>54569</td>\n",
       "      <td>4.019382</td>\n",
       "      <td>3.778713</td>\n",
       "      <td>84339090</td>\n",
       "      <td>63</td>\n",
       "      <td>RS</td>\n",
       "    </tr>\n",
       "    <tr>\n",
       "      <th>1764424</th>\n",
       "      <td>2019-08</td>\n",
       "      <td>29221999</td>\n",
       "      <td>10</td>\n",
       "      <td>767</td>\n",
       "      <td>SP</td>\n",
       "      <td>4</td>\n",
       "      <td>817700</td>\n",
       "      <td>1</td>\n",
       "      <td>1</td>\n",
       "      <td>476</td>\n",
       "      <td>4.019382</td>\n",
       "      <td>3.778713</td>\n",
       "      <td>29221999</td>\n",
       "      <td>767</td>\n",
       "      <td>SP</td>\n",
       "    </tr>\n",
       "    <tr>\n",
       "      <th>1764425</th>\n",
       "      <td>2019-08</td>\n",
       "      <td>12122900</td>\n",
       "      <td>10</td>\n",
       "      <td>538</td>\n",
       "      <td>SP</td>\n",
       "      <td>1</td>\n",
       "      <td>817800</td>\n",
       "      <td>5000</td>\n",
       "      <td>5000</td>\n",
       "      <td>45153</td>\n",
       "      <td>4.019382</td>\n",
       "      <td>3.778713</td>\n",
       "      <td>12122900</td>\n",
       "      <td>999</td>\n",
       "      <td>SP</td>\n",
       "    </tr>\n",
       "    <tr>\n",
       "      <th>1764426</th>\n",
       "      <td>2019-08</td>\n",
       "      <td>39079919</td>\n",
       "      <td>10</td>\n",
       "      <td>275</td>\n",
       "      <td>SP</td>\n",
       "      <td>1</td>\n",
       "      <td>817800</td>\n",
       "      <td>2560</td>\n",
       "      <td>2560</td>\n",
       "      <td>6943</td>\n",
       "      <td>4.019382</td>\n",
       "      <td>3.778713</td>\n",
       "      <td>39079919</td>\n",
       "      <td>275</td>\n",
       "      <td>SP</td>\n",
       "    </tr>\n",
       "    <tr>\n",
       "      <th>1764429</th>\n",
       "      <td>2019-08</td>\n",
       "      <td>30043918</td>\n",
       "      <td>10</td>\n",
       "      <td>767</td>\n",
       "      <td>SP</td>\n",
       "      <td>4</td>\n",
       "      <td>817600</td>\n",
       "      <td>225</td>\n",
       "      <td>225</td>\n",
       "      <td>1216801</td>\n",
       "      <td>4.019382</td>\n",
       "      <td>3.778713</td>\n",
       "      <td>99999999</td>\n",
       "      <td>767</td>\n",
       "      <td>SP</td>\n",
       "    </tr>\n",
       "  </tbody>\n",
       "</table>\n",
       "<p>978971 rows × 15 columns</p>\n",
       "</div>"
      ],
      "text/plain": [
       "         ANO-MES    CO_NCM  CO_UNID  CO_PAIS SG_UF_NCM  CO_VIA   CO_URF  \\\n",
       "2        2019-12  39263000       10       23        SP       1   817800   \n",
       "3        2019-12  38249929       10      493        SP       1   817800   \n",
       "4        2019-12  34021300       10      493        BA       1   517800   \n",
       "5        2019-12  85389090       10      386        SC       1   817800   \n",
       "7        2019-12  85030010       10      386        SP       4   817600   \n",
       "...          ...       ...      ...      ...       ...     ...      ...   \n",
       "1764423  2019-08  84339090       10       63        RS       7  1017500   \n",
       "1764424  2019-08  29221999       10      767        SP       4   817700   \n",
       "1764425  2019-08  12122900       10      538        SP       1   817800   \n",
       "1764426  2019-08  39079919       10      275        SP       1   817800   \n",
       "1764429  2019-08  30043918       10      767        SP       4   817600   \n",
       "\n",
       "         QT_ESTAT  KG_LIQUIDO   VL_FOB  câmbio_mês_atual  câmbio_mês_anterior  \\\n",
       "2            3951        3951    88311          4.108924             4.154725   \n",
       "3           19540       19540    65812          4.108924             4.154725   \n",
       "4           34400       34400   119356          4.108924             4.154725   \n",
       "5             101         101      879          4.108924             4.154725   \n",
       "7             835         835     3567          4.108924             4.154725   \n",
       "...           ...         ...      ...               ...                  ...   \n",
       "1764423     25285       25285    54569          4.019382             3.778713   \n",
       "1764424         1           1      476          4.019382             3.778713   \n",
       "1764425      5000        5000    45153          4.019382             3.778713   \n",
       "1764426      2560        2560     6943          4.019382             3.778713   \n",
       "1764429       225         225  1216801          4.019382             3.778713   \n",
       "\n",
       "         CO_NCM_final  CO_PAIS_final SG_UF_NCM_final  \n",
       "2            39263000             23              SP  \n",
       "3            38249929            493              SP  \n",
       "4            34021300            493              BA  \n",
       "5            85389090            386              SC  \n",
       "7            85030010            386              SP  \n",
       "...               ...            ...             ...  \n",
       "1764423      84339090             63              RS  \n",
       "1764424      29221999            767              SP  \n",
       "1764425      12122900            999              SP  \n",
       "1764426      39079919            275              SP  \n",
       "1764429      99999999            767              SP  \n",
       "\n",
       "[978971 rows x 15 columns]"
      ]
     },
     "execution_count": 43,
     "metadata": {},
     "output_type": "execute_result"
    }
   ],
   "source": [
    "df1"
   ]
  },
  {
   "cell_type": "code",
   "execution_count": 44,
   "metadata": {
    "scrolled": true
   },
   "outputs": [
    {
     "data": {
      "text/plain": [
       "SP    386469\n",
       "SC    115400\n",
       "PR     81479\n",
       "RJ     72933\n",
       "MG     68977\n",
       "RS     63820\n",
       "99     52629\n",
       "AM     42779\n",
       "BA     25761\n",
       "ES     20858\n",
       "GO     17710\n",
       "PE     16209\n",
       "CE     13947\n",
       "Name: SG_UF_NCM_final, dtype: int64"
      ]
     },
     "execution_count": 44,
     "metadata": {},
     "output_type": "execute_result"
    }
   ],
   "source": [
    "df1[\"SG_UF_NCM_final\"].value_counts()"
   ]
  },
  {
   "cell_type": "markdown",
   "metadata": {},
   "source": [
    "###### Checando modais (CO_VIA) recorrentes"
   ]
  },
  {
   "cell_type": "code",
   "execution_count": 45,
   "metadata": {},
   "outputs": [
    {
     "data": {
      "text/html": [
       "<div>\n",
       "<style scoped>\n",
       "    .dataframe tbody tr th:only-of-type {\n",
       "        vertical-align: middle;\n",
       "    }\n",
       "\n",
       "    .dataframe tbody tr th {\n",
       "        vertical-align: top;\n",
       "    }\n",
       "\n",
       "    .dataframe thead th {\n",
       "        text-align: right;\n",
       "    }\n",
       "</style>\n",
       "<table border=\"1\" class=\"dataframe\">\n",
       "  <thead>\n",
       "    <tr style=\"text-align: right;\">\n",
       "      <th></th>\n",
       "      <th>CO_VIA</th>\n",
       "      <th>contagem</th>\n",
       "    </tr>\n",
       "  </thead>\n",
       "  <tbody>\n",
       "    <tr>\n",
       "      <th>1</th>\n",
       "      <td>1</td>\n",
       "      <td>545000</td>\n",
       "    </tr>\n",
       "    <tr>\n",
       "      <th>3</th>\n",
       "      <td>4</td>\n",
       "      <td>396123</td>\n",
       "    </tr>\n",
       "    <tr>\n",
       "      <th>6</th>\n",
       "      <td>7</td>\n",
       "      <td>27424</td>\n",
       "    </tr>\n",
       "    <tr>\n",
       "      <th>0</th>\n",
       "      <td>0</td>\n",
       "      <td>9422</td>\n",
       "    </tr>\n",
       "    <tr>\n",
       "      <th>9</th>\n",
       "      <td>10</td>\n",
       "      <td>712</td>\n",
       "    </tr>\n",
       "    <tr>\n",
       "      <th>4</th>\n",
       "      <td>5</td>\n",
       "      <td>166</td>\n",
       "    </tr>\n",
       "    <tr>\n",
       "      <th>8</th>\n",
       "      <td>9</td>\n",
       "      <td>52</td>\n",
       "    </tr>\n",
       "    <tr>\n",
       "      <th>5</th>\n",
       "      <td>6</td>\n",
       "      <td>37</td>\n",
       "    </tr>\n",
       "    <tr>\n",
       "      <th>7</th>\n",
       "      <td>8</td>\n",
       "      <td>20</td>\n",
       "    </tr>\n",
       "    <tr>\n",
       "      <th>2</th>\n",
       "      <td>2</td>\n",
       "      <td>15</td>\n",
       "    </tr>\n",
       "  </tbody>\n",
       "</table>\n",
       "</div>"
      ],
      "text/plain": [
       "   CO_VIA  contagem\n",
       "1       1    545000\n",
       "3       4    396123\n",
       "6       7     27424\n",
       "0       0      9422\n",
       "9      10       712\n",
       "4       5       166\n",
       "8       9        52\n",
       "5       6        37\n",
       "7       8        20\n",
       "2       2        15"
      ]
     },
     "execution_count": 45,
     "metadata": {},
     "output_type": "execute_result"
    }
   ],
   "source": [
    "g1=df1.groupby(['CO_VIA']).size().reset_index().rename(columns={0:'contagem'})\n",
    "g1.sort_values(by=[\"contagem\"],ascending=False)"
   ]
  },
  {
   "cell_type": "code",
   "execution_count": 46,
   "metadata": {},
   "outputs": [],
   "source": [
    "g1[\"% CO_VIA\"] = g1[\"contagem\"]/(g1[\"contagem\"].sum())"
   ]
  },
  {
   "cell_type": "code",
   "execution_count": 47,
   "metadata": {},
   "outputs": [],
   "source": [
    "g2=g1.sort_values(by=[\"contagem\"],ascending=False)"
   ]
  },
  {
   "cell_type": "code",
   "execution_count": 48,
   "metadata": {},
   "outputs": [],
   "source": [
    "g2[\"% CO_VIA ACUMUL\"]=g2[\"% CO_VIA\"].cumsum()"
   ]
  },
  {
   "cell_type": "code",
   "execution_count": 49,
   "metadata": {},
   "outputs": [
    {
     "data": {
      "text/html": [
       "<div>\n",
       "<style scoped>\n",
       "    .dataframe tbody tr th:only-of-type {\n",
       "        vertical-align: middle;\n",
       "    }\n",
       "\n",
       "    .dataframe tbody tr th {\n",
       "        vertical-align: top;\n",
       "    }\n",
       "\n",
       "    .dataframe thead th {\n",
       "        text-align: right;\n",
       "    }\n",
       "</style>\n",
       "<table border=\"1\" class=\"dataframe\">\n",
       "  <thead>\n",
       "    <tr style=\"text-align: right;\">\n",
       "      <th></th>\n",
       "      <th>CO_VIA</th>\n",
       "      <th>contagem</th>\n",
       "      <th>% CO_VIA</th>\n",
       "      <th>% CO_VIA ACUMUL</th>\n",
       "    </tr>\n",
       "  </thead>\n",
       "  <tbody>\n",
       "    <tr>\n",
       "      <th>1</th>\n",
       "      <td>1</td>\n",
       "      <td>545000</td>\n",
       "      <td>0.556707</td>\n",
       "      <td>0.556707</td>\n",
       "    </tr>\n",
       "    <tr>\n",
       "      <th>3</th>\n",
       "      <td>4</td>\n",
       "      <td>396123</td>\n",
       "      <td>0.404632</td>\n",
       "      <td>0.961339</td>\n",
       "    </tr>\n",
       "    <tr>\n",
       "      <th>6</th>\n",
       "      <td>7</td>\n",
       "      <td>27424</td>\n",
       "      <td>0.028013</td>\n",
       "      <td>0.989352</td>\n",
       "    </tr>\n",
       "    <tr>\n",
       "      <th>0</th>\n",
       "      <td>0</td>\n",
       "      <td>9422</td>\n",
       "      <td>0.009624</td>\n",
       "      <td>0.998976</td>\n",
       "    </tr>\n",
       "    <tr>\n",
       "      <th>9</th>\n",
       "      <td>10</td>\n",
       "      <td>712</td>\n",
       "      <td>0.000727</td>\n",
       "      <td>0.999704</td>\n",
       "    </tr>\n",
       "    <tr>\n",
       "      <th>4</th>\n",
       "      <td>5</td>\n",
       "      <td>166</td>\n",
       "      <td>0.000170</td>\n",
       "      <td>0.999873</td>\n",
       "    </tr>\n",
       "    <tr>\n",
       "      <th>8</th>\n",
       "      <td>9</td>\n",
       "      <td>52</td>\n",
       "      <td>0.000053</td>\n",
       "      <td>0.999926</td>\n",
       "    </tr>\n",
       "    <tr>\n",
       "      <th>5</th>\n",
       "      <td>6</td>\n",
       "      <td>37</td>\n",
       "      <td>0.000038</td>\n",
       "      <td>0.999964</td>\n",
       "    </tr>\n",
       "    <tr>\n",
       "      <th>7</th>\n",
       "      <td>8</td>\n",
       "      <td>20</td>\n",
       "      <td>0.000020</td>\n",
       "      <td>0.999985</td>\n",
       "    </tr>\n",
       "    <tr>\n",
       "      <th>2</th>\n",
       "      <td>2</td>\n",
       "      <td>15</td>\n",
       "      <td>0.000015</td>\n",
       "      <td>1.000000</td>\n",
       "    </tr>\n",
       "  </tbody>\n",
       "</table>\n",
       "</div>"
      ],
      "text/plain": [
       "   CO_VIA  contagem  % CO_VIA  % CO_VIA ACUMUL\n",
       "1       1    545000  0.556707         0.556707\n",
       "3       4    396123  0.404632         0.961339\n",
       "6       7     27424  0.028013         0.989352\n",
       "0       0      9422  0.009624         0.998976\n",
       "9      10       712  0.000727         0.999704\n",
       "4       5       166  0.000170         0.999873\n",
       "8       9        52  0.000053         0.999926\n",
       "5       6        37  0.000038         0.999964\n",
       "7       8        20  0.000020         0.999985\n",
       "2       2        15  0.000015         1.000000"
      ]
     },
     "execution_count": 49,
     "metadata": {},
     "output_type": "execute_result"
    }
   ],
   "source": [
    "g2"
   ]
  },
  {
   "cell_type": "code",
   "execution_count": 50,
   "metadata": {},
   "outputs": [
    {
     "name": "stderr",
     "output_type": "stream",
     "text": [
      "<ipython-input-50-0653cde63ffb>:1: SettingWithCopyWarning: \n",
      "A value is trying to be set on a copy of a slice from a DataFrame.\n",
      "Try using .loc[row_indexer,col_indexer] = value instead\n",
      "\n",
      "See the caveats in the documentation: https://pandas.pydata.org/pandas-docs/stable/user_guide/indexing.html#returning-a-view-versus-a-copy\n",
      "  df1[\"CO_VIA_final\"]=df[\"CO_VIA\"]\n"
     ]
    }
   ],
   "source": [
    "df1[\"CO_VIA_final\"]=df[\"CO_VIA\"]"
   ]
  },
  {
   "cell_type": "code",
   "execution_count": 51,
   "metadata": {},
   "outputs": [
    {
     "data": {
      "text/plain": [
       "0          False\n",
       "1          False\n",
       "2          False\n",
       "3          False\n",
       "4          False\n",
       "           ...  \n",
       "1764428    False\n",
       "1764429    False\n",
       "1764430    False\n",
       "1764431    False\n",
       "1764432    False\n",
       "Name: CO_VIA, Length: 1764433, dtype: bool"
      ]
     },
     "execution_count": 51,
     "metadata": {},
     "output_type": "execute_result"
    }
   ],
   "source": [
    "mask=(df1['CO_VIA']!=1) & (df['CO_VIA']!=4) & (df['CO_VIA']!=7)\n",
    "mask"
   ]
  },
  {
   "cell_type": "code",
   "execution_count": 52,
   "metadata": {},
   "outputs": [
    {
     "name": "stderr",
     "output_type": "stream",
     "text": [
      "D:\\ANACONDA\\lib\\site-packages\\pandas\\core\\indexing.py:1765: SettingWithCopyWarning: \n",
      "A value is trying to be set on a copy of a slice from a DataFrame.\n",
      "Try using .loc[row_indexer,col_indexer] = value instead\n",
      "\n",
      "See the caveats in the documentation: https://pandas.pydata.org/pandas-docs/stable/user_guide/indexing.html#returning-a-view-versus-a-copy\n",
      "  isetter(loc, value)\n"
     ]
    }
   ],
   "source": [
    "df1.loc[mask, \"CO_VIA_final\"] = 99"
   ]
  },
  {
   "cell_type": "code",
   "execution_count": 53,
   "metadata": {},
   "outputs": [
    {
     "data": {
      "text/plain": [
       "1     545000\n",
       "4     396123\n",
       "7      27424\n",
       "99     10424\n",
       "Name: CO_VIA_final, dtype: int64"
      ]
     },
     "execution_count": 53,
     "metadata": {},
     "output_type": "execute_result"
    }
   ],
   "source": [
    "df1[\"CO_VIA_final\"].value_counts()"
   ]
  },
  {
   "cell_type": "markdown",
   "metadata": {},
   "source": [
    "###### Não será levada em conta - inicialmente - a feature CO_URF, uma vez que essa está associada à SG_UF_NCM (que será \"dummizada\"). Posteriormente, pode-se substituir uma pela outra para ver se o modelo melhora."
   ]
  },
  {
   "cell_type": "markdown",
   "metadata": {},
   "source": [
    "###### Na sequência, as colunas de features categóricas darão origem às variáveis dummie, para, posteriormente, calcular a correlação das colunas restantes com a variável alvo, nesse caso, VL_FOB/KG_LIQUIDO."
   ]
  },
  {
   "cell_type": "code",
   "execution_count": 54,
   "metadata": {},
   "outputs": [
    {
     "data": {
      "text/html": [
       "<div>\n",
       "<style scoped>\n",
       "    .dataframe tbody tr th:only-of-type {\n",
       "        vertical-align: middle;\n",
       "    }\n",
       "\n",
       "    .dataframe tbody tr th {\n",
       "        vertical-align: top;\n",
       "    }\n",
       "\n",
       "    .dataframe thead th {\n",
       "        text-align: right;\n",
       "    }\n",
       "</style>\n",
       "<table border=\"1\" class=\"dataframe\">\n",
       "  <thead>\n",
       "    <tr style=\"text-align: right;\">\n",
       "      <th></th>\n",
       "      <th>ANO-MES</th>\n",
       "      <th>CO_NCM</th>\n",
       "      <th>CO_UNID</th>\n",
       "      <th>CO_PAIS</th>\n",
       "      <th>SG_UF_NCM</th>\n",
       "      <th>CO_VIA</th>\n",
       "      <th>CO_URF</th>\n",
       "      <th>QT_ESTAT</th>\n",
       "      <th>KG_LIQUIDO</th>\n",
       "      <th>VL_FOB</th>\n",
       "      <th>câmbio_mês_atual</th>\n",
       "      <th>câmbio_mês_anterior</th>\n",
       "      <th>CO_NCM_final</th>\n",
       "      <th>CO_PAIS_final</th>\n",
       "      <th>SG_UF_NCM_final</th>\n",
       "      <th>CO_VIA_final</th>\n",
       "    </tr>\n",
       "  </thead>\n",
       "  <tbody>\n",
       "  </tbody>\n",
       "</table>\n",
       "</div>"
      ],
      "text/plain": [
       "Empty DataFrame\n",
       "Columns: [ANO-MES, CO_NCM, CO_UNID, CO_PAIS, SG_UF_NCM, CO_VIA, CO_URF, QT_ESTAT, KG_LIQUIDO, VL_FOB, câmbio_mês_atual, câmbio_mês_anterior, CO_NCM_final, CO_PAIS_final, SG_UF_NCM_final, CO_VIA_final]\n",
       "Index: []"
      ]
     },
     "execution_count": 54,
     "metadata": {},
     "output_type": "execute_result"
    }
   ],
   "source": [
    "# Inicialmente, confirma-se se realmente não há nenhum valor zerado em KG_LIQUIDO (o tratamento do dataset já havia se dado no Jupyter Notebook nº 1).\n",
    "df1[df1[\"KG_LIQUIDO\"]==0]"
   ]
  },
  {
   "cell_type": "code",
   "execution_count": 55,
   "metadata": {},
   "outputs": [
    {
     "name": "stderr",
     "output_type": "stream",
     "text": [
      "<ipython-input-55-836860cdaa1b>:2: SettingWithCopyWarning: \n",
      "A value is trying to be set on a copy of a slice from a DataFrame.\n",
      "Try using .loc[row_indexer,col_indexer] = value instead\n",
      "\n",
      "See the caveats in the documentation: https://pandas.pydata.org/pandas-docs/stable/user_guide/indexing.html#returning-a-view-versus-a-copy\n",
      "  df1[\"VL_FOB/KG_LIQUIDO\"]=df1[\"VL_FOB\"]/df1[\"KG_LIQUIDO\"]\n"
     ]
    }
   ],
   "source": [
    "# Após a checagem acima, passa-se ao cálculo da (nova) variável alvo.\n",
    "df1[\"VL_FOB/KG_LIQUIDO\"]=df1[\"VL_FOB\"]/df1[\"KG_LIQUIDO\"]"
   ]
  },
  {
   "cell_type": "code",
   "execution_count": 56,
   "metadata": {},
   "outputs": [
    {
     "data": {
      "text/plain": [
       "Index(['ANO-MES', 'CO_NCM', 'CO_UNID', 'CO_PAIS', 'SG_UF_NCM', 'CO_VIA',\n",
       "       'CO_URF', 'QT_ESTAT', 'KG_LIQUIDO', 'VL_FOB', 'câmbio_mês_atual',\n",
       "       'câmbio_mês_anterior', 'CO_NCM_final', 'CO_PAIS_final',\n",
       "       'SG_UF_NCM_final', 'CO_VIA_final', 'VL_FOB/KG_LIQUIDO'],\n",
       "      dtype='object')"
      ]
     },
     "execution_count": 56,
     "metadata": {},
     "output_type": "execute_result"
    }
   ],
   "source": [
    "df1.columns"
   ]
  },
  {
   "cell_type": "code",
   "execution_count": 57,
   "metadata": {},
   "outputs": [
    {
     "data": {
      "text/html": [
       "<div>\n",
       "<style scoped>\n",
       "    .dataframe tbody tr th:only-of-type {\n",
       "        vertical-align: middle;\n",
       "    }\n",
       "\n",
       "    .dataframe tbody tr th {\n",
       "        vertical-align: top;\n",
       "    }\n",
       "\n",
       "    .dataframe thead th {\n",
       "        text-align: right;\n",
       "    }\n",
       "</style>\n",
       "<table border=\"1\" class=\"dataframe\">\n",
       "  <thead>\n",
       "    <tr style=\"text-align: right;\">\n",
       "      <th></th>\n",
       "      <th>ANO-MES</th>\n",
       "      <th>CO_NCM</th>\n",
       "      <th>CO_UNID</th>\n",
       "      <th>CO_PAIS</th>\n",
       "      <th>SG_UF_NCM</th>\n",
       "      <th>CO_VIA</th>\n",
       "      <th>CO_URF</th>\n",
       "      <th>QT_ESTAT</th>\n",
       "      <th>KG_LIQUIDO</th>\n",
       "      <th>VL_FOB</th>\n",
       "      <th>...</th>\n",
       "      <th>Mês_2019-03</th>\n",
       "      <th>Mês_2019-04</th>\n",
       "      <th>Mês_2019-05</th>\n",
       "      <th>Mês_2019-06</th>\n",
       "      <th>Mês_2019-07</th>\n",
       "      <th>Mês_2019-08</th>\n",
       "      <th>Mês_2019-09</th>\n",
       "      <th>Mês_2019-10</th>\n",
       "      <th>Mês_2019-11</th>\n",
       "      <th>Mês_2019-12</th>\n",
       "    </tr>\n",
       "  </thead>\n",
       "  <tbody>\n",
       "    <tr>\n",
       "      <th>2</th>\n",
       "      <td>2019-12</td>\n",
       "      <td>39263000</td>\n",
       "      <td>10</td>\n",
       "      <td>23</td>\n",
       "      <td>SP</td>\n",
       "      <td>1</td>\n",
       "      <td>817800</td>\n",
       "      <td>3951</td>\n",
       "      <td>3951</td>\n",
       "      <td>88311</td>\n",
       "      <td>...</td>\n",
       "      <td>0</td>\n",
       "      <td>0</td>\n",
       "      <td>0</td>\n",
       "      <td>0</td>\n",
       "      <td>0</td>\n",
       "      <td>0</td>\n",
       "      <td>0</td>\n",
       "      <td>0</td>\n",
       "      <td>0</td>\n",
       "      <td>1</td>\n",
       "    </tr>\n",
       "    <tr>\n",
       "      <th>3</th>\n",
       "      <td>2019-12</td>\n",
       "      <td>38249929</td>\n",
       "      <td>10</td>\n",
       "      <td>493</td>\n",
       "      <td>SP</td>\n",
       "      <td>1</td>\n",
       "      <td>817800</td>\n",
       "      <td>19540</td>\n",
       "      <td>19540</td>\n",
       "      <td>65812</td>\n",
       "      <td>...</td>\n",
       "      <td>0</td>\n",
       "      <td>0</td>\n",
       "      <td>0</td>\n",
       "      <td>0</td>\n",
       "      <td>0</td>\n",
       "      <td>0</td>\n",
       "      <td>0</td>\n",
       "      <td>0</td>\n",
       "      <td>0</td>\n",
       "      <td>1</td>\n",
       "    </tr>\n",
       "    <tr>\n",
       "      <th>4</th>\n",
       "      <td>2019-12</td>\n",
       "      <td>34021300</td>\n",
       "      <td>10</td>\n",
       "      <td>493</td>\n",
       "      <td>BA</td>\n",
       "      <td>1</td>\n",
       "      <td>517800</td>\n",
       "      <td>34400</td>\n",
       "      <td>34400</td>\n",
       "      <td>119356</td>\n",
       "      <td>...</td>\n",
       "      <td>0</td>\n",
       "      <td>0</td>\n",
       "      <td>0</td>\n",
       "      <td>0</td>\n",
       "      <td>0</td>\n",
       "      <td>0</td>\n",
       "      <td>0</td>\n",
       "      <td>0</td>\n",
       "      <td>0</td>\n",
       "      <td>1</td>\n",
       "    </tr>\n",
       "  </tbody>\n",
       "</table>\n",
       "<p>3 rows × 29 columns</p>\n",
       "</div>"
      ],
      "text/plain": [
       "   ANO-MES    CO_NCM  CO_UNID  CO_PAIS SG_UF_NCM  CO_VIA  CO_URF  QT_ESTAT  \\\n",
       "2  2019-12  39263000       10       23        SP       1  817800      3951   \n",
       "3  2019-12  38249929       10      493        SP       1  817800     19540   \n",
       "4  2019-12  34021300       10      493        BA       1  517800     34400   \n",
       "\n",
       "   KG_LIQUIDO  VL_FOB  ...  Mês_2019-03  Mês_2019-04  Mês_2019-05  \\\n",
       "2        3951   88311  ...            0            0            0   \n",
       "3       19540   65812  ...            0            0            0   \n",
       "4       34400  119356  ...            0            0            0   \n",
       "\n",
       "   Mês_2019-06 Mês_2019-07  Mês_2019-08  Mês_2019-09  Mês_2019-10  \\\n",
       "2            0           0            0            0            0   \n",
       "3            0           0            0            0            0   \n",
       "4            0           0            0            0            0   \n",
       "\n",
       "   Mês_2019-11  Mês_2019-12  \n",
       "2            0            1  \n",
       "3            0            1  \n",
       "4            0            1  \n",
       "\n",
       "[3 rows x 29 columns]"
      ]
     },
     "execution_count": 57,
     "metadata": {},
     "output_type": "execute_result"
    }
   ],
   "source": [
    "df_encoded = pd.concat([df1, pd.get_dummies(df1[\"ANO-MES\"],prefix=\"Mês\")], axis=1)\n",
    "df_encoded.head(3)"
   ]
  },
  {
   "cell_type": "code",
   "execution_count": 58,
   "metadata": {},
   "outputs": [
    {
     "data": {
      "text/html": [
       "<div>\n",
       "<style scoped>\n",
       "    .dataframe tbody tr th:only-of-type {\n",
       "        vertical-align: middle;\n",
       "    }\n",
       "\n",
       "    .dataframe tbody tr th {\n",
       "        vertical-align: top;\n",
       "    }\n",
       "\n",
       "    .dataframe thead th {\n",
       "        text-align: right;\n",
       "    }\n",
       "</style>\n",
       "<table border=\"1\" class=\"dataframe\">\n",
       "  <thead>\n",
       "    <tr style=\"text-align: right;\">\n",
       "      <th></th>\n",
       "      <th>ANO-MES</th>\n",
       "      <th>CO_NCM</th>\n",
       "      <th>CO_UNID</th>\n",
       "      <th>CO_PAIS</th>\n",
       "      <th>SG_UF_NCM</th>\n",
       "      <th>CO_VIA</th>\n",
       "      <th>CO_URF</th>\n",
       "      <th>QT_ESTAT</th>\n",
       "      <th>KG_LIQUIDO</th>\n",
       "      <th>VL_FOB</th>\n",
       "      <th>...</th>\n",
       "      <th>NCM_96151100</th>\n",
       "      <th>NCM_96151900</th>\n",
       "      <th>NCM_96159000</th>\n",
       "      <th>NCM_96161000</th>\n",
       "      <th>NCM_96162000</th>\n",
       "      <th>NCM_96170010</th>\n",
       "      <th>NCM_96170020</th>\n",
       "      <th>NCM_96180000</th>\n",
       "      <th>NCM_96190000</th>\n",
       "      <th>NCM_99999999</th>\n",
       "    </tr>\n",
       "  </thead>\n",
       "  <tbody>\n",
       "    <tr>\n",
       "      <th>2</th>\n",
       "      <td>2019-12</td>\n",
       "      <td>39263000</td>\n",
       "      <td>10</td>\n",
       "      <td>23</td>\n",
       "      <td>SP</td>\n",
       "      <td>1</td>\n",
       "      <td>817800</td>\n",
       "      <td>3951</td>\n",
       "      <td>3951</td>\n",
       "      <td>88311</td>\n",
       "      <td>...</td>\n",
       "      <td>0</td>\n",
       "      <td>0</td>\n",
       "      <td>0</td>\n",
       "      <td>0</td>\n",
       "      <td>0</td>\n",
       "      <td>0</td>\n",
       "      <td>0</td>\n",
       "      <td>0</td>\n",
       "      <td>0</td>\n",
       "      <td>0</td>\n",
       "    </tr>\n",
       "    <tr>\n",
       "      <th>3</th>\n",
       "      <td>2019-12</td>\n",
       "      <td>38249929</td>\n",
       "      <td>10</td>\n",
       "      <td>493</td>\n",
       "      <td>SP</td>\n",
       "      <td>1</td>\n",
       "      <td>817800</td>\n",
       "      <td>19540</td>\n",
       "      <td>19540</td>\n",
       "      <td>65812</td>\n",
       "      <td>...</td>\n",
       "      <td>0</td>\n",
       "      <td>0</td>\n",
       "      <td>0</td>\n",
       "      <td>0</td>\n",
       "      <td>0</td>\n",
       "      <td>0</td>\n",
       "      <td>0</td>\n",
       "      <td>0</td>\n",
       "      <td>0</td>\n",
       "      <td>0</td>\n",
       "    </tr>\n",
       "    <tr>\n",
       "      <th>4</th>\n",
       "      <td>2019-12</td>\n",
       "      <td>34021300</td>\n",
       "      <td>10</td>\n",
       "      <td>493</td>\n",
       "      <td>BA</td>\n",
       "      <td>1</td>\n",
       "      <td>517800</td>\n",
       "      <td>34400</td>\n",
       "      <td>34400</td>\n",
       "      <td>119356</td>\n",
       "      <td>...</td>\n",
       "      <td>0</td>\n",
       "      <td>0</td>\n",
       "      <td>0</td>\n",
       "      <td>0</td>\n",
       "      <td>0</td>\n",
       "      <td>0</td>\n",
       "      <td>0</td>\n",
       "      <td>0</td>\n",
       "      <td>0</td>\n",
       "      <td>0</td>\n",
       "    </tr>\n",
       "  </tbody>\n",
       "</table>\n",
       "<p>3 rows × 2858 columns</p>\n",
       "</div>"
      ],
      "text/plain": [
       "   ANO-MES    CO_NCM  CO_UNID  CO_PAIS SG_UF_NCM  CO_VIA  CO_URF  QT_ESTAT  \\\n",
       "2  2019-12  39263000       10       23        SP       1  817800      3951   \n",
       "3  2019-12  38249929       10      493        SP       1  817800     19540   \n",
       "4  2019-12  34021300       10      493        BA       1  517800     34400   \n",
       "\n",
       "   KG_LIQUIDO  VL_FOB  ...  NCM_96151100  NCM_96151900  NCM_96159000  \\\n",
       "2        3951   88311  ...             0             0             0   \n",
       "3       19540   65812  ...             0             0             0   \n",
       "4       34400  119356  ...             0             0             0   \n",
       "\n",
       "   NCM_96161000 NCM_96162000  NCM_96170010  NCM_96170020  NCM_96180000  \\\n",
       "2             0            0             0             0             0   \n",
       "3             0            0             0             0             0   \n",
       "4             0            0             0             0             0   \n",
       "\n",
       "   NCM_96190000  NCM_99999999  \n",
       "2             0             0  \n",
       "3             0             0  \n",
       "4             0             0  \n",
       "\n",
       "[3 rows x 2858 columns]"
      ]
     },
     "execution_count": 58,
     "metadata": {},
     "output_type": "execute_result"
    }
   ],
   "source": [
    "df_encoded = pd.concat([df_encoded, pd.get_dummies(df_encoded[\"CO_NCM_final\"],prefix=\"NCM\")], axis=1)\n",
    "df_encoded.head(3)"
   ]
  },
  {
   "cell_type": "code",
   "execution_count": 59,
   "metadata": {},
   "outputs": [],
   "source": [
    "# Não precisa trabalhar com a variável CO_UNID, pois esse df é uma fração do df original (mediante filtro CO_UNID=10)\n",
    "#df_encoded = pd.concat([df_encoded, pd.get_dummies(df_encoded[\"CO_UNID_final\"],prefix=\"Un.Med.Est.\")], axis=1)\n",
    "#df_encoded.head(3)"
   ]
  },
  {
   "cell_type": "code",
   "execution_count": 60,
   "metadata": {},
   "outputs": [
    {
     "data": {
      "text/html": [
       "<div>\n",
       "<style scoped>\n",
       "    .dataframe tbody tr th:only-of-type {\n",
       "        vertical-align: middle;\n",
       "    }\n",
       "\n",
       "    .dataframe tbody tr th {\n",
       "        vertical-align: top;\n",
       "    }\n",
       "\n",
       "    .dataframe thead th {\n",
       "        text-align: right;\n",
       "    }\n",
       "</style>\n",
       "<table border=\"1\" class=\"dataframe\">\n",
       "  <thead>\n",
       "    <tr style=\"text-align: right;\">\n",
       "      <th></th>\n",
       "      <th>ANO-MES</th>\n",
       "      <th>CO_NCM</th>\n",
       "      <th>CO_UNID</th>\n",
       "      <th>CO_PAIS</th>\n",
       "      <th>SG_UF_NCM</th>\n",
       "      <th>CO_VIA</th>\n",
       "      <th>CO_URF</th>\n",
       "      <th>QT_ESTAT</th>\n",
       "      <th>KG_LIQUIDO</th>\n",
       "      <th>VL_FOB</th>\n",
       "      <th>...</th>\n",
       "      <th>Pais_670</th>\n",
       "      <th>Pais_741</th>\n",
       "      <th>Pais_764</th>\n",
       "      <th>Pais_767</th>\n",
       "      <th>Pais_776</th>\n",
       "      <th>Pais_791</th>\n",
       "      <th>Pais_827</th>\n",
       "      <th>Pais_845</th>\n",
       "      <th>Pais_858</th>\n",
       "      <th>Pais_999</th>\n",
       "    </tr>\n",
       "  </thead>\n",
       "  <tbody>\n",
       "    <tr>\n",
       "      <th>2</th>\n",
       "      <td>2019-12</td>\n",
       "      <td>39263000</td>\n",
       "      <td>10</td>\n",
       "      <td>23</td>\n",
       "      <td>SP</td>\n",
       "      <td>1</td>\n",
       "      <td>817800</td>\n",
       "      <td>3951</td>\n",
       "      <td>3951</td>\n",
       "      <td>88311</td>\n",
       "      <td>...</td>\n",
       "      <td>0</td>\n",
       "      <td>0</td>\n",
       "      <td>0</td>\n",
       "      <td>0</td>\n",
       "      <td>0</td>\n",
       "      <td>0</td>\n",
       "      <td>0</td>\n",
       "      <td>0</td>\n",
       "      <td>0</td>\n",
       "      <td>0</td>\n",
       "    </tr>\n",
       "    <tr>\n",
       "      <th>3</th>\n",
       "      <td>2019-12</td>\n",
       "      <td>38249929</td>\n",
       "      <td>10</td>\n",
       "      <td>493</td>\n",
       "      <td>SP</td>\n",
       "      <td>1</td>\n",
       "      <td>817800</td>\n",
       "      <td>19540</td>\n",
       "      <td>19540</td>\n",
       "      <td>65812</td>\n",
       "      <td>...</td>\n",
       "      <td>0</td>\n",
       "      <td>0</td>\n",
       "      <td>0</td>\n",
       "      <td>0</td>\n",
       "      <td>0</td>\n",
       "      <td>0</td>\n",
       "      <td>0</td>\n",
       "      <td>0</td>\n",
       "      <td>0</td>\n",
       "      <td>0</td>\n",
       "    </tr>\n",
       "    <tr>\n",
       "      <th>4</th>\n",
       "      <td>2019-12</td>\n",
       "      <td>34021300</td>\n",
       "      <td>10</td>\n",
       "      <td>493</td>\n",
       "      <td>BA</td>\n",
       "      <td>1</td>\n",
       "      <td>517800</td>\n",
       "      <td>34400</td>\n",
       "      <td>34400</td>\n",
       "      <td>119356</td>\n",
       "      <td>...</td>\n",
       "      <td>0</td>\n",
       "      <td>0</td>\n",
       "      <td>0</td>\n",
       "      <td>0</td>\n",
       "      <td>0</td>\n",
       "      <td>0</td>\n",
       "      <td>0</td>\n",
       "      <td>0</td>\n",
       "      <td>0</td>\n",
       "      <td>0</td>\n",
       "    </tr>\n",
       "  </tbody>\n",
       "</table>\n",
       "<p>3 rows × 2897 columns</p>\n",
       "</div>"
      ],
      "text/plain": [
       "   ANO-MES    CO_NCM  CO_UNID  CO_PAIS SG_UF_NCM  CO_VIA  CO_URF  QT_ESTAT  \\\n",
       "2  2019-12  39263000       10       23        SP       1  817800      3951   \n",
       "3  2019-12  38249929       10      493        SP       1  817800     19540   \n",
       "4  2019-12  34021300       10      493        BA       1  517800     34400   \n",
       "\n",
       "   KG_LIQUIDO  VL_FOB  ...  Pais_670  Pais_741  Pais_764  Pais_767 Pais_776  \\\n",
       "2        3951   88311  ...         0         0         0         0        0   \n",
       "3       19540   65812  ...         0         0         0         0        0   \n",
       "4       34400  119356  ...         0         0         0         0        0   \n",
       "\n",
       "   Pais_791  Pais_827  Pais_845  Pais_858  Pais_999  \n",
       "2         0         0         0         0         0  \n",
       "3         0         0         0         0         0  \n",
       "4         0         0         0         0         0  \n",
       "\n",
       "[3 rows x 2897 columns]"
      ]
     },
     "execution_count": 60,
     "metadata": {},
     "output_type": "execute_result"
    }
   ],
   "source": [
    "df_encoded = pd.concat([df_encoded, pd.get_dummies(df_encoded[\"CO_PAIS_final\"],prefix=\"Pais\")], axis=1)\n",
    "df_encoded.head(3)"
   ]
  },
  {
   "cell_type": "code",
   "execution_count": 61,
   "metadata": {},
   "outputs": [
    {
     "data": {
      "text/html": [
       "<div>\n",
       "<style scoped>\n",
       "    .dataframe tbody tr th:only-of-type {\n",
       "        vertical-align: middle;\n",
       "    }\n",
       "\n",
       "    .dataframe tbody tr th {\n",
       "        vertical-align: top;\n",
       "    }\n",
       "\n",
       "    .dataframe thead th {\n",
       "        text-align: right;\n",
       "    }\n",
       "</style>\n",
       "<table border=\"1\" class=\"dataframe\">\n",
       "  <thead>\n",
       "    <tr style=\"text-align: right;\">\n",
       "      <th></th>\n",
       "      <th>ANO-MES</th>\n",
       "      <th>CO_NCM</th>\n",
       "      <th>CO_UNID</th>\n",
       "      <th>CO_PAIS</th>\n",
       "      <th>SG_UF_NCM</th>\n",
       "      <th>CO_VIA</th>\n",
       "      <th>CO_URF</th>\n",
       "      <th>QT_ESTAT</th>\n",
       "      <th>KG_LIQUIDO</th>\n",
       "      <th>VL_FOB</th>\n",
       "      <th>...</th>\n",
       "      <th>UF_CE</th>\n",
       "      <th>UF_ES</th>\n",
       "      <th>UF_GO</th>\n",
       "      <th>UF_MG</th>\n",
       "      <th>UF_PE</th>\n",
       "      <th>UF_PR</th>\n",
       "      <th>UF_RJ</th>\n",
       "      <th>UF_RS</th>\n",
       "      <th>UF_SC</th>\n",
       "      <th>UF_SP</th>\n",
       "    </tr>\n",
       "  </thead>\n",
       "  <tbody>\n",
       "    <tr>\n",
       "      <th>2</th>\n",
       "      <td>2019-12</td>\n",
       "      <td>39263000</td>\n",
       "      <td>10</td>\n",
       "      <td>23</td>\n",
       "      <td>SP</td>\n",
       "      <td>1</td>\n",
       "      <td>817800</td>\n",
       "      <td>3951</td>\n",
       "      <td>3951</td>\n",
       "      <td>88311</td>\n",
       "      <td>...</td>\n",
       "      <td>0</td>\n",
       "      <td>0</td>\n",
       "      <td>0</td>\n",
       "      <td>0</td>\n",
       "      <td>0</td>\n",
       "      <td>0</td>\n",
       "      <td>0</td>\n",
       "      <td>0</td>\n",
       "      <td>0</td>\n",
       "      <td>1</td>\n",
       "    </tr>\n",
       "    <tr>\n",
       "      <th>3</th>\n",
       "      <td>2019-12</td>\n",
       "      <td>38249929</td>\n",
       "      <td>10</td>\n",
       "      <td>493</td>\n",
       "      <td>SP</td>\n",
       "      <td>1</td>\n",
       "      <td>817800</td>\n",
       "      <td>19540</td>\n",
       "      <td>19540</td>\n",
       "      <td>65812</td>\n",
       "      <td>...</td>\n",
       "      <td>0</td>\n",
       "      <td>0</td>\n",
       "      <td>0</td>\n",
       "      <td>0</td>\n",
       "      <td>0</td>\n",
       "      <td>0</td>\n",
       "      <td>0</td>\n",
       "      <td>0</td>\n",
       "      <td>0</td>\n",
       "      <td>1</td>\n",
       "    </tr>\n",
       "    <tr>\n",
       "      <th>4</th>\n",
       "      <td>2019-12</td>\n",
       "      <td>34021300</td>\n",
       "      <td>10</td>\n",
       "      <td>493</td>\n",
       "      <td>BA</td>\n",
       "      <td>1</td>\n",
       "      <td>517800</td>\n",
       "      <td>34400</td>\n",
       "      <td>34400</td>\n",
       "      <td>119356</td>\n",
       "      <td>...</td>\n",
       "      <td>0</td>\n",
       "      <td>0</td>\n",
       "      <td>0</td>\n",
       "      <td>0</td>\n",
       "      <td>0</td>\n",
       "      <td>0</td>\n",
       "      <td>0</td>\n",
       "      <td>0</td>\n",
       "      <td>0</td>\n",
       "      <td>0</td>\n",
       "    </tr>\n",
       "  </tbody>\n",
       "</table>\n",
       "<p>3 rows × 2910 columns</p>\n",
       "</div>"
      ],
      "text/plain": [
       "   ANO-MES    CO_NCM  CO_UNID  CO_PAIS SG_UF_NCM  CO_VIA  CO_URF  QT_ESTAT  \\\n",
       "2  2019-12  39263000       10       23        SP       1  817800      3951   \n",
       "3  2019-12  38249929       10      493        SP       1  817800     19540   \n",
       "4  2019-12  34021300       10      493        BA       1  517800     34400   \n",
       "\n",
       "   KG_LIQUIDO  VL_FOB  ...  UF_CE  UF_ES  UF_GO  UF_MG UF_PE  UF_PR  UF_RJ  \\\n",
       "2        3951   88311  ...      0      0      0      0     0      0      0   \n",
       "3       19540   65812  ...      0      0      0      0     0      0      0   \n",
       "4       34400  119356  ...      0      0      0      0     0      0      0   \n",
       "\n",
       "   UF_RS  UF_SC  UF_SP  \n",
       "2      0      0      1  \n",
       "3      0      0      1  \n",
       "4      0      0      0  \n",
       "\n",
       "[3 rows x 2910 columns]"
      ]
     },
     "execution_count": 61,
     "metadata": {},
     "output_type": "execute_result"
    }
   ],
   "source": [
    "df_encoded = pd.concat([df_encoded, pd.get_dummies(df_encoded[\"SG_UF_NCM_final\"],prefix=\"UF\")], axis=1)\n",
    "df_encoded.head(3)"
   ]
  },
  {
   "cell_type": "code",
   "execution_count": 62,
   "metadata": {},
   "outputs": [
    {
     "data": {
      "text/html": [
       "<div>\n",
       "<style scoped>\n",
       "    .dataframe tbody tr th:only-of-type {\n",
       "        vertical-align: middle;\n",
       "    }\n",
       "\n",
       "    .dataframe tbody tr th {\n",
       "        vertical-align: top;\n",
       "    }\n",
       "\n",
       "    .dataframe thead th {\n",
       "        text-align: right;\n",
       "    }\n",
       "</style>\n",
       "<table border=\"1\" class=\"dataframe\">\n",
       "  <thead>\n",
       "    <tr style=\"text-align: right;\">\n",
       "      <th></th>\n",
       "      <th>ANO-MES</th>\n",
       "      <th>CO_NCM</th>\n",
       "      <th>CO_UNID</th>\n",
       "      <th>CO_PAIS</th>\n",
       "      <th>SG_UF_NCM</th>\n",
       "      <th>CO_VIA</th>\n",
       "      <th>CO_URF</th>\n",
       "      <th>QT_ESTAT</th>\n",
       "      <th>KG_LIQUIDO</th>\n",
       "      <th>VL_FOB</th>\n",
       "      <th>...</th>\n",
       "      <th>UF_PE</th>\n",
       "      <th>UF_PR</th>\n",
       "      <th>UF_RJ</th>\n",
       "      <th>UF_RS</th>\n",
       "      <th>UF_SC</th>\n",
       "      <th>UF_SP</th>\n",
       "      <th>Modal_1</th>\n",
       "      <th>Modal_4</th>\n",
       "      <th>Modal_7</th>\n",
       "      <th>Modal_99</th>\n",
       "    </tr>\n",
       "  </thead>\n",
       "  <tbody>\n",
       "    <tr>\n",
       "      <th>2</th>\n",
       "      <td>2019-12</td>\n",
       "      <td>39263000</td>\n",
       "      <td>10</td>\n",
       "      <td>23</td>\n",
       "      <td>SP</td>\n",
       "      <td>1</td>\n",
       "      <td>817800</td>\n",
       "      <td>3951</td>\n",
       "      <td>3951</td>\n",
       "      <td>88311</td>\n",
       "      <td>...</td>\n",
       "      <td>0</td>\n",
       "      <td>0</td>\n",
       "      <td>0</td>\n",
       "      <td>0</td>\n",
       "      <td>0</td>\n",
       "      <td>1</td>\n",
       "      <td>1</td>\n",
       "      <td>0</td>\n",
       "      <td>0</td>\n",
       "      <td>0</td>\n",
       "    </tr>\n",
       "    <tr>\n",
       "      <th>3</th>\n",
       "      <td>2019-12</td>\n",
       "      <td>38249929</td>\n",
       "      <td>10</td>\n",
       "      <td>493</td>\n",
       "      <td>SP</td>\n",
       "      <td>1</td>\n",
       "      <td>817800</td>\n",
       "      <td>19540</td>\n",
       "      <td>19540</td>\n",
       "      <td>65812</td>\n",
       "      <td>...</td>\n",
       "      <td>0</td>\n",
       "      <td>0</td>\n",
       "      <td>0</td>\n",
       "      <td>0</td>\n",
       "      <td>0</td>\n",
       "      <td>1</td>\n",
       "      <td>1</td>\n",
       "      <td>0</td>\n",
       "      <td>0</td>\n",
       "      <td>0</td>\n",
       "    </tr>\n",
       "    <tr>\n",
       "      <th>4</th>\n",
       "      <td>2019-12</td>\n",
       "      <td>34021300</td>\n",
       "      <td>10</td>\n",
       "      <td>493</td>\n",
       "      <td>BA</td>\n",
       "      <td>1</td>\n",
       "      <td>517800</td>\n",
       "      <td>34400</td>\n",
       "      <td>34400</td>\n",
       "      <td>119356</td>\n",
       "      <td>...</td>\n",
       "      <td>0</td>\n",
       "      <td>0</td>\n",
       "      <td>0</td>\n",
       "      <td>0</td>\n",
       "      <td>0</td>\n",
       "      <td>0</td>\n",
       "      <td>1</td>\n",
       "      <td>0</td>\n",
       "      <td>0</td>\n",
       "      <td>0</td>\n",
       "    </tr>\n",
       "  </tbody>\n",
       "</table>\n",
       "<p>3 rows × 2914 columns</p>\n",
       "</div>"
      ],
      "text/plain": [
       "   ANO-MES    CO_NCM  CO_UNID  CO_PAIS SG_UF_NCM  CO_VIA  CO_URF  QT_ESTAT  \\\n",
       "2  2019-12  39263000       10       23        SP       1  817800      3951   \n",
       "3  2019-12  38249929       10      493        SP       1  817800     19540   \n",
       "4  2019-12  34021300       10      493        BA       1  517800     34400   \n",
       "\n",
       "   KG_LIQUIDO  VL_FOB  ...  UF_PE  UF_PR  UF_RJ  UF_RS UF_SC  UF_SP  Modal_1  \\\n",
       "2        3951   88311  ...      0      0      0      0     0      1        1   \n",
       "3       19540   65812  ...      0      0      0      0     0      1        1   \n",
       "4       34400  119356  ...      0      0      0      0     0      0        1   \n",
       "\n",
       "   Modal_4  Modal_7  Modal_99  \n",
       "2        0        0         0  \n",
       "3        0        0         0  \n",
       "4        0        0         0  \n",
       "\n",
       "[3 rows x 2914 columns]"
      ]
     },
     "execution_count": 62,
     "metadata": {},
     "output_type": "execute_result"
    }
   ],
   "source": [
    "df_encoded = pd.concat([df_encoded, pd.get_dummies(df_encoded[\"CO_VIA_final\"],prefix=\"Modal\")], axis=1)\n",
    "df_encoded.head(3)"
   ]
  },
  {
   "cell_type": "code",
   "execution_count": 63,
   "metadata": {},
   "outputs": [],
   "source": [
    "# Exclusão das colunas das variáveis categóricas (que deram origem às variáveis dummie)\n",
    "df_encoded = df_encoded.drop(columns=['ANO-MES', 'CO_NCM', 'CO_UNID', 'CO_PAIS', 'SG_UF_NCM', 'CO_VIA',\n",
    "       'CO_URF', 'KG_LIQUIDO', 'VL_FOB', 'CO_NCM_final', 'CO_PAIS_final',\n",
    "       'SG_UF_NCM_final', 'CO_VIA_final'])"
   ]
  },
  {
   "cell_type": "code",
   "execution_count": 64,
   "metadata": {},
   "outputs": [
    {
     "data": {
      "text/plain": [
       "Index(['QT_ESTAT', 'câmbio_mês_atual', 'câmbio_mês_anterior',\n",
       "       'VL_FOB/KG_LIQUIDO', 'Mês_2019-01', 'Mês_2019-02', 'Mês_2019-03',\n",
       "       'Mês_2019-04', 'Mês_2019-05', 'Mês_2019-06',\n",
       "       ...\n",
       "       'UF_PE', 'UF_PR', 'UF_RJ', 'UF_RS', 'UF_SC', 'UF_SP', 'Modal_1',\n",
       "       'Modal_4', 'Modal_7', 'Modal_99'],\n",
       "      dtype='object', length=2901)"
      ]
     },
     "execution_count": 64,
     "metadata": {},
     "output_type": "execute_result"
    }
   ],
   "source": [
    "df_encoded.columns"
   ]
  },
  {
   "cell_type": "code",
   "execution_count": 65,
   "metadata": {},
   "outputs": [
    {
     "name": "stdout",
     "output_type": "stream",
     "text": [
      "<class 'pandas.core.frame.DataFrame'>\n",
      "Int64Index: 978971 entries, 2 to 1764429\n",
      "Columns: 2901 entries, QT_ESTAT to Modal_99\n",
      "dtypes: float64(3), int64(1), uint8(2897)\n",
      "memory usage: 2.7 GB\n"
     ]
    }
   ],
   "source": [
    "df_encoded.info()"
   ]
  },
  {
   "cell_type": "markdown",
   "metadata": {},
   "source": [
    "Devido a problemas de falta de memória para o cálculo da correlação das variáveis do df_encoded com a variável alvo df_encoded [\"VL_FOB/QT_ESTAT\"], optou-se por fracionar o df_encoded, dividindo-o em 6 partes, mantendo-se, em todas elas, a variável alvo VL_FOB/QT_ESTAT e, desse forma, tentar calcular a correlação em partes (o importante seria manter a variável alvo, pois o que se busca é identificar quais as variáveis do df_encoded mais se relacionam com a variável alvo e, dessa forma, adotá-las para a implementação do modelo de ML)"
   ]
  },
  {
   "cell_type": "code",
   "execution_count": 66,
   "metadata": {},
   "outputs": [],
   "source": [
    "df_encoded1de6=df_encoded.iloc[:,:500]"
   ]
  },
  {
   "cell_type": "code",
   "execution_count": 67,
   "metadata": {},
   "outputs": [
    {
     "name": "stdout",
     "output_type": "stream",
     "text": [
      "<class 'pandas.core.frame.DataFrame'>\n",
      "Int64Index: 978971 entries, 2 to 1764429\n",
      "Columns: 500 entries, QT_ESTAT to NCM_29071910\n",
      "dtypes: float64(3), int64(1), uint8(496)\n",
      "memory usage: 540.4 MB\n"
     ]
    }
   ],
   "source": [
    "df_encoded1de6.info()"
   ]
  },
  {
   "cell_type": "code",
   "execution_count": 68,
   "metadata": {},
   "outputs": [],
   "source": [
    "df_encoded2de6=df_encoded.iloc[:,500:1000]"
   ]
  },
  {
   "cell_type": "code",
   "execution_count": 69,
   "metadata": {},
   "outputs": [],
   "source": [
    "df_encoded2de6[\"VL_FOB/KG_LIQUIDO\"]=df_encoded[\"VL_FOB/KG_LIQUIDO\"] "
   ]
  },
  {
   "cell_type": "code",
   "execution_count": 70,
   "metadata": {},
   "outputs": [
    {
     "name": "stdout",
     "output_type": "stream",
     "text": [
      "<class 'pandas.core.frame.DataFrame'>\n",
      "Int64Index: 978971 entries, 2 to 1764429\n",
      "Columns: 501 entries, NCM_29071990 to VL_FOB/KG_LIQUIDO\n",
      "dtypes: float64(1), uint8(500)\n",
      "memory usage: 521.7 MB\n"
     ]
    }
   ],
   "source": [
    "df_encoded2de6.info()"
   ]
  },
  {
   "cell_type": "code",
   "execution_count": 71,
   "metadata": {},
   "outputs": [],
   "source": [
    "df_encoded3de6=df_encoded.iloc[:,1000:1500]"
   ]
  },
  {
   "cell_type": "code",
   "execution_count": 72,
   "metadata": {},
   "outputs": [],
   "source": [
    "df_encoded3de6[\"VL_FOB/KG_LIQUIDO\"]=df_encoded[\"VL_FOB/KG_LIQUIDO\"] "
   ]
  },
  {
   "cell_type": "code",
   "execution_count": 73,
   "metadata": {},
   "outputs": [
    {
     "name": "stdout",
     "output_type": "stream",
     "text": [
      "<class 'pandas.core.frame.DataFrame'>\n",
      "Int64Index: 978971 entries, 2 to 1764429\n",
      "Columns: 501 entries, NCM_33012921 to VL_FOB/KG_LIQUIDO\n",
      "dtypes: float64(1), uint8(500)\n",
      "memory usage: 521.7 MB\n"
     ]
    }
   ],
   "source": [
    "df_encoded3de6.info()"
   ]
  },
  {
   "cell_type": "code",
   "execution_count": 74,
   "metadata": {},
   "outputs": [],
   "source": [
    "df_encoded4de6=df_encoded.iloc[:,1500:2000]"
   ]
  },
  {
   "cell_type": "code",
   "execution_count": 75,
   "metadata": {},
   "outputs": [],
   "source": [
    "df_encoded4de6[\"VL_FOB/KG_LIQUIDO\"]=df_encoded[\"VL_FOB/KG_LIQUIDO\"] "
   ]
  },
  {
   "cell_type": "code",
   "execution_count": 76,
   "metadata": {},
   "outputs": [
    {
     "name": "stdout",
     "output_type": "stream",
     "text": [
      "<class 'pandas.core.frame.DataFrame'>\n",
      "Int64Index: 978971 entries, 2 to 1764429\n",
      "Columns: 501 entries, NCM_46029000 to VL_FOB/KG_LIQUIDO\n",
      "dtypes: float64(1), uint8(500)\n",
      "memory usage: 521.7 MB\n"
     ]
    }
   ],
   "source": [
    "df_encoded4de6.info()"
   ]
  },
  {
   "cell_type": "code",
   "execution_count": 77,
   "metadata": {},
   "outputs": [],
   "source": [
    "df_encoded5de6=df_encoded.iloc[:,2000:2500]"
   ]
  },
  {
   "cell_type": "code",
   "execution_count": 78,
   "metadata": {},
   "outputs": [],
   "source": [
    "df_encoded5de6[\"VL_FOB/KG_LIQUIDO\"]=df_encoded[\"VL_FOB/KG_LIQUIDO\"] "
   ]
  },
  {
   "cell_type": "code",
   "execution_count": 79,
   "metadata": {},
   "outputs": [
    {
     "name": "stdout",
     "output_type": "stream",
     "text": [
      "<class 'pandas.core.frame.DataFrame'>\n",
      "Int64Index: 978971 entries, 2 to 1764429\n",
      "Columns: 501 entries, NCM_72051000 to VL_FOB/KG_LIQUIDO\n",
      "dtypes: float64(1), uint8(500)\n",
      "memory usage: 521.7 MB\n"
     ]
    }
   ],
   "source": [
    "df_encoded5de6.info()"
   ]
  },
  {
   "cell_type": "code",
   "execution_count": 80,
   "metadata": {},
   "outputs": [],
   "source": [
    "df_encoded6de6=df_encoded.iloc[:,2500:]"
   ]
  },
  {
   "cell_type": "code",
   "execution_count": 81,
   "metadata": {},
   "outputs": [],
   "source": [
    "df_encoded6de6[\"VL_FOB/KG_LIQUIDO\"]=df_encoded[\"VL_FOB/KG_LIQUIDO\"] "
   ]
  },
  {
   "cell_type": "code",
   "execution_count": 82,
   "metadata": {},
   "outputs": [
    {
     "name": "stdout",
     "output_type": "stream",
     "text": [
      "<class 'pandas.core.frame.DataFrame'>\n",
      "Int64Index: 978971 entries, 2 to 1764429\n",
      "Columns: 402 entries, NCM_84439980 to VL_FOB/KG_LIQUIDO\n",
      "dtypes: float64(1), uint8(401)\n",
      "memory usage: 429.3 MB\n"
     ]
    }
   ],
   "source": [
    "df_encoded6de6.info()"
   ]
  },
  {
   "cell_type": "code",
   "execution_count": 82,
   "metadata": {},
   "outputs": [],
   "source": [
    "# Identificação das variáveis que mais se relacionam com a variável alvo (\"VL_FOB/KG_LIQUIDO\")\n",
    "#correlacoes = df_encoded.corr().abs()[\"VL_FOB/KG_LIQUIDO\"].sort_values()\n",
    "#correlacoes"
   ]
  },
  {
   "cell_type": "code",
   "execution_count": 83,
   "metadata": {},
   "outputs": [
    {
     "data": {
      "text/plain": [
       "NCM_28030090         0.000005\n",
       "NCM_28432100         0.000010\n",
       "NCM_28469090         0.000027\n",
       "NCM_29029090         0.000055\n",
       "NCM_28500090         0.000059\n",
       "                       ...   \n",
       "NCM_12093000         0.002280\n",
       "NCM_28459000         0.004959\n",
       "NCM_28439090         0.005761\n",
       "NCM_28444090         0.006416\n",
       "VL_FOB/KG_LIQUIDO    1.000000\n",
       "Name: VL_FOB/KG_LIQUIDO, Length: 500, dtype: float64"
      ]
     },
     "execution_count": 83,
     "metadata": {},
     "output_type": "execute_result"
    }
   ],
   "source": [
    "# como o cálculo das correlações para todo o df_encoded (código imediatamente acima) deu erro, faremos por partes:\n",
    "correlacoes1de6 = df_encoded1de6.corr().abs()[\"VL_FOB/KG_LIQUIDO\"].sort_values()\n",
    "correlacoes1de6"
   ]
  },
  {
   "cell_type": "code",
   "execution_count": 84,
   "metadata": {},
   "outputs": [
    {
     "data": {
      "text/plain": [
       "NCM_29333946         0.000002\n",
       "NCM_30043939         0.000006\n",
       "NCM_29309019         0.000007\n",
       "NCM_29270029         0.000009\n",
       "NCM_29269095         0.000009\n",
       "                       ...   \n",
       "NCM_30021520         0.025593\n",
       "NCM_30049019         0.036975\n",
       "NCM_30021590         0.044536\n",
       "NCM_30049079         0.109478\n",
       "VL_FOB/KG_LIQUIDO    1.000000\n",
       "Name: VL_FOB/KG_LIQUIDO, Length: 501, dtype: float64"
      ]
     },
     "execution_count": 84,
     "metadata": {},
     "output_type": "execute_result"
    }
   ],
   "source": [
    "correlacoes2de6 = df_encoded2de6.corr().abs()[\"VL_FOB/KG_LIQUIDO\"].sort_values()\n",
    "correlacoes2de6"
   ]
  },
  {
   "cell_type": "code",
   "execution_count": 85,
   "metadata": {},
   "outputs": [
    {
     "data": {
      "text/plain": [
       "NCM_39140090         5.369473e-07\n",
       "NCM_40101100         5.722784e-06\n",
       "NCM_42050000         1.258969e-05\n",
       "NCM_42010010         2.212769e-05\n",
       "NCM_39061000         3.467268e-05\n",
       "                         ...     \n",
       "NCM_39269090         1.420198e-03\n",
       "NCM_35079039         1.443606e-03\n",
       "NCM_38220090         1.793042e-03\n",
       "NCM_38180010         3.464044e-03\n",
       "VL_FOB/KG_LIQUIDO    1.000000e+00\n",
       "Name: VL_FOB/KG_LIQUIDO, Length: 501, dtype: float64"
      ]
     },
     "execution_count": 85,
     "metadata": {},
     "output_type": "execute_result"
    }
   ],
   "source": [
    "correlacoes3de6 = df_encoded3de6.corr().abs()[\"VL_FOB/KG_LIQUIDO\"].sort_values()\n",
    "correlacoes3de6"
   ]
  },
  {
   "cell_type": "code",
   "execution_count": 86,
   "metadata": {},
   "outputs": [
    {
     "data": {
      "text/plain": [
       "NCM_67030000         0.000006\n",
       "NCM_68042111         0.000007\n",
       "NCM_70179000         0.000009\n",
       "NCM_49089000         0.000011\n",
       "NCM_59112010         0.000014\n",
       "                       ...   \n",
       "NCM_71162010         0.001408\n",
       "NCM_71131100         0.001556\n",
       "NCM_49070090         0.001754\n",
       "NCM_71131900         0.025522\n",
       "VL_FOB/KG_LIQUIDO    1.000000\n",
       "Name: VL_FOB/KG_LIQUIDO, Length: 501, dtype: float64"
      ]
     },
     "execution_count": 86,
     "metadata": {},
     "output_type": "execute_result"
    }
   ],
   "source": [
    "correlacoes4de6 = df_encoded4de6.corr().abs()[\"VL_FOB/KG_LIQUIDO\"].sort_values()\n",
    "correlacoes4de6"
   ]
  },
  {
   "cell_type": "code",
   "execution_count": 87,
   "metadata": {},
   "outputs": [
    {
     "data": {
      "text/plain": [
       "NCM_84419000         2.240416e-07\n",
       "NCM_82074010         3.081572e-07\n",
       "NCM_74032900         2.836683e-06\n",
       "NCM_81059010         3.030879e-06\n",
       "NCM_82090019         5.056504e-06\n",
       "                         ...     \n",
       "NCM_73181500         1.424796e-03\n",
       "NCM_75089090         2.405136e-03\n",
       "NCM_84119900         3.013465e-03\n",
       "NCM_84119100         9.275682e-03\n",
       "VL_FOB/KG_LIQUIDO    1.000000e+00\n",
       "Name: VL_FOB/KG_LIQUIDO, Length: 501, dtype: float64"
      ]
     },
     "execution_count": 87,
     "metadata": {},
     "output_type": "execute_result"
    }
   ],
   "source": [
    "correlacoes5de6 = df_encoded5de6.corr().abs()[\"VL_FOB/KG_LIQUIDO\"].sort_values()\n",
    "correlacoes5de6"
   ]
  },
  {
   "cell_type": "code",
   "execution_count": 88,
   "metadata": {},
   "outputs": [
    {
     "data": {
      "text/plain": [
       "NCM_84483220         0.000002\n",
       "NCM_84483929         0.000002\n",
       "NCM_84669360         0.000002\n",
       "NCM_84485910         0.000004\n",
       "NCM_84485922         0.000005\n",
       "                       ...   \n",
       "NCM_90219081         0.014362\n",
       "Modal_1              0.019881\n",
       "UF_GO                0.020892\n",
       "Modal_4              0.021281\n",
       "VL_FOB/KG_LIQUIDO    1.000000\n",
       "Name: VL_FOB/KG_LIQUIDO, Length: 402, dtype: float64"
      ]
     },
     "execution_count": 88,
     "metadata": {},
     "output_type": "execute_result"
    }
   ],
   "source": [
    "correlacoes6de6 = df_encoded6de6.corr().abs()[\"VL_FOB/KG_LIQUIDO\"].sort_values()\n",
    "correlacoes6de6"
   ]
  },
  {
   "cell_type": "code",
   "execution_count": 89,
   "metadata": {},
   "outputs": [],
   "source": [
    "correlacoes = pd.concat([correlacoes1de6, correlacoes2de6, correlacoes3de6, correlacoes4de6, correlacoes5de6, correlacoes6de6])"
   ]
  },
  {
   "cell_type": "code",
   "execution_count": 90,
   "metadata": {},
   "outputs": [],
   "source": [
    "correlacoes.drop_duplicates(inplace=True)"
   ]
  },
  {
   "cell_type": "code",
   "execution_count": 91,
   "metadata": {},
   "outputs": [
    {
     "data": {
      "text/plain": [
       "VL_FOB/KG_LIQUIDO    1.000000\n",
       "NCM_30049079         0.109478\n",
       "NCM_30021590         0.044536\n",
       "NCM_30049019         0.036975\n",
       "NCM_30021520         0.025593\n",
       "NCM_71131900         0.025522\n",
       "NCM_30029092         0.023121\n",
       "Modal_4              0.021281\n",
       "UF_GO                0.020892\n",
       "Modal_1              0.019881\n",
       "NCM_30049068         0.016838\n",
       "NCM_90219081         0.014362\n",
       "NCM_29397990         0.012105\n",
       "NCM_30049069         0.010348\n",
       "NCM_29242999         0.009736\n",
       "NCM_84119100         0.009276\n",
       "NCM_30066000         0.009270\n",
       "NCM_90213930         0.009172\n",
       "NCM_99999999         0.008292\n",
       "NCM_29419059         0.007836\n",
       "Name: VL_FOB/KG_LIQUIDO, dtype: float64"
      ]
     },
     "execution_count": 91,
     "metadata": {},
     "output_type": "execute_result"
    }
   ],
   "source": [
    "correlacoes.sort_values(ascending=False).head(20)"
   ]
  },
  {
   "cell_type": "code",
   "execution_count": 92,
   "metadata": {},
   "outputs": [
    {
     "data": {
      "text/plain": [
       "Index(['VL_FOB/KG_LIQUIDO', 'NCM_30049069', 'NCM_29397990', 'NCM_30049068',\n",
       "       'NCM_30029092', 'NCM_30021520', 'NCM_30049019', 'NCM_30021590',\n",
       "       'NCM_30049079', 'NCM_71131900', 'NCM_90219081', 'Modal_1', 'UF_GO',\n",
       "       'Modal_4'],\n",
       "      dtype='object')"
      ]
     },
     "execution_count": 92,
     "metadata": {},
     "output_type": "execute_result"
    }
   ],
   "source": [
    "# Identificando as features com as maiores correlações (maior ou igual a 0,01) para serem mantidas e excluídas as demais\n",
    "(correlacoes[correlacoes >= 0.01]).index"
   ]
  },
  {
   "cell_type": "code",
   "execution_count": 93,
   "metadata": {},
   "outputs": [
    {
     "name": "stdout",
     "output_type": "stream",
     "text": [
      "<class 'pandas.core.frame.DataFrame'>\n",
      "Int64Index: 978971 entries, 2 to 1764429\n",
      "Data columns (total 14 columns):\n",
      " #   Column             Non-Null Count   Dtype  \n",
      "---  ------             --------------   -----  \n",
      " 0   VL_FOB/KG_LIQUIDO  978971 non-null  float64\n",
      " 1   NCM_30049069       978971 non-null  uint8  \n",
      " 2   NCM_29397990       978971 non-null  uint8  \n",
      " 3   NCM_30049068       978971 non-null  uint8  \n",
      " 4   NCM_30029092       978971 non-null  uint8  \n",
      " 5   NCM_30021520       978971 non-null  uint8  \n",
      " 6   NCM_30049019       978971 non-null  uint8  \n",
      " 7   NCM_30021590       978971 non-null  uint8  \n",
      " 8   NCM_30049079       978971 non-null  uint8  \n",
      " 9   NCM_71131900       978971 non-null  uint8  \n",
      " 10  NCM_90219081       978971 non-null  uint8  \n",
      " 11  Modal_1            978971 non-null  uint8  \n",
      " 12  UF_GO              978971 non-null  uint8  \n",
      " 13  Modal_4            978971 non-null  uint8  \n",
      "dtypes: float64(1), uint8(13)\n",
      "memory usage: 67.1 MB\n"
     ]
    }
   ],
   "source": [
    "df2 = df_encoded[(correlacoes[correlacoes >= 0.01]).index]\n",
    "df2.info()"
   ]
  },
  {
   "cell_type": "code",
   "execution_count": 94,
   "metadata": {},
   "outputs": [],
   "source": [
    "#Checar se existe correlação entre as features selecionadas\n",
    "import matplotlib.pyplot as plt\n",
    "import seaborn as sns\n",
    "%matplotlib inline"
   ]
  },
  {
   "cell_type": "code",
   "execution_count": 95,
   "metadata": {},
   "outputs": [
    {
     "data": {
      "text/plain": [
       "<AxesSubplot:>"
      ]
     },
     "execution_count": 95,
     "metadata": {},
     "output_type": "execute_result"
    },
    {
     "data": {
      "image/png": "[encoded data removed]",
      "text/plain": [
       "<Figure size 432x288 with 2 Axes>"
      ]
     },
     "metadata": {
      "needs_background": "light"
     },
     "output_type": "display_data"
    }
   ],
   "source": [
    "sns.heatmap(df2.corr(),cmap=\"coolwarm\", annot=False )"
   ]
  },
  {
   "cell_type": "code",
   "execution_count": 96,
   "metadata": {},
   "outputs": [],
   "source": [
    "#Considerando que as Modal_1 e Modal_4 estão fortemente relacionadas, irei retirar uma delas antes da elaboração do modelo\n",
    "df2=df2.drop(columns=\"Modal_4\")"
   ]
  },
  {
   "cell_type": "markdown",
   "metadata": {},
   "source": [
    "# Dividindo o dataset em \"base de teste\" e \"base de treinamento\""
   ]
  },
  {
   "cell_type": "code",
   "execution_count": 97,
   "metadata": {},
   "outputs": [
    {
     "data": {
      "text/plain": [
       "Index(['VL_FOB/KG_LIQUIDO', 'NCM_30049069', 'NCM_29397990', 'NCM_30049068',\n",
       "       'NCM_30029092', 'NCM_30021520', 'NCM_30049019', 'NCM_30021590',\n",
       "       'NCM_30049079', 'NCM_71131900', 'NCM_90219081', 'Modal_1', 'UF_GO'],\n",
       "      dtype='object')"
      ]
     },
     "execution_count": 97,
     "metadata": {},
     "output_type": "execute_result"
    }
   ],
   "source": [
    "df2.columns"
   ]
  },
  {
   "cell_type": "code",
   "execution_count": 98,
   "metadata": {},
   "outputs": [],
   "source": [
    "x = df2[['NCM_30049069', 'NCM_29397990', 'NCM_30049068',\n",
    "       'NCM_30029092', 'NCM_30021520', 'NCM_30049019', 'NCM_30021590',\n",
    "       'NCM_30049079', 'NCM_71131900', 'NCM_90219081', 'Modal_1', 'UF_GO']]\n",
    "y = df2['VL_FOB/KG_LIQUIDO']"
   ]
  },
  {
   "cell_type": "code",
   "execution_count": 99,
   "metadata": {},
   "outputs": [],
   "source": [
    "from sklearn.model_selection import train_test_split"
   ]
  },
  {
   "cell_type": "code",
   "execution_count": 100,
   "metadata": {},
   "outputs": [],
   "source": [
    "x_train, x_test, y_train, y_test = train_test_split(x, y, test_size=0.1, random_state=16)"
   ]
  },
  {
   "cell_type": "markdown",
   "metadata": {},
   "source": [
    "# Treinando o modelo LinearRegression"
   ]
  },
  {
   "cell_type": "code",
   "execution_count": 101,
   "metadata": {},
   "outputs": [],
   "source": [
    "from sklearn.linear_model import LinearRegression"
   ]
  },
  {
   "cell_type": "code",
   "execution_count": 102,
   "metadata": {},
   "outputs": [],
   "source": [
    "lm = LinearRegression()"
   ]
  },
  {
   "cell_type": "code",
   "execution_count": 103,
   "metadata": {},
   "outputs": [
    {
     "data": {
      "text/plain": [
       "LinearRegression()"
      ]
     },
     "execution_count": 103,
     "metadata": {},
     "output_type": "execute_result"
    }
   ],
   "source": [
    "lm.fit(x_train,y_train)"
   ]
  },
  {
   "cell_type": "code",
   "execution_count": 104,
   "metadata": {},
   "outputs": [
    {
     "name": "stdout",
     "output_type": "stream",
     "text": [
      "480.8685406810295\n"
     ]
    }
   ],
   "source": [
    "# impressão do intercepto\n",
    "print(lm.intercept_)"
   ]
  },
  {
   "cell_type": "code",
   "execution_count": 105,
   "metadata": {},
   "outputs": [
    {
     "data": {
      "text/html": [
       "<div>\n",
       "<style scoped>\n",
       "    .dataframe tbody tr th:only-of-type {\n",
       "        vertical-align: middle;\n",
       "    }\n",
       "\n",
       "    .dataframe tbody tr th {\n",
       "        vertical-align: top;\n",
       "    }\n",
       "\n",
       "    .dataframe thead th {\n",
       "        text-align: right;\n",
       "    }\n",
       "</style>\n",
       "<table border=\"1\" class=\"dataframe\">\n",
       "  <thead>\n",
       "    <tr style=\"text-align: right;\">\n",
       "      <th></th>\n",
       "      <th>Coeficiente</th>\n",
       "    </tr>\n",
       "  </thead>\n",
       "  <tbody>\n",
       "    <tr>\n",
       "      <th>NCM_30049069</th>\n",
       "      <td>5811.022224</td>\n",
       "    </tr>\n",
       "    <tr>\n",
       "      <th>NCM_29397990</th>\n",
       "      <td>21582.125753</td>\n",
       "    </tr>\n",
       "    <tr>\n",
       "      <th>NCM_30049068</th>\n",
       "      <td>26614.058385</td>\n",
       "    </tr>\n",
       "    <tr>\n",
       "      <th>NCM_30029092</th>\n",
       "      <td>35286.974197</td>\n",
       "    </tr>\n",
       "    <tr>\n",
       "      <th>NCM_30021520</th>\n",
       "      <td>53418.749461</td>\n",
       "    </tr>\n",
       "    <tr>\n",
       "      <th>NCM_30049019</th>\n",
       "      <td>55167.451921</td>\n",
       "    </tr>\n",
       "    <tr>\n",
       "      <th>NCM_30021590</th>\n",
       "      <td>29615.555746</td>\n",
       "    </tr>\n",
       "    <tr>\n",
       "      <th>NCM_30049079</th>\n",
       "      <td>59871.382105</td>\n",
       "    </tr>\n",
       "    <tr>\n",
       "      <th>NCM_71131900</th>\n",
       "      <td>51032.022797</td>\n",
       "    </tr>\n",
       "    <tr>\n",
       "      <th>NCM_90219081</th>\n",
       "      <td>11939.637705</td>\n",
       "    </tr>\n",
       "    <tr>\n",
       "      <th>Modal_1</th>\n",
       "      <td>-486.357302</td>\n",
       "    </tr>\n",
       "    <tr>\n",
       "      <th>UF_GO</th>\n",
       "      <td>1885.915937</td>\n",
       "    </tr>\n",
       "  </tbody>\n",
       "</table>\n",
       "</div>"
      ],
      "text/plain": [
       "               Coeficiente\n",
       "NCM_30049069   5811.022224\n",
       "NCM_29397990  21582.125753\n",
       "NCM_30049068  26614.058385\n",
       "NCM_30029092  35286.974197\n",
       "NCM_30021520  53418.749461\n",
       "NCM_30049019  55167.451921\n",
       "NCM_30021590  29615.555746\n",
       "NCM_30049079  59871.382105\n",
       "NCM_71131900  51032.022797\n",
       "NCM_90219081  11939.637705\n",
       "Modal_1        -486.357302\n",
       "UF_GO          1885.915937"
      ]
     },
     "execution_count": 105,
     "metadata": {},
     "output_type": "execute_result"
    }
   ],
   "source": [
    "# impressão dos coeficientes\n",
    "coeff_df = pd.DataFrame(lm.coef_,x.columns,columns=['Coeficiente'])\n",
    "coeff_df"
   ]
  },
  {
   "cell_type": "code",
   "execution_count": 106,
   "metadata": {},
   "outputs": [],
   "source": [
    "# realizando as predições\n",
    "predicoesLR = lm.predict(x_test)"
   ]
  },
  {
   "cell_type": "markdown",
   "metadata": {},
   "source": [
    "# Treinando o modelo Random Forest Regressor"
   ]
  },
  {
   "cell_type": "code",
   "execution_count": 107,
   "metadata": {},
   "outputs": [
    {
     "data": {
      "text/plain": [
       "RandomForestRegressor()"
      ]
     },
     "execution_count": 107,
     "metadata": {},
     "output_type": "execute_result"
    }
   ],
   "source": [
    "from sklearn.ensemble import RandomForestRegressor\n",
    "rfr = RandomForestRegressor(n_estimators=100)\n",
    "rfr.fit(x_train, y_train)"
   ]
  },
  {
   "cell_type": "code",
   "execution_count": 108,
   "metadata": {},
   "outputs": [],
   "source": [
    "predicoesRFR = rfr.predict(x_test)"
   ]
  },
  {
   "cell_type": "markdown",
   "metadata": {},
   "source": [
    "# Treinando o modelo Gradient Boosting Regressor"
   ]
  },
  {
   "cell_type": "code",
   "execution_count": 109,
   "metadata": {},
   "outputs": [],
   "source": [
    "from sklearn.ensemble import GradientBoostingRegressor"
   ]
  },
  {
   "cell_type": "code",
   "execution_count": 110,
   "metadata": {},
   "outputs": [
    {
     "data": {
      "text/plain": [
       "GradientBoostingRegressor()"
      ]
     },
     "execution_count": 110,
     "metadata": {},
     "output_type": "execute_result"
    }
   ],
   "source": [
    "gbr = GradientBoostingRegressor()\n",
    "gbr.fit(x_train, y_train)"
   ]
  },
  {
   "cell_type": "code",
   "execution_count": 111,
   "metadata": {},
   "outputs": [],
   "source": [
    "predicoesGBR = gbr.predict(x_test)"
   ]
  },
  {
   "cell_type": "markdown",
   "metadata": {},
   "source": [
    "# Avaliando os modelos"
   ]
  },
  {
   "cell_type": "markdown",
   "metadata": {},
   "source": [
    "#### Root mean squared error - RMSE"
   ]
  },
  {
   "cell_type": "code",
   "execution_count": 112,
   "metadata": {},
   "outputs": [],
   "source": [
    "from math import sqrt\n",
    "from sklearn.metrics import mean_squared_error"
   ]
  },
  {
   "cell_type": "code",
   "execution_count": 113,
   "metadata": {},
   "outputs": [],
   "source": [
    "def rmse(y_true, y_pred):\n",
    "    return sqrt(mean_squared_error(y_true, y_pred))"
   ]
  },
  {
   "cell_type": "code",
   "execution_count": 114,
   "metadata": {},
   "outputs": [
    {
     "data": {
      "text/plain": [
       "28803.38458179516"
      ]
     },
     "execution_count": 114,
     "metadata": {},
     "output_type": "execute_result"
    }
   ],
   "source": [
    "RMSE_LR = rmse(y_test,predicoesLR)\n",
    "RMSE_LR"
   ]
  },
  {
   "cell_type": "code",
   "execution_count": 115,
   "metadata": {},
   "outputs": [
    {
     "data": {
      "text/plain": [
       "28750.110562406564"
      ]
     },
     "execution_count": 115,
     "metadata": {},
     "output_type": "execute_result"
    }
   ],
   "source": [
    "RMSE_RFR = rmse(y_test,predicoesRFR)\n",
    "RMSE_RFR"
   ]
  },
  {
   "cell_type": "code",
   "execution_count": 116,
   "metadata": {
    "scrolled": false
   },
   "outputs": [
    {
     "data": {
      "text/plain": [
       "28739.58113205042"
      ]
     },
     "execution_count": 116,
     "metadata": {},
     "output_type": "execute_result"
    }
   ],
   "source": [
    "RMSE_GBR = rmse(y_test,predicoesGBR)\n",
    "RMSE_GBR"
   ]
  },
  {
   "cell_type": "markdown",
   "metadata": {},
   "source": [
    "#### Mean absolute error - MAE"
   ]
  },
  {
   "cell_type": "code",
   "execution_count": 117,
   "metadata": {},
   "outputs": [],
   "source": [
    "from sklearn.metrics import mean_absolute_error"
   ]
  },
  {
   "cell_type": "code",
   "execution_count": 118,
   "metadata": {},
   "outputs": [
    {
     "data": {
      "text/plain": [
       "523.7908786495432"
      ]
     },
     "execution_count": 118,
     "metadata": {},
     "output_type": "execute_result"
    }
   ],
   "source": [
    "MAE_LR=mean_absolute_error(y_test, predicoesLR)\n",
    "MAE_LR"
   ]
  },
  {
   "cell_type": "code",
   "execution_count": 119,
   "metadata": {},
   "outputs": [
    {
     "data": {
      "text/plain": [
       "502.7746821633774"
      ]
     },
     "execution_count": 119,
     "metadata": {},
     "output_type": "execute_result"
    }
   ],
   "source": [
    "MAE_RFR=mean_absolute_error(y_test, predicoesRFR)\n",
    "MAE_RFR"
   ]
  },
  {
   "cell_type": "code",
   "execution_count": 120,
   "metadata": {},
   "outputs": [
    {
     "data": {
      "text/plain": [
       "504.70045936368206"
      ]
     },
     "execution_count": 120,
     "metadata": {},
     "output_type": "execute_result"
    }
   ],
   "source": [
    "MAE_GBR=mean_absolute_error(y_test, predicoesGBR)\n",
    "MAE_GBR"
   ]
  },
  {
   "cell_type": "markdown",
   "metadata": {},
   "source": [
    "#### Mean squared error - MSE"
   ]
  },
  {
   "cell_type": "code",
   "execution_count": 162,
   "metadata": {},
   "outputs": [],
   "source": [
    "from sklearn.metrics import mean_absolute_error"
   ]
  },
  {
   "cell_type": "code",
   "execution_count": 121,
   "metadata": {},
   "outputs": [
    {
     "data": {
      "text/plain": [
       "829634963.3667951"
      ]
     },
     "execution_count": 121,
     "metadata": {},
     "output_type": "execute_result"
    }
   ],
   "source": [
    "MSE_LR=mean_squared_error(y_test, predicoesLR)\n",
    "MSE_LR"
   ]
  },
  {
   "cell_type": "code",
   "execution_count": 122,
   "metadata": {},
   "outputs": [
    {
     "data": {
      "text/plain": [
       "826568857.3506016"
      ]
     },
     "execution_count": 122,
     "metadata": {},
     "output_type": "execute_result"
    }
   ],
   "source": [
    "MSE_RFR=mean_squared_error(y_test, predicoesRFR)\n",
    "MSE_RFR"
   ]
  },
  {
   "cell_type": "code",
   "execution_count": 123,
   "metadata": {},
   "outputs": [
    {
     "data": {
      "text/plain": [
       "825963523.6457087"
      ]
     },
     "execution_count": 123,
     "metadata": {},
     "output_type": "execute_result"
    }
   ],
   "source": [
    "MSE_GBR=mean_squared_error(y_test, predicoesGBR)\n",
    "MSE_GBR"
   ]
  },
  {
   "cell_type": "markdown",
   "metadata": {},
   "source": [
    "#### Coeficente de determinação - R²"
   ]
  },
  {
   "cell_type": "code",
   "execution_count": 124,
   "metadata": {},
   "outputs": [],
   "source": [
    "from sklearn.metrics import r2_score"
   ]
  },
  {
   "cell_type": "code",
   "execution_count": 125,
   "metadata": {},
   "outputs": [
    {
     "data": {
      "text/plain": [
       "0.015398796680243021"
      ]
     },
     "execution_count": 125,
     "metadata": {},
     "output_type": "execute_result"
    }
   ],
   "source": [
    "R2_LR=r2_score(y_test, predicoesLR)\n",
    "R2_LR"
   ]
  },
  {
   "cell_type": "code",
   "execution_count": 126,
   "metadata": {},
   "outputs": [
    {
     "data": {
      "text/plain": [
       "0.01903761592768516"
      ]
     },
     "execution_count": 126,
     "metadata": {},
     "output_type": "execute_result"
    }
   ],
   "source": [
    "R2_RFR=r2_score(y_test, predicoesRFR)\n",
    "R2_RFR"
   ]
  },
  {
   "cell_type": "code",
   "execution_count": 127,
   "metadata": {},
   "outputs": [
    {
     "data": {
      "text/plain": [
       "0.019756018985132018"
      ]
     },
     "execution_count": 127,
     "metadata": {},
     "output_type": "execute_result"
    }
   ],
   "source": [
    "R2_GBR=r2_score(y_test, predicoesGBR)\n",
    "R2_GBR"
   ]
  }
 ],
 "metadata": {
  "kernelspec": {
   "display_name": "Python 3",
   "language": "python",
   "name": "python3"
  },
  "language_info": {
   "codemirror_mode": {
    "name": "ipython",
    "version": 3
   },
   "file_extension": ".py",
   "mimetype": "text/x-python",
   "name": "python",
   "nbconvert_exporter": "python",
   "pygments_lexer": "ipython3",
   "version": "3.8.5"
  }
 },
 "nbformat": 4,
 "nbformat_minor": 4
}
