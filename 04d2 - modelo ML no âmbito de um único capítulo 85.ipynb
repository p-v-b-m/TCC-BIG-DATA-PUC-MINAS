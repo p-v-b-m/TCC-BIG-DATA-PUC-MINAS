{
 "cells": [
  {
   "cell_type": "code",
   "execution_count": 8,
   "metadata": {},
   "outputs": [],
   "source": [
    "import pandas as pd\n",
    "import numpy as np"
   ]
  },
  {
   "cell_type": "code",
   "execution_count": 9,
   "metadata": {},
   "outputs": [],
   "source": [
    "# fazendo a leitura da base enriquecida, trabalhada na etapa anterior\n",
    "df = pd.read_csv(\"base_enriquecida_codigos\")"
   ]
  },
  {
   "cell_type": "code",
   "execution_count": 10,
   "metadata": {},
   "outputs": [
    {
     "data": {
      "text/html": [
       "<div>\n",
       "<style scoped>\n",
       "    .dataframe tbody tr th:only-of-type {\n",
       "        vertical-align: middle;\n",
       "    }\n",
       "\n",
       "    .dataframe tbody tr th {\n",
       "        vertical-align: top;\n",
       "    }\n",
       "\n",
       "    .dataframe thead th {\n",
       "        text-align: right;\n",
       "    }\n",
       "</style>\n",
       "<table border=\"1\" class=\"dataframe\">\n",
       "  <thead>\n",
       "    <tr style=\"text-align: right;\">\n",
       "      <th></th>\n",
       "      <th>ANO-MES</th>\n",
       "      <th>CO_NCM</th>\n",
       "      <th>CO_UNID</th>\n",
       "      <th>CO_PAIS</th>\n",
       "      <th>SG_UF_NCM</th>\n",
       "      <th>CO_VIA</th>\n",
       "      <th>CO_URF</th>\n",
       "      <th>QT_ESTAT</th>\n",
       "      <th>KG_LIQUIDO</th>\n",
       "      <th>VL_FOB</th>\n",
       "      <th>câmbio_mês_atual</th>\n",
       "      <th>câmbio_mês_anterior</th>\n",
       "    </tr>\n",
       "  </thead>\n",
       "  <tbody>\n",
       "    <tr>\n",
       "      <th>0</th>\n",
       "      <td>2019-12</td>\n",
       "      <td>85044021</td>\n",
       "      <td>11</td>\n",
       "      <td>249</td>\n",
       "      <td>SP</td>\n",
       "      <td>4</td>\n",
       "      <td>817700</td>\n",
       "      <td>53</td>\n",
       "      <td>44</td>\n",
       "      <td>8263</td>\n",
       "      <td>4.108924</td>\n",
       "      <td>4.154725</td>\n",
       "    </tr>\n",
       "    <tr>\n",
       "      <th>1</th>\n",
       "      <td>2019-12</td>\n",
       "      <td>85183000</td>\n",
       "      <td>11</td>\n",
       "      <td>160</td>\n",
       "      <td>GO</td>\n",
       "      <td>4</td>\n",
       "      <td>817600</td>\n",
       "      <td>23734</td>\n",
       "      <td>1621</td>\n",
       "      <td>6987</td>\n",
       "      <td>4.108924</td>\n",
       "      <td>4.154725</td>\n",
       "    </tr>\n",
       "    <tr>\n",
       "      <th>2</th>\n",
       "      <td>2019-12</td>\n",
       "      <td>39263000</td>\n",
       "      <td>10</td>\n",
       "      <td>23</td>\n",
       "      <td>SP</td>\n",
       "      <td>1</td>\n",
       "      <td>817800</td>\n",
       "      <td>3951</td>\n",
       "      <td>3951</td>\n",
       "      <td>88311</td>\n",
       "      <td>4.108924</td>\n",
       "      <td>4.154725</td>\n",
       "    </tr>\n",
       "    <tr>\n",
       "      <th>3</th>\n",
       "      <td>2019-12</td>\n",
       "      <td>38249929</td>\n",
       "      <td>10</td>\n",
       "      <td>493</td>\n",
       "      <td>SP</td>\n",
       "      <td>1</td>\n",
       "      <td>817800</td>\n",
       "      <td>19540</td>\n",
       "      <td>19540</td>\n",
       "      <td>65812</td>\n",
       "      <td>4.108924</td>\n",
       "      <td>4.154725</td>\n",
       "    </tr>\n",
       "    <tr>\n",
       "      <th>4</th>\n",
       "      <td>2019-12</td>\n",
       "      <td>34021300</td>\n",
       "      <td>10</td>\n",
       "      <td>493</td>\n",
       "      <td>BA</td>\n",
       "      <td>1</td>\n",
       "      <td>517800</td>\n",
       "      <td>34400</td>\n",
       "      <td>34400</td>\n",
       "      <td>119356</td>\n",
       "      <td>4.108924</td>\n",
       "      <td>4.154725</td>\n",
       "    </tr>\n",
       "    <tr>\n",
       "      <th>...</th>\n",
       "      <td>...</td>\n",
       "      <td>...</td>\n",
       "      <td>...</td>\n",
       "      <td>...</td>\n",
       "      <td>...</td>\n",
       "      <td>...</td>\n",
       "      <td>...</td>\n",
       "      <td>...</td>\n",
       "      <td>...</td>\n",
       "      <td>...</td>\n",
       "      <td>...</td>\n",
       "      <td>...</td>\n",
       "    </tr>\n",
       "    <tr>\n",
       "      <th>1764428</th>\n",
       "      <td>2019-08</td>\n",
       "      <td>85365090</td>\n",
       "      <td>11</td>\n",
       "      <td>271</td>\n",
       "      <td>SP</td>\n",
       "      <td>4</td>\n",
       "      <td>817600</td>\n",
       "      <td>11</td>\n",
       "      <td>157</td>\n",
       "      <td>4412</td>\n",
       "      <td>4.019382</td>\n",
       "      <td>3.778713</td>\n",
       "    </tr>\n",
       "    <tr>\n",
       "      <th>1764429</th>\n",
       "      <td>2019-08</td>\n",
       "      <td>30043918</td>\n",
       "      <td>10</td>\n",
       "      <td>767</td>\n",
       "      <td>SP</td>\n",
       "      <td>4</td>\n",
       "      <td>817600</td>\n",
       "      <td>225</td>\n",
       "      <td>225</td>\n",
       "      <td>1216801</td>\n",
       "      <td>4.019382</td>\n",
       "      <td>3.778713</td>\n",
       "    </tr>\n",
       "    <tr>\n",
       "      <th>1764430</th>\n",
       "      <td>2019-08</td>\n",
       "      <td>90189099</td>\n",
       "      <td>11</td>\n",
       "      <td>87</td>\n",
       "      <td>SP</td>\n",
       "      <td>1</td>\n",
       "      <td>817800</td>\n",
       "      <td>5033</td>\n",
       "      <td>178</td>\n",
       "      <td>22889</td>\n",
       "      <td>4.019382</td>\n",
       "      <td>3.778713</td>\n",
       "    </tr>\n",
       "    <tr>\n",
       "      <th>1764431</th>\n",
       "      <td>2019-08</td>\n",
       "      <td>84123900</td>\n",
       "      <td>11</td>\n",
       "      <td>764</td>\n",
       "      <td>PA</td>\n",
       "      <td>4</td>\n",
       "      <td>817600</td>\n",
       "      <td>1</td>\n",
       "      <td>83</td>\n",
       "      <td>7641</td>\n",
       "      <td>4.019382</td>\n",
       "      <td>3.778713</td>\n",
       "    </tr>\n",
       "    <tr>\n",
       "      <th>1764432</th>\n",
       "      <td>2019-08</td>\n",
       "      <td>85269200</td>\n",
       "      <td>11</td>\n",
       "      <td>776</td>\n",
       "      <td>SP</td>\n",
       "      <td>4</td>\n",
       "      <td>817600</td>\n",
       "      <td>2</td>\n",
       "      <td>0</td>\n",
       "      <td>119</td>\n",
       "      <td>4.019382</td>\n",
       "      <td>3.778713</td>\n",
       "    </tr>\n",
       "  </tbody>\n",
       "</table>\n",
       "<p>1764433 rows × 12 columns</p>\n",
       "</div>"
      ],
      "text/plain": [
       "         ANO-MES    CO_NCM  CO_UNID  CO_PAIS SG_UF_NCM  CO_VIA  CO_URF  \\\n",
       "0        2019-12  85044021       11      249        SP       4  817700   \n",
       "1        2019-12  85183000       11      160        GO       4  817600   \n",
       "2        2019-12  39263000       10       23        SP       1  817800   \n",
       "3        2019-12  38249929       10      493        SP       1  817800   \n",
       "4        2019-12  34021300       10      493        BA       1  517800   \n",
       "...          ...       ...      ...      ...       ...     ...     ...   \n",
       "1764428  2019-08  85365090       11      271        SP       4  817600   \n",
       "1764429  2019-08  30043918       10      767        SP       4  817600   \n",
       "1764430  2019-08  90189099       11       87        SP       1  817800   \n",
       "1764431  2019-08  84123900       11      764        PA       4  817600   \n",
       "1764432  2019-08  85269200       11      776        SP       4  817600   \n",
       "\n",
       "         QT_ESTAT  KG_LIQUIDO   VL_FOB  câmbio_mês_atual  câmbio_mês_anterior  \n",
       "0              53          44     8263          4.108924             4.154725  \n",
       "1           23734        1621     6987          4.108924             4.154725  \n",
       "2            3951        3951    88311          4.108924             4.154725  \n",
       "3           19540       19540    65812          4.108924             4.154725  \n",
       "4           34400       34400   119356          4.108924             4.154725  \n",
       "...           ...         ...      ...               ...                  ...  \n",
       "1764428        11         157     4412          4.019382             3.778713  \n",
       "1764429       225         225  1216801          4.019382             3.778713  \n",
       "1764430      5033         178    22889          4.019382             3.778713  \n",
       "1764431         1          83     7641          4.019382             3.778713  \n",
       "1764432         2           0      119          4.019382             3.778713  \n",
       "\n",
       "[1764433 rows x 12 columns]"
      ]
     },
     "execution_count": 10,
     "metadata": {},
     "output_type": "execute_result"
    }
   ],
   "source": [
    "df"
   ]
  },
  {
   "cell_type": "markdown",
   "metadata": {},
   "source": [
    "###### Checando capítulos NCM recorrentes"
   ]
  },
  {
   "cell_type": "markdown",
   "metadata": {},
   "source": [
    "Por meio do Jupyer Notebook \"03_análises_diversas_e_representações_gráficas - PARTE 01\", constata-se que a maior quantidade de mercadoria importada classifica-se no capítulo 85. De todo modo, para fins de implementação do modelo, entende-se que é desejável não apenas um código que tenha sido importado em quantidade, mas, sobretudo, que tenha sido recorrente. Segue, portanto, consulta ao capítulo da NCM em que os códigos NCM foram mais recorrentes."
   ]
  },
  {
   "cell_type": "code",
   "execution_count": 11,
   "metadata": {},
   "outputs": [],
   "source": [
    "# testa capítulos mais recorrentes\n",
    "df[\"CAPÍTULO_NCM\"] = df[\"CO_NCM\"].astype(str).str[:2]"
   ]
  },
  {
   "cell_type": "code",
   "execution_count": 12,
   "metadata": {},
   "outputs": [
    {
     "data": {
      "text/plain": [
       "84    366185\n",
       "85    347989\n",
       "90    121571\n",
       "39    104402\n",
       "73     92280\n",
       "       ...  \n",
       "78       323\n",
       "97       289\n",
       "36       201\n",
       "43       152\n",
       "14       114\n",
       "Name: CAPÍTULO_NCM, Length: 87, dtype: int64"
      ]
     },
     "execution_count": 12,
     "metadata": {},
     "output_type": "execute_result"
    }
   ],
   "source": [
    "df[\"CAPÍTULO_NCM\"].value_counts()"
   ]
  },
  {
   "cell_type": "code",
   "execution_count": 13,
   "metadata": {},
   "outputs": [],
   "source": [
    "# já tendo sido realizada (em outro Jupyter Notebook) análise para o capítulo 84, tentaremos reproduzir o modelo no âmbito do capítulo 85, que é o segundo mais recorrente\n",
    "df1=df[df[\"CAPÍTULO_NCM\"]==\"85\"]"
   ]
  },
  {
   "cell_type": "code",
   "execution_count": 14,
   "metadata": {},
   "outputs": [
    {
     "data": {
      "text/plain": [
       "11    278968\n",
       "10     69021\n",
       "Name: CO_UNID, dtype: int64"
      ]
     },
     "execution_count": 14,
     "metadata": {},
     "output_type": "execute_result"
    }
   ],
   "source": [
    "df1[\"CO_UNID\"].value_counts()"
   ]
  },
  {
   "cell_type": "code",
   "execution_count": 15,
   "metadata": {},
   "outputs": [
    {
     "name": "stderr",
     "output_type": "stream",
     "text": [
      "D:\\ANACONDA\\lib\\site-packages\\pandas\\core\\frame.py:4163: SettingWithCopyWarning: \n",
      "A value is trying to be set on a copy of a slice from a DataFrame\n",
      "\n",
      "See the caveats in the documentation: https://pandas.pydata.org/pandas-docs/stable/user_guide/indexing.html#returning-a-view-versus-a-copy\n",
      "  return super().drop(\n"
     ]
    }
   ],
   "source": [
    "df1.drop(columns=\"CAPÍTULO_NCM\", inplace=True)"
   ]
  },
  {
   "cell_type": "code",
   "execution_count": 16,
   "metadata": {},
   "outputs": [
    {
     "data": {
      "text/html": [
       "<div>\n",
       "<style scoped>\n",
       "    .dataframe tbody tr th:only-of-type {\n",
       "        vertical-align: middle;\n",
       "    }\n",
       "\n",
       "    .dataframe tbody tr th {\n",
       "        vertical-align: top;\n",
       "    }\n",
       "\n",
       "    .dataframe thead th {\n",
       "        text-align: right;\n",
       "    }\n",
       "</style>\n",
       "<table border=\"1\" class=\"dataframe\">\n",
       "  <thead>\n",
       "    <tr style=\"text-align: right;\">\n",
       "      <th></th>\n",
       "      <th>ANO-MES</th>\n",
       "      <th>CO_NCM</th>\n",
       "      <th>CO_UNID</th>\n",
       "      <th>CO_PAIS</th>\n",
       "      <th>SG_UF_NCM</th>\n",
       "      <th>CO_VIA</th>\n",
       "      <th>CO_URF</th>\n",
       "      <th>QT_ESTAT</th>\n",
       "      <th>KG_LIQUIDO</th>\n",
       "      <th>VL_FOB</th>\n",
       "      <th>câmbio_mês_atual</th>\n",
       "      <th>câmbio_mês_anterior</th>\n",
       "    </tr>\n",
       "  </thead>\n",
       "  <tbody>\n",
       "    <tr>\n",
       "      <th>0</th>\n",
       "      <td>2019-12</td>\n",
       "      <td>85044021</td>\n",
       "      <td>11</td>\n",
       "      <td>249</td>\n",
       "      <td>SP</td>\n",
       "      <td>4</td>\n",
       "      <td>817700</td>\n",
       "      <td>53</td>\n",
       "      <td>44</td>\n",
       "      <td>8263</td>\n",
       "      <td>4.108924</td>\n",
       "      <td>4.154725</td>\n",
       "    </tr>\n",
       "    <tr>\n",
       "      <th>1</th>\n",
       "      <td>2019-12</td>\n",
       "      <td>85183000</td>\n",
       "      <td>11</td>\n",
       "      <td>160</td>\n",
       "      <td>GO</td>\n",
       "      <td>4</td>\n",
       "      <td>817600</td>\n",
       "      <td>23734</td>\n",
       "      <td>1621</td>\n",
       "      <td>6987</td>\n",
       "      <td>4.108924</td>\n",
       "      <td>4.154725</td>\n",
       "    </tr>\n",
       "    <tr>\n",
       "      <th>5</th>\n",
       "      <td>2019-12</td>\n",
       "      <td>85389090</td>\n",
       "      <td>10</td>\n",
       "      <td>386</td>\n",
       "      <td>SC</td>\n",
       "      <td>1</td>\n",
       "      <td>817800</td>\n",
       "      <td>101</td>\n",
       "      <td>101</td>\n",
       "      <td>879</td>\n",
       "      <td>4.108924</td>\n",
       "      <td>4.154725</td>\n",
       "    </tr>\n",
       "    <tr>\n",
       "      <th>6</th>\n",
       "      <td>2019-12</td>\n",
       "      <td>85042100</td>\n",
       "      <td>11</td>\n",
       "      <td>764</td>\n",
       "      <td>SP</td>\n",
       "      <td>1</td>\n",
       "      <td>817800</td>\n",
       "      <td>3</td>\n",
       "      <td>2370</td>\n",
       "      <td>19651</td>\n",
       "      <td>4.108924</td>\n",
       "      <td>4.154725</td>\n",
       "    </tr>\n",
       "    <tr>\n",
       "      <th>7</th>\n",
       "      <td>2019-12</td>\n",
       "      <td>85030010</td>\n",
       "      <td>10</td>\n",
       "      <td>386</td>\n",
       "      <td>SP</td>\n",
       "      <td>4</td>\n",
       "      <td>817600</td>\n",
       "      <td>835</td>\n",
       "      <td>835</td>\n",
       "      <td>3567</td>\n",
       "      <td>4.108924</td>\n",
       "      <td>4.154725</td>\n",
       "    </tr>\n",
       "    <tr>\n",
       "      <th>...</th>\n",
       "      <td>...</td>\n",
       "      <td>...</td>\n",
       "      <td>...</td>\n",
       "      <td>...</td>\n",
       "      <td>...</td>\n",
       "      <td>...</td>\n",
       "      <td>...</td>\n",
       "      <td>...</td>\n",
       "      <td>...</td>\n",
       "      <td>...</td>\n",
       "      <td>...</td>\n",
       "      <td>...</td>\n",
       "    </tr>\n",
       "    <tr>\n",
       "      <th>1764407</th>\n",
       "      <td>2019-08</td>\n",
       "      <td>85011019</td>\n",
       "      <td>11</td>\n",
       "      <td>355</td>\n",
       "      <td>SP</td>\n",
       "      <td>1</td>\n",
       "      <td>817800</td>\n",
       "      <td>130</td>\n",
       "      <td>33</td>\n",
       "      <td>8565</td>\n",
       "      <td>4.019382</td>\n",
       "      <td>3.778713</td>\n",
       "    </tr>\n",
       "    <tr>\n",
       "      <th>1764418</th>\n",
       "      <td>2019-08</td>\n",
       "      <td>85369010</td>\n",
       "      <td>11</td>\n",
       "      <td>776</td>\n",
       "      <td>MG</td>\n",
       "      <td>1</td>\n",
       "      <td>817800</td>\n",
       "      <td>10000</td>\n",
       "      <td>86</td>\n",
       "      <td>2803</td>\n",
       "      <td>4.019382</td>\n",
       "      <td>3.778713</td>\n",
       "    </tr>\n",
       "    <tr>\n",
       "      <th>1764422</th>\n",
       "      <td>2019-08</td>\n",
       "      <td>85389020</td>\n",
       "      <td>11</td>\n",
       "      <td>386</td>\n",
       "      <td>SP</td>\n",
       "      <td>4</td>\n",
       "      <td>817700</td>\n",
       "      <td>100</td>\n",
       "      <td>6</td>\n",
       "      <td>1832</td>\n",
       "      <td>4.019382</td>\n",
       "      <td>3.778713</td>\n",
       "    </tr>\n",
       "    <tr>\n",
       "      <th>1764428</th>\n",
       "      <td>2019-08</td>\n",
       "      <td>85365090</td>\n",
       "      <td>11</td>\n",
       "      <td>271</td>\n",
       "      <td>SP</td>\n",
       "      <td>4</td>\n",
       "      <td>817600</td>\n",
       "      <td>11</td>\n",
       "      <td>157</td>\n",
       "      <td>4412</td>\n",
       "      <td>4.019382</td>\n",
       "      <td>3.778713</td>\n",
       "    </tr>\n",
       "    <tr>\n",
       "      <th>1764432</th>\n",
       "      <td>2019-08</td>\n",
       "      <td>85269200</td>\n",
       "      <td>11</td>\n",
       "      <td>776</td>\n",
       "      <td>SP</td>\n",
       "      <td>4</td>\n",
       "      <td>817600</td>\n",
       "      <td>2</td>\n",
       "      <td>0</td>\n",
       "      <td>119</td>\n",
       "      <td>4.019382</td>\n",
       "      <td>3.778713</td>\n",
       "    </tr>\n",
       "  </tbody>\n",
       "</table>\n",
       "<p>347989 rows × 12 columns</p>\n",
       "</div>"
      ],
      "text/plain": [
       "         ANO-MES    CO_NCM  CO_UNID  CO_PAIS SG_UF_NCM  CO_VIA  CO_URF  \\\n",
       "0        2019-12  85044021       11      249        SP       4  817700   \n",
       "1        2019-12  85183000       11      160        GO       4  817600   \n",
       "5        2019-12  85389090       10      386        SC       1  817800   \n",
       "6        2019-12  85042100       11      764        SP       1  817800   \n",
       "7        2019-12  85030010       10      386        SP       4  817600   \n",
       "...          ...       ...      ...      ...       ...     ...     ...   \n",
       "1764407  2019-08  85011019       11      355        SP       1  817800   \n",
       "1764418  2019-08  85369010       11      776        MG       1  817800   \n",
       "1764422  2019-08  85389020       11      386        SP       4  817700   \n",
       "1764428  2019-08  85365090       11      271        SP       4  817600   \n",
       "1764432  2019-08  85269200       11      776        SP       4  817600   \n",
       "\n",
       "         QT_ESTAT  KG_LIQUIDO  VL_FOB  câmbio_mês_atual  câmbio_mês_anterior  \n",
       "0              53          44    8263          4.108924             4.154725  \n",
       "1           23734        1621    6987          4.108924             4.154725  \n",
       "5             101         101     879          4.108924             4.154725  \n",
       "6               3        2370   19651          4.108924             4.154725  \n",
       "7             835         835    3567          4.108924             4.154725  \n",
       "...           ...         ...     ...               ...                  ...  \n",
       "1764407       130          33    8565          4.019382             3.778713  \n",
       "1764418     10000          86    2803          4.019382             3.778713  \n",
       "1764422       100           6    1832          4.019382             3.778713  \n",
       "1764428        11         157    4412          4.019382             3.778713  \n",
       "1764432         2           0     119          4.019382             3.778713  \n",
       "\n",
       "[347989 rows x 12 columns]"
      ]
     },
     "execution_count": 16,
     "metadata": {},
     "output_type": "execute_result"
    }
   ],
   "source": [
    "df1"
   ]
  },
  {
   "cell_type": "code",
   "execution_count": 17,
   "metadata": {},
   "outputs": [
    {
     "data": {
      "text/html": [
       "<div>\n",
       "<style scoped>\n",
       "    .dataframe tbody tr th:only-of-type {\n",
       "        vertical-align: middle;\n",
       "    }\n",
       "\n",
       "    .dataframe tbody tr th {\n",
       "        vertical-align: top;\n",
       "    }\n",
       "\n",
       "    .dataframe thead th {\n",
       "        text-align: right;\n",
       "    }\n",
       "</style>\n",
       "<table border=\"1\" class=\"dataframe\">\n",
       "  <thead>\n",
       "    <tr style=\"text-align: right;\">\n",
       "      <th></th>\n",
       "      <th>CO_NCM</th>\n",
       "      <th>contagem</th>\n",
       "    </tr>\n",
       "  </thead>\n",
       "  <tbody>\n",
       "    <tr>\n",
       "      <th>459</th>\n",
       "      <td>85365090</td>\n",
       "      <td>8873</td>\n",
       "    </tr>\n",
       "    <tr>\n",
       "      <th>470</th>\n",
       "      <td>85369090</td>\n",
       "      <td>7697</td>\n",
       "    </tr>\n",
       "    <tr>\n",
       "      <th>611</th>\n",
       "      <td>85444200</td>\n",
       "      <td>7518</td>\n",
       "    </tr>\n",
       "    <tr>\n",
       "      <th>481</th>\n",
       "      <td>85389090</td>\n",
       "      <td>5046</td>\n",
       "    </tr>\n",
       "    <tr>\n",
       "      <th>603</th>\n",
       "      <td>85437099</td>\n",
       "      <td>4309</td>\n",
       "    </tr>\n",
       "    <tr>\n",
       "      <th>...</th>\n",
       "      <td>...</td>\n",
       "      <td>...</td>\n",
       "    </tr>\n",
       "    <tr>\n",
       "      <th>290</th>\n",
       "      <td>85211089</td>\n",
       "      <td>1</td>\n",
       "    </tr>\n",
       "    <tr>\n",
       "      <th>291</th>\n",
       "      <td>85211090</td>\n",
       "      <td>1</td>\n",
       "    </tr>\n",
       "    <tr>\n",
       "      <th>503</th>\n",
       "      <td>85404000</td>\n",
       "      <td>1</td>\n",
       "    </tr>\n",
       "    <tr>\n",
       "      <th>328</th>\n",
       "      <td>85255024</td>\n",
       "      <td>1</td>\n",
       "    </tr>\n",
       "    <tr>\n",
       "      <th>499</th>\n",
       "      <td>85401100</td>\n",
       "      <td>1</td>\n",
       "    </tr>\n",
       "  </tbody>\n",
       "</table>\n",
       "<p>637 rows × 2 columns</p>\n",
       "</div>"
      ],
      "text/plain": [
       "       CO_NCM  contagem\n",
       "459  85365090      8873\n",
       "470  85369090      7697\n",
       "611  85444200      7518\n",
       "481  85389090      5046\n",
       "603  85437099      4309\n",
       "..        ...       ...\n",
       "290  85211089         1\n",
       "291  85211090         1\n",
       "503  85404000         1\n",
       "328  85255024         1\n",
       "499  85401100         1\n",
       "\n",
       "[637 rows x 2 columns]"
      ]
     },
     "execution_count": 17,
     "metadata": {},
     "output_type": "execute_result"
    }
   ],
   "source": [
    "# checando quais os códigos NCM mais recorrentes\n",
    "g1=df1.groupby(['CO_NCM']).size().reset_index().rename(columns={0:'contagem'})\n",
    "g1.sort_values(by=[\"contagem\"],ascending=False)"
   ]
  },
  {
   "cell_type": "code",
   "execution_count": 18,
   "metadata": {},
   "outputs": [],
   "source": [
    "g1[\"% CO_NCM\"] = g1[\"contagem\"]/(g1[\"contagem\"].sum())"
   ]
  },
  {
   "cell_type": "code",
   "execution_count": 19,
   "metadata": {},
   "outputs": [],
   "source": [
    "g2=g1.sort_values(by=[\"contagem\"],ascending=False)"
   ]
  },
  {
   "cell_type": "code",
   "execution_count": 20,
   "metadata": {},
   "outputs": [],
   "source": [
    "g2[\"% CO_NCM ACUMUL\"]=g2[\"% CO_NCM\"].cumsum()"
   ]
  },
  {
   "cell_type": "code",
   "execution_count": 21,
   "metadata": {},
   "outputs": [
    {
     "name": "stdout",
     "output_type": "stream",
     "text": [
      "<class 'pandas.core.frame.DataFrame'>\n",
      "Int64Index: 637 entries, 459 to 499\n",
      "Data columns (total 4 columns):\n",
      " #   Column           Non-Null Count  Dtype  \n",
      "---  ------           --------------  -----  \n",
      " 0   CO_NCM           637 non-null    int64  \n",
      " 1   contagem         637 non-null    int64  \n",
      " 2   % CO_NCM         637 non-null    float64\n",
      " 3   % CO_NCM ACUMUL  637 non-null    float64\n",
      "dtypes: float64(2), int64(2)\n",
      "memory usage: 24.9 KB\n"
     ]
    }
   ],
   "source": [
    "g2.info()"
   ]
  },
  {
   "cell_type": "code",
   "execution_count": 22,
   "metadata": {},
   "outputs": [
    {
     "data": {
      "text/html": [
       "<div>\n",
       "<style scoped>\n",
       "    .dataframe tbody tr th:only-of-type {\n",
       "        vertical-align: middle;\n",
       "    }\n",
       "\n",
       "    .dataframe tbody tr th {\n",
       "        vertical-align: top;\n",
       "    }\n",
       "\n",
       "    .dataframe thead th {\n",
       "        text-align: right;\n",
       "    }\n",
       "</style>\n",
       "<table border=\"1\" class=\"dataframe\">\n",
       "  <thead>\n",
       "    <tr style=\"text-align: right;\">\n",
       "      <th></th>\n",
       "      <th>CO_NCM</th>\n",
       "      <th>contagem</th>\n",
       "      <th>% CO_NCM</th>\n",
       "      <th>% CO_NCM ACUMUL</th>\n",
       "    </tr>\n",
       "  </thead>\n",
       "  <tbody>\n",
       "    <tr>\n",
       "      <th>459</th>\n",
       "      <td>85365090</td>\n",
       "      <td>8873</td>\n",
       "      <td>0.025498</td>\n",
       "      <td>0.025498</td>\n",
       "    </tr>\n",
       "    <tr>\n",
       "      <th>470</th>\n",
       "      <td>85369090</td>\n",
       "      <td>7697</td>\n",
       "      <td>0.022119</td>\n",
       "      <td>0.047616</td>\n",
       "    </tr>\n",
       "    <tr>\n",
       "      <th>611</th>\n",
       "      <td>85444200</td>\n",
       "      <td>7518</td>\n",
       "      <td>0.021604</td>\n",
       "      <td>0.069221</td>\n",
       "    </tr>\n",
       "    <tr>\n",
       "      <th>481</th>\n",
       "      <td>85389090</td>\n",
       "      <td>5046</td>\n",
       "      <td>0.014500</td>\n",
       "      <td>0.083721</td>\n",
       "    </tr>\n",
       "    <tr>\n",
       "      <th>603</th>\n",
       "      <td>85437099</td>\n",
       "      <td>4309</td>\n",
       "      <td>0.012383</td>\n",
       "      <td>0.096104</td>\n",
       "    </tr>\n",
       "    <tr>\n",
       "      <th>...</th>\n",
       "      <td>...</td>\n",
       "      <td>...</td>\n",
       "      <td>...</td>\n",
       "      <td>...</td>\n",
       "    </tr>\n",
       "    <tr>\n",
       "      <th>127</th>\n",
       "      <td>85103000</td>\n",
       "      <td>172</td>\n",
       "      <td>0.000494</td>\n",
       "      <td>0.947858</td>\n",
       "    </tr>\n",
       "    <tr>\n",
       "      <th>244</th>\n",
       "      <td>85176251</td>\n",
       "      <td>172</td>\n",
       "      <td>0.000494</td>\n",
       "      <td>0.948352</td>\n",
       "    </tr>\n",
       "    <tr>\n",
       "      <th>219</th>\n",
       "      <td>85176130</td>\n",
       "      <td>170</td>\n",
       "      <td>0.000489</td>\n",
       "      <td>0.948840</td>\n",
       "    </tr>\n",
       "    <tr>\n",
       "      <th>139</th>\n",
       "      <td>85115090</td>\n",
       "      <td>170</td>\n",
       "      <td>0.000489</td>\n",
       "      <td>0.949329</td>\n",
       "    </tr>\n",
       "    <tr>\n",
       "      <th>213</th>\n",
       "      <td>85171810</td>\n",
       "      <td>168</td>\n",
       "      <td>0.000483</td>\n",
       "      <td>0.949812</td>\n",
       "    </tr>\n",
       "  </tbody>\n",
       "</table>\n",
       "<p>338 rows × 4 columns</p>\n",
       "</div>"
      ],
      "text/plain": [
       "       CO_NCM  contagem  % CO_NCM  % CO_NCM ACUMUL\n",
       "459  85365090      8873  0.025498         0.025498\n",
       "470  85369090      7697  0.022119         0.047616\n",
       "611  85444200      7518  0.021604         0.069221\n",
       "481  85389090      5046  0.014500         0.083721\n",
       "603  85437099      4309  0.012383         0.096104\n",
       "..        ...       ...       ...              ...\n",
       "127  85103000       172  0.000494         0.947858\n",
       "244  85176251       172  0.000494         0.948352\n",
       "219  85176130       170  0.000489         0.948840\n",
       "139  85115090       170  0.000489         0.949329\n",
       "213  85171810       168  0.000483         0.949812\n",
       "\n",
       "[338 rows x 4 columns]"
      ]
     },
     "execution_count": 22,
     "metadata": {},
     "output_type": "execute_result"
    }
   ],
   "source": [
    "# tentando identificar um percentual que viabilize a implementação do modelo (considerando a necessidade de \"dummizar\" a variável CO_NCM, a ideia é reduzir o número de categorias)\n",
    "g3=g2[g2[\"% CO_NCM ACUMUL\"]<=0.95]\n",
    "g3\n",
    "# repare que 95% das ocorrências se restingem a 338 códigos NCM dentre os 637."
   ]
  },
  {
   "cell_type": "code",
   "execution_count": 23,
   "metadata": {},
   "outputs": [
    {
     "data": {
      "text/html": [
       "<div>\n",
       "<style scoped>\n",
       "    .dataframe tbody tr th:only-of-type {\n",
       "        vertical-align: middle;\n",
       "    }\n",
       "\n",
       "    .dataframe tbody tr th {\n",
       "        vertical-align: top;\n",
       "    }\n",
       "\n",
       "    .dataframe thead th {\n",
       "        text-align: right;\n",
       "    }\n",
       "</style>\n",
       "<table border=\"1\" class=\"dataframe\">\n",
       "  <thead>\n",
       "    <tr style=\"text-align: right;\">\n",
       "      <th></th>\n",
       "      <th>CO_NCM</th>\n",
       "      <th>contagem</th>\n",
       "      <th>% CO_NCM</th>\n",
       "      <th>% CO_NCM ACUMUL</th>\n",
       "    </tr>\n",
       "  </thead>\n",
       "  <tbody>\n",
       "    <tr>\n",
       "      <th>321</th>\n",
       "      <td>85235990</td>\n",
       "      <td>168</td>\n",
       "      <td>0.000483</td>\n",
       "      <td>0.950294</td>\n",
       "    </tr>\n",
       "    <tr>\n",
       "      <th>452</th>\n",
       "      <td>85363010</td>\n",
       "      <td>167</td>\n",
       "      <td>0.000480</td>\n",
       "      <td>0.950774</td>\n",
       "    </tr>\n",
       "    <tr>\n",
       "      <th>492</th>\n",
       "      <td>85394110</td>\n",
       "      <td>167</td>\n",
       "      <td>0.000480</td>\n",
       "      <td>0.951254</td>\n",
       "    </tr>\n",
       "    <tr>\n",
       "      <th>242</th>\n",
       "      <td>85176248</td>\n",
       "      <td>167</td>\n",
       "      <td>0.000480</td>\n",
       "      <td>0.951734</td>\n",
       "    </tr>\n",
       "    <tr>\n",
       "      <th>405</th>\n",
       "      <td>85323090</td>\n",
       "      <td>166</td>\n",
       "      <td>0.000477</td>\n",
       "      <td>0.952211</td>\n",
       "    </tr>\n",
       "    <tr>\n",
       "      <th>...</th>\n",
       "      <td>...</td>\n",
       "      <td>...</td>\n",
       "      <td>...</td>\n",
       "      <td>...</td>\n",
       "    </tr>\n",
       "    <tr>\n",
       "      <th>290</th>\n",
       "      <td>85211089</td>\n",
       "      <td>1</td>\n",
       "      <td>0.000003</td>\n",
       "      <td>0.999989</td>\n",
       "    </tr>\n",
       "    <tr>\n",
       "      <th>291</th>\n",
       "      <td>85211090</td>\n",
       "      <td>1</td>\n",
       "      <td>0.000003</td>\n",
       "      <td>0.999991</td>\n",
       "    </tr>\n",
       "    <tr>\n",
       "      <th>503</th>\n",
       "      <td>85404000</td>\n",
       "      <td>1</td>\n",
       "      <td>0.000003</td>\n",
       "      <td>0.999994</td>\n",
       "    </tr>\n",
       "    <tr>\n",
       "      <th>328</th>\n",
       "      <td>85255024</td>\n",
       "      <td>1</td>\n",
       "      <td>0.000003</td>\n",
       "      <td>0.999997</td>\n",
       "    </tr>\n",
       "    <tr>\n",
       "      <th>499</th>\n",
       "      <td>85401100</td>\n",
       "      <td>1</td>\n",
       "      <td>0.000003</td>\n",
       "      <td>1.000000</td>\n",
       "    </tr>\n",
       "  </tbody>\n",
       "</table>\n",
       "<p>299 rows × 4 columns</p>\n",
       "</div>"
      ],
      "text/plain": [
       "       CO_NCM  contagem  % CO_NCM  % CO_NCM ACUMUL\n",
       "321  85235990       168  0.000483         0.950294\n",
       "452  85363010       167  0.000480         0.950774\n",
       "492  85394110       167  0.000480         0.951254\n",
       "242  85176248       167  0.000480         0.951734\n",
       "405  85323090       166  0.000477         0.952211\n",
       "..        ...       ...       ...              ...\n",
       "290  85211089         1  0.000003         0.999989\n",
       "291  85211090         1  0.000003         0.999991\n",
       "503  85404000         1  0.000003         0.999994\n",
       "328  85255024         1  0.000003         0.999997\n",
       "499  85401100         1  0.000003         1.000000\n",
       "\n",
       "[299 rows x 4 columns]"
      ]
     },
     "execution_count": 23,
     "metadata": {},
     "output_type": "execute_result"
    }
   ],
   "source": [
    "# os 5% que extrapolam o acumulado 95% serão agrupados em uma única categoria, portanto, segue a identificação desses valores:\n",
    "g4=g2[g2[\"% CO_NCM ACUMUL\"]>0.95]\n",
    "g4"
   ]
  },
  {
   "cell_type": "code",
   "execution_count": 24,
   "metadata": {},
   "outputs": [],
   "source": [
    "# obtendo os 5% códigos NCM menos recorrentes, para agrupar como \"outros\" no df1 original\n",
    "idx=g4[\"CO_NCM\"]"
   ]
  },
  {
   "cell_type": "code",
   "execution_count": 25,
   "metadata": {},
   "outputs": [
    {
     "data": {
      "text/plain": [
       "0          False\n",
       "1          False\n",
       "5          False\n",
       "6           True\n",
       "7          False\n",
       "           ...  \n",
       "1764407    False\n",
       "1764418    False\n",
       "1764422    False\n",
       "1764428    False\n",
       "1764432    False\n",
       "Name: CO_NCM, Length: 347989, dtype: bool"
      ]
     },
     "execution_count": 25,
     "metadata": {},
     "output_type": "execute_result"
    }
   ],
   "source": [
    "mask=df1['CO_NCM'].isin(idx)\n",
    "mask"
   ]
  },
  {
   "cell_type": "code",
   "execution_count": 26,
   "metadata": {},
   "outputs": [
    {
     "name": "stderr",
     "output_type": "stream",
     "text": [
      "<ipython-input-26-e6965bd59fa8>:1: SettingWithCopyWarning: \n",
      "A value is trying to be set on a copy of a slice from a DataFrame.\n",
      "Try using .loc[row_indexer,col_indexer] = value instead\n",
      "\n",
      "See the caveats in the documentation: https://pandas.pydata.org/pandas-docs/stable/user_guide/indexing.html#returning-a-view-versus-a-copy\n",
      "  df1[\"CO_NCM_final\"]=df1[\"CO_NCM\"]\n"
     ]
    }
   ],
   "source": [
    "df1[\"CO_NCM_final\"]=df1[\"CO_NCM\"]"
   ]
  },
  {
   "cell_type": "code",
   "execution_count": 27,
   "metadata": {},
   "outputs": [
    {
     "name": "stderr",
     "output_type": "stream",
     "text": [
      "D:\\ANACONDA\\lib\\site-packages\\pandas\\core\\indexing.py:1765: SettingWithCopyWarning: \n",
      "A value is trying to be set on a copy of a slice from a DataFrame.\n",
      "Try using .loc[row_indexer,col_indexer] = value instead\n",
      "\n",
      "See the caveats in the documentation: https://pandas.pydata.org/pandas-docs/stable/user_guide/indexing.html#returning-a-view-versus-a-copy\n",
      "  isetter(loc, value)\n"
     ]
    }
   ],
   "source": [
    "# substituir os 5% NCM menos recorrentes pelo código 99999999 (alterou-se a coluna auxiliar CO_NCM_final para preservar a original CO_NCM)\n",
    "df1.loc[mask, \"CO_NCM_final\"] = 99999999"
   ]
  },
  {
   "cell_type": "code",
   "execution_count": 28,
   "metadata": {},
   "outputs": [
    {
     "data": {
      "text/html": [
       "<div>\n",
       "<style scoped>\n",
       "    .dataframe tbody tr th:only-of-type {\n",
       "        vertical-align: middle;\n",
       "    }\n",
       "\n",
       "    .dataframe tbody tr th {\n",
       "        vertical-align: top;\n",
       "    }\n",
       "\n",
       "    .dataframe thead th {\n",
       "        text-align: right;\n",
       "    }\n",
       "</style>\n",
       "<table border=\"1\" class=\"dataframe\">\n",
       "  <thead>\n",
       "    <tr style=\"text-align: right;\">\n",
       "      <th></th>\n",
       "      <th>ANO-MES</th>\n",
       "      <th>CO_NCM</th>\n",
       "      <th>CO_UNID</th>\n",
       "      <th>CO_PAIS</th>\n",
       "      <th>SG_UF_NCM</th>\n",
       "      <th>CO_VIA</th>\n",
       "      <th>CO_URF</th>\n",
       "      <th>QT_ESTAT</th>\n",
       "      <th>KG_LIQUIDO</th>\n",
       "      <th>VL_FOB</th>\n",
       "      <th>câmbio_mês_atual</th>\n",
       "      <th>câmbio_mês_anterior</th>\n",
       "      <th>CO_NCM_final</th>\n",
       "    </tr>\n",
       "  </thead>\n",
       "  <tbody>\n",
       "    <tr>\n",
       "      <th>0</th>\n",
       "      <td>2019-12</td>\n",
       "      <td>85044021</td>\n",
       "      <td>11</td>\n",
       "      <td>249</td>\n",
       "      <td>SP</td>\n",
       "      <td>4</td>\n",
       "      <td>817700</td>\n",
       "      <td>53</td>\n",
       "      <td>44</td>\n",
       "      <td>8263</td>\n",
       "      <td>4.108924</td>\n",
       "      <td>4.154725</td>\n",
       "      <td>85044021</td>\n",
       "    </tr>\n",
       "    <tr>\n",
       "      <th>1</th>\n",
       "      <td>2019-12</td>\n",
       "      <td>85183000</td>\n",
       "      <td>11</td>\n",
       "      <td>160</td>\n",
       "      <td>GO</td>\n",
       "      <td>4</td>\n",
       "      <td>817600</td>\n",
       "      <td>23734</td>\n",
       "      <td>1621</td>\n",
       "      <td>6987</td>\n",
       "      <td>4.108924</td>\n",
       "      <td>4.154725</td>\n",
       "      <td>85183000</td>\n",
       "    </tr>\n",
       "    <tr>\n",
       "      <th>5</th>\n",
       "      <td>2019-12</td>\n",
       "      <td>85389090</td>\n",
       "      <td>10</td>\n",
       "      <td>386</td>\n",
       "      <td>SC</td>\n",
       "      <td>1</td>\n",
       "      <td>817800</td>\n",
       "      <td>101</td>\n",
       "      <td>101</td>\n",
       "      <td>879</td>\n",
       "      <td>4.108924</td>\n",
       "      <td>4.154725</td>\n",
       "      <td>85389090</td>\n",
       "    </tr>\n",
       "    <tr>\n",
       "      <th>6</th>\n",
       "      <td>2019-12</td>\n",
       "      <td>85042100</td>\n",
       "      <td>11</td>\n",
       "      <td>764</td>\n",
       "      <td>SP</td>\n",
       "      <td>1</td>\n",
       "      <td>817800</td>\n",
       "      <td>3</td>\n",
       "      <td>2370</td>\n",
       "      <td>19651</td>\n",
       "      <td>4.108924</td>\n",
       "      <td>4.154725</td>\n",
       "      <td>99999999</td>\n",
       "    </tr>\n",
       "    <tr>\n",
       "      <th>7</th>\n",
       "      <td>2019-12</td>\n",
       "      <td>85030010</td>\n",
       "      <td>10</td>\n",
       "      <td>386</td>\n",
       "      <td>SP</td>\n",
       "      <td>4</td>\n",
       "      <td>817600</td>\n",
       "      <td>835</td>\n",
       "      <td>835</td>\n",
       "      <td>3567</td>\n",
       "      <td>4.108924</td>\n",
       "      <td>4.154725</td>\n",
       "      <td>85030010</td>\n",
       "    </tr>\n",
       "    <tr>\n",
       "      <th>...</th>\n",
       "      <td>...</td>\n",
       "      <td>...</td>\n",
       "      <td>...</td>\n",
       "      <td>...</td>\n",
       "      <td>...</td>\n",
       "      <td>...</td>\n",
       "      <td>...</td>\n",
       "      <td>...</td>\n",
       "      <td>...</td>\n",
       "      <td>...</td>\n",
       "      <td>...</td>\n",
       "      <td>...</td>\n",
       "      <td>...</td>\n",
       "    </tr>\n",
       "    <tr>\n",
       "      <th>1764407</th>\n",
       "      <td>2019-08</td>\n",
       "      <td>85011019</td>\n",
       "      <td>11</td>\n",
       "      <td>355</td>\n",
       "      <td>SP</td>\n",
       "      <td>1</td>\n",
       "      <td>817800</td>\n",
       "      <td>130</td>\n",
       "      <td>33</td>\n",
       "      <td>8565</td>\n",
       "      <td>4.019382</td>\n",
       "      <td>3.778713</td>\n",
       "      <td>85011019</td>\n",
       "    </tr>\n",
       "    <tr>\n",
       "      <th>1764418</th>\n",
       "      <td>2019-08</td>\n",
       "      <td>85369010</td>\n",
       "      <td>11</td>\n",
       "      <td>776</td>\n",
       "      <td>MG</td>\n",
       "      <td>1</td>\n",
       "      <td>817800</td>\n",
       "      <td>10000</td>\n",
       "      <td>86</td>\n",
       "      <td>2803</td>\n",
       "      <td>4.019382</td>\n",
       "      <td>3.778713</td>\n",
       "      <td>85369010</td>\n",
       "    </tr>\n",
       "    <tr>\n",
       "      <th>1764422</th>\n",
       "      <td>2019-08</td>\n",
       "      <td>85389020</td>\n",
       "      <td>11</td>\n",
       "      <td>386</td>\n",
       "      <td>SP</td>\n",
       "      <td>4</td>\n",
       "      <td>817700</td>\n",
       "      <td>100</td>\n",
       "      <td>6</td>\n",
       "      <td>1832</td>\n",
       "      <td>4.019382</td>\n",
       "      <td>3.778713</td>\n",
       "      <td>85389020</td>\n",
       "    </tr>\n",
       "    <tr>\n",
       "      <th>1764428</th>\n",
       "      <td>2019-08</td>\n",
       "      <td>85365090</td>\n",
       "      <td>11</td>\n",
       "      <td>271</td>\n",
       "      <td>SP</td>\n",
       "      <td>4</td>\n",
       "      <td>817600</td>\n",
       "      <td>11</td>\n",
       "      <td>157</td>\n",
       "      <td>4412</td>\n",
       "      <td>4.019382</td>\n",
       "      <td>3.778713</td>\n",
       "      <td>85365090</td>\n",
       "    </tr>\n",
       "    <tr>\n",
       "      <th>1764432</th>\n",
       "      <td>2019-08</td>\n",
       "      <td>85269200</td>\n",
       "      <td>11</td>\n",
       "      <td>776</td>\n",
       "      <td>SP</td>\n",
       "      <td>4</td>\n",
       "      <td>817600</td>\n",
       "      <td>2</td>\n",
       "      <td>0</td>\n",
       "      <td>119</td>\n",
       "      <td>4.019382</td>\n",
       "      <td>3.778713</td>\n",
       "      <td>85269200</td>\n",
       "    </tr>\n",
       "  </tbody>\n",
       "</table>\n",
       "<p>347989 rows × 13 columns</p>\n",
       "</div>"
      ],
      "text/plain": [
       "         ANO-MES    CO_NCM  CO_UNID  CO_PAIS SG_UF_NCM  CO_VIA  CO_URF  \\\n",
       "0        2019-12  85044021       11      249        SP       4  817700   \n",
       "1        2019-12  85183000       11      160        GO       4  817600   \n",
       "5        2019-12  85389090       10      386        SC       1  817800   \n",
       "6        2019-12  85042100       11      764        SP       1  817800   \n",
       "7        2019-12  85030010       10      386        SP       4  817600   \n",
       "...          ...       ...      ...      ...       ...     ...     ...   \n",
       "1764407  2019-08  85011019       11      355        SP       1  817800   \n",
       "1764418  2019-08  85369010       11      776        MG       1  817800   \n",
       "1764422  2019-08  85389020       11      386        SP       4  817700   \n",
       "1764428  2019-08  85365090       11      271        SP       4  817600   \n",
       "1764432  2019-08  85269200       11      776        SP       4  817600   \n",
       "\n",
       "         QT_ESTAT  KG_LIQUIDO  VL_FOB  câmbio_mês_atual  câmbio_mês_anterior  \\\n",
       "0              53          44    8263          4.108924             4.154725   \n",
       "1           23734        1621    6987          4.108924             4.154725   \n",
       "5             101         101     879          4.108924             4.154725   \n",
       "6               3        2370   19651          4.108924             4.154725   \n",
       "7             835         835    3567          4.108924             4.154725   \n",
       "...           ...         ...     ...               ...                  ...   \n",
       "1764407       130          33    8565          4.019382             3.778713   \n",
       "1764418     10000          86    2803          4.019382             3.778713   \n",
       "1764422       100           6    1832          4.019382             3.778713   \n",
       "1764428        11         157    4412          4.019382             3.778713   \n",
       "1764432         2           0     119          4.019382             3.778713   \n",
       "\n",
       "         CO_NCM_final  \n",
       "0            85044021  \n",
       "1            85183000  \n",
       "5            85389090  \n",
       "6            99999999  \n",
       "7            85030010  \n",
       "...               ...  \n",
       "1764407      85011019  \n",
       "1764418      85369010  \n",
       "1764422      85389020  \n",
       "1764428      85365090  \n",
       "1764432      85269200  \n",
       "\n",
       "[347989 rows x 13 columns]"
      ]
     },
     "execution_count": 28,
     "metadata": {},
     "output_type": "execute_result"
    }
   ],
   "source": [
    "df1"
   ]
  },
  {
   "cell_type": "code",
   "execution_count": 29,
   "metadata": {
    "scrolled": true
   },
   "outputs": [
    {
     "data": {
      "text/plain": [
       "99999999    17465\n",
       "85365090     8873\n",
       "85369090     7697\n",
       "85444200     7518\n",
       "85389090     5046\n",
       "            ...  \n",
       "85176251      172\n",
       "85103000      172\n",
       "85176130      170\n",
       "85115090      170\n",
       "85171810      168\n",
       "Name: CO_NCM_final, Length: 339, dtype: int64"
      ]
     },
     "execution_count": 29,
     "metadata": {},
     "output_type": "execute_result"
    }
   ],
   "source": [
    "df1[\"CO_NCM_final\"].value_counts()"
   ]
  },
  {
   "cell_type": "markdown",
   "metadata": {},
   "source": [
    "###### Checando códigos UNID MED EST (CO_UNID) recorrentes"
   ]
  },
  {
   "cell_type": "code",
   "execution_count": 30,
   "metadata": {},
   "outputs": [
    {
     "data": {
      "text/html": [
       "<div>\n",
       "<style scoped>\n",
       "    .dataframe tbody tr th:only-of-type {\n",
       "        vertical-align: middle;\n",
       "    }\n",
       "\n",
       "    .dataframe tbody tr th {\n",
       "        vertical-align: top;\n",
       "    }\n",
       "\n",
       "    .dataframe thead th {\n",
       "        text-align: right;\n",
       "    }\n",
       "</style>\n",
       "<table border=\"1\" class=\"dataframe\">\n",
       "  <thead>\n",
       "    <tr style=\"text-align: right;\">\n",
       "      <th></th>\n",
       "      <th>CO_UNID</th>\n",
       "      <th>contagem</th>\n",
       "    </tr>\n",
       "  </thead>\n",
       "  <tbody>\n",
       "    <tr>\n",
       "      <th>1</th>\n",
       "      <td>11</td>\n",
       "      <td>278968</td>\n",
       "    </tr>\n",
       "    <tr>\n",
       "      <th>0</th>\n",
       "      <td>10</td>\n",
       "      <td>69021</td>\n",
       "    </tr>\n",
       "  </tbody>\n",
       "</table>\n",
       "</div>"
      ],
      "text/plain": [
       "   CO_UNID  contagem\n",
       "1       11    278968\n",
       "0       10     69021"
      ]
     },
     "execution_count": 30,
     "metadata": {},
     "output_type": "execute_result"
    }
   ],
   "source": [
    "g1=df1.groupby(['CO_UNID']).size().reset_index().rename(columns={0:'contagem'})\n",
    "g1.sort_values(by=[\"contagem\"],ascending=False)"
   ]
  },
  {
   "cell_type": "code",
   "execution_count": 31,
   "metadata": {},
   "outputs": [
    {
     "name": "stderr",
     "output_type": "stream",
     "text": [
      "<ipython-input-31-043d6a9cfec0>:1: SettingWithCopyWarning: \n",
      "A value is trying to be set on a copy of a slice from a DataFrame.\n",
      "Try using .loc[row_indexer,col_indexer] = value instead\n",
      "\n",
      "See the caveats in the documentation: https://pandas.pydata.org/pandas-docs/stable/user_guide/indexing.html#returning-a-view-versus-a-copy\n",
      "  df1[\"CO_UNID_final\"]=df1[\"CO_UNID\"]\n"
     ]
    }
   ],
   "source": [
    "df1[\"CO_UNID_final\"]=df1[\"CO_UNID\"]"
   ]
  },
  {
   "cell_type": "code",
   "execution_count": 32,
   "metadata": {},
   "outputs": [],
   "source": [
    "# no caso corrente não há CO_UNID minoritários para serem agrupados em categorial residual. Portanto, não se executará o código a seguir.\n",
    "#mask=df1['CO_UNID']!=11\n",
    "#mask"
   ]
  },
  {
   "cell_type": "code",
   "execution_count": 33,
   "metadata": {},
   "outputs": [],
   "source": [
    "#df1.loc[mask, \"CO_UNID_final\"] = 99"
   ]
  },
  {
   "cell_type": "code",
   "execution_count": 34,
   "metadata": {},
   "outputs": [
    {
     "data": {
      "text/plain": [
       "11    278968\n",
       "10     69021\n",
       "Name: CO_UNID_final, dtype: int64"
      ]
     },
     "execution_count": 34,
     "metadata": {},
     "output_type": "execute_result"
    }
   ],
   "source": [
    "df1[\"CO_UNID_final\"].value_counts()"
   ]
  },
  {
   "cell_type": "markdown",
   "metadata": {},
   "source": [
    "###### Checando países (CO_PAIS) recorrentes"
   ]
  },
  {
   "cell_type": "code",
   "execution_count": 35,
   "metadata": {},
   "outputs": [
    {
     "data": {
      "text/html": [
       "<div>\n",
       "<style scoped>\n",
       "    .dataframe tbody tr th:only-of-type {\n",
       "        vertical-align: middle;\n",
       "    }\n",
       "\n",
       "    .dataframe tbody tr th {\n",
       "        vertical-align: top;\n",
       "    }\n",
       "\n",
       "    .dataframe thead th {\n",
       "        text-align: right;\n",
       "    }\n",
       "</style>\n",
       "<table border=\"1\" class=\"dataframe\">\n",
       "  <thead>\n",
       "    <tr style=\"text-align: right;\">\n",
       "      <th></th>\n",
       "      <th>CO_PAIS</th>\n",
       "      <th>contagem</th>\n",
       "    </tr>\n",
       "  </thead>\n",
       "  <tbody>\n",
       "    <tr>\n",
       "      <th>34</th>\n",
       "      <td>160</td>\n",
       "      <td>74854</td>\n",
       "    </tr>\n",
       "    <tr>\n",
       "      <th>54</th>\n",
       "      <td>249</td>\n",
       "      <td>36854</td>\n",
       "    </tr>\n",
       "    <tr>\n",
       "      <th>3</th>\n",
       "      <td>23</td>\n",
       "      <td>24452</td>\n",
       "    </tr>\n",
       "    <tr>\n",
       "      <th>84</th>\n",
       "      <td>399</td>\n",
       "      <td>17338</td>\n",
       "    </tr>\n",
       "    <tr>\n",
       "      <th>35</th>\n",
       "      <td>161</td>\n",
       "      <td>16953</td>\n",
       "    </tr>\n",
       "    <tr>\n",
       "      <th>...</th>\n",
       "      <td>...</td>\n",
       "      <td>...</td>\n",
       "    </tr>\n",
       "    <tr>\n",
       "      <th>151</th>\n",
       "      <td>760</td>\n",
       "      <td>1</td>\n",
       "    </tr>\n",
       "    <tr>\n",
       "      <th>138</th>\n",
       "      <td>698</td>\n",
       "      <td>1</td>\n",
       "    </tr>\n",
       "    <tr>\n",
       "      <th>37</th>\n",
       "      <td>165</td>\n",
       "      <td>1</td>\n",
       "    </tr>\n",
       "    <tr>\n",
       "      <th>147</th>\n",
       "      <td>744</td>\n",
       "      <td>1</td>\n",
       "    </tr>\n",
       "    <tr>\n",
       "      <th>171</th>\n",
       "      <td>888</td>\n",
       "      <td>1</td>\n",
       "    </tr>\n",
       "  </tbody>\n",
       "</table>\n",
       "<p>172 rows × 2 columns</p>\n",
       "</div>"
      ],
      "text/plain": [
       "     CO_PAIS  contagem\n",
       "34       160     74854\n",
       "54       249     36854\n",
       "3         23     24452\n",
       "84       399     17338\n",
       "35       161     16953\n",
       "..       ...       ...\n",
       "151      760         1\n",
       "138      698         1\n",
       "37       165         1\n",
       "147      744         1\n",
       "171      888         1\n",
       "\n",
       "[172 rows x 2 columns]"
      ]
     },
     "execution_count": 35,
     "metadata": {},
     "output_type": "execute_result"
    }
   ],
   "source": [
    "g1=df1.groupby(['CO_PAIS']).size().reset_index().rename(columns={0:'contagem'})\n",
    "g1.sort_values(by=[\"contagem\"],ascending=False)"
   ]
  },
  {
   "cell_type": "code",
   "execution_count": 36,
   "metadata": {},
   "outputs": [],
   "source": [
    "g1[\"% CO_PAIS\"] = g1[\"contagem\"]/(g1[\"contagem\"].sum())"
   ]
  },
  {
   "cell_type": "code",
   "execution_count": 37,
   "metadata": {},
   "outputs": [],
   "source": [
    "g2=g1.sort_values(by=[\"contagem\"],ascending=False)"
   ]
  },
  {
   "cell_type": "code",
   "execution_count": 38,
   "metadata": {},
   "outputs": [],
   "source": [
    "g2[\"% CO_PAIS ACUMUL\"]=g2[\"% CO_PAIS\"].cumsum()"
   ]
  },
  {
   "cell_type": "code",
   "execution_count": 39,
   "metadata": {},
   "outputs": [
    {
     "data": {
      "text/html": [
       "<div>\n",
       "<style scoped>\n",
       "    .dataframe tbody tr th:only-of-type {\n",
       "        vertical-align: middle;\n",
       "    }\n",
       "\n",
       "    .dataframe tbody tr th {\n",
       "        vertical-align: top;\n",
       "    }\n",
       "\n",
       "    .dataframe thead th {\n",
       "        text-align: right;\n",
       "    }\n",
       "</style>\n",
       "<table border=\"1\" class=\"dataframe\">\n",
       "  <thead>\n",
       "    <tr style=\"text-align: right;\">\n",
       "      <th></th>\n",
       "      <th>CO_PAIS</th>\n",
       "      <th>contagem</th>\n",
       "      <th>% CO_PAIS</th>\n",
       "      <th>% CO_PAIS ACUMUL</th>\n",
       "    </tr>\n",
       "  </thead>\n",
       "  <tbody>\n",
       "    <tr>\n",
       "      <th>34</th>\n",
       "      <td>160</td>\n",
       "      <td>74854</td>\n",
       "      <td>0.215105</td>\n",
       "      <td>0.215105</td>\n",
       "    </tr>\n",
       "    <tr>\n",
       "      <th>54</th>\n",
       "      <td>249</td>\n",
       "      <td>36854</td>\n",
       "      <td>0.105906</td>\n",
       "      <td>0.321010</td>\n",
       "    </tr>\n",
       "    <tr>\n",
       "      <th>3</th>\n",
       "      <td>23</td>\n",
       "      <td>24452</td>\n",
       "      <td>0.070267</td>\n",
       "      <td>0.391277</td>\n",
       "    </tr>\n",
       "    <tr>\n",
       "      <th>84</th>\n",
       "      <td>399</td>\n",
       "      <td>17338</td>\n",
       "      <td>0.049823</td>\n",
       "      <td>0.441100</td>\n",
       "    </tr>\n",
       "    <tr>\n",
       "      <th>35</th>\n",
       "      <td>161</td>\n",
       "      <td>16953</td>\n",
       "      <td>0.048717</td>\n",
       "      <td>0.489817</td>\n",
       "    </tr>\n",
       "  </tbody>\n",
       "</table>\n",
       "</div>"
      ],
      "text/plain": [
       "    CO_PAIS  contagem  % CO_PAIS  % CO_PAIS ACUMUL\n",
       "34      160     74854   0.215105          0.215105\n",
       "54      249     36854   0.105906          0.321010\n",
       "3        23     24452   0.070267          0.391277\n",
       "84      399     17338   0.049823          0.441100\n",
       "35      161     16953   0.048717          0.489817"
      ]
     },
     "execution_count": 39,
     "metadata": {},
     "output_type": "execute_result"
    }
   ],
   "source": [
    "g2.head()"
   ]
  },
  {
   "cell_type": "code",
   "execution_count": 40,
   "metadata": {},
   "outputs": [
    {
     "name": "stdout",
     "output_type": "stream",
     "text": [
      "<class 'pandas.core.frame.DataFrame'>\n",
      "Int64Index: 35 entries, 34 to 162\n",
      "Data columns (total 4 columns):\n",
      " #   Column            Non-Null Count  Dtype  \n",
      "---  ------            --------------  -----  \n",
      " 0   CO_PAIS           35 non-null     int64  \n",
      " 1   contagem          35 non-null     int64  \n",
      " 2   % CO_PAIS         35 non-null     float64\n",
      " 3   % CO_PAIS ACUMUL  35 non-null     float64\n",
      "dtypes: float64(2), int64(2)\n",
      "memory usage: 1.4 KB\n"
     ]
    }
   ],
   "source": [
    "# tentando identificar um percentual que viabilize a implementação do modelo (considerando a necessidade de \"dummizar\" a variável CO_PAIS, a ideia é reduzir o número de categorias)\n",
    "g3=g2[g2[\"% CO_PAIS ACUMUL\"]<=0.95]\n",
    "g3.info()\n",
    "# repare que 95% das ocorrências se restingem a 35 países dentre os 172."
   ]
  },
  {
   "cell_type": "code",
   "execution_count": 41,
   "metadata": {},
   "outputs": [
    {
     "data": {
      "text/html": [
       "<div>\n",
       "<style scoped>\n",
       "    .dataframe tbody tr th:only-of-type {\n",
       "        vertical-align: middle;\n",
       "    }\n",
       "\n",
       "    .dataframe tbody tr th {\n",
       "        vertical-align: top;\n",
       "    }\n",
       "\n",
       "    .dataframe thead th {\n",
       "        text-align: right;\n",
       "    }\n",
       "</style>\n",
       "<table border=\"1\" class=\"dataframe\">\n",
       "  <thead>\n",
       "    <tr style=\"text-align: right;\">\n",
       "      <th></th>\n",
       "      <th>CO_PAIS</th>\n",
       "      <th>contagem</th>\n",
       "      <th>% CO_PAIS</th>\n",
       "      <th>% CO_PAIS ACUMUL</th>\n",
       "    </tr>\n",
       "  </thead>\n",
       "  <tbody>\n",
       "    <tr>\n",
       "      <th>8</th>\n",
       "      <td>63</td>\n",
       "      <td>1452</td>\n",
       "      <td>0.004173</td>\n",
       "      <td>0.952294</td>\n",
       "    </tr>\n",
       "    <tr>\n",
       "      <th>52</th>\n",
       "      <td>246</td>\n",
       "      <td>1318</td>\n",
       "      <td>0.003787</td>\n",
       "      <td>0.956082</td>\n",
       "    </tr>\n",
       "    <tr>\n",
       "      <th>22</th>\n",
       "      <td>105</td>\n",
       "      <td>1197</td>\n",
       "      <td>0.003440</td>\n",
       "      <td>0.959522</td>\n",
       "    </tr>\n",
       "    <tr>\n",
       "      <th>102</th>\n",
       "      <td>474</td>\n",
       "      <td>1186</td>\n",
       "      <td>0.003408</td>\n",
       "      <td>0.962930</td>\n",
       "    </tr>\n",
       "    <tr>\n",
       "      <th>114</th>\n",
       "      <td>538</td>\n",
       "      <td>1145</td>\n",
       "      <td>0.003290</td>\n",
       "      <td>0.966220</td>\n",
       "    </tr>\n",
       "    <tr>\n",
       "      <th>...</th>\n",
       "      <td>...</td>\n",
       "      <td>...</td>\n",
       "      <td>...</td>\n",
       "      <td>...</td>\n",
       "    </tr>\n",
       "    <tr>\n",
       "      <th>151</th>\n",
       "      <td>760</td>\n",
       "      <td>1</td>\n",
       "      <td>0.000003</td>\n",
       "      <td>0.999989</td>\n",
       "    </tr>\n",
       "    <tr>\n",
       "      <th>138</th>\n",
       "      <td>698</td>\n",
       "      <td>1</td>\n",
       "      <td>0.000003</td>\n",
       "      <td>0.999991</td>\n",
       "    </tr>\n",
       "    <tr>\n",
       "      <th>37</th>\n",
       "      <td>165</td>\n",
       "      <td>1</td>\n",
       "      <td>0.000003</td>\n",
       "      <td>0.999994</td>\n",
       "    </tr>\n",
       "    <tr>\n",
       "      <th>147</th>\n",
       "      <td>744</td>\n",
       "      <td>1</td>\n",
       "      <td>0.000003</td>\n",
       "      <td>0.999997</td>\n",
       "    </tr>\n",
       "    <tr>\n",
       "      <th>171</th>\n",
       "      <td>888</td>\n",
       "      <td>1</td>\n",
       "      <td>0.000003</td>\n",
       "      <td>1.000000</td>\n",
       "    </tr>\n",
       "  </tbody>\n",
       "</table>\n",
       "<p>137 rows × 4 columns</p>\n",
       "</div>"
      ],
      "text/plain": [
       "     CO_PAIS  contagem  % CO_PAIS  % CO_PAIS ACUMUL\n",
       "8         63      1452   0.004173          0.952294\n",
       "52       246      1318   0.003787          0.956082\n",
       "22       105      1197   0.003440          0.959522\n",
       "102      474      1186   0.003408          0.962930\n",
       "114      538      1145   0.003290          0.966220\n",
       "..       ...       ...        ...               ...\n",
       "151      760         1   0.000003          0.999989\n",
       "138      698         1   0.000003          0.999991\n",
       "37       165         1   0.000003          0.999994\n",
       "147      744         1   0.000003          0.999997\n",
       "171      888         1   0.000003          1.000000\n",
       "\n",
       "[137 rows x 4 columns]"
      ]
     },
     "execution_count": 41,
     "metadata": {},
     "output_type": "execute_result"
    }
   ],
   "source": [
    "# os 5% que extrapolam o acumulado 95% serão agrupados em uma única categoria, portanto, segue a identificação desses valores:\n",
    "g4=g2[g2[\"% CO_PAIS ACUMUL\"]>0.95]\n",
    "g4"
   ]
  },
  {
   "cell_type": "code",
   "execution_count": 42,
   "metadata": {},
   "outputs": [],
   "source": [
    "# obtendo os 5% países menos recorrentes, para agrupar como \"outros\" no df original\n",
    "idx=g4[\"CO_PAIS\"]"
   ]
  },
  {
   "cell_type": "code",
   "execution_count": 43,
   "metadata": {},
   "outputs": [
    {
     "data": {
      "text/plain": [
       "0          False\n",
       "1          False\n",
       "5          False\n",
       "6          False\n",
       "7          False\n",
       "           ...  \n",
       "1764407    False\n",
       "1764418    False\n",
       "1764422    False\n",
       "1764428    False\n",
       "1764432    False\n",
       "Name: CO_PAIS, Length: 347989, dtype: bool"
      ]
     },
     "execution_count": 43,
     "metadata": {},
     "output_type": "execute_result"
    }
   ],
   "source": [
    "mask=df1['CO_PAIS'].isin(idx)\n",
    "mask"
   ]
  },
  {
   "cell_type": "code",
   "execution_count": 44,
   "metadata": {},
   "outputs": [
    {
     "name": "stderr",
     "output_type": "stream",
     "text": [
      "<ipython-input-44-b9c243d6eb50>:1: SettingWithCopyWarning: \n",
      "A value is trying to be set on a copy of a slice from a DataFrame.\n",
      "Try using .loc[row_indexer,col_indexer] = value instead\n",
      "\n",
      "See the caveats in the documentation: https://pandas.pydata.org/pandas-docs/stable/user_guide/indexing.html#returning-a-view-versus-a-copy\n",
      "  df1[\"CO_PAIS_final\"]=df1[\"CO_PAIS\"]\n"
     ]
    }
   ],
   "source": [
    "df1[\"CO_PAIS_final\"]=df1[\"CO_PAIS\"]"
   ]
  },
  {
   "cell_type": "code",
   "execution_count": 45,
   "metadata": {},
   "outputs": [
    {
     "name": "stderr",
     "output_type": "stream",
     "text": [
      "D:\\ANACONDA\\lib\\site-packages\\pandas\\core\\indexing.py:1765: SettingWithCopyWarning: \n",
      "A value is trying to be set on a copy of a slice from a DataFrame.\n",
      "Try using .loc[row_indexer,col_indexer] = value instead\n",
      "\n",
      "See the caveats in the documentation: https://pandas.pydata.org/pandas-docs/stable/user_guide/indexing.html#returning-a-view-versus-a-copy\n",
      "  isetter(loc, value)\n"
     ]
    }
   ],
   "source": [
    "# substituir os 5% NCM menos recorrentes pelo código 99999999 (alterou-se a coluna auxiliar CO_PAIS_final para preservar a original CO_PAIS)\n",
    "df1.loc[mask, \"CO_PAIS_final\"] = 999"
   ]
  },
  {
   "cell_type": "code",
   "execution_count": 46,
   "metadata": {},
   "outputs": [
    {
     "data": {
      "text/html": [
       "<div>\n",
       "<style scoped>\n",
       "    .dataframe tbody tr th:only-of-type {\n",
       "        vertical-align: middle;\n",
       "    }\n",
       "\n",
       "    .dataframe tbody tr th {\n",
       "        vertical-align: top;\n",
       "    }\n",
       "\n",
       "    .dataframe thead th {\n",
       "        text-align: right;\n",
       "    }\n",
       "</style>\n",
       "<table border=\"1\" class=\"dataframe\">\n",
       "  <thead>\n",
       "    <tr style=\"text-align: right;\">\n",
       "      <th></th>\n",
       "      <th>ANO-MES</th>\n",
       "      <th>CO_NCM</th>\n",
       "      <th>CO_UNID</th>\n",
       "      <th>CO_PAIS</th>\n",
       "      <th>SG_UF_NCM</th>\n",
       "      <th>CO_VIA</th>\n",
       "      <th>CO_URF</th>\n",
       "      <th>QT_ESTAT</th>\n",
       "      <th>KG_LIQUIDO</th>\n",
       "      <th>VL_FOB</th>\n",
       "      <th>câmbio_mês_atual</th>\n",
       "      <th>câmbio_mês_anterior</th>\n",
       "      <th>CO_NCM_final</th>\n",
       "      <th>CO_UNID_final</th>\n",
       "      <th>CO_PAIS_final</th>\n",
       "    </tr>\n",
       "  </thead>\n",
       "  <tbody>\n",
       "    <tr>\n",
       "      <th>0</th>\n",
       "      <td>2019-12</td>\n",
       "      <td>85044021</td>\n",
       "      <td>11</td>\n",
       "      <td>249</td>\n",
       "      <td>SP</td>\n",
       "      <td>4</td>\n",
       "      <td>817700</td>\n",
       "      <td>53</td>\n",
       "      <td>44</td>\n",
       "      <td>8263</td>\n",
       "      <td>4.108924</td>\n",
       "      <td>4.154725</td>\n",
       "      <td>85044021</td>\n",
       "      <td>11</td>\n",
       "      <td>249</td>\n",
       "    </tr>\n",
       "    <tr>\n",
       "      <th>1</th>\n",
       "      <td>2019-12</td>\n",
       "      <td>85183000</td>\n",
       "      <td>11</td>\n",
       "      <td>160</td>\n",
       "      <td>GO</td>\n",
       "      <td>4</td>\n",
       "      <td>817600</td>\n",
       "      <td>23734</td>\n",
       "      <td>1621</td>\n",
       "      <td>6987</td>\n",
       "      <td>4.108924</td>\n",
       "      <td>4.154725</td>\n",
       "      <td>85183000</td>\n",
       "      <td>11</td>\n",
       "      <td>160</td>\n",
       "    </tr>\n",
       "    <tr>\n",
       "      <th>5</th>\n",
       "      <td>2019-12</td>\n",
       "      <td>85389090</td>\n",
       "      <td>10</td>\n",
       "      <td>386</td>\n",
       "      <td>SC</td>\n",
       "      <td>1</td>\n",
       "      <td>817800</td>\n",
       "      <td>101</td>\n",
       "      <td>101</td>\n",
       "      <td>879</td>\n",
       "      <td>4.108924</td>\n",
       "      <td>4.154725</td>\n",
       "      <td>85389090</td>\n",
       "      <td>10</td>\n",
       "      <td>386</td>\n",
       "    </tr>\n",
       "    <tr>\n",
       "      <th>6</th>\n",
       "      <td>2019-12</td>\n",
       "      <td>85042100</td>\n",
       "      <td>11</td>\n",
       "      <td>764</td>\n",
       "      <td>SP</td>\n",
       "      <td>1</td>\n",
       "      <td>817800</td>\n",
       "      <td>3</td>\n",
       "      <td>2370</td>\n",
       "      <td>19651</td>\n",
       "      <td>4.108924</td>\n",
       "      <td>4.154725</td>\n",
       "      <td>99999999</td>\n",
       "      <td>11</td>\n",
       "      <td>764</td>\n",
       "    </tr>\n",
       "    <tr>\n",
       "      <th>7</th>\n",
       "      <td>2019-12</td>\n",
       "      <td>85030010</td>\n",
       "      <td>10</td>\n",
       "      <td>386</td>\n",
       "      <td>SP</td>\n",
       "      <td>4</td>\n",
       "      <td>817600</td>\n",
       "      <td>835</td>\n",
       "      <td>835</td>\n",
       "      <td>3567</td>\n",
       "      <td>4.108924</td>\n",
       "      <td>4.154725</td>\n",
       "      <td>85030010</td>\n",
       "      <td>10</td>\n",
       "      <td>386</td>\n",
       "    </tr>\n",
       "    <tr>\n",
       "      <th>...</th>\n",
       "      <td>...</td>\n",
       "      <td>...</td>\n",
       "      <td>...</td>\n",
       "      <td>...</td>\n",
       "      <td>...</td>\n",
       "      <td>...</td>\n",
       "      <td>...</td>\n",
       "      <td>...</td>\n",
       "      <td>...</td>\n",
       "      <td>...</td>\n",
       "      <td>...</td>\n",
       "      <td>...</td>\n",
       "      <td>...</td>\n",
       "      <td>...</td>\n",
       "      <td>...</td>\n",
       "    </tr>\n",
       "    <tr>\n",
       "      <th>1764407</th>\n",
       "      <td>2019-08</td>\n",
       "      <td>85011019</td>\n",
       "      <td>11</td>\n",
       "      <td>355</td>\n",
       "      <td>SP</td>\n",
       "      <td>1</td>\n",
       "      <td>817800</td>\n",
       "      <td>130</td>\n",
       "      <td>33</td>\n",
       "      <td>8565</td>\n",
       "      <td>4.019382</td>\n",
       "      <td>3.778713</td>\n",
       "      <td>85011019</td>\n",
       "      <td>11</td>\n",
       "      <td>355</td>\n",
       "    </tr>\n",
       "    <tr>\n",
       "      <th>1764418</th>\n",
       "      <td>2019-08</td>\n",
       "      <td>85369010</td>\n",
       "      <td>11</td>\n",
       "      <td>776</td>\n",
       "      <td>MG</td>\n",
       "      <td>1</td>\n",
       "      <td>817800</td>\n",
       "      <td>10000</td>\n",
       "      <td>86</td>\n",
       "      <td>2803</td>\n",
       "      <td>4.019382</td>\n",
       "      <td>3.778713</td>\n",
       "      <td>85369010</td>\n",
       "      <td>11</td>\n",
       "      <td>776</td>\n",
       "    </tr>\n",
       "    <tr>\n",
       "      <th>1764422</th>\n",
       "      <td>2019-08</td>\n",
       "      <td>85389020</td>\n",
       "      <td>11</td>\n",
       "      <td>386</td>\n",
       "      <td>SP</td>\n",
       "      <td>4</td>\n",
       "      <td>817700</td>\n",
       "      <td>100</td>\n",
       "      <td>6</td>\n",
       "      <td>1832</td>\n",
       "      <td>4.019382</td>\n",
       "      <td>3.778713</td>\n",
       "      <td>85389020</td>\n",
       "      <td>11</td>\n",
       "      <td>386</td>\n",
       "    </tr>\n",
       "    <tr>\n",
       "      <th>1764428</th>\n",
       "      <td>2019-08</td>\n",
       "      <td>85365090</td>\n",
       "      <td>11</td>\n",
       "      <td>271</td>\n",
       "      <td>SP</td>\n",
       "      <td>4</td>\n",
       "      <td>817600</td>\n",
       "      <td>11</td>\n",
       "      <td>157</td>\n",
       "      <td>4412</td>\n",
       "      <td>4.019382</td>\n",
       "      <td>3.778713</td>\n",
       "      <td>85365090</td>\n",
       "      <td>11</td>\n",
       "      <td>271</td>\n",
       "    </tr>\n",
       "    <tr>\n",
       "      <th>1764432</th>\n",
       "      <td>2019-08</td>\n",
       "      <td>85269200</td>\n",
       "      <td>11</td>\n",
       "      <td>776</td>\n",
       "      <td>SP</td>\n",
       "      <td>4</td>\n",
       "      <td>817600</td>\n",
       "      <td>2</td>\n",
       "      <td>0</td>\n",
       "      <td>119</td>\n",
       "      <td>4.019382</td>\n",
       "      <td>3.778713</td>\n",
       "      <td>85269200</td>\n",
       "      <td>11</td>\n",
       "      <td>776</td>\n",
       "    </tr>\n",
       "  </tbody>\n",
       "</table>\n",
       "<p>347989 rows × 15 columns</p>\n",
       "</div>"
      ],
      "text/plain": [
       "         ANO-MES    CO_NCM  CO_UNID  CO_PAIS SG_UF_NCM  CO_VIA  CO_URF  \\\n",
       "0        2019-12  85044021       11      249        SP       4  817700   \n",
       "1        2019-12  85183000       11      160        GO       4  817600   \n",
       "5        2019-12  85389090       10      386        SC       1  817800   \n",
       "6        2019-12  85042100       11      764        SP       1  817800   \n",
       "7        2019-12  85030010       10      386        SP       4  817600   \n",
       "...          ...       ...      ...      ...       ...     ...     ...   \n",
       "1764407  2019-08  85011019       11      355        SP       1  817800   \n",
       "1764418  2019-08  85369010       11      776        MG       1  817800   \n",
       "1764422  2019-08  85389020       11      386        SP       4  817700   \n",
       "1764428  2019-08  85365090       11      271        SP       4  817600   \n",
       "1764432  2019-08  85269200       11      776        SP       4  817600   \n",
       "\n",
       "         QT_ESTAT  KG_LIQUIDO  VL_FOB  câmbio_mês_atual  câmbio_mês_anterior  \\\n",
       "0              53          44    8263          4.108924             4.154725   \n",
       "1           23734        1621    6987          4.108924             4.154725   \n",
       "5             101         101     879          4.108924             4.154725   \n",
       "6               3        2370   19651          4.108924             4.154725   \n",
       "7             835         835    3567          4.108924             4.154725   \n",
       "...           ...         ...     ...               ...                  ...   \n",
       "1764407       130          33    8565          4.019382             3.778713   \n",
       "1764418     10000          86    2803          4.019382             3.778713   \n",
       "1764422       100           6    1832          4.019382             3.778713   \n",
       "1764428        11         157    4412          4.019382             3.778713   \n",
       "1764432         2           0     119          4.019382             3.778713   \n",
       "\n",
       "         CO_NCM_final  CO_UNID_final  CO_PAIS_final  \n",
       "0            85044021             11            249  \n",
       "1            85183000             11            160  \n",
       "5            85389090             10            386  \n",
       "6            99999999             11            764  \n",
       "7            85030010             10            386  \n",
       "...               ...            ...            ...  \n",
       "1764407      85011019             11            355  \n",
       "1764418      85369010             11            776  \n",
       "1764422      85389020             11            386  \n",
       "1764428      85365090             11            271  \n",
       "1764432      85269200             11            776  \n",
       "\n",
       "[347989 rows x 15 columns]"
      ]
     },
     "execution_count": 46,
     "metadata": {},
     "output_type": "execute_result"
    }
   ],
   "source": [
    "df1"
   ]
  },
  {
   "cell_type": "code",
   "execution_count": 47,
   "metadata": {
    "scrolled": true
   },
   "outputs": [
    {
     "data": {
      "text/plain": [
       "160    74854\n",
       "249    36854\n",
       "23     24452\n",
       "999    18053\n",
       "399    17338\n",
       "161    16953\n",
       "386    14981\n",
       "493    12915\n",
       "190    11156\n",
       "275     9484\n",
       "776     8895\n",
       "455     8603\n",
       "351     7588\n",
       "628     6848\n",
       "245     6600\n",
       "764     5217\n",
       "267     5050\n",
       "791     4982\n",
       "361     4810\n",
       "767     4734\n",
       "72      4428\n",
       "355     4150\n",
       "603     4076\n",
       "149     3857\n",
       "365     3849\n",
       "858     3820\n",
       "741     3276\n",
       "573     2968\n",
       "670     2552\n",
       "232     2408\n",
       "87      2300\n",
       "271     2272\n",
       "247     2096\n",
       "383     2031\n",
       "607     1853\n",
       "827     1686\n",
       "Name: CO_PAIS_final, dtype: int64"
      ]
     },
     "execution_count": 47,
     "metadata": {},
     "output_type": "execute_result"
    }
   ],
   "source": [
    "df1[\"CO_PAIS_final\"].value_counts()"
   ]
  },
  {
   "cell_type": "markdown",
   "metadata": {},
   "source": [
    "###### Checando países (SG_UF_NCM) recorrentes"
   ]
  },
  {
   "cell_type": "code",
   "execution_count": 48,
   "metadata": {},
   "outputs": [
    {
     "data": {
      "text/html": [
       "<div>\n",
       "<style scoped>\n",
       "    .dataframe tbody tr th:only-of-type {\n",
       "        vertical-align: middle;\n",
       "    }\n",
       "\n",
       "    .dataframe tbody tr th {\n",
       "        vertical-align: top;\n",
       "    }\n",
       "\n",
       "    .dataframe thead th {\n",
       "        text-align: right;\n",
       "    }\n",
       "</style>\n",
       "<table border=\"1\" class=\"dataframe\">\n",
       "  <thead>\n",
       "    <tr style=\"text-align: right;\">\n",
       "      <th></th>\n",
       "      <th>SG_UF_NCM</th>\n",
       "      <th>contagem</th>\n",
       "    </tr>\n",
       "  </thead>\n",
       "  <tbody>\n",
       "    <tr>\n",
       "      <th>25</th>\n",
       "      <td>SP</td>\n",
       "      <td>126018</td>\n",
       "    </tr>\n",
       "    <tr>\n",
       "      <th>23</th>\n",
       "      <td>SC</td>\n",
       "      <td>34424</td>\n",
       "    </tr>\n",
       "    <tr>\n",
       "      <th>10</th>\n",
       "      <td>MG</td>\n",
       "      <td>33316</td>\n",
       "    </tr>\n",
       "    <tr>\n",
       "      <th>17</th>\n",
       "      <td>PR</td>\n",
       "      <td>29663</td>\n",
       "    </tr>\n",
       "    <tr>\n",
       "      <th>2</th>\n",
       "      <td>AM</td>\n",
       "      <td>28433</td>\n",
       "    </tr>\n",
       "    <tr>\n",
       "      <th>22</th>\n",
       "      <td>RS</td>\n",
       "      <td>22875</td>\n",
       "    </tr>\n",
       "    <tr>\n",
       "      <th>18</th>\n",
       "      <td>RJ</td>\n",
       "      <td>22858</td>\n",
       "    </tr>\n",
       "    <tr>\n",
       "      <th>4</th>\n",
       "      <td>BA</td>\n",
       "      <td>12395</td>\n",
       "    </tr>\n",
       "    <tr>\n",
       "      <th>7</th>\n",
       "      <td>ES</td>\n",
       "      <td>7898</td>\n",
       "    </tr>\n",
       "    <tr>\n",
       "      <th>8</th>\n",
       "      <td>GO</td>\n",
       "      <td>5422</td>\n",
       "    </tr>\n",
       "    <tr>\n",
       "      <th>5</th>\n",
       "      <td>CE</td>\n",
       "      <td>4579</td>\n",
       "    </tr>\n",
       "    <tr>\n",
       "      <th>15</th>\n",
       "      <td>PE</td>\n",
       "      <td>3823</td>\n",
       "    </tr>\n",
       "    <tr>\n",
       "      <th>1</th>\n",
       "      <td>AL</td>\n",
       "      <td>3253</td>\n",
       "    </tr>\n",
       "    <tr>\n",
       "      <th>20</th>\n",
       "      <td>RO</td>\n",
       "      <td>2964</td>\n",
       "    </tr>\n",
       "    <tr>\n",
       "      <th>13</th>\n",
       "      <td>PA</td>\n",
       "      <td>2343</td>\n",
       "    </tr>\n",
       "    <tr>\n",
       "      <th>6</th>\n",
       "      <td>DF</td>\n",
       "      <td>1395</td>\n",
       "    </tr>\n",
       "    <tr>\n",
       "      <th>24</th>\n",
       "      <td>SE</td>\n",
       "      <td>1290</td>\n",
       "    </tr>\n",
       "    <tr>\n",
       "      <th>19</th>\n",
       "      <td>RN</td>\n",
       "      <td>1120</td>\n",
       "    </tr>\n",
       "    <tr>\n",
       "      <th>14</th>\n",
       "      <td>PB</td>\n",
       "      <td>1002</td>\n",
       "    </tr>\n",
       "    <tr>\n",
       "      <th>11</th>\n",
       "      <td>MS</td>\n",
       "      <td>895</td>\n",
       "    </tr>\n",
       "    <tr>\n",
       "      <th>26</th>\n",
       "      <td>TO</td>\n",
       "      <td>461</td>\n",
       "    </tr>\n",
       "    <tr>\n",
       "      <th>12</th>\n",
       "      <td>MT</td>\n",
       "      <td>452</td>\n",
       "    </tr>\n",
       "    <tr>\n",
       "      <th>16</th>\n",
       "      <td>PI</td>\n",
       "      <td>412</td>\n",
       "    </tr>\n",
       "    <tr>\n",
       "      <th>9</th>\n",
       "      <td>MA</td>\n",
       "      <td>387</td>\n",
       "    </tr>\n",
       "    <tr>\n",
       "      <th>3</th>\n",
       "      <td>AP</td>\n",
       "      <td>203</td>\n",
       "    </tr>\n",
       "    <tr>\n",
       "      <th>21</th>\n",
       "      <td>RR</td>\n",
       "      <td>103</td>\n",
       "    </tr>\n",
       "    <tr>\n",
       "      <th>0</th>\n",
       "      <td>AC</td>\n",
       "      <td>5</td>\n",
       "    </tr>\n",
       "  </tbody>\n",
       "</table>\n",
       "</div>"
      ],
      "text/plain": [
       "   SG_UF_NCM  contagem\n",
       "25        SP    126018\n",
       "23        SC     34424\n",
       "10        MG     33316\n",
       "17        PR     29663\n",
       "2         AM     28433\n",
       "22        RS     22875\n",
       "18        RJ     22858\n",
       "4         BA     12395\n",
       "7         ES      7898\n",
       "8         GO      5422\n",
       "5         CE      4579\n",
       "15        PE      3823\n",
       "1         AL      3253\n",
       "20        RO      2964\n",
       "13        PA      2343\n",
       "6         DF      1395\n",
       "24        SE      1290\n",
       "19        RN      1120\n",
       "14        PB      1002\n",
       "11        MS       895\n",
       "26        TO       461\n",
       "12        MT       452\n",
       "16        PI       412\n",
       "9         MA       387\n",
       "3         AP       203\n",
       "21        RR       103\n",
       "0         AC         5"
      ]
     },
     "execution_count": 48,
     "metadata": {},
     "output_type": "execute_result"
    }
   ],
   "source": [
    "g1=df1.groupby(['SG_UF_NCM']).size().reset_index().rename(columns={0:'contagem'})\n",
    "g1.sort_values(by=[\"contagem\"],ascending=False)"
   ]
  },
  {
   "cell_type": "code",
   "execution_count": 49,
   "metadata": {},
   "outputs": [],
   "source": [
    "g1[\"% SG_UF_NCM\"] = g1[\"contagem\"]/(g1[\"contagem\"].sum())"
   ]
  },
  {
   "cell_type": "code",
   "execution_count": 50,
   "metadata": {},
   "outputs": [],
   "source": [
    "g2=g1.sort_values(by=[\"contagem\"],ascending=False)"
   ]
  },
  {
   "cell_type": "code",
   "execution_count": 51,
   "metadata": {},
   "outputs": [],
   "source": [
    "g2[\"% SG_UF_NCM ACUMUL\"]=g2[\"% SG_UF_NCM\"].cumsum()"
   ]
  },
  {
   "cell_type": "code",
   "execution_count": 52,
   "metadata": {
    "scrolled": true
   },
   "outputs": [
    {
     "data": {
      "text/html": [
       "<div>\n",
       "<style scoped>\n",
       "    .dataframe tbody tr th:only-of-type {\n",
       "        vertical-align: middle;\n",
       "    }\n",
       "\n",
       "    .dataframe tbody tr th {\n",
       "        vertical-align: top;\n",
       "    }\n",
       "\n",
       "    .dataframe thead th {\n",
       "        text-align: right;\n",
       "    }\n",
       "</style>\n",
       "<table border=\"1\" class=\"dataframe\">\n",
       "  <thead>\n",
       "    <tr style=\"text-align: right;\">\n",
       "      <th></th>\n",
       "      <th>SG_UF_NCM</th>\n",
       "      <th>contagem</th>\n",
       "      <th>% SG_UF_NCM</th>\n",
       "      <th>% SG_UF_NCM ACUMUL</th>\n",
       "    </tr>\n",
       "  </thead>\n",
       "  <tbody>\n",
       "    <tr>\n",
       "      <th>25</th>\n",
       "      <td>SP</td>\n",
       "      <td>126018</td>\n",
       "      <td>0.362132</td>\n",
       "      <td>0.362132</td>\n",
       "    </tr>\n",
       "    <tr>\n",
       "      <th>23</th>\n",
       "      <td>SC</td>\n",
       "      <td>34424</td>\n",
       "      <td>0.098923</td>\n",
       "      <td>0.461055</td>\n",
       "    </tr>\n",
       "    <tr>\n",
       "      <th>10</th>\n",
       "      <td>MG</td>\n",
       "      <td>33316</td>\n",
       "      <td>0.095739</td>\n",
       "      <td>0.556793</td>\n",
       "    </tr>\n",
       "    <tr>\n",
       "      <th>17</th>\n",
       "      <td>PR</td>\n",
       "      <td>29663</td>\n",
       "      <td>0.085241</td>\n",
       "      <td>0.642035</td>\n",
       "    </tr>\n",
       "    <tr>\n",
       "      <th>2</th>\n",
       "      <td>AM</td>\n",
       "      <td>28433</td>\n",
       "      <td>0.081707</td>\n",
       "      <td>0.723741</td>\n",
       "    </tr>\n",
       "  </tbody>\n",
       "</table>\n",
       "</div>"
      ],
      "text/plain": [
       "   SG_UF_NCM  contagem  % SG_UF_NCM  % SG_UF_NCM ACUMUL\n",
       "25        SP    126018     0.362132            0.362132\n",
       "23        SC     34424     0.098923            0.461055\n",
       "10        MG     33316     0.095739            0.556793\n",
       "17        PR     29663     0.085241            0.642035\n",
       "2         AM     28433     0.081707            0.723741"
      ]
     },
     "execution_count": 52,
     "metadata": {},
     "output_type": "execute_result"
    }
   ],
   "source": [
    "g2.head()"
   ]
  },
  {
   "cell_type": "code",
   "execution_count": 53,
   "metadata": {},
   "outputs": [
    {
     "data": {
      "text/html": [
       "<div>\n",
       "<style scoped>\n",
       "    .dataframe tbody tr th:only-of-type {\n",
       "        vertical-align: middle;\n",
       "    }\n",
       "\n",
       "    .dataframe tbody tr th {\n",
       "        vertical-align: top;\n",
       "    }\n",
       "\n",
       "    .dataframe thead th {\n",
       "        text-align: right;\n",
       "    }\n",
       "</style>\n",
       "<table border=\"1\" class=\"dataframe\">\n",
       "  <thead>\n",
       "    <tr style=\"text-align: right;\">\n",
       "      <th></th>\n",
       "      <th>SG_UF_NCM</th>\n",
       "      <th>contagem</th>\n",
       "      <th>% SG_UF_NCM</th>\n",
       "      <th>% SG_UF_NCM ACUMUL</th>\n",
       "    </tr>\n",
       "  </thead>\n",
       "  <tbody>\n",
       "    <tr>\n",
       "      <th>25</th>\n",
       "      <td>SP</td>\n",
       "      <td>126018</td>\n",
       "      <td>0.362132</td>\n",
       "      <td>0.362132</td>\n",
       "    </tr>\n",
       "    <tr>\n",
       "      <th>23</th>\n",
       "      <td>SC</td>\n",
       "      <td>34424</td>\n",
       "      <td>0.098923</td>\n",
       "      <td>0.461055</td>\n",
       "    </tr>\n",
       "    <tr>\n",
       "      <th>10</th>\n",
       "      <td>MG</td>\n",
       "      <td>33316</td>\n",
       "      <td>0.095739</td>\n",
       "      <td>0.556793</td>\n",
       "    </tr>\n",
       "    <tr>\n",
       "      <th>17</th>\n",
       "      <td>PR</td>\n",
       "      <td>29663</td>\n",
       "      <td>0.085241</td>\n",
       "      <td>0.642035</td>\n",
       "    </tr>\n",
       "    <tr>\n",
       "      <th>2</th>\n",
       "      <td>AM</td>\n",
       "      <td>28433</td>\n",
       "      <td>0.081707</td>\n",
       "      <td>0.723741</td>\n",
       "    </tr>\n",
       "    <tr>\n",
       "      <th>22</th>\n",
       "      <td>RS</td>\n",
       "      <td>22875</td>\n",
       "      <td>0.065735</td>\n",
       "      <td>0.789476</td>\n",
       "    </tr>\n",
       "    <tr>\n",
       "      <th>18</th>\n",
       "      <td>RJ</td>\n",
       "      <td>22858</td>\n",
       "      <td>0.065686</td>\n",
       "      <td>0.855162</td>\n",
       "    </tr>\n",
       "    <tr>\n",
       "      <th>4</th>\n",
       "      <td>BA</td>\n",
       "      <td>12395</td>\n",
       "      <td>0.035619</td>\n",
       "      <td>0.890781</td>\n",
       "    </tr>\n",
       "    <tr>\n",
       "      <th>7</th>\n",
       "      <td>ES</td>\n",
       "      <td>7898</td>\n",
       "      <td>0.022696</td>\n",
       "      <td>0.913477</td>\n",
       "    </tr>\n",
       "    <tr>\n",
       "      <th>8</th>\n",
       "      <td>GO</td>\n",
       "      <td>5422</td>\n",
       "      <td>0.015581</td>\n",
       "      <td>0.929058</td>\n",
       "    </tr>\n",
       "    <tr>\n",
       "      <th>5</th>\n",
       "      <td>CE</td>\n",
       "      <td>4579</td>\n",
       "      <td>0.013158</td>\n",
       "      <td>0.942217</td>\n",
       "    </tr>\n",
       "  </tbody>\n",
       "</table>\n",
       "</div>"
      ],
      "text/plain": [
       "   SG_UF_NCM  contagem  % SG_UF_NCM  % SG_UF_NCM ACUMUL\n",
       "25        SP    126018     0.362132            0.362132\n",
       "23        SC     34424     0.098923            0.461055\n",
       "10        MG     33316     0.095739            0.556793\n",
       "17        PR     29663     0.085241            0.642035\n",
       "2         AM     28433     0.081707            0.723741\n",
       "22        RS     22875     0.065735            0.789476\n",
       "18        RJ     22858     0.065686            0.855162\n",
       "4         BA     12395     0.035619            0.890781\n",
       "7         ES      7898     0.022696            0.913477\n",
       "8         GO      5422     0.015581            0.929058\n",
       "5         CE      4579     0.013158            0.942217"
      ]
     },
     "execution_count": 53,
     "metadata": {},
     "output_type": "execute_result"
    }
   ],
   "source": [
    "# tentando identificar um percentual que viabilize a implementação do modelo (considerando a necessidade de \"dummizar\" a variável CO_NCM, a ideia é reduzir o número de categorias)\n",
    "g3=g2[g2[\"% SG_UF_NCM ACUMUL\"]<=0.95]\n",
    "g3\n",
    "# repare que 95% das ocorrências se restingem a 11 UF dentre as 27."
   ]
  },
  {
   "cell_type": "code",
   "execution_count": 54,
   "metadata": {},
   "outputs": [
    {
     "data": {
      "text/html": [
       "<div>\n",
       "<style scoped>\n",
       "    .dataframe tbody tr th:only-of-type {\n",
       "        vertical-align: middle;\n",
       "    }\n",
       "\n",
       "    .dataframe tbody tr th {\n",
       "        vertical-align: top;\n",
       "    }\n",
       "\n",
       "    .dataframe thead th {\n",
       "        text-align: right;\n",
       "    }\n",
       "</style>\n",
       "<table border=\"1\" class=\"dataframe\">\n",
       "  <thead>\n",
       "    <tr style=\"text-align: right;\">\n",
       "      <th></th>\n",
       "      <th>SG_UF_NCM</th>\n",
       "      <th>contagem</th>\n",
       "      <th>% SG_UF_NCM</th>\n",
       "      <th>% SG_UF_NCM ACUMUL</th>\n",
       "    </tr>\n",
       "  </thead>\n",
       "  <tbody>\n",
       "    <tr>\n",
       "      <th>15</th>\n",
       "      <td>PE</td>\n",
       "      <td>3823</td>\n",
       "      <td>0.010986</td>\n",
       "      <td>0.953203</td>\n",
       "    </tr>\n",
       "    <tr>\n",
       "      <th>1</th>\n",
       "      <td>AL</td>\n",
       "      <td>3253</td>\n",
       "      <td>0.009348</td>\n",
       "      <td>0.962551</td>\n",
       "    </tr>\n",
       "    <tr>\n",
       "      <th>20</th>\n",
       "      <td>RO</td>\n",
       "      <td>2964</td>\n",
       "      <td>0.008518</td>\n",
       "      <td>0.971068</td>\n",
       "    </tr>\n",
       "    <tr>\n",
       "      <th>13</th>\n",
       "      <td>PA</td>\n",
       "      <td>2343</td>\n",
       "      <td>0.006733</td>\n",
       "      <td>0.977801</td>\n",
       "    </tr>\n",
       "    <tr>\n",
       "      <th>6</th>\n",
       "      <td>DF</td>\n",
       "      <td>1395</td>\n",
       "      <td>0.004009</td>\n",
       "      <td>0.981810</td>\n",
       "    </tr>\n",
       "    <tr>\n",
       "      <th>24</th>\n",
       "      <td>SE</td>\n",
       "      <td>1290</td>\n",
       "      <td>0.003707</td>\n",
       "      <td>0.985517</td>\n",
       "    </tr>\n",
       "    <tr>\n",
       "      <th>19</th>\n",
       "      <td>RN</td>\n",
       "      <td>1120</td>\n",
       "      <td>0.003218</td>\n",
       "      <td>0.988735</td>\n",
       "    </tr>\n",
       "    <tr>\n",
       "      <th>14</th>\n",
       "      <td>PB</td>\n",
       "      <td>1002</td>\n",
       "      <td>0.002879</td>\n",
       "      <td>0.991615</td>\n",
       "    </tr>\n",
       "    <tr>\n",
       "      <th>11</th>\n",
       "      <td>MS</td>\n",
       "      <td>895</td>\n",
       "      <td>0.002572</td>\n",
       "      <td>0.994187</td>\n",
       "    </tr>\n",
       "    <tr>\n",
       "      <th>26</th>\n",
       "      <td>TO</td>\n",
       "      <td>461</td>\n",
       "      <td>0.001325</td>\n",
       "      <td>0.995511</td>\n",
       "    </tr>\n",
       "    <tr>\n",
       "      <th>12</th>\n",
       "      <td>MT</td>\n",
       "      <td>452</td>\n",
       "      <td>0.001299</td>\n",
       "      <td>0.996810</td>\n",
       "    </tr>\n",
       "    <tr>\n",
       "      <th>16</th>\n",
       "      <td>PI</td>\n",
       "      <td>412</td>\n",
       "      <td>0.001184</td>\n",
       "      <td>0.997994</td>\n",
       "    </tr>\n",
       "    <tr>\n",
       "      <th>9</th>\n",
       "      <td>MA</td>\n",
       "      <td>387</td>\n",
       "      <td>0.001112</td>\n",
       "      <td>0.999106</td>\n",
       "    </tr>\n",
       "    <tr>\n",
       "      <th>3</th>\n",
       "      <td>AP</td>\n",
       "      <td>203</td>\n",
       "      <td>0.000583</td>\n",
       "      <td>0.999690</td>\n",
       "    </tr>\n",
       "    <tr>\n",
       "      <th>21</th>\n",
       "      <td>RR</td>\n",
       "      <td>103</td>\n",
       "      <td>0.000296</td>\n",
       "      <td>0.999986</td>\n",
       "    </tr>\n",
       "    <tr>\n",
       "      <th>0</th>\n",
       "      <td>AC</td>\n",
       "      <td>5</td>\n",
       "      <td>0.000014</td>\n",
       "      <td>1.000000</td>\n",
       "    </tr>\n",
       "  </tbody>\n",
       "</table>\n",
       "</div>"
      ],
      "text/plain": [
       "   SG_UF_NCM  contagem  % SG_UF_NCM  % SG_UF_NCM ACUMUL\n",
       "15        PE      3823     0.010986            0.953203\n",
       "1         AL      3253     0.009348            0.962551\n",
       "20        RO      2964     0.008518            0.971068\n",
       "13        PA      2343     0.006733            0.977801\n",
       "6         DF      1395     0.004009            0.981810\n",
       "24        SE      1290     0.003707            0.985517\n",
       "19        RN      1120     0.003218            0.988735\n",
       "14        PB      1002     0.002879            0.991615\n",
       "11        MS       895     0.002572            0.994187\n",
       "26        TO       461     0.001325            0.995511\n",
       "12        MT       452     0.001299            0.996810\n",
       "16        PI       412     0.001184            0.997994\n",
       "9         MA       387     0.001112            0.999106\n",
       "3         AP       203     0.000583            0.999690\n",
       "21        RR       103     0.000296            0.999986\n",
       "0         AC         5     0.000014            1.000000"
      ]
     },
     "execution_count": 54,
     "metadata": {},
     "output_type": "execute_result"
    }
   ],
   "source": [
    "# os 5% que extrapolam o acumulado 95% serão agrupados em uma única categoria, portanto, segue a identificação desses valores:\n",
    "g4=g2[g2[\"% SG_UF_NCM ACUMUL\"]>0.95]\n",
    "g4"
   ]
  },
  {
   "cell_type": "code",
   "execution_count": 55,
   "metadata": {},
   "outputs": [],
   "source": [
    "# obtendo os 5% UF menos recorrentes, para agrupar como \"outros\" no df original\n",
    "idx=g4[\"SG_UF_NCM\"]"
   ]
  },
  {
   "cell_type": "code",
   "execution_count": 56,
   "metadata": {},
   "outputs": [
    {
     "data": {
      "text/plain": [
       "0          False\n",
       "1          False\n",
       "5          False\n",
       "6          False\n",
       "7          False\n",
       "           ...  \n",
       "1764407    False\n",
       "1764418    False\n",
       "1764422    False\n",
       "1764428    False\n",
       "1764432    False\n",
       "Name: SG_UF_NCM, Length: 347989, dtype: bool"
      ]
     },
     "execution_count": 56,
     "metadata": {},
     "output_type": "execute_result"
    }
   ],
   "source": [
    "mask=df1['SG_UF_NCM'].isin(idx)\n",
    "mask"
   ]
  },
  {
   "cell_type": "code",
   "execution_count": 57,
   "metadata": {},
   "outputs": [
    {
     "name": "stderr",
     "output_type": "stream",
     "text": [
      "<ipython-input-57-dd95862fade3>:1: SettingWithCopyWarning: \n",
      "A value is trying to be set on a copy of a slice from a DataFrame.\n",
      "Try using .loc[row_indexer,col_indexer] = value instead\n",
      "\n",
      "See the caveats in the documentation: https://pandas.pydata.org/pandas-docs/stable/user_guide/indexing.html#returning-a-view-versus-a-copy\n",
      "  df1[\"SG_UF_NCM_final\"]=df1[\"SG_UF_NCM\"]\n"
     ]
    }
   ],
   "source": [
    "df1[\"SG_UF_NCM_final\"]=df1[\"SG_UF_NCM\"]"
   ]
  },
  {
   "cell_type": "code",
   "execution_count": 58,
   "metadata": {},
   "outputs": [
    {
     "name": "stderr",
     "output_type": "stream",
     "text": [
      "D:\\ANACONDA\\lib\\site-packages\\pandas\\core\\indexing.py:1765: SettingWithCopyWarning: \n",
      "A value is trying to be set on a copy of a slice from a DataFrame.\n",
      "Try using .loc[row_indexer,col_indexer] = value instead\n",
      "\n",
      "See the caveats in the documentation: https://pandas.pydata.org/pandas-docs/stable/user_guide/indexing.html#returning-a-view-versus-a-copy\n",
      "  isetter(loc, value)\n"
     ]
    }
   ],
   "source": [
    "# substituir os 5% NCM menos recorrentes pelo código 99 (alterou-se a coluna auxiliar SG_UF_NCM_final para preservar a original SG_UF_NCM)\n",
    "df1.loc[mask, \"SG_UF_NCM_final\"] = 99"
   ]
  },
  {
   "cell_type": "code",
   "execution_count": 59,
   "metadata": {},
   "outputs": [
    {
     "data": {
      "text/html": [
       "<div>\n",
       "<style scoped>\n",
       "    .dataframe tbody tr th:only-of-type {\n",
       "        vertical-align: middle;\n",
       "    }\n",
       "\n",
       "    .dataframe tbody tr th {\n",
       "        vertical-align: top;\n",
       "    }\n",
       "\n",
       "    .dataframe thead th {\n",
       "        text-align: right;\n",
       "    }\n",
       "</style>\n",
       "<table border=\"1\" class=\"dataframe\">\n",
       "  <thead>\n",
       "    <tr style=\"text-align: right;\">\n",
       "      <th></th>\n",
       "      <th>ANO-MES</th>\n",
       "      <th>CO_NCM</th>\n",
       "      <th>CO_UNID</th>\n",
       "      <th>CO_PAIS</th>\n",
       "      <th>SG_UF_NCM</th>\n",
       "      <th>CO_VIA</th>\n",
       "      <th>CO_URF</th>\n",
       "      <th>QT_ESTAT</th>\n",
       "      <th>KG_LIQUIDO</th>\n",
       "      <th>VL_FOB</th>\n",
       "      <th>câmbio_mês_atual</th>\n",
       "      <th>câmbio_mês_anterior</th>\n",
       "      <th>CO_NCM_final</th>\n",
       "      <th>CO_UNID_final</th>\n",
       "      <th>CO_PAIS_final</th>\n",
       "      <th>SG_UF_NCM_final</th>\n",
       "    </tr>\n",
       "  </thead>\n",
       "  <tbody>\n",
       "    <tr>\n",
       "      <th>0</th>\n",
       "      <td>2019-12</td>\n",
       "      <td>85044021</td>\n",
       "      <td>11</td>\n",
       "      <td>249</td>\n",
       "      <td>SP</td>\n",
       "      <td>4</td>\n",
       "      <td>817700</td>\n",
       "      <td>53</td>\n",
       "      <td>44</td>\n",
       "      <td>8263</td>\n",
       "      <td>4.108924</td>\n",
       "      <td>4.154725</td>\n",
       "      <td>85044021</td>\n",
       "      <td>11</td>\n",
       "      <td>249</td>\n",
       "      <td>SP</td>\n",
       "    </tr>\n",
       "    <tr>\n",
       "      <th>1</th>\n",
       "      <td>2019-12</td>\n",
       "      <td>85183000</td>\n",
       "      <td>11</td>\n",
       "      <td>160</td>\n",
       "      <td>GO</td>\n",
       "      <td>4</td>\n",
       "      <td>817600</td>\n",
       "      <td>23734</td>\n",
       "      <td>1621</td>\n",
       "      <td>6987</td>\n",
       "      <td>4.108924</td>\n",
       "      <td>4.154725</td>\n",
       "      <td>85183000</td>\n",
       "      <td>11</td>\n",
       "      <td>160</td>\n",
       "      <td>GO</td>\n",
       "    </tr>\n",
       "    <tr>\n",
       "      <th>5</th>\n",
       "      <td>2019-12</td>\n",
       "      <td>85389090</td>\n",
       "      <td>10</td>\n",
       "      <td>386</td>\n",
       "      <td>SC</td>\n",
       "      <td>1</td>\n",
       "      <td>817800</td>\n",
       "      <td>101</td>\n",
       "      <td>101</td>\n",
       "      <td>879</td>\n",
       "      <td>4.108924</td>\n",
       "      <td>4.154725</td>\n",
       "      <td>85389090</td>\n",
       "      <td>10</td>\n",
       "      <td>386</td>\n",
       "      <td>SC</td>\n",
       "    </tr>\n",
       "    <tr>\n",
       "      <th>6</th>\n",
       "      <td>2019-12</td>\n",
       "      <td>85042100</td>\n",
       "      <td>11</td>\n",
       "      <td>764</td>\n",
       "      <td>SP</td>\n",
       "      <td>1</td>\n",
       "      <td>817800</td>\n",
       "      <td>3</td>\n",
       "      <td>2370</td>\n",
       "      <td>19651</td>\n",
       "      <td>4.108924</td>\n",
       "      <td>4.154725</td>\n",
       "      <td>99999999</td>\n",
       "      <td>11</td>\n",
       "      <td>764</td>\n",
       "      <td>SP</td>\n",
       "    </tr>\n",
       "    <tr>\n",
       "      <th>7</th>\n",
       "      <td>2019-12</td>\n",
       "      <td>85030010</td>\n",
       "      <td>10</td>\n",
       "      <td>386</td>\n",
       "      <td>SP</td>\n",
       "      <td>4</td>\n",
       "      <td>817600</td>\n",
       "      <td>835</td>\n",
       "      <td>835</td>\n",
       "      <td>3567</td>\n",
       "      <td>4.108924</td>\n",
       "      <td>4.154725</td>\n",
       "      <td>85030010</td>\n",
       "      <td>10</td>\n",
       "      <td>386</td>\n",
       "      <td>SP</td>\n",
       "    </tr>\n",
       "    <tr>\n",
       "      <th>...</th>\n",
       "      <td>...</td>\n",
       "      <td>...</td>\n",
       "      <td>...</td>\n",
       "      <td>...</td>\n",
       "      <td>...</td>\n",
       "      <td>...</td>\n",
       "      <td>...</td>\n",
       "      <td>...</td>\n",
       "      <td>...</td>\n",
       "      <td>...</td>\n",
       "      <td>...</td>\n",
       "      <td>...</td>\n",
       "      <td>...</td>\n",
       "      <td>...</td>\n",
       "      <td>...</td>\n",
       "      <td>...</td>\n",
       "    </tr>\n",
       "    <tr>\n",
       "      <th>1764407</th>\n",
       "      <td>2019-08</td>\n",
       "      <td>85011019</td>\n",
       "      <td>11</td>\n",
       "      <td>355</td>\n",
       "      <td>SP</td>\n",
       "      <td>1</td>\n",
       "      <td>817800</td>\n",
       "      <td>130</td>\n",
       "      <td>33</td>\n",
       "      <td>8565</td>\n",
       "      <td>4.019382</td>\n",
       "      <td>3.778713</td>\n",
       "      <td>85011019</td>\n",
       "      <td>11</td>\n",
       "      <td>355</td>\n",
       "      <td>SP</td>\n",
       "    </tr>\n",
       "    <tr>\n",
       "      <th>1764418</th>\n",
       "      <td>2019-08</td>\n",
       "      <td>85369010</td>\n",
       "      <td>11</td>\n",
       "      <td>776</td>\n",
       "      <td>MG</td>\n",
       "      <td>1</td>\n",
       "      <td>817800</td>\n",
       "      <td>10000</td>\n",
       "      <td>86</td>\n",
       "      <td>2803</td>\n",
       "      <td>4.019382</td>\n",
       "      <td>3.778713</td>\n",
       "      <td>85369010</td>\n",
       "      <td>11</td>\n",
       "      <td>776</td>\n",
       "      <td>MG</td>\n",
       "    </tr>\n",
       "    <tr>\n",
       "      <th>1764422</th>\n",
       "      <td>2019-08</td>\n",
       "      <td>85389020</td>\n",
       "      <td>11</td>\n",
       "      <td>386</td>\n",
       "      <td>SP</td>\n",
       "      <td>4</td>\n",
       "      <td>817700</td>\n",
       "      <td>100</td>\n",
       "      <td>6</td>\n",
       "      <td>1832</td>\n",
       "      <td>4.019382</td>\n",
       "      <td>3.778713</td>\n",
       "      <td>85389020</td>\n",
       "      <td>11</td>\n",
       "      <td>386</td>\n",
       "      <td>SP</td>\n",
       "    </tr>\n",
       "    <tr>\n",
       "      <th>1764428</th>\n",
       "      <td>2019-08</td>\n",
       "      <td>85365090</td>\n",
       "      <td>11</td>\n",
       "      <td>271</td>\n",
       "      <td>SP</td>\n",
       "      <td>4</td>\n",
       "      <td>817600</td>\n",
       "      <td>11</td>\n",
       "      <td>157</td>\n",
       "      <td>4412</td>\n",
       "      <td>4.019382</td>\n",
       "      <td>3.778713</td>\n",
       "      <td>85365090</td>\n",
       "      <td>11</td>\n",
       "      <td>271</td>\n",
       "      <td>SP</td>\n",
       "    </tr>\n",
       "    <tr>\n",
       "      <th>1764432</th>\n",
       "      <td>2019-08</td>\n",
       "      <td>85269200</td>\n",
       "      <td>11</td>\n",
       "      <td>776</td>\n",
       "      <td>SP</td>\n",
       "      <td>4</td>\n",
       "      <td>817600</td>\n",
       "      <td>2</td>\n",
       "      <td>0</td>\n",
       "      <td>119</td>\n",
       "      <td>4.019382</td>\n",
       "      <td>3.778713</td>\n",
       "      <td>85269200</td>\n",
       "      <td>11</td>\n",
       "      <td>776</td>\n",
       "      <td>SP</td>\n",
       "    </tr>\n",
       "  </tbody>\n",
       "</table>\n",
       "<p>347989 rows × 16 columns</p>\n",
       "</div>"
      ],
      "text/plain": [
       "         ANO-MES    CO_NCM  CO_UNID  CO_PAIS SG_UF_NCM  CO_VIA  CO_URF  \\\n",
       "0        2019-12  85044021       11      249        SP       4  817700   \n",
       "1        2019-12  85183000       11      160        GO       4  817600   \n",
       "5        2019-12  85389090       10      386        SC       1  817800   \n",
       "6        2019-12  85042100       11      764        SP       1  817800   \n",
       "7        2019-12  85030010       10      386        SP       4  817600   \n",
       "...          ...       ...      ...      ...       ...     ...     ...   \n",
       "1764407  2019-08  85011019       11      355        SP       1  817800   \n",
       "1764418  2019-08  85369010       11      776        MG       1  817800   \n",
       "1764422  2019-08  85389020       11      386        SP       4  817700   \n",
       "1764428  2019-08  85365090       11      271        SP       4  817600   \n",
       "1764432  2019-08  85269200       11      776        SP       4  817600   \n",
       "\n",
       "         QT_ESTAT  KG_LIQUIDO  VL_FOB  câmbio_mês_atual  câmbio_mês_anterior  \\\n",
       "0              53          44    8263          4.108924             4.154725   \n",
       "1           23734        1621    6987          4.108924             4.154725   \n",
       "5             101         101     879          4.108924             4.154725   \n",
       "6               3        2370   19651          4.108924             4.154725   \n",
       "7             835         835    3567          4.108924             4.154725   \n",
       "...           ...         ...     ...               ...                  ...   \n",
       "1764407       130          33    8565          4.019382             3.778713   \n",
       "1764418     10000          86    2803          4.019382             3.778713   \n",
       "1764422       100           6    1832          4.019382             3.778713   \n",
       "1764428        11         157    4412          4.019382             3.778713   \n",
       "1764432         2           0     119          4.019382             3.778713   \n",
       "\n",
       "         CO_NCM_final  CO_UNID_final  CO_PAIS_final SG_UF_NCM_final  \n",
       "0            85044021             11            249              SP  \n",
       "1            85183000             11            160              GO  \n",
       "5            85389090             10            386              SC  \n",
       "6            99999999             11            764              SP  \n",
       "7            85030010             10            386              SP  \n",
       "...               ...            ...            ...             ...  \n",
       "1764407      85011019             11            355              SP  \n",
       "1764418      85369010             11            776              MG  \n",
       "1764422      85389020             11            386              SP  \n",
       "1764428      85365090             11            271              SP  \n",
       "1764432      85269200             11            776              SP  \n",
       "\n",
       "[347989 rows x 16 columns]"
      ]
     },
     "execution_count": 59,
     "metadata": {},
     "output_type": "execute_result"
    }
   ],
   "source": [
    "df1"
   ]
  },
  {
   "cell_type": "code",
   "execution_count": 60,
   "metadata": {
    "scrolled": true
   },
   "outputs": [
    {
     "data": {
      "text/plain": [
       "SP    126018\n",
       "SC     34424\n",
       "MG     33316\n",
       "PR     29663\n",
       "AM     28433\n",
       "RS     22875\n",
       "RJ     22858\n",
       "99     20108\n",
       "BA     12395\n",
       "ES      7898\n",
       "GO      5422\n",
       "CE      4579\n",
       "Name: SG_UF_NCM_final, dtype: int64"
      ]
     },
     "execution_count": 60,
     "metadata": {},
     "output_type": "execute_result"
    }
   ],
   "source": [
    "df1[\"SG_UF_NCM_final\"].value_counts()"
   ]
  },
  {
   "cell_type": "markdown",
   "metadata": {},
   "source": [
    "###### Checando modais (CO_VIA) recorrentes"
   ]
  },
  {
   "cell_type": "code",
   "execution_count": 61,
   "metadata": {},
   "outputs": [
    {
     "data": {
      "text/html": [
       "<div>\n",
       "<style scoped>\n",
       "    .dataframe tbody tr th:only-of-type {\n",
       "        vertical-align: middle;\n",
       "    }\n",
       "\n",
       "    .dataframe tbody tr th {\n",
       "        vertical-align: top;\n",
       "    }\n",
       "\n",
       "    .dataframe thead th {\n",
       "        text-align: right;\n",
       "    }\n",
       "</style>\n",
       "<table border=\"1\" class=\"dataframe\">\n",
       "  <thead>\n",
       "    <tr style=\"text-align: right;\">\n",
       "      <th></th>\n",
       "      <th>CO_VIA</th>\n",
       "      <th>contagem</th>\n",
       "    </tr>\n",
       "  </thead>\n",
       "  <tbody>\n",
       "    <tr>\n",
       "      <th>2</th>\n",
       "      <td>4</td>\n",
       "      <td>211374</td>\n",
       "    </tr>\n",
       "    <tr>\n",
       "      <th>1</th>\n",
       "      <td>1</td>\n",
       "      <td>128224</td>\n",
       "    </tr>\n",
       "    <tr>\n",
       "      <th>0</th>\n",
       "      <td>0</td>\n",
       "      <td>6450</td>\n",
       "    </tr>\n",
       "    <tr>\n",
       "      <th>4</th>\n",
       "      <td>7</td>\n",
       "      <td>1731</td>\n",
       "    </tr>\n",
       "    <tr>\n",
       "      <th>6</th>\n",
       "      <td>10</td>\n",
       "      <td>165</td>\n",
       "    </tr>\n",
       "    <tr>\n",
       "      <th>5</th>\n",
       "      <td>9</td>\n",
       "      <td>23</td>\n",
       "    </tr>\n",
       "    <tr>\n",
       "      <th>3</th>\n",
       "      <td>5</td>\n",
       "      <td>22</td>\n",
       "    </tr>\n",
       "  </tbody>\n",
       "</table>\n",
       "</div>"
      ],
      "text/plain": [
       "   CO_VIA  contagem\n",
       "2       4    211374\n",
       "1       1    128224\n",
       "0       0      6450\n",
       "4       7      1731\n",
       "6      10       165\n",
       "5       9        23\n",
       "3       5        22"
      ]
     },
     "execution_count": 61,
     "metadata": {},
     "output_type": "execute_result"
    }
   ],
   "source": [
    "g1=df1.groupby(['CO_VIA']).size().reset_index().rename(columns={0:'contagem'})\n",
    "g1.sort_values(by=[\"contagem\"],ascending=False)"
   ]
  },
  {
   "cell_type": "code",
   "execution_count": 62,
   "metadata": {},
   "outputs": [],
   "source": [
    "g1[\"% CO_VIA\"] = g1[\"contagem\"]/(g1[\"contagem\"].sum())"
   ]
  },
  {
   "cell_type": "code",
   "execution_count": 63,
   "metadata": {},
   "outputs": [],
   "source": [
    "g2=g1.sort_values(by=[\"contagem\"],ascending=False)"
   ]
  },
  {
   "cell_type": "code",
   "execution_count": 64,
   "metadata": {},
   "outputs": [],
   "source": [
    "g2[\"% CO_VIA ACUMUL\"]=g2[\"% CO_VIA\"].cumsum()"
   ]
  },
  {
   "cell_type": "code",
   "execution_count": 65,
   "metadata": {},
   "outputs": [
    {
     "data": {
      "text/html": [
       "<div>\n",
       "<style scoped>\n",
       "    .dataframe tbody tr th:only-of-type {\n",
       "        vertical-align: middle;\n",
       "    }\n",
       "\n",
       "    .dataframe tbody tr th {\n",
       "        vertical-align: top;\n",
       "    }\n",
       "\n",
       "    .dataframe thead th {\n",
       "        text-align: right;\n",
       "    }\n",
       "</style>\n",
       "<table border=\"1\" class=\"dataframe\">\n",
       "  <thead>\n",
       "    <tr style=\"text-align: right;\">\n",
       "      <th></th>\n",
       "      <th>CO_VIA</th>\n",
       "      <th>contagem</th>\n",
       "      <th>% CO_VIA</th>\n",
       "      <th>% CO_VIA ACUMUL</th>\n",
       "    </tr>\n",
       "  </thead>\n",
       "  <tbody>\n",
       "    <tr>\n",
       "      <th>2</th>\n",
       "      <td>4</td>\n",
       "      <td>211374</td>\n",
       "      <td>0.607416</td>\n",
       "      <td>0.607416</td>\n",
       "    </tr>\n",
       "    <tr>\n",
       "      <th>1</th>\n",
       "      <td>1</td>\n",
       "      <td>128224</td>\n",
       "      <td>0.368471</td>\n",
       "      <td>0.975887</td>\n",
       "    </tr>\n",
       "    <tr>\n",
       "      <th>0</th>\n",
       "      <td>0</td>\n",
       "      <td>6450</td>\n",
       "      <td>0.018535</td>\n",
       "      <td>0.994422</td>\n",
       "    </tr>\n",
       "    <tr>\n",
       "      <th>4</th>\n",
       "      <td>7</td>\n",
       "      <td>1731</td>\n",
       "      <td>0.004974</td>\n",
       "      <td>0.999397</td>\n",
       "    </tr>\n",
       "    <tr>\n",
       "      <th>6</th>\n",
       "      <td>10</td>\n",
       "      <td>165</td>\n",
       "      <td>0.000474</td>\n",
       "      <td>0.999871</td>\n",
       "    </tr>\n",
       "    <tr>\n",
       "      <th>5</th>\n",
       "      <td>9</td>\n",
       "      <td>23</td>\n",
       "      <td>0.000066</td>\n",
       "      <td>0.999937</td>\n",
       "    </tr>\n",
       "    <tr>\n",
       "      <th>3</th>\n",
       "      <td>5</td>\n",
       "      <td>22</td>\n",
       "      <td>0.000063</td>\n",
       "      <td>1.000000</td>\n",
       "    </tr>\n",
       "  </tbody>\n",
       "</table>\n",
       "</div>"
      ],
      "text/plain": [
       "   CO_VIA  contagem  % CO_VIA  % CO_VIA ACUMUL\n",
       "2       4    211374  0.607416         0.607416\n",
       "1       1    128224  0.368471         0.975887\n",
       "0       0      6450  0.018535         0.994422\n",
       "4       7      1731  0.004974         0.999397\n",
       "6      10       165  0.000474         0.999871\n",
       "5       9        23  0.000066         0.999937\n",
       "3       5        22  0.000063         1.000000"
      ]
     },
     "execution_count": 65,
     "metadata": {},
     "output_type": "execute_result"
    }
   ],
   "source": [
    "g2"
   ]
  },
  {
   "cell_type": "code",
   "execution_count": 66,
   "metadata": {},
   "outputs": [
    {
     "name": "stderr",
     "output_type": "stream",
     "text": [
      "<ipython-input-66-0653cde63ffb>:1: SettingWithCopyWarning: \n",
      "A value is trying to be set on a copy of a slice from a DataFrame.\n",
      "Try using .loc[row_indexer,col_indexer] = value instead\n",
      "\n",
      "See the caveats in the documentation: https://pandas.pydata.org/pandas-docs/stable/user_guide/indexing.html#returning-a-view-versus-a-copy\n",
      "  df1[\"CO_VIA_final\"]=df[\"CO_VIA\"]\n"
     ]
    }
   ],
   "source": [
    "df1[\"CO_VIA_final\"]=df[\"CO_VIA\"]"
   ]
  },
  {
   "cell_type": "code",
   "execution_count": 67,
   "metadata": {},
   "outputs": [
    {
     "data": {
      "text/plain": [
       "0          False\n",
       "1          False\n",
       "2          False\n",
       "3          False\n",
       "4          False\n",
       "           ...  \n",
       "1764428    False\n",
       "1764429    False\n",
       "1764430    False\n",
       "1764431    False\n",
       "1764432    False\n",
       "Name: CO_VIA, Length: 1764433, dtype: bool"
      ]
     },
     "execution_count": 67,
     "metadata": {},
     "output_type": "execute_result"
    }
   ],
   "source": [
    "mask=(df1['CO_VIA']!=1) & (df['CO_VIA']!=4) & (df['CO_VIA']!=7)\n",
    "mask"
   ]
  },
  {
   "cell_type": "code",
   "execution_count": 68,
   "metadata": {},
   "outputs": [
    {
     "name": "stderr",
     "output_type": "stream",
     "text": [
      "D:\\ANACONDA\\lib\\site-packages\\pandas\\core\\indexing.py:1765: SettingWithCopyWarning: \n",
      "A value is trying to be set on a copy of a slice from a DataFrame.\n",
      "Try using .loc[row_indexer,col_indexer] = value instead\n",
      "\n",
      "See the caveats in the documentation: https://pandas.pydata.org/pandas-docs/stable/user_guide/indexing.html#returning-a-view-versus-a-copy\n",
      "  isetter(loc, value)\n"
     ]
    }
   ],
   "source": [
    "df1.loc[mask, \"CO_VIA_final\"] = 99"
   ]
  },
  {
   "cell_type": "code",
   "execution_count": 69,
   "metadata": {},
   "outputs": [
    {
     "data": {
      "text/plain": [
       "4     211374\n",
       "1     128224\n",
       "99      6660\n",
       "7       1731\n",
       "Name: CO_VIA_final, dtype: int64"
      ]
     },
     "execution_count": 69,
     "metadata": {},
     "output_type": "execute_result"
    }
   ],
   "source": [
    "df1[\"CO_VIA_final\"].value_counts()"
   ]
  },
  {
   "cell_type": "markdown",
   "metadata": {},
   "source": [
    "###### Não será levada em conta - inicialmente - a feature CO_URF, uma vez que essa está associada à SG_UF_NCM (que será \"dummizada\"). Posteriormente, pode-se substituir uma pela outra para ver se o modelo melhora."
   ]
  },
  {
   "cell_type": "markdown",
   "metadata": {},
   "source": [
    "###### Na sequência, as colunas de features categóricas darão origem às variáveis dummie, para, posteriormente, calcular a correlação das colunas restantes com a variável alvo ( VL_FOB/QT_ESTAT)"
   ]
  },
  {
   "cell_type": "code",
   "execution_count": 70,
   "metadata": {},
   "outputs": [
    {
     "name": "stderr",
     "output_type": "stream",
     "text": [
      "<ipython-input-70-0725dfbab52f>:1: SettingWithCopyWarning: \n",
      "A value is trying to be set on a copy of a slice from a DataFrame.\n",
      "Try using .loc[row_indexer,col_indexer] = value instead\n",
      "\n",
      "See the caveats in the documentation: https://pandas.pydata.org/pandas-docs/stable/user_guide/indexing.html#returning-a-view-versus-a-copy\n",
      "  df1[\"VL_FOB/QT_ESTAT\"]=df1[\"VL_FOB\"]/df1[\"QT_ESTAT\"]\n"
     ]
    }
   ],
   "source": [
    "df1[\"VL_FOB/QT_ESTAT\"]=df1[\"VL_FOB\"]/df1[\"QT_ESTAT\"]"
   ]
  },
  {
   "cell_type": "code",
   "execution_count": 71,
   "metadata": {},
   "outputs": [
    {
     "data": {
      "text/plain": [
       "Index(['ANO-MES', 'CO_NCM', 'CO_UNID', 'CO_PAIS', 'SG_UF_NCM', 'CO_VIA',\n",
       "       'CO_URF', 'QT_ESTAT', 'KG_LIQUIDO', 'VL_FOB', 'câmbio_mês_atual',\n",
       "       'câmbio_mês_anterior', 'CO_NCM_final', 'CO_UNID_final', 'CO_PAIS_final',\n",
       "       'SG_UF_NCM_final', 'CO_VIA_final', 'VL_FOB/QT_ESTAT'],\n",
       "      dtype='object')"
      ]
     },
     "execution_count": 71,
     "metadata": {},
     "output_type": "execute_result"
    }
   ],
   "source": [
    "df1.columns"
   ]
  },
  {
   "cell_type": "code",
   "execution_count": 72,
   "metadata": {},
   "outputs": [
    {
     "data": {
      "text/html": [
       "<div>\n",
       "<style scoped>\n",
       "    .dataframe tbody tr th:only-of-type {\n",
       "        vertical-align: middle;\n",
       "    }\n",
       "\n",
       "    .dataframe tbody tr th {\n",
       "        vertical-align: top;\n",
       "    }\n",
       "\n",
       "    .dataframe thead th {\n",
       "        text-align: right;\n",
       "    }\n",
       "</style>\n",
       "<table border=\"1\" class=\"dataframe\">\n",
       "  <thead>\n",
       "    <tr style=\"text-align: right;\">\n",
       "      <th></th>\n",
       "      <th>ANO-MES</th>\n",
       "      <th>CO_NCM</th>\n",
       "      <th>CO_UNID</th>\n",
       "      <th>CO_PAIS</th>\n",
       "      <th>SG_UF_NCM</th>\n",
       "      <th>CO_VIA</th>\n",
       "      <th>CO_URF</th>\n",
       "      <th>QT_ESTAT</th>\n",
       "      <th>KG_LIQUIDO</th>\n",
       "      <th>VL_FOB</th>\n",
       "      <th>...</th>\n",
       "      <th>Mês_2019-03</th>\n",
       "      <th>Mês_2019-04</th>\n",
       "      <th>Mês_2019-05</th>\n",
       "      <th>Mês_2019-06</th>\n",
       "      <th>Mês_2019-07</th>\n",
       "      <th>Mês_2019-08</th>\n",
       "      <th>Mês_2019-09</th>\n",
       "      <th>Mês_2019-10</th>\n",
       "      <th>Mês_2019-11</th>\n",
       "      <th>Mês_2019-12</th>\n",
       "    </tr>\n",
       "  </thead>\n",
       "  <tbody>\n",
       "    <tr>\n",
       "      <th>0</th>\n",
       "      <td>2019-12</td>\n",
       "      <td>85044021</td>\n",
       "      <td>11</td>\n",
       "      <td>249</td>\n",
       "      <td>SP</td>\n",
       "      <td>4</td>\n",
       "      <td>817700</td>\n",
       "      <td>53</td>\n",
       "      <td>44</td>\n",
       "      <td>8263</td>\n",
       "      <td>...</td>\n",
       "      <td>0</td>\n",
       "      <td>0</td>\n",
       "      <td>0</td>\n",
       "      <td>0</td>\n",
       "      <td>0</td>\n",
       "      <td>0</td>\n",
       "      <td>0</td>\n",
       "      <td>0</td>\n",
       "      <td>0</td>\n",
       "      <td>1</td>\n",
       "    </tr>\n",
       "    <tr>\n",
       "      <th>1</th>\n",
       "      <td>2019-12</td>\n",
       "      <td>85183000</td>\n",
       "      <td>11</td>\n",
       "      <td>160</td>\n",
       "      <td>GO</td>\n",
       "      <td>4</td>\n",
       "      <td>817600</td>\n",
       "      <td>23734</td>\n",
       "      <td>1621</td>\n",
       "      <td>6987</td>\n",
       "      <td>...</td>\n",
       "      <td>0</td>\n",
       "      <td>0</td>\n",
       "      <td>0</td>\n",
       "      <td>0</td>\n",
       "      <td>0</td>\n",
       "      <td>0</td>\n",
       "      <td>0</td>\n",
       "      <td>0</td>\n",
       "      <td>0</td>\n",
       "      <td>1</td>\n",
       "    </tr>\n",
       "    <tr>\n",
       "      <th>5</th>\n",
       "      <td>2019-12</td>\n",
       "      <td>85389090</td>\n",
       "      <td>10</td>\n",
       "      <td>386</td>\n",
       "      <td>SC</td>\n",
       "      <td>1</td>\n",
       "      <td>817800</td>\n",
       "      <td>101</td>\n",
       "      <td>101</td>\n",
       "      <td>879</td>\n",
       "      <td>...</td>\n",
       "      <td>0</td>\n",
       "      <td>0</td>\n",
       "      <td>0</td>\n",
       "      <td>0</td>\n",
       "      <td>0</td>\n",
       "      <td>0</td>\n",
       "      <td>0</td>\n",
       "      <td>0</td>\n",
       "      <td>0</td>\n",
       "      <td>1</td>\n",
       "    </tr>\n",
       "  </tbody>\n",
       "</table>\n",
       "<p>3 rows × 30 columns</p>\n",
       "</div>"
      ],
      "text/plain": [
       "   ANO-MES    CO_NCM  CO_UNID  CO_PAIS SG_UF_NCM  CO_VIA  CO_URF  QT_ESTAT  \\\n",
       "0  2019-12  85044021       11      249        SP       4  817700        53   \n",
       "1  2019-12  85183000       11      160        GO       4  817600     23734   \n",
       "5  2019-12  85389090       10      386        SC       1  817800       101   \n",
       "\n",
       "   KG_LIQUIDO  VL_FOB  ...  Mês_2019-03  Mês_2019-04  Mês_2019-05  \\\n",
       "0          44    8263  ...            0            0            0   \n",
       "1        1621    6987  ...            0            0            0   \n",
       "5         101     879  ...            0            0            0   \n",
       "\n",
       "   Mês_2019-06  Mês_2019-07 Mês_2019-08  Mês_2019-09  Mês_2019-10  \\\n",
       "0            0            0           0            0            0   \n",
       "1            0            0           0            0            0   \n",
       "5            0            0           0            0            0   \n",
       "\n",
       "   Mês_2019-11  Mês_2019-12  \n",
       "0            0            1  \n",
       "1            0            1  \n",
       "5            0            1  \n",
       "\n",
       "[3 rows x 30 columns]"
      ]
     },
     "execution_count": 72,
     "metadata": {},
     "output_type": "execute_result"
    }
   ],
   "source": [
    "df_encoded = pd.concat([df1, pd.get_dummies(df1[\"ANO-MES\"],prefix=\"Mês\")], axis=1)\n",
    "df_encoded.head(3)"
   ]
  },
  {
   "cell_type": "code",
   "execution_count": 73,
   "metadata": {},
   "outputs": [
    {
     "data": {
      "text/html": [
       "<div>\n",
       "<style scoped>\n",
       "    .dataframe tbody tr th:only-of-type {\n",
       "        vertical-align: middle;\n",
       "    }\n",
       "\n",
       "    .dataframe tbody tr th {\n",
       "        vertical-align: top;\n",
       "    }\n",
       "\n",
       "    .dataframe thead th {\n",
       "        text-align: right;\n",
       "    }\n",
       "</style>\n",
       "<table border=\"1\" class=\"dataframe\">\n",
       "  <thead>\n",
       "    <tr style=\"text-align: right;\">\n",
       "      <th></th>\n",
       "      <th>ANO-MES</th>\n",
       "      <th>CO_NCM</th>\n",
       "      <th>CO_UNID</th>\n",
       "      <th>CO_PAIS</th>\n",
       "      <th>SG_UF_NCM</th>\n",
       "      <th>CO_VIA</th>\n",
       "      <th>CO_URF</th>\n",
       "      <th>QT_ESTAT</th>\n",
       "      <th>KG_LIQUIDO</th>\n",
       "      <th>VL_FOB</th>\n",
       "      <th>...</th>\n",
       "      <th>NCM_85447010</th>\n",
       "      <th>NCM_85447090</th>\n",
       "      <th>NCM_85451100</th>\n",
       "      <th>NCM_85452000</th>\n",
       "      <th>NCM_85462000</th>\n",
       "      <th>NCM_85469000</th>\n",
       "      <th>NCM_85471000</th>\n",
       "      <th>NCM_85472090</th>\n",
       "      <th>NCM_85479000</th>\n",
       "      <th>NCM_99999999</th>\n",
       "    </tr>\n",
       "  </thead>\n",
       "  <tbody>\n",
       "    <tr>\n",
       "      <th>0</th>\n",
       "      <td>2019-12</td>\n",
       "      <td>85044021</td>\n",
       "      <td>11</td>\n",
       "      <td>249</td>\n",
       "      <td>SP</td>\n",
       "      <td>4</td>\n",
       "      <td>817700</td>\n",
       "      <td>53</td>\n",
       "      <td>44</td>\n",
       "      <td>8263</td>\n",
       "      <td>...</td>\n",
       "      <td>0</td>\n",
       "      <td>0</td>\n",
       "      <td>0</td>\n",
       "      <td>0</td>\n",
       "      <td>0</td>\n",
       "      <td>0</td>\n",
       "      <td>0</td>\n",
       "      <td>0</td>\n",
       "      <td>0</td>\n",
       "      <td>0</td>\n",
       "    </tr>\n",
       "    <tr>\n",
       "      <th>1</th>\n",
       "      <td>2019-12</td>\n",
       "      <td>85183000</td>\n",
       "      <td>11</td>\n",
       "      <td>160</td>\n",
       "      <td>GO</td>\n",
       "      <td>4</td>\n",
       "      <td>817600</td>\n",
       "      <td>23734</td>\n",
       "      <td>1621</td>\n",
       "      <td>6987</td>\n",
       "      <td>...</td>\n",
       "      <td>0</td>\n",
       "      <td>0</td>\n",
       "      <td>0</td>\n",
       "      <td>0</td>\n",
       "      <td>0</td>\n",
       "      <td>0</td>\n",
       "      <td>0</td>\n",
       "      <td>0</td>\n",
       "      <td>0</td>\n",
       "      <td>0</td>\n",
       "    </tr>\n",
       "    <tr>\n",
       "      <th>5</th>\n",
       "      <td>2019-12</td>\n",
       "      <td>85389090</td>\n",
       "      <td>10</td>\n",
       "      <td>386</td>\n",
       "      <td>SC</td>\n",
       "      <td>1</td>\n",
       "      <td>817800</td>\n",
       "      <td>101</td>\n",
       "      <td>101</td>\n",
       "      <td>879</td>\n",
       "      <td>...</td>\n",
       "      <td>0</td>\n",
       "      <td>0</td>\n",
       "      <td>0</td>\n",
       "      <td>0</td>\n",
       "      <td>0</td>\n",
       "      <td>0</td>\n",
       "      <td>0</td>\n",
       "      <td>0</td>\n",
       "      <td>0</td>\n",
       "      <td>0</td>\n",
       "    </tr>\n",
       "  </tbody>\n",
       "</table>\n",
       "<p>3 rows × 369 columns</p>\n",
       "</div>"
      ],
      "text/plain": [
       "   ANO-MES    CO_NCM  CO_UNID  CO_PAIS SG_UF_NCM  CO_VIA  CO_URF  QT_ESTAT  \\\n",
       "0  2019-12  85044021       11      249        SP       4  817700        53   \n",
       "1  2019-12  85183000       11      160        GO       4  817600     23734   \n",
       "5  2019-12  85389090       10      386        SC       1  817800       101   \n",
       "\n",
       "   KG_LIQUIDO  VL_FOB  ...  NCM_85447010  NCM_85447090  NCM_85451100  \\\n",
       "0          44    8263  ...             0             0             0   \n",
       "1        1621    6987  ...             0             0             0   \n",
       "5         101     879  ...             0             0             0   \n",
       "\n",
       "   NCM_85452000  NCM_85462000 NCM_85469000  NCM_85471000  NCM_85472090  \\\n",
       "0             0             0            0             0             0   \n",
       "1             0             0            0             0             0   \n",
       "5             0             0            0             0             0   \n",
       "\n",
       "   NCM_85479000  NCM_99999999  \n",
       "0             0             0  \n",
       "1             0             0  \n",
       "5             0             0  \n",
       "\n",
       "[3 rows x 369 columns]"
      ]
     },
     "execution_count": 73,
     "metadata": {},
     "output_type": "execute_result"
    }
   ],
   "source": [
    "df_encoded = pd.concat([df_encoded, pd.get_dummies(df_encoded[\"CO_NCM_final\"],prefix=\"NCM\")], axis=1)\n",
    "df_encoded.head(3)"
   ]
  },
  {
   "cell_type": "code",
   "execution_count": 74,
   "metadata": {},
   "outputs": [
    {
     "data": {
      "text/html": [
       "<div>\n",
       "<style scoped>\n",
       "    .dataframe tbody tr th:only-of-type {\n",
       "        vertical-align: middle;\n",
       "    }\n",
       "\n",
       "    .dataframe tbody tr th {\n",
       "        vertical-align: top;\n",
       "    }\n",
       "\n",
       "    .dataframe thead th {\n",
       "        text-align: right;\n",
       "    }\n",
       "</style>\n",
       "<table border=\"1\" class=\"dataframe\">\n",
       "  <thead>\n",
       "    <tr style=\"text-align: right;\">\n",
       "      <th></th>\n",
       "      <th>ANO-MES</th>\n",
       "      <th>CO_NCM</th>\n",
       "      <th>CO_UNID</th>\n",
       "      <th>CO_PAIS</th>\n",
       "      <th>SG_UF_NCM</th>\n",
       "      <th>CO_VIA</th>\n",
       "      <th>CO_URF</th>\n",
       "      <th>QT_ESTAT</th>\n",
       "      <th>KG_LIQUIDO</th>\n",
       "      <th>VL_FOB</th>\n",
       "      <th>...</th>\n",
       "      <th>NCM_85451100</th>\n",
       "      <th>NCM_85452000</th>\n",
       "      <th>NCM_85462000</th>\n",
       "      <th>NCM_85469000</th>\n",
       "      <th>NCM_85471000</th>\n",
       "      <th>NCM_85472090</th>\n",
       "      <th>NCM_85479000</th>\n",
       "      <th>NCM_99999999</th>\n",
       "      <th>Un.Med.Est._10</th>\n",
       "      <th>Un.Med.Est._11</th>\n",
       "    </tr>\n",
       "  </thead>\n",
       "  <tbody>\n",
       "    <tr>\n",
       "      <th>0</th>\n",
       "      <td>2019-12</td>\n",
       "      <td>85044021</td>\n",
       "      <td>11</td>\n",
       "      <td>249</td>\n",
       "      <td>SP</td>\n",
       "      <td>4</td>\n",
       "      <td>817700</td>\n",
       "      <td>53</td>\n",
       "      <td>44</td>\n",
       "      <td>8263</td>\n",
       "      <td>...</td>\n",
       "      <td>0</td>\n",
       "      <td>0</td>\n",
       "      <td>0</td>\n",
       "      <td>0</td>\n",
       "      <td>0</td>\n",
       "      <td>0</td>\n",
       "      <td>0</td>\n",
       "      <td>0</td>\n",
       "      <td>0</td>\n",
       "      <td>1</td>\n",
       "    </tr>\n",
       "    <tr>\n",
       "      <th>1</th>\n",
       "      <td>2019-12</td>\n",
       "      <td>85183000</td>\n",
       "      <td>11</td>\n",
       "      <td>160</td>\n",
       "      <td>GO</td>\n",
       "      <td>4</td>\n",
       "      <td>817600</td>\n",
       "      <td>23734</td>\n",
       "      <td>1621</td>\n",
       "      <td>6987</td>\n",
       "      <td>...</td>\n",
       "      <td>0</td>\n",
       "      <td>0</td>\n",
       "      <td>0</td>\n",
       "      <td>0</td>\n",
       "      <td>0</td>\n",
       "      <td>0</td>\n",
       "      <td>0</td>\n",
       "      <td>0</td>\n",
       "      <td>0</td>\n",
       "      <td>1</td>\n",
       "    </tr>\n",
       "    <tr>\n",
       "      <th>5</th>\n",
       "      <td>2019-12</td>\n",
       "      <td>85389090</td>\n",
       "      <td>10</td>\n",
       "      <td>386</td>\n",
       "      <td>SC</td>\n",
       "      <td>1</td>\n",
       "      <td>817800</td>\n",
       "      <td>101</td>\n",
       "      <td>101</td>\n",
       "      <td>879</td>\n",
       "      <td>...</td>\n",
       "      <td>0</td>\n",
       "      <td>0</td>\n",
       "      <td>0</td>\n",
       "      <td>0</td>\n",
       "      <td>0</td>\n",
       "      <td>0</td>\n",
       "      <td>0</td>\n",
       "      <td>0</td>\n",
       "      <td>1</td>\n",
       "      <td>0</td>\n",
       "    </tr>\n",
       "  </tbody>\n",
       "</table>\n",
       "<p>3 rows × 371 columns</p>\n",
       "</div>"
      ],
      "text/plain": [
       "   ANO-MES    CO_NCM  CO_UNID  CO_PAIS SG_UF_NCM  CO_VIA  CO_URF  QT_ESTAT  \\\n",
       "0  2019-12  85044021       11      249        SP       4  817700        53   \n",
       "1  2019-12  85183000       11      160        GO       4  817600     23734   \n",
       "5  2019-12  85389090       10      386        SC       1  817800       101   \n",
       "\n",
       "   KG_LIQUIDO  VL_FOB  ...  NCM_85451100  NCM_85452000  NCM_85462000  \\\n",
       "0          44    8263  ...             0             0             0   \n",
       "1        1621    6987  ...             0             0             0   \n",
       "5         101     879  ...             0             0             0   \n",
       "\n",
       "   NCM_85469000  NCM_85471000 NCM_85472090  NCM_85479000  NCM_99999999  \\\n",
       "0             0             0            0             0             0   \n",
       "1             0             0            0             0             0   \n",
       "5             0             0            0             0             0   \n",
       "\n",
       "   Un.Med.Est._10  Un.Med.Est._11  \n",
       "0               0               1  \n",
       "1               0               1  \n",
       "5               1               0  \n",
       "\n",
       "[3 rows x 371 columns]"
      ]
     },
     "execution_count": 74,
     "metadata": {},
     "output_type": "execute_result"
    }
   ],
   "source": [
    "df_encoded = pd.concat([df_encoded, pd.get_dummies(df_encoded[\"CO_UNID_final\"],prefix=\"Un.Med.Est.\")], axis=1)\n",
    "df_encoded.head(3)"
   ]
  },
  {
   "cell_type": "code",
   "execution_count": 75,
   "metadata": {},
   "outputs": [
    {
     "data": {
      "text/html": [
       "<div>\n",
       "<style scoped>\n",
       "    .dataframe tbody tr th:only-of-type {\n",
       "        vertical-align: middle;\n",
       "    }\n",
       "\n",
       "    .dataframe tbody tr th {\n",
       "        vertical-align: top;\n",
       "    }\n",
       "\n",
       "    .dataframe thead th {\n",
       "        text-align: right;\n",
       "    }\n",
       "</style>\n",
       "<table border=\"1\" class=\"dataframe\">\n",
       "  <thead>\n",
       "    <tr style=\"text-align: right;\">\n",
       "      <th></th>\n",
       "      <th>ANO-MES</th>\n",
       "      <th>CO_NCM</th>\n",
       "      <th>CO_UNID</th>\n",
       "      <th>CO_PAIS</th>\n",
       "      <th>SG_UF_NCM</th>\n",
       "      <th>CO_VIA</th>\n",
       "      <th>CO_URF</th>\n",
       "      <th>QT_ESTAT</th>\n",
       "      <th>KG_LIQUIDO</th>\n",
       "      <th>VL_FOB</th>\n",
       "      <th>...</th>\n",
       "      <th>Pais_628</th>\n",
       "      <th>Pais_670</th>\n",
       "      <th>Pais_741</th>\n",
       "      <th>Pais_764</th>\n",
       "      <th>Pais_767</th>\n",
       "      <th>Pais_776</th>\n",
       "      <th>Pais_791</th>\n",
       "      <th>Pais_827</th>\n",
       "      <th>Pais_858</th>\n",
       "      <th>Pais_999</th>\n",
       "    </tr>\n",
       "  </thead>\n",
       "  <tbody>\n",
       "    <tr>\n",
       "      <th>0</th>\n",
       "      <td>2019-12</td>\n",
       "      <td>85044021</td>\n",
       "      <td>11</td>\n",
       "      <td>249</td>\n",
       "      <td>SP</td>\n",
       "      <td>4</td>\n",
       "      <td>817700</td>\n",
       "      <td>53</td>\n",
       "      <td>44</td>\n",
       "      <td>8263</td>\n",
       "      <td>...</td>\n",
       "      <td>0</td>\n",
       "      <td>0</td>\n",
       "      <td>0</td>\n",
       "      <td>0</td>\n",
       "      <td>0</td>\n",
       "      <td>0</td>\n",
       "      <td>0</td>\n",
       "      <td>0</td>\n",
       "      <td>0</td>\n",
       "      <td>0</td>\n",
       "    </tr>\n",
       "    <tr>\n",
       "      <th>1</th>\n",
       "      <td>2019-12</td>\n",
       "      <td>85183000</td>\n",
       "      <td>11</td>\n",
       "      <td>160</td>\n",
       "      <td>GO</td>\n",
       "      <td>4</td>\n",
       "      <td>817600</td>\n",
       "      <td>23734</td>\n",
       "      <td>1621</td>\n",
       "      <td>6987</td>\n",
       "      <td>...</td>\n",
       "      <td>0</td>\n",
       "      <td>0</td>\n",
       "      <td>0</td>\n",
       "      <td>0</td>\n",
       "      <td>0</td>\n",
       "      <td>0</td>\n",
       "      <td>0</td>\n",
       "      <td>0</td>\n",
       "      <td>0</td>\n",
       "      <td>0</td>\n",
       "    </tr>\n",
       "    <tr>\n",
       "      <th>5</th>\n",
       "      <td>2019-12</td>\n",
       "      <td>85389090</td>\n",
       "      <td>10</td>\n",
       "      <td>386</td>\n",
       "      <td>SC</td>\n",
       "      <td>1</td>\n",
       "      <td>817800</td>\n",
       "      <td>101</td>\n",
       "      <td>101</td>\n",
       "      <td>879</td>\n",
       "      <td>...</td>\n",
       "      <td>0</td>\n",
       "      <td>0</td>\n",
       "      <td>0</td>\n",
       "      <td>0</td>\n",
       "      <td>0</td>\n",
       "      <td>0</td>\n",
       "      <td>0</td>\n",
       "      <td>0</td>\n",
       "      <td>0</td>\n",
       "      <td>0</td>\n",
       "    </tr>\n",
       "  </tbody>\n",
       "</table>\n",
       "<p>3 rows × 407 columns</p>\n",
       "</div>"
      ],
      "text/plain": [
       "   ANO-MES    CO_NCM  CO_UNID  CO_PAIS SG_UF_NCM  CO_VIA  CO_URF  QT_ESTAT  \\\n",
       "0  2019-12  85044021       11      249        SP       4  817700        53   \n",
       "1  2019-12  85183000       11      160        GO       4  817600     23734   \n",
       "5  2019-12  85389090       10      386        SC       1  817800       101   \n",
       "\n",
       "   KG_LIQUIDO  VL_FOB  ...  Pais_628  Pais_670  Pais_741  Pais_764  Pais_767  \\\n",
       "0          44    8263  ...         0         0         0         0         0   \n",
       "1        1621    6987  ...         0         0         0         0         0   \n",
       "5         101     879  ...         0         0         0         0         0   \n",
       "\n",
       "  Pais_776  Pais_791  Pais_827  Pais_858  Pais_999  \n",
       "0        0         0         0         0         0  \n",
       "1        0         0         0         0         0  \n",
       "5        0         0         0         0         0  \n",
       "\n",
       "[3 rows x 407 columns]"
      ]
     },
     "execution_count": 75,
     "metadata": {},
     "output_type": "execute_result"
    }
   ],
   "source": [
    "df_encoded = pd.concat([df_encoded, pd.get_dummies(df_encoded[\"CO_PAIS_final\"],prefix=\"Pais\")], axis=1)\n",
    "df_encoded.head(3)"
   ]
  },
  {
   "cell_type": "code",
   "execution_count": 76,
   "metadata": {},
   "outputs": [
    {
     "data": {
      "text/html": [
       "<div>\n",
       "<style scoped>\n",
       "    .dataframe tbody tr th:only-of-type {\n",
       "        vertical-align: middle;\n",
       "    }\n",
       "\n",
       "    .dataframe tbody tr th {\n",
       "        vertical-align: top;\n",
       "    }\n",
       "\n",
       "    .dataframe thead th {\n",
       "        text-align: right;\n",
       "    }\n",
       "</style>\n",
       "<table border=\"1\" class=\"dataframe\">\n",
       "  <thead>\n",
       "    <tr style=\"text-align: right;\">\n",
       "      <th></th>\n",
       "      <th>ANO-MES</th>\n",
       "      <th>CO_NCM</th>\n",
       "      <th>CO_UNID</th>\n",
       "      <th>CO_PAIS</th>\n",
       "      <th>SG_UF_NCM</th>\n",
       "      <th>CO_VIA</th>\n",
       "      <th>CO_URF</th>\n",
       "      <th>QT_ESTAT</th>\n",
       "      <th>KG_LIQUIDO</th>\n",
       "      <th>VL_FOB</th>\n",
       "      <th>...</th>\n",
       "      <th>UF_BA</th>\n",
       "      <th>UF_CE</th>\n",
       "      <th>UF_ES</th>\n",
       "      <th>UF_GO</th>\n",
       "      <th>UF_MG</th>\n",
       "      <th>UF_PR</th>\n",
       "      <th>UF_RJ</th>\n",
       "      <th>UF_RS</th>\n",
       "      <th>UF_SC</th>\n",
       "      <th>UF_SP</th>\n",
       "    </tr>\n",
       "  </thead>\n",
       "  <tbody>\n",
       "    <tr>\n",
       "      <th>0</th>\n",
       "      <td>2019-12</td>\n",
       "      <td>85044021</td>\n",
       "      <td>11</td>\n",
       "      <td>249</td>\n",
       "      <td>SP</td>\n",
       "      <td>4</td>\n",
       "      <td>817700</td>\n",
       "      <td>53</td>\n",
       "      <td>44</td>\n",
       "      <td>8263</td>\n",
       "      <td>...</td>\n",
       "      <td>0</td>\n",
       "      <td>0</td>\n",
       "      <td>0</td>\n",
       "      <td>0</td>\n",
       "      <td>0</td>\n",
       "      <td>0</td>\n",
       "      <td>0</td>\n",
       "      <td>0</td>\n",
       "      <td>0</td>\n",
       "      <td>1</td>\n",
       "    </tr>\n",
       "    <tr>\n",
       "      <th>1</th>\n",
       "      <td>2019-12</td>\n",
       "      <td>85183000</td>\n",
       "      <td>11</td>\n",
       "      <td>160</td>\n",
       "      <td>GO</td>\n",
       "      <td>4</td>\n",
       "      <td>817600</td>\n",
       "      <td>23734</td>\n",
       "      <td>1621</td>\n",
       "      <td>6987</td>\n",
       "      <td>...</td>\n",
       "      <td>0</td>\n",
       "      <td>0</td>\n",
       "      <td>0</td>\n",
       "      <td>1</td>\n",
       "      <td>0</td>\n",
       "      <td>0</td>\n",
       "      <td>0</td>\n",
       "      <td>0</td>\n",
       "      <td>0</td>\n",
       "      <td>0</td>\n",
       "    </tr>\n",
       "    <tr>\n",
       "      <th>5</th>\n",
       "      <td>2019-12</td>\n",
       "      <td>85389090</td>\n",
       "      <td>10</td>\n",
       "      <td>386</td>\n",
       "      <td>SC</td>\n",
       "      <td>1</td>\n",
       "      <td>817800</td>\n",
       "      <td>101</td>\n",
       "      <td>101</td>\n",
       "      <td>879</td>\n",
       "      <td>...</td>\n",
       "      <td>0</td>\n",
       "      <td>0</td>\n",
       "      <td>0</td>\n",
       "      <td>0</td>\n",
       "      <td>0</td>\n",
       "      <td>0</td>\n",
       "      <td>0</td>\n",
       "      <td>0</td>\n",
       "      <td>1</td>\n",
       "      <td>0</td>\n",
       "    </tr>\n",
       "  </tbody>\n",
       "</table>\n",
       "<p>3 rows × 419 columns</p>\n",
       "</div>"
      ],
      "text/plain": [
       "   ANO-MES    CO_NCM  CO_UNID  CO_PAIS SG_UF_NCM  CO_VIA  CO_URF  QT_ESTAT  \\\n",
       "0  2019-12  85044021       11      249        SP       4  817700        53   \n",
       "1  2019-12  85183000       11      160        GO       4  817600     23734   \n",
       "5  2019-12  85389090       10      386        SC       1  817800       101   \n",
       "\n",
       "   KG_LIQUIDO  VL_FOB  ...  UF_BA  UF_CE  UF_ES  UF_GO  UF_MG UF_PR  UF_RJ  \\\n",
       "0          44    8263  ...      0      0      0      0      0     0      0   \n",
       "1        1621    6987  ...      0      0      0      1      0     0      0   \n",
       "5         101     879  ...      0      0      0      0      0     0      0   \n",
       "\n",
       "   UF_RS  UF_SC  UF_SP  \n",
       "0      0      0      1  \n",
       "1      0      0      0  \n",
       "5      0      1      0  \n",
       "\n",
       "[3 rows x 419 columns]"
      ]
     },
     "execution_count": 76,
     "metadata": {},
     "output_type": "execute_result"
    }
   ],
   "source": [
    "df_encoded = pd.concat([df_encoded, pd.get_dummies(df_encoded[\"SG_UF_NCM_final\"],prefix=\"UF\")], axis=1)\n",
    "df_encoded.head(3)"
   ]
  },
  {
   "cell_type": "code",
   "execution_count": 77,
   "metadata": {},
   "outputs": [
    {
     "data": {
      "text/html": [
       "<div>\n",
       "<style scoped>\n",
       "    .dataframe tbody tr th:only-of-type {\n",
       "        vertical-align: middle;\n",
       "    }\n",
       "\n",
       "    .dataframe tbody tr th {\n",
       "        vertical-align: top;\n",
       "    }\n",
       "\n",
       "    .dataframe thead th {\n",
       "        text-align: right;\n",
       "    }\n",
       "</style>\n",
       "<table border=\"1\" class=\"dataframe\">\n",
       "  <thead>\n",
       "    <tr style=\"text-align: right;\">\n",
       "      <th></th>\n",
       "      <th>ANO-MES</th>\n",
       "      <th>CO_NCM</th>\n",
       "      <th>CO_UNID</th>\n",
       "      <th>CO_PAIS</th>\n",
       "      <th>SG_UF_NCM</th>\n",
       "      <th>CO_VIA</th>\n",
       "      <th>CO_URF</th>\n",
       "      <th>QT_ESTAT</th>\n",
       "      <th>KG_LIQUIDO</th>\n",
       "      <th>VL_FOB</th>\n",
       "      <th>...</th>\n",
       "      <th>UF_MG</th>\n",
       "      <th>UF_PR</th>\n",
       "      <th>UF_RJ</th>\n",
       "      <th>UF_RS</th>\n",
       "      <th>UF_SC</th>\n",
       "      <th>UF_SP</th>\n",
       "      <th>Modal_1</th>\n",
       "      <th>Modal_4</th>\n",
       "      <th>Modal_7</th>\n",
       "      <th>Modal_99</th>\n",
       "    </tr>\n",
       "  </thead>\n",
       "  <tbody>\n",
       "    <tr>\n",
       "      <th>0</th>\n",
       "      <td>2019-12</td>\n",
       "      <td>85044021</td>\n",
       "      <td>11</td>\n",
       "      <td>249</td>\n",
       "      <td>SP</td>\n",
       "      <td>4</td>\n",
       "      <td>817700</td>\n",
       "      <td>53</td>\n",
       "      <td>44</td>\n",
       "      <td>8263</td>\n",
       "      <td>...</td>\n",
       "      <td>0</td>\n",
       "      <td>0</td>\n",
       "      <td>0</td>\n",
       "      <td>0</td>\n",
       "      <td>0</td>\n",
       "      <td>1</td>\n",
       "      <td>0</td>\n",
       "      <td>1</td>\n",
       "      <td>0</td>\n",
       "      <td>0</td>\n",
       "    </tr>\n",
       "    <tr>\n",
       "      <th>1</th>\n",
       "      <td>2019-12</td>\n",
       "      <td>85183000</td>\n",
       "      <td>11</td>\n",
       "      <td>160</td>\n",
       "      <td>GO</td>\n",
       "      <td>4</td>\n",
       "      <td>817600</td>\n",
       "      <td>23734</td>\n",
       "      <td>1621</td>\n",
       "      <td>6987</td>\n",
       "      <td>...</td>\n",
       "      <td>0</td>\n",
       "      <td>0</td>\n",
       "      <td>0</td>\n",
       "      <td>0</td>\n",
       "      <td>0</td>\n",
       "      <td>0</td>\n",
       "      <td>0</td>\n",
       "      <td>1</td>\n",
       "      <td>0</td>\n",
       "      <td>0</td>\n",
       "    </tr>\n",
       "    <tr>\n",
       "      <th>5</th>\n",
       "      <td>2019-12</td>\n",
       "      <td>85389090</td>\n",
       "      <td>10</td>\n",
       "      <td>386</td>\n",
       "      <td>SC</td>\n",
       "      <td>1</td>\n",
       "      <td>817800</td>\n",
       "      <td>101</td>\n",
       "      <td>101</td>\n",
       "      <td>879</td>\n",
       "      <td>...</td>\n",
       "      <td>0</td>\n",
       "      <td>0</td>\n",
       "      <td>0</td>\n",
       "      <td>0</td>\n",
       "      <td>1</td>\n",
       "      <td>0</td>\n",
       "      <td>1</td>\n",
       "      <td>0</td>\n",
       "      <td>0</td>\n",
       "      <td>0</td>\n",
       "    </tr>\n",
       "  </tbody>\n",
       "</table>\n",
       "<p>3 rows × 423 columns</p>\n",
       "</div>"
      ],
      "text/plain": [
       "   ANO-MES    CO_NCM  CO_UNID  CO_PAIS SG_UF_NCM  CO_VIA  CO_URF  QT_ESTAT  \\\n",
       "0  2019-12  85044021       11      249        SP       4  817700        53   \n",
       "1  2019-12  85183000       11      160        GO       4  817600     23734   \n",
       "5  2019-12  85389090       10      386        SC       1  817800       101   \n",
       "\n",
       "   KG_LIQUIDO  VL_FOB  ...  UF_MG  UF_PR  UF_RJ  UF_RS  UF_SC UF_SP  Modal_1  \\\n",
       "0          44    8263  ...      0      0      0      0      0     1        0   \n",
       "1        1621    6987  ...      0      0      0      0      0     0        0   \n",
       "5         101     879  ...      0      0      0      0      1     0        1   \n",
       "\n",
       "   Modal_4  Modal_7  Modal_99  \n",
       "0        1        0         0  \n",
       "1        1        0         0  \n",
       "5        0        0         0  \n",
       "\n",
       "[3 rows x 423 columns]"
      ]
     },
     "execution_count": 77,
     "metadata": {},
     "output_type": "execute_result"
    }
   ],
   "source": [
    "df_encoded = pd.concat([df_encoded, pd.get_dummies(df_encoded[\"CO_VIA_final\"],prefix=\"Modal\")], axis=1)\n",
    "df_encoded.head(3)"
   ]
  },
  {
   "cell_type": "code",
   "execution_count": 78,
   "metadata": {},
   "outputs": [],
   "source": [
    "# Exclusão das colunas das variáveis categóricas (que deram origem às variáveis dummie)\n",
    "df_encoded = df_encoded.drop(columns=['ANO-MES', 'CO_NCM', 'CO_UNID', 'CO_PAIS', 'SG_UF_NCM', 'CO_VIA',\n",
    "       'CO_URF', 'KG_LIQUIDO', 'VL_FOB', 'CO_NCM_final', 'CO_UNID_final', 'CO_PAIS_final',\n",
    "       'SG_UF_NCM_final', 'CO_VIA_final'])"
   ]
  },
  {
   "cell_type": "code",
   "execution_count": 79,
   "metadata": {},
   "outputs": [
    {
     "data": {
      "text/plain": [
       "Index(['QT_ESTAT', 'câmbio_mês_atual', 'câmbio_mês_anterior',\n",
       "       'VL_FOB/QT_ESTAT', 'Mês_2019-01', 'Mês_2019-02', 'Mês_2019-03',\n",
       "       'Mês_2019-04', 'Mês_2019-05', 'Mês_2019-06',\n",
       "       ...\n",
       "       'UF_MG', 'UF_PR', 'UF_RJ', 'UF_RS', 'UF_SC', 'UF_SP', 'Modal_1',\n",
       "       'Modal_4', 'Modal_7', 'Modal_99'],\n",
       "      dtype='object', length=409)"
      ]
     },
     "execution_count": 79,
     "metadata": {},
     "output_type": "execute_result"
    }
   ],
   "source": [
    "df_encoded.columns"
   ]
  },
  {
   "cell_type": "code",
   "execution_count": 80,
   "metadata": {},
   "outputs": [
    {
     "name": "stdout",
     "output_type": "stream",
     "text": [
      "<class 'pandas.core.frame.DataFrame'>\n",
      "Int64Index: 347989 entries, 0 to 1764432\n",
      "Columns: 409 entries, QT_ESTAT to Modal_99\n",
      "dtypes: float64(3), int64(1), uint8(405)\n",
      "memory usage: 157.7 MB\n"
     ]
    }
   ],
   "source": [
    "df_encoded.info()"
   ]
  },
  {
   "cell_type": "markdown",
   "metadata": {},
   "source": [
    "Devido a problemas de falta de memória para o cálculo da correlação das variáveis do df_encoded com a variável alvo df_encoded [\"VL_FOB/QT_ESTAT\"], optou-se por fracionar o df_encoded, dividindo-o em 4 partes, mantendo-se, em todas elas, a variável alvo VL_FOB/QT_ESTAT e, desse forma, tentar calcular a correlação em partes (o importante seria manter a variável alvo, pois o que se busca é identificar quais as variáveis do df_encoded mais se relacionam com a variável alvo e, dessa forma, adotá-las para a implementação do modelo de ML)"
   ]
  },
  {
   "cell_type": "code",
   "execution_count": 81,
   "metadata": {},
   "outputs": [],
   "source": [
    "df_encoded1de4=df_encoded.iloc[:,:100]"
   ]
  },
  {
   "cell_type": "code",
   "execution_count": 82,
   "metadata": {},
   "outputs": [
    {
     "name": "stdout",
     "output_type": "stream",
     "text": [
      "<class 'pandas.core.frame.DataFrame'>\n",
      "Int64Index: 347989 entries, 0 to 1764432\n",
      "Data columns (total 100 columns):\n",
      " #   Column               Non-Null Count   Dtype  \n",
      "---  ------               --------------   -----  \n",
      " 0   QT_ESTAT             347989 non-null  int64  \n",
      " 1   câmbio_mês_atual     347989 non-null  float64\n",
      " 2   câmbio_mês_anterior  347989 non-null  float64\n",
      " 3   VL_FOB/QT_ESTAT      347989 non-null  float64\n",
      " 4   Mês_2019-01          347989 non-null  uint8  \n",
      " 5   Mês_2019-02          347989 non-null  uint8  \n",
      " 6   Mês_2019-03          347989 non-null  uint8  \n",
      " 7   Mês_2019-04          347989 non-null  uint8  \n",
      " 8   Mês_2019-05          347989 non-null  uint8  \n",
      " 9   Mês_2019-06          347989 non-null  uint8  \n",
      " 10  Mês_2019-07          347989 non-null  uint8  \n",
      " 11  Mês_2019-08          347989 non-null  uint8  \n",
      " 12  Mês_2019-09          347989 non-null  uint8  \n",
      " 13  Mês_2019-10          347989 non-null  uint8  \n",
      " 14  Mês_2019-11          347989 non-null  uint8  \n",
      " 15  Mês_2019-12          347989 non-null  uint8  \n",
      " 16  NCM_85011011         347989 non-null  uint8  \n",
      " 17  NCM_85011019         347989 non-null  uint8  \n",
      " 18  NCM_85011021         347989 non-null  uint8  \n",
      " 19  NCM_85011029         347989 non-null  uint8  \n",
      " 20  NCM_85011030         347989 non-null  uint8  \n",
      " 21  NCM_85012000         347989 non-null  uint8  \n",
      " 22  NCM_85013110         347989 non-null  uint8  \n",
      " 23  NCM_85013210         347989 non-null  uint8  \n",
      " 24  NCM_85013220         347989 non-null  uint8  \n",
      " 25  NCM_85014011         347989 non-null  uint8  \n",
      " 26  NCM_85014019         347989 non-null  uint8  \n",
      " 27  NCM_85014029         347989 non-null  uint8  \n",
      " 28  NCM_85015110         347989 non-null  uint8  \n",
      " 29  NCM_85015190         347989 non-null  uint8  \n",
      " 30  NCM_85015210         347989 non-null  uint8  \n",
      " 31  NCM_85015220         347989 non-null  uint8  \n",
      " 32  NCM_85015290         347989 non-null  uint8  \n",
      " 33  NCM_85015310         347989 non-null  uint8  \n",
      " 34  NCM_85030010         347989 non-null  uint8  \n",
      " 35  NCM_85030090         347989 non-null  uint8  \n",
      " 36  NCM_85041000         347989 non-null  uint8  \n",
      " 37  NCM_85043111         347989 non-null  uint8  \n",
      " 38  NCM_85043119         347989 non-null  uint8  \n",
      " 39  NCM_85043199         347989 non-null  uint8  \n",
      " 40  NCM_85043211         347989 non-null  uint8  \n",
      " 41  NCM_85043219         347989 non-null  uint8  \n",
      " 42  NCM_85043221         347989 non-null  uint8  \n",
      " 43  NCM_85043300         347989 non-null  uint8  \n",
      " 44  NCM_85044010         347989 non-null  uint8  \n",
      " 45  NCM_85044021         347989 non-null  uint8  \n",
      " 46  NCM_85044029         347989 non-null  uint8  \n",
      " 47  NCM_85044030         347989 non-null  uint8  \n",
      " 48  NCM_85044040         347989 non-null  uint8  \n",
      " 49  NCM_85044050         347989 non-null  uint8  \n",
      " 50  NCM_85044090         347989 non-null  uint8  \n",
      " 51  NCM_85045000         347989 non-null  uint8  \n",
      " 52  NCM_85049010         347989 non-null  uint8  \n",
      " 53  NCM_85049030         347989 non-null  uint8  \n",
      " 54  NCM_85049040         347989 non-null  uint8  \n",
      " 55  NCM_85049090         347989 non-null  uint8  \n",
      " 56  NCM_85051100         347989 non-null  uint8  \n",
      " 57  NCM_85051910         347989 non-null  uint8  \n",
      " 58  NCM_85051990         347989 non-null  uint8  \n",
      " 59  NCM_85052090         347989 non-null  uint8  \n",
      " 60  NCM_85059010         347989 non-null  uint8  \n",
      " 61  NCM_85059080         347989 non-null  uint8  \n",
      " 62  NCM_85059090         347989 non-null  uint8  \n",
      " 63  NCM_85061010         347989 non-null  uint8  \n",
      " 64  NCM_85061030         347989 non-null  uint8  \n",
      " 65  NCM_85065010         347989 non-null  uint8  \n",
      " 66  NCM_85065090         347989 non-null  uint8  \n",
      " 67  NCM_85068090         347989 non-null  uint8  \n",
      " 68  NCM_85071010         347989 non-null  uint8  \n",
      " 69  NCM_85071090         347989 non-null  uint8  \n",
      " 70  NCM_85072010         347989 non-null  uint8  \n",
      " 71  NCM_85072090         347989 non-null  uint8  \n",
      " 72  NCM_85073011         347989 non-null  uint8  \n",
      " 73  NCM_85073090         347989 non-null  uint8  \n",
      " 74  NCM_85075000         347989 non-null  uint8  \n",
      " 75  NCM_85076000         347989 non-null  uint8  \n",
      " 76  NCM_85078000         347989 non-null  uint8  \n",
      " 77  NCM_85079020         347989 non-null  uint8  \n",
      " 78  NCM_85079090         347989 non-null  uint8  \n",
      " 79  NCM_85081100         347989 non-null  uint8  \n",
      " 80  NCM_85081900         347989 non-null  uint8  \n",
      " 81  NCM_85087000         347989 non-null  uint8  \n",
      " 82  NCM_85098090         347989 non-null  uint8  \n",
      " 83  NCM_85099000         347989 non-null  uint8  \n",
      " 84  NCM_85102000         347989 non-null  uint8  \n",
      " 85  NCM_85103000         347989 non-null  uint8  \n",
      " 86  NCM_85111000         347989 non-null  uint8  \n",
      " 87  NCM_85112010         347989 non-null  uint8  \n",
      " 88  NCM_85112090         347989 non-null  uint8  \n",
      " 89  NCM_85113010         347989 non-null  uint8  \n",
      " 90  NCM_85113020         347989 non-null  uint8  \n",
      " 91  NCM_85114000         347989 non-null  uint8  \n",
      " 92  NCM_85115010         347989 non-null  uint8  \n",
      " 93  NCM_85115090         347989 non-null  uint8  \n",
      " 94  NCM_85118010         347989 non-null  uint8  \n",
      " 95  NCM_85118020         347989 non-null  uint8  \n",
      " 96  NCM_85118090         347989 non-null  uint8  \n",
      " 97  NCM_85119000         347989 non-null  uint8  \n",
      " 98  NCM_85121000         347989 non-null  uint8  \n",
      " 99  NCM_85122011         347989 non-null  uint8  \n",
      "dtypes: float64(3), int64(1), uint8(96)\n",
      "memory usage: 55.1 MB\n"
     ]
    }
   ],
   "source": [
    "df_encoded1de4.info()"
   ]
  },
  {
   "cell_type": "code",
   "execution_count": 83,
   "metadata": {},
   "outputs": [],
   "source": [
    "df_encoded2de4=df_encoded.iloc[:,100:200]"
   ]
  },
  {
   "cell_type": "code",
   "execution_count": 84,
   "metadata": {},
   "outputs": [],
   "source": [
    "df_encoded2de4[\"VL_FOB/QT_ESTAT\"]=df_encoded[\"VL_FOB/QT_ESTAT\"]"
   ]
  },
  {
   "cell_type": "code",
   "execution_count": 85,
   "metadata": {},
   "outputs": [
    {
     "name": "stdout",
     "output_type": "stream",
     "text": [
      "<class 'pandas.core.frame.DataFrame'>\n",
      "Int64Index: 347989 entries, 0 to 1764432\n",
      "Columns: 101 entries, NCM_85122019 to VL_FOB/QT_ESTAT\n",
      "dtypes: float64(1), uint8(100)\n",
      "memory usage: 48.5 MB\n"
     ]
    }
   ],
   "source": [
    "df_encoded2de4.info()"
   ]
  },
  {
   "cell_type": "code",
   "execution_count": 86,
   "metadata": {},
   "outputs": [],
   "source": [
    "df_encoded3de4=df_encoded.iloc[:,200:300]"
   ]
  },
  {
   "cell_type": "code",
   "execution_count": 87,
   "metadata": {},
   "outputs": [],
   "source": [
    "df_encoded3de4[\"VL_FOB/QT_ESTAT\"]=df_encoded[\"VL_FOB/QT_ESTAT\"]"
   ]
  },
  {
   "cell_type": "code",
   "execution_count": 88,
   "metadata": {},
   "outputs": [
    {
     "name": "stdout",
     "output_type": "stream",
     "text": [
      "<class 'pandas.core.frame.DataFrame'>\n",
      "Int64Index: 347989 entries, 0 to 1764432\n",
      "Columns: 101 entries, NCM_85312000 to VL_FOB/QT_ESTAT\n",
      "dtypes: float64(1), uint8(100)\n",
      "memory usage: 48.5 MB\n"
     ]
    }
   ],
   "source": [
    "df_encoded3de4.info()"
   ]
  },
  {
   "cell_type": "code",
   "execution_count": 89,
   "metadata": {},
   "outputs": [],
   "source": [
    "df_encoded4de4=df_encoded.iloc[:,300:]"
   ]
  },
  {
   "cell_type": "code",
   "execution_count": 90,
   "metadata": {},
   "outputs": [],
   "source": [
    "df_encoded4de4[\"VL_FOB/QT_ESTAT\"]=df_encoded[\"VL_FOB/QT_ESTAT\"]"
   ]
  },
  {
   "cell_type": "code",
   "execution_count": 91,
   "metadata": {},
   "outputs": [
    {
     "name": "stdout",
     "output_type": "stream",
     "text": [
      "<class 'pandas.core.frame.DataFrame'>\n",
      "Int64Index: 347989 entries, 0 to 1764432\n",
      "Columns: 110 entries, NCM_85412920 to VL_FOB/QT_ESTAT\n",
      "dtypes: float64(1), uint8(109)\n",
      "memory usage: 51.5 MB\n"
     ]
    }
   ],
   "source": [
    "df_encoded4de4.info()"
   ]
  },
  {
   "cell_type": "code",
   "execution_count": 92,
   "metadata": {},
   "outputs": [],
   "source": [
    "# Identificação das variáveis que mais se relacionam com a variável alvo (\"VL_FOB/QT_ESTAT\")\n",
    "#correlacoes = df_encoded.corr().abs()[\"VL_FOB/QT_ESTAT\"].sort_values()\n",
    "#correlacoes"
   ]
  },
  {
   "cell_type": "code",
   "execution_count": 93,
   "metadata": {},
   "outputs": [
    {
     "data": {
      "text/plain": [
       "NCM_85015210       0.000003\n",
       "NCM_85073090       0.000011\n",
       "NCM_85115090       0.000014\n",
       "NCM_85015290       0.000015\n",
       "NCM_85043221       0.000033\n",
       "                     ...   \n",
       "Mês_2019-08        0.001602\n",
       "Mês_2019-06        0.001843\n",
       "NCM_85015310       0.003851\n",
       "Mês_2019-04        0.004088\n",
       "VL_FOB/QT_ESTAT    1.000000\n",
       "Name: VL_FOB/QT_ESTAT, Length: 100, dtype: float64"
      ]
     },
     "execution_count": 93,
     "metadata": {},
     "output_type": "execute_result"
    }
   ],
   "source": [
    "# como o cálculo das correlações para todo o df_encoded (código imediatamente acima) deu erro, faremos por partes:\n",
    "correlacoes1de4 = df_encoded1de4.corr().abs()[\"VL_FOB/QT_ESTAT\"].sort_values()\n",
    "correlacoes1de4"
   ]
  },
  {
   "cell_type": "code",
   "execution_count": 94,
   "metadata": {},
   "outputs": [
    {
     "data": {
      "text/plain": [
       "NCM_85176130       0.000017\n",
       "NCM_85176262       0.000022\n",
       "NCM_85299040       0.000043\n",
       "NCM_85176259       0.000061\n",
       "NCM_85176211       0.000074\n",
       "                     ...   \n",
       "NCM_85158090       0.001275\n",
       "NCM_85256090       0.003979\n",
       "NCM_85153190       0.004868\n",
       "NCM_85261000       0.009081\n",
       "VL_FOB/QT_ESTAT    1.000000\n",
       "Name: VL_FOB/QT_ESTAT, Length: 101, dtype: float64"
      ]
     },
     "execution_count": 94,
     "metadata": {},
     "output_type": "execute_result"
    }
   ],
   "source": [
    "correlacoes2de4 = df_encoded2de4.corr().abs()[\"VL_FOB/QT_ESTAT\"].sort_values()\n",
    "correlacoes2de4"
   ]
  },
  {
   "cell_type": "code",
   "execution_count": 95,
   "metadata": {},
   "outputs": [
    {
     "data": {
      "text/plain": [
       "NCM_85408990       9.902307e-07\n",
       "NCM_85352100       5.887159e-05\n",
       "NCM_85407100       1.333466e-04\n",
       "NCM_85321000       1.420069e-04\n",
       "NCM_85371011       1.760509e-04\n",
       "                       ...     \n",
       "NCM_85364100       9.644640e-04\n",
       "NCM_85389090       9.843699e-04\n",
       "NCM_85369090       1.326464e-03\n",
       "NCM_85365090       1.437875e-03\n",
       "VL_FOB/QT_ESTAT    1.000000e+00\n",
       "Name: VL_FOB/QT_ESTAT, Length: 101, dtype: float64"
      ]
     },
     "execution_count": 95,
     "metadata": {},
     "output_type": "execute_result"
    }
   ],
   "source": [
    "correlacoes3de4 = df_encoded3de4.corr().abs()[\"VL_FOB/QT_ESTAT\"].sort_values()\n",
    "correlacoes3de4"
   ]
  },
  {
   "cell_type": "code",
   "execution_count": 96,
   "metadata": {},
   "outputs": [
    {
     "data": {
      "text/plain": [
       "NCM_85429090       0.000084\n",
       "Pais_628           0.000096\n",
       "Pais_764           0.000124\n",
       "NCM_85437039       0.000127\n",
       "Pais_607           0.000133\n",
       "                     ...   \n",
       "Pais_767           0.009063\n",
       "UF_99              0.012809\n",
       "NCM_99999999       0.019839\n",
       "NCM_85413029       0.032654\n",
       "VL_FOB/QT_ESTAT    1.000000\n",
       "Name: VL_FOB/QT_ESTAT, Length: 110, dtype: float64"
      ]
     },
     "execution_count": 96,
     "metadata": {},
     "output_type": "execute_result"
    }
   ],
   "source": [
    "correlacoes4de4 = df_encoded4de4.corr().abs()[\"VL_FOB/QT_ESTAT\"].sort_values()\n",
    "correlacoes4de4"
   ]
  },
  {
   "cell_type": "code",
   "execution_count": 97,
   "metadata": {},
   "outputs": [],
   "source": [
    "correlacoes = pd.concat([correlacoes1de4, correlacoes2de4, correlacoes3de4, correlacoes4de4])"
   ]
  },
  {
   "cell_type": "code",
   "execution_count": 98,
   "metadata": {},
   "outputs": [],
   "source": [
    "correlacoes.drop_duplicates(inplace=True)"
   ]
  },
  {
   "cell_type": "code",
   "execution_count": 99,
   "metadata": {},
   "outputs": [
    {
     "data": {
      "text/plain": [
       "VL_FOB/QT_ESTAT    1.000000\n",
       "NCM_85413029       0.032654\n",
       "NCM_99999999       0.019839\n",
       "UF_99              0.012809\n",
       "NCM_85261000       0.009081\n",
       "Pais_767           0.009063\n",
       "Modal_1            0.007111\n",
       "Modal_4            0.006848\n",
       "UF_RJ              0.005258\n",
       "NCM_85153190       0.004868\n",
       "Mês_2019-04        0.004088\n",
       "Un.Med.Est._10     0.004007\n",
       "NCM_85256090       0.003979\n",
       "NCM_85015310       0.003851\n",
       "UF_SP              0.003735\n",
       "UF_SC              0.002308\n",
       "Pais_249           0.002177\n",
       "UF_PR              0.002001\n",
       "UF_AM              0.001949\n",
       "Pais_161           0.001901\n",
       "Name: VL_FOB/QT_ESTAT, dtype: float64"
      ]
     },
     "execution_count": 99,
     "metadata": {},
     "output_type": "execute_result"
    }
   ],
   "source": [
    "correlacoes.sort_values(ascending=False).head(20)"
   ]
  },
  {
   "cell_type": "code",
   "execution_count": 100,
   "metadata": {},
   "outputs": [
    {
     "name": "stdout",
     "output_type": "stream",
     "text": [
      "<class 'pandas.core.frame.DataFrame'>\n",
      "Int64Index: 347989 entries, 0 to 1764432\n",
      "Data columns (total 4 columns):\n",
      " #   Column           Non-Null Count   Dtype  \n",
      "---  ------           --------------   -----  \n",
      " 0   NCM_99999999     347989 non-null  uint8  \n",
      " 1   NCM_85413029     347989 non-null  uint8  \n",
      " 2   UF_99            347989 non-null  uint8  \n",
      " 3   VL_FOB/QT_ESTAT  347989 non-null  float64\n",
      "dtypes: float64(1), uint8(3)\n",
      "memory usage: 16.3 MB\n"
     ]
    }
   ],
   "source": [
    "# Selecionando as features com as maiores correlações (maior ou igual a 0,005) para serem mantidas e excluídas as demais\n",
    "df2=df_encoded[[\"NCM_99999999\",\"NCM_85413029\",\"UF_99\",\"VL_FOB/QT_ESTAT\"]]\n",
    "df2.info()"
   ]
  },
  {
   "cell_type": "code",
   "execution_count": 101,
   "metadata": {},
   "outputs": [],
   "source": [
    "#Checar se existe correlação entre as features selecionadas\n",
    "import matplotlib.pyplot as plt\n",
    "import seaborn as sns\n",
    "%matplotlib inline"
   ]
  },
  {
   "cell_type": "code",
   "execution_count": 102,
   "metadata": {
    "scrolled": true
   },
   "outputs": [
    {
     "data": {
      "text/plain": [
       "<AxesSubplot:>"
      ]
     },
     "execution_count": 102,
     "metadata": {},
     "output_type": "execute_result"
    },
    {
     "data": {
      "image/png": "[encoded data removed]",
      "text/plain": [
       "<Figure size 432x288 with 2 Axes>"
      ]
     },
     "metadata": {
      "needs_background": "light"
     },
     "output_type": "display_data"
    }
   ],
   "source": [
    "sns.heatmap(df2.corr(),cmap=\"coolwarm\", annot=False )"
   ]
  },
  {
   "cell_type": "markdown",
   "metadata": {},
   "source": [
    "# Dividindo o dataset em \"base de teste\" e \"base de treinamento\""
   ]
  },
  {
   "cell_type": "code",
   "execution_count": 103,
   "metadata": {},
   "outputs": [
    {
     "data": {
      "text/plain": [
       "Index(['NCM_99999999', 'NCM_85413029', 'UF_99', 'VL_FOB/QT_ESTAT'], dtype='object')"
      ]
     },
     "execution_count": 103,
     "metadata": {},
     "output_type": "execute_result"
    }
   ],
   "source": [
    "df2.columns"
   ]
  },
  {
   "cell_type": "code",
   "execution_count": 104,
   "metadata": {},
   "outputs": [],
   "source": [
    "x = df2[['NCM_99999999', 'NCM_85413029', 'UF_99']]\n",
    "y = df2['VL_FOB/QT_ESTAT']"
   ]
  },
  {
   "cell_type": "code",
   "execution_count": 105,
   "metadata": {},
   "outputs": [],
   "source": [
    "from sklearn.model_selection import train_test_split"
   ]
  },
  {
   "cell_type": "code",
   "execution_count": 106,
   "metadata": {},
   "outputs": [],
   "source": [
    "x_train, x_test, y_train, y_test = train_test_split(x, y, test_size=0.1, random_state=16)"
   ]
  },
  {
   "cell_type": "markdown",
   "metadata": {},
   "source": [
    "# Treinando o modelo LinearRegression"
   ]
  },
  {
   "cell_type": "code",
   "execution_count": 107,
   "metadata": {},
   "outputs": [],
   "source": [
    "from sklearn.linear_model import LinearRegression"
   ]
  },
  {
   "cell_type": "code",
   "execution_count": 108,
   "metadata": {},
   "outputs": [],
   "source": [
    "lm = LinearRegression()"
   ]
  },
  {
   "cell_type": "code",
   "execution_count": 109,
   "metadata": {},
   "outputs": [
    {
     "data": {
      "text/plain": [
       "LinearRegression()"
      ]
     },
     "execution_count": 109,
     "metadata": {},
     "output_type": "execute_result"
    }
   ],
   "source": [
    "lm.fit(x_train,y_train)"
   ]
  },
  {
   "cell_type": "code",
   "execution_count": 110,
   "metadata": {},
   "outputs": [
    {
     "name": "stdout",
     "output_type": "stream",
     "text": [
      "-34.26483180728451\n"
     ]
    }
   ],
   "source": [
    "# impressão do intercepto\n",
    "print(lm.intercept_)"
   ]
  },
  {
   "cell_type": "code",
   "execution_count": 111,
   "metadata": {},
   "outputs": [
    {
     "data": {
      "text/html": [
       "<div>\n",
       "<style scoped>\n",
       "    .dataframe tbody tr th:only-of-type {\n",
       "        vertical-align: middle;\n",
       "    }\n",
       "\n",
       "    .dataframe tbody tr th {\n",
       "        vertical-align: top;\n",
       "    }\n",
       "\n",
       "    .dataframe thead th {\n",
       "        text-align: right;\n",
       "    }\n",
       "</style>\n",
       "<table border=\"1\" class=\"dataframe\">\n",
       "  <thead>\n",
       "    <tr style=\"text-align: right;\">\n",
       "      <th></th>\n",
       "      <th>Coeficiente</th>\n",
       "    </tr>\n",
       "  </thead>\n",
       "  <tbody>\n",
       "    <tr>\n",
       "      <th>NCM_99999999</th>\n",
       "      <td>19085.368619</td>\n",
       "    </tr>\n",
       "    <tr>\n",
       "      <th>NCM_85413029</th>\n",
       "      <td>80999.483592</td>\n",
       "    </tr>\n",
       "    <tr>\n",
       "      <th>UF_99</th>\n",
       "      <td>11920.198435</td>\n",
       "    </tr>\n",
       "  </tbody>\n",
       "</table>\n",
       "</div>"
      ],
      "text/plain": [
       "               Coeficiente\n",
       "NCM_99999999  19085.368619\n",
       "NCM_85413029  80999.483592\n",
       "UF_99         11920.198435"
      ]
     },
     "execution_count": 111,
     "metadata": {},
     "output_type": "execute_result"
    }
   ],
   "source": [
    "# impressão dos coeficientes\n",
    "coeff_df = pd.DataFrame(lm.coef_,x.columns,columns=['Coeficiente'])\n",
    "coeff_df"
   ]
  },
  {
   "cell_type": "code",
   "execution_count": 112,
   "metadata": {},
   "outputs": [],
   "source": [
    "# realizando as predições\n",
    "predicoesLR = lm.predict(x_test)"
   ]
  },
  {
   "cell_type": "markdown",
   "metadata": {},
   "source": [
    "# Treinando o modelo Random Forest Regressor"
   ]
  },
  {
   "cell_type": "code",
   "execution_count": 113,
   "metadata": {},
   "outputs": [
    {
     "data": {
      "text/plain": [
       "RandomForestRegressor()"
      ]
     },
     "execution_count": 113,
     "metadata": {},
     "output_type": "execute_result"
    }
   ],
   "source": [
    "from sklearn.ensemble import RandomForestRegressor\n",
    "rfr = RandomForestRegressor(n_estimators=100)\n",
    "rfr.fit(x_train, y_train)"
   ]
  },
  {
   "cell_type": "code",
   "execution_count": 114,
   "metadata": {},
   "outputs": [],
   "source": [
    "predicoesRFR = rfr.predict(x_test)"
   ]
  },
  {
   "cell_type": "markdown",
   "metadata": {},
   "source": [
    "# Treinando o modelo Gradient Boosting Regressor"
   ]
  },
  {
   "cell_type": "code",
   "execution_count": 115,
   "metadata": {},
   "outputs": [],
   "source": [
    "from sklearn.ensemble import GradientBoostingRegressor"
   ]
  },
  {
   "cell_type": "code",
   "execution_count": 116,
   "metadata": {},
   "outputs": [
    {
     "data": {
      "text/plain": [
       "GradientBoostingRegressor()"
      ]
     },
     "execution_count": 116,
     "metadata": {},
     "output_type": "execute_result"
    }
   ],
   "source": [
    "gbr = GradientBoostingRegressor()\n",
    "gbr.fit(x_train, y_train)"
   ]
  },
  {
   "cell_type": "code",
   "execution_count": 117,
   "metadata": {},
   "outputs": [],
   "source": [
    "predicoesGBR = gbr.predict(x_test)"
   ]
  },
  {
   "cell_type": "markdown",
   "metadata": {},
   "source": [
    "# Avaliando os modelos"
   ]
  },
  {
   "cell_type": "markdown",
   "metadata": {},
   "source": [
    "#### Root mean squared error - RMSE"
   ]
  },
  {
   "cell_type": "code",
   "execution_count": 118,
   "metadata": {},
   "outputs": [],
   "source": [
    "from math import sqrt\n",
    "from sklearn.metrics import mean_squared_error"
   ]
  },
  {
   "cell_type": "code",
   "execution_count": 119,
   "metadata": {},
   "outputs": [],
   "source": [
    "def rmse(y_true, y_pred):\n",
    "    return sqrt(mean_squared_error(y_true, y_pred))"
   ]
  },
  {
   "cell_type": "code",
   "execution_count": 120,
   "metadata": {},
   "outputs": [
    {
     "data": {
      "text/plain": [
       "260849.57589358158"
      ]
     },
     "execution_count": 120,
     "metadata": {},
     "output_type": "execute_result"
    }
   ],
   "source": [
    "RMSE_LR = rmse(y_test,predicoesLR)\n",
    "RMSE_LR"
   ]
  },
  {
   "cell_type": "code",
   "execution_count": 121,
   "metadata": {},
   "outputs": [
    {
     "data": {
      "text/plain": [
       "261644.89355781642"
      ]
     },
     "execution_count": 121,
     "metadata": {},
     "output_type": "execute_result"
    }
   ],
   "source": [
    "RMSE_RFR = rmse(y_test,predicoesRFR)\n",
    "RMSE_RFR"
   ]
  },
  {
   "cell_type": "code",
   "execution_count": 122,
   "metadata": {
    "scrolled": true
   },
   "outputs": [
    {
     "data": {
      "text/plain": [
       "261740.39656095533"
      ]
     },
     "execution_count": 122,
     "metadata": {},
     "output_type": "execute_result"
    }
   ],
   "source": [
    "RMSE_GBR = rmse(y_test,predicoesGBR)\n",
    "RMSE_GBR"
   ]
  },
  {
   "cell_type": "markdown",
   "metadata": {},
   "source": [
    "#### Mean absolute error - MAE"
   ]
  },
  {
   "cell_type": "code",
   "execution_count": 123,
   "metadata": {},
   "outputs": [],
   "source": [
    "from sklearn.metrics import mean_absolute_error"
   ]
  },
  {
   "cell_type": "code",
   "execution_count": 124,
   "metadata": {},
   "outputs": [
    {
     "data": {
      "text/plain": [
       "3957.8116032498783"
      ]
     },
     "execution_count": 124,
     "metadata": {},
     "output_type": "execute_result"
    }
   ],
   "source": [
    "MAE_LR=mean_absolute_error(y_test, predicoesLR)\n",
    "MAE_LR"
   ]
  },
  {
   "cell_type": "code",
   "execution_count": 125,
   "metadata": {},
   "outputs": [
    {
     "data": {
      "text/plain": [
       "3694.2385980025124"
      ]
     },
     "execution_count": 125,
     "metadata": {},
     "output_type": "execute_result"
    }
   ],
   "source": [
    "MAE_RFR=mean_absolute_error(y_test, predicoesRFR)\n",
    "MAE_RFR"
   ]
  },
  {
   "cell_type": "code",
   "execution_count": 126,
   "metadata": {},
   "outputs": [
    {
     "data": {
      "text/plain": [
       "3688.464254300966"
      ]
     },
     "execution_count": 126,
     "metadata": {},
     "output_type": "execute_result"
    }
   ],
   "source": [
    "MAE_GBR=mean_absolute_error(y_test, predicoesGBR)\n",
    "MAE_GBR"
   ]
  },
  {
   "cell_type": "markdown",
   "metadata": {},
   "source": [
    "#### Mean squared error - MSE"
   ]
  },
  {
   "cell_type": "code",
   "execution_count": 127,
   "metadata": {},
   "outputs": [],
   "source": [
    "from sklearn.metrics import mean_absolute_error"
   ]
  },
  {
   "cell_type": "code",
   "execution_count": 128,
   "metadata": {},
   "outputs": [
    {
     "data": {
      "text/plain": [
       "68042501243.861374"
      ]
     },
     "execution_count": 128,
     "metadata": {},
     "output_type": "execute_result"
    }
   ],
   "source": [
    "MSE_LR=mean_squared_error(y_test, predicoesLR)\n",
    "MSE_LR"
   ]
  },
  {
   "cell_type": "code",
   "execution_count": 129,
   "metadata": {},
   "outputs": [
    {
     "data": {
      "text/plain": [
       "68458050324.88109"
      ]
     },
     "execution_count": 129,
     "metadata": {},
     "output_type": "execute_result"
    }
   ],
   "source": [
    "MSE_RFR=mean_squared_error(y_test, predicoesRFR)\n",
    "MSE_RFR"
   ]
  },
  {
   "cell_type": "code",
   "execution_count": 130,
   "metadata": {},
   "outputs": [
    {
     "data": {
      "text/plain": [
       "68508035191.88616"
      ]
     },
     "execution_count": 130,
     "metadata": {},
     "output_type": "execute_result"
    }
   ],
   "source": [
    "MSE_GBR=mean_squared_error(y_test, predicoesGBR)\n",
    "MSE_GBR"
   ]
  },
  {
   "cell_type": "markdown",
   "metadata": {},
   "source": [
    "#### Coeficente de determinação - R²"
   ]
  },
  {
   "cell_type": "code",
   "execution_count": 131,
   "metadata": {},
   "outputs": [],
   "source": [
    "from sklearn.metrics import r2_score"
   ]
  },
  {
   "cell_type": "code",
   "execution_count": 132,
   "metadata": {},
   "outputs": [
    {
     "data": {
      "text/plain": [
       "0.0029120292620761212"
      ]
     },
     "execution_count": 132,
     "metadata": {},
     "output_type": "execute_result"
    }
   ],
   "source": [
    "R2_LR=r2_score(y_test, predicoesLR)\n",
    "R2_LR"
   ]
  },
  {
   "cell_type": "code",
   "execution_count": 133,
   "metadata": {},
   "outputs": [
    {
     "data": {
      "text/plain": [
       "-0.003177385182742576"
      ]
     },
     "execution_count": 133,
     "metadata": {},
     "output_type": "execute_result"
    }
   ],
   "source": [
    "R2_RFR=r2_score(y_test, predicoesRFR)\n",
    "R2_RFR"
   ]
  },
  {
   "cell_type": "code",
   "execution_count": 134,
   "metadata": {
    "scrolled": true
   },
   "outputs": [
    {
     "data": {
      "text/plain": [
       "-0.003909858397256993"
      ]
     },
     "execution_count": 134,
     "metadata": {},
     "output_type": "execute_result"
    }
   ],
   "source": [
    "R2_GBR=r2_score(y_test, predicoesGBR)\n",
    "R2_GBR"
   ]
  }
 ],
 "metadata": {
  "kernelspec": {
   "display_name": "Python 3",
   "language": "python",
   "name": "python3"
  },
  "language_info": {
   "codemirror_mode": {
    "name": "ipython",
    "version": 3
   },
   "file_extension": ".py",
   "mimetype": "text/x-python",
   "name": "python",
   "nbconvert_exporter": "python",
   "pygments_lexer": "ipython3",
   "version": "3.8.5"
  }
 },
 "nbformat": 4,
 "nbformat_minor": 4
}
