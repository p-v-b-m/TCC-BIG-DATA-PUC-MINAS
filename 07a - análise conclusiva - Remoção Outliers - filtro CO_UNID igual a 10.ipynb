{
 "cells": [
  {
   "cell_type": "code",
   "execution_count": 1,
   "metadata": {},
   "outputs": [],
   "source": [
    "import pandas as pd\n",
    "import numpy as np"
   ]
  },
  {
   "cell_type": "code",
   "execution_count": 2,
   "metadata": {},
   "outputs": [
    {
     "data": {
      "text/html": [
       "<div>\n",
       "<style scoped>\n",
       "    .dataframe tbody tr th:only-of-type {\n",
       "        vertical-align: middle;\n",
       "    }\n",
       "\n",
       "    .dataframe tbody tr th {\n",
       "        vertical-align: top;\n",
       "    }\n",
       "\n",
       "    .dataframe thead th {\n",
       "        text-align: right;\n",
       "    }\n",
       "</style>\n",
       "<table border=\"1\" class=\"dataframe\">\n",
       "  <thead>\n",
       "    <tr style=\"text-align: right;\">\n",
       "      <th></th>\n",
       "      <th>ANO-MES</th>\n",
       "      <th>CO_NCM</th>\n",
       "      <th>CO_UNID</th>\n",
       "      <th>CO_PAIS</th>\n",
       "      <th>SG_UF_NCM</th>\n",
       "      <th>CO_VIA</th>\n",
       "      <th>CO_URF</th>\n",
       "      <th>QT_ESTAT</th>\n",
       "      <th>KG_LIQUIDO</th>\n",
       "      <th>VL_FOB</th>\n",
       "      <th>câmbio_mês_atual</th>\n",
       "      <th>câmbio_mês_anterior</th>\n",
       "    </tr>\n",
       "  </thead>\n",
       "  <tbody>\n",
       "    <tr>\n",
       "      <td>0</td>\n",
       "      <td>2019-12</td>\n",
       "      <td>85044021</td>\n",
       "      <td>11</td>\n",
       "      <td>249</td>\n",
       "      <td>SP</td>\n",
       "      <td>4</td>\n",
       "      <td>817700</td>\n",
       "      <td>53</td>\n",
       "      <td>44</td>\n",
       "      <td>8263</td>\n",
       "      <td>4.108924</td>\n",
       "      <td>4.154725</td>\n",
       "    </tr>\n",
       "    <tr>\n",
       "      <td>1</td>\n",
       "      <td>2019-12</td>\n",
       "      <td>85183000</td>\n",
       "      <td>11</td>\n",
       "      <td>160</td>\n",
       "      <td>GO</td>\n",
       "      <td>4</td>\n",
       "      <td>817600</td>\n",
       "      <td>23734</td>\n",
       "      <td>1621</td>\n",
       "      <td>6987</td>\n",
       "      <td>4.108924</td>\n",
       "      <td>4.154725</td>\n",
       "    </tr>\n",
       "    <tr>\n",
       "      <td>2</td>\n",
       "      <td>2019-12</td>\n",
       "      <td>39263000</td>\n",
       "      <td>10</td>\n",
       "      <td>23</td>\n",
       "      <td>SP</td>\n",
       "      <td>1</td>\n",
       "      <td>817800</td>\n",
       "      <td>3951</td>\n",
       "      <td>3951</td>\n",
       "      <td>88311</td>\n",
       "      <td>4.108924</td>\n",
       "      <td>4.154725</td>\n",
       "    </tr>\n",
       "  </tbody>\n",
       "</table>\n",
       "</div>"
      ],
      "text/plain": [
       "   ANO-MES    CO_NCM  CO_UNID  CO_PAIS SG_UF_NCM  CO_VIA  CO_URF  QT_ESTAT  \\\n",
       "0  2019-12  85044021       11      249        SP       4  817700        53   \n",
       "1  2019-12  85183000       11      160        GO       4  817600     23734   \n",
       "2  2019-12  39263000       10       23        SP       1  817800      3951   \n",
       "\n",
       "   KG_LIQUIDO  VL_FOB  câmbio_mês_atual  câmbio_mês_anterior  \n",
       "0          44    8263          4.108924             4.154725  \n",
       "1        1621    6987          4.108924             4.154725  \n",
       "2        3951   88311          4.108924             4.154725  "
      ]
     },
     "execution_count": 2,
     "metadata": {},
     "output_type": "execute_result"
    }
   ],
   "source": [
    "df=pd.read_csv(\"base_enriquecida_codigos\")\n",
    "df.head(3)"
   ]
  },
  {
   "cell_type": "code",
   "execution_count": 3,
   "metadata": {},
   "outputs": [],
   "source": [
    "df1=df[df[\"CO_UNID\"]==10]"
   ]
  },
  {
   "cell_type": "code",
   "execution_count": 4,
   "metadata": {},
   "outputs": [
    {
     "name": "stdout",
     "output_type": "stream",
     "text": [
      "<class 'pandas.core.frame.DataFrame'>\n",
      "Int64Index: 978971 entries, 2 to 1764429\n",
      "Data columns (total 12 columns):\n",
      "ANO-MES                978971 non-null object\n",
      "CO_NCM                 978971 non-null int64\n",
      "CO_UNID                978971 non-null int64\n",
      "CO_PAIS                978971 non-null int64\n",
      "SG_UF_NCM              978971 non-null object\n",
      "CO_VIA                 978971 non-null int64\n",
      "CO_URF                 978971 non-null int64\n",
      "QT_ESTAT               978971 non-null int64\n",
      "KG_LIQUIDO             978971 non-null int64\n",
      "VL_FOB                 978971 non-null int64\n",
      "câmbio_mês_atual       978971 non-null float64\n",
      "câmbio_mês_anterior    978971 non-null float64\n",
      "dtypes: float64(2), int64(8), object(2)\n",
      "memory usage: 97.1+ MB\n"
     ]
    }
   ],
   "source": [
    "df1.info()"
   ]
  },
  {
   "cell_type": "code",
   "execution_count": 5,
   "metadata": {},
   "outputs": [
    {
     "name": "stderr",
     "output_type": "stream",
     "text": [
      "/opt/anaconda3/lib/python3.7/site-packages/ipykernel_launcher.py:1: SettingWithCopyWarning: \n",
      "A value is trying to be set on a copy of a slice from a DataFrame.\n",
      "Try using .loc[row_indexer,col_indexer] = value instead\n",
      "\n",
      "See the caveats in the documentation: http://pandas.pydata.org/pandas-docs/stable/user_guide/indexing.html#returning-a-view-versus-a-copy\n",
      "  \"\"\"Entry point for launching an IPython kernel.\n"
     ]
    }
   ],
   "source": [
    "df1[\"VL_FOB/KG_LIQUIDO\"]=df1[\"VL_FOB\"]/df1[\"KG_LIQUIDO\"]"
   ]
  },
  {
   "cell_type": "code",
   "execution_count": 6,
   "metadata": {},
   "outputs": [
    {
     "name": "stdout",
     "output_type": "stream",
     "text": [
      "<class 'pandas.core.frame.DataFrame'>\n",
      "Int64Index: 978971 entries, 2 to 1764429\n",
      "Data columns (total 13 columns):\n",
      "ANO-MES                978971 non-null object\n",
      "CO_NCM                 978971 non-null int64\n",
      "CO_UNID                978971 non-null int64\n",
      "CO_PAIS                978971 non-null int64\n",
      "SG_UF_NCM              978971 non-null object\n",
      "CO_VIA                 978971 non-null int64\n",
      "CO_URF                 978971 non-null int64\n",
      "QT_ESTAT               978971 non-null int64\n",
      "KG_LIQUIDO             978971 non-null int64\n",
      "VL_FOB                 978971 non-null int64\n",
      "câmbio_mês_atual       978971 non-null float64\n",
      "câmbio_mês_anterior    978971 non-null float64\n",
      "VL_FOB/KG_LIQUIDO      978971 non-null float64\n",
      "dtypes: float64(3), int64(8), object(2)\n",
      "memory usage: 104.6+ MB\n"
     ]
    }
   ],
   "source": [
    "df1.info()"
   ]
  },
  {
   "cell_type": "code",
   "execution_count": 7,
   "metadata": {},
   "outputs": [
    {
     "data": {
      "text/html": [
       "<div>\n",
       "<style scoped>\n",
       "    .dataframe tbody tr th:only-of-type {\n",
       "        vertical-align: middle;\n",
       "    }\n",
       "\n",
       "    .dataframe tbody tr th {\n",
       "        vertical-align: top;\n",
       "    }\n",
       "\n",
       "    .dataframe thead th {\n",
       "        text-align: right;\n",
       "    }\n",
       "</style>\n",
       "<table border=\"1\" class=\"dataframe\">\n",
       "  <thead>\n",
       "    <tr style=\"text-align: right;\">\n",
       "      <th></th>\n",
       "      <th>ANO-MES</th>\n",
       "      <th>CO_NCM</th>\n",
       "      <th>CO_UNID</th>\n",
       "      <th>CO_PAIS</th>\n",
       "      <th>SG_UF_NCM</th>\n",
       "      <th>CO_VIA</th>\n",
       "      <th>CO_URF</th>\n",
       "      <th>QT_ESTAT</th>\n",
       "      <th>KG_LIQUIDO</th>\n",
       "      <th>VL_FOB</th>\n",
       "      <th>câmbio_mês_atual</th>\n",
       "      <th>câmbio_mês_anterior</th>\n",
       "      <th>VL_FOB/KG_LIQUIDO</th>\n",
       "    </tr>\n",
       "  </thead>\n",
       "  <tbody>\n",
       "  </tbody>\n",
       "</table>\n",
       "</div>"
      ],
      "text/plain": [
       "Empty DataFrame\n",
       "Columns: [ANO-MES, CO_NCM, CO_UNID, CO_PAIS, SG_UF_NCM, CO_VIA, CO_URF, QT_ESTAT, KG_LIQUIDO, VL_FOB, câmbio_mês_atual, câmbio_mês_anterior, VL_FOB/KG_LIQUIDO]\n",
       "Index: []"
      ]
     },
     "execution_count": 7,
     "metadata": {},
     "output_type": "execute_result"
    }
   ],
   "source": [
    "df1[df1[\"KG_LIQUIDO\"]==0]"
   ]
  },
  {
   "cell_type": "code",
   "execution_count": 8,
   "metadata": {},
   "outputs": [],
   "source": [
    "# cáculo dos primeiros e terceiros quartis\n",
    "\n",
    "# 25th Percentile\n",
    "def q25(x):\n",
    "    return x.quantile(0.25)\n",
    "\n",
    "# 75th Percentile\n",
    "def q75(x):\n",
    "    return x.quantile(0.75)"
   ]
  },
  {
   "cell_type": "code",
   "execution_count": 10,
   "metadata": {},
   "outputs": [],
   "source": [
    "df2 = df1.groupby([\"CO_NCM\"]).agg({'VL_FOB/KG_LIQUIDO':['count', q25, q75] }).reset_index()"
   ]
  },
  {
   "cell_type": "code",
   "execution_count": 11,
   "metadata": {},
   "outputs": [
    {
     "data": {
      "text/html": [
       "<div>\n",
       "<style scoped>\n",
       "    .dataframe tbody tr th:only-of-type {\n",
       "        vertical-align: middle;\n",
       "    }\n",
       "\n",
       "    .dataframe tbody tr th {\n",
       "        vertical-align: top;\n",
       "    }\n",
       "\n",
       "    .dataframe thead tr th {\n",
       "        text-align: left;\n",
       "    }\n",
       "</style>\n",
       "<table border=\"1\" class=\"dataframe\">\n",
       "  <thead>\n",
       "    <tr>\n",
       "      <th></th>\n",
       "      <th>CO_NCM</th>\n",
       "      <th colspan=\"3\" halign=\"left\">VL_FOB/KG_LIQUIDO</th>\n",
       "    </tr>\n",
       "    <tr>\n",
       "      <th></th>\n",
       "      <th></th>\n",
       "      <th>count</th>\n",
       "      <th>q25</th>\n",
       "      <th>q75</th>\n",
       "    </tr>\n",
       "  </thead>\n",
       "  <tbody>\n",
       "    <tr>\n",
       "      <td>0</td>\n",
       "      <td>2012020</td>\n",
       "      <td>6</td>\n",
       "      <td>12.001786</td>\n",
       "      <td>12.009583</td>\n",
       "    </tr>\n",
       "    <tr>\n",
       "      <td>1</td>\n",
       "      <td>2012090</td>\n",
       "      <td>24</td>\n",
       "      <td>4.397079</td>\n",
       "      <td>8.653053</td>\n",
       "    </tr>\n",
       "    <tr>\n",
       "      <td>2</td>\n",
       "      <td>2013000</td>\n",
       "      <td>177</td>\n",
       "      <td>6.073510</td>\n",
       "      <td>8.917914</td>\n",
       "    </tr>\n",
       "    <tr>\n",
       "      <td>3</td>\n",
       "      <td>2022020</td>\n",
       "      <td>1</td>\n",
       "      <td>12.099119</td>\n",
       "      <td>12.099119</td>\n",
       "    </tr>\n",
       "    <tr>\n",
       "      <td>4</td>\n",
       "      <td>2022090</td>\n",
       "      <td>45</td>\n",
       "      <td>6.300000</td>\n",
       "      <td>8.008107</td>\n",
       "    </tr>\n",
       "  </tbody>\n",
       "</table>\n",
       "</div>"
      ],
      "text/plain": [
       "    CO_NCM VL_FOB/KG_LIQUIDO                      \n",
       "                       count        q25        q75\n",
       "0  2012020                 6  12.001786  12.009583\n",
       "1  2012090                24   4.397079   8.653053\n",
       "2  2013000               177   6.073510   8.917914\n",
       "3  2022020                 1  12.099119  12.099119\n",
       "4  2022090                45   6.300000   8.008107"
      ]
     },
     "execution_count": 11,
     "metadata": {},
     "output_type": "execute_result"
    }
   ],
   "source": [
    "df2.head()"
   ]
  },
  {
   "cell_type": "code",
   "execution_count": 12,
   "metadata": {},
   "outputs": [],
   "source": [
    "df2.columns = df2.columns.droplevel()"
   ]
  },
  {
   "cell_type": "code",
   "execution_count": 16,
   "metadata": {},
   "outputs": [
    {
     "data": {
      "text/plain": [
       "''"
      ]
     },
     "execution_count": 16,
     "metadata": {},
     "output_type": "execute_result"
    }
   ],
   "source": [
    "df2.columns[0]"
   ]
  },
  {
   "cell_type": "code",
   "execution_count": 17,
   "metadata": {},
   "outputs": [],
   "source": [
    "df2.rename(columns={'': 'CO_NCM'}, inplace = True)"
   ]
  },
  {
   "cell_type": "code",
   "execution_count": 20,
   "metadata": {},
   "outputs": [],
   "source": [
    "# cáculo da distância interquartílica\n",
    "df2[\"iqr\"]=df2[\"q75\"]-df2[\"q25\"]"
   ]
  },
  {
   "cell_type": "code",
   "execution_count": 22,
   "metadata": {},
   "outputs": [],
   "source": [
    "# cálculo dos limites inferior e superior para cálculo dos outliers\n",
    "df2[\"lower\"]= df2[\"q25\"] - (df2[\"iqr\"] * 1.5) \n",
    "df2[\"upper\"]= df2[\"q75\"] + (df2[\"iqr\"] * 1.5) "
   ]
  },
  {
   "cell_type": "code",
   "execution_count": null,
   "metadata": {},
   "outputs": [],
   "source": []
  },
  {
   "cell_type": "code",
   "execution_count": null,
   "metadata": {},
   "outputs": [],
   "source": []
  },
  {
   "cell_type": "code",
   "execution_count": 25,
   "metadata": {},
   "outputs": [
    {
     "data": {
      "text/html": [
       "<div>\n",
       "<style scoped>\n",
       "    .dataframe tbody tr th:only-of-type {\n",
       "        vertical-align: middle;\n",
       "    }\n",
       "\n",
       "    .dataframe tbody tr th {\n",
       "        vertical-align: top;\n",
       "    }\n",
       "\n",
       "    .dataframe thead th {\n",
       "        text-align: right;\n",
       "    }\n",
       "</style>\n",
       "<table border=\"1\" class=\"dataframe\">\n",
       "  <thead>\n",
       "    <tr style=\"text-align: right;\">\n",
       "      <th></th>\n",
       "      <th>CO_NCM</th>\n",
       "      <th>count</th>\n",
       "      <th>q25</th>\n",
       "      <th>q75</th>\n",
       "      <th>iqr</th>\n",
       "      <th>lower</th>\n",
       "      <th>upper</th>\n",
       "    </tr>\n",
       "  </thead>\n",
       "  <tbody>\n",
       "    <tr>\n",
       "      <td>0</td>\n",
       "      <td>2012020</td>\n",
       "      <td>6</td>\n",
       "      <td>12.001786</td>\n",
       "      <td>12.009583</td>\n",
       "      <td>0.007798</td>\n",
       "      <td>11.990089</td>\n",
       "      <td>12.021280</td>\n",
       "    </tr>\n",
       "    <tr>\n",
       "      <td>1</td>\n",
       "      <td>2012090</td>\n",
       "      <td>24</td>\n",
       "      <td>4.397079</td>\n",
       "      <td>8.653053</td>\n",
       "      <td>4.255973</td>\n",
       "      <td>-1.986880</td>\n",
       "      <td>15.037012</td>\n",
       "    </tr>\n",
       "    <tr>\n",
       "      <td>2</td>\n",
       "      <td>2013000</td>\n",
       "      <td>177</td>\n",
       "      <td>6.073510</td>\n",
       "      <td>8.917914</td>\n",
       "      <td>2.844403</td>\n",
       "      <td>1.806905</td>\n",
       "      <td>13.184519</td>\n",
       "    </tr>\n",
       "    <tr>\n",
       "      <td>3</td>\n",
       "      <td>2022020</td>\n",
       "      <td>1</td>\n",
       "      <td>12.099119</td>\n",
       "      <td>12.099119</td>\n",
       "      <td>0.000000</td>\n",
       "      <td>12.099119</td>\n",
       "      <td>12.099119</td>\n",
       "    </tr>\n",
       "    <tr>\n",
       "      <td>4</td>\n",
       "      <td>2022090</td>\n",
       "      <td>45</td>\n",
       "      <td>6.300000</td>\n",
       "      <td>8.008107</td>\n",
       "      <td>1.708107</td>\n",
       "      <td>3.737840</td>\n",
       "      <td>10.570267</td>\n",
       "    </tr>\n",
       "  </tbody>\n",
       "</table>\n",
       "</div>"
      ],
      "text/plain": [
       "    CO_NCM  count        q25        q75       iqr      lower      upper\n",
       "0  2012020      6  12.001786  12.009583  0.007798  11.990089  12.021280\n",
       "1  2012090     24   4.397079   8.653053  4.255973  -1.986880  15.037012\n",
       "2  2013000    177   6.073510   8.917914  2.844403   1.806905  13.184519\n",
       "3  2022020      1  12.099119  12.099119  0.000000  12.099119  12.099119\n",
       "4  2022090     45   6.300000   8.008107  1.708107   3.737840  10.570267"
      ]
     },
     "execution_count": 25,
     "metadata": {},
     "output_type": "execute_result"
    }
   ],
   "source": [
    "df2.head()"
   ]
  },
  {
   "cell_type": "code",
   "execution_count": 18,
   "metadata": {},
   "outputs": [],
   "source": []
  },
  {
   "cell_type": "code",
   "execution_count": null,
   "metadata": {},
   "outputs": [],
   "source": []
  },
  {
   "cell_type": "markdown",
   "metadata": {},
   "source": [
    "Realizar o merge do dataframe acima (em quwe foram calculados os limites para fins de apuração dos outliers) com o df1 (dataframe principal, já com o filtro para restringir os registros a CO_UNID = 10)"
   ]
  },
  {
   "cell_type": "code",
   "execution_count": 26,
   "metadata": {},
   "outputs": [
    {
     "data": {
      "text/html": [
       "<div>\n",
       "<style scoped>\n",
       "    .dataframe tbody tr th:only-of-type {\n",
       "        vertical-align: middle;\n",
       "    }\n",
       "\n",
       "    .dataframe tbody tr th {\n",
       "        vertical-align: top;\n",
       "    }\n",
       "\n",
       "    .dataframe thead th {\n",
       "        text-align: right;\n",
       "    }\n",
       "</style>\n",
       "<table border=\"1\" class=\"dataframe\">\n",
       "  <thead>\n",
       "    <tr style=\"text-align: right;\">\n",
       "      <th></th>\n",
       "      <th>ANO-MES</th>\n",
       "      <th>CO_NCM</th>\n",
       "      <th>CO_UNID</th>\n",
       "      <th>CO_PAIS</th>\n",
       "      <th>SG_UF_NCM</th>\n",
       "      <th>CO_VIA</th>\n",
       "      <th>CO_URF</th>\n",
       "      <th>QT_ESTAT</th>\n",
       "      <th>KG_LIQUIDO</th>\n",
       "      <th>VL_FOB</th>\n",
       "      <th>câmbio_mês_atual</th>\n",
       "      <th>câmbio_mês_anterior</th>\n",
       "      <th>VL_FOB/KG_LIQUIDO</th>\n",
       "      <th>count</th>\n",
       "      <th>q25</th>\n",
       "      <th>q75</th>\n",
       "      <th>iqr</th>\n",
       "      <th>lower</th>\n",
       "      <th>upper</th>\n",
       "    </tr>\n",
       "  </thead>\n",
       "  <tbody>\n",
       "    <tr>\n",
       "      <td>0</td>\n",
       "      <td>2019-12</td>\n",
       "      <td>39263000</td>\n",
       "      <td>10</td>\n",
       "      <td>23</td>\n",
       "      <td>SP</td>\n",
       "      <td>1</td>\n",
       "      <td>817800</td>\n",
       "      <td>3951</td>\n",
       "      <td>3951</td>\n",
       "      <td>88311</td>\n",
       "      <td>4.108924</td>\n",
       "      <td>4.154725</td>\n",
       "      <td>22.351557</td>\n",
       "      <td>2687</td>\n",
       "      <td>13.095690</td>\n",
       "      <td>49.192708</td>\n",
       "      <td>36.097018</td>\n",
       "      <td>-41.049838</td>\n",
       "      <td>103.338236</td>\n",
       "    </tr>\n",
       "    <tr>\n",
       "      <td>1</td>\n",
       "      <td>2019-12</td>\n",
       "      <td>38249929</td>\n",
       "      <td>10</td>\n",
       "      <td>493</td>\n",
       "      <td>SP</td>\n",
       "      <td>1</td>\n",
       "      <td>817800</td>\n",
       "      <td>19540</td>\n",
       "      <td>19540</td>\n",
       "      <td>65812</td>\n",
       "      <td>4.108924</td>\n",
       "      <td>4.154725</td>\n",
       "      <td>3.368066</td>\n",
       "      <td>565</td>\n",
       "      <td>3.048369</td>\n",
       "      <td>13.200000</td>\n",
       "      <td>10.151631</td>\n",
       "      <td>-12.179078</td>\n",
       "      <td>28.427447</td>\n",
       "    </tr>\n",
       "    <tr>\n",
       "      <td>2</td>\n",
       "      <td>2019-12</td>\n",
       "      <td>34021300</td>\n",
       "      <td>10</td>\n",
       "      <td>493</td>\n",
       "      <td>BA</td>\n",
       "      <td>1</td>\n",
       "      <td>517800</td>\n",
       "      <td>34400</td>\n",
       "      <td>34400</td>\n",
       "      <td>119356</td>\n",
       "      <td>4.108924</td>\n",
       "      <td>4.154725</td>\n",
       "      <td>3.469651</td>\n",
       "      <td>1176</td>\n",
       "      <td>2.175126</td>\n",
       "      <td>7.769919</td>\n",
       "      <td>5.594793</td>\n",
       "      <td>-6.217064</td>\n",
       "      <td>16.162109</td>\n",
       "    </tr>\n",
       "    <tr>\n",
       "      <td>3</td>\n",
       "      <td>2019-12</td>\n",
       "      <td>85389090</td>\n",
       "      <td>10</td>\n",
       "      <td>386</td>\n",
       "      <td>SC</td>\n",
       "      <td>1</td>\n",
       "      <td>817800</td>\n",
       "      <td>101</td>\n",
       "      <td>101</td>\n",
       "      <td>879</td>\n",
       "      <td>4.108924</td>\n",
       "      <td>4.154725</td>\n",
       "      <td>8.702970</td>\n",
       "      <td>5046</td>\n",
       "      <td>18.662319</td>\n",
       "      <td>124.953757</td>\n",
       "      <td>106.291438</td>\n",
       "      <td>-140.774838</td>\n",
       "      <td>284.390914</td>\n",
       "    </tr>\n",
       "    <tr>\n",
       "      <td>4</td>\n",
       "      <td>2019-12</td>\n",
       "      <td>85030010</td>\n",
       "      <td>10</td>\n",
       "      <td>386</td>\n",
       "      <td>SP</td>\n",
       "      <td>4</td>\n",
       "      <td>817600</td>\n",
       "      <td>835</td>\n",
       "      <td>835</td>\n",
       "      <td>3567</td>\n",
       "      <td>4.108924</td>\n",
       "      <td>4.154725</td>\n",
       "      <td>4.271856</td>\n",
       "      <td>1134</td>\n",
       "      <td>12.105530</td>\n",
       "      <td>69.208333</td>\n",
       "      <td>57.102803</td>\n",
       "      <td>-73.548675</td>\n",
       "      <td>154.862538</td>\n",
       "    </tr>\n",
       "    <tr>\n",
       "      <td>...</td>\n",
       "      <td>...</td>\n",
       "      <td>...</td>\n",
       "      <td>...</td>\n",
       "      <td>...</td>\n",
       "      <td>...</td>\n",
       "      <td>...</td>\n",
       "      <td>...</td>\n",
       "      <td>...</td>\n",
       "      <td>...</td>\n",
       "      <td>...</td>\n",
       "      <td>...</td>\n",
       "      <td>...</td>\n",
       "      <td>...</td>\n",
       "      <td>...</td>\n",
       "      <td>...</td>\n",
       "      <td>...</td>\n",
       "      <td>...</td>\n",
       "      <td>...</td>\n",
       "      <td>...</td>\n",
       "    </tr>\n",
       "    <tr>\n",
       "      <td>978966</td>\n",
       "      <td>2019-08</td>\n",
       "      <td>84339090</td>\n",
       "      <td>10</td>\n",
       "      <td>63</td>\n",
       "      <td>RS</td>\n",
       "      <td>7</td>\n",
       "      <td>1017500</td>\n",
       "      <td>25285</td>\n",
       "      <td>25285</td>\n",
       "      <td>54569</td>\n",
       "      <td>4.019382</td>\n",
       "      <td>3.778713</td>\n",
       "      <td>2.158157</td>\n",
       "      <td>1573</td>\n",
       "      <td>8.976834</td>\n",
       "      <td>30.666667</td>\n",
       "      <td>21.689833</td>\n",
       "      <td>-23.557915</td>\n",
       "      <td>63.201416</td>\n",
       "    </tr>\n",
       "    <tr>\n",
       "      <td>978967</td>\n",
       "      <td>2019-08</td>\n",
       "      <td>29221999</td>\n",
       "      <td>10</td>\n",
       "      <td>767</td>\n",
       "      <td>SP</td>\n",
       "      <td>4</td>\n",
       "      <td>817700</td>\n",
       "      <td>1</td>\n",
       "      <td>1</td>\n",
       "      <td>476</td>\n",
       "      <td>4.019382</td>\n",
       "      <td>3.778713</td>\n",
       "      <td>476.000000</td>\n",
       "      <td>270</td>\n",
       "      <td>17.036928</td>\n",
       "      <td>204.910714</td>\n",
       "      <td>187.873786</td>\n",
       "      <td>-264.773751</td>\n",
       "      <td>486.721394</td>\n",
       "    </tr>\n",
       "    <tr>\n",
       "      <td>978968</td>\n",
       "      <td>2019-08</td>\n",
       "      <td>12122900</td>\n",
       "      <td>10</td>\n",
       "      <td>538</td>\n",
       "      <td>SP</td>\n",
       "      <td>1</td>\n",
       "      <td>817800</td>\n",
       "      <td>5000</td>\n",
       "      <td>5000</td>\n",
       "      <td>45153</td>\n",
       "      <td>4.019382</td>\n",
       "      <td>3.778713</td>\n",
       "      <td>9.030600</td>\n",
       "      <td>72</td>\n",
       "      <td>6.000202</td>\n",
       "      <td>27.957326</td>\n",
       "      <td>21.957124</td>\n",
       "      <td>-26.935483</td>\n",
       "      <td>60.893011</td>\n",
       "    </tr>\n",
       "    <tr>\n",
       "      <td>978969</td>\n",
       "      <td>2019-08</td>\n",
       "      <td>39079919</td>\n",
       "      <td>10</td>\n",
       "      <td>275</td>\n",
       "      <td>SP</td>\n",
       "      <td>1</td>\n",
       "      <td>817800</td>\n",
       "      <td>2560</td>\n",
       "      <td>2560</td>\n",
       "      <td>6943</td>\n",
       "      <td>4.019382</td>\n",
       "      <td>3.778713</td>\n",
       "      <td>2.712109</td>\n",
       "      <td>278</td>\n",
       "      <td>2.088746</td>\n",
       "      <td>5.147684</td>\n",
       "      <td>3.058938</td>\n",
       "      <td>-2.499662</td>\n",
       "      <td>9.736092</td>\n",
       "    </tr>\n",
       "    <tr>\n",
       "      <td>978970</td>\n",
       "      <td>2019-08</td>\n",
       "      <td>30043918</td>\n",
       "      <td>10</td>\n",
       "      <td>767</td>\n",
       "      <td>SP</td>\n",
       "      <td>4</td>\n",
       "      <td>817600</td>\n",
       "      <td>225</td>\n",
       "      <td>225</td>\n",
       "      <td>1216801</td>\n",
       "      <td>4.019382</td>\n",
       "      <td>3.778713</td>\n",
       "      <td>5408.004444</td>\n",
       "      <td>14</td>\n",
       "      <td>206.708136</td>\n",
       "      <td>6394.690500</td>\n",
       "      <td>6187.982363</td>\n",
       "      <td>-9075.265409</td>\n",
       "      <td>15676.664045</td>\n",
       "    </tr>\n",
       "  </tbody>\n",
       "</table>\n",
       "<p>978971 rows × 19 columns</p>\n",
       "</div>"
      ],
      "text/plain": [
       "        ANO-MES    CO_NCM  CO_UNID  CO_PAIS SG_UF_NCM  CO_VIA   CO_URF  \\\n",
       "0       2019-12  39263000       10       23        SP       1   817800   \n",
       "1       2019-12  38249929       10      493        SP       1   817800   \n",
       "2       2019-12  34021300       10      493        BA       1   517800   \n",
       "3       2019-12  85389090       10      386        SC       1   817800   \n",
       "4       2019-12  85030010       10      386        SP       4   817600   \n",
       "...         ...       ...      ...      ...       ...     ...      ...   \n",
       "978966  2019-08  84339090       10       63        RS       7  1017500   \n",
       "978967  2019-08  29221999       10      767        SP       4   817700   \n",
       "978968  2019-08  12122900       10      538        SP       1   817800   \n",
       "978969  2019-08  39079919       10      275        SP       1   817800   \n",
       "978970  2019-08  30043918       10      767        SP       4   817600   \n",
       "\n",
       "        QT_ESTAT  KG_LIQUIDO   VL_FOB  câmbio_mês_atual  câmbio_mês_anterior  \\\n",
       "0           3951        3951    88311          4.108924             4.154725   \n",
       "1          19540       19540    65812          4.108924             4.154725   \n",
       "2          34400       34400   119356          4.108924             4.154725   \n",
       "3            101         101      879          4.108924             4.154725   \n",
       "4            835         835     3567          4.108924             4.154725   \n",
       "...          ...         ...      ...               ...                  ...   \n",
       "978966     25285       25285    54569          4.019382             3.778713   \n",
       "978967         1           1      476          4.019382             3.778713   \n",
       "978968      5000        5000    45153          4.019382             3.778713   \n",
       "978969      2560        2560     6943          4.019382             3.778713   \n",
       "978970       225         225  1216801          4.019382             3.778713   \n",
       "\n",
       "        VL_FOB/KG_LIQUIDO  count         q25          q75          iqr  \\\n",
       "0               22.351557   2687   13.095690    49.192708    36.097018   \n",
       "1                3.368066    565    3.048369    13.200000    10.151631   \n",
       "2                3.469651   1176    2.175126     7.769919     5.594793   \n",
       "3                8.702970   5046   18.662319   124.953757   106.291438   \n",
       "4                4.271856   1134   12.105530    69.208333    57.102803   \n",
       "...                   ...    ...         ...          ...          ...   \n",
       "978966           2.158157   1573    8.976834    30.666667    21.689833   \n",
       "978967         476.000000    270   17.036928   204.910714   187.873786   \n",
       "978968           9.030600     72    6.000202    27.957326    21.957124   \n",
       "978969           2.712109    278    2.088746     5.147684     3.058938   \n",
       "978970        5408.004444     14  206.708136  6394.690500  6187.982363   \n",
       "\n",
       "              lower         upper  \n",
       "0        -41.049838    103.338236  \n",
       "1        -12.179078     28.427447  \n",
       "2         -6.217064     16.162109  \n",
       "3       -140.774838    284.390914  \n",
       "4        -73.548675    154.862538  \n",
       "...             ...           ...  \n",
       "978966   -23.557915     63.201416  \n",
       "978967  -264.773751    486.721394  \n",
       "978968   -26.935483     60.893011  \n",
       "978969    -2.499662      9.736092  \n",
       "978970 -9075.265409  15676.664045  \n",
       "\n",
       "[978971 rows x 19 columns]"
      ]
     },
     "execution_count": 26,
     "metadata": {},
     "output_type": "execute_result"
    }
   ],
   "source": [
    "df3=pd.merge(df1, df2, how='left', on=['CO_NCM'])\n",
    "df3"
   ]
  },
  {
   "cell_type": "code",
   "execution_count": 27,
   "metadata": {},
   "outputs": [],
   "source": [
    "df3[\"eh_outlier\"]=0"
   ]
  },
  {
   "cell_type": "code",
   "execution_count": 28,
   "metadata": {},
   "outputs": [
    {
     "data": {
      "text/plain": [
       "Index(['ANO-MES', 'CO_NCM', 'CO_UNID', 'CO_PAIS', 'SG_UF_NCM', 'CO_VIA',\n",
       "       'CO_URF', 'QT_ESTAT', 'KG_LIQUIDO', 'VL_FOB', 'câmbio_mês_atual',\n",
       "       'câmbio_mês_anterior', 'VL_FOB/KG_LIQUIDO', 'count', 'q25', 'q75',\n",
       "       'iqr', 'lower', 'upper', 'eh_outlier'],\n",
       "      dtype='object')"
      ]
     },
     "execution_count": 28,
     "metadata": {},
     "output_type": "execute_result"
    }
   ],
   "source": [
    "df3.columns"
   ]
  },
  {
   "cell_type": "code",
   "execution_count": 52,
   "metadata": {},
   "outputs": [
    {
     "data": {
      "text/plain": [
       "Int64Index([     0,      1,      2,      3,      4,      5,      6,      7,\n",
       "                 8,      9,\n",
       "            ...\n",
       "            978961, 978962, 978963, 978964, 978965, 978966, 978967, 978968,\n",
       "            978969, 978970],\n",
       "           dtype='int64', length=978971)"
      ]
     },
     "execution_count": 52,
     "metadata": {},
     "output_type": "execute_result"
    }
   ],
   "source": [
    "df3.index"
   ]
  },
  {
   "cell_type": "code",
   "execution_count": 64,
   "metadata": {},
   "outputs": [
    {
     "name": "stderr",
     "output_type": "stream",
     "text": [
      "/opt/anaconda3/lib/python3.7/site-packages/ipykernel_launcher.py:4: SettingWithCopyWarning: \n",
      "A value is trying to be set on a copy of a slice from a DataFrame\n",
      "\n",
      "See the caveats in the documentation: http://pandas.pydata.org/pandas-docs/stable/user_guide/indexing.html#returning-a-view-versus-a-copy\n",
      "  after removing the cwd from sys.path.\n"
     ]
    }
   ],
   "source": [
    "i=0\n",
    "for i in df3.index:\n",
    "    if (df3[\"VL_FOB/KG_LIQUIDO\"][i] < df3[\"lower\"][i]) | (df3[\"VL_FOB/KG_LIQUIDO\"][i] > df3[\"upper\"][i]) :\n",
    "        df3[\"eh_outlier\"][i]=1\n",
    "\n"
   ]
  },
  {
   "cell_type": "code",
   "execution_count": 65,
   "metadata": {},
   "outputs": [
    {
     "data": {
      "text/plain": [
       "0    865951\n",
       "1    113020\n",
       "Name: eh_outlier, dtype: int64"
      ]
     },
     "execution_count": 65,
     "metadata": {},
     "output_type": "execute_result"
    }
   ],
   "source": [
    "# quantidade de outliers (corresponde aos registros iguais a 1):\n",
    "df3[\"eh_outlier\"].value_counts()"
   ]
  },
  {
   "cell_type": "code",
   "execution_count": 72,
   "metadata": {},
   "outputs": [],
   "source": [
    "df4=df3[df3[\"eh_outlier\"]==0]"
   ]
  },
  {
   "cell_type": "markdown",
   "metadata": {},
   "source": [
    "## Na sequência, buscar-se-á repetir os procedimentos já realizados anteriormente (no âmbito do Jupyter Notebook \"04b - modelo ML filtro CO_UNID igual a 10\"), porém, dessa vez, o dataset encontra-se sem os outliers"
   ]
  },
  {
   "cell_type": "markdown",
   "metadata": {},
   "source": [
    "###### Checando códigos NCM recorrentes"
   ]
  },
  {
   "cell_type": "code",
   "execution_count": 74,
   "metadata": {},
   "outputs": [
    {
     "data": {
      "text/html": [
       "<div>\n",
       "<style scoped>\n",
       "    .dataframe tbody tr th:only-of-type {\n",
       "        vertical-align: middle;\n",
       "    }\n",
       "\n",
       "    .dataframe tbody tr th {\n",
       "        vertical-align: top;\n",
       "    }\n",
       "\n",
       "    .dataframe thead th {\n",
       "        text-align: right;\n",
       "    }\n",
       "</style>\n",
       "<table border=\"1\" class=\"dataframe\">\n",
       "  <thead>\n",
       "    <tr style=\"text-align: right;\">\n",
       "      <th></th>\n",
       "      <th>CO_NCM</th>\n",
       "      <th>contagem</th>\n",
       "    </tr>\n",
       "  </thead>\n",
       "  <tbody>\n",
       "    <tr>\n",
       "      <td>3314</td>\n",
       "      <td>39269090</td>\n",
       "      <td>10018</td>\n",
       "    </tr>\n",
       "    <tr>\n",
       "      <td>4912</td>\n",
       "      <td>73181500</td>\n",
       "      <td>8001</td>\n",
       "    </tr>\n",
       "    <tr>\n",
       "      <td>4948</td>\n",
       "      <td>73269090</td>\n",
       "      <td>7239</td>\n",
       "    </tr>\n",
       "    <tr>\n",
       "      <td>3395</td>\n",
       "      <td>40169300</td>\n",
       "      <td>7089</td>\n",
       "    </tr>\n",
       "    <tr>\n",
       "      <td>5542</td>\n",
       "      <td>85444200</td>\n",
       "      <td>6644</td>\n",
       "    </tr>\n",
       "    <tr>\n",
       "      <td>...</td>\n",
       "      <td>...</td>\n",
       "      <td>...</td>\n",
       "    </tr>\n",
       "    <tr>\n",
       "      <td>1270</td>\n",
       "      <td>29042030</td>\n",
       "      <td>1</td>\n",
       "    </tr>\n",
       "    <tr>\n",
       "      <td>3727</td>\n",
       "      <td>52053500</td>\n",
       "      <td>1</td>\n",
       "    </tr>\n",
       "    <tr>\n",
       "      <td>5043</td>\n",
       "      <td>76042911</td>\n",
       "      <td>1</td>\n",
       "    </tr>\n",
       "    <tr>\n",
       "      <td>3717</td>\n",
       "      <td>52051500</td>\n",
       "      <td>1</td>\n",
       "    </tr>\n",
       "    <tr>\n",
       "      <td>3479</td>\n",
       "      <td>48010020</td>\n",
       "      <td>1</td>\n",
       "    </tr>\n",
       "  </tbody>\n",
       "</table>\n",
       "<p>5809 rows × 2 columns</p>\n",
       "</div>"
      ],
      "text/plain": [
       "        CO_NCM  contagem\n",
       "3314  39269090     10018\n",
       "4912  73181500      8001\n",
       "4948  73269090      7239\n",
       "3395  40169300      7089\n",
       "5542  85444200      6644\n",
       "...        ...       ...\n",
       "1270  29042030         1\n",
       "3727  52053500         1\n",
       "5043  76042911         1\n",
       "3717  52051500         1\n",
       "3479  48010020         1\n",
       "\n",
       "[5809 rows x 2 columns]"
      ]
     },
     "execution_count": 74,
     "metadata": {},
     "output_type": "execute_result"
    }
   ],
   "source": [
    "# checando quais os códigos NCM mais recorrentes, tendo em vista que não foi possível \"dummizar\" todos em teste anteriormente realizado\n",
    "g1=df4.groupby(['CO_NCM']).size().reset_index().rename(columns={0:'contagem'})\n",
    "g1.sort_values(by=[\"contagem\"],ascending=False)"
   ]
  },
  {
   "cell_type": "code",
   "execution_count": 75,
   "metadata": {},
   "outputs": [],
   "source": [
    "g1[\"% CO_NCM\"] = g1[\"contagem\"]/(g1[\"contagem\"].sum())"
   ]
  },
  {
   "cell_type": "code",
   "execution_count": 76,
   "metadata": {},
   "outputs": [],
   "source": [
    "g2=g1.sort_values(by=[\"contagem\"],ascending=False)"
   ]
  },
  {
   "cell_type": "code",
   "execution_count": 77,
   "metadata": {},
   "outputs": [],
   "source": [
    "g2[\"% CO_NCM ACUMUL\"]=g2[\"% CO_NCM\"].cumsum()"
   ]
  },
  {
   "cell_type": "code",
   "execution_count": 78,
   "metadata": {},
   "outputs": [
    {
     "data": {
      "text/html": [
       "<div>\n",
       "<style scoped>\n",
       "    .dataframe tbody tr th:only-of-type {\n",
       "        vertical-align: middle;\n",
       "    }\n",
       "\n",
       "    .dataframe tbody tr th {\n",
       "        vertical-align: top;\n",
       "    }\n",
       "\n",
       "    .dataframe thead th {\n",
       "        text-align: right;\n",
       "    }\n",
       "</style>\n",
       "<table border=\"1\" class=\"dataframe\">\n",
       "  <thead>\n",
       "    <tr style=\"text-align: right;\">\n",
       "      <th></th>\n",
       "      <th>CO_NCM</th>\n",
       "      <th>contagem</th>\n",
       "      <th>% CO_NCM</th>\n",
       "      <th>% CO_NCM ACUMUL</th>\n",
       "    </tr>\n",
       "  </thead>\n",
       "  <tbody>\n",
       "    <tr>\n",
       "      <td>3314</td>\n",
       "      <td>39269090</td>\n",
       "      <td>10018</td>\n",
       "      <td>0.011569</td>\n",
       "      <td>0.011569</td>\n",
       "    </tr>\n",
       "    <tr>\n",
       "      <td>4912</td>\n",
       "      <td>73181500</td>\n",
       "      <td>8001</td>\n",
       "      <td>0.009240</td>\n",
       "      <td>0.020808</td>\n",
       "    </tr>\n",
       "    <tr>\n",
       "      <td>4948</td>\n",
       "      <td>73269090</td>\n",
       "      <td>7239</td>\n",
       "      <td>0.008360</td>\n",
       "      <td>0.029168</td>\n",
       "    </tr>\n",
       "    <tr>\n",
       "      <td>3395</td>\n",
       "      <td>40169300</td>\n",
       "      <td>7089</td>\n",
       "      <td>0.008186</td>\n",
       "      <td>0.037354</td>\n",
       "    </tr>\n",
       "    <tr>\n",
       "      <td>5542</td>\n",
       "      <td>85444200</td>\n",
       "      <td>6644</td>\n",
       "      <td>0.007672</td>\n",
       "      <td>0.045027</td>\n",
       "    </tr>\n",
       "  </tbody>\n",
       "</table>\n",
       "</div>"
      ],
      "text/plain": [
       "        CO_NCM  contagem  % CO_NCM  % CO_NCM ACUMUL\n",
       "3314  39269090     10018  0.011569         0.011569\n",
       "4912  73181500      8001  0.009240         0.020808\n",
       "4948  73269090      7239  0.008360         0.029168\n",
       "3395  40169300      7089  0.008186         0.037354\n",
       "5542  85444200      6644  0.007672         0.045027"
      ]
     },
     "execution_count": 78,
     "metadata": {},
     "output_type": "execute_result"
    }
   ],
   "source": [
    "g2.head()"
   ]
  },
  {
   "cell_type": "code",
   "execution_count": 79,
   "metadata": {},
   "outputs": [
    {
     "data": {
      "text/html": [
       "<div>\n",
       "<style scoped>\n",
       "    .dataframe tbody tr th:only-of-type {\n",
       "        vertical-align: middle;\n",
       "    }\n",
       "\n",
       "    .dataframe tbody tr th {\n",
       "        vertical-align: top;\n",
       "    }\n",
       "\n",
       "    .dataframe thead th {\n",
       "        text-align: right;\n",
       "    }\n",
       "</style>\n",
       "<table border=\"1\" class=\"dataframe\">\n",
       "  <thead>\n",
       "    <tr style=\"text-align: right;\">\n",
       "      <th></th>\n",
       "      <th>CO_NCM</th>\n",
       "      <th>contagem</th>\n",
       "      <th>% CO_NCM</th>\n",
       "      <th>% CO_NCM ACUMUL</th>\n",
       "    </tr>\n",
       "  </thead>\n",
       "  <tbody>\n",
       "    <tr>\n",
       "      <td>3314</td>\n",
       "      <td>39269090</td>\n",
       "      <td>10018</td>\n",
       "      <td>0.011569</td>\n",
       "      <td>0.011569</td>\n",
       "    </tr>\n",
       "    <tr>\n",
       "      <td>4912</td>\n",
       "      <td>73181500</td>\n",
       "      <td>8001</td>\n",
       "      <td>0.009240</td>\n",
       "      <td>0.020808</td>\n",
       "    </tr>\n",
       "    <tr>\n",
       "      <td>4948</td>\n",
       "      <td>73269090</td>\n",
       "      <td>7239</td>\n",
       "      <td>0.008360</td>\n",
       "      <td>0.029168</td>\n",
       "    </tr>\n",
       "    <tr>\n",
       "      <td>3395</td>\n",
       "      <td>40169300</td>\n",
       "      <td>7089</td>\n",
       "      <td>0.008186</td>\n",
       "      <td>0.037354</td>\n",
       "    </tr>\n",
       "    <tr>\n",
       "      <td>5542</td>\n",
       "      <td>85444200</td>\n",
       "      <td>6644</td>\n",
       "      <td>0.007672</td>\n",
       "      <td>0.045027</td>\n",
       "    </tr>\n",
       "    <tr>\n",
       "      <td>...</td>\n",
       "      <td>...</td>\n",
       "      <td>...</td>\n",
       "      <td>...</td>\n",
       "      <td>...</td>\n",
       "    </tr>\n",
       "    <tr>\n",
       "      <td>5650</td>\n",
       "      <td>90211091</td>\n",
       "      <td>42</td>\n",
       "      <td>0.000049</td>\n",
       "      <td>0.949782</td>\n",
       "    </tr>\n",
       "    <tr>\n",
       "      <td>644</td>\n",
       "      <td>21032090</td>\n",
       "      <td>42</td>\n",
       "      <td>0.000049</td>\n",
       "      <td>0.949831</td>\n",
       "    </tr>\n",
       "    <tr>\n",
       "      <td>1807</td>\n",
       "      <td>29241992</td>\n",
       "      <td>42</td>\n",
       "      <td>0.000049</td>\n",
       "      <td>0.949879</td>\n",
       "    </tr>\n",
       "    <tr>\n",
       "      <td>5211</td>\n",
       "      <td>82129000</td>\n",
       "      <td>42</td>\n",
       "      <td>0.000049</td>\n",
       "      <td>0.949928</td>\n",
       "    </tr>\n",
       "    <tr>\n",
       "      <td>76</td>\n",
       "      <td>3049400</td>\n",
       "      <td>42</td>\n",
       "      <td>0.000049</td>\n",
       "      <td>0.949976</td>\n",
       "    </tr>\n",
       "  </tbody>\n",
       "</table>\n",
       "<p>2842 rows × 4 columns</p>\n",
       "</div>"
      ],
      "text/plain": [
       "        CO_NCM  contagem  % CO_NCM  % CO_NCM ACUMUL\n",
       "3314  39269090     10018  0.011569         0.011569\n",
       "4912  73181500      8001  0.009240         0.020808\n",
       "4948  73269090      7239  0.008360         0.029168\n",
       "3395  40169300      7089  0.008186         0.037354\n",
       "5542  85444200      6644  0.007672         0.045027\n",
       "...        ...       ...       ...              ...\n",
       "5650  90211091        42  0.000049         0.949782\n",
       "644   21032090        42  0.000049         0.949831\n",
       "1807  29241992        42  0.000049         0.949879\n",
       "5211  82129000        42  0.000049         0.949928\n",
       "76     3049400        42  0.000049         0.949976\n",
       "\n",
       "[2842 rows x 4 columns]"
      ]
     },
     "execution_count": 79,
     "metadata": {},
     "output_type": "execute_result"
    }
   ],
   "source": [
    "# tentando identificar um percentual que viabilize a implementação do modelo (considerando a necessidade de \"dummizar\" a variável CO_NCM, a ideia é reduzir o número de categorias)\n",
    "g3=g2[g2[\"% CO_NCM ACUMUL\"]<=0.95]\n",
    "g3\n",
    "# repare que 95% das ocorrências se restingem a 2842 códigos NCM dentre os 5809."
   ]
  },
  {
   "cell_type": "code",
   "execution_count": 80,
   "metadata": {},
   "outputs": [
    {
     "data": {
      "text/html": [
       "<div>\n",
       "<style scoped>\n",
       "    .dataframe tbody tr th:only-of-type {\n",
       "        vertical-align: middle;\n",
       "    }\n",
       "\n",
       "    .dataframe tbody tr th {\n",
       "        vertical-align: top;\n",
       "    }\n",
       "\n",
       "    .dataframe thead th {\n",
       "        text-align: right;\n",
       "    }\n",
       "</style>\n",
       "<table border=\"1\" class=\"dataframe\">\n",
       "  <thead>\n",
       "    <tr style=\"text-align: right;\">\n",
       "      <th></th>\n",
       "      <th>CO_NCM</th>\n",
       "      <th>contagem</th>\n",
       "      <th>% CO_NCM</th>\n",
       "      <th>% CO_NCM ACUMUL</th>\n",
       "    </tr>\n",
       "  </thead>\n",
       "  <tbody>\n",
       "    <tr>\n",
       "      <td>2167</td>\n",
       "      <td>29362811</td>\n",
       "      <td>42</td>\n",
       "      <td>0.000049</td>\n",
       "      <td>0.950025</td>\n",
       "    </tr>\n",
       "    <tr>\n",
       "      <td>4972</td>\n",
       "      <td>74091100</td>\n",
       "      <td>42</td>\n",
       "      <td>0.000049</td>\n",
       "      <td>0.950073</td>\n",
       "    </tr>\n",
       "    <tr>\n",
       "      <td>1415</td>\n",
       "      <td>29121100</td>\n",
       "      <td>42</td>\n",
       "      <td>0.000049</td>\n",
       "      <td>0.950122</td>\n",
       "    </tr>\n",
       "    <tr>\n",
       "      <td>3626</td>\n",
       "      <td>48203000</td>\n",
       "      <td>42</td>\n",
       "      <td>0.000049</td>\n",
       "      <td>0.950170</td>\n",
       "    </tr>\n",
       "    <tr>\n",
       "      <td>725</td>\n",
       "      <td>25090000</td>\n",
       "      <td>42</td>\n",
       "      <td>0.000049</td>\n",
       "      <td>0.950219</td>\n",
       "    </tr>\n",
       "    <tr>\n",
       "      <td>...</td>\n",
       "      <td>...</td>\n",
       "      <td>...</td>\n",
       "      <td>...</td>\n",
       "      <td>...</td>\n",
       "    </tr>\n",
       "    <tr>\n",
       "      <td>1270</td>\n",
       "      <td>29042030</td>\n",
       "      <td>1</td>\n",
       "      <td>0.000001</td>\n",
       "      <td>0.999995</td>\n",
       "    </tr>\n",
       "    <tr>\n",
       "      <td>3727</td>\n",
       "      <td>52053500</td>\n",
       "      <td>1</td>\n",
       "      <td>0.000001</td>\n",
       "      <td>0.999997</td>\n",
       "    </tr>\n",
       "    <tr>\n",
       "      <td>5043</td>\n",
       "      <td>76042911</td>\n",
       "      <td>1</td>\n",
       "      <td>0.000001</td>\n",
       "      <td>0.999998</td>\n",
       "    </tr>\n",
       "    <tr>\n",
       "      <td>3717</td>\n",
       "      <td>52051500</td>\n",
       "      <td>1</td>\n",
       "      <td>0.000001</td>\n",
       "      <td>0.999999</td>\n",
       "    </tr>\n",
       "    <tr>\n",
       "      <td>3479</td>\n",
       "      <td>48010020</td>\n",
       "      <td>1</td>\n",
       "      <td>0.000001</td>\n",
       "      <td>1.000000</td>\n",
       "    </tr>\n",
       "  </tbody>\n",
       "</table>\n",
       "<p>2967 rows × 4 columns</p>\n",
       "</div>"
      ],
      "text/plain": [
       "        CO_NCM  contagem  % CO_NCM  % CO_NCM ACUMUL\n",
       "2167  29362811        42  0.000049         0.950025\n",
       "4972  74091100        42  0.000049         0.950073\n",
       "1415  29121100        42  0.000049         0.950122\n",
       "3626  48203000        42  0.000049         0.950170\n",
       "725   25090000        42  0.000049         0.950219\n",
       "...        ...       ...       ...              ...\n",
       "1270  29042030         1  0.000001         0.999995\n",
       "3727  52053500         1  0.000001         0.999997\n",
       "5043  76042911         1  0.000001         0.999998\n",
       "3717  52051500         1  0.000001         0.999999\n",
       "3479  48010020         1  0.000001         1.000000\n",
       "\n",
       "[2967 rows x 4 columns]"
      ]
     },
     "execution_count": 80,
     "metadata": {},
     "output_type": "execute_result"
    }
   ],
   "source": [
    "# os 5% que extrapolam o acumulado 95% serão agrupados em uma única categoria, portanto, segue a identificação desses valores:\n",
    "g4=g2[g2[\"% CO_NCM ACUMUL\"]>0.95]\n",
    "g4"
   ]
  },
  {
   "cell_type": "code",
   "execution_count": 81,
   "metadata": {},
   "outputs": [],
   "source": [
    "# obtendo os 5% códigos NCM menos recorrentes, para agrupar como \"outros\" no df1 original\n",
    "idx=g4[\"CO_NCM\"]"
   ]
  },
  {
   "cell_type": "code",
   "execution_count": 82,
   "metadata": {},
   "outputs": [
    {
     "data": {
      "text/plain": [
       "0         False\n",
       "1         False\n",
       "2         False\n",
       "3         False\n",
       "4         False\n",
       "          ...  \n",
       "978966    False\n",
       "978967    False\n",
       "978968    False\n",
       "978969    False\n",
       "978970     True\n",
       "Name: CO_NCM, Length: 865951, dtype: bool"
      ]
     },
     "execution_count": 82,
     "metadata": {},
     "output_type": "execute_result"
    }
   ],
   "source": [
    "mask=df4['CO_NCM'].isin(idx)\n",
    "mask"
   ]
  },
  {
   "cell_type": "code",
   "execution_count": 83,
   "metadata": {},
   "outputs": [
    {
     "name": "stderr",
     "output_type": "stream",
     "text": [
      "/opt/anaconda3/lib/python3.7/site-packages/ipykernel_launcher.py:1: SettingWithCopyWarning: \n",
      "A value is trying to be set on a copy of a slice from a DataFrame.\n",
      "Try using .loc[row_indexer,col_indexer] = value instead\n",
      "\n",
      "See the caveats in the documentation: http://pandas.pydata.org/pandas-docs/stable/user_guide/indexing.html#returning-a-view-versus-a-copy\n",
      "  \"\"\"Entry point for launching an IPython kernel.\n"
     ]
    }
   ],
   "source": [
    "df4[\"CO_NCM_final\"]=df4[\"CO_NCM\"]"
   ]
  },
  {
   "cell_type": "code",
   "execution_count": 84,
   "metadata": {},
   "outputs": [
    {
     "name": "stderr",
     "output_type": "stream",
     "text": [
      "/opt/anaconda3/lib/python3.7/site-packages/pandas/core/indexing.py:494: SettingWithCopyWarning: \n",
      "A value is trying to be set on a copy of a slice from a DataFrame.\n",
      "Try using .loc[row_indexer,col_indexer] = value instead\n",
      "\n",
      "See the caveats in the documentation: http://pandas.pydata.org/pandas-docs/stable/user_guide/indexing.html#returning-a-view-versus-a-copy\n",
      "  self.obj[item] = s\n"
     ]
    }
   ],
   "source": [
    "# substituir os 5% NCM menos recorrentes pelo código 99999999 (alterou-se a coluna auxiliar CO_NCM_final para preservar a original CO_NCM)\n",
    "df4.loc[mask, \"CO_NCM_final\"] = 99999999"
   ]
  },
  {
   "cell_type": "code",
   "execution_count": 85,
   "metadata": {},
   "outputs": [
    {
     "data": {
      "text/html": [
       "<div>\n",
       "<style scoped>\n",
       "    .dataframe tbody tr th:only-of-type {\n",
       "        vertical-align: middle;\n",
       "    }\n",
       "\n",
       "    .dataframe tbody tr th {\n",
       "        vertical-align: top;\n",
       "    }\n",
       "\n",
       "    .dataframe thead th {\n",
       "        text-align: right;\n",
       "    }\n",
       "</style>\n",
       "<table border=\"1\" class=\"dataframe\">\n",
       "  <thead>\n",
       "    <tr style=\"text-align: right;\">\n",
       "      <th></th>\n",
       "      <th>ANO-MES</th>\n",
       "      <th>CO_NCM</th>\n",
       "      <th>CO_UNID</th>\n",
       "      <th>CO_PAIS</th>\n",
       "      <th>SG_UF_NCM</th>\n",
       "      <th>CO_VIA</th>\n",
       "      <th>CO_URF</th>\n",
       "      <th>QT_ESTAT</th>\n",
       "      <th>KG_LIQUIDO</th>\n",
       "      <th>VL_FOB</th>\n",
       "      <th>...</th>\n",
       "      <th>câmbio_mês_anterior</th>\n",
       "      <th>VL_FOB/KG_LIQUIDO</th>\n",
       "      <th>count</th>\n",
       "      <th>q25</th>\n",
       "      <th>q75</th>\n",
       "      <th>iqr</th>\n",
       "      <th>lower</th>\n",
       "      <th>upper</th>\n",
       "      <th>eh_outlier</th>\n",
       "      <th>CO_NCM_final</th>\n",
       "    </tr>\n",
       "  </thead>\n",
       "  <tbody>\n",
       "    <tr>\n",
       "      <td>0</td>\n",
       "      <td>2019-12</td>\n",
       "      <td>39263000</td>\n",
       "      <td>10</td>\n",
       "      <td>23</td>\n",
       "      <td>SP</td>\n",
       "      <td>1</td>\n",
       "      <td>817800</td>\n",
       "      <td>3951</td>\n",
       "      <td>3951</td>\n",
       "      <td>88311</td>\n",
       "      <td>...</td>\n",
       "      <td>4.154725</td>\n",
       "      <td>22.351557</td>\n",
       "      <td>2687</td>\n",
       "      <td>13.095690</td>\n",
       "      <td>49.192708</td>\n",
       "      <td>36.097018</td>\n",
       "      <td>-41.049838</td>\n",
       "      <td>103.338236</td>\n",
       "      <td>0</td>\n",
       "      <td>39263000</td>\n",
       "    </tr>\n",
       "    <tr>\n",
       "      <td>1</td>\n",
       "      <td>2019-12</td>\n",
       "      <td>38249929</td>\n",
       "      <td>10</td>\n",
       "      <td>493</td>\n",
       "      <td>SP</td>\n",
       "      <td>1</td>\n",
       "      <td>817800</td>\n",
       "      <td>19540</td>\n",
       "      <td>19540</td>\n",
       "      <td>65812</td>\n",
       "      <td>...</td>\n",
       "      <td>4.154725</td>\n",
       "      <td>3.368066</td>\n",
       "      <td>565</td>\n",
       "      <td>3.048369</td>\n",
       "      <td>13.200000</td>\n",
       "      <td>10.151631</td>\n",
       "      <td>-12.179078</td>\n",
       "      <td>28.427447</td>\n",
       "      <td>0</td>\n",
       "      <td>38249929</td>\n",
       "    </tr>\n",
       "    <tr>\n",
       "      <td>2</td>\n",
       "      <td>2019-12</td>\n",
       "      <td>34021300</td>\n",
       "      <td>10</td>\n",
       "      <td>493</td>\n",
       "      <td>BA</td>\n",
       "      <td>1</td>\n",
       "      <td>517800</td>\n",
       "      <td>34400</td>\n",
       "      <td>34400</td>\n",
       "      <td>119356</td>\n",
       "      <td>...</td>\n",
       "      <td>4.154725</td>\n",
       "      <td>3.469651</td>\n",
       "      <td>1176</td>\n",
       "      <td>2.175126</td>\n",
       "      <td>7.769919</td>\n",
       "      <td>5.594793</td>\n",
       "      <td>-6.217064</td>\n",
       "      <td>16.162109</td>\n",
       "      <td>0</td>\n",
       "      <td>34021300</td>\n",
       "    </tr>\n",
       "    <tr>\n",
       "      <td>3</td>\n",
       "      <td>2019-12</td>\n",
       "      <td>85389090</td>\n",
       "      <td>10</td>\n",
       "      <td>386</td>\n",
       "      <td>SC</td>\n",
       "      <td>1</td>\n",
       "      <td>817800</td>\n",
       "      <td>101</td>\n",
       "      <td>101</td>\n",
       "      <td>879</td>\n",
       "      <td>...</td>\n",
       "      <td>4.154725</td>\n",
       "      <td>8.702970</td>\n",
       "      <td>5046</td>\n",
       "      <td>18.662319</td>\n",
       "      <td>124.953757</td>\n",
       "      <td>106.291438</td>\n",
       "      <td>-140.774838</td>\n",
       "      <td>284.390914</td>\n",
       "      <td>0</td>\n",
       "      <td>85389090</td>\n",
       "    </tr>\n",
       "    <tr>\n",
       "      <td>4</td>\n",
       "      <td>2019-12</td>\n",
       "      <td>85030010</td>\n",
       "      <td>10</td>\n",
       "      <td>386</td>\n",
       "      <td>SP</td>\n",
       "      <td>4</td>\n",
       "      <td>817600</td>\n",
       "      <td>835</td>\n",
       "      <td>835</td>\n",
       "      <td>3567</td>\n",
       "      <td>...</td>\n",
       "      <td>4.154725</td>\n",
       "      <td>4.271856</td>\n",
       "      <td>1134</td>\n",
       "      <td>12.105530</td>\n",
       "      <td>69.208333</td>\n",
       "      <td>57.102803</td>\n",
       "      <td>-73.548675</td>\n",
       "      <td>154.862538</td>\n",
       "      <td>0</td>\n",
       "      <td>85030010</td>\n",
       "    </tr>\n",
       "    <tr>\n",
       "      <td>...</td>\n",
       "      <td>...</td>\n",
       "      <td>...</td>\n",
       "      <td>...</td>\n",
       "      <td>...</td>\n",
       "      <td>...</td>\n",
       "      <td>...</td>\n",
       "      <td>...</td>\n",
       "      <td>...</td>\n",
       "      <td>...</td>\n",
       "      <td>...</td>\n",
       "      <td>...</td>\n",
       "      <td>...</td>\n",
       "      <td>...</td>\n",
       "      <td>...</td>\n",
       "      <td>...</td>\n",
       "      <td>...</td>\n",
       "      <td>...</td>\n",
       "      <td>...</td>\n",
       "      <td>...</td>\n",
       "      <td>...</td>\n",
       "      <td>...</td>\n",
       "    </tr>\n",
       "    <tr>\n",
       "      <td>978966</td>\n",
       "      <td>2019-08</td>\n",
       "      <td>84339090</td>\n",
       "      <td>10</td>\n",
       "      <td>63</td>\n",
       "      <td>RS</td>\n",
       "      <td>7</td>\n",
       "      <td>1017500</td>\n",
       "      <td>25285</td>\n",
       "      <td>25285</td>\n",
       "      <td>54569</td>\n",
       "      <td>...</td>\n",
       "      <td>3.778713</td>\n",
       "      <td>2.158157</td>\n",
       "      <td>1573</td>\n",
       "      <td>8.976834</td>\n",
       "      <td>30.666667</td>\n",
       "      <td>21.689833</td>\n",
       "      <td>-23.557915</td>\n",
       "      <td>63.201416</td>\n",
       "      <td>0</td>\n",
       "      <td>84339090</td>\n",
       "    </tr>\n",
       "    <tr>\n",
       "      <td>978967</td>\n",
       "      <td>2019-08</td>\n",
       "      <td>29221999</td>\n",
       "      <td>10</td>\n",
       "      <td>767</td>\n",
       "      <td>SP</td>\n",
       "      <td>4</td>\n",
       "      <td>817700</td>\n",
       "      <td>1</td>\n",
       "      <td>1</td>\n",
       "      <td>476</td>\n",
       "      <td>...</td>\n",
       "      <td>3.778713</td>\n",
       "      <td>476.000000</td>\n",
       "      <td>270</td>\n",
       "      <td>17.036928</td>\n",
       "      <td>204.910714</td>\n",
       "      <td>187.873786</td>\n",
       "      <td>-264.773751</td>\n",
       "      <td>486.721394</td>\n",
       "      <td>0</td>\n",
       "      <td>29221999</td>\n",
       "    </tr>\n",
       "    <tr>\n",
       "      <td>978968</td>\n",
       "      <td>2019-08</td>\n",
       "      <td>12122900</td>\n",
       "      <td>10</td>\n",
       "      <td>538</td>\n",
       "      <td>SP</td>\n",
       "      <td>1</td>\n",
       "      <td>817800</td>\n",
       "      <td>5000</td>\n",
       "      <td>5000</td>\n",
       "      <td>45153</td>\n",
       "      <td>...</td>\n",
       "      <td>3.778713</td>\n",
       "      <td>9.030600</td>\n",
       "      <td>72</td>\n",
       "      <td>6.000202</td>\n",
       "      <td>27.957326</td>\n",
       "      <td>21.957124</td>\n",
       "      <td>-26.935483</td>\n",
       "      <td>60.893011</td>\n",
       "      <td>0</td>\n",
       "      <td>12122900</td>\n",
       "    </tr>\n",
       "    <tr>\n",
       "      <td>978969</td>\n",
       "      <td>2019-08</td>\n",
       "      <td>39079919</td>\n",
       "      <td>10</td>\n",
       "      <td>275</td>\n",
       "      <td>SP</td>\n",
       "      <td>1</td>\n",
       "      <td>817800</td>\n",
       "      <td>2560</td>\n",
       "      <td>2560</td>\n",
       "      <td>6943</td>\n",
       "      <td>...</td>\n",
       "      <td>3.778713</td>\n",
       "      <td>2.712109</td>\n",
       "      <td>278</td>\n",
       "      <td>2.088746</td>\n",
       "      <td>5.147684</td>\n",
       "      <td>3.058938</td>\n",
       "      <td>-2.499662</td>\n",
       "      <td>9.736092</td>\n",
       "      <td>0</td>\n",
       "      <td>39079919</td>\n",
       "    </tr>\n",
       "    <tr>\n",
       "      <td>978970</td>\n",
       "      <td>2019-08</td>\n",
       "      <td>30043918</td>\n",
       "      <td>10</td>\n",
       "      <td>767</td>\n",
       "      <td>SP</td>\n",
       "      <td>4</td>\n",
       "      <td>817600</td>\n",
       "      <td>225</td>\n",
       "      <td>225</td>\n",
       "      <td>1216801</td>\n",
       "      <td>...</td>\n",
       "      <td>3.778713</td>\n",
       "      <td>5408.004444</td>\n",
       "      <td>14</td>\n",
       "      <td>206.708136</td>\n",
       "      <td>6394.690500</td>\n",
       "      <td>6187.982363</td>\n",
       "      <td>-9075.265409</td>\n",
       "      <td>15676.664045</td>\n",
       "      <td>0</td>\n",
       "      <td>99999999</td>\n",
       "    </tr>\n",
       "  </tbody>\n",
       "</table>\n",
       "<p>865951 rows × 21 columns</p>\n",
       "</div>"
      ],
      "text/plain": [
       "        ANO-MES    CO_NCM  CO_UNID  CO_PAIS SG_UF_NCM  CO_VIA   CO_URF  \\\n",
       "0       2019-12  39263000       10       23        SP       1   817800   \n",
       "1       2019-12  38249929       10      493        SP       1   817800   \n",
       "2       2019-12  34021300       10      493        BA       1   517800   \n",
       "3       2019-12  85389090       10      386        SC       1   817800   \n",
       "4       2019-12  85030010       10      386        SP       4   817600   \n",
       "...         ...       ...      ...      ...       ...     ...      ...   \n",
       "978966  2019-08  84339090       10       63        RS       7  1017500   \n",
       "978967  2019-08  29221999       10      767        SP       4   817700   \n",
       "978968  2019-08  12122900       10      538        SP       1   817800   \n",
       "978969  2019-08  39079919       10      275        SP       1   817800   \n",
       "978970  2019-08  30043918       10      767        SP       4   817600   \n",
       "\n",
       "        QT_ESTAT  KG_LIQUIDO   VL_FOB  ...  câmbio_mês_anterior  \\\n",
       "0           3951        3951    88311  ...             4.154725   \n",
       "1          19540       19540    65812  ...             4.154725   \n",
       "2          34400       34400   119356  ...             4.154725   \n",
       "3            101         101      879  ...             4.154725   \n",
       "4            835         835     3567  ...             4.154725   \n",
       "...          ...         ...      ...  ...                  ...   \n",
       "978966     25285       25285    54569  ...             3.778713   \n",
       "978967         1           1      476  ...             3.778713   \n",
       "978968      5000        5000    45153  ...             3.778713   \n",
       "978969      2560        2560     6943  ...             3.778713   \n",
       "978970       225         225  1216801  ...             3.778713   \n",
       "\n",
       "        VL_FOB/KG_LIQUIDO  count         q25          q75          iqr  \\\n",
       "0               22.351557   2687   13.095690    49.192708    36.097018   \n",
       "1                3.368066    565    3.048369    13.200000    10.151631   \n",
       "2                3.469651   1176    2.175126     7.769919     5.594793   \n",
       "3                8.702970   5046   18.662319   124.953757   106.291438   \n",
       "4                4.271856   1134   12.105530    69.208333    57.102803   \n",
       "...                   ...    ...         ...          ...          ...   \n",
       "978966           2.158157   1573    8.976834    30.666667    21.689833   \n",
       "978967         476.000000    270   17.036928   204.910714   187.873786   \n",
       "978968           9.030600     72    6.000202    27.957326    21.957124   \n",
       "978969           2.712109    278    2.088746     5.147684     3.058938   \n",
       "978970        5408.004444     14  206.708136  6394.690500  6187.982363   \n",
       "\n",
       "              lower         upper  eh_outlier  CO_NCM_final  \n",
       "0        -41.049838    103.338236           0      39263000  \n",
       "1        -12.179078     28.427447           0      38249929  \n",
       "2         -6.217064     16.162109           0      34021300  \n",
       "3       -140.774838    284.390914           0      85389090  \n",
       "4        -73.548675    154.862538           0      85030010  \n",
       "...             ...           ...         ...           ...  \n",
       "978966   -23.557915     63.201416           0      84339090  \n",
       "978967  -264.773751    486.721394           0      29221999  \n",
       "978968   -26.935483     60.893011           0      12122900  \n",
       "978969    -2.499662      9.736092           0      39079919  \n",
       "978970 -9075.265409  15676.664045           0      99999999  \n",
       "\n",
       "[865951 rows x 21 columns]"
      ]
     },
     "execution_count": 85,
     "metadata": {},
     "output_type": "execute_result"
    }
   ],
   "source": [
    "df4"
   ]
  },
  {
   "cell_type": "code",
   "execution_count": 86,
   "metadata": {
    "scrolled": true
   },
   "outputs": [
    {
     "data": {
      "text/plain": [
       "99999999    43318\n",
       "39269090    10018\n",
       "73181500     8001\n",
       "73269090     7239\n",
       "40169300     7089\n",
       "            ...  \n",
       "82129000       42\n",
       "3049400        42\n",
       "90211091       42\n",
       "21032090       42\n",
       "29241992       42\n",
       "Name: CO_NCM_final, Length: 2843, dtype: int64"
      ]
     },
     "execution_count": 86,
     "metadata": {},
     "output_type": "execute_result"
    }
   ],
   "source": [
    "df4[\"CO_NCM_final\"].value_counts()"
   ]
  },
  {
   "cell_type": "markdown",
   "metadata": {},
   "source": [
    "###### Não há necessidade de trabalhar com a variável ref aos códigos UNID MED EST (CO_UNID) recorrentes, pois o df está restrito ao CO_UNID=10"
   ]
  },
  {
   "cell_type": "markdown",
   "metadata": {},
   "source": [
    "###### Checando países (CO_PAIS) recorrentes"
   ]
  },
  {
   "cell_type": "code",
   "execution_count": 87,
   "metadata": {},
   "outputs": [
    {
     "data": {
      "text/html": [
       "<div>\n",
       "<style scoped>\n",
       "    .dataframe tbody tr th:only-of-type {\n",
       "        vertical-align: middle;\n",
       "    }\n",
       "\n",
       "    .dataframe tbody tr th {\n",
       "        vertical-align: top;\n",
       "    }\n",
       "\n",
       "    .dataframe thead th {\n",
       "        text-align: right;\n",
       "    }\n",
       "</style>\n",
       "<table border=\"1\" class=\"dataframe\">\n",
       "  <thead>\n",
       "    <tr style=\"text-align: right;\">\n",
       "      <th></th>\n",
       "      <th>CO_PAIS</th>\n",
       "      <th>contagem</th>\n",
       "    </tr>\n",
       "  </thead>\n",
       "  <tbody>\n",
       "    <tr>\n",
       "      <td>39</td>\n",
       "      <td>160</td>\n",
       "      <td>174317</td>\n",
       "    </tr>\n",
       "    <tr>\n",
       "      <td>61</td>\n",
       "      <td>249</td>\n",
       "      <td>99778</td>\n",
       "    </tr>\n",
       "    <tr>\n",
       "      <td>3</td>\n",
       "      <td>23</td>\n",
       "      <td>75498</td>\n",
       "    </tr>\n",
       "    <tr>\n",
       "      <td>96</td>\n",
       "      <td>386</td>\n",
       "      <td>51481</td>\n",
       "    </tr>\n",
       "    <tr>\n",
       "      <td>68</td>\n",
       "      <td>275</td>\n",
       "      <td>31606</td>\n",
       "    </tr>\n",
       "    <tr>\n",
       "      <td>...</td>\n",
       "      <td>...</td>\n",
       "      <td>...</td>\n",
       "    </tr>\n",
       "    <tr>\n",
       "      <td>164</td>\n",
       "      <td>695</td>\n",
       "      <td>1</td>\n",
       "    </tr>\n",
       "    <tr>\n",
       "      <td>139</td>\n",
       "      <td>551</td>\n",
       "      <td>1</td>\n",
       "    </tr>\n",
       "    <tr>\n",
       "      <td>42</td>\n",
       "      <td>165</td>\n",
       "      <td>1</td>\n",
       "    </tr>\n",
       "    <tr>\n",
       "      <td>65</td>\n",
       "      <td>259</td>\n",
       "      <td>1</td>\n",
       "    </tr>\n",
       "    <tr>\n",
       "      <td>206</td>\n",
       "      <td>994</td>\n",
       "      <td>1</td>\n",
       "    </tr>\n",
       "  </tbody>\n",
       "</table>\n",
       "<p>207 rows × 2 columns</p>\n",
       "</div>"
      ],
      "text/plain": [
       "     CO_PAIS  contagem\n",
       "39       160    174317\n",
       "61       249     99778\n",
       "3         23     75498\n",
       "96       386     51481\n",
       "68       275     31606\n",
       "..       ...       ...\n",
       "164      695         1\n",
       "139      551         1\n",
       "42       165         1\n",
       "65       259         1\n",
       "206      994         1\n",
       "\n",
       "[207 rows x 2 columns]"
      ]
     },
     "execution_count": 87,
     "metadata": {},
     "output_type": "execute_result"
    }
   ],
   "source": [
    "g1=df4.groupby(['CO_PAIS']).size().reset_index().rename(columns={0:'contagem'})\n",
    "g1.sort_values(by=[\"contagem\"],ascending=False)"
   ]
  },
  {
   "cell_type": "code",
   "execution_count": 88,
   "metadata": {},
   "outputs": [],
   "source": [
    "g1[\"% CO_PAIS\"] = g1[\"contagem\"]/(g1[\"contagem\"].sum())"
   ]
  },
  {
   "cell_type": "code",
   "execution_count": 89,
   "metadata": {},
   "outputs": [],
   "source": [
    "g2=g1.sort_values(by=[\"contagem\"],ascending=False)"
   ]
  },
  {
   "cell_type": "code",
   "execution_count": 90,
   "metadata": {},
   "outputs": [],
   "source": [
    "g2[\"% CO_PAIS ACUMUL\"]=g2[\"% CO_PAIS\"].cumsum()"
   ]
  },
  {
   "cell_type": "code",
   "execution_count": 91,
   "metadata": {},
   "outputs": [
    {
     "data": {
      "text/html": [
       "<div>\n",
       "<style scoped>\n",
       "    .dataframe tbody tr th:only-of-type {\n",
       "        vertical-align: middle;\n",
       "    }\n",
       "\n",
       "    .dataframe tbody tr th {\n",
       "        vertical-align: top;\n",
       "    }\n",
       "\n",
       "    .dataframe thead th {\n",
       "        text-align: right;\n",
       "    }\n",
       "</style>\n",
       "<table border=\"1\" class=\"dataframe\">\n",
       "  <thead>\n",
       "    <tr style=\"text-align: right;\">\n",
       "      <th></th>\n",
       "      <th>CO_PAIS</th>\n",
       "      <th>contagem</th>\n",
       "      <th>% CO_PAIS</th>\n",
       "      <th>% CO_PAIS ACUMUL</th>\n",
       "    </tr>\n",
       "  </thead>\n",
       "  <tbody>\n",
       "    <tr>\n",
       "      <td>39</td>\n",
       "      <td>160</td>\n",
       "      <td>174317</td>\n",
       "      <td>0.201301</td>\n",
       "      <td>0.201301</td>\n",
       "    </tr>\n",
       "    <tr>\n",
       "      <td>61</td>\n",
       "      <td>249</td>\n",
       "      <td>99778</td>\n",
       "      <td>0.115224</td>\n",
       "      <td>0.316525</td>\n",
       "    </tr>\n",
       "    <tr>\n",
       "      <td>3</td>\n",
       "      <td>23</td>\n",
       "      <td>75498</td>\n",
       "      <td>0.087185</td>\n",
       "      <td>0.403710</td>\n",
       "    </tr>\n",
       "    <tr>\n",
       "      <td>96</td>\n",
       "      <td>386</td>\n",
       "      <td>51481</td>\n",
       "      <td>0.059450</td>\n",
       "      <td>0.463160</td>\n",
       "    </tr>\n",
       "    <tr>\n",
       "      <td>68</td>\n",
       "      <td>275</td>\n",
       "      <td>31606</td>\n",
       "      <td>0.036499</td>\n",
       "      <td>0.499659</td>\n",
       "    </tr>\n",
       "  </tbody>\n",
       "</table>\n",
       "</div>"
      ],
      "text/plain": [
       "    CO_PAIS  contagem  % CO_PAIS  % CO_PAIS ACUMUL\n",
       "39      160    174317   0.201301          0.201301\n",
       "61      249     99778   0.115224          0.316525\n",
       "3        23     75498   0.087185          0.403710\n",
       "96      386     51481   0.059450          0.463160\n",
       "68      275     31606   0.036499          0.499659"
      ]
     },
     "execution_count": 91,
     "metadata": {},
     "output_type": "execute_result"
    }
   ],
   "source": [
    "g2.head()"
   ]
  },
  {
   "cell_type": "code",
   "execution_count": 93,
   "metadata": {},
   "outputs": [
    {
     "name": "stdout",
     "output_type": "stream",
     "text": [
      "<class 'pandas.core.frame.DataFrame'>\n",
      "Int64Index: 39 entries, 39 to 60\n",
      "Data columns (total 4 columns):\n",
      "CO_PAIS             39 non-null int64\n",
      "contagem            39 non-null int64\n",
      "% CO_PAIS           39 non-null float64\n",
      "% CO_PAIS ACUMUL    39 non-null float64\n",
      "dtypes: float64(2), int64(2)\n",
      "memory usage: 1.5 KB\n"
     ]
    }
   ],
   "source": [
    "# tentando identificar um percentual que viabilize a implementação do modelo (considerando a necessidade de \"dummizar\" a variável CO_NCM, a ideia é reduzir o número de categorias)\n",
    "g3=g2[g2[\"% CO_PAIS ACUMUL\"]<=0.95]\n",
    "g3.info()\n",
    "# repare que 95% das ocorrências se restringem a 39 países dentre os 207."
   ]
  },
  {
   "cell_type": "code",
   "execution_count": 94,
   "metadata": {},
   "outputs": [
    {
     "data": {
      "text/html": [
       "<div>\n",
       "<style scoped>\n",
       "    .dataframe tbody tr th:only-of-type {\n",
       "        vertical-align: middle;\n",
       "    }\n",
       "\n",
       "    .dataframe tbody tr th {\n",
       "        vertical-align: top;\n",
       "    }\n",
       "\n",
       "    .dataframe thead th {\n",
       "        text-align: right;\n",
       "    }\n",
       "</style>\n",
       "<table border=\"1\" class=\"dataframe\">\n",
       "  <thead>\n",
       "    <tr style=\"text-align: right;\">\n",
       "      <th></th>\n",
       "      <th>CO_PAIS</th>\n",
       "      <th>contagem</th>\n",
       "      <th>% CO_PAIS</th>\n",
       "      <th>% CO_PAIS ACUMUL</th>\n",
       "    </tr>\n",
       "  </thead>\n",
       "  <tbody>\n",
       "    <tr>\n",
       "      <td>146</td>\n",
       "      <td>586</td>\n",
       "      <td>3205</td>\n",
       "      <td>0.003701</td>\n",
       "      <td>0.953381</td>\n",
       "    </tr>\n",
       "    <tr>\n",
       "      <td>160</td>\n",
       "      <td>676</td>\n",
       "      <td>2802</td>\n",
       "      <td>0.003236</td>\n",
       "      <td>0.956616</td>\n",
       "    </tr>\n",
       "    <tr>\n",
       "      <td>135</td>\n",
       "      <td>538</td>\n",
       "      <td>2589</td>\n",
       "      <td>0.002990</td>\n",
       "      <td>0.959606</td>\n",
       "    </tr>\n",
       "    <tr>\n",
       "      <td>147</td>\n",
       "      <td>589</td>\n",
       "      <td>2485</td>\n",
       "      <td>0.002870</td>\n",
       "      <td>0.962476</td>\n",
       "    </tr>\n",
       "    <tr>\n",
       "      <td>93</td>\n",
       "      <td>375</td>\n",
       "      <td>2469</td>\n",
       "      <td>0.002851</td>\n",
       "      <td>0.965327</td>\n",
       "    </tr>\n",
       "    <tr>\n",
       "      <td>...</td>\n",
       "      <td>...</td>\n",
       "      <td>...</td>\n",
       "      <td>...</td>\n",
       "      <td>...</td>\n",
       "    </tr>\n",
       "    <tr>\n",
       "      <td>164</td>\n",
       "      <td>695</td>\n",
       "      <td>1</td>\n",
       "      <td>0.000001</td>\n",
       "      <td>0.999995</td>\n",
       "    </tr>\n",
       "    <tr>\n",
       "      <td>139</td>\n",
       "      <td>551</td>\n",
       "      <td>1</td>\n",
       "      <td>0.000001</td>\n",
       "      <td>0.999997</td>\n",
       "    </tr>\n",
       "    <tr>\n",
       "      <td>42</td>\n",
       "      <td>165</td>\n",
       "      <td>1</td>\n",
       "      <td>0.000001</td>\n",
       "      <td>0.999998</td>\n",
       "    </tr>\n",
       "    <tr>\n",
       "      <td>65</td>\n",
       "      <td>259</td>\n",
       "      <td>1</td>\n",
       "      <td>0.000001</td>\n",
       "      <td>0.999999</td>\n",
       "    </tr>\n",
       "    <tr>\n",
       "      <td>206</td>\n",
       "      <td>994</td>\n",
       "      <td>1</td>\n",
       "      <td>0.000001</td>\n",
       "      <td>1.000000</td>\n",
       "    </tr>\n",
       "  </tbody>\n",
       "</table>\n",
       "<p>168 rows × 4 columns</p>\n",
       "</div>"
      ],
      "text/plain": [
       "     CO_PAIS  contagem  % CO_PAIS  % CO_PAIS ACUMUL\n",
       "146      586      3205   0.003701          0.953381\n",
       "160      676      2802   0.003236          0.956616\n",
       "135      538      2589   0.002990          0.959606\n",
       "147      589      2485   0.002870          0.962476\n",
       "93       375      2469   0.002851          0.965327\n",
       "..       ...       ...        ...               ...\n",
       "164      695         1   0.000001          0.999995\n",
       "139      551         1   0.000001          0.999997\n",
       "42       165         1   0.000001          0.999998\n",
       "65       259         1   0.000001          0.999999\n",
       "206      994         1   0.000001          1.000000\n",
       "\n",
       "[168 rows x 4 columns]"
      ]
     },
     "execution_count": 94,
     "metadata": {},
     "output_type": "execute_result"
    }
   ],
   "source": [
    "# os 5% que extrapolam o acumulado 95% serão agrupados em uma única categoria, portanto, segue a identificação desses valores:\n",
    "g4=g2[g2[\"% CO_PAIS ACUMUL\"]>0.95]\n",
    "g4"
   ]
  },
  {
   "cell_type": "code",
   "execution_count": 95,
   "metadata": {},
   "outputs": [],
   "source": [
    "# obtendo os 5% países menos recorrentes, para agrupar como \"outros\" no df original\n",
    "idx=g4[\"CO_PAIS\"]"
   ]
  },
  {
   "cell_type": "code",
   "execution_count": 100,
   "metadata": {},
   "outputs": [
    {
     "data": {
      "text/plain": [
       "0         False\n",
       "1         False\n",
       "2         False\n",
       "3         False\n",
       "4         False\n",
       "          ...  \n",
       "978966    False\n",
       "978967    False\n",
       "978968     True\n",
       "978969    False\n",
       "978970    False\n",
       "Name: CO_PAIS, Length: 865951, dtype: bool"
      ]
     },
     "execution_count": 100,
     "metadata": {},
     "output_type": "execute_result"
    }
   ],
   "source": [
    "mask=df4['CO_PAIS'].isin(idx)\n",
    "mask"
   ]
  },
  {
   "cell_type": "code",
   "execution_count": 101,
   "metadata": {},
   "outputs": [
    {
     "name": "stderr",
     "output_type": "stream",
     "text": [
      "/opt/anaconda3/lib/python3.7/site-packages/ipykernel_launcher.py:1: SettingWithCopyWarning: \n",
      "A value is trying to be set on a copy of a slice from a DataFrame.\n",
      "Try using .loc[row_indexer,col_indexer] = value instead\n",
      "\n",
      "See the caveats in the documentation: http://pandas.pydata.org/pandas-docs/stable/user_guide/indexing.html#returning-a-view-versus-a-copy\n",
      "  \"\"\"Entry point for launching an IPython kernel.\n"
     ]
    }
   ],
   "source": [
    "df4[\"CO_PAIS_final\"]=df4[\"CO_PAIS\"]"
   ]
  },
  {
   "cell_type": "code",
   "execution_count": 102,
   "metadata": {},
   "outputs": [],
   "source": [
    "# substituir os 5% NCM menos recorrentes pelo código 99999999 (alterou-se a coluna auxiliar CO_PAIS_final para preservar a original CO_PAIS)\n",
    "df4.loc[mask, \"CO_PAIS_final\"] = 999"
   ]
  },
  {
   "cell_type": "code",
   "execution_count": 103,
   "metadata": {},
   "outputs": [
    {
     "data": {
      "text/html": [
       "<div>\n",
       "<style scoped>\n",
       "    .dataframe tbody tr th:only-of-type {\n",
       "        vertical-align: middle;\n",
       "    }\n",
       "\n",
       "    .dataframe tbody tr th {\n",
       "        vertical-align: top;\n",
       "    }\n",
       "\n",
       "    .dataframe thead th {\n",
       "        text-align: right;\n",
       "    }\n",
       "</style>\n",
       "<table border=\"1\" class=\"dataframe\">\n",
       "  <thead>\n",
       "    <tr style=\"text-align: right;\">\n",
       "      <th></th>\n",
       "      <th>ANO-MES</th>\n",
       "      <th>CO_NCM</th>\n",
       "      <th>CO_UNID</th>\n",
       "      <th>CO_PAIS</th>\n",
       "      <th>SG_UF_NCM</th>\n",
       "      <th>CO_VIA</th>\n",
       "      <th>CO_URF</th>\n",
       "      <th>QT_ESTAT</th>\n",
       "      <th>KG_LIQUIDO</th>\n",
       "      <th>VL_FOB</th>\n",
       "      <th>...</th>\n",
       "      <th>VL_FOB/KG_LIQUIDO</th>\n",
       "      <th>count</th>\n",
       "      <th>q25</th>\n",
       "      <th>q75</th>\n",
       "      <th>iqr</th>\n",
       "      <th>lower</th>\n",
       "      <th>upper</th>\n",
       "      <th>eh_outlier</th>\n",
       "      <th>CO_NCM_final</th>\n",
       "      <th>CO_PAIS_final</th>\n",
       "    </tr>\n",
       "  </thead>\n",
       "  <tbody>\n",
       "    <tr>\n",
       "      <td>0</td>\n",
       "      <td>2019-12</td>\n",
       "      <td>39263000</td>\n",
       "      <td>10</td>\n",
       "      <td>23</td>\n",
       "      <td>SP</td>\n",
       "      <td>1</td>\n",
       "      <td>817800</td>\n",
       "      <td>3951</td>\n",
       "      <td>3951</td>\n",
       "      <td>88311</td>\n",
       "      <td>...</td>\n",
       "      <td>22.351557</td>\n",
       "      <td>2687</td>\n",
       "      <td>13.095690</td>\n",
       "      <td>49.192708</td>\n",
       "      <td>36.097018</td>\n",
       "      <td>-41.049838</td>\n",
       "      <td>103.338236</td>\n",
       "      <td>0</td>\n",
       "      <td>39263000</td>\n",
       "      <td>23</td>\n",
       "    </tr>\n",
       "    <tr>\n",
       "      <td>1</td>\n",
       "      <td>2019-12</td>\n",
       "      <td>38249929</td>\n",
       "      <td>10</td>\n",
       "      <td>493</td>\n",
       "      <td>SP</td>\n",
       "      <td>1</td>\n",
       "      <td>817800</td>\n",
       "      <td>19540</td>\n",
       "      <td>19540</td>\n",
       "      <td>65812</td>\n",
       "      <td>...</td>\n",
       "      <td>3.368066</td>\n",
       "      <td>565</td>\n",
       "      <td>3.048369</td>\n",
       "      <td>13.200000</td>\n",
       "      <td>10.151631</td>\n",
       "      <td>-12.179078</td>\n",
       "      <td>28.427447</td>\n",
       "      <td>0</td>\n",
       "      <td>38249929</td>\n",
       "      <td>493</td>\n",
       "    </tr>\n",
       "    <tr>\n",
       "      <td>2</td>\n",
       "      <td>2019-12</td>\n",
       "      <td>34021300</td>\n",
       "      <td>10</td>\n",
       "      <td>493</td>\n",
       "      <td>BA</td>\n",
       "      <td>1</td>\n",
       "      <td>517800</td>\n",
       "      <td>34400</td>\n",
       "      <td>34400</td>\n",
       "      <td>119356</td>\n",
       "      <td>...</td>\n",
       "      <td>3.469651</td>\n",
       "      <td>1176</td>\n",
       "      <td>2.175126</td>\n",
       "      <td>7.769919</td>\n",
       "      <td>5.594793</td>\n",
       "      <td>-6.217064</td>\n",
       "      <td>16.162109</td>\n",
       "      <td>0</td>\n",
       "      <td>34021300</td>\n",
       "      <td>493</td>\n",
       "    </tr>\n",
       "    <tr>\n",
       "      <td>3</td>\n",
       "      <td>2019-12</td>\n",
       "      <td>85389090</td>\n",
       "      <td>10</td>\n",
       "      <td>386</td>\n",
       "      <td>SC</td>\n",
       "      <td>1</td>\n",
       "      <td>817800</td>\n",
       "      <td>101</td>\n",
       "      <td>101</td>\n",
       "      <td>879</td>\n",
       "      <td>...</td>\n",
       "      <td>8.702970</td>\n",
       "      <td>5046</td>\n",
       "      <td>18.662319</td>\n",
       "      <td>124.953757</td>\n",
       "      <td>106.291438</td>\n",
       "      <td>-140.774838</td>\n",
       "      <td>284.390914</td>\n",
       "      <td>0</td>\n",
       "      <td>85389090</td>\n",
       "      <td>386</td>\n",
       "    </tr>\n",
       "    <tr>\n",
       "      <td>4</td>\n",
       "      <td>2019-12</td>\n",
       "      <td>85030010</td>\n",
       "      <td>10</td>\n",
       "      <td>386</td>\n",
       "      <td>SP</td>\n",
       "      <td>4</td>\n",
       "      <td>817600</td>\n",
       "      <td>835</td>\n",
       "      <td>835</td>\n",
       "      <td>3567</td>\n",
       "      <td>...</td>\n",
       "      <td>4.271856</td>\n",
       "      <td>1134</td>\n",
       "      <td>12.105530</td>\n",
       "      <td>69.208333</td>\n",
       "      <td>57.102803</td>\n",
       "      <td>-73.548675</td>\n",
       "      <td>154.862538</td>\n",
       "      <td>0</td>\n",
       "      <td>85030010</td>\n",
       "      <td>386</td>\n",
       "    </tr>\n",
       "    <tr>\n",
       "      <td>...</td>\n",
       "      <td>...</td>\n",
       "      <td>...</td>\n",
       "      <td>...</td>\n",
       "      <td>...</td>\n",
       "      <td>...</td>\n",
       "      <td>...</td>\n",
       "      <td>...</td>\n",
       "      <td>...</td>\n",
       "      <td>...</td>\n",
       "      <td>...</td>\n",
       "      <td>...</td>\n",
       "      <td>...</td>\n",
       "      <td>...</td>\n",
       "      <td>...</td>\n",
       "      <td>...</td>\n",
       "      <td>...</td>\n",
       "      <td>...</td>\n",
       "      <td>...</td>\n",
       "      <td>...</td>\n",
       "      <td>...</td>\n",
       "      <td>...</td>\n",
       "    </tr>\n",
       "    <tr>\n",
       "      <td>978966</td>\n",
       "      <td>2019-08</td>\n",
       "      <td>84339090</td>\n",
       "      <td>10</td>\n",
       "      <td>63</td>\n",
       "      <td>RS</td>\n",
       "      <td>7</td>\n",
       "      <td>1017500</td>\n",
       "      <td>25285</td>\n",
       "      <td>25285</td>\n",
       "      <td>54569</td>\n",
       "      <td>...</td>\n",
       "      <td>2.158157</td>\n",
       "      <td>1573</td>\n",
       "      <td>8.976834</td>\n",
       "      <td>30.666667</td>\n",
       "      <td>21.689833</td>\n",
       "      <td>-23.557915</td>\n",
       "      <td>63.201416</td>\n",
       "      <td>0</td>\n",
       "      <td>84339090</td>\n",
       "      <td>63</td>\n",
       "    </tr>\n",
       "    <tr>\n",
       "      <td>978967</td>\n",
       "      <td>2019-08</td>\n",
       "      <td>29221999</td>\n",
       "      <td>10</td>\n",
       "      <td>767</td>\n",
       "      <td>SP</td>\n",
       "      <td>4</td>\n",
       "      <td>817700</td>\n",
       "      <td>1</td>\n",
       "      <td>1</td>\n",
       "      <td>476</td>\n",
       "      <td>...</td>\n",
       "      <td>476.000000</td>\n",
       "      <td>270</td>\n",
       "      <td>17.036928</td>\n",
       "      <td>204.910714</td>\n",
       "      <td>187.873786</td>\n",
       "      <td>-264.773751</td>\n",
       "      <td>486.721394</td>\n",
       "      <td>0</td>\n",
       "      <td>29221999</td>\n",
       "      <td>767</td>\n",
       "    </tr>\n",
       "    <tr>\n",
       "      <td>978968</td>\n",
       "      <td>2019-08</td>\n",
       "      <td>12122900</td>\n",
       "      <td>10</td>\n",
       "      <td>538</td>\n",
       "      <td>SP</td>\n",
       "      <td>1</td>\n",
       "      <td>817800</td>\n",
       "      <td>5000</td>\n",
       "      <td>5000</td>\n",
       "      <td>45153</td>\n",
       "      <td>...</td>\n",
       "      <td>9.030600</td>\n",
       "      <td>72</td>\n",
       "      <td>6.000202</td>\n",
       "      <td>27.957326</td>\n",
       "      <td>21.957124</td>\n",
       "      <td>-26.935483</td>\n",
       "      <td>60.893011</td>\n",
       "      <td>0</td>\n",
       "      <td>12122900</td>\n",
       "      <td>999</td>\n",
       "    </tr>\n",
       "    <tr>\n",
       "      <td>978969</td>\n",
       "      <td>2019-08</td>\n",
       "      <td>39079919</td>\n",
       "      <td>10</td>\n",
       "      <td>275</td>\n",
       "      <td>SP</td>\n",
       "      <td>1</td>\n",
       "      <td>817800</td>\n",
       "      <td>2560</td>\n",
       "      <td>2560</td>\n",
       "      <td>6943</td>\n",
       "      <td>...</td>\n",
       "      <td>2.712109</td>\n",
       "      <td>278</td>\n",
       "      <td>2.088746</td>\n",
       "      <td>5.147684</td>\n",
       "      <td>3.058938</td>\n",
       "      <td>-2.499662</td>\n",
       "      <td>9.736092</td>\n",
       "      <td>0</td>\n",
       "      <td>39079919</td>\n",
       "      <td>275</td>\n",
       "    </tr>\n",
       "    <tr>\n",
       "      <td>978970</td>\n",
       "      <td>2019-08</td>\n",
       "      <td>30043918</td>\n",
       "      <td>10</td>\n",
       "      <td>767</td>\n",
       "      <td>SP</td>\n",
       "      <td>4</td>\n",
       "      <td>817600</td>\n",
       "      <td>225</td>\n",
       "      <td>225</td>\n",
       "      <td>1216801</td>\n",
       "      <td>...</td>\n",
       "      <td>5408.004444</td>\n",
       "      <td>14</td>\n",
       "      <td>206.708136</td>\n",
       "      <td>6394.690500</td>\n",
       "      <td>6187.982363</td>\n",
       "      <td>-9075.265409</td>\n",
       "      <td>15676.664045</td>\n",
       "      <td>0</td>\n",
       "      <td>99999999</td>\n",
       "      <td>767</td>\n",
       "    </tr>\n",
       "  </tbody>\n",
       "</table>\n",
       "<p>865951 rows × 22 columns</p>\n",
       "</div>"
      ],
      "text/plain": [
       "        ANO-MES    CO_NCM  CO_UNID  CO_PAIS SG_UF_NCM  CO_VIA   CO_URF  \\\n",
       "0       2019-12  39263000       10       23        SP       1   817800   \n",
       "1       2019-12  38249929       10      493        SP       1   817800   \n",
       "2       2019-12  34021300       10      493        BA       1   517800   \n",
       "3       2019-12  85389090       10      386        SC       1   817800   \n",
       "4       2019-12  85030010       10      386        SP       4   817600   \n",
       "...         ...       ...      ...      ...       ...     ...      ...   \n",
       "978966  2019-08  84339090       10       63        RS       7  1017500   \n",
       "978967  2019-08  29221999       10      767        SP       4   817700   \n",
       "978968  2019-08  12122900       10      538        SP       1   817800   \n",
       "978969  2019-08  39079919       10      275        SP       1   817800   \n",
       "978970  2019-08  30043918       10      767        SP       4   817600   \n",
       "\n",
       "        QT_ESTAT  KG_LIQUIDO   VL_FOB  ...  VL_FOB/KG_LIQUIDO  count  \\\n",
       "0           3951        3951    88311  ...          22.351557   2687   \n",
       "1          19540       19540    65812  ...           3.368066    565   \n",
       "2          34400       34400   119356  ...           3.469651   1176   \n",
       "3            101         101      879  ...           8.702970   5046   \n",
       "4            835         835     3567  ...           4.271856   1134   \n",
       "...          ...         ...      ...  ...                ...    ...   \n",
       "978966     25285       25285    54569  ...           2.158157   1573   \n",
       "978967         1           1      476  ...         476.000000    270   \n",
       "978968      5000        5000    45153  ...           9.030600     72   \n",
       "978969      2560        2560     6943  ...           2.712109    278   \n",
       "978970       225         225  1216801  ...        5408.004444     14   \n",
       "\n",
       "               q25          q75          iqr        lower         upper  \\\n",
       "0        13.095690    49.192708    36.097018   -41.049838    103.338236   \n",
       "1         3.048369    13.200000    10.151631   -12.179078     28.427447   \n",
       "2         2.175126     7.769919     5.594793    -6.217064     16.162109   \n",
       "3        18.662319   124.953757   106.291438  -140.774838    284.390914   \n",
       "4        12.105530    69.208333    57.102803   -73.548675    154.862538   \n",
       "...            ...          ...          ...          ...           ...   \n",
       "978966    8.976834    30.666667    21.689833   -23.557915     63.201416   \n",
       "978967   17.036928   204.910714   187.873786  -264.773751    486.721394   \n",
       "978968    6.000202    27.957326    21.957124   -26.935483     60.893011   \n",
       "978969    2.088746     5.147684     3.058938    -2.499662      9.736092   \n",
       "978970  206.708136  6394.690500  6187.982363 -9075.265409  15676.664045   \n",
       "\n",
       "        eh_outlier  CO_NCM_final  CO_PAIS_final  \n",
       "0                0      39263000             23  \n",
       "1                0      38249929            493  \n",
       "2                0      34021300            493  \n",
       "3                0      85389090            386  \n",
       "4                0      85030010            386  \n",
       "...            ...           ...            ...  \n",
       "978966           0      84339090             63  \n",
       "978967           0      29221999            767  \n",
       "978968           0      12122900            999  \n",
       "978969           0      39079919            275  \n",
       "978970           0      99999999            767  \n",
       "\n",
       "[865951 rows x 22 columns]"
      ]
     },
     "execution_count": 103,
     "metadata": {},
     "output_type": "execute_result"
    }
   ],
   "source": [
    "df4"
   ]
  },
  {
   "cell_type": "code",
   "execution_count": 104,
   "metadata": {
    "scrolled": true
   },
   "outputs": [
    {
     "data": {
      "text/plain": [
       "160    174317\n",
       "249     99778\n",
       "23      75498\n",
       "386     51481\n",
       "999     43575\n",
       "275     31606\n",
       "399     31409\n",
       "361     29125\n",
       "245     27915\n",
       "190     23908\n",
       "628     21497\n",
       "161     20882\n",
       "63      18275\n",
       "493     17892\n",
       "764     13724\n",
       "573     13663\n",
       "767     11745\n",
       "87      11638\n",
       "149     10829\n",
       "72      10810\n",
       "351     10328\n",
       "776     10230\n",
       "791      9893\n",
       "603      9669\n",
       "827      9422\n",
       "607      7573\n",
       "365      7299\n",
       "232      6778\n",
       "271      6399\n",
       "858      6320\n",
       "455      6035\n",
       "355      5752\n",
       "158      5498\n",
       "845      3988\n",
       "383      3821\n",
       "741      3672\n",
       "670      3641\n",
       "169      3386\n",
       "105      3345\n",
       "247      3335\n",
       "Name: CO_PAIS_final, dtype: int64"
      ]
     },
     "execution_count": 104,
     "metadata": {},
     "output_type": "execute_result"
    }
   ],
   "source": [
    "df4[\"CO_PAIS_final\"].value_counts()"
   ]
  },
  {
   "cell_type": "markdown",
   "metadata": {},
   "source": [
    "###### Checando unidades federadas (SG_UF_NCM) recorrentes"
   ]
  },
  {
   "cell_type": "code",
   "execution_count": 105,
   "metadata": {},
   "outputs": [
    {
     "data": {
      "text/html": [
       "<div>\n",
       "<style scoped>\n",
       "    .dataframe tbody tr th:only-of-type {\n",
       "        vertical-align: middle;\n",
       "    }\n",
       "\n",
       "    .dataframe tbody tr th {\n",
       "        vertical-align: top;\n",
       "    }\n",
       "\n",
       "    .dataframe thead th {\n",
       "        text-align: right;\n",
       "    }\n",
       "</style>\n",
       "<table border=\"1\" class=\"dataframe\">\n",
       "  <thead>\n",
       "    <tr style=\"text-align: right;\">\n",
       "      <th></th>\n",
       "      <th>SG_UF_NCM</th>\n",
       "      <th>contagem</th>\n",
       "    </tr>\n",
       "  </thead>\n",
       "  <tbody>\n",
       "    <tr>\n",
       "      <td>25</td>\n",
       "      <td>SP</td>\n",
       "      <td>336535</td>\n",
       "    </tr>\n",
       "    <tr>\n",
       "      <td>23</td>\n",
       "      <td>SC</td>\n",
       "      <td>107034</td>\n",
       "    </tr>\n",
       "    <tr>\n",
       "      <td>17</td>\n",
       "      <td>PR</td>\n",
       "      <td>74251</td>\n",
       "    </tr>\n",
       "    <tr>\n",
       "      <td>18</td>\n",
       "      <td>RJ</td>\n",
       "      <td>60658</td>\n",
       "    </tr>\n",
       "    <tr>\n",
       "      <td>10</td>\n",
       "      <td>MG</td>\n",
       "      <td>59267</td>\n",
       "    </tr>\n",
       "    <tr>\n",
       "      <td>22</td>\n",
       "      <td>RS</td>\n",
       "      <td>58481</td>\n",
       "    </tr>\n",
       "    <tr>\n",
       "      <td>2</td>\n",
       "      <td>AM</td>\n",
       "      <td>37918</td>\n",
       "    </tr>\n",
       "    <tr>\n",
       "      <td>4</td>\n",
       "      <td>BA</td>\n",
       "      <td>23442</td>\n",
       "    </tr>\n",
       "    <tr>\n",
       "      <td>7</td>\n",
       "      <td>ES</td>\n",
       "      <td>18583</td>\n",
       "    </tr>\n",
       "    <tr>\n",
       "      <td>8</td>\n",
       "      <td>GO</td>\n",
       "      <td>14999</td>\n",
       "    </tr>\n",
       "    <tr>\n",
       "      <td>15</td>\n",
       "      <td>PE</td>\n",
       "      <td>14654</td>\n",
       "    </tr>\n",
       "    <tr>\n",
       "      <td>5</td>\n",
       "      <td>CE</td>\n",
       "      <td>12193</td>\n",
       "    </tr>\n",
       "    <tr>\n",
       "      <td>20</td>\n",
       "      <td>RO</td>\n",
       "      <td>10854</td>\n",
       "    </tr>\n",
       "    <tr>\n",
       "      <td>1</td>\n",
       "      <td>AL</td>\n",
       "      <td>9344</td>\n",
       "    </tr>\n",
       "    <tr>\n",
       "      <td>13</td>\n",
       "      <td>PA</td>\n",
       "      <td>6441</td>\n",
       "    </tr>\n",
       "    <tr>\n",
       "      <td>11</td>\n",
       "      <td>MS</td>\n",
       "      <td>4807</td>\n",
       "    </tr>\n",
       "    <tr>\n",
       "      <td>6</td>\n",
       "      <td>DF</td>\n",
       "      <td>2876</td>\n",
       "    </tr>\n",
       "    <tr>\n",
       "      <td>14</td>\n",
       "      <td>PB</td>\n",
       "      <td>2787</td>\n",
       "    </tr>\n",
       "    <tr>\n",
       "      <td>19</td>\n",
       "      <td>RN</td>\n",
       "      <td>2613</td>\n",
       "    </tr>\n",
       "    <tr>\n",
       "      <td>24</td>\n",
       "      <td>SE</td>\n",
       "      <td>2353</td>\n",
       "    </tr>\n",
       "    <tr>\n",
       "      <td>12</td>\n",
       "      <td>MT</td>\n",
       "      <td>2106</td>\n",
       "    </tr>\n",
       "    <tr>\n",
       "      <td>9</td>\n",
       "      <td>MA</td>\n",
       "      <td>1034</td>\n",
       "    </tr>\n",
       "    <tr>\n",
       "      <td>16</td>\n",
       "      <td>PI</td>\n",
       "      <td>878</td>\n",
       "    </tr>\n",
       "    <tr>\n",
       "      <td>3</td>\n",
       "      <td>AP</td>\n",
       "      <td>812</td>\n",
       "    </tr>\n",
       "    <tr>\n",
       "      <td>26</td>\n",
       "      <td>TO</td>\n",
       "      <td>799</td>\n",
       "    </tr>\n",
       "    <tr>\n",
       "      <td>21</td>\n",
       "      <td>RR</td>\n",
       "      <td>162</td>\n",
       "    </tr>\n",
       "    <tr>\n",
       "      <td>0</td>\n",
       "      <td>AC</td>\n",
       "      <td>70</td>\n",
       "    </tr>\n",
       "  </tbody>\n",
       "</table>\n",
       "</div>"
      ],
      "text/plain": [
       "   SG_UF_NCM  contagem\n",
       "25        SP    336535\n",
       "23        SC    107034\n",
       "17        PR     74251\n",
       "18        RJ     60658\n",
       "10        MG     59267\n",
       "22        RS     58481\n",
       "2         AM     37918\n",
       "4         BA     23442\n",
       "7         ES     18583\n",
       "8         GO     14999\n",
       "15        PE     14654\n",
       "5         CE     12193\n",
       "20        RO     10854\n",
       "1         AL      9344\n",
       "13        PA      6441\n",
       "11        MS      4807\n",
       "6         DF      2876\n",
       "14        PB      2787\n",
       "19        RN      2613\n",
       "24        SE      2353\n",
       "12        MT      2106\n",
       "9         MA      1034\n",
       "16        PI       878\n",
       "3         AP       812\n",
       "26        TO       799\n",
       "21        RR       162\n",
       "0         AC        70"
      ]
     },
     "execution_count": 105,
     "metadata": {},
     "output_type": "execute_result"
    }
   ],
   "source": [
    "g1=df4.groupby(['SG_UF_NCM']).size().reset_index().rename(columns={0:'contagem'})\n",
    "g1.sort_values(by=[\"contagem\"],ascending=False)"
   ]
  },
  {
   "cell_type": "code",
   "execution_count": 106,
   "metadata": {},
   "outputs": [],
   "source": [
    "g1[\"% SG_UF_NCM\"] = g1[\"contagem\"]/(g1[\"contagem\"].sum())"
   ]
  },
  {
   "cell_type": "code",
   "execution_count": 107,
   "metadata": {},
   "outputs": [],
   "source": [
    "g2=g1.sort_values(by=[\"contagem\"],ascending=False)"
   ]
  },
  {
   "cell_type": "code",
   "execution_count": 108,
   "metadata": {},
   "outputs": [],
   "source": [
    "g2[\"% SG_UF_NCM ACUMUL\"]=g2[\"% SG_UF_NCM\"].cumsum()"
   ]
  },
  {
   "cell_type": "code",
   "execution_count": 109,
   "metadata": {
    "scrolled": true
   },
   "outputs": [
    {
     "data": {
      "text/html": [
       "<div>\n",
       "<style scoped>\n",
       "    .dataframe tbody tr th:only-of-type {\n",
       "        vertical-align: middle;\n",
       "    }\n",
       "\n",
       "    .dataframe tbody tr th {\n",
       "        vertical-align: top;\n",
       "    }\n",
       "\n",
       "    .dataframe thead th {\n",
       "        text-align: right;\n",
       "    }\n",
       "</style>\n",
       "<table border=\"1\" class=\"dataframe\">\n",
       "  <thead>\n",
       "    <tr style=\"text-align: right;\">\n",
       "      <th></th>\n",
       "      <th>SG_UF_NCM</th>\n",
       "      <th>contagem</th>\n",
       "      <th>% SG_UF_NCM</th>\n",
       "      <th>% SG_UF_NCM ACUMUL</th>\n",
       "    </tr>\n",
       "  </thead>\n",
       "  <tbody>\n",
       "    <tr>\n",
       "      <td>25</td>\n",
       "      <td>SP</td>\n",
       "      <td>336535</td>\n",
       "      <td>0.388631</td>\n",
       "      <td>0.388631</td>\n",
       "    </tr>\n",
       "    <tr>\n",
       "      <td>23</td>\n",
       "      <td>SC</td>\n",
       "      <td>107034</td>\n",
       "      <td>0.123603</td>\n",
       "      <td>0.512233</td>\n",
       "    </tr>\n",
       "    <tr>\n",
       "      <td>17</td>\n",
       "      <td>PR</td>\n",
       "      <td>74251</td>\n",
       "      <td>0.085745</td>\n",
       "      <td>0.597978</td>\n",
       "    </tr>\n",
       "    <tr>\n",
       "      <td>18</td>\n",
       "      <td>RJ</td>\n",
       "      <td>60658</td>\n",
       "      <td>0.070048</td>\n",
       "      <td>0.668026</td>\n",
       "    </tr>\n",
       "    <tr>\n",
       "      <td>10</td>\n",
       "      <td>MG</td>\n",
       "      <td>59267</td>\n",
       "      <td>0.068442</td>\n",
       "      <td>0.736468</td>\n",
       "    </tr>\n",
       "  </tbody>\n",
       "</table>\n",
       "</div>"
      ],
      "text/plain": [
       "   SG_UF_NCM  contagem  % SG_UF_NCM  % SG_UF_NCM ACUMUL\n",
       "25        SP    336535     0.388631            0.388631\n",
       "23        SC    107034     0.123603            0.512233\n",
       "17        PR     74251     0.085745            0.597978\n",
       "18        RJ     60658     0.070048            0.668026\n",
       "10        MG     59267     0.068442            0.736468"
      ]
     },
     "execution_count": 109,
     "metadata": {},
     "output_type": "execute_result"
    }
   ],
   "source": [
    "g2.head()"
   ]
  },
  {
   "cell_type": "code",
   "execution_count": 110,
   "metadata": {},
   "outputs": [
    {
     "data": {
      "text/html": [
       "<div>\n",
       "<style scoped>\n",
       "    .dataframe tbody tr th:only-of-type {\n",
       "        vertical-align: middle;\n",
       "    }\n",
       "\n",
       "    .dataframe tbody tr th {\n",
       "        vertical-align: top;\n",
       "    }\n",
       "\n",
       "    .dataframe thead th {\n",
       "        text-align: right;\n",
       "    }\n",
       "</style>\n",
       "<table border=\"1\" class=\"dataframe\">\n",
       "  <thead>\n",
       "    <tr style=\"text-align: right;\">\n",
       "      <th></th>\n",
       "      <th>SG_UF_NCM</th>\n",
       "      <th>contagem</th>\n",
       "      <th>% SG_UF_NCM</th>\n",
       "      <th>% SG_UF_NCM ACUMUL</th>\n",
       "    </tr>\n",
       "  </thead>\n",
       "  <tbody>\n",
       "    <tr>\n",
       "      <td>25</td>\n",
       "      <td>SP</td>\n",
       "      <td>336535</td>\n",
       "      <td>0.388631</td>\n",
       "      <td>0.388631</td>\n",
       "    </tr>\n",
       "    <tr>\n",
       "      <td>23</td>\n",
       "      <td>SC</td>\n",
       "      <td>107034</td>\n",
       "      <td>0.123603</td>\n",
       "      <td>0.512233</td>\n",
       "    </tr>\n",
       "    <tr>\n",
       "      <td>17</td>\n",
       "      <td>PR</td>\n",
       "      <td>74251</td>\n",
       "      <td>0.085745</td>\n",
       "      <td>0.597978</td>\n",
       "    </tr>\n",
       "    <tr>\n",
       "      <td>18</td>\n",
       "      <td>RJ</td>\n",
       "      <td>60658</td>\n",
       "      <td>0.070048</td>\n",
       "      <td>0.668026</td>\n",
       "    </tr>\n",
       "    <tr>\n",
       "      <td>10</td>\n",
       "      <td>MG</td>\n",
       "      <td>59267</td>\n",
       "      <td>0.068442</td>\n",
       "      <td>0.736468</td>\n",
       "    </tr>\n",
       "    <tr>\n",
       "      <td>22</td>\n",
       "      <td>RS</td>\n",
       "      <td>58481</td>\n",
       "      <td>0.067534</td>\n",
       "      <td>0.804002</td>\n",
       "    </tr>\n",
       "    <tr>\n",
       "      <td>2</td>\n",
       "      <td>AM</td>\n",
       "      <td>37918</td>\n",
       "      <td>0.043788</td>\n",
       "      <td>0.847789</td>\n",
       "    </tr>\n",
       "    <tr>\n",
       "      <td>4</td>\n",
       "      <td>BA</td>\n",
       "      <td>23442</td>\n",
       "      <td>0.027071</td>\n",
       "      <td>0.874860</td>\n",
       "    </tr>\n",
       "    <tr>\n",
       "      <td>7</td>\n",
       "      <td>ES</td>\n",
       "      <td>18583</td>\n",
       "      <td>0.021460</td>\n",
       "      <td>0.896320</td>\n",
       "    </tr>\n",
       "    <tr>\n",
       "      <td>8</td>\n",
       "      <td>GO</td>\n",
       "      <td>14999</td>\n",
       "      <td>0.017321</td>\n",
       "      <td>0.913641</td>\n",
       "    </tr>\n",
       "    <tr>\n",
       "      <td>15</td>\n",
       "      <td>PE</td>\n",
       "      <td>14654</td>\n",
       "      <td>0.016922</td>\n",
       "      <td>0.930563</td>\n",
       "    </tr>\n",
       "    <tr>\n",
       "      <td>5</td>\n",
       "      <td>CE</td>\n",
       "      <td>12193</td>\n",
       "      <td>0.014080</td>\n",
       "      <td>0.944644</td>\n",
       "    </tr>\n",
       "  </tbody>\n",
       "</table>\n",
       "</div>"
      ],
      "text/plain": [
       "   SG_UF_NCM  contagem  % SG_UF_NCM  % SG_UF_NCM ACUMUL\n",
       "25        SP    336535     0.388631            0.388631\n",
       "23        SC    107034     0.123603            0.512233\n",
       "17        PR     74251     0.085745            0.597978\n",
       "18        RJ     60658     0.070048            0.668026\n",
       "10        MG     59267     0.068442            0.736468\n",
       "22        RS     58481     0.067534            0.804002\n",
       "2         AM     37918     0.043788            0.847789\n",
       "4         BA     23442     0.027071            0.874860\n",
       "7         ES     18583     0.021460            0.896320\n",
       "8         GO     14999     0.017321            0.913641\n",
       "15        PE     14654     0.016922            0.930563\n",
       "5         CE     12193     0.014080            0.944644"
      ]
     },
     "execution_count": 110,
     "metadata": {},
     "output_type": "execute_result"
    }
   ],
   "source": [
    "# tentando identificar um percentual que viabilize a implementação do modelo (considerando a necessidade de \"dummizar\" a variável SG_UF_NCM, a ideia é reduzir o número de categorias)\n",
    "g3=g2[g2[\"% SG_UF_NCM ACUMUL\"]<=0.95]\n",
    "g3\n",
    "# repare que 95% das ocorrências se restringem a 12 UF dentre as 27."
   ]
  },
  {
   "cell_type": "code",
   "execution_count": 111,
   "metadata": {},
   "outputs": [
    {
     "data": {
      "text/html": [
       "<div>\n",
       "<style scoped>\n",
       "    .dataframe tbody tr th:only-of-type {\n",
       "        vertical-align: middle;\n",
       "    }\n",
       "\n",
       "    .dataframe tbody tr th {\n",
       "        vertical-align: top;\n",
       "    }\n",
       "\n",
       "    .dataframe thead th {\n",
       "        text-align: right;\n",
       "    }\n",
       "</style>\n",
       "<table border=\"1\" class=\"dataframe\">\n",
       "  <thead>\n",
       "    <tr style=\"text-align: right;\">\n",
       "      <th></th>\n",
       "      <th>SG_UF_NCM</th>\n",
       "      <th>contagem</th>\n",
       "      <th>% SG_UF_NCM</th>\n",
       "      <th>% SG_UF_NCM ACUMUL</th>\n",
       "    </tr>\n",
       "  </thead>\n",
       "  <tbody>\n",
       "    <tr>\n",
       "      <td>20</td>\n",
       "      <td>RO</td>\n",
       "      <td>10854</td>\n",
       "      <td>0.012534</td>\n",
       "      <td>0.957178</td>\n",
       "    </tr>\n",
       "    <tr>\n",
       "      <td>1</td>\n",
       "      <td>AL</td>\n",
       "      <td>9344</td>\n",
       "      <td>0.010790</td>\n",
       "      <td>0.967968</td>\n",
       "    </tr>\n",
       "    <tr>\n",
       "      <td>13</td>\n",
       "      <td>PA</td>\n",
       "      <td>6441</td>\n",
       "      <td>0.007438</td>\n",
       "      <td>0.975406</td>\n",
       "    </tr>\n",
       "    <tr>\n",
       "      <td>11</td>\n",
       "      <td>MS</td>\n",
       "      <td>4807</td>\n",
       "      <td>0.005551</td>\n",
       "      <td>0.980957</td>\n",
       "    </tr>\n",
       "    <tr>\n",
       "      <td>6</td>\n",
       "      <td>DF</td>\n",
       "      <td>2876</td>\n",
       "      <td>0.003321</td>\n",
       "      <td>0.984279</td>\n",
       "    </tr>\n",
       "    <tr>\n",
       "      <td>14</td>\n",
       "      <td>PB</td>\n",
       "      <td>2787</td>\n",
       "      <td>0.003218</td>\n",
       "      <td>0.987497</td>\n",
       "    </tr>\n",
       "    <tr>\n",
       "      <td>19</td>\n",
       "      <td>RN</td>\n",
       "      <td>2613</td>\n",
       "      <td>0.003017</td>\n",
       "      <td>0.990514</td>\n",
       "    </tr>\n",
       "    <tr>\n",
       "      <td>24</td>\n",
       "      <td>SE</td>\n",
       "      <td>2353</td>\n",
       "      <td>0.002717</td>\n",
       "      <td>0.993232</td>\n",
       "    </tr>\n",
       "    <tr>\n",
       "      <td>12</td>\n",
       "      <td>MT</td>\n",
       "      <td>2106</td>\n",
       "      <td>0.002432</td>\n",
       "      <td>0.995664</td>\n",
       "    </tr>\n",
       "    <tr>\n",
       "      <td>9</td>\n",
       "      <td>MA</td>\n",
       "      <td>1034</td>\n",
       "      <td>0.001194</td>\n",
       "      <td>0.996858</td>\n",
       "    </tr>\n",
       "    <tr>\n",
       "      <td>16</td>\n",
       "      <td>PI</td>\n",
       "      <td>878</td>\n",
       "      <td>0.001014</td>\n",
       "      <td>0.997872</td>\n",
       "    </tr>\n",
       "    <tr>\n",
       "      <td>3</td>\n",
       "      <td>AP</td>\n",
       "      <td>812</td>\n",
       "      <td>0.000938</td>\n",
       "      <td>0.998809</td>\n",
       "    </tr>\n",
       "    <tr>\n",
       "      <td>26</td>\n",
       "      <td>TO</td>\n",
       "      <td>799</td>\n",
       "      <td>0.000923</td>\n",
       "      <td>0.999732</td>\n",
       "    </tr>\n",
       "    <tr>\n",
       "      <td>21</td>\n",
       "      <td>RR</td>\n",
       "      <td>162</td>\n",
       "      <td>0.000187</td>\n",
       "      <td>0.999919</td>\n",
       "    </tr>\n",
       "    <tr>\n",
       "      <td>0</td>\n",
       "      <td>AC</td>\n",
       "      <td>70</td>\n",
       "      <td>0.000081</td>\n",
       "      <td>1.000000</td>\n",
       "    </tr>\n",
       "  </tbody>\n",
       "</table>\n",
       "</div>"
      ],
      "text/plain": [
       "   SG_UF_NCM  contagem  % SG_UF_NCM  % SG_UF_NCM ACUMUL\n",
       "20        RO     10854     0.012534            0.957178\n",
       "1         AL      9344     0.010790            0.967968\n",
       "13        PA      6441     0.007438            0.975406\n",
       "11        MS      4807     0.005551            0.980957\n",
       "6         DF      2876     0.003321            0.984279\n",
       "14        PB      2787     0.003218            0.987497\n",
       "19        RN      2613     0.003017            0.990514\n",
       "24        SE      2353     0.002717            0.993232\n",
       "12        MT      2106     0.002432            0.995664\n",
       "9         MA      1034     0.001194            0.996858\n",
       "16        PI       878     0.001014            0.997872\n",
       "3         AP       812     0.000938            0.998809\n",
       "26        TO       799     0.000923            0.999732\n",
       "21        RR       162     0.000187            0.999919\n",
       "0         AC        70     0.000081            1.000000"
      ]
     },
     "execution_count": 111,
     "metadata": {},
     "output_type": "execute_result"
    }
   ],
   "source": [
    "# os 5% que extrapolam o acumulado 95% serão agrupados em uma única categoria, portanto, segue a identificação desses valores:\n",
    "g4=g2[g2[\"% SG_UF_NCM ACUMUL\"]>0.95]\n",
    "g4"
   ]
  },
  {
   "cell_type": "code",
   "execution_count": 112,
   "metadata": {},
   "outputs": [],
   "source": [
    "# obtendo os 5% UF menos recorrentes, para agrupar como \"outros\" no df original\n",
    "idx=g4[\"SG_UF_NCM\"]"
   ]
  },
  {
   "cell_type": "code",
   "execution_count": 113,
   "metadata": {},
   "outputs": [
    {
     "data": {
      "text/plain": [
       "0         False\n",
       "1         False\n",
       "2         False\n",
       "3         False\n",
       "4         False\n",
       "          ...  \n",
       "978966    False\n",
       "978967    False\n",
       "978968    False\n",
       "978969    False\n",
       "978970    False\n",
       "Name: SG_UF_NCM, Length: 865951, dtype: bool"
      ]
     },
     "execution_count": 113,
     "metadata": {},
     "output_type": "execute_result"
    }
   ],
   "source": [
    "mask=df4['SG_UF_NCM'].isin(idx)\n",
    "mask"
   ]
  },
  {
   "cell_type": "code",
   "execution_count": 118,
   "metadata": {},
   "outputs": [
    {
     "name": "stderr",
     "output_type": "stream",
     "text": [
      "/opt/anaconda3/lib/python3.7/site-packages/ipykernel_launcher.py:1: SettingWithCopyWarning: \n",
      "A value is trying to be set on a copy of a slice from a DataFrame.\n",
      "Try using .loc[row_indexer,col_indexer] = value instead\n",
      "\n",
      "See the caveats in the documentation: http://pandas.pydata.org/pandas-docs/stable/user_guide/indexing.html#returning-a-view-versus-a-copy\n",
      "  \"\"\"Entry point for launching an IPython kernel.\n"
     ]
    }
   ],
   "source": [
    "df4[\"SG_UF_NCM_final\"]=df4[\"SG_UF_NCM\"]"
   ]
  },
  {
   "cell_type": "code",
   "execution_count": 119,
   "metadata": {},
   "outputs": [],
   "source": [
    "# substituir os 5% NCM menos recorrentes pelo código 99 (alterou-se a coluna auxiliar SG_UF_NCM_final para preservar a original SG_UF_NCM)\n",
    "df4.loc[mask, \"SG_UF_NCM_final\"] = 99"
   ]
  },
  {
   "cell_type": "code",
   "execution_count": 120,
   "metadata": {},
   "outputs": [
    {
     "data": {
      "text/html": [
       "<div>\n",
       "<style scoped>\n",
       "    .dataframe tbody tr th:only-of-type {\n",
       "        vertical-align: middle;\n",
       "    }\n",
       "\n",
       "    .dataframe tbody tr th {\n",
       "        vertical-align: top;\n",
       "    }\n",
       "\n",
       "    .dataframe thead th {\n",
       "        text-align: right;\n",
       "    }\n",
       "</style>\n",
       "<table border=\"1\" class=\"dataframe\">\n",
       "  <thead>\n",
       "    <tr style=\"text-align: right;\">\n",
       "      <th></th>\n",
       "      <th>ANO-MES</th>\n",
       "      <th>CO_NCM</th>\n",
       "      <th>CO_UNID</th>\n",
       "      <th>CO_PAIS</th>\n",
       "      <th>SG_UF_NCM</th>\n",
       "      <th>CO_VIA</th>\n",
       "      <th>CO_URF</th>\n",
       "      <th>QT_ESTAT</th>\n",
       "      <th>KG_LIQUIDO</th>\n",
       "      <th>VL_FOB</th>\n",
       "      <th>...</th>\n",
       "      <th>count</th>\n",
       "      <th>q25</th>\n",
       "      <th>q75</th>\n",
       "      <th>iqr</th>\n",
       "      <th>lower</th>\n",
       "      <th>upper</th>\n",
       "      <th>eh_outlier</th>\n",
       "      <th>CO_NCM_final</th>\n",
       "      <th>CO_PAIS_final</th>\n",
       "      <th>SG_UF_NCM_final</th>\n",
       "    </tr>\n",
       "  </thead>\n",
       "  <tbody>\n",
       "    <tr>\n",
       "      <td>0</td>\n",
       "      <td>2019-12</td>\n",
       "      <td>39263000</td>\n",
       "      <td>10</td>\n",
       "      <td>23</td>\n",
       "      <td>SP</td>\n",
       "      <td>1</td>\n",
       "      <td>817800</td>\n",
       "      <td>3951</td>\n",
       "      <td>3951</td>\n",
       "      <td>88311</td>\n",
       "      <td>...</td>\n",
       "      <td>2687</td>\n",
       "      <td>13.095690</td>\n",
       "      <td>49.192708</td>\n",
       "      <td>36.097018</td>\n",
       "      <td>-41.049838</td>\n",
       "      <td>103.338236</td>\n",
       "      <td>0</td>\n",
       "      <td>39263000</td>\n",
       "      <td>23</td>\n",
       "      <td>SP</td>\n",
       "    </tr>\n",
       "    <tr>\n",
       "      <td>1</td>\n",
       "      <td>2019-12</td>\n",
       "      <td>38249929</td>\n",
       "      <td>10</td>\n",
       "      <td>493</td>\n",
       "      <td>SP</td>\n",
       "      <td>1</td>\n",
       "      <td>817800</td>\n",
       "      <td>19540</td>\n",
       "      <td>19540</td>\n",
       "      <td>65812</td>\n",
       "      <td>...</td>\n",
       "      <td>565</td>\n",
       "      <td>3.048369</td>\n",
       "      <td>13.200000</td>\n",
       "      <td>10.151631</td>\n",
       "      <td>-12.179078</td>\n",
       "      <td>28.427447</td>\n",
       "      <td>0</td>\n",
       "      <td>38249929</td>\n",
       "      <td>493</td>\n",
       "      <td>SP</td>\n",
       "    </tr>\n",
       "    <tr>\n",
       "      <td>2</td>\n",
       "      <td>2019-12</td>\n",
       "      <td>34021300</td>\n",
       "      <td>10</td>\n",
       "      <td>493</td>\n",
       "      <td>BA</td>\n",
       "      <td>1</td>\n",
       "      <td>517800</td>\n",
       "      <td>34400</td>\n",
       "      <td>34400</td>\n",
       "      <td>119356</td>\n",
       "      <td>...</td>\n",
       "      <td>1176</td>\n",
       "      <td>2.175126</td>\n",
       "      <td>7.769919</td>\n",
       "      <td>5.594793</td>\n",
       "      <td>-6.217064</td>\n",
       "      <td>16.162109</td>\n",
       "      <td>0</td>\n",
       "      <td>34021300</td>\n",
       "      <td>493</td>\n",
       "      <td>BA</td>\n",
       "    </tr>\n",
       "    <tr>\n",
       "      <td>3</td>\n",
       "      <td>2019-12</td>\n",
       "      <td>85389090</td>\n",
       "      <td>10</td>\n",
       "      <td>386</td>\n",
       "      <td>SC</td>\n",
       "      <td>1</td>\n",
       "      <td>817800</td>\n",
       "      <td>101</td>\n",
       "      <td>101</td>\n",
       "      <td>879</td>\n",
       "      <td>...</td>\n",
       "      <td>5046</td>\n",
       "      <td>18.662319</td>\n",
       "      <td>124.953757</td>\n",
       "      <td>106.291438</td>\n",
       "      <td>-140.774838</td>\n",
       "      <td>284.390914</td>\n",
       "      <td>0</td>\n",
       "      <td>85389090</td>\n",
       "      <td>386</td>\n",
       "      <td>SC</td>\n",
       "    </tr>\n",
       "    <tr>\n",
       "      <td>4</td>\n",
       "      <td>2019-12</td>\n",
       "      <td>85030010</td>\n",
       "      <td>10</td>\n",
       "      <td>386</td>\n",
       "      <td>SP</td>\n",
       "      <td>4</td>\n",
       "      <td>817600</td>\n",
       "      <td>835</td>\n",
       "      <td>835</td>\n",
       "      <td>3567</td>\n",
       "      <td>...</td>\n",
       "      <td>1134</td>\n",
       "      <td>12.105530</td>\n",
       "      <td>69.208333</td>\n",
       "      <td>57.102803</td>\n",
       "      <td>-73.548675</td>\n",
       "      <td>154.862538</td>\n",
       "      <td>0</td>\n",
       "      <td>85030010</td>\n",
       "      <td>386</td>\n",
       "      <td>SP</td>\n",
       "    </tr>\n",
       "    <tr>\n",
       "      <td>...</td>\n",
       "      <td>...</td>\n",
       "      <td>...</td>\n",
       "      <td>...</td>\n",
       "      <td>...</td>\n",
       "      <td>...</td>\n",
       "      <td>...</td>\n",
       "      <td>...</td>\n",
       "      <td>...</td>\n",
       "      <td>...</td>\n",
       "      <td>...</td>\n",
       "      <td>...</td>\n",
       "      <td>...</td>\n",
       "      <td>...</td>\n",
       "      <td>...</td>\n",
       "      <td>...</td>\n",
       "      <td>...</td>\n",
       "      <td>...</td>\n",
       "      <td>...</td>\n",
       "      <td>...</td>\n",
       "      <td>...</td>\n",
       "      <td>...</td>\n",
       "    </tr>\n",
       "    <tr>\n",
       "      <td>978966</td>\n",
       "      <td>2019-08</td>\n",
       "      <td>84339090</td>\n",
       "      <td>10</td>\n",
       "      <td>63</td>\n",
       "      <td>RS</td>\n",
       "      <td>7</td>\n",
       "      <td>1017500</td>\n",
       "      <td>25285</td>\n",
       "      <td>25285</td>\n",
       "      <td>54569</td>\n",
       "      <td>...</td>\n",
       "      <td>1573</td>\n",
       "      <td>8.976834</td>\n",
       "      <td>30.666667</td>\n",
       "      <td>21.689833</td>\n",
       "      <td>-23.557915</td>\n",
       "      <td>63.201416</td>\n",
       "      <td>0</td>\n",
       "      <td>84339090</td>\n",
       "      <td>63</td>\n",
       "      <td>RS</td>\n",
       "    </tr>\n",
       "    <tr>\n",
       "      <td>978967</td>\n",
       "      <td>2019-08</td>\n",
       "      <td>29221999</td>\n",
       "      <td>10</td>\n",
       "      <td>767</td>\n",
       "      <td>SP</td>\n",
       "      <td>4</td>\n",
       "      <td>817700</td>\n",
       "      <td>1</td>\n",
       "      <td>1</td>\n",
       "      <td>476</td>\n",
       "      <td>...</td>\n",
       "      <td>270</td>\n",
       "      <td>17.036928</td>\n",
       "      <td>204.910714</td>\n",
       "      <td>187.873786</td>\n",
       "      <td>-264.773751</td>\n",
       "      <td>486.721394</td>\n",
       "      <td>0</td>\n",
       "      <td>29221999</td>\n",
       "      <td>767</td>\n",
       "      <td>SP</td>\n",
       "    </tr>\n",
       "    <tr>\n",
       "      <td>978968</td>\n",
       "      <td>2019-08</td>\n",
       "      <td>12122900</td>\n",
       "      <td>10</td>\n",
       "      <td>538</td>\n",
       "      <td>SP</td>\n",
       "      <td>1</td>\n",
       "      <td>817800</td>\n",
       "      <td>5000</td>\n",
       "      <td>5000</td>\n",
       "      <td>45153</td>\n",
       "      <td>...</td>\n",
       "      <td>72</td>\n",
       "      <td>6.000202</td>\n",
       "      <td>27.957326</td>\n",
       "      <td>21.957124</td>\n",
       "      <td>-26.935483</td>\n",
       "      <td>60.893011</td>\n",
       "      <td>0</td>\n",
       "      <td>12122900</td>\n",
       "      <td>999</td>\n",
       "      <td>SP</td>\n",
       "    </tr>\n",
       "    <tr>\n",
       "      <td>978969</td>\n",
       "      <td>2019-08</td>\n",
       "      <td>39079919</td>\n",
       "      <td>10</td>\n",
       "      <td>275</td>\n",
       "      <td>SP</td>\n",
       "      <td>1</td>\n",
       "      <td>817800</td>\n",
       "      <td>2560</td>\n",
       "      <td>2560</td>\n",
       "      <td>6943</td>\n",
       "      <td>...</td>\n",
       "      <td>278</td>\n",
       "      <td>2.088746</td>\n",
       "      <td>5.147684</td>\n",
       "      <td>3.058938</td>\n",
       "      <td>-2.499662</td>\n",
       "      <td>9.736092</td>\n",
       "      <td>0</td>\n",
       "      <td>39079919</td>\n",
       "      <td>275</td>\n",
       "      <td>SP</td>\n",
       "    </tr>\n",
       "    <tr>\n",
       "      <td>978970</td>\n",
       "      <td>2019-08</td>\n",
       "      <td>30043918</td>\n",
       "      <td>10</td>\n",
       "      <td>767</td>\n",
       "      <td>SP</td>\n",
       "      <td>4</td>\n",
       "      <td>817600</td>\n",
       "      <td>225</td>\n",
       "      <td>225</td>\n",
       "      <td>1216801</td>\n",
       "      <td>...</td>\n",
       "      <td>14</td>\n",
       "      <td>206.708136</td>\n",
       "      <td>6394.690500</td>\n",
       "      <td>6187.982363</td>\n",
       "      <td>-9075.265409</td>\n",
       "      <td>15676.664045</td>\n",
       "      <td>0</td>\n",
       "      <td>99999999</td>\n",
       "      <td>767</td>\n",
       "      <td>SP</td>\n",
       "    </tr>\n",
       "  </tbody>\n",
       "</table>\n",
       "<p>865951 rows × 23 columns</p>\n",
       "</div>"
      ],
      "text/plain": [
       "        ANO-MES    CO_NCM  CO_UNID  CO_PAIS SG_UF_NCM  CO_VIA   CO_URF  \\\n",
       "0       2019-12  39263000       10       23        SP       1   817800   \n",
       "1       2019-12  38249929       10      493        SP       1   817800   \n",
       "2       2019-12  34021300       10      493        BA       1   517800   \n",
       "3       2019-12  85389090       10      386        SC       1   817800   \n",
       "4       2019-12  85030010       10      386        SP       4   817600   \n",
       "...         ...       ...      ...      ...       ...     ...      ...   \n",
       "978966  2019-08  84339090       10       63        RS       7  1017500   \n",
       "978967  2019-08  29221999       10      767        SP       4   817700   \n",
       "978968  2019-08  12122900       10      538        SP       1   817800   \n",
       "978969  2019-08  39079919       10      275        SP       1   817800   \n",
       "978970  2019-08  30043918       10      767        SP       4   817600   \n",
       "\n",
       "        QT_ESTAT  KG_LIQUIDO   VL_FOB  ...  count         q25          q75  \\\n",
       "0           3951        3951    88311  ...   2687   13.095690    49.192708   \n",
       "1          19540       19540    65812  ...    565    3.048369    13.200000   \n",
       "2          34400       34400   119356  ...   1176    2.175126     7.769919   \n",
       "3            101         101      879  ...   5046   18.662319   124.953757   \n",
       "4            835         835     3567  ...   1134   12.105530    69.208333   \n",
       "...          ...         ...      ...  ...    ...         ...          ...   \n",
       "978966     25285       25285    54569  ...   1573    8.976834    30.666667   \n",
       "978967         1           1      476  ...    270   17.036928   204.910714   \n",
       "978968      5000        5000    45153  ...     72    6.000202    27.957326   \n",
       "978969      2560        2560     6943  ...    278    2.088746     5.147684   \n",
       "978970       225         225  1216801  ...     14  206.708136  6394.690500   \n",
       "\n",
       "                iqr        lower         upper  eh_outlier  CO_NCM_final  \\\n",
       "0         36.097018   -41.049838    103.338236           0      39263000   \n",
       "1         10.151631   -12.179078     28.427447           0      38249929   \n",
       "2          5.594793    -6.217064     16.162109           0      34021300   \n",
       "3        106.291438  -140.774838    284.390914           0      85389090   \n",
       "4         57.102803   -73.548675    154.862538           0      85030010   \n",
       "...             ...          ...           ...         ...           ...   \n",
       "978966    21.689833   -23.557915     63.201416           0      84339090   \n",
       "978967   187.873786  -264.773751    486.721394           0      29221999   \n",
       "978968    21.957124   -26.935483     60.893011           0      12122900   \n",
       "978969     3.058938    -2.499662      9.736092           0      39079919   \n",
       "978970  6187.982363 -9075.265409  15676.664045           0      99999999   \n",
       "\n",
       "        CO_PAIS_final  SG_UF_NCM_final  \n",
       "0                  23               SP  \n",
       "1                 493               SP  \n",
       "2                 493               BA  \n",
       "3                 386               SC  \n",
       "4                 386               SP  \n",
       "...               ...              ...  \n",
       "978966             63               RS  \n",
       "978967            767               SP  \n",
       "978968            999               SP  \n",
       "978969            275               SP  \n",
       "978970            767               SP  \n",
       "\n",
       "[865951 rows x 23 columns]"
      ]
     },
     "execution_count": 120,
     "metadata": {},
     "output_type": "execute_result"
    }
   ],
   "source": [
    "df4"
   ]
  },
  {
   "cell_type": "code",
   "execution_count": 121,
   "metadata": {
    "scrolled": true
   },
   "outputs": [
    {
     "data": {
      "text/plain": [
       "SP    336535\n",
       "SC    107034\n",
       "PR     74251\n",
       "RJ     60658\n",
       "MG     59267\n",
       "RS     58481\n",
       "99     47936\n",
       "AM     37918\n",
       "BA     23442\n",
       "ES     18583\n",
       "GO     14999\n",
       "PE     14654\n",
       "CE     12193\n",
       "Name: SG_UF_NCM_final, dtype: int64"
      ]
     },
     "execution_count": 121,
     "metadata": {},
     "output_type": "execute_result"
    }
   ],
   "source": [
    "df4[\"SG_UF_NCM_final\"].value_counts()"
   ]
  },
  {
   "cell_type": "markdown",
   "metadata": {},
   "source": [
    "###### Checando modais (CO_VIA) recorrentes"
   ]
  },
  {
   "cell_type": "code",
   "execution_count": 122,
   "metadata": {},
   "outputs": [
    {
     "data": {
      "text/html": [
       "<div>\n",
       "<style scoped>\n",
       "    .dataframe tbody tr th:only-of-type {\n",
       "        vertical-align: middle;\n",
       "    }\n",
       "\n",
       "    .dataframe tbody tr th {\n",
       "        vertical-align: top;\n",
       "    }\n",
       "\n",
       "    .dataframe thead th {\n",
       "        text-align: right;\n",
       "    }\n",
       "</style>\n",
       "<table border=\"1\" class=\"dataframe\">\n",
       "  <thead>\n",
       "    <tr style=\"text-align: right;\">\n",
       "      <th></th>\n",
       "      <th>CO_VIA</th>\n",
       "      <th>contagem</th>\n",
       "    </tr>\n",
       "  </thead>\n",
       "  <tbody>\n",
       "    <tr>\n",
       "      <td>1</td>\n",
       "      <td>1</td>\n",
       "      <td>520436</td>\n",
       "    </tr>\n",
       "    <tr>\n",
       "      <td>3</td>\n",
       "      <td>4</td>\n",
       "      <td>311144</td>\n",
       "    </tr>\n",
       "    <tr>\n",
       "      <td>6</td>\n",
       "      <td>7</td>\n",
       "      <td>26436</td>\n",
       "    </tr>\n",
       "    <tr>\n",
       "      <td>0</td>\n",
       "      <td>0</td>\n",
       "      <td>7089</td>\n",
       "    </tr>\n",
       "    <tr>\n",
       "      <td>9</td>\n",
       "      <td>10</td>\n",
       "      <td>617</td>\n",
       "    </tr>\n",
       "    <tr>\n",
       "      <td>4</td>\n",
       "      <td>5</td>\n",
       "      <td>130</td>\n",
       "    </tr>\n",
       "    <tr>\n",
       "      <td>8</td>\n",
       "      <td>9</td>\n",
       "      <td>42</td>\n",
       "    </tr>\n",
       "    <tr>\n",
       "      <td>5</td>\n",
       "      <td>6</td>\n",
       "      <td>29</td>\n",
       "    </tr>\n",
       "    <tr>\n",
       "      <td>2</td>\n",
       "      <td>2</td>\n",
       "      <td>15</td>\n",
       "    </tr>\n",
       "    <tr>\n",
       "      <td>7</td>\n",
       "      <td>8</td>\n",
       "      <td>13</td>\n",
       "    </tr>\n",
       "  </tbody>\n",
       "</table>\n",
       "</div>"
      ],
      "text/plain": [
       "   CO_VIA  contagem\n",
       "1       1    520436\n",
       "3       4    311144\n",
       "6       7     26436\n",
       "0       0      7089\n",
       "9      10       617\n",
       "4       5       130\n",
       "8       9        42\n",
       "5       6        29\n",
       "2       2        15\n",
       "7       8        13"
      ]
     },
     "execution_count": 122,
     "metadata": {},
     "output_type": "execute_result"
    }
   ],
   "source": [
    "g1=df4.groupby(['CO_VIA']).size().reset_index().rename(columns={0:'contagem'})\n",
    "g1.sort_values(by=[\"contagem\"],ascending=False)"
   ]
  },
  {
   "cell_type": "code",
   "execution_count": 123,
   "metadata": {},
   "outputs": [],
   "source": [
    "g1[\"% CO_VIA\"] = g1[\"contagem\"]/(g1[\"contagem\"].sum())"
   ]
  },
  {
   "cell_type": "code",
   "execution_count": 124,
   "metadata": {},
   "outputs": [],
   "source": [
    "g2=g1.sort_values(by=[\"contagem\"],ascending=False)"
   ]
  },
  {
   "cell_type": "code",
   "execution_count": 125,
   "metadata": {},
   "outputs": [],
   "source": [
    "g2[\"% CO_VIA ACUMUL\"]=g2[\"% CO_VIA\"].cumsum()"
   ]
  },
  {
   "cell_type": "code",
   "execution_count": 126,
   "metadata": {},
   "outputs": [
    {
     "data": {
      "text/html": [
       "<div>\n",
       "<style scoped>\n",
       "    .dataframe tbody tr th:only-of-type {\n",
       "        vertical-align: middle;\n",
       "    }\n",
       "\n",
       "    .dataframe tbody tr th {\n",
       "        vertical-align: top;\n",
       "    }\n",
       "\n",
       "    .dataframe thead th {\n",
       "        text-align: right;\n",
       "    }\n",
       "</style>\n",
       "<table border=\"1\" class=\"dataframe\">\n",
       "  <thead>\n",
       "    <tr style=\"text-align: right;\">\n",
       "      <th></th>\n",
       "      <th>CO_VIA</th>\n",
       "      <th>contagem</th>\n",
       "      <th>% CO_VIA</th>\n",
       "      <th>% CO_VIA ACUMUL</th>\n",
       "    </tr>\n",
       "  </thead>\n",
       "  <tbody>\n",
       "    <tr>\n",
       "      <td>1</td>\n",
       "      <td>1</td>\n",
       "      <td>520436</td>\n",
       "      <td>0.600999</td>\n",
       "      <td>0.600999</td>\n",
       "    </tr>\n",
       "    <tr>\n",
       "      <td>3</td>\n",
       "      <td>4</td>\n",
       "      <td>311144</td>\n",
       "      <td>0.359309</td>\n",
       "      <td>0.960308</td>\n",
       "    </tr>\n",
       "    <tr>\n",
       "      <td>6</td>\n",
       "      <td>7</td>\n",
       "      <td>26436</td>\n",
       "      <td>0.030528</td>\n",
       "      <td>0.990837</td>\n",
       "    </tr>\n",
       "    <tr>\n",
       "      <td>0</td>\n",
       "      <td>0</td>\n",
       "      <td>7089</td>\n",
       "      <td>0.008186</td>\n",
       "      <td>0.999023</td>\n",
       "    </tr>\n",
       "    <tr>\n",
       "      <td>9</td>\n",
       "      <td>10</td>\n",
       "      <td>617</td>\n",
       "      <td>0.000713</td>\n",
       "      <td>0.999736</td>\n",
       "    </tr>\n",
       "    <tr>\n",
       "      <td>4</td>\n",
       "      <td>5</td>\n",
       "      <td>130</td>\n",
       "      <td>0.000150</td>\n",
       "      <td>0.999886</td>\n",
       "    </tr>\n",
       "    <tr>\n",
       "      <td>8</td>\n",
       "      <td>9</td>\n",
       "      <td>42</td>\n",
       "      <td>0.000049</td>\n",
       "      <td>0.999934</td>\n",
       "    </tr>\n",
       "    <tr>\n",
       "      <td>5</td>\n",
       "      <td>6</td>\n",
       "      <td>29</td>\n",
       "      <td>0.000033</td>\n",
       "      <td>0.999968</td>\n",
       "    </tr>\n",
       "    <tr>\n",
       "      <td>2</td>\n",
       "      <td>2</td>\n",
       "      <td>15</td>\n",
       "      <td>0.000017</td>\n",
       "      <td>0.999985</td>\n",
       "    </tr>\n",
       "    <tr>\n",
       "      <td>7</td>\n",
       "      <td>8</td>\n",
       "      <td>13</td>\n",
       "      <td>0.000015</td>\n",
       "      <td>1.000000</td>\n",
       "    </tr>\n",
       "  </tbody>\n",
       "</table>\n",
       "</div>"
      ],
      "text/plain": [
       "   CO_VIA  contagem  % CO_VIA  % CO_VIA ACUMUL\n",
       "1       1    520436  0.600999         0.600999\n",
       "3       4    311144  0.359309         0.960308\n",
       "6       7     26436  0.030528         0.990837\n",
       "0       0      7089  0.008186         0.999023\n",
       "9      10       617  0.000713         0.999736\n",
       "4       5       130  0.000150         0.999886\n",
       "8       9        42  0.000049         0.999934\n",
       "5       6        29  0.000033         0.999968\n",
       "2       2        15  0.000017         0.999985\n",
       "7       8        13  0.000015         1.000000"
      ]
     },
     "execution_count": 126,
     "metadata": {},
     "output_type": "execute_result"
    }
   ],
   "source": [
    "g2"
   ]
  },
  {
   "cell_type": "code",
   "execution_count": 132,
   "metadata": {},
   "outputs": [
    {
     "name": "stderr",
     "output_type": "stream",
     "text": [
      "/opt/anaconda3/lib/python3.7/site-packages/ipykernel_launcher.py:1: SettingWithCopyWarning: \n",
      "A value is trying to be set on a copy of a slice from a DataFrame.\n",
      "Try using .loc[row_indexer,col_indexer] = value instead\n",
      "\n",
      "See the caveats in the documentation: http://pandas.pydata.org/pandas-docs/stable/user_guide/indexing.html#returning-a-view-versus-a-copy\n",
      "  \"\"\"Entry point for launching an IPython kernel.\n"
     ]
    }
   ],
   "source": [
    "df4[\"CO_VIA_final\"]=df4[\"CO_VIA\"]"
   ]
  },
  {
   "cell_type": "code",
   "execution_count": 133,
   "metadata": {},
   "outputs": [
    {
     "data": {
      "text/plain": [
       "0         False\n",
       "1         False\n",
       "2         False\n",
       "3         False\n",
       "4         False\n",
       "          ...  \n",
       "978966    False\n",
       "978967    False\n",
       "978968    False\n",
       "978969    False\n",
       "978970    False\n",
       "Name: CO_VIA, Length: 865951, dtype: bool"
      ]
     },
     "execution_count": 133,
     "metadata": {},
     "output_type": "execute_result"
    }
   ],
   "source": [
    "mask=(df4['CO_VIA']!=1) & (df4['CO_VIA']!=4) & (df4['CO_VIA']!=7)\n",
    "mask"
   ]
  },
  {
   "cell_type": "code",
   "execution_count": 134,
   "metadata": {},
   "outputs": [],
   "source": [
    "df4.loc[mask, \"CO_VIA_final\"] = 99"
   ]
  },
  {
   "cell_type": "code",
   "execution_count": 135,
   "metadata": {},
   "outputs": [
    {
     "data": {
      "text/plain": [
       "1     520436\n",
       "4     311144\n",
       "7      26436\n",
       "99      7935\n",
       "Name: CO_VIA_final, dtype: int64"
      ]
     },
     "execution_count": 135,
     "metadata": {},
     "output_type": "execute_result"
    }
   ],
   "source": [
    "df4[\"CO_VIA_final\"].value_counts()"
   ]
  },
  {
   "cell_type": "markdown",
   "metadata": {},
   "source": [
    "###### Não será levada em conta - inicialmente - a feature CO_URF, uma vez que essa está associada à SG_UF_NCM (que será \"dummizada\"). Posteriormente, pode-se substituir uma pela outra para ver se o modelo melhora."
   ]
  },
  {
   "cell_type": "markdown",
   "metadata": {},
   "source": [
    "###### Na sequência, as colunas de features categóricas darão origem às variáveis dummie, para, posteriormente, calcular a correlação das colunas restantes com a variável alvo ( VL_FOB/KG_LIQUIDO)"
   ]
  },
  {
   "cell_type": "code",
   "execution_count": 136,
   "metadata": {},
   "outputs": [
    {
     "data": {
      "text/html": [
       "<div>\n",
       "<style scoped>\n",
       "    .dataframe tbody tr th:only-of-type {\n",
       "        vertical-align: middle;\n",
       "    }\n",
       "\n",
       "    .dataframe tbody tr th {\n",
       "        vertical-align: top;\n",
       "    }\n",
       "\n",
       "    .dataframe thead th {\n",
       "        text-align: right;\n",
       "    }\n",
       "</style>\n",
       "<table border=\"1\" class=\"dataframe\">\n",
       "  <thead>\n",
       "    <tr style=\"text-align: right;\">\n",
       "      <th></th>\n",
       "      <th>ANO-MES</th>\n",
       "      <th>CO_NCM</th>\n",
       "      <th>CO_UNID</th>\n",
       "      <th>CO_PAIS</th>\n",
       "      <th>SG_UF_NCM</th>\n",
       "      <th>CO_VIA</th>\n",
       "      <th>CO_URF</th>\n",
       "      <th>QT_ESTAT</th>\n",
       "      <th>KG_LIQUIDO</th>\n",
       "      <th>VL_FOB</th>\n",
       "      <th>...</th>\n",
       "      <th>Mês_2019-03</th>\n",
       "      <th>Mês_2019-04</th>\n",
       "      <th>Mês_2019-05</th>\n",
       "      <th>Mês_2019-06</th>\n",
       "      <th>Mês_2019-07</th>\n",
       "      <th>Mês_2019-08</th>\n",
       "      <th>Mês_2019-09</th>\n",
       "      <th>Mês_2019-10</th>\n",
       "      <th>Mês_2019-11</th>\n",
       "      <th>Mês_2019-12</th>\n",
       "    </tr>\n",
       "  </thead>\n",
       "  <tbody>\n",
       "    <tr>\n",
       "      <td>0</td>\n",
       "      <td>2019-12</td>\n",
       "      <td>39263000</td>\n",
       "      <td>10</td>\n",
       "      <td>23</td>\n",
       "      <td>SP</td>\n",
       "      <td>1</td>\n",
       "      <td>817800</td>\n",
       "      <td>3951</td>\n",
       "      <td>3951</td>\n",
       "      <td>88311</td>\n",
       "      <td>...</td>\n",
       "      <td>0</td>\n",
       "      <td>0</td>\n",
       "      <td>0</td>\n",
       "      <td>0</td>\n",
       "      <td>0</td>\n",
       "      <td>0</td>\n",
       "      <td>0</td>\n",
       "      <td>0</td>\n",
       "      <td>0</td>\n",
       "      <td>1</td>\n",
       "    </tr>\n",
       "    <tr>\n",
       "      <td>1</td>\n",
       "      <td>2019-12</td>\n",
       "      <td>38249929</td>\n",
       "      <td>10</td>\n",
       "      <td>493</td>\n",
       "      <td>SP</td>\n",
       "      <td>1</td>\n",
       "      <td>817800</td>\n",
       "      <td>19540</td>\n",
       "      <td>19540</td>\n",
       "      <td>65812</td>\n",
       "      <td>...</td>\n",
       "      <td>0</td>\n",
       "      <td>0</td>\n",
       "      <td>0</td>\n",
       "      <td>0</td>\n",
       "      <td>0</td>\n",
       "      <td>0</td>\n",
       "      <td>0</td>\n",
       "      <td>0</td>\n",
       "      <td>0</td>\n",
       "      <td>1</td>\n",
       "    </tr>\n",
       "    <tr>\n",
       "      <td>2</td>\n",
       "      <td>2019-12</td>\n",
       "      <td>34021300</td>\n",
       "      <td>10</td>\n",
       "      <td>493</td>\n",
       "      <td>BA</td>\n",
       "      <td>1</td>\n",
       "      <td>517800</td>\n",
       "      <td>34400</td>\n",
       "      <td>34400</td>\n",
       "      <td>119356</td>\n",
       "      <td>...</td>\n",
       "      <td>0</td>\n",
       "      <td>0</td>\n",
       "      <td>0</td>\n",
       "      <td>0</td>\n",
       "      <td>0</td>\n",
       "      <td>0</td>\n",
       "      <td>0</td>\n",
       "      <td>0</td>\n",
       "      <td>0</td>\n",
       "      <td>1</td>\n",
       "    </tr>\n",
       "  </tbody>\n",
       "</table>\n",
       "<p>3 rows × 36 columns</p>\n",
       "</div>"
      ],
      "text/plain": [
       "   ANO-MES    CO_NCM  CO_UNID  CO_PAIS SG_UF_NCM  CO_VIA  CO_URF  QT_ESTAT  \\\n",
       "0  2019-12  39263000       10       23        SP       1  817800      3951   \n",
       "1  2019-12  38249929       10      493        SP       1  817800     19540   \n",
       "2  2019-12  34021300       10      493        BA       1  517800     34400   \n",
       "\n",
       "   KG_LIQUIDO  VL_FOB  ...  Mês_2019-03  Mês_2019-04  Mês_2019-05  \\\n",
       "0        3951   88311  ...            0            0            0   \n",
       "1       19540   65812  ...            0            0            0   \n",
       "2       34400  119356  ...            0            0            0   \n",
       "\n",
       "   Mês_2019-06  Mês_2019-07  Mês_2019-08  Mês_2019-09  Mês_2019-10  \\\n",
       "0            0            0            0            0            0   \n",
       "1            0            0            0            0            0   \n",
       "2            0            0            0            0            0   \n",
       "\n",
       "   Mês_2019-11  Mês_2019-12  \n",
       "0            0            1  \n",
       "1            0            1  \n",
       "2            0            1  \n",
       "\n",
       "[3 rows x 36 columns]"
      ]
     },
     "execution_count": 136,
     "metadata": {},
     "output_type": "execute_result"
    }
   ],
   "source": [
    "df_encoded = pd.concat([df4, pd.get_dummies(df4[\"ANO-MES\"],prefix=\"Mês\")], axis=1)\n",
    "df_encoded.head(3)"
   ]
  },
  {
   "cell_type": "code",
   "execution_count": 139,
   "metadata": {},
   "outputs": [
    {
     "data": {
      "text/html": [
       "<div>\n",
       "<style scoped>\n",
       "    .dataframe tbody tr th:only-of-type {\n",
       "        vertical-align: middle;\n",
       "    }\n",
       "\n",
       "    .dataframe tbody tr th {\n",
       "        vertical-align: top;\n",
       "    }\n",
       "\n",
       "    .dataframe thead th {\n",
       "        text-align: right;\n",
       "    }\n",
       "</style>\n",
       "<table border=\"1\" class=\"dataframe\">\n",
       "  <thead>\n",
       "    <tr style=\"text-align: right;\">\n",
       "      <th></th>\n",
       "      <th>ANO-MES</th>\n",
       "      <th>CO_NCM</th>\n",
       "      <th>CO_UNID</th>\n",
       "      <th>CO_PAIS</th>\n",
       "      <th>SG_UF_NCM</th>\n",
       "      <th>CO_VIA</th>\n",
       "      <th>CO_URF</th>\n",
       "      <th>QT_ESTAT</th>\n",
       "      <th>KG_LIQUIDO</th>\n",
       "      <th>VL_FOB</th>\n",
       "      <th>...</th>\n",
       "      <th>NCM_96151100</th>\n",
       "      <th>NCM_96151900</th>\n",
       "      <th>NCM_96159000</th>\n",
       "      <th>NCM_96161000</th>\n",
       "      <th>NCM_96162000</th>\n",
       "      <th>NCM_96170010</th>\n",
       "      <th>NCM_96170020</th>\n",
       "      <th>NCM_96180000</th>\n",
       "      <th>NCM_96190000</th>\n",
       "      <th>NCM_99999999</th>\n",
       "    </tr>\n",
       "  </thead>\n",
       "  <tbody>\n",
       "    <tr>\n",
       "      <td>0</td>\n",
       "      <td>2019-12</td>\n",
       "      <td>39263000</td>\n",
       "      <td>10</td>\n",
       "      <td>23</td>\n",
       "      <td>SP</td>\n",
       "      <td>1</td>\n",
       "      <td>817800</td>\n",
       "      <td>3951</td>\n",
       "      <td>3951</td>\n",
       "      <td>88311</td>\n",
       "      <td>...</td>\n",
       "      <td>0</td>\n",
       "      <td>0</td>\n",
       "      <td>0</td>\n",
       "      <td>0</td>\n",
       "      <td>0</td>\n",
       "      <td>0</td>\n",
       "      <td>0</td>\n",
       "      <td>0</td>\n",
       "      <td>0</td>\n",
       "      <td>0</td>\n",
       "    </tr>\n",
       "    <tr>\n",
       "      <td>1</td>\n",
       "      <td>2019-12</td>\n",
       "      <td>38249929</td>\n",
       "      <td>10</td>\n",
       "      <td>493</td>\n",
       "      <td>SP</td>\n",
       "      <td>1</td>\n",
       "      <td>817800</td>\n",
       "      <td>19540</td>\n",
       "      <td>19540</td>\n",
       "      <td>65812</td>\n",
       "      <td>...</td>\n",
       "      <td>0</td>\n",
       "      <td>0</td>\n",
       "      <td>0</td>\n",
       "      <td>0</td>\n",
       "      <td>0</td>\n",
       "      <td>0</td>\n",
       "      <td>0</td>\n",
       "      <td>0</td>\n",
       "      <td>0</td>\n",
       "      <td>0</td>\n",
       "    </tr>\n",
       "    <tr>\n",
       "      <td>2</td>\n",
       "      <td>2019-12</td>\n",
       "      <td>34021300</td>\n",
       "      <td>10</td>\n",
       "      <td>493</td>\n",
       "      <td>BA</td>\n",
       "      <td>1</td>\n",
       "      <td>517800</td>\n",
       "      <td>34400</td>\n",
       "      <td>34400</td>\n",
       "      <td>119356</td>\n",
       "      <td>...</td>\n",
       "      <td>0</td>\n",
       "      <td>0</td>\n",
       "      <td>0</td>\n",
       "      <td>0</td>\n",
       "      <td>0</td>\n",
       "      <td>0</td>\n",
       "      <td>0</td>\n",
       "      <td>0</td>\n",
       "      <td>0</td>\n",
       "      <td>0</td>\n",
       "    </tr>\n",
       "  </tbody>\n",
       "</table>\n",
       "<p>3 rows × 2879 columns</p>\n",
       "</div>"
      ],
      "text/plain": [
       "   ANO-MES    CO_NCM  CO_UNID  CO_PAIS SG_UF_NCM  CO_VIA  CO_URF  QT_ESTAT  \\\n",
       "0  2019-12  39263000       10       23        SP       1  817800      3951   \n",
       "1  2019-12  38249929       10      493        SP       1  817800     19540   \n",
       "2  2019-12  34021300       10      493        BA       1  517800     34400   \n",
       "\n",
       "   KG_LIQUIDO  VL_FOB  ...  NCM_96151100  NCM_96151900  NCM_96159000  \\\n",
       "0        3951   88311  ...             0             0             0   \n",
       "1       19540   65812  ...             0             0             0   \n",
       "2       34400  119356  ...             0             0             0   \n",
       "\n",
       "   NCM_96161000  NCM_96162000  NCM_96170010  NCM_96170020  NCM_96180000  \\\n",
       "0             0             0             0             0             0   \n",
       "1             0             0             0             0             0   \n",
       "2             0             0             0             0             0   \n",
       "\n",
       "   NCM_96190000  NCM_99999999  \n",
       "0             0             0  \n",
       "1             0             0  \n",
       "2             0             0  \n",
       "\n",
       "[3 rows x 2879 columns]"
      ]
     },
     "execution_count": 139,
     "metadata": {},
     "output_type": "execute_result"
    }
   ],
   "source": [
    "df_encoded = pd.concat([df_encoded, pd.get_dummies(df_encoded[\"CO_NCM_final\"],prefix=\"NCM\")], axis=1)\n",
    "df_encoded.head(3)"
   ]
  },
  {
   "cell_type": "code",
   "execution_count": null,
   "metadata": {},
   "outputs": [],
   "source": [
    "# Não precisa trabalhar com a variável CO_UNID, pois esse df é uma fração do df original (mediante filtro CO_UNID=10)\n",
    "#df_encoded = pd.concat([df_encoded, pd.get_dummies(df_encoded[\"CO_UNID_final\"],prefix=\"Un.Med.Est.\")], axis=1)\n",
    "#df_encoded.head(3)"
   ]
  },
  {
   "cell_type": "code",
   "execution_count": 140,
   "metadata": {},
   "outputs": [
    {
     "data": {
      "text/html": [
       "<div>\n",
       "<style scoped>\n",
       "    .dataframe tbody tr th:only-of-type {\n",
       "        vertical-align: middle;\n",
       "    }\n",
       "\n",
       "    .dataframe tbody tr th {\n",
       "        vertical-align: top;\n",
       "    }\n",
       "\n",
       "    .dataframe thead th {\n",
       "        text-align: right;\n",
       "    }\n",
       "</style>\n",
       "<table border=\"1\" class=\"dataframe\">\n",
       "  <thead>\n",
       "    <tr style=\"text-align: right;\">\n",
       "      <th></th>\n",
       "      <th>ANO-MES</th>\n",
       "      <th>CO_NCM</th>\n",
       "      <th>CO_UNID</th>\n",
       "      <th>CO_PAIS</th>\n",
       "      <th>SG_UF_NCM</th>\n",
       "      <th>CO_VIA</th>\n",
       "      <th>CO_URF</th>\n",
       "      <th>QT_ESTAT</th>\n",
       "      <th>KG_LIQUIDO</th>\n",
       "      <th>VL_FOB</th>\n",
       "      <th>...</th>\n",
       "      <th>Pais_670</th>\n",
       "      <th>Pais_741</th>\n",
       "      <th>Pais_764</th>\n",
       "      <th>Pais_767</th>\n",
       "      <th>Pais_776</th>\n",
       "      <th>Pais_791</th>\n",
       "      <th>Pais_827</th>\n",
       "      <th>Pais_845</th>\n",
       "      <th>Pais_858</th>\n",
       "      <th>Pais_999</th>\n",
       "    </tr>\n",
       "  </thead>\n",
       "  <tbody>\n",
       "    <tr>\n",
       "      <td>0</td>\n",
       "      <td>2019-12</td>\n",
       "      <td>39263000</td>\n",
       "      <td>10</td>\n",
       "      <td>23</td>\n",
       "      <td>SP</td>\n",
       "      <td>1</td>\n",
       "      <td>817800</td>\n",
       "      <td>3951</td>\n",
       "      <td>3951</td>\n",
       "      <td>88311</td>\n",
       "      <td>...</td>\n",
       "      <td>0</td>\n",
       "      <td>0</td>\n",
       "      <td>0</td>\n",
       "      <td>0</td>\n",
       "      <td>0</td>\n",
       "      <td>0</td>\n",
       "      <td>0</td>\n",
       "      <td>0</td>\n",
       "      <td>0</td>\n",
       "      <td>0</td>\n",
       "    </tr>\n",
       "    <tr>\n",
       "      <td>1</td>\n",
       "      <td>2019-12</td>\n",
       "      <td>38249929</td>\n",
       "      <td>10</td>\n",
       "      <td>493</td>\n",
       "      <td>SP</td>\n",
       "      <td>1</td>\n",
       "      <td>817800</td>\n",
       "      <td>19540</td>\n",
       "      <td>19540</td>\n",
       "      <td>65812</td>\n",
       "      <td>...</td>\n",
       "      <td>0</td>\n",
       "      <td>0</td>\n",
       "      <td>0</td>\n",
       "      <td>0</td>\n",
       "      <td>0</td>\n",
       "      <td>0</td>\n",
       "      <td>0</td>\n",
       "      <td>0</td>\n",
       "      <td>0</td>\n",
       "      <td>0</td>\n",
       "    </tr>\n",
       "    <tr>\n",
       "      <td>2</td>\n",
       "      <td>2019-12</td>\n",
       "      <td>34021300</td>\n",
       "      <td>10</td>\n",
       "      <td>493</td>\n",
       "      <td>BA</td>\n",
       "      <td>1</td>\n",
       "      <td>517800</td>\n",
       "      <td>34400</td>\n",
       "      <td>34400</td>\n",
       "      <td>119356</td>\n",
       "      <td>...</td>\n",
       "      <td>0</td>\n",
       "      <td>0</td>\n",
       "      <td>0</td>\n",
       "      <td>0</td>\n",
       "      <td>0</td>\n",
       "      <td>0</td>\n",
       "      <td>0</td>\n",
       "      <td>0</td>\n",
       "      <td>0</td>\n",
       "      <td>0</td>\n",
       "    </tr>\n",
       "  </tbody>\n",
       "</table>\n",
       "<p>3 rows × 2919 columns</p>\n",
       "</div>"
      ],
      "text/plain": [
       "   ANO-MES    CO_NCM  CO_UNID  CO_PAIS SG_UF_NCM  CO_VIA  CO_URF  QT_ESTAT  \\\n",
       "0  2019-12  39263000       10       23        SP       1  817800      3951   \n",
       "1  2019-12  38249929       10      493        SP       1  817800     19540   \n",
       "2  2019-12  34021300       10      493        BA       1  517800     34400   \n",
       "\n",
       "   KG_LIQUIDO  VL_FOB  ...  Pais_670  Pais_741  Pais_764  Pais_767  Pais_776  \\\n",
       "0        3951   88311  ...         0         0         0         0         0   \n",
       "1       19540   65812  ...         0         0         0         0         0   \n",
       "2       34400  119356  ...         0         0         0         0         0   \n",
       "\n",
       "   Pais_791  Pais_827  Pais_845  Pais_858  Pais_999  \n",
       "0         0         0         0         0         0  \n",
       "1         0         0         0         0         0  \n",
       "2         0         0         0         0         0  \n",
       "\n",
       "[3 rows x 2919 columns]"
      ]
     },
     "execution_count": 140,
     "metadata": {},
     "output_type": "execute_result"
    }
   ],
   "source": [
    "df_encoded = pd.concat([df_encoded, pd.get_dummies(df_encoded[\"CO_PAIS_final\"],prefix=\"Pais\")], axis=1)\n",
    "df_encoded.head(3)"
   ]
  },
  {
   "cell_type": "code",
   "execution_count": 141,
   "metadata": {},
   "outputs": [
    {
     "data": {
      "text/html": [
       "<div>\n",
       "<style scoped>\n",
       "    .dataframe tbody tr th:only-of-type {\n",
       "        vertical-align: middle;\n",
       "    }\n",
       "\n",
       "    .dataframe tbody tr th {\n",
       "        vertical-align: top;\n",
       "    }\n",
       "\n",
       "    .dataframe thead th {\n",
       "        text-align: right;\n",
       "    }\n",
       "</style>\n",
       "<table border=\"1\" class=\"dataframe\">\n",
       "  <thead>\n",
       "    <tr style=\"text-align: right;\">\n",
       "      <th></th>\n",
       "      <th>ANO-MES</th>\n",
       "      <th>CO_NCM</th>\n",
       "      <th>CO_UNID</th>\n",
       "      <th>CO_PAIS</th>\n",
       "      <th>SG_UF_NCM</th>\n",
       "      <th>CO_VIA</th>\n",
       "      <th>CO_URF</th>\n",
       "      <th>QT_ESTAT</th>\n",
       "      <th>KG_LIQUIDO</th>\n",
       "      <th>VL_FOB</th>\n",
       "      <th>...</th>\n",
       "      <th>UF_CE</th>\n",
       "      <th>UF_ES</th>\n",
       "      <th>UF_GO</th>\n",
       "      <th>UF_MG</th>\n",
       "      <th>UF_PE</th>\n",
       "      <th>UF_PR</th>\n",
       "      <th>UF_RJ</th>\n",
       "      <th>UF_RS</th>\n",
       "      <th>UF_SC</th>\n",
       "      <th>UF_SP</th>\n",
       "    </tr>\n",
       "  </thead>\n",
       "  <tbody>\n",
       "    <tr>\n",
       "      <td>0</td>\n",
       "      <td>2019-12</td>\n",
       "      <td>39263000</td>\n",
       "      <td>10</td>\n",
       "      <td>23</td>\n",
       "      <td>SP</td>\n",
       "      <td>1</td>\n",
       "      <td>817800</td>\n",
       "      <td>3951</td>\n",
       "      <td>3951</td>\n",
       "      <td>88311</td>\n",
       "      <td>...</td>\n",
       "      <td>0</td>\n",
       "      <td>0</td>\n",
       "      <td>0</td>\n",
       "      <td>0</td>\n",
       "      <td>0</td>\n",
       "      <td>0</td>\n",
       "      <td>0</td>\n",
       "      <td>0</td>\n",
       "      <td>0</td>\n",
       "      <td>1</td>\n",
       "    </tr>\n",
       "    <tr>\n",
       "      <td>1</td>\n",
       "      <td>2019-12</td>\n",
       "      <td>38249929</td>\n",
       "      <td>10</td>\n",
       "      <td>493</td>\n",
       "      <td>SP</td>\n",
       "      <td>1</td>\n",
       "      <td>817800</td>\n",
       "      <td>19540</td>\n",
       "      <td>19540</td>\n",
       "      <td>65812</td>\n",
       "      <td>...</td>\n",
       "      <td>0</td>\n",
       "      <td>0</td>\n",
       "      <td>0</td>\n",
       "      <td>0</td>\n",
       "      <td>0</td>\n",
       "      <td>0</td>\n",
       "      <td>0</td>\n",
       "      <td>0</td>\n",
       "      <td>0</td>\n",
       "      <td>1</td>\n",
       "    </tr>\n",
       "    <tr>\n",
       "      <td>2</td>\n",
       "      <td>2019-12</td>\n",
       "      <td>34021300</td>\n",
       "      <td>10</td>\n",
       "      <td>493</td>\n",
       "      <td>BA</td>\n",
       "      <td>1</td>\n",
       "      <td>517800</td>\n",
       "      <td>34400</td>\n",
       "      <td>34400</td>\n",
       "      <td>119356</td>\n",
       "      <td>...</td>\n",
       "      <td>0</td>\n",
       "      <td>0</td>\n",
       "      <td>0</td>\n",
       "      <td>0</td>\n",
       "      <td>0</td>\n",
       "      <td>0</td>\n",
       "      <td>0</td>\n",
       "      <td>0</td>\n",
       "      <td>0</td>\n",
       "      <td>0</td>\n",
       "    </tr>\n",
       "  </tbody>\n",
       "</table>\n",
       "<p>3 rows × 2932 columns</p>\n",
       "</div>"
      ],
      "text/plain": [
       "   ANO-MES    CO_NCM  CO_UNID  CO_PAIS SG_UF_NCM  CO_VIA  CO_URF  QT_ESTAT  \\\n",
       "0  2019-12  39263000       10       23        SP       1  817800      3951   \n",
       "1  2019-12  38249929       10      493        SP       1  817800     19540   \n",
       "2  2019-12  34021300       10      493        BA       1  517800     34400   \n",
       "\n",
       "   KG_LIQUIDO  VL_FOB  ...  UF_CE  UF_ES  UF_GO  UF_MG  UF_PE  UF_PR  UF_RJ  \\\n",
       "0        3951   88311  ...      0      0      0      0      0      0      0   \n",
       "1       19540   65812  ...      0      0      0      0      0      0      0   \n",
       "2       34400  119356  ...      0      0      0      0      0      0      0   \n",
       "\n",
       "   UF_RS  UF_SC  UF_SP  \n",
       "0      0      0      1  \n",
       "1      0      0      1  \n",
       "2      0      0      0  \n",
       "\n",
       "[3 rows x 2932 columns]"
      ]
     },
     "execution_count": 141,
     "metadata": {},
     "output_type": "execute_result"
    }
   ],
   "source": [
    "df_encoded = pd.concat([df_encoded, pd.get_dummies(df_encoded[\"SG_UF_NCM_final\"],prefix=\"UF\")], axis=1)\n",
    "df_encoded.head(3)"
   ]
  },
  {
   "cell_type": "code",
   "execution_count": 142,
   "metadata": {},
   "outputs": [
    {
     "data": {
      "text/html": [
       "<div>\n",
       "<style scoped>\n",
       "    .dataframe tbody tr th:only-of-type {\n",
       "        vertical-align: middle;\n",
       "    }\n",
       "\n",
       "    .dataframe tbody tr th {\n",
       "        vertical-align: top;\n",
       "    }\n",
       "\n",
       "    .dataframe thead th {\n",
       "        text-align: right;\n",
       "    }\n",
       "</style>\n",
       "<table border=\"1\" class=\"dataframe\">\n",
       "  <thead>\n",
       "    <tr style=\"text-align: right;\">\n",
       "      <th></th>\n",
       "      <th>ANO-MES</th>\n",
       "      <th>CO_NCM</th>\n",
       "      <th>CO_UNID</th>\n",
       "      <th>CO_PAIS</th>\n",
       "      <th>SG_UF_NCM</th>\n",
       "      <th>CO_VIA</th>\n",
       "      <th>CO_URF</th>\n",
       "      <th>QT_ESTAT</th>\n",
       "      <th>KG_LIQUIDO</th>\n",
       "      <th>VL_FOB</th>\n",
       "      <th>...</th>\n",
       "      <th>UF_PE</th>\n",
       "      <th>UF_PR</th>\n",
       "      <th>UF_RJ</th>\n",
       "      <th>UF_RS</th>\n",
       "      <th>UF_SC</th>\n",
       "      <th>UF_SP</th>\n",
       "      <th>Modal_1</th>\n",
       "      <th>Modal_4</th>\n",
       "      <th>Modal_7</th>\n",
       "      <th>Modal_99</th>\n",
       "    </tr>\n",
       "  </thead>\n",
       "  <tbody>\n",
       "    <tr>\n",
       "      <td>0</td>\n",
       "      <td>2019-12</td>\n",
       "      <td>39263000</td>\n",
       "      <td>10</td>\n",
       "      <td>23</td>\n",
       "      <td>SP</td>\n",
       "      <td>1</td>\n",
       "      <td>817800</td>\n",
       "      <td>3951</td>\n",
       "      <td>3951</td>\n",
       "      <td>88311</td>\n",
       "      <td>...</td>\n",
       "      <td>0</td>\n",
       "      <td>0</td>\n",
       "      <td>0</td>\n",
       "      <td>0</td>\n",
       "      <td>0</td>\n",
       "      <td>1</td>\n",
       "      <td>1</td>\n",
       "      <td>0</td>\n",
       "      <td>0</td>\n",
       "      <td>0</td>\n",
       "    </tr>\n",
       "    <tr>\n",
       "      <td>1</td>\n",
       "      <td>2019-12</td>\n",
       "      <td>38249929</td>\n",
       "      <td>10</td>\n",
       "      <td>493</td>\n",
       "      <td>SP</td>\n",
       "      <td>1</td>\n",
       "      <td>817800</td>\n",
       "      <td>19540</td>\n",
       "      <td>19540</td>\n",
       "      <td>65812</td>\n",
       "      <td>...</td>\n",
       "      <td>0</td>\n",
       "      <td>0</td>\n",
       "      <td>0</td>\n",
       "      <td>0</td>\n",
       "      <td>0</td>\n",
       "      <td>1</td>\n",
       "      <td>1</td>\n",
       "      <td>0</td>\n",
       "      <td>0</td>\n",
       "      <td>0</td>\n",
       "    </tr>\n",
       "    <tr>\n",
       "      <td>2</td>\n",
       "      <td>2019-12</td>\n",
       "      <td>34021300</td>\n",
       "      <td>10</td>\n",
       "      <td>493</td>\n",
       "      <td>BA</td>\n",
       "      <td>1</td>\n",
       "      <td>517800</td>\n",
       "      <td>34400</td>\n",
       "      <td>34400</td>\n",
       "      <td>119356</td>\n",
       "      <td>...</td>\n",
       "      <td>0</td>\n",
       "      <td>0</td>\n",
       "      <td>0</td>\n",
       "      <td>0</td>\n",
       "      <td>0</td>\n",
       "      <td>0</td>\n",
       "      <td>1</td>\n",
       "      <td>0</td>\n",
       "      <td>0</td>\n",
       "      <td>0</td>\n",
       "    </tr>\n",
       "  </tbody>\n",
       "</table>\n",
       "<p>3 rows × 2936 columns</p>\n",
       "</div>"
      ],
      "text/plain": [
       "   ANO-MES    CO_NCM  CO_UNID  CO_PAIS SG_UF_NCM  CO_VIA  CO_URF  QT_ESTAT  \\\n",
       "0  2019-12  39263000       10       23        SP       1  817800      3951   \n",
       "1  2019-12  38249929       10      493        SP       1  817800     19540   \n",
       "2  2019-12  34021300       10      493        BA       1  517800     34400   \n",
       "\n",
       "   KG_LIQUIDO  VL_FOB  ...  UF_PE  UF_PR  UF_RJ  UF_RS  UF_SC  UF_SP  Modal_1  \\\n",
       "0        3951   88311  ...      0      0      0      0      0      1        1   \n",
       "1       19540   65812  ...      0      0      0      0      0      1        1   \n",
       "2       34400  119356  ...      0      0      0      0      0      0        1   \n",
       "\n",
       "   Modal_4  Modal_7  Modal_99  \n",
       "0        0        0         0  \n",
       "1        0        0         0  \n",
       "2        0        0         0  \n",
       "\n",
       "[3 rows x 2936 columns]"
      ]
     },
     "execution_count": 142,
     "metadata": {},
     "output_type": "execute_result"
    }
   ],
   "source": [
    "df_encoded = pd.concat([df_encoded, pd.get_dummies(df_encoded[\"CO_VIA_final\"],prefix=\"Modal\")], axis=1)\n",
    "df_encoded.head(3)"
   ]
  },
  {
   "cell_type": "code",
   "execution_count": 145,
   "metadata": {},
   "outputs": [
    {
     "data": {
      "text/plain": [
       "Index(['ANO-MES', 'CO_NCM', 'CO_UNID', 'CO_PAIS', 'SG_UF_NCM', 'CO_VIA',\n",
       "       'CO_URF', 'QT_ESTAT', 'KG_LIQUIDO', 'VL_FOB', 'câmbio_mês_atual',\n",
       "       'câmbio_mês_anterior', 'VL_FOB/KG_LIQUIDO', 'count', 'q25', 'q75',\n",
       "       'iqr', 'lower', 'upper', 'eh_outlier', 'CO_NCM_final', 'CO_PAIS_final',\n",
       "       'SG_UF_NCM_final', 'CO_VIA_final'],\n",
       "      dtype='object')"
      ]
     },
     "execution_count": 145,
     "metadata": {},
     "output_type": "execute_result"
    }
   ],
   "source": [
    "# identificando colunas a excluir (usei o df4, pois a usar o df_encoded aparecia muitos nomes e atrapalhava a seleção)\n",
    "df4.columns"
   ]
  },
  {
   "cell_type": "code",
   "execution_count": 146,
   "metadata": {},
   "outputs": [],
   "source": [
    "# Exclusão das colunas das variáveis categóricas (que deram origem às variáveis dummie)\n",
    "df_encoded = df_encoded.drop(columns=['ANO-MES', 'CO_NCM', 'CO_UNID', 'CO_PAIS', 'SG_UF_NCM', 'CO_VIA',\n",
    "       'CO_URF', 'QT_ESTAT', 'KG_LIQUIDO', 'VL_FOB', 'câmbio_mês_atual',\n",
    "       'câmbio_mês_anterior', 'count', 'q25', 'q75',\n",
    "       'iqr', 'lower', 'upper', 'eh_outlier', 'CO_NCM_final', 'CO_PAIS_final',\n",
    "       'SG_UF_NCM_final', 'CO_VIA_final'])"
   ]
  },
  {
   "cell_type": "code",
   "execution_count": 147,
   "metadata": {},
   "outputs": [
    {
     "data": {
      "text/plain": [
       "Index(['VL_FOB/KG_LIQUIDO', 'Mês_2019-01', 'Mês_2019-02', 'Mês_2019-03',\n",
       "       'Mês_2019-04', 'Mês_2019-05', 'Mês_2019-06', 'Mês_2019-07',\n",
       "       'Mês_2019-08', 'Mês_2019-09',\n",
       "       ...\n",
       "       'UF_PE', 'UF_PR', 'UF_RJ', 'UF_RS', 'UF_SC', 'UF_SP', 'Modal_1',\n",
       "       'Modal_4', 'Modal_7', 'Modal_99'],\n",
       "      dtype='object', length=2913)"
      ]
     },
     "execution_count": 147,
     "metadata": {},
     "output_type": "execute_result"
    }
   ],
   "source": [
    "df_encoded.columns"
   ]
  },
  {
   "cell_type": "code",
   "execution_count": 148,
   "metadata": {},
   "outputs": [
    {
     "name": "stdout",
     "output_type": "stream",
     "text": [
      "<class 'pandas.core.frame.DataFrame'>\n",
      "Int64Index: 865951 entries, 0 to 978970\n",
      "Columns: 2913 entries, VL_FOB/KG_LIQUIDO to Modal_99\n",
      "dtypes: float64(1), uint8(2912)\n",
      "memory usage: 2.4 GB\n"
     ]
    }
   ],
   "source": [
    "df_encoded.info()"
   ]
  },
  {
   "cell_type": "markdown",
   "metadata": {},
   "source": [
    "Devido a problemas de falta de memória para o cálculo da correlação das variáveis do df_encoded com a variável alvo df_encoded [\"VL_FOB/KG_LIQUIDO\"], optou-se por fracionar o df_encoded, dividindo-o em 6 partes, mantendo-se, em todas elas, a variável alvo VL_FOB/KG_LIQUIDO e, desse forma, tentar calcular a correlação em partes (o importante seria manter a variável alvo, pois o que se busca é identificar quais as variáveis do df_encoded mais se relacionam com a variável alvo e, dessa forma, adotá-las para a implementação do modelo de ML)"
   ]
  },
  {
   "cell_type": "code",
   "execution_count": 149,
   "metadata": {},
   "outputs": [],
   "source": [
    "df_encoded1de6=df_encoded.iloc[:,:500]"
   ]
  },
  {
   "cell_type": "code",
   "execution_count": 150,
   "metadata": {},
   "outputs": [
    {
     "name": "stdout",
     "output_type": "stream",
     "text": [
      "<class 'pandas.core.frame.DataFrame'>\n",
      "Int64Index: 865951 entries, 0 to 978970\n",
      "Columns: 500 entries, VL_FOB/KG_LIQUIDO to NCM_29071100\n",
      "dtypes: float64(1), uint8(499)\n",
      "memory usage: 425.3 MB\n"
     ]
    }
   ],
   "source": [
    "df_encoded1de6.info()"
   ]
  },
  {
   "cell_type": "code",
   "execution_count": 151,
   "metadata": {},
   "outputs": [],
   "source": [
    "df_encoded2de6=df_encoded.iloc[:,500:1000]"
   ]
  },
  {
   "cell_type": "code",
   "execution_count": 152,
   "metadata": {},
   "outputs": [],
   "source": [
    "df_encoded2de6[\"VL_FOB/KG_LIQUIDO\"]=df_encoded[\"VL_FOB/KG_LIQUIDO\"] "
   ]
  },
  {
   "cell_type": "code",
   "execution_count": 153,
   "metadata": {},
   "outputs": [
    {
     "name": "stdout",
     "output_type": "stream",
     "text": [
      "<class 'pandas.core.frame.DataFrame'>\n",
      "Int64Index: 865951 entries, 0 to 978970\n",
      "Columns: 501 entries, NCM_29071200 to VL_FOB/KG_LIQUIDO\n",
      "dtypes: float64(1), uint8(500)\n",
      "memory usage: 426.1 MB\n"
     ]
    }
   ],
   "source": [
    "df_encoded2de6.info()"
   ]
  },
  {
   "cell_type": "code",
   "execution_count": 154,
   "metadata": {},
   "outputs": [],
   "source": [
    "df_encoded3de6=df_encoded.iloc[:,1000:1500]"
   ]
  },
  {
   "cell_type": "code",
   "execution_count": 155,
   "metadata": {},
   "outputs": [],
   "source": [
    "df_encoded3de6[\"VL_FOB/KG_LIQUIDO\"]=df_encoded[\"VL_FOB/KG_LIQUIDO\"] "
   ]
  },
  {
   "cell_type": "code",
   "execution_count": 156,
   "metadata": {},
   "outputs": [
    {
     "name": "stdout",
     "output_type": "stream",
     "text": [
      "<class 'pandas.core.frame.DataFrame'>\n",
      "Int64Index: 865951 entries, 0 to 978970\n",
      "Columns: 501 entries, NCM_33012922 to VL_FOB/KG_LIQUIDO\n",
      "dtypes: float64(1), uint8(500)\n",
      "memory usage: 426.1 MB\n"
     ]
    }
   ],
   "source": [
    "df_encoded3de6.info()"
   ]
  },
  {
   "cell_type": "code",
   "execution_count": 157,
   "metadata": {},
   "outputs": [],
   "source": [
    "df_encoded4de6=df_encoded.iloc[:,1500:2000]"
   ]
  },
  {
   "cell_type": "code",
   "execution_count": 158,
   "metadata": {},
   "outputs": [],
   "source": [
    "df_encoded4de6[\"VL_FOB/KG_LIQUIDO\"]=df_encoded[\"VL_FOB/KG_LIQUIDO\"] "
   ]
  },
  {
   "cell_type": "code",
   "execution_count": 159,
   "metadata": {},
   "outputs": [
    {
     "name": "stdout",
     "output_type": "stream",
     "text": [
      "<class 'pandas.core.frame.DataFrame'>\n",
      "Int64Index: 865951 entries, 0 to 978970\n",
      "Columns: 501 entries, NCM_46021100 to VL_FOB/KG_LIQUIDO\n",
      "dtypes: float64(1), uint8(500)\n",
      "memory usage: 426.1 MB\n"
     ]
    }
   ],
   "source": [
    "df_encoded4de6.info()"
   ]
  },
  {
   "cell_type": "code",
   "execution_count": 160,
   "metadata": {},
   "outputs": [],
   "source": [
    "df_encoded5de6=df_encoded.iloc[:,2000:2500]"
   ]
  },
  {
   "cell_type": "code",
   "execution_count": 161,
   "metadata": {},
   "outputs": [],
   "source": [
    "df_encoded5de6[\"VL_FOB/KG_LIQUIDO\"]=df_encoded[\"VL_FOB/KG_LIQUIDO\"] "
   ]
  },
  {
   "cell_type": "code",
   "execution_count": 162,
   "metadata": {},
   "outputs": [
    {
     "name": "stdout",
     "output_type": "stream",
     "text": [
      "<class 'pandas.core.frame.DataFrame'>\n",
      "Int64Index: 865951 entries, 0 to 978970\n",
      "Columns: 501 entries, NCM_72023000 to VL_FOB/KG_LIQUIDO\n",
      "dtypes: float64(1), uint8(500)\n",
      "memory usage: 426.1 MB\n"
     ]
    }
   ],
   "source": [
    "df_encoded5de6.info()"
   ]
  },
  {
   "cell_type": "code",
   "execution_count": 163,
   "metadata": {},
   "outputs": [],
   "source": [
    "df_encoded6de6=df_encoded.iloc[:,2500:]"
   ]
  },
  {
   "cell_type": "code",
   "execution_count": 164,
   "metadata": {},
   "outputs": [],
   "source": [
    "df_encoded6de6[\"VL_FOB/KG_LIQUIDO\"]=df_encoded[\"VL_FOB/KG_LIQUIDO\"] "
   ]
  },
  {
   "cell_type": "code",
   "execution_count": 165,
   "metadata": {},
   "outputs": [
    {
     "name": "stdout",
     "output_type": "stream",
     "text": [
      "<class 'pandas.core.frame.DataFrame'>\n",
      "Int64Index: 865951 entries, 0 to 978970\n",
      "Columns: 414 entries, NCM_84439929 to VL_FOB/KG_LIQUIDO\n",
      "dtypes: float64(1), uint8(413)\n",
      "memory usage: 354.3 MB\n"
     ]
    }
   ],
   "source": [
    "df_encoded6de6.info()"
   ]
  },
  {
   "cell_type": "code",
   "execution_count": null,
   "metadata": {},
   "outputs": [],
   "source": [
    "# Identificação das variáveis que mais se relacionam com a variável alvo (\"VL_FOB/KG_LIQUIDO\")\n",
    "#correlacoes = df_encoded.corr().abs()[\"VL_FOB/KG_LIQUIDO\"].sort_values()\n",
    "#correlacoes"
   ]
  },
  {
   "cell_type": "code",
   "execution_count": 166,
   "metadata": {},
   "outputs": [
    {
     "data": {
      "text/plain": [
       "NCM_28112990         0.000053\n",
       "NCM_28299050         0.000063\n",
       "NCM_29055990         0.000077\n",
       "NCM_28275100         0.000078\n",
       "NCM_13023100         0.000084\n",
       "                       ...   \n",
       "NCM_28444090         0.007092\n",
       "NCM_12093000         0.009104\n",
       "NCM_28459000         0.055148\n",
       "NCM_28439090         0.063845\n",
       "VL_FOB/KG_LIQUIDO    1.000000\n",
       "Name: VL_FOB/KG_LIQUIDO, Length: 500, dtype: float64"
      ]
     },
     "execution_count": 166,
     "metadata": {},
     "output_type": "execute_result"
    }
   ],
   "source": [
    "# como o cálculo das correlações para todo o df_encoded (código imediatamente acima) deu erro, faremos por partes:\n",
    "correlacoes1de6 = df_encoded1de6.corr().abs()[\"VL_FOB/KG_LIQUIDO\"].sort_values()\n",
    "correlacoes1de6"
   ]
  },
  {
   "cell_type": "code",
   "execution_count": 167,
   "metadata": {},
   "outputs": [
    {
     "data": {
      "text/plain": [
       "NCM_29183010         0.000002\n",
       "NCM_33012921         0.000012\n",
       "NCM_29224940         0.000013\n",
       "NCM_29209049         0.000029\n",
       "NCM_30023090         0.000043\n",
       "                       ...   \n",
       "NCM_29419049         0.048348\n",
       "NCM_30049068         0.103175\n",
       "NCM_30049019         0.106039\n",
       "NCM_30021520         0.116564\n",
       "VL_FOB/KG_LIQUIDO    1.000000\n",
       "Name: VL_FOB/KG_LIQUIDO, Length: 501, dtype: float64"
      ]
     },
     "execution_count": 167,
     "metadata": {},
     "output_type": "execute_result"
    }
   ],
   "source": [
    "correlacoes2de6 = df_encoded2de6.corr().abs()[\"VL_FOB/KG_LIQUIDO\"].sort_values()\n",
    "correlacoes2de6"
   ]
  },
  {
   "cell_type": "code",
   "execution_count": 168,
   "metadata": {},
   "outputs": [
    {
     "data": {
      "text/plain": [
       "NCM_33013000         0.000029\n",
       "NCM_40101900         0.000044\n",
       "NCM_40169300         0.000049\n",
       "NCM_38151210         0.000077\n",
       "NCM_42010010         0.000106\n",
       "                       ...   \n",
       "NCM_40169990         0.004129\n",
       "NCM_39269090         0.005041\n",
       "NCM_39269061         0.005825\n",
       "NCM_38180010         0.018059\n",
       "VL_FOB/KG_LIQUIDO    1.000000\n",
       "Name: VL_FOB/KG_LIQUIDO, Length: 501, dtype: float64"
      ]
     },
     "execution_count": 168,
     "metadata": {},
     "output_type": "execute_result"
    }
   ],
   "source": [
    "correlacoes3de6 = df_encoded3de6.corr().abs()[\"VL_FOB/KG_LIQUIDO\"].sort_values()\n",
    "correlacoes3de6"
   ]
  },
  {
   "cell_type": "code",
   "execution_count": 169,
   "metadata": {},
   "outputs": [
    {
     "data": {
      "text/plain": [
       "NCM_56012190         2.706013e-07\n",
       "NCM_68132000         1.742183e-06\n",
       "NCM_56022100         2.016160e-06\n",
       "NCM_67030000         3.785461e-06\n",
       "NCM_71171100         3.720488e-05\n",
       "                         ...     \n",
       "NCM_69091230         3.974536e-03\n",
       "NCM_71162010         1.646431e-02\n",
       "NCM_71131100         1.653205e-02\n",
       "NCM_71131900         5.086040e-02\n",
       "VL_FOB/KG_LIQUIDO    1.000000e+00\n",
       "Name: VL_FOB/KG_LIQUIDO, Length: 501, dtype: float64"
      ]
     },
     "execution_count": 169,
     "metadata": {},
     "output_type": "execute_result"
    }
   ],
   "source": [
    "correlacoes4de6 = df_encoded4de6.corr().abs()[\"VL_FOB/KG_LIQUIDO\"].sort_values()\n",
    "correlacoes4de6"
   ]
  },
  {
   "cell_type": "code",
   "execution_count": 170,
   "metadata": {},
   "outputs": [
    {
     "data": {
      "text/plain": [
       "NCM_74199990         0.000003\n",
       "NCM_81122900         0.000004\n",
       "NCM_82075019         0.000006\n",
       "NCM_74101200         0.000018\n",
       "NCM_84439923         0.000031\n",
       "                       ...   \n",
       "NCM_84229090         0.005566\n",
       "NCM_75089090         0.008395\n",
       "NCM_84119900         0.011326\n",
       "NCM_84119100         0.067077\n",
       "VL_FOB/KG_LIQUIDO    1.000000\n",
       "Name: VL_FOB/KG_LIQUIDO, Length: 501, dtype: float64"
      ]
     },
     "execution_count": 170,
     "metadata": {},
     "output_type": "execute_result"
    }
   ],
   "source": [
    "correlacoes5de6 = df_encoded5de6.corr().abs()[\"VL_FOB/KG_LIQUIDO\"].sort_values()\n",
    "correlacoes5de6"
   ]
  },
  {
   "cell_type": "code",
   "execution_count": 171,
   "metadata": {},
   "outputs": [
    {
     "data": {
      "text/plain": [
       "NCM_84669330         0.000015\n",
       "NCM_91149090         0.000023\n",
       "NCM_91119090         0.000024\n",
       "NCM_84485930         0.000027\n",
       "NCM_91139000         0.000040\n",
       "                       ...   \n",
       "NCM_90219011         0.048752\n",
       "Modal_1              0.066183\n",
       "NCM_99999999         0.070259\n",
       "Modal_4              0.071138\n",
       "VL_FOB/KG_LIQUIDO    1.000000\n",
       "Name: VL_FOB/KG_LIQUIDO, Length: 414, dtype: float64"
      ]
     },
     "execution_count": 171,
     "metadata": {},
     "output_type": "execute_result"
    }
   ],
   "source": [
    "correlacoes6de6 = df_encoded6de6.corr().abs()[\"VL_FOB/KG_LIQUIDO\"].sort_values()\n",
    "correlacoes6de6"
   ]
  },
  {
   "cell_type": "code",
   "execution_count": 172,
   "metadata": {},
   "outputs": [],
   "source": [
    "correlacoes = pd.concat([correlacoes1de6, correlacoes2de6, correlacoes3de6, correlacoes4de6, correlacoes5de6, correlacoes6de6])"
   ]
  },
  {
   "cell_type": "code",
   "execution_count": 173,
   "metadata": {},
   "outputs": [],
   "source": [
    "correlacoes.drop_duplicates(inplace=True)"
   ]
  },
  {
   "cell_type": "code",
   "execution_count": 174,
   "metadata": {},
   "outputs": [
    {
     "data": {
      "text/plain": [
       "VL_FOB/KG_LIQUIDO    1.000000\n",
       "NCM_30021520         0.116564\n",
       "NCM_30049019         0.106039\n",
       "NCM_30049068         0.103175\n",
       "Modal_4              0.071138\n",
       "NCM_99999999         0.070259\n",
       "NCM_84119100         0.067077\n",
       "Modal_1              0.066183\n",
       "NCM_28439090         0.063845\n",
       "NCM_28459000         0.055148\n",
       "NCM_71131900         0.050860\n",
       "NCM_90219011         0.048752\n",
       "NCM_29419049         0.048348\n",
       "UF_GO                0.033204\n",
       "NCM_29372399         0.030784\n",
       "NCM_30021590         0.028908\n",
       "NCM_90211020         0.027144\n",
       "NCM_29372290         0.022050\n",
       "NCM_29372349         0.021659\n",
       "NCM_88033000         0.018648\n",
       "Name: VL_FOB/KG_LIQUIDO, dtype: float64"
      ]
     },
     "execution_count": 174,
     "metadata": {},
     "output_type": "execute_result"
    }
   ],
   "source": [
    "correlacoes.sort_values(ascending=False).head(20)"
   ]
  },
  {
   "cell_type": "code",
   "execution_count": 175,
   "metadata": {},
   "outputs": [
    {
     "data": {
      "text/plain": [
       "Index(['NCM_28459000', 'NCM_28439090', 'VL_FOB/KG_LIQUIDO', 'NCM_29372349',\n",
       "       'NCM_29372290', 'NCM_30021590', 'NCM_29372399', 'NCM_29419049',\n",
       "       'NCM_30049068', 'NCM_30049019', 'NCM_30021520', 'NCM_71131900',\n",
       "       'NCM_84119100', 'NCM_90211020', 'UF_GO', 'NCM_90219011', 'Modal_1',\n",
       "       'NCM_99999999', 'Modal_4'],\n",
       "      dtype='object')"
      ]
     },
     "execution_count": 175,
     "metadata": {},
     "output_type": "execute_result"
    }
   ],
   "source": [
    "# Identificando as features com as maiores correlações (maior ou igual a 0,02) para serem mantidas e excluídas as demais\n",
    "(correlacoes[correlacoes >= 0.02]).index"
   ]
  },
  {
   "cell_type": "code",
   "execution_count": 177,
   "metadata": {},
   "outputs": [
    {
     "name": "stdout",
     "output_type": "stream",
     "text": [
      "<class 'pandas.core.frame.DataFrame'>\n",
      "Int64Index: 865951 entries, 0 to 978970\n",
      "Data columns (total 19 columns):\n",
      "NCM_28459000         865951 non-null uint8\n",
      "NCM_28439090         865951 non-null uint8\n",
      "VL_FOB/KG_LIQUIDO    865951 non-null float64\n",
      "NCM_29372349         865951 non-null uint8\n",
      "NCM_29372290         865951 non-null uint8\n",
      "NCM_30021590         865951 non-null uint8\n",
      "NCM_29372399         865951 non-null uint8\n",
      "NCM_29419049         865951 non-null uint8\n",
      "NCM_30049068         865951 non-null uint8\n",
      "NCM_30049019         865951 non-null uint8\n",
      "NCM_30021520         865951 non-null uint8\n",
      "NCM_71131900         865951 non-null uint8\n",
      "NCM_84119100         865951 non-null uint8\n",
      "NCM_90211020         865951 non-null uint8\n",
      "UF_GO                865951 non-null uint8\n",
      "NCM_90219011         865951 non-null uint8\n",
      "Modal_1              865951 non-null uint8\n",
      "NCM_99999999         865951 non-null uint8\n",
      "Modal_4              865951 non-null uint8\n",
      "dtypes: float64(1), uint8(18)\n",
      "memory usage: 28.1 MB\n"
     ]
    }
   ],
   "source": [
    "df5 = df_encoded[(correlacoes[correlacoes >= 0.02]).index]\n",
    "df5.info()"
   ]
  },
  {
   "cell_type": "code",
   "execution_count": 178,
   "metadata": {},
   "outputs": [],
   "source": [
    "#Checar se existe correlação entre as features selecionadas\n",
    "import matplotlib.pyplot as plt\n",
    "import seaborn as sns\n",
    "%matplotlib inline"
   ]
  },
  {
   "cell_type": "code",
   "execution_count": 180,
   "metadata": {},
   "outputs": [
    {
     "data": {
      "text/plain": [
       "<matplotlib.axes._subplots.AxesSubplot at 0x14a0a4bd0>"
      ]
     },
     "execution_count": 180,
     "metadata": {},
     "output_type": "execute_result"
    },
    {
     "data": {
      "image/png": "[encoded data removed]",
      "text/plain": [
       "<Figure size 432x288 with 2 Axes>"
      ]
     },
     "metadata": {
      "needs_background": "light"
     },
     "output_type": "display_data"
    }
   ],
   "source": [
    "sns.heatmap(df5.corr(),cmap=\"coolwarm\", annot=False )"
   ]
  },
  {
   "cell_type": "code",
   "execution_count": 181,
   "metadata": {},
   "outputs": [],
   "source": [
    "#Considerando que as Modal_1 e Modal_4 estão fortemente relacionadas, irei retirar uma delas antes da elaboração do modelo\n",
    "df5=df5.drop(columns=\"Modal_4\")"
   ]
  },
  {
   "cell_type": "markdown",
   "metadata": {},
   "source": [
    "# Dividindo o dataset em \"base de teste\" e \"base de treinamento\""
   ]
  },
  {
   "cell_type": "code",
   "execution_count": 182,
   "metadata": {},
   "outputs": [
    {
     "data": {
      "text/plain": [
       "Index(['NCM_28459000', 'NCM_28439090', 'VL_FOB/KG_LIQUIDO', 'NCM_29372349',\n",
       "       'NCM_29372290', 'NCM_30021590', 'NCM_29372399', 'NCM_29419049',\n",
       "       'NCM_30049068', 'NCM_30049019', 'NCM_30021520', 'NCM_71131900',\n",
       "       'NCM_84119100', 'NCM_90211020', 'UF_GO', 'NCM_90219011', 'Modal_1',\n",
       "       'NCM_99999999'],\n",
       "      dtype='object')"
      ]
     },
     "execution_count": 182,
     "metadata": {},
     "output_type": "execute_result"
    }
   ],
   "source": [
    "df5.columns"
   ]
  },
  {
   "cell_type": "code",
   "execution_count": 183,
   "metadata": {},
   "outputs": [],
   "source": [
    "x = df5[['NCM_28459000', 'NCM_28439090', 'NCM_29372349',\n",
    "       'NCM_29372290', 'NCM_30021590', 'NCM_29372399', 'NCM_29419049',\n",
    "       'NCM_30049068', 'NCM_30049019', 'NCM_30021520', 'NCM_71131900',\n",
    "       'NCM_84119100', 'NCM_90211020', 'UF_GO', 'NCM_90219011', 'Modal_1',\n",
    "       'NCM_99999999']]\n",
    "y = df5['VL_FOB/KG_LIQUIDO']"
   ]
  },
  {
   "cell_type": "code",
   "execution_count": 184,
   "metadata": {},
   "outputs": [],
   "source": [
    "from sklearn.model_selection import train_test_split"
   ]
  },
  {
   "cell_type": "code",
   "execution_count": 185,
   "metadata": {},
   "outputs": [],
   "source": [
    "x_train, x_test, y_train, y_test = train_test_split(x, y, test_size=0.1, random_state=16)"
   ]
  },
  {
   "cell_type": "markdown",
   "metadata": {},
   "source": [
    "# Treinando o modelo LinearRegression"
   ]
  },
  {
   "cell_type": "code",
   "execution_count": 186,
   "metadata": {},
   "outputs": [],
   "source": [
    "from sklearn.linear_model import LinearRegression"
   ]
  },
  {
   "cell_type": "code",
   "execution_count": 187,
   "metadata": {},
   "outputs": [],
   "source": [
    "lm = LinearRegression()"
   ]
  },
  {
   "cell_type": "code",
   "execution_count": 188,
   "metadata": {},
   "outputs": [
    {
     "data": {
      "text/plain": [
       "LinearRegression(copy_X=True, fit_intercept=True, n_jobs=None, normalize=False)"
      ]
     },
     "execution_count": 188,
     "metadata": {},
     "output_type": "execute_result"
    }
   ],
   "source": [
    "lm.fit(x_train,y_train)"
   ]
  },
  {
   "cell_type": "code",
   "execution_count": 189,
   "metadata": {},
   "outputs": [
    {
     "name": "stdout",
     "output_type": "stream",
     "text": [
      "174.75778028869115\n"
     ]
    }
   ],
   "source": [
    "# impressão do intercepto\n",
    "print(lm.intercept_)"
   ]
  },
  {
   "cell_type": "code",
   "execution_count": 190,
   "metadata": {},
   "outputs": [
    {
     "data": {
      "text/html": [
       "<div>\n",
       "<style scoped>\n",
       "    .dataframe tbody tr th:only-of-type {\n",
       "        vertical-align: middle;\n",
       "    }\n",
       "\n",
       "    .dataframe tbody tr th {\n",
       "        vertical-align: top;\n",
       "    }\n",
       "\n",
       "    .dataframe thead th {\n",
       "        text-align: right;\n",
       "    }\n",
       "</style>\n",
       "<table border=\"1\" class=\"dataframe\">\n",
       "  <thead>\n",
       "    <tr style=\"text-align: right;\">\n",
       "      <th></th>\n",
       "      <th>Coeficiente</th>\n",
       "    </tr>\n",
       "  </thead>\n",
       "  <tbody>\n",
       "    <tr>\n",
       "      <td>NCM_28459000</td>\n",
       "      <td>11376.588820</td>\n",
       "    </tr>\n",
       "    <tr>\n",
       "      <td>NCM_28439090</td>\n",
       "      <td>13958.976437</td>\n",
       "    </tr>\n",
       "    <tr>\n",
       "      <td>NCM_29372349</td>\n",
       "      <td>3711.697087</td>\n",
       "    </tr>\n",
       "    <tr>\n",
       "      <td>NCM_29372290</td>\n",
       "      <td>2602.816291</td>\n",
       "    </tr>\n",
       "    <tr>\n",
       "      <td>NCM_30021590</td>\n",
       "      <td>1839.251771</td>\n",
       "    </tr>\n",
       "    <tr>\n",
       "      <td>NCM_29372399</td>\n",
       "      <td>5371.928036</td>\n",
       "    </tr>\n",
       "    <tr>\n",
       "      <td>NCM_29419049</td>\n",
       "      <td>10760.749437</td>\n",
       "    </tr>\n",
       "    <tr>\n",
       "      <td>NCM_30049068</td>\n",
       "      <td>15765.831346</td>\n",
       "    </tr>\n",
       "    <tr>\n",
       "      <td>NCM_30049019</td>\n",
       "      <td>14805.332713</td>\n",
       "    </tr>\n",
       "    <tr>\n",
       "      <td>NCM_30021520</td>\n",
       "      <td>22083.045422</td>\n",
       "    </tr>\n",
       "    <tr>\n",
       "      <td>NCM_71131900</td>\n",
       "      <td>9624.345204</td>\n",
       "    </tr>\n",
       "    <tr>\n",
       "      <td>NCM_84119100</td>\n",
       "      <td>5152.112681</td>\n",
       "    </tr>\n",
       "    <tr>\n",
       "      <td>NCM_90211020</td>\n",
       "      <td>1657.868341</td>\n",
       "    </tr>\n",
       "    <tr>\n",
       "      <td>UF_GO</td>\n",
       "      <td>276.894944</td>\n",
       "    </tr>\n",
       "    <tr>\n",
       "      <td>NCM_90219011</td>\n",
       "      <td>8926.195166</td>\n",
       "    </tr>\n",
       "    <tr>\n",
       "      <td>Modal_1</td>\n",
       "      <td>-185.210353</td>\n",
       "    </tr>\n",
       "    <tr>\n",
       "      <td>NCM_99999999</td>\n",
       "      <td>528.874540</td>\n",
       "    </tr>\n",
       "  </tbody>\n",
       "</table>\n",
       "</div>"
      ],
      "text/plain": [
       "               Coeficiente\n",
       "NCM_28459000  11376.588820\n",
       "NCM_28439090  13958.976437\n",
       "NCM_29372349   3711.697087\n",
       "NCM_29372290   2602.816291\n",
       "NCM_30021590   1839.251771\n",
       "NCM_29372399   5371.928036\n",
       "NCM_29419049  10760.749437\n",
       "NCM_30049068  15765.831346\n",
       "NCM_30049019  14805.332713\n",
       "NCM_30021520  22083.045422\n",
       "NCM_71131900   9624.345204\n",
       "NCM_84119100   5152.112681\n",
       "NCM_90211020   1657.868341\n",
       "UF_GO           276.894944\n",
       "NCM_90219011   8926.195166\n",
       "Modal_1        -185.210353\n",
       "NCM_99999999    528.874540"
      ]
     },
     "execution_count": 190,
     "metadata": {},
     "output_type": "execute_result"
    }
   ],
   "source": [
    "# impressão dos coeficientes\n",
    "coeff_df = pd.DataFrame(lm.coef_,x.columns,columns=['Coeficiente'])\n",
    "coeff_df"
   ]
  },
  {
   "cell_type": "code",
   "execution_count": 191,
   "metadata": {},
   "outputs": [],
   "source": [
    "# realizando as predições\n",
    "predicoesLR = lm.predict(x_test)"
   ]
  },
  {
   "cell_type": "markdown",
   "metadata": {},
   "source": [
    "# Treinando o modelo Random Forest Regressor"
   ]
  },
  {
   "cell_type": "code",
   "execution_count": 192,
   "metadata": {},
   "outputs": [
    {
     "data": {
      "text/plain": [
       "RandomForestRegressor(bootstrap=True, criterion='mse', max_depth=None,\n",
       "                      max_features='auto', max_leaf_nodes=None,\n",
       "                      min_impurity_decrease=0.0, min_impurity_split=None,\n",
       "                      min_samples_leaf=1, min_samples_split=2,\n",
       "                      min_weight_fraction_leaf=0.0, n_estimators=100,\n",
       "                      n_jobs=None, oob_score=False, random_state=None,\n",
       "                      verbose=0, warm_start=False)"
      ]
     },
     "execution_count": 192,
     "metadata": {},
     "output_type": "execute_result"
    }
   ],
   "source": [
    "from sklearn.ensemble import RandomForestRegressor\n",
    "rfr = RandomForestRegressor(n_estimators=100)\n",
    "rfr.fit(x_train, y_train)"
   ]
  },
  {
   "cell_type": "code",
   "execution_count": 193,
   "metadata": {},
   "outputs": [],
   "source": [
    "predicoesRFR = rfr.predict(x_test)"
   ]
  },
  {
   "cell_type": "markdown",
   "metadata": {},
   "source": [
    "# Treinando o modelo Gradient Boosting Regressor"
   ]
  },
  {
   "cell_type": "code",
   "execution_count": 194,
   "metadata": {},
   "outputs": [],
   "source": [
    "from sklearn.ensemble import GradientBoostingRegressor"
   ]
  },
  {
   "cell_type": "code",
   "execution_count": 195,
   "metadata": {},
   "outputs": [
    {
     "data": {
      "text/plain": [
       "GradientBoostingRegressor(alpha=0.9, criterion='friedman_mse', init=None,\n",
       "                          learning_rate=0.1, loss='ls', max_depth=3,\n",
       "                          max_features=None, max_leaf_nodes=None,\n",
       "                          min_impurity_decrease=0.0, min_impurity_split=None,\n",
       "                          min_samples_leaf=1, min_samples_split=2,\n",
       "                          min_weight_fraction_leaf=0.0, n_estimators=100,\n",
       "                          n_iter_no_change=None, presort='auto',\n",
       "                          random_state=None, subsample=1.0, tol=0.0001,\n",
       "                          validation_fraction=0.1, verbose=0, warm_start=False)"
      ]
     },
     "execution_count": 195,
     "metadata": {},
     "output_type": "execute_result"
    }
   ],
   "source": [
    "gbr = GradientBoostingRegressor()\n",
    "gbr.fit(x_train, y_train)"
   ]
  },
  {
   "cell_type": "code",
   "execution_count": 196,
   "metadata": {},
   "outputs": [],
   "source": [
    "predicoesGBR = gbr.predict(x_test)"
   ]
  },
  {
   "cell_type": "markdown",
   "metadata": {},
   "source": [
    "# Avaliando os modelos"
   ]
  },
  {
   "cell_type": "markdown",
   "metadata": {},
   "source": [
    "#### Root mean squared error - RMSE"
   ]
  },
  {
   "cell_type": "code",
   "execution_count": 197,
   "metadata": {},
   "outputs": [],
   "source": [
    "from math import sqrt\n",
    "from sklearn.metrics import mean_squared_error"
   ]
  },
  {
   "cell_type": "code",
   "execution_count": 198,
   "metadata": {},
   "outputs": [],
   "source": [
    "def rmse(y_true, y_pred):\n",
    "    return sqrt(mean_squared_error(y_true, y_pred))"
   ]
  },
  {
   "cell_type": "code",
   "execution_count": 199,
   "metadata": {},
   "outputs": [
    {
     "data": {
      "text/plain": [
       "1496.2050680536272"
      ]
     },
     "execution_count": 199,
     "metadata": {},
     "output_type": "execute_result"
    }
   ],
   "source": [
    "RMSE_LR = rmse(y_test,predicoesLR)\n",
    "RMSE_LR"
   ]
  },
  {
   "cell_type": "code",
   "execution_count": 200,
   "metadata": {},
   "outputs": [
    {
     "data": {
      "text/plain": [
       "1487.2120456536845"
      ]
     },
     "execution_count": 200,
     "metadata": {},
     "output_type": "execute_result"
    }
   ],
   "source": [
    "RMSE_RFR = rmse(y_test,predicoesRFR)\n",
    "RMSE_RFR"
   ]
  },
  {
   "cell_type": "code",
   "execution_count": 201,
   "metadata": {
    "scrolled": false
   },
   "outputs": [
    {
     "data": {
      "text/plain": [
       "1485.9811303883655"
      ]
     },
     "execution_count": 201,
     "metadata": {},
     "output_type": "execute_result"
    }
   ],
   "source": [
    "RMSE_GBR = rmse(y_test,predicoesGBR)\n",
    "RMSE_GBR"
   ]
  },
  {
   "cell_type": "markdown",
   "metadata": {},
   "source": [
    "#### Mean absolute error - MAE"
   ]
  },
  {
   "cell_type": "code",
   "execution_count": 202,
   "metadata": {},
   "outputs": [],
   "source": [
    "from sklearn.metrics import mean_absolute_error"
   ]
  },
  {
   "cell_type": "code",
   "execution_count": 203,
   "metadata": {},
   "outputs": [
    {
     "data": {
      "text/plain": [
       "151.86941976665204"
      ]
     },
     "execution_count": 203,
     "metadata": {},
     "output_type": "execute_result"
    }
   ],
   "source": [
    "MAE_LR=mean_absolute_error(y_test, predicoesLR)\n",
    "MAE_LR"
   ]
  },
  {
   "cell_type": "code",
   "execution_count": 204,
   "metadata": {},
   "outputs": [
    {
     "data": {
      "text/plain": [
       "132.6574867086767"
      ]
     },
     "execution_count": 204,
     "metadata": {},
     "output_type": "execute_result"
    }
   ],
   "source": [
    "MAE_RFR=mean_absolute_error(y_test, predicoesRFR)\n",
    "MAE_RFR"
   ]
  },
  {
   "cell_type": "code",
   "execution_count": 205,
   "metadata": {},
   "outputs": [
    {
     "data": {
      "text/plain": [
       "132.6568811047286"
      ]
     },
     "execution_count": 205,
     "metadata": {},
     "output_type": "execute_result"
    }
   ],
   "source": [
    "MAE_GBR=mean_absolute_error(y_test, predicoesGBR)\n",
    "MAE_GBR"
   ]
  },
  {
   "cell_type": "markdown",
   "metadata": {},
   "source": [
    "#### Mean squared error - MSE"
   ]
  },
  {
   "cell_type": "code",
   "execution_count": 206,
   "metadata": {},
   "outputs": [],
   "source": [
    "from sklearn.metrics import mean_absolute_error"
   ]
  },
  {
   "cell_type": "code",
   "execution_count": 207,
   "metadata": {},
   "outputs": [
    {
     "data": {
      "text/plain": [
       "2238629.605669359"
      ]
     },
     "execution_count": 207,
     "metadata": {},
     "output_type": "execute_result"
    }
   ],
   "source": [
    "MSE_LR=mean_squared_error(y_test, predicoesLR)\n",
    "MSE_LR"
   ]
  },
  {
   "cell_type": "code",
   "execution_count": 208,
   "metadata": {},
   "outputs": [
    {
     "data": {
      "text/plain": [
       "2211799.668737417"
      ]
     },
     "execution_count": 208,
     "metadata": {},
     "output_type": "execute_result"
    }
   ],
   "source": [
    "MSE_RFR=mean_squared_error(y_test, predicoesRFR)\n",
    "MSE_RFR"
   ]
  },
  {
   "cell_type": "code",
   "execution_count": 209,
   "metadata": {},
   "outputs": [
    {
     "data": {
      "text/plain": [
       "2208139.9198702844"
      ]
     },
     "execution_count": 209,
     "metadata": {},
     "output_type": "execute_result"
    }
   ],
   "source": [
    "MSE_GBR=mean_squared_error(y_test, predicoesGBR)\n",
    "MSE_GBR"
   ]
  },
  {
   "cell_type": "markdown",
   "metadata": {},
   "source": [
    "#### Coeficente de determinação - R²"
   ]
  },
  {
   "cell_type": "code",
   "execution_count": 210,
   "metadata": {},
   "outputs": [],
   "source": [
    "from sklearn.metrics import r2_score"
   ]
  },
  {
   "cell_type": "code",
   "execution_count": 211,
   "metadata": {},
   "outputs": [
    {
     "data": {
      "text/plain": [
       "0.04599063681947091"
      ]
     },
     "execution_count": 211,
     "metadata": {},
     "output_type": "execute_result"
    }
   ],
   "source": [
    "R2_LR=r2_score(y_test, predicoesLR)\n",
    "R2_LR"
   ]
  },
  {
   "cell_type": "code",
   "execution_count": 212,
   "metadata": {},
   "outputs": [
    {
     "data": {
      "text/plain": [
       "0.0574244224630599"
      ]
     },
     "execution_count": 212,
     "metadata": {},
     "output_type": "execute_result"
    }
   ],
   "source": [
    "R2_RFR=r2_score(y_test, predicoesRFR)\n",
    "R2_RFR"
   ]
  },
  {
   "cell_type": "code",
   "execution_count": 213,
   "metadata": {},
   "outputs": [
    {
     "data": {
      "text/plain": [
       "0.05898405281785002"
      ]
     },
     "execution_count": 213,
     "metadata": {},
     "output_type": "execute_result"
    }
   ],
   "source": [
    "R2_GBR=r2_score(y_test, predicoesGBR)\n",
    "R2_GBR"
   ]
  }
 ],
 "metadata": {
  "kernelspec": {
   "display_name": "Python 3",
   "language": "python",
   "name": "python3"
  },
  "language_info": {
   "codemirror_mode": {
    "name": "ipython",
    "version": 3
   },
   "file_extension": ".py",
   "mimetype": "text/x-python",
   "name": "python",
   "nbconvert_exporter": "python",
   "pygments_lexer": "ipython3",
   "version": "3.8.5"
  }
 },
 "nbformat": 4,
 "nbformat_minor": 4
}
